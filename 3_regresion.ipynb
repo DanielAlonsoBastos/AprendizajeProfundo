{
  "nbformat": 4,
  "nbformat_minor": 0,
  "metadata": {
    "colab": {
      "provenance": [],
      "collapsed_sections": [
        "qJ9m3DcYh6yp",
        "6z1nqEE_jCfr",
        "m8jIviKFjT5z",
        "5bIys0chjuJj",
        "PC6ub3y4tlnM",
        "xHT4sYF_1MwR",
        "h5hnkojI1z1i",
        "P8NTNfLYAdDR",
        "maaKl_gaBYCF",
        "YBrJ-0x9ZCVb",
        "ZOTMD5ddeyzE",
        "LQNRTPyBvn_U",
        "kS2t02pP2CPe"
      ],
      "authorship_tag": "ABX9TyP56rFE/rSHGe4fgDLQ6uTy",
      "include_colab_link": true
    },
    "kernelspec": {
      "name": "python3",
      "display_name": "Python 3"
    },
    "language_info": {
      "name": "python"
    },
    "widgets": {
      "application/vnd.jupyter.widget-state+json": {
        "9f28305940924cdd870ad0cb8ddbc7ad": {
          "model_module": "@jupyter-widgets/controls",
          "model_name": "HBoxModel",
          "model_module_version": "1.5.0",
          "state": {
            "_dom_classes": [],
            "_model_module": "@jupyter-widgets/controls",
            "_model_module_version": "1.5.0",
            "_model_name": "HBoxModel",
            "_view_count": null,
            "_view_module": "@jupyter-widgets/controls",
            "_view_module_version": "1.5.0",
            "_view_name": "HBoxView",
            "box_style": "",
            "children": [
              "IPY_MODEL_604016e0354f45f3899eaba99398cf5b",
              "IPY_MODEL_d25ed4296aae4b7abbca341ccf6925ce",
              "IPY_MODEL_0cbf962e311a4e7786a1250fad6c596e"
            ],
            "layout": "IPY_MODEL_8fc37a8ae5fb444499260b2c45548a64"
          }
        },
        "604016e0354f45f3899eaba99398cf5b": {
          "model_module": "@jupyter-widgets/controls",
          "model_name": "HTMLModel",
          "model_module_version": "1.5.0",
          "state": {
            "_dom_classes": [],
            "_model_module": "@jupyter-widgets/controls",
            "_model_module_version": "1.5.0",
            "_model_name": "HTMLModel",
            "_view_count": null,
            "_view_module": "@jupyter-widgets/controls",
            "_view_module_version": "1.5.0",
            "_view_name": "HTMLView",
            "description": "",
            "description_tooltip": null,
            "layout": "IPY_MODEL_8599a5bf5eef4c8f8dd6f4e3b0fc0fae",
            "placeholder": "​",
            "style": "IPY_MODEL_aad1af8205434a5aa02dcceb32126820",
            "value": "100%"
          }
        },
        "d25ed4296aae4b7abbca341ccf6925ce": {
          "model_module": "@jupyter-widgets/controls",
          "model_name": "FloatProgressModel",
          "model_module_version": "1.5.0",
          "state": {
            "_dom_classes": [],
            "_model_module": "@jupyter-widgets/controls",
            "_model_module_version": "1.5.0",
            "_model_name": "FloatProgressModel",
            "_view_count": null,
            "_view_module": "@jupyter-widgets/controls",
            "_view_module_version": "1.5.0",
            "_view_name": "ProgressView",
            "bar_style": "success",
            "description": "",
            "description_tooltip": null,
            "layout": "IPY_MODEL_1d7b7cec2e494202b44761bcde9a547b",
            "max": 5,
            "min": 0,
            "orientation": "horizontal",
            "style": "IPY_MODEL_0f1c4d23941547c69dd1c3768dc465f4",
            "value": 5
          }
        },
        "0cbf962e311a4e7786a1250fad6c596e": {
          "model_module": "@jupyter-widgets/controls",
          "model_name": "HTMLModel",
          "model_module_version": "1.5.0",
          "state": {
            "_dom_classes": [],
            "_model_module": "@jupyter-widgets/controls",
            "_model_module_version": "1.5.0",
            "_model_name": "HTMLModel",
            "_view_count": null,
            "_view_module": "@jupyter-widgets/controls",
            "_view_module_version": "1.5.0",
            "_view_name": "HTMLView",
            "description": "",
            "description_tooltip": null,
            "layout": "IPY_MODEL_95f33b2eb9304ad48a6527b954adb74a",
            "placeholder": "​",
            "style": "IPY_MODEL_9e69caa05dd6406982411cb2254299f6",
            "value": " 5/5 [00:00&lt;00:00, 27.25it/s]"
          }
        },
        "8fc37a8ae5fb444499260b2c45548a64": {
          "model_module": "@jupyter-widgets/base",
          "model_name": "LayoutModel",
          "model_module_version": "1.2.0",
          "state": {
            "_model_module": "@jupyter-widgets/base",
            "_model_module_version": "1.2.0",
            "_model_name": "LayoutModel",
            "_view_count": null,
            "_view_module": "@jupyter-widgets/base",
            "_view_module_version": "1.2.0",
            "_view_name": "LayoutView",
            "align_content": null,
            "align_items": null,
            "align_self": null,
            "border": null,
            "bottom": null,
            "display": null,
            "flex": null,
            "flex_flow": null,
            "grid_area": null,
            "grid_auto_columns": null,
            "grid_auto_flow": null,
            "grid_auto_rows": null,
            "grid_column": null,
            "grid_gap": null,
            "grid_row": null,
            "grid_template_areas": null,
            "grid_template_columns": null,
            "grid_template_rows": null,
            "height": null,
            "justify_content": null,
            "justify_items": null,
            "left": null,
            "margin": null,
            "max_height": null,
            "max_width": null,
            "min_height": null,
            "min_width": null,
            "object_fit": null,
            "object_position": null,
            "order": null,
            "overflow": null,
            "overflow_x": null,
            "overflow_y": null,
            "padding": null,
            "right": null,
            "top": null,
            "visibility": null,
            "width": null
          }
        },
        "8599a5bf5eef4c8f8dd6f4e3b0fc0fae": {
          "model_module": "@jupyter-widgets/base",
          "model_name": "LayoutModel",
          "model_module_version": "1.2.0",
          "state": {
            "_model_module": "@jupyter-widgets/base",
            "_model_module_version": "1.2.0",
            "_model_name": "LayoutModel",
            "_view_count": null,
            "_view_module": "@jupyter-widgets/base",
            "_view_module_version": "1.2.0",
            "_view_name": "LayoutView",
            "align_content": null,
            "align_items": null,
            "align_self": null,
            "border": null,
            "bottom": null,
            "display": null,
            "flex": null,
            "flex_flow": null,
            "grid_area": null,
            "grid_auto_columns": null,
            "grid_auto_flow": null,
            "grid_auto_rows": null,
            "grid_column": null,
            "grid_gap": null,
            "grid_row": null,
            "grid_template_areas": null,
            "grid_template_columns": null,
            "grid_template_rows": null,
            "height": null,
            "justify_content": null,
            "justify_items": null,
            "left": null,
            "margin": null,
            "max_height": null,
            "max_width": null,
            "min_height": null,
            "min_width": null,
            "object_fit": null,
            "object_position": null,
            "order": null,
            "overflow": null,
            "overflow_x": null,
            "overflow_y": null,
            "padding": null,
            "right": null,
            "top": null,
            "visibility": null,
            "width": null
          }
        },
        "aad1af8205434a5aa02dcceb32126820": {
          "model_module": "@jupyter-widgets/controls",
          "model_name": "DescriptionStyleModel",
          "model_module_version": "1.5.0",
          "state": {
            "_model_module": "@jupyter-widgets/controls",
            "_model_module_version": "1.5.0",
            "_model_name": "DescriptionStyleModel",
            "_view_count": null,
            "_view_module": "@jupyter-widgets/base",
            "_view_module_version": "1.2.0",
            "_view_name": "StyleView",
            "description_width": ""
          }
        },
        "1d7b7cec2e494202b44761bcde9a547b": {
          "model_module": "@jupyter-widgets/base",
          "model_name": "LayoutModel",
          "model_module_version": "1.2.0",
          "state": {
            "_model_module": "@jupyter-widgets/base",
            "_model_module_version": "1.2.0",
            "_model_name": "LayoutModel",
            "_view_count": null,
            "_view_module": "@jupyter-widgets/base",
            "_view_module_version": "1.2.0",
            "_view_name": "LayoutView",
            "align_content": null,
            "align_items": null,
            "align_self": null,
            "border": null,
            "bottom": null,
            "display": null,
            "flex": null,
            "flex_flow": null,
            "grid_area": null,
            "grid_auto_columns": null,
            "grid_auto_flow": null,
            "grid_auto_rows": null,
            "grid_column": null,
            "grid_gap": null,
            "grid_row": null,
            "grid_template_areas": null,
            "grid_template_columns": null,
            "grid_template_rows": null,
            "height": null,
            "justify_content": null,
            "justify_items": null,
            "left": null,
            "margin": null,
            "max_height": null,
            "max_width": null,
            "min_height": null,
            "min_width": null,
            "object_fit": null,
            "object_position": null,
            "order": null,
            "overflow": null,
            "overflow_x": null,
            "overflow_y": null,
            "padding": null,
            "right": null,
            "top": null,
            "visibility": null,
            "width": null
          }
        },
        "0f1c4d23941547c69dd1c3768dc465f4": {
          "model_module": "@jupyter-widgets/controls",
          "model_name": "ProgressStyleModel",
          "model_module_version": "1.5.0",
          "state": {
            "_model_module": "@jupyter-widgets/controls",
            "_model_module_version": "1.5.0",
            "_model_name": "ProgressStyleModel",
            "_view_count": null,
            "_view_module": "@jupyter-widgets/base",
            "_view_module_version": "1.2.0",
            "_view_name": "StyleView",
            "bar_color": null,
            "description_width": ""
          }
        },
        "95f33b2eb9304ad48a6527b954adb74a": {
          "model_module": "@jupyter-widgets/base",
          "model_name": "LayoutModel",
          "model_module_version": "1.2.0",
          "state": {
            "_model_module": "@jupyter-widgets/base",
            "_model_module_version": "1.2.0",
            "_model_name": "LayoutModel",
            "_view_count": null,
            "_view_module": "@jupyter-widgets/base",
            "_view_module_version": "1.2.0",
            "_view_name": "LayoutView",
            "align_content": null,
            "align_items": null,
            "align_self": null,
            "border": null,
            "bottom": null,
            "display": null,
            "flex": null,
            "flex_flow": null,
            "grid_area": null,
            "grid_auto_columns": null,
            "grid_auto_flow": null,
            "grid_auto_rows": null,
            "grid_column": null,
            "grid_gap": null,
            "grid_row": null,
            "grid_template_areas": null,
            "grid_template_columns": null,
            "grid_template_rows": null,
            "height": null,
            "justify_content": null,
            "justify_items": null,
            "left": null,
            "margin": null,
            "max_height": null,
            "max_width": null,
            "min_height": null,
            "min_width": null,
            "object_fit": null,
            "object_position": null,
            "order": null,
            "overflow": null,
            "overflow_x": null,
            "overflow_y": null,
            "padding": null,
            "right": null,
            "top": null,
            "visibility": null,
            "width": null
          }
        },
        "9e69caa05dd6406982411cb2254299f6": {
          "model_module": "@jupyter-widgets/controls",
          "model_name": "DescriptionStyleModel",
          "model_module_version": "1.5.0",
          "state": {
            "_model_module": "@jupyter-widgets/controls",
            "_model_module_version": "1.5.0",
            "_model_name": "DescriptionStyleModel",
            "_view_count": null,
            "_view_module": "@jupyter-widgets/base",
            "_view_module_version": "1.2.0",
            "_view_name": "StyleView",
            "description_width": ""
          }
        },
        "8eee7d5d7c0f4694a96a75bfbc3443ec": {
          "model_module": "@jupyter-widgets/controls",
          "model_name": "HBoxModel",
          "model_module_version": "1.5.0",
          "state": {
            "_dom_classes": [],
            "_model_module": "@jupyter-widgets/controls",
            "_model_module_version": "1.5.0",
            "_model_name": "HBoxModel",
            "_view_count": null,
            "_view_module": "@jupyter-widgets/controls",
            "_view_module_version": "1.5.0",
            "_view_name": "HBoxView",
            "box_style": "",
            "children": [
              "IPY_MODEL_b915dcdbd16a484aa689537ba044bed9",
              "IPY_MODEL_492f1b9229814c209a249ab139e29fec",
              "IPY_MODEL_b59b551196db44cab9bb9f65397cf2c7"
            ],
            "layout": "IPY_MODEL_253f418ddbb4496d8eb3c13e8339a652"
          }
        },
        "b915dcdbd16a484aa689537ba044bed9": {
          "model_module": "@jupyter-widgets/controls",
          "model_name": "HTMLModel",
          "model_module_version": "1.5.0",
          "state": {
            "_dom_classes": [],
            "_model_module": "@jupyter-widgets/controls",
            "_model_module_version": "1.5.0",
            "_model_name": "HTMLModel",
            "_view_count": null,
            "_view_module": "@jupyter-widgets/controls",
            "_view_module_version": "1.5.0",
            "_view_name": "HTMLView",
            "description": "",
            "description_tooltip": null,
            "layout": "IPY_MODEL_c005e627266a4af6b0af00890a4b46ef",
            "placeholder": "​",
            "style": "IPY_MODEL_48915b1ed552477b8df06c2ad20e1e43",
            "value": "100%"
          }
        },
        "492f1b9229814c209a249ab139e29fec": {
          "model_module": "@jupyter-widgets/controls",
          "model_name": "FloatProgressModel",
          "model_module_version": "1.5.0",
          "state": {
            "_dom_classes": [],
            "_model_module": "@jupyter-widgets/controls",
            "_model_module_version": "1.5.0",
            "_model_name": "FloatProgressModel",
            "_view_count": null,
            "_view_module": "@jupyter-widgets/controls",
            "_view_module_version": "1.5.0",
            "_view_name": "ProgressView",
            "bar_style": "success",
            "description": "",
            "description_tooltip": null,
            "layout": "IPY_MODEL_c91cfd1a10f442ce932620f8324af551",
            "max": 3,
            "min": 0,
            "orientation": "horizontal",
            "style": "IPY_MODEL_cc43b3e42568460c9b7de6273702b6c0",
            "value": 3
          }
        },
        "b59b551196db44cab9bb9f65397cf2c7": {
          "model_module": "@jupyter-widgets/controls",
          "model_name": "HTMLModel",
          "model_module_version": "1.5.0",
          "state": {
            "_dom_classes": [],
            "_model_module": "@jupyter-widgets/controls",
            "_model_module_version": "1.5.0",
            "_model_name": "HTMLModel",
            "_view_count": null,
            "_view_module": "@jupyter-widgets/controls",
            "_view_module_version": "1.5.0",
            "_view_name": "HTMLView",
            "description": "",
            "description_tooltip": null,
            "layout": "IPY_MODEL_b2b1e33a96dc4f999b7c01403326d0e3",
            "placeholder": "​",
            "style": "IPY_MODEL_829d21fc1647484895255f8037a30a7e",
            "value": " 3/3 [00:05&lt;00:00,  1.93s/it]"
          }
        },
        "253f418ddbb4496d8eb3c13e8339a652": {
          "model_module": "@jupyter-widgets/base",
          "model_name": "LayoutModel",
          "model_module_version": "1.2.0",
          "state": {
            "_model_module": "@jupyter-widgets/base",
            "_model_module_version": "1.2.0",
            "_model_name": "LayoutModel",
            "_view_count": null,
            "_view_module": "@jupyter-widgets/base",
            "_view_module_version": "1.2.0",
            "_view_name": "LayoutView",
            "align_content": null,
            "align_items": null,
            "align_self": null,
            "border": null,
            "bottom": null,
            "display": null,
            "flex": null,
            "flex_flow": null,
            "grid_area": null,
            "grid_auto_columns": null,
            "grid_auto_flow": null,
            "grid_auto_rows": null,
            "grid_column": null,
            "grid_gap": null,
            "grid_row": null,
            "grid_template_areas": null,
            "grid_template_columns": null,
            "grid_template_rows": null,
            "height": null,
            "justify_content": null,
            "justify_items": null,
            "left": null,
            "margin": null,
            "max_height": null,
            "max_width": null,
            "min_height": null,
            "min_width": null,
            "object_fit": null,
            "object_position": null,
            "order": null,
            "overflow": null,
            "overflow_x": null,
            "overflow_y": null,
            "padding": null,
            "right": null,
            "top": null,
            "visibility": null,
            "width": null
          }
        },
        "c005e627266a4af6b0af00890a4b46ef": {
          "model_module": "@jupyter-widgets/base",
          "model_name": "LayoutModel",
          "model_module_version": "1.2.0",
          "state": {
            "_model_module": "@jupyter-widgets/base",
            "_model_module_version": "1.2.0",
            "_model_name": "LayoutModel",
            "_view_count": null,
            "_view_module": "@jupyter-widgets/base",
            "_view_module_version": "1.2.0",
            "_view_name": "LayoutView",
            "align_content": null,
            "align_items": null,
            "align_self": null,
            "border": null,
            "bottom": null,
            "display": null,
            "flex": null,
            "flex_flow": null,
            "grid_area": null,
            "grid_auto_columns": null,
            "grid_auto_flow": null,
            "grid_auto_rows": null,
            "grid_column": null,
            "grid_gap": null,
            "grid_row": null,
            "grid_template_areas": null,
            "grid_template_columns": null,
            "grid_template_rows": null,
            "height": null,
            "justify_content": null,
            "justify_items": null,
            "left": null,
            "margin": null,
            "max_height": null,
            "max_width": null,
            "min_height": null,
            "min_width": null,
            "object_fit": null,
            "object_position": null,
            "order": null,
            "overflow": null,
            "overflow_x": null,
            "overflow_y": null,
            "padding": null,
            "right": null,
            "top": null,
            "visibility": null,
            "width": null
          }
        },
        "48915b1ed552477b8df06c2ad20e1e43": {
          "model_module": "@jupyter-widgets/controls",
          "model_name": "DescriptionStyleModel",
          "model_module_version": "1.5.0",
          "state": {
            "_model_module": "@jupyter-widgets/controls",
            "_model_module_version": "1.5.0",
            "_model_name": "DescriptionStyleModel",
            "_view_count": null,
            "_view_module": "@jupyter-widgets/base",
            "_view_module_version": "1.2.0",
            "_view_name": "StyleView",
            "description_width": ""
          }
        },
        "c91cfd1a10f442ce932620f8324af551": {
          "model_module": "@jupyter-widgets/base",
          "model_name": "LayoutModel",
          "model_module_version": "1.2.0",
          "state": {
            "_model_module": "@jupyter-widgets/base",
            "_model_module_version": "1.2.0",
            "_model_name": "LayoutModel",
            "_view_count": null,
            "_view_module": "@jupyter-widgets/base",
            "_view_module_version": "1.2.0",
            "_view_name": "LayoutView",
            "align_content": null,
            "align_items": null,
            "align_self": null,
            "border": null,
            "bottom": null,
            "display": null,
            "flex": null,
            "flex_flow": null,
            "grid_area": null,
            "grid_auto_columns": null,
            "grid_auto_flow": null,
            "grid_auto_rows": null,
            "grid_column": null,
            "grid_gap": null,
            "grid_row": null,
            "grid_template_areas": null,
            "grid_template_columns": null,
            "grid_template_rows": null,
            "height": null,
            "justify_content": null,
            "justify_items": null,
            "left": null,
            "margin": null,
            "max_height": null,
            "max_width": null,
            "min_height": null,
            "min_width": null,
            "object_fit": null,
            "object_position": null,
            "order": null,
            "overflow": null,
            "overflow_x": null,
            "overflow_y": null,
            "padding": null,
            "right": null,
            "top": null,
            "visibility": null,
            "width": null
          }
        },
        "cc43b3e42568460c9b7de6273702b6c0": {
          "model_module": "@jupyter-widgets/controls",
          "model_name": "ProgressStyleModel",
          "model_module_version": "1.5.0",
          "state": {
            "_model_module": "@jupyter-widgets/controls",
            "_model_module_version": "1.5.0",
            "_model_name": "ProgressStyleModel",
            "_view_count": null,
            "_view_module": "@jupyter-widgets/base",
            "_view_module_version": "1.2.0",
            "_view_name": "StyleView",
            "bar_color": null,
            "description_width": ""
          }
        },
        "b2b1e33a96dc4f999b7c01403326d0e3": {
          "model_module": "@jupyter-widgets/base",
          "model_name": "LayoutModel",
          "model_module_version": "1.2.0",
          "state": {
            "_model_module": "@jupyter-widgets/base",
            "_model_module_version": "1.2.0",
            "_model_name": "LayoutModel",
            "_view_count": null,
            "_view_module": "@jupyter-widgets/base",
            "_view_module_version": "1.2.0",
            "_view_name": "LayoutView",
            "align_content": null,
            "align_items": null,
            "align_self": null,
            "border": null,
            "bottom": null,
            "display": null,
            "flex": null,
            "flex_flow": null,
            "grid_area": null,
            "grid_auto_columns": null,
            "grid_auto_flow": null,
            "grid_auto_rows": null,
            "grid_column": null,
            "grid_gap": null,
            "grid_row": null,
            "grid_template_areas": null,
            "grid_template_columns": null,
            "grid_template_rows": null,
            "height": null,
            "justify_content": null,
            "justify_items": null,
            "left": null,
            "margin": null,
            "max_height": null,
            "max_width": null,
            "min_height": null,
            "min_width": null,
            "object_fit": null,
            "object_position": null,
            "order": null,
            "overflow": null,
            "overflow_x": null,
            "overflow_y": null,
            "padding": null,
            "right": null,
            "top": null,
            "visibility": null,
            "width": null
          }
        },
        "829d21fc1647484895255f8037a30a7e": {
          "model_module": "@jupyter-widgets/controls",
          "model_name": "DescriptionStyleModel",
          "model_module_version": "1.5.0",
          "state": {
            "_model_module": "@jupyter-widgets/controls",
            "_model_module_version": "1.5.0",
            "_model_name": "DescriptionStyleModel",
            "_view_count": null,
            "_view_module": "@jupyter-widgets/base",
            "_view_module_version": "1.2.0",
            "_view_name": "StyleView",
            "description_width": ""
          }
        },
        "77e6e13d137b4551b0b1bfdbb30ea2fe": {
          "model_module": "@jupyter-widgets/controls",
          "model_name": "HBoxModel",
          "model_module_version": "1.5.0",
          "state": {
            "_dom_classes": [],
            "_model_module": "@jupyter-widgets/controls",
            "_model_module_version": "1.5.0",
            "_model_name": "HBoxModel",
            "_view_count": null,
            "_view_module": "@jupyter-widgets/controls",
            "_view_module_version": "1.5.0",
            "_view_name": "HBoxView",
            "box_style": "",
            "children": [
              "IPY_MODEL_71383b67af3c41128494a507900343b3",
              "IPY_MODEL_f0590f461c3843ec891a4677b9daab4b",
              "IPY_MODEL_905ab27be0a44cc8ba390fe5c4274374"
            ],
            "layout": "IPY_MODEL_0a731eef5f1448aab80c3e2a7225afd8"
          }
        },
        "71383b67af3c41128494a507900343b3": {
          "model_module": "@jupyter-widgets/controls",
          "model_name": "HTMLModel",
          "model_module_version": "1.5.0",
          "state": {
            "_dom_classes": [],
            "_model_module": "@jupyter-widgets/controls",
            "_model_module_version": "1.5.0",
            "_model_name": "HTMLModel",
            "_view_count": null,
            "_view_module": "@jupyter-widgets/controls",
            "_view_module_version": "1.5.0",
            "_view_name": "HTMLView",
            "description": "",
            "description_tooltip": null,
            "layout": "IPY_MODEL_9e5365290ad049b8977032fed8c7d180",
            "placeholder": "​",
            "style": "IPY_MODEL_e6fe28a597bb4502bf71fb64c13b56d7",
            "value": "100%"
          }
        },
        "f0590f461c3843ec891a4677b9daab4b": {
          "model_module": "@jupyter-widgets/controls",
          "model_name": "FloatProgressModel",
          "model_module_version": "1.5.0",
          "state": {
            "_dom_classes": [],
            "_model_module": "@jupyter-widgets/controls",
            "_model_module_version": "1.5.0",
            "_model_name": "FloatProgressModel",
            "_view_count": null,
            "_view_module": "@jupyter-widgets/controls",
            "_view_module_version": "1.5.0",
            "_view_name": "ProgressView",
            "bar_style": "success",
            "description": "",
            "description_tooltip": null,
            "layout": "IPY_MODEL_3fe40dd49bbb4458b8a0e30b5004d145",
            "max": 5,
            "min": 0,
            "orientation": "horizontal",
            "style": "IPY_MODEL_0973b7210ff0407386d19d7861ea9dae",
            "value": 5
          }
        },
        "905ab27be0a44cc8ba390fe5c4274374": {
          "model_module": "@jupyter-widgets/controls",
          "model_name": "HTMLModel",
          "model_module_version": "1.5.0",
          "state": {
            "_dom_classes": [],
            "_model_module": "@jupyter-widgets/controls",
            "_model_module_version": "1.5.0",
            "_model_name": "HTMLModel",
            "_view_count": null,
            "_view_module": "@jupyter-widgets/controls",
            "_view_module_version": "1.5.0",
            "_view_name": "HTMLView",
            "description": "",
            "description_tooltip": null,
            "layout": "IPY_MODEL_50d90de07215498786eadc6f3781dc0b",
            "placeholder": "​",
            "style": "IPY_MODEL_4679cdeccf164f2abb623e88a27924af",
            "value": " 5/5 [00:01&lt;00:00,  3.68it/s]"
          }
        },
        "0a731eef5f1448aab80c3e2a7225afd8": {
          "model_module": "@jupyter-widgets/base",
          "model_name": "LayoutModel",
          "model_module_version": "1.2.0",
          "state": {
            "_model_module": "@jupyter-widgets/base",
            "_model_module_version": "1.2.0",
            "_model_name": "LayoutModel",
            "_view_count": null,
            "_view_module": "@jupyter-widgets/base",
            "_view_module_version": "1.2.0",
            "_view_name": "LayoutView",
            "align_content": null,
            "align_items": null,
            "align_self": null,
            "border": null,
            "bottom": null,
            "display": null,
            "flex": null,
            "flex_flow": null,
            "grid_area": null,
            "grid_auto_columns": null,
            "grid_auto_flow": null,
            "grid_auto_rows": null,
            "grid_column": null,
            "grid_gap": null,
            "grid_row": null,
            "grid_template_areas": null,
            "grid_template_columns": null,
            "grid_template_rows": null,
            "height": null,
            "justify_content": null,
            "justify_items": null,
            "left": null,
            "margin": null,
            "max_height": null,
            "max_width": null,
            "min_height": null,
            "min_width": null,
            "object_fit": null,
            "object_position": null,
            "order": null,
            "overflow": null,
            "overflow_x": null,
            "overflow_y": null,
            "padding": null,
            "right": null,
            "top": null,
            "visibility": null,
            "width": null
          }
        },
        "9e5365290ad049b8977032fed8c7d180": {
          "model_module": "@jupyter-widgets/base",
          "model_name": "LayoutModel",
          "model_module_version": "1.2.0",
          "state": {
            "_model_module": "@jupyter-widgets/base",
            "_model_module_version": "1.2.0",
            "_model_name": "LayoutModel",
            "_view_count": null,
            "_view_module": "@jupyter-widgets/base",
            "_view_module_version": "1.2.0",
            "_view_name": "LayoutView",
            "align_content": null,
            "align_items": null,
            "align_self": null,
            "border": null,
            "bottom": null,
            "display": null,
            "flex": null,
            "flex_flow": null,
            "grid_area": null,
            "grid_auto_columns": null,
            "grid_auto_flow": null,
            "grid_auto_rows": null,
            "grid_column": null,
            "grid_gap": null,
            "grid_row": null,
            "grid_template_areas": null,
            "grid_template_columns": null,
            "grid_template_rows": null,
            "height": null,
            "justify_content": null,
            "justify_items": null,
            "left": null,
            "margin": null,
            "max_height": null,
            "max_width": null,
            "min_height": null,
            "min_width": null,
            "object_fit": null,
            "object_position": null,
            "order": null,
            "overflow": null,
            "overflow_x": null,
            "overflow_y": null,
            "padding": null,
            "right": null,
            "top": null,
            "visibility": null,
            "width": null
          }
        },
        "e6fe28a597bb4502bf71fb64c13b56d7": {
          "model_module": "@jupyter-widgets/controls",
          "model_name": "DescriptionStyleModel",
          "model_module_version": "1.5.0",
          "state": {
            "_model_module": "@jupyter-widgets/controls",
            "_model_module_version": "1.5.0",
            "_model_name": "DescriptionStyleModel",
            "_view_count": null,
            "_view_module": "@jupyter-widgets/base",
            "_view_module_version": "1.2.0",
            "_view_name": "StyleView",
            "description_width": ""
          }
        },
        "3fe40dd49bbb4458b8a0e30b5004d145": {
          "model_module": "@jupyter-widgets/base",
          "model_name": "LayoutModel",
          "model_module_version": "1.2.0",
          "state": {
            "_model_module": "@jupyter-widgets/base",
            "_model_module_version": "1.2.0",
            "_model_name": "LayoutModel",
            "_view_count": null,
            "_view_module": "@jupyter-widgets/base",
            "_view_module_version": "1.2.0",
            "_view_name": "LayoutView",
            "align_content": null,
            "align_items": null,
            "align_self": null,
            "border": null,
            "bottom": null,
            "display": null,
            "flex": null,
            "flex_flow": null,
            "grid_area": null,
            "grid_auto_columns": null,
            "grid_auto_flow": null,
            "grid_auto_rows": null,
            "grid_column": null,
            "grid_gap": null,
            "grid_row": null,
            "grid_template_areas": null,
            "grid_template_columns": null,
            "grid_template_rows": null,
            "height": null,
            "justify_content": null,
            "justify_items": null,
            "left": null,
            "margin": null,
            "max_height": null,
            "max_width": null,
            "min_height": null,
            "min_width": null,
            "object_fit": null,
            "object_position": null,
            "order": null,
            "overflow": null,
            "overflow_x": null,
            "overflow_y": null,
            "padding": null,
            "right": null,
            "top": null,
            "visibility": null,
            "width": null
          }
        },
        "0973b7210ff0407386d19d7861ea9dae": {
          "model_module": "@jupyter-widgets/controls",
          "model_name": "ProgressStyleModel",
          "model_module_version": "1.5.0",
          "state": {
            "_model_module": "@jupyter-widgets/controls",
            "_model_module_version": "1.5.0",
            "_model_name": "ProgressStyleModel",
            "_view_count": null,
            "_view_module": "@jupyter-widgets/base",
            "_view_module_version": "1.2.0",
            "_view_name": "StyleView",
            "bar_color": null,
            "description_width": ""
          }
        },
        "50d90de07215498786eadc6f3781dc0b": {
          "model_module": "@jupyter-widgets/base",
          "model_name": "LayoutModel",
          "model_module_version": "1.2.0",
          "state": {
            "_model_module": "@jupyter-widgets/base",
            "_model_module_version": "1.2.0",
            "_model_name": "LayoutModel",
            "_view_count": null,
            "_view_module": "@jupyter-widgets/base",
            "_view_module_version": "1.2.0",
            "_view_name": "LayoutView",
            "align_content": null,
            "align_items": null,
            "align_self": null,
            "border": null,
            "bottom": null,
            "display": null,
            "flex": null,
            "flex_flow": null,
            "grid_area": null,
            "grid_auto_columns": null,
            "grid_auto_flow": null,
            "grid_auto_rows": null,
            "grid_column": null,
            "grid_gap": null,
            "grid_row": null,
            "grid_template_areas": null,
            "grid_template_columns": null,
            "grid_template_rows": null,
            "height": null,
            "justify_content": null,
            "justify_items": null,
            "left": null,
            "margin": null,
            "max_height": null,
            "max_width": null,
            "min_height": null,
            "min_width": null,
            "object_fit": null,
            "object_position": null,
            "order": null,
            "overflow": null,
            "overflow_x": null,
            "overflow_y": null,
            "padding": null,
            "right": null,
            "top": null,
            "visibility": null,
            "width": null
          }
        },
        "4679cdeccf164f2abb623e88a27924af": {
          "model_module": "@jupyter-widgets/controls",
          "model_name": "DescriptionStyleModel",
          "model_module_version": "1.5.0",
          "state": {
            "_model_module": "@jupyter-widgets/controls",
            "_model_module_version": "1.5.0",
            "_model_name": "DescriptionStyleModel",
            "_view_count": null,
            "_view_module": "@jupyter-widgets/base",
            "_view_module_version": "1.2.0",
            "_view_name": "StyleView",
            "description_width": ""
          }
        },
        "98d4ef01018d4708bc66a7e8f796cb19": {
          "model_module": "@jupyter-widgets/controls",
          "model_name": "HBoxModel",
          "model_module_version": "1.5.0",
          "state": {
            "_dom_classes": [],
            "_model_module": "@jupyter-widgets/controls",
            "_model_module_version": "1.5.0",
            "_model_name": "HBoxModel",
            "_view_count": null,
            "_view_module": "@jupyter-widgets/controls",
            "_view_module_version": "1.5.0",
            "_view_name": "HBoxView",
            "box_style": "",
            "children": [
              "IPY_MODEL_0d8f965aa7be45b8b8a2f7c6e485393c",
              "IPY_MODEL_015c45744d304ac0ae5d111da99e56d9",
              "IPY_MODEL_ce9f786d5464437697b4625cc0f17d23"
            ],
            "layout": "IPY_MODEL_87af917259434b8c8f2e3adbe3b26185"
          }
        },
        "0d8f965aa7be45b8b8a2f7c6e485393c": {
          "model_module": "@jupyter-widgets/controls",
          "model_name": "HTMLModel",
          "model_module_version": "1.5.0",
          "state": {
            "_dom_classes": [],
            "_model_module": "@jupyter-widgets/controls",
            "_model_module_version": "1.5.0",
            "_model_name": "HTMLModel",
            "_view_count": null,
            "_view_module": "@jupyter-widgets/controls",
            "_view_module_version": "1.5.0",
            "_view_name": "HTMLView",
            "description": "",
            "description_tooltip": null,
            "layout": "IPY_MODEL_68f71498f0614a5096b73ef093e04cf5",
            "placeholder": "​",
            "style": "IPY_MODEL_f650435318fb447dabaef119b630443b",
            "value": "100%"
          }
        },
        "015c45744d304ac0ae5d111da99e56d9": {
          "model_module": "@jupyter-widgets/controls",
          "model_name": "FloatProgressModel",
          "model_module_version": "1.5.0",
          "state": {
            "_dom_classes": [],
            "_model_module": "@jupyter-widgets/controls",
            "_model_module_version": "1.5.0",
            "_model_name": "FloatProgressModel",
            "_view_count": null,
            "_view_module": "@jupyter-widgets/controls",
            "_view_module_version": "1.5.0",
            "_view_name": "ProgressView",
            "bar_style": "success",
            "description": "",
            "description_tooltip": null,
            "layout": "IPY_MODEL_eb633f296a08479681d76b3568bb008a",
            "max": 5,
            "min": 0,
            "orientation": "horizontal",
            "style": "IPY_MODEL_511da30426aa438ea74e7212ddf82db9",
            "value": 5
          }
        },
        "ce9f786d5464437697b4625cc0f17d23": {
          "model_module": "@jupyter-widgets/controls",
          "model_name": "HTMLModel",
          "model_module_version": "1.5.0",
          "state": {
            "_dom_classes": [],
            "_model_module": "@jupyter-widgets/controls",
            "_model_module_version": "1.5.0",
            "_model_name": "HTMLModel",
            "_view_count": null,
            "_view_module": "@jupyter-widgets/controls",
            "_view_module_version": "1.5.0",
            "_view_name": "HTMLView",
            "description": "",
            "description_tooltip": null,
            "layout": "IPY_MODEL_da2ec3580335416196d2952d8d3083f3",
            "placeholder": "​",
            "style": "IPY_MODEL_19213e3489de4122861b51badf9d30fa",
            "value": " 5/5 [00:01&lt;00:00,  3.80it/s]"
          }
        },
        "87af917259434b8c8f2e3adbe3b26185": {
          "model_module": "@jupyter-widgets/base",
          "model_name": "LayoutModel",
          "model_module_version": "1.2.0",
          "state": {
            "_model_module": "@jupyter-widgets/base",
            "_model_module_version": "1.2.0",
            "_model_name": "LayoutModel",
            "_view_count": null,
            "_view_module": "@jupyter-widgets/base",
            "_view_module_version": "1.2.0",
            "_view_name": "LayoutView",
            "align_content": null,
            "align_items": null,
            "align_self": null,
            "border": null,
            "bottom": null,
            "display": null,
            "flex": null,
            "flex_flow": null,
            "grid_area": null,
            "grid_auto_columns": null,
            "grid_auto_flow": null,
            "grid_auto_rows": null,
            "grid_column": null,
            "grid_gap": null,
            "grid_row": null,
            "grid_template_areas": null,
            "grid_template_columns": null,
            "grid_template_rows": null,
            "height": null,
            "justify_content": null,
            "justify_items": null,
            "left": null,
            "margin": null,
            "max_height": null,
            "max_width": null,
            "min_height": null,
            "min_width": null,
            "object_fit": null,
            "object_position": null,
            "order": null,
            "overflow": null,
            "overflow_x": null,
            "overflow_y": null,
            "padding": null,
            "right": null,
            "top": null,
            "visibility": null,
            "width": null
          }
        },
        "68f71498f0614a5096b73ef093e04cf5": {
          "model_module": "@jupyter-widgets/base",
          "model_name": "LayoutModel",
          "model_module_version": "1.2.0",
          "state": {
            "_model_module": "@jupyter-widgets/base",
            "_model_module_version": "1.2.0",
            "_model_name": "LayoutModel",
            "_view_count": null,
            "_view_module": "@jupyter-widgets/base",
            "_view_module_version": "1.2.0",
            "_view_name": "LayoutView",
            "align_content": null,
            "align_items": null,
            "align_self": null,
            "border": null,
            "bottom": null,
            "display": null,
            "flex": null,
            "flex_flow": null,
            "grid_area": null,
            "grid_auto_columns": null,
            "grid_auto_flow": null,
            "grid_auto_rows": null,
            "grid_column": null,
            "grid_gap": null,
            "grid_row": null,
            "grid_template_areas": null,
            "grid_template_columns": null,
            "grid_template_rows": null,
            "height": null,
            "justify_content": null,
            "justify_items": null,
            "left": null,
            "margin": null,
            "max_height": null,
            "max_width": null,
            "min_height": null,
            "min_width": null,
            "object_fit": null,
            "object_position": null,
            "order": null,
            "overflow": null,
            "overflow_x": null,
            "overflow_y": null,
            "padding": null,
            "right": null,
            "top": null,
            "visibility": null,
            "width": null
          }
        },
        "f650435318fb447dabaef119b630443b": {
          "model_module": "@jupyter-widgets/controls",
          "model_name": "DescriptionStyleModel",
          "model_module_version": "1.5.0",
          "state": {
            "_model_module": "@jupyter-widgets/controls",
            "_model_module_version": "1.5.0",
            "_model_name": "DescriptionStyleModel",
            "_view_count": null,
            "_view_module": "@jupyter-widgets/base",
            "_view_module_version": "1.2.0",
            "_view_name": "StyleView",
            "description_width": ""
          }
        },
        "eb633f296a08479681d76b3568bb008a": {
          "model_module": "@jupyter-widgets/base",
          "model_name": "LayoutModel",
          "model_module_version": "1.2.0",
          "state": {
            "_model_module": "@jupyter-widgets/base",
            "_model_module_version": "1.2.0",
            "_model_name": "LayoutModel",
            "_view_count": null,
            "_view_module": "@jupyter-widgets/base",
            "_view_module_version": "1.2.0",
            "_view_name": "LayoutView",
            "align_content": null,
            "align_items": null,
            "align_self": null,
            "border": null,
            "bottom": null,
            "display": null,
            "flex": null,
            "flex_flow": null,
            "grid_area": null,
            "grid_auto_columns": null,
            "grid_auto_flow": null,
            "grid_auto_rows": null,
            "grid_column": null,
            "grid_gap": null,
            "grid_row": null,
            "grid_template_areas": null,
            "grid_template_columns": null,
            "grid_template_rows": null,
            "height": null,
            "justify_content": null,
            "justify_items": null,
            "left": null,
            "margin": null,
            "max_height": null,
            "max_width": null,
            "min_height": null,
            "min_width": null,
            "object_fit": null,
            "object_position": null,
            "order": null,
            "overflow": null,
            "overflow_x": null,
            "overflow_y": null,
            "padding": null,
            "right": null,
            "top": null,
            "visibility": null,
            "width": null
          }
        },
        "511da30426aa438ea74e7212ddf82db9": {
          "model_module": "@jupyter-widgets/controls",
          "model_name": "ProgressStyleModel",
          "model_module_version": "1.5.0",
          "state": {
            "_model_module": "@jupyter-widgets/controls",
            "_model_module_version": "1.5.0",
            "_model_name": "ProgressStyleModel",
            "_view_count": null,
            "_view_module": "@jupyter-widgets/base",
            "_view_module_version": "1.2.0",
            "_view_name": "StyleView",
            "bar_color": null,
            "description_width": ""
          }
        },
        "da2ec3580335416196d2952d8d3083f3": {
          "model_module": "@jupyter-widgets/base",
          "model_name": "LayoutModel",
          "model_module_version": "1.2.0",
          "state": {
            "_model_module": "@jupyter-widgets/base",
            "_model_module_version": "1.2.0",
            "_model_name": "LayoutModel",
            "_view_count": null,
            "_view_module": "@jupyter-widgets/base",
            "_view_module_version": "1.2.0",
            "_view_name": "LayoutView",
            "align_content": null,
            "align_items": null,
            "align_self": null,
            "border": null,
            "bottom": null,
            "display": null,
            "flex": null,
            "flex_flow": null,
            "grid_area": null,
            "grid_auto_columns": null,
            "grid_auto_flow": null,
            "grid_auto_rows": null,
            "grid_column": null,
            "grid_gap": null,
            "grid_row": null,
            "grid_template_areas": null,
            "grid_template_columns": null,
            "grid_template_rows": null,
            "height": null,
            "justify_content": null,
            "justify_items": null,
            "left": null,
            "margin": null,
            "max_height": null,
            "max_width": null,
            "min_height": null,
            "min_width": null,
            "object_fit": null,
            "object_position": null,
            "order": null,
            "overflow": null,
            "overflow_x": null,
            "overflow_y": null,
            "padding": null,
            "right": null,
            "top": null,
            "visibility": null,
            "width": null
          }
        },
        "19213e3489de4122861b51badf9d30fa": {
          "model_module": "@jupyter-widgets/controls",
          "model_name": "DescriptionStyleModel",
          "model_module_version": "1.5.0",
          "state": {
            "_model_module": "@jupyter-widgets/controls",
            "_model_module_version": "1.5.0",
            "_model_name": "DescriptionStyleModel",
            "_view_count": null,
            "_view_module": "@jupyter-widgets/base",
            "_view_module_version": "1.2.0",
            "_view_name": "StyleView",
            "description_width": ""
          }
        },
        "e4170f976d834d5c8cfb582be3c47874": {
          "model_module": "@jupyter-widgets/controls",
          "model_name": "HBoxModel",
          "model_module_version": "1.5.0",
          "state": {
            "_dom_classes": [],
            "_model_module": "@jupyter-widgets/controls",
            "_model_module_version": "1.5.0",
            "_model_name": "HBoxModel",
            "_view_count": null,
            "_view_module": "@jupyter-widgets/controls",
            "_view_module_version": "1.5.0",
            "_view_name": "HBoxView",
            "box_style": "",
            "children": [
              "IPY_MODEL_5779204bdee843d39dcc284d8060fe5c",
              "IPY_MODEL_43f0ba3ef84b45219571f681e979b5fd",
              "IPY_MODEL_cff6873d5c7f4c0196403e24b727eb9c"
            ],
            "layout": "IPY_MODEL_5b83df85559e4a14af34c58a0586eac0"
          }
        },
        "5779204bdee843d39dcc284d8060fe5c": {
          "model_module": "@jupyter-widgets/controls",
          "model_name": "HTMLModel",
          "model_module_version": "1.5.0",
          "state": {
            "_dom_classes": [],
            "_model_module": "@jupyter-widgets/controls",
            "_model_module_version": "1.5.0",
            "_model_name": "HTMLModel",
            "_view_count": null,
            "_view_module": "@jupyter-widgets/controls",
            "_view_module_version": "1.5.0",
            "_view_name": "HTMLView",
            "description": "",
            "description_tooltip": null,
            "layout": "IPY_MODEL_d1f921f4e1114a71beb0fd77dedb7b9c",
            "placeholder": "​",
            "style": "IPY_MODEL_2f52827d9c7d4c5ca83c71c84fe9e19a",
            "value": "100%"
          }
        },
        "43f0ba3ef84b45219571f681e979b5fd": {
          "model_module": "@jupyter-widgets/controls",
          "model_name": "FloatProgressModel",
          "model_module_version": "1.5.0",
          "state": {
            "_dom_classes": [],
            "_model_module": "@jupyter-widgets/controls",
            "_model_module_version": "1.5.0",
            "_model_name": "FloatProgressModel",
            "_view_count": null,
            "_view_module": "@jupyter-widgets/controls",
            "_view_module_version": "1.5.0",
            "_view_name": "ProgressView",
            "bar_style": "success",
            "description": "",
            "description_tooltip": null,
            "layout": "IPY_MODEL_867da8812f6043988a93c571235bc6c9",
            "max": 5,
            "min": 0,
            "orientation": "horizontal",
            "style": "IPY_MODEL_88ebb49e999c4bd99f667bd20f97a0aa",
            "value": 5
          }
        },
        "cff6873d5c7f4c0196403e24b727eb9c": {
          "model_module": "@jupyter-widgets/controls",
          "model_name": "HTMLModel",
          "model_module_version": "1.5.0",
          "state": {
            "_dom_classes": [],
            "_model_module": "@jupyter-widgets/controls",
            "_model_module_version": "1.5.0",
            "_model_name": "HTMLModel",
            "_view_count": null,
            "_view_module": "@jupyter-widgets/controls",
            "_view_module_version": "1.5.0",
            "_view_name": "HTMLView",
            "description": "",
            "description_tooltip": null,
            "layout": "IPY_MODEL_5b8923682e304eadb532c7af3c647e7f",
            "placeholder": "​",
            "style": "IPY_MODEL_6216a768665942579838f6b45380eaf9",
            "value": " 5/5 [00:02&lt;00:00,  2.03it/s]"
          }
        },
        "5b83df85559e4a14af34c58a0586eac0": {
          "model_module": "@jupyter-widgets/base",
          "model_name": "LayoutModel",
          "model_module_version": "1.2.0",
          "state": {
            "_model_module": "@jupyter-widgets/base",
            "_model_module_version": "1.2.0",
            "_model_name": "LayoutModel",
            "_view_count": null,
            "_view_module": "@jupyter-widgets/base",
            "_view_module_version": "1.2.0",
            "_view_name": "LayoutView",
            "align_content": null,
            "align_items": null,
            "align_self": null,
            "border": null,
            "bottom": null,
            "display": null,
            "flex": null,
            "flex_flow": null,
            "grid_area": null,
            "grid_auto_columns": null,
            "grid_auto_flow": null,
            "grid_auto_rows": null,
            "grid_column": null,
            "grid_gap": null,
            "grid_row": null,
            "grid_template_areas": null,
            "grid_template_columns": null,
            "grid_template_rows": null,
            "height": null,
            "justify_content": null,
            "justify_items": null,
            "left": null,
            "margin": null,
            "max_height": null,
            "max_width": null,
            "min_height": null,
            "min_width": null,
            "object_fit": null,
            "object_position": null,
            "order": null,
            "overflow": null,
            "overflow_x": null,
            "overflow_y": null,
            "padding": null,
            "right": null,
            "top": null,
            "visibility": null,
            "width": null
          }
        },
        "d1f921f4e1114a71beb0fd77dedb7b9c": {
          "model_module": "@jupyter-widgets/base",
          "model_name": "LayoutModel",
          "model_module_version": "1.2.0",
          "state": {
            "_model_module": "@jupyter-widgets/base",
            "_model_module_version": "1.2.0",
            "_model_name": "LayoutModel",
            "_view_count": null,
            "_view_module": "@jupyter-widgets/base",
            "_view_module_version": "1.2.0",
            "_view_name": "LayoutView",
            "align_content": null,
            "align_items": null,
            "align_self": null,
            "border": null,
            "bottom": null,
            "display": null,
            "flex": null,
            "flex_flow": null,
            "grid_area": null,
            "grid_auto_columns": null,
            "grid_auto_flow": null,
            "grid_auto_rows": null,
            "grid_column": null,
            "grid_gap": null,
            "grid_row": null,
            "grid_template_areas": null,
            "grid_template_columns": null,
            "grid_template_rows": null,
            "height": null,
            "justify_content": null,
            "justify_items": null,
            "left": null,
            "margin": null,
            "max_height": null,
            "max_width": null,
            "min_height": null,
            "min_width": null,
            "object_fit": null,
            "object_position": null,
            "order": null,
            "overflow": null,
            "overflow_x": null,
            "overflow_y": null,
            "padding": null,
            "right": null,
            "top": null,
            "visibility": null,
            "width": null
          }
        },
        "2f52827d9c7d4c5ca83c71c84fe9e19a": {
          "model_module": "@jupyter-widgets/controls",
          "model_name": "DescriptionStyleModel",
          "model_module_version": "1.5.0",
          "state": {
            "_model_module": "@jupyter-widgets/controls",
            "_model_module_version": "1.5.0",
            "_model_name": "DescriptionStyleModel",
            "_view_count": null,
            "_view_module": "@jupyter-widgets/base",
            "_view_module_version": "1.2.0",
            "_view_name": "StyleView",
            "description_width": ""
          }
        },
        "867da8812f6043988a93c571235bc6c9": {
          "model_module": "@jupyter-widgets/base",
          "model_name": "LayoutModel",
          "model_module_version": "1.2.0",
          "state": {
            "_model_module": "@jupyter-widgets/base",
            "_model_module_version": "1.2.0",
            "_model_name": "LayoutModel",
            "_view_count": null,
            "_view_module": "@jupyter-widgets/base",
            "_view_module_version": "1.2.0",
            "_view_name": "LayoutView",
            "align_content": null,
            "align_items": null,
            "align_self": null,
            "border": null,
            "bottom": null,
            "display": null,
            "flex": null,
            "flex_flow": null,
            "grid_area": null,
            "grid_auto_columns": null,
            "grid_auto_flow": null,
            "grid_auto_rows": null,
            "grid_column": null,
            "grid_gap": null,
            "grid_row": null,
            "grid_template_areas": null,
            "grid_template_columns": null,
            "grid_template_rows": null,
            "height": null,
            "justify_content": null,
            "justify_items": null,
            "left": null,
            "margin": null,
            "max_height": null,
            "max_width": null,
            "min_height": null,
            "min_width": null,
            "object_fit": null,
            "object_position": null,
            "order": null,
            "overflow": null,
            "overflow_x": null,
            "overflow_y": null,
            "padding": null,
            "right": null,
            "top": null,
            "visibility": null,
            "width": null
          }
        },
        "88ebb49e999c4bd99f667bd20f97a0aa": {
          "model_module": "@jupyter-widgets/controls",
          "model_name": "ProgressStyleModel",
          "model_module_version": "1.5.0",
          "state": {
            "_model_module": "@jupyter-widgets/controls",
            "_model_module_version": "1.5.0",
            "_model_name": "ProgressStyleModel",
            "_view_count": null,
            "_view_module": "@jupyter-widgets/base",
            "_view_module_version": "1.2.0",
            "_view_name": "StyleView",
            "bar_color": null,
            "description_width": ""
          }
        },
        "5b8923682e304eadb532c7af3c647e7f": {
          "model_module": "@jupyter-widgets/base",
          "model_name": "LayoutModel",
          "model_module_version": "1.2.0",
          "state": {
            "_model_module": "@jupyter-widgets/base",
            "_model_module_version": "1.2.0",
            "_model_name": "LayoutModel",
            "_view_count": null,
            "_view_module": "@jupyter-widgets/base",
            "_view_module_version": "1.2.0",
            "_view_name": "LayoutView",
            "align_content": null,
            "align_items": null,
            "align_self": null,
            "border": null,
            "bottom": null,
            "display": null,
            "flex": null,
            "flex_flow": null,
            "grid_area": null,
            "grid_auto_columns": null,
            "grid_auto_flow": null,
            "grid_auto_rows": null,
            "grid_column": null,
            "grid_gap": null,
            "grid_row": null,
            "grid_template_areas": null,
            "grid_template_columns": null,
            "grid_template_rows": null,
            "height": null,
            "justify_content": null,
            "justify_items": null,
            "left": null,
            "margin": null,
            "max_height": null,
            "max_width": null,
            "min_height": null,
            "min_width": null,
            "object_fit": null,
            "object_position": null,
            "order": null,
            "overflow": null,
            "overflow_x": null,
            "overflow_y": null,
            "padding": null,
            "right": null,
            "top": null,
            "visibility": null,
            "width": null
          }
        },
        "6216a768665942579838f6b45380eaf9": {
          "model_module": "@jupyter-widgets/controls",
          "model_name": "DescriptionStyleModel",
          "model_module_version": "1.5.0",
          "state": {
            "_model_module": "@jupyter-widgets/controls",
            "_model_module_version": "1.5.0",
            "_model_name": "DescriptionStyleModel",
            "_view_count": null,
            "_view_module": "@jupyter-widgets/base",
            "_view_module_version": "1.2.0",
            "_view_name": "StyleView",
            "description_width": ""
          }
        },
        "8b247fa40d224106ae41868ceaf238d8": {
          "model_module": "@jupyter-widgets/controls",
          "model_name": "HBoxModel",
          "model_module_version": "1.5.0",
          "state": {
            "_dom_classes": [],
            "_model_module": "@jupyter-widgets/controls",
            "_model_module_version": "1.5.0",
            "_model_name": "HBoxModel",
            "_view_count": null,
            "_view_module": "@jupyter-widgets/controls",
            "_view_module_version": "1.5.0",
            "_view_name": "HBoxView",
            "box_style": "",
            "children": [
              "IPY_MODEL_7eda8640dd5e4f31bc0889c644331bc2",
              "IPY_MODEL_f57e300c92df435fa9f43dc7aba571fa",
              "IPY_MODEL_6608ddec0db7430f8e741abb47701886"
            ],
            "layout": "IPY_MODEL_80d4b893c3374ccfbeda7d1f90142a84"
          }
        },
        "7eda8640dd5e4f31bc0889c644331bc2": {
          "model_module": "@jupyter-widgets/controls",
          "model_name": "HTMLModel",
          "model_module_version": "1.5.0",
          "state": {
            "_dom_classes": [],
            "_model_module": "@jupyter-widgets/controls",
            "_model_module_version": "1.5.0",
            "_model_name": "HTMLModel",
            "_view_count": null,
            "_view_module": "@jupyter-widgets/controls",
            "_view_module_version": "1.5.0",
            "_view_name": "HTMLView",
            "description": "",
            "description_tooltip": null,
            "layout": "IPY_MODEL_5c543b68f0b74b9a838b63a518889b07",
            "placeholder": "​",
            "style": "IPY_MODEL_9b0a12acae554122a2a6309cd48c8034",
            "value": "100%"
          }
        },
        "f57e300c92df435fa9f43dc7aba571fa": {
          "model_module": "@jupyter-widgets/controls",
          "model_name": "FloatProgressModel",
          "model_module_version": "1.5.0",
          "state": {
            "_dom_classes": [],
            "_model_module": "@jupyter-widgets/controls",
            "_model_module_version": "1.5.0",
            "_model_name": "FloatProgressModel",
            "_view_count": null,
            "_view_module": "@jupyter-widgets/controls",
            "_view_module_version": "1.5.0",
            "_view_name": "ProgressView",
            "bar_style": "success",
            "description": "",
            "description_tooltip": null,
            "layout": "IPY_MODEL_18f8d02b5842458e825a442b124052fb",
            "max": 4,
            "min": 0,
            "orientation": "horizontal",
            "style": "IPY_MODEL_289b408984324d8db23dcf48324e833d",
            "value": 4
          }
        },
        "6608ddec0db7430f8e741abb47701886": {
          "model_module": "@jupyter-widgets/controls",
          "model_name": "HTMLModel",
          "model_module_version": "1.5.0",
          "state": {
            "_dom_classes": [],
            "_model_module": "@jupyter-widgets/controls",
            "_model_module_version": "1.5.0",
            "_model_name": "HTMLModel",
            "_view_count": null,
            "_view_module": "@jupyter-widgets/controls",
            "_view_module_version": "1.5.0",
            "_view_name": "HTMLView",
            "description": "",
            "description_tooltip": null,
            "layout": "IPY_MODEL_2c36707e74f24f48807631d6e33426d0",
            "placeholder": "​",
            "style": "IPY_MODEL_07bb3e5343304146b157f359510bd080",
            "value": " 4/4 [00:22&lt;00:00,  4.43s/it]"
          }
        },
        "80d4b893c3374ccfbeda7d1f90142a84": {
          "model_module": "@jupyter-widgets/base",
          "model_name": "LayoutModel",
          "model_module_version": "1.2.0",
          "state": {
            "_model_module": "@jupyter-widgets/base",
            "_model_module_version": "1.2.0",
            "_model_name": "LayoutModel",
            "_view_count": null,
            "_view_module": "@jupyter-widgets/base",
            "_view_module_version": "1.2.0",
            "_view_name": "LayoutView",
            "align_content": null,
            "align_items": null,
            "align_self": null,
            "border": null,
            "bottom": null,
            "display": null,
            "flex": null,
            "flex_flow": null,
            "grid_area": null,
            "grid_auto_columns": null,
            "grid_auto_flow": null,
            "grid_auto_rows": null,
            "grid_column": null,
            "grid_gap": null,
            "grid_row": null,
            "grid_template_areas": null,
            "grid_template_columns": null,
            "grid_template_rows": null,
            "height": null,
            "justify_content": null,
            "justify_items": null,
            "left": null,
            "margin": null,
            "max_height": null,
            "max_width": null,
            "min_height": null,
            "min_width": null,
            "object_fit": null,
            "object_position": null,
            "order": null,
            "overflow": null,
            "overflow_x": null,
            "overflow_y": null,
            "padding": null,
            "right": null,
            "top": null,
            "visibility": null,
            "width": null
          }
        },
        "5c543b68f0b74b9a838b63a518889b07": {
          "model_module": "@jupyter-widgets/base",
          "model_name": "LayoutModel",
          "model_module_version": "1.2.0",
          "state": {
            "_model_module": "@jupyter-widgets/base",
            "_model_module_version": "1.2.0",
            "_model_name": "LayoutModel",
            "_view_count": null,
            "_view_module": "@jupyter-widgets/base",
            "_view_module_version": "1.2.0",
            "_view_name": "LayoutView",
            "align_content": null,
            "align_items": null,
            "align_self": null,
            "border": null,
            "bottom": null,
            "display": null,
            "flex": null,
            "flex_flow": null,
            "grid_area": null,
            "grid_auto_columns": null,
            "grid_auto_flow": null,
            "grid_auto_rows": null,
            "grid_column": null,
            "grid_gap": null,
            "grid_row": null,
            "grid_template_areas": null,
            "grid_template_columns": null,
            "grid_template_rows": null,
            "height": null,
            "justify_content": null,
            "justify_items": null,
            "left": null,
            "margin": null,
            "max_height": null,
            "max_width": null,
            "min_height": null,
            "min_width": null,
            "object_fit": null,
            "object_position": null,
            "order": null,
            "overflow": null,
            "overflow_x": null,
            "overflow_y": null,
            "padding": null,
            "right": null,
            "top": null,
            "visibility": null,
            "width": null
          }
        },
        "9b0a12acae554122a2a6309cd48c8034": {
          "model_module": "@jupyter-widgets/controls",
          "model_name": "DescriptionStyleModel",
          "model_module_version": "1.5.0",
          "state": {
            "_model_module": "@jupyter-widgets/controls",
            "_model_module_version": "1.5.0",
            "_model_name": "DescriptionStyleModel",
            "_view_count": null,
            "_view_module": "@jupyter-widgets/base",
            "_view_module_version": "1.2.0",
            "_view_name": "StyleView",
            "description_width": ""
          }
        },
        "18f8d02b5842458e825a442b124052fb": {
          "model_module": "@jupyter-widgets/base",
          "model_name": "LayoutModel",
          "model_module_version": "1.2.0",
          "state": {
            "_model_module": "@jupyter-widgets/base",
            "_model_module_version": "1.2.0",
            "_model_name": "LayoutModel",
            "_view_count": null,
            "_view_module": "@jupyter-widgets/base",
            "_view_module_version": "1.2.0",
            "_view_name": "LayoutView",
            "align_content": null,
            "align_items": null,
            "align_self": null,
            "border": null,
            "bottom": null,
            "display": null,
            "flex": null,
            "flex_flow": null,
            "grid_area": null,
            "grid_auto_columns": null,
            "grid_auto_flow": null,
            "grid_auto_rows": null,
            "grid_column": null,
            "grid_gap": null,
            "grid_row": null,
            "grid_template_areas": null,
            "grid_template_columns": null,
            "grid_template_rows": null,
            "height": null,
            "justify_content": null,
            "justify_items": null,
            "left": null,
            "margin": null,
            "max_height": null,
            "max_width": null,
            "min_height": null,
            "min_width": null,
            "object_fit": null,
            "object_position": null,
            "order": null,
            "overflow": null,
            "overflow_x": null,
            "overflow_y": null,
            "padding": null,
            "right": null,
            "top": null,
            "visibility": null,
            "width": null
          }
        },
        "289b408984324d8db23dcf48324e833d": {
          "model_module": "@jupyter-widgets/controls",
          "model_name": "ProgressStyleModel",
          "model_module_version": "1.5.0",
          "state": {
            "_model_module": "@jupyter-widgets/controls",
            "_model_module_version": "1.5.0",
            "_model_name": "ProgressStyleModel",
            "_view_count": null,
            "_view_module": "@jupyter-widgets/base",
            "_view_module_version": "1.2.0",
            "_view_name": "StyleView",
            "bar_color": null,
            "description_width": ""
          }
        },
        "2c36707e74f24f48807631d6e33426d0": {
          "model_module": "@jupyter-widgets/base",
          "model_name": "LayoutModel",
          "model_module_version": "1.2.0",
          "state": {
            "_model_module": "@jupyter-widgets/base",
            "_model_module_version": "1.2.0",
            "_model_name": "LayoutModel",
            "_view_count": null,
            "_view_module": "@jupyter-widgets/base",
            "_view_module_version": "1.2.0",
            "_view_name": "LayoutView",
            "align_content": null,
            "align_items": null,
            "align_self": null,
            "border": null,
            "bottom": null,
            "display": null,
            "flex": null,
            "flex_flow": null,
            "grid_area": null,
            "grid_auto_columns": null,
            "grid_auto_flow": null,
            "grid_auto_rows": null,
            "grid_column": null,
            "grid_gap": null,
            "grid_row": null,
            "grid_template_areas": null,
            "grid_template_columns": null,
            "grid_template_rows": null,
            "height": null,
            "justify_content": null,
            "justify_items": null,
            "left": null,
            "margin": null,
            "max_height": null,
            "max_width": null,
            "min_height": null,
            "min_width": null,
            "object_fit": null,
            "object_position": null,
            "order": null,
            "overflow": null,
            "overflow_x": null,
            "overflow_y": null,
            "padding": null,
            "right": null,
            "top": null,
            "visibility": null,
            "width": null
          }
        },
        "07bb3e5343304146b157f359510bd080": {
          "model_module": "@jupyter-widgets/controls",
          "model_name": "DescriptionStyleModel",
          "model_module_version": "1.5.0",
          "state": {
            "_model_module": "@jupyter-widgets/controls",
            "_model_module_version": "1.5.0",
            "_model_name": "DescriptionStyleModel",
            "_view_count": null,
            "_view_module": "@jupyter-widgets/base",
            "_view_module_version": "1.2.0",
            "_view_name": "StyleView",
            "description_width": ""
          }
        },
        "2f15bfd69cb2480bbab0365917b1edbe": {
          "model_module": "@jupyter-widgets/controls",
          "model_name": "HBoxModel",
          "model_module_version": "1.5.0",
          "state": {
            "_dom_classes": [],
            "_model_module": "@jupyter-widgets/controls",
            "_model_module_version": "1.5.0",
            "_model_name": "HBoxModel",
            "_view_count": null,
            "_view_module": "@jupyter-widgets/controls",
            "_view_module_version": "1.5.0",
            "_view_name": "HBoxView",
            "box_style": "",
            "children": [
              "IPY_MODEL_8ead8395cec14e1e82d060cd68f79205",
              "IPY_MODEL_a15bea8c7ec7446fbac992f76ab437a9",
              "IPY_MODEL_851e85dbbf5f449d8afebea68b452709"
            ],
            "layout": "IPY_MODEL_f16d60e04fe1426ea9bb7cef217010c9"
          }
        },
        "8ead8395cec14e1e82d060cd68f79205": {
          "model_module": "@jupyter-widgets/controls",
          "model_name": "HTMLModel",
          "model_module_version": "1.5.0",
          "state": {
            "_dom_classes": [],
            "_model_module": "@jupyter-widgets/controls",
            "_model_module_version": "1.5.0",
            "_model_name": "HTMLModel",
            "_view_count": null,
            "_view_module": "@jupyter-widgets/controls",
            "_view_module_version": "1.5.0",
            "_view_name": "HTMLView",
            "description": "",
            "description_tooltip": null,
            "layout": "IPY_MODEL_1e14d878b4ca4b238033f6b6198c1824",
            "placeholder": "​",
            "style": "IPY_MODEL_a5f1b58942064a29a7957bae416ea4c9",
            "value": "100%"
          }
        },
        "a15bea8c7ec7446fbac992f76ab437a9": {
          "model_module": "@jupyter-widgets/controls",
          "model_name": "FloatProgressModel",
          "model_module_version": "1.5.0",
          "state": {
            "_dom_classes": [],
            "_model_module": "@jupyter-widgets/controls",
            "_model_module_version": "1.5.0",
            "_model_name": "FloatProgressModel",
            "_view_count": null,
            "_view_module": "@jupyter-widgets/controls",
            "_view_module_version": "1.5.0",
            "_view_name": "ProgressView",
            "bar_style": "success",
            "description": "",
            "description_tooltip": null,
            "layout": "IPY_MODEL_1d1db0744c354c3893e073d478cf7f0c",
            "max": 10,
            "min": 0,
            "orientation": "horizontal",
            "style": "IPY_MODEL_6fc89ad857d544e9824dc2eef4f9c126",
            "value": 10
          }
        },
        "851e85dbbf5f449d8afebea68b452709": {
          "model_module": "@jupyter-widgets/controls",
          "model_name": "HTMLModel",
          "model_module_version": "1.5.0",
          "state": {
            "_dom_classes": [],
            "_model_module": "@jupyter-widgets/controls",
            "_model_module_version": "1.5.0",
            "_model_name": "HTMLModel",
            "_view_count": null,
            "_view_module": "@jupyter-widgets/controls",
            "_view_module_version": "1.5.0",
            "_view_name": "HTMLView",
            "description": "",
            "description_tooltip": null,
            "layout": "IPY_MODEL_7ce7dd400fc2499d9622b493866441db",
            "placeholder": "​",
            "style": "IPY_MODEL_038f9356c4144f65acb820ab299d2c9f",
            "value": " 10/10 [00:09&lt;00:00,  1.12it/s]"
          }
        },
        "f16d60e04fe1426ea9bb7cef217010c9": {
          "model_module": "@jupyter-widgets/base",
          "model_name": "LayoutModel",
          "model_module_version": "1.2.0",
          "state": {
            "_model_module": "@jupyter-widgets/base",
            "_model_module_version": "1.2.0",
            "_model_name": "LayoutModel",
            "_view_count": null,
            "_view_module": "@jupyter-widgets/base",
            "_view_module_version": "1.2.0",
            "_view_name": "LayoutView",
            "align_content": null,
            "align_items": null,
            "align_self": null,
            "border": null,
            "bottom": null,
            "display": null,
            "flex": null,
            "flex_flow": null,
            "grid_area": null,
            "grid_auto_columns": null,
            "grid_auto_flow": null,
            "grid_auto_rows": null,
            "grid_column": null,
            "grid_gap": null,
            "grid_row": null,
            "grid_template_areas": null,
            "grid_template_columns": null,
            "grid_template_rows": null,
            "height": null,
            "justify_content": null,
            "justify_items": null,
            "left": null,
            "margin": null,
            "max_height": null,
            "max_width": null,
            "min_height": null,
            "min_width": null,
            "object_fit": null,
            "object_position": null,
            "order": null,
            "overflow": null,
            "overflow_x": null,
            "overflow_y": null,
            "padding": null,
            "right": null,
            "top": null,
            "visibility": null,
            "width": null
          }
        },
        "1e14d878b4ca4b238033f6b6198c1824": {
          "model_module": "@jupyter-widgets/base",
          "model_name": "LayoutModel",
          "model_module_version": "1.2.0",
          "state": {
            "_model_module": "@jupyter-widgets/base",
            "_model_module_version": "1.2.0",
            "_model_name": "LayoutModel",
            "_view_count": null,
            "_view_module": "@jupyter-widgets/base",
            "_view_module_version": "1.2.0",
            "_view_name": "LayoutView",
            "align_content": null,
            "align_items": null,
            "align_self": null,
            "border": null,
            "bottom": null,
            "display": null,
            "flex": null,
            "flex_flow": null,
            "grid_area": null,
            "grid_auto_columns": null,
            "grid_auto_flow": null,
            "grid_auto_rows": null,
            "grid_column": null,
            "grid_gap": null,
            "grid_row": null,
            "grid_template_areas": null,
            "grid_template_columns": null,
            "grid_template_rows": null,
            "height": null,
            "justify_content": null,
            "justify_items": null,
            "left": null,
            "margin": null,
            "max_height": null,
            "max_width": null,
            "min_height": null,
            "min_width": null,
            "object_fit": null,
            "object_position": null,
            "order": null,
            "overflow": null,
            "overflow_x": null,
            "overflow_y": null,
            "padding": null,
            "right": null,
            "top": null,
            "visibility": null,
            "width": null
          }
        },
        "a5f1b58942064a29a7957bae416ea4c9": {
          "model_module": "@jupyter-widgets/controls",
          "model_name": "DescriptionStyleModel",
          "model_module_version": "1.5.0",
          "state": {
            "_model_module": "@jupyter-widgets/controls",
            "_model_module_version": "1.5.0",
            "_model_name": "DescriptionStyleModel",
            "_view_count": null,
            "_view_module": "@jupyter-widgets/base",
            "_view_module_version": "1.2.0",
            "_view_name": "StyleView",
            "description_width": ""
          }
        },
        "1d1db0744c354c3893e073d478cf7f0c": {
          "model_module": "@jupyter-widgets/base",
          "model_name": "LayoutModel",
          "model_module_version": "1.2.0",
          "state": {
            "_model_module": "@jupyter-widgets/base",
            "_model_module_version": "1.2.0",
            "_model_name": "LayoutModel",
            "_view_count": null,
            "_view_module": "@jupyter-widgets/base",
            "_view_module_version": "1.2.0",
            "_view_name": "LayoutView",
            "align_content": null,
            "align_items": null,
            "align_self": null,
            "border": null,
            "bottom": null,
            "display": null,
            "flex": null,
            "flex_flow": null,
            "grid_area": null,
            "grid_auto_columns": null,
            "grid_auto_flow": null,
            "grid_auto_rows": null,
            "grid_column": null,
            "grid_gap": null,
            "grid_row": null,
            "grid_template_areas": null,
            "grid_template_columns": null,
            "grid_template_rows": null,
            "height": null,
            "justify_content": null,
            "justify_items": null,
            "left": null,
            "margin": null,
            "max_height": null,
            "max_width": null,
            "min_height": null,
            "min_width": null,
            "object_fit": null,
            "object_position": null,
            "order": null,
            "overflow": null,
            "overflow_x": null,
            "overflow_y": null,
            "padding": null,
            "right": null,
            "top": null,
            "visibility": null,
            "width": null
          }
        },
        "6fc89ad857d544e9824dc2eef4f9c126": {
          "model_module": "@jupyter-widgets/controls",
          "model_name": "ProgressStyleModel",
          "model_module_version": "1.5.0",
          "state": {
            "_model_module": "@jupyter-widgets/controls",
            "_model_module_version": "1.5.0",
            "_model_name": "ProgressStyleModel",
            "_view_count": null,
            "_view_module": "@jupyter-widgets/base",
            "_view_module_version": "1.2.0",
            "_view_name": "StyleView",
            "bar_color": null,
            "description_width": ""
          }
        },
        "7ce7dd400fc2499d9622b493866441db": {
          "model_module": "@jupyter-widgets/base",
          "model_name": "LayoutModel",
          "model_module_version": "1.2.0",
          "state": {
            "_model_module": "@jupyter-widgets/base",
            "_model_module_version": "1.2.0",
            "_model_name": "LayoutModel",
            "_view_count": null,
            "_view_module": "@jupyter-widgets/base",
            "_view_module_version": "1.2.0",
            "_view_name": "LayoutView",
            "align_content": null,
            "align_items": null,
            "align_self": null,
            "border": null,
            "bottom": null,
            "display": null,
            "flex": null,
            "flex_flow": null,
            "grid_area": null,
            "grid_auto_columns": null,
            "grid_auto_flow": null,
            "grid_auto_rows": null,
            "grid_column": null,
            "grid_gap": null,
            "grid_row": null,
            "grid_template_areas": null,
            "grid_template_columns": null,
            "grid_template_rows": null,
            "height": null,
            "justify_content": null,
            "justify_items": null,
            "left": null,
            "margin": null,
            "max_height": null,
            "max_width": null,
            "min_height": null,
            "min_width": null,
            "object_fit": null,
            "object_position": null,
            "order": null,
            "overflow": null,
            "overflow_x": null,
            "overflow_y": null,
            "padding": null,
            "right": null,
            "top": null,
            "visibility": null,
            "width": null
          }
        },
        "038f9356c4144f65acb820ab299d2c9f": {
          "model_module": "@jupyter-widgets/controls",
          "model_name": "DescriptionStyleModel",
          "model_module_version": "1.5.0",
          "state": {
            "_model_module": "@jupyter-widgets/controls",
            "_model_module_version": "1.5.0",
            "_model_name": "DescriptionStyleModel",
            "_view_count": null,
            "_view_module": "@jupyter-widgets/base",
            "_view_module_version": "1.2.0",
            "_view_name": "StyleView",
            "description_width": ""
          }
        },
        "f996f3eef6ad491196d17ae1e3115e11": {
          "model_module": "@jupyter-widgets/controls",
          "model_name": "HBoxModel",
          "model_module_version": "1.5.0",
          "state": {
            "_dom_classes": [],
            "_model_module": "@jupyter-widgets/controls",
            "_model_module_version": "1.5.0",
            "_model_name": "HBoxModel",
            "_view_count": null,
            "_view_module": "@jupyter-widgets/controls",
            "_view_module_version": "1.5.0",
            "_view_name": "HBoxView",
            "box_style": "",
            "children": [
              "IPY_MODEL_372c7c872c1f43df80b631d5ef5904fd",
              "IPY_MODEL_76707c1b61544ce2a32805758da0acd0",
              "IPY_MODEL_a6b22873d331464e878034a445504b40"
            ],
            "layout": "IPY_MODEL_6f0a778cb1a6447d97c465d5623be4d3"
          }
        },
        "372c7c872c1f43df80b631d5ef5904fd": {
          "model_module": "@jupyter-widgets/controls",
          "model_name": "HTMLModel",
          "model_module_version": "1.5.0",
          "state": {
            "_dom_classes": [],
            "_model_module": "@jupyter-widgets/controls",
            "_model_module_version": "1.5.0",
            "_model_name": "HTMLModel",
            "_view_count": null,
            "_view_module": "@jupyter-widgets/controls",
            "_view_module_version": "1.5.0",
            "_view_name": "HTMLView",
            "description": "",
            "description_tooltip": null,
            "layout": "IPY_MODEL_0ac3d77f399646c681598dc4c079a2e1",
            "placeholder": "​",
            "style": "IPY_MODEL_e00ff9f17ebf44c8baca12833316417d",
            "value": "100%"
          }
        },
        "76707c1b61544ce2a32805758da0acd0": {
          "model_module": "@jupyter-widgets/controls",
          "model_name": "FloatProgressModel",
          "model_module_version": "1.5.0",
          "state": {
            "_dom_classes": [],
            "_model_module": "@jupyter-widgets/controls",
            "_model_module_version": "1.5.0",
            "_model_name": "FloatProgressModel",
            "_view_count": null,
            "_view_module": "@jupyter-widgets/controls",
            "_view_module_version": "1.5.0",
            "_view_name": "ProgressView",
            "bar_style": "success",
            "description": "",
            "description_tooltip": null,
            "layout": "IPY_MODEL_0a074de7412744d2946b7c10d91437d9",
            "max": 10,
            "min": 0,
            "orientation": "horizontal",
            "style": "IPY_MODEL_29b9aa98f5114634a832ab265044461c",
            "value": 10
          }
        },
        "a6b22873d331464e878034a445504b40": {
          "model_module": "@jupyter-widgets/controls",
          "model_name": "HTMLModel",
          "model_module_version": "1.5.0",
          "state": {
            "_dom_classes": [],
            "_model_module": "@jupyter-widgets/controls",
            "_model_module_version": "1.5.0",
            "_model_name": "HTMLModel",
            "_view_count": null,
            "_view_module": "@jupyter-widgets/controls",
            "_view_module_version": "1.5.0",
            "_view_name": "HTMLView",
            "description": "",
            "description_tooltip": null,
            "layout": "IPY_MODEL_09ffce7f28e44deba2243346a8d5526f",
            "placeholder": "​",
            "style": "IPY_MODEL_5fe51b39e7cd4dddb13d7100b0a39385",
            "value": " 10/10 [00:06&lt;00:00,  1.54it/s]"
          }
        },
        "6f0a778cb1a6447d97c465d5623be4d3": {
          "model_module": "@jupyter-widgets/base",
          "model_name": "LayoutModel",
          "model_module_version": "1.2.0",
          "state": {
            "_model_module": "@jupyter-widgets/base",
            "_model_module_version": "1.2.0",
            "_model_name": "LayoutModel",
            "_view_count": null,
            "_view_module": "@jupyter-widgets/base",
            "_view_module_version": "1.2.0",
            "_view_name": "LayoutView",
            "align_content": null,
            "align_items": null,
            "align_self": null,
            "border": null,
            "bottom": null,
            "display": null,
            "flex": null,
            "flex_flow": null,
            "grid_area": null,
            "grid_auto_columns": null,
            "grid_auto_flow": null,
            "grid_auto_rows": null,
            "grid_column": null,
            "grid_gap": null,
            "grid_row": null,
            "grid_template_areas": null,
            "grid_template_columns": null,
            "grid_template_rows": null,
            "height": null,
            "justify_content": null,
            "justify_items": null,
            "left": null,
            "margin": null,
            "max_height": null,
            "max_width": null,
            "min_height": null,
            "min_width": null,
            "object_fit": null,
            "object_position": null,
            "order": null,
            "overflow": null,
            "overflow_x": null,
            "overflow_y": null,
            "padding": null,
            "right": null,
            "top": null,
            "visibility": null,
            "width": null
          }
        },
        "0ac3d77f399646c681598dc4c079a2e1": {
          "model_module": "@jupyter-widgets/base",
          "model_name": "LayoutModel",
          "model_module_version": "1.2.0",
          "state": {
            "_model_module": "@jupyter-widgets/base",
            "_model_module_version": "1.2.0",
            "_model_name": "LayoutModel",
            "_view_count": null,
            "_view_module": "@jupyter-widgets/base",
            "_view_module_version": "1.2.0",
            "_view_name": "LayoutView",
            "align_content": null,
            "align_items": null,
            "align_self": null,
            "border": null,
            "bottom": null,
            "display": null,
            "flex": null,
            "flex_flow": null,
            "grid_area": null,
            "grid_auto_columns": null,
            "grid_auto_flow": null,
            "grid_auto_rows": null,
            "grid_column": null,
            "grid_gap": null,
            "grid_row": null,
            "grid_template_areas": null,
            "grid_template_columns": null,
            "grid_template_rows": null,
            "height": null,
            "justify_content": null,
            "justify_items": null,
            "left": null,
            "margin": null,
            "max_height": null,
            "max_width": null,
            "min_height": null,
            "min_width": null,
            "object_fit": null,
            "object_position": null,
            "order": null,
            "overflow": null,
            "overflow_x": null,
            "overflow_y": null,
            "padding": null,
            "right": null,
            "top": null,
            "visibility": null,
            "width": null
          }
        },
        "e00ff9f17ebf44c8baca12833316417d": {
          "model_module": "@jupyter-widgets/controls",
          "model_name": "DescriptionStyleModel",
          "model_module_version": "1.5.0",
          "state": {
            "_model_module": "@jupyter-widgets/controls",
            "_model_module_version": "1.5.0",
            "_model_name": "DescriptionStyleModel",
            "_view_count": null,
            "_view_module": "@jupyter-widgets/base",
            "_view_module_version": "1.2.0",
            "_view_name": "StyleView",
            "description_width": ""
          }
        },
        "0a074de7412744d2946b7c10d91437d9": {
          "model_module": "@jupyter-widgets/base",
          "model_name": "LayoutModel",
          "model_module_version": "1.2.0",
          "state": {
            "_model_module": "@jupyter-widgets/base",
            "_model_module_version": "1.2.0",
            "_model_name": "LayoutModel",
            "_view_count": null,
            "_view_module": "@jupyter-widgets/base",
            "_view_module_version": "1.2.0",
            "_view_name": "LayoutView",
            "align_content": null,
            "align_items": null,
            "align_self": null,
            "border": null,
            "bottom": null,
            "display": null,
            "flex": null,
            "flex_flow": null,
            "grid_area": null,
            "grid_auto_columns": null,
            "grid_auto_flow": null,
            "grid_auto_rows": null,
            "grid_column": null,
            "grid_gap": null,
            "grid_row": null,
            "grid_template_areas": null,
            "grid_template_columns": null,
            "grid_template_rows": null,
            "height": null,
            "justify_content": null,
            "justify_items": null,
            "left": null,
            "margin": null,
            "max_height": null,
            "max_width": null,
            "min_height": null,
            "min_width": null,
            "object_fit": null,
            "object_position": null,
            "order": null,
            "overflow": null,
            "overflow_x": null,
            "overflow_y": null,
            "padding": null,
            "right": null,
            "top": null,
            "visibility": null,
            "width": null
          }
        },
        "29b9aa98f5114634a832ab265044461c": {
          "model_module": "@jupyter-widgets/controls",
          "model_name": "ProgressStyleModel",
          "model_module_version": "1.5.0",
          "state": {
            "_model_module": "@jupyter-widgets/controls",
            "_model_module_version": "1.5.0",
            "_model_name": "ProgressStyleModel",
            "_view_count": null,
            "_view_module": "@jupyter-widgets/base",
            "_view_module_version": "1.2.0",
            "_view_name": "StyleView",
            "bar_color": null,
            "description_width": ""
          }
        },
        "09ffce7f28e44deba2243346a8d5526f": {
          "model_module": "@jupyter-widgets/base",
          "model_name": "LayoutModel",
          "model_module_version": "1.2.0",
          "state": {
            "_model_module": "@jupyter-widgets/base",
            "_model_module_version": "1.2.0",
            "_model_name": "LayoutModel",
            "_view_count": null,
            "_view_module": "@jupyter-widgets/base",
            "_view_module_version": "1.2.0",
            "_view_name": "LayoutView",
            "align_content": null,
            "align_items": null,
            "align_self": null,
            "border": null,
            "bottom": null,
            "display": null,
            "flex": null,
            "flex_flow": null,
            "grid_area": null,
            "grid_auto_columns": null,
            "grid_auto_flow": null,
            "grid_auto_rows": null,
            "grid_column": null,
            "grid_gap": null,
            "grid_row": null,
            "grid_template_areas": null,
            "grid_template_columns": null,
            "grid_template_rows": null,
            "height": null,
            "justify_content": null,
            "justify_items": null,
            "left": null,
            "margin": null,
            "max_height": null,
            "max_width": null,
            "min_height": null,
            "min_width": null,
            "object_fit": null,
            "object_position": null,
            "order": null,
            "overflow": null,
            "overflow_x": null,
            "overflow_y": null,
            "padding": null,
            "right": null,
            "top": null,
            "visibility": null,
            "width": null
          }
        },
        "5fe51b39e7cd4dddb13d7100b0a39385": {
          "model_module": "@jupyter-widgets/controls",
          "model_name": "DescriptionStyleModel",
          "model_module_version": "1.5.0",
          "state": {
            "_model_module": "@jupyter-widgets/controls",
            "_model_module_version": "1.5.0",
            "_model_name": "DescriptionStyleModel",
            "_view_count": null,
            "_view_module": "@jupyter-widgets/base",
            "_view_module_version": "1.2.0",
            "_view_name": "StyleView",
            "description_width": ""
          }
        },
        "08f63aad0f724ac19e15d4a67ce8dff5": {
          "model_module": "@jupyter-widgets/controls",
          "model_name": "HBoxModel",
          "model_module_version": "1.5.0",
          "state": {
            "_dom_classes": [],
            "_model_module": "@jupyter-widgets/controls",
            "_model_module_version": "1.5.0",
            "_model_name": "HBoxModel",
            "_view_count": null,
            "_view_module": "@jupyter-widgets/controls",
            "_view_module_version": "1.5.0",
            "_view_name": "HBoxView",
            "box_style": "",
            "children": [
              "IPY_MODEL_2bd001cae0fd4953890e036d65a8074b",
              "IPY_MODEL_513be03125d44a30aa90662ecd8a5611",
              "IPY_MODEL_68e2645704b24079a943172aaf4065cb"
            ],
            "layout": "IPY_MODEL_c04b36ab034f4a0e9902b453cd7a7e73"
          }
        },
        "2bd001cae0fd4953890e036d65a8074b": {
          "model_module": "@jupyter-widgets/controls",
          "model_name": "HTMLModel",
          "model_module_version": "1.5.0",
          "state": {
            "_dom_classes": [],
            "_model_module": "@jupyter-widgets/controls",
            "_model_module_version": "1.5.0",
            "_model_name": "HTMLModel",
            "_view_count": null,
            "_view_module": "@jupyter-widgets/controls",
            "_view_module_version": "1.5.0",
            "_view_name": "HTMLView",
            "description": "",
            "description_tooltip": null,
            "layout": "IPY_MODEL_5338811d3eb4414d8970dcae3aafbcfe",
            "placeholder": "​",
            "style": "IPY_MODEL_c01694bb72924924b518788f4fb155e7",
            "value": "100%"
          }
        },
        "513be03125d44a30aa90662ecd8a5611": {
          "model_module": "@jupyter-widgets/controls",
          "model_name": "FloatProgressModel",
          "model_module_version": "1.5.0",
          "state": {
            "_dom_classes": [],
            "_model_module": "@jupyter-widgets/controls",
            "_model_module_version": "1.5.0",
            "_model_name": "FloatProgressModel",
            "_view_count": null,
            "_view_module": "@jupyter-widgets/controls",
            "_view_module_version": "1.5.0",
            "_view_name": "ProgressView",
            "bar_style": "success",
            "description": "",
            "description_tooltip": null,
            "layout": "IPY_MODEL_45146f94a6454132be48039837bb9486",
            "max": 10,
            "min": 0,
            "orientation": "horizontal",
            "style": "IPY_MODEL_99ae9b6277ac428fbd77e68b12377aff",
            "value": 10
          }
        },
        "68e2645704b24079a943172aaf4065cb": {
          "model_module": "@jupyter-widgets/controls",
          "model_name": "HTMLModel",
          "model_module_version": "1.5.0",
          "state": {
            "_dom_classes": [],
            "_model_module": "@jupyter-widgets/controls",
            "_model_module_version": "1.5.0",
            "_model_name": "HTMLModel",
            "_view_count": null,
            "_view_module": "@jupyter-widgets/controls",
            "_view_module_version": "1.5.0",
            "_view_name": "HTMLView",
            "description": "",
            "description_tooltip": null,
            "layout": "IPY_MODEL_724733c5a7e14a15bfec04ba2b768cf8",
            "placeholder": "​",
            "style": "IPY_MODEL_cbd8bb17c04748d983a9a1c974bf0014",
            "value": " 10/10 [00:04&lt;00:00,  2.45it/s]"
          }
        },
        "c04b36ab034f4a0e9902b453cd7a7e73": {
          "model_module": "@jupyter-widgets/base",
          "model_name": "LayoutModel",
          "model_module_version": "1.2.0",
          "state": {
            "_model_module": "@jupyter-widgets/base",
            "_model_module_version": "1.2.0",
            "_model_name": "LayoutModel",
            "_view_count": null,
            "_view_module": "@jupyter-widgets/base",
            "_view_module_version": "1.2.0",
            "_view_name": "LayoutView",
            "align_content": null,
            "align_items": null,
            "align_self": null,
            "border": null,
            "bottom": null,
            "display": null,
            "flex": null,
            "flex_flow": null,
            "grid_area": null,
            "grid_auto_columns": null,
            "grid_auto_flow": null,
            "grid_auto_rows": null,
            "grid_column": null,
            "grid_gap": null,
            "grid_row": null,
            "grid_template_areas": null,
            "grid_template_columns": null,
            "grid_template_rows": null,
            "height": null,
            "justify_content": null,
            "justify_items": null,
            "left": null,
            "margin": null,
            "max_height": null,
            "max_width": null,
            "min_height": null,
            "min_width": null,
            "object_fit": null,
            "object_position": null,
            "order": null,
            "overflow": null,
            "overflow_x": null,
            "overflow_y": null,
            "padding": null,
            "right": null,
            "top": null,
            "visibility": null,
            "width": null
          }
        },
        "5338811d3eb4414d8970dcae3aafbcfe": {
          "model_module": "@jupyter-widgets/base",
          "model_name": "LayoutModel",
          "model_module_version": "1.2.0",
          "state": {
            "_model_module": "@jupyter-widgets/base",
            "_model_module_version": "1.2.0",
            "_model_name": "LayoutModel",
            "_view_count": null,
            "_view_module": "@jupyter-widgets/base",
            "_view_module_version": "1.2.0",
            "_view_name": "LayoutView",
            "align_content": null,
            "align_items": null,
            "align_self": null,
            "border": null,
            "bottom": null,
            "display": null,
            "flex": null,
            "flex_flow": null,
            "grid_area": null,
            "grid_auto_columns": null,
            "grid_auto_flow": null,
            "grid_auto_rows": null,
            "grid_column": null,
            "grid_gap": null,
            "grid_row": null,
            "grid_template_areas": null,
            "grid_template_columns": null,
            "grid_template_rows": null,
            "height": null,
            "justify_content": null,
            "justify_items": null,
            "left": null,
            "margin": null,
            "max_height": null,
            "max_width": null,
            "min_height": null,
            "min_width": null,
            "object_fit": null,
            "object_position": null,
            "order": null,
            "overflow": null,
            "overflow_x": null,
            "overflow_y": null,
            "padding": null,
            "right": null,
            "top": null,
            "visibility": null,
            "width": null
          }
        },
        "c01694bb72924924b518788f4fb155e7": {
          "model_module": "@jupyter-widgets/controls",
          "model_name": "DescriptionStyleModel",
          "model_module_version": "1.5.0",
          "state": {
            "_model_module": "@jupyter-widgets/controls",
            "_model_module_version": "1.5.0",
            "_model_name": "DescriptionStyleModel",
            "_view_count": null,
            "_view_module": "@jupyter-widgets/base",
            "_view_module_version": "1.2.0",
            "_view_name": "StyleView",
            "description_width": ""
          }
        },
        "45146f94a6454132be48039837bb9486": {
          "model_module": "@jupyter-widgets/base",
          "model_name": "LayoutModel",
          "model_module_version": "1.2.0",
          "state": {
            "_model_module": "@jupyter-widgets/base",
            "_model_module_version": "1.2.0",
            "_model_name": "LayoutModel",
            "_view_count": null,
            "_view_module": "@jupyter-widgets/base",
            "_view_module_version": "1.2.0",
            "_view_name": "LayoutView",
            "align_content": null,
            "align_items": null,
            "align_self": null,
            "border": null,
            "bottom": null,
            "display": null,
            "flex": null,
            "flex_flow": null,
            "grid_area": null,
            "grid_auto_columns": null,
            "grid_auto_flow": null,
            "grid_auto_rows": null,
            "grid_column": null,
            "grid_gap": null,
            "grid_row": null,
            "grid_template_areas": null,
            "grid_template_columns": null,
            "grid_template_rows": null,
            "height": null,
            "justify_content": null,
            "justify_items": null,
            "left": null,
            "margin": null,
            "max_height": null,
            "max_width": null,
            "min_height": null,
            "min_width": null,
            "object_fit": null,
            "object_position": null,
            "order": null,
            "overflow": null,
            "overflow_x": null,
            "overflow_y": null,
            "padding": null,
            "right": null,
            "top": null,
            "visibility": null,
            "width": null
          }
        },
        "99ae9b6277ac428fbd77e68b12377aff": {
          "model_module": "@jupyter-widgets/controls",
          "model_name": "ProgressStyleModel",
          "model_module_version": "1.5.0",
          "state": {
            "_model_module": "@jupyter-widgets/controls",
            "_model_module_version": "1.5.0",
            "_model_name": "ProgressStyleModel",
            "_view_count": null,
            "_view_module": "@jupyter-widgets/base",
            "_view_module_version": "1.2.0",
            "_view_name": "StyleView",
            "bar_color": null,
            "description_width": ""
          }
        },
        "724733c5a7e14a15bfec04ba2b768cf8": {
          "model_module": "@jupyter-widgets/base",
          "model_name": "LayoutModel",
          "model_module_version": "1.2.0",
          "state": {
            "_model_module": "@jupyter-widgets/base",
            "_model_module_version": "1.2.0",
            "_model_name": "LayoutModel",
            "_view_count": null,
            "_view_module": "@jupyter-widgets/base",
            "_view_module_version": "1.2.0",
            "_view_name": "LayoutView",
            "align_content": null,
            "align_items": null,
            "align_self": null,
            "border": null,
            "bottom": null,
            "display": null,
            "flex": null,
            "flex_flow": null,
            "grid_area": null,
            "grid_auto_columns": null,
            "grid_auto_flow": null,
            "grid_auto_rows": null,
            "grid_column": null,
            "grid_gap": null,
            "grid_row": null,
            "grid_template_areas": null,
            "grid_template_columns": null,
            "grid_template_rows": null,
            "height": null,
            "justify_content": null,
            "justify_items": null,
            "left": null,
            "margin": null,
            "max_height": null,
            "max_width": null,
            "min_height": null,
            "min_width": null,
            "object_fit": null,
            "object_position": null,
            "order": null,
            "overflow": null,
            "overflow_x": null,
            "overflow_y": null,
            "padding": null,
            "right": null,
            "top": null,
            "visibility": null,
            "width": null
          }
        },
        "cbd8bb17c04748d983a9a1c974bf0014": {
          "model_module": "@jupyter-widgets/controls",
          "model_name": "DescriptionStyleModel",
          "model_module_version": "1.5.0",
          "state": {
            "_model_module": "@jupyter-widgets/controls",
            "_model_module_version": "1.5.0",
            "_model_name": "DescriptionStyleModel",
            "_view_count": null,
            "_view_module": "@jupyter-widgets/base",
            "_view_module_version": "1.2.0",
            "_view_name": "StyleView",
            "description_width": ""
          }
        },
        "891dec01664048d98217fafeadf430b8": {
          "model_module": "@jupyter-widgets/controls",
          "model_name": "HBoxModel",
          "model_module_version": "1.5.0",
          "state": {
            "_dom_classes": [],
            "_model_module": "@jupyter-widgets/controls",
            "_model_module_version": "1.5.0",
            "_model_name": "HBoxModel",
            "_view_count": null,
            "_view_module": "@jupyter-widgets/controls",
            "_view_module_version": "1.5.0",
            "_view_name": "HBoxView",
            "box_style": "",
            "children": [
              "IPY_MODEL_56ebe8030ca64b06848e0594712cd039",
              "IPY_MODEL_cebce82db5e547ef848c70bd3837ac8c",
              "IPY_MODEL_1fd73282dccf4f12b8f3a7c8558248bf"
            ],
            "layout": "IPY_MODEL_236d30c84edd4e2d9d89f00377014954"
          }
        },
        "56ebe8030ca64b06848e0594712cd039": {
          "model_module": "@jupyter-widgets/controls",
          "model_name": "HTMLModel",
          "model_module_version": "1.5.0",
          "state": {
            "_dom_classes": [],
            "_model_module": "@jupyter-widgets/controls",
            "_model_module_version": "1.5.0",
            "_model_name": "HTMLModel",
            "_view_count": null,
            "_view_module": "@jupyter-widgets/controls",
            "_view_module_version": "1.5.0",
            "_view_name": "HTMLView",
            "description": "",
            "description_tooltip": null,
            "layout": "IPY_MODEL_cc257edeb218421caa2976bd2e48391e",
            "placeholder": "​",
            "style": "IPY_MODEL_f47b5395ac4f47b5895136c694acaa22",
            "value": "100%"
          }
        },
        "cebce82db5e547ef848c70bd3837ac8c": {
          "model_module": "@jupyter-widgets/controls",
          "model_name": "FloatProgressModel",
          "model_module_version": "1.5.0",
          "state": {
            "_dom_classes": [],
            "_model_module": "@jupyter-widgets/controls",
            "_model_module_version": "1.5.0",
            "_model_name": "FloatProgressModel",
            "_view_count": null,
            "_view_module": "@jupyter-widgets/controls",
            "_view_module_version": "1.5.0",
            "_view_name": "ProgressView",
            "bar_style": "success",
            "description": "",
            "description_tooltip": null,
            "layout": "IPY_MODEL_4249b5187c034b10baa5a3b611f182e8",
            "max": 10,
            "min": 0,
            "orientation": "horizontal",
            "style": "IPY_MODEL_acbc7bb030b542a587b66e29230f0bff",
            "value": 10
          }
        },
        "1fd73282dccf4f12b8f3a7c8558248bf": {
          "model_module": "@jupyter-widgets/controls",
          "model_name": "HTMLModel",
          "model_module_version": "1.5.0",
          "state": {
            "_dom_classes": [],
            "_model_module": "@jupyter-widgets/controls",
            "_model_module_version": "1.5.0",
            "_model_name": "HTMLModel",
            "_view_count": null,
            "_view_module": "@jupyter-widgets/controls",
            "_view_module_version": "1.5.0",
            "_view_name": "HTMLView",
            "description": "",
            "description_tooltip": null,
            "layout": "IPY_MODEL_33426247cb7c438f9c3943eeeccd0779",
            "placeholder": "​",
            "style": "IPY_MODEL_b4c62b2ee4c94a48b99d846c560d2f26",
            "value": " 10/10 [00:01&lt;00:00,  6.85it/s]"
          }
        },
        "236d30c84edd4e2d9d89f00377014954": {
          "model_module": "@jupyter-widgets/base",
          "model_name": "LayoutModel",
          "model_module_version": "1.2.0",
          "state": {
            "_model_module": "@jupyter-widgets/base",
            "_model_module_version": "1.2.0",
            "_model_name": "LayoutModel",
            "_view_count": null,
            "_view_module": "@jupyter-widgets/base",
            "_view_module_version": "1.2.0",
            "_view_name": "LayoutView",
            "align_content": null,
            "align_items": null,
            "align_self": null,
            "border": null,
            "bottom": null,
            "display": null,
            "flex": null,
            "flex_flow": null,
            "grid_area": null,
            "grid_auto_columns": null,
            "grid_auto_flow": null,
            "grid_auto_rows": null,
            "grid_column": null,
            "grid_gap": null,
            "grid_row": null,
            "grid_template_areas": null,
            "grid_template_columns": null,
            "grid_template_rows": null,
            "height": null,
            "justify_content": null,
            "justify_items": null,
            "left": null,
            "margin": null,
            "max_height": null,
            "max_width": null,
            "min_height": null,
            "min_width": null,
            "object_fit": null,
            "object_position": null,
            "order": null,
            "overflow": null,
            "overflow_x": null,
            "overflow_y": null,
            "padding": null,
            "right": null,
            "top": null,
            "visibility": null,
            "width": null
          }
        },
        "cc257edeb218421caa2976bd2e48391e": {
          "model_module": "@jupyter-widgets/base",
          "model_name": "LayoutModel",
          "model_module_version": "1.2.0",
          "state": {
            "_model_module": "@jupyter-widgets/base",
            "_model_module_version": "1.2.0",
            "_model_name": "LayoutModel",
            "_view_count": null,
            "_view_module": "@jupyter-widgets/base",
            "_view_module_version": "1.2.0",
            "_view_name": "LayoutView",
            "align_content": null,
            "align_items": null,
            "align_self": null,
            "border": null,
            "bottom": null,
            "display": null,
            "flex": null,
            "flex_flow": null,
            "grid_area": null,
            "grid_auto_columns": null,
            "grid_auto_flow": null,
            "grid_auto_rows": null,
            "grid_column": null,
            "grid_gap": null,
            "grid_row": null,
            "grid_template_areas": null,
            "grid_template_columns": null,
            "grid_template_rows": null,
            "height": null,
            "justify_content": null,
            "justify_items": null,
            "left": null,
            "margin": null,
            "max_height": null,
            "max_width": null,
            "min_height": null,
            "min_width": null,
            "object_fit": null,
            "object_position": null,
            "order": null,
            "overflow": null,
            "overflow_x": null,
            "overflow_y": null,
            "padding": null,
            "right": null,
            "top": null,
            "visibility": null,
            "width": null
          }
        },
        "f47b5395ac4f47b5895136c694acaa22": {
          "model_module": "@jupyter-widgets/controls",
          "model_name": "DescriptionStyleModel",
          "model_module_version": "1.5.0",
          "state": {
            "_model_module": "@jupyter-widgets/controls",
            "_model_module_version": "1.5.0",
            "_model_name": "DescriptionStyleModel",
            "_view_count": null,
            "_view_module": "@jupyter-widgets/base",
            "_view_module_version": "1.2.0",
            "_view_name": "StyleView",
            "description_width": ""
          }
        },
        "4249b5187c034b10baa5a3b611f182e8": {
          "model_module": "@jupyter-widgets/base",
          "model_name": "LayoutModel",
          "model_module_version": "1.2.0",
          "state": {
            "_model_module": "@jupyter-widgets/base",
            "_model_module_version": "1.2.0",
            "_model_name": "LayoutModel",
            "_view_count": null,
            "_view_module": "@jupyter-widgets/base",
            "_view_module_version": "1.2.0",
            "_view_name": "LayoutView",
            "align_content": null,
            "align_items": null,
            "align_self": null,
            "border": null,
            "bottom": null,
            "display": null,
            "flex": null,
            "flex_flow": null,
            "grid_area": null,
            "grid_auto_columns": null,
            "grid_auto_flow": null,
            "grid_auto_rows": null,
            "grid_column": null,
            "grid_gap": null,
            "grid_row": null,
            "grid_template_areas": null,
            "grid_template_columns": null,
            "grid_template_rows": null,
            "height": null,
            "justify_content": null,
            "justify_items": null,
            "left": null,
            "margin": null,
            "max_height": null,
            "max_width": null,
            "min_height": null,
            "min_width": null,
            "object_fit": null,
            "object_position": null,
            "order": null,
            "overflow": null,
            "overflow_x": null,
            "overflow_y": null,
            "padding": null,
            "right": null,
            "top": null,
            "visibility": null,
            "width": null
          }
        },
        "acbc7bb030b542a587b66e29230f0bff": {
          "model_module": "@jupyter-widgets/controls",
          "model_name": "ProgressStyleModel",
          "model_module_version": "1.5.0",
          "state": {
            "_model_module": "@jupyter-widgets/controls",
            "_model_module_version": "1.5.0",
            "_model_name": "ProgressStyleModel",
            "_view_count": null,
            "_view_module": "@jupyter-widgets/base",
            "_view_module_version": "1.2.0",
            "_view_name": "StyleView",
            "bar_color": null,
            "description_width": ""
          }
        },
        "33426247cb7c438f9c3943eeeccd0779": {
          "model_module": "@jupyter-widgets/base",
          "model_name": "LayoutModel",
          "model_module_version": "1.2.0",
          "state": {
            "_model_module": "@jupyter-widgets/base",
            "_model_module_version": "1.2.0",
            "_model_name": "LayoutModel",
            "_view_count": null,
            "_view_module": "@jupyter-widgets/base",
            "_view_module_version": "1.2.0",
            "_view_name": "LayoutView",
            "align_content": null,
            "align_items": null,
            "align_self": null,
            "border": null,
            "bottom": null,
            "display": null,
            "flex": null,
            "flex_flow": null,
            "grid_area": null,
            "grid_auto_columns": null,
            "grid_auto_flow": null,
            "grid_auto_rows": null,
            "grid_column": null,
            "grid_gap": null,
            "grid_row": null,
            "grid_template_areas": null,
            "grid_template_columns": null,
            "grid_template_rows": null,
            "height": null,
            "justify_content": null,
            "justify_items": null,
            "left": null,
            "margin": null,
            "max_height": null,
            "max_width": null,
            "min_height": null,
            "min_width": null,
            "object_fit": null,
            "object_position": null,
            "order": null,
            "overflow": null,
            "overflow_x": null,
            "overflow_y": null,
            "padding": null,
            "right": null,
            "top": null,
            "visibility": null,
            "width": null
          }
        },
        "b4c62b2ee4c94a48b99d846c560d2f26": {
          "model_module": "@jupyter-widgets/controls",
          "model_name": "DescriptionStyleModel",
          "model_module_version": "1.5.0",
          "state": {
            "_model_module": "@jupyter-widgets/controls",
            "_model_module_version": "1.5.0",
            "_model_name": "DescriptionStyleModel",
            "_view_count": null,
            "_view_module": "@jupyter-widgets/base",
            "_view_module_version": "1.2.0",
            "_view_name": "StyleView",
            "description_width": ""
          }
        },
        "424e8df749db47779525ac86f2fbc918": {
          "model_module": "@jupyter-widgets/controls",
          "model_name": "HBoxModel",
          "model_module_version": "1.5.0",
          "state": {
            "_dom_classes": [],
            "_model_module": "@jupyter-widgets/controls",
            "_model_module_version": "1.5.0",
            "_model_name": "HBoxModel",
            "_view_count": null,
            "_view_module": "@jupyter-widgets/controls",
            "_view_module_version": "1.5.0",
            "_view_name": "HBoxView",
            "box_style": "",
            "children": [
              "IPY_MODEL_0bbdebc1bf104411bf28db0d09a8ed9b",
              "IPY_MODEL_02a19497a6d94eaa9a54e8875b69dcf7",
              "IPY_MODEL_c6ef38d9dde248b195650afbf96fbd81"
            ],
            "layout": "IPY_MODEL_cfaefc07df1348f8b8c93eca7ab35558"
          }
        },
        "0bbdebc1bf104411bf28db0d09a8ed9b": {
          "model_module": "@jupyter-widgets/controls",
          "model_name": "HTMLModel",
          "model_module_version": "1.5.0",
          "state": {
            "_dom_classes": [],
            "_model_module": "@jupyter-widgets/controls",
            "_model_module_version": "1.5.0",
            "_model_name": "HTMLModel",
            "_view_count": null,
            "_view_module": "@jupyter-widgets/controls",
            "_view_module_version": "1.5.0",
            "_view_name": "HTMLView",
            "description": "",
            "description_tooltip": null,
            "layout": "IPY_MODEL_228ec1cfb34f47b394b3341c946f3e42",
            "placeholder": "​",
            "style": "IPY_MODEL_c246ac4268cf46299d6e5166b17c0470",
            "value": "100%"
          }
        },
        "02a19497a6d94eaa9a54e8875b69dcf7": {
          "model_module": "@jupyter-widgets/controls",
          "model_name": "FloatProgressModel",
          "model_module_version": "1.5.0",
          "state": {
            "_dom_classes": [],
            "_model_module": "@jupyter-widgets/controls",
            "_model_module_version": "1.5.0",
            "_model_name": "FloatProgressModel",
            "_view_count": null,
            "_view_module": "@jupyter-widgets/controls",
            "_view_module_version": "1.5.0",
            "_view_name": "ProgressView",
            "bar_style": "success",
            "description": "",
            "description_tooltip": null,
            "layout": "IPY_MODEL_b514e89ab3504409b0c5c7e24acec204",
            "max": 6,
            "min": 0,
            "orientation": "horizontal",
            "style": "IPY_MODEL_91cbc0b8c2ea42b7997fcc1b33fce7e4",
            "value": 6
          }
        },
        "c6ef38d9dde248b195650afbf96fbd81": {
          "model_module": "@jupyter-widgets/controls",
          "model_name": "HTMLModel",
          "model_module_version": "1.5.0",
          "state": {
            "_dom_classes": [],
            "_model_module": "@jupyter-widgets/controls",
            "_model_module_version": "1.5.0",
            "_model_name": "HTMLModel",
            "_view_count": null,
            "_view_module": "@jupyter-widgets/controls",
            "_view_module_version": "1.5.0",
            "_view_name": "HTMLView",
            "description": "",
            "description_tooltip": null,
            "layout": "IPY_MODEL_fe72c50fedc44ffabaf678ea45b41094",
            "placeholder": "​",
            "style": "IPY_MODEL_9a980fe2ca244c1c812b9dc3c645223d",
            "value": " 6/6 [00:02&lt;00:00,  2.36it/s]"
          }
        },
        "cfaefc07df1348f8b8c93eca7ab35558": {
          "model_module": "@jupyter-widgets/base",
          "model_name": "LayoutModel",
          "model_module_version": "1.2.0",
          "state": {
            "_model_module": "@jupyter-widgets/base",
            "_model_module_version": "1.2.0",
            "_model_name": "LayoutModel",
            "_view_count": null,
            "_view_module": "@jupyter-widgets/base",
            "_view_module_version": "1.2.0",
            "_view_name": "LayoutView",
            "align_content": null,
            "align_items": null,
            "align_self": null,
            "border": null,
            "bottom": null,
            "display": null,
            "flex": null,
            "flex_flow": null,
            "grid_area": null,
            "grid_auto_columns": null,
            "grid_auto_flow": null,
            "grid_auto_rows": null,
            "grid_column": null,
            "grid_gap": null,
            "grid_row": null,
            "grid_template_areas": null,
            "grid_template_columns": null,
            "grid_template_rows": null,
            "height": null,
            "justify_content": null,
            "justify_items": null,
            "left": null,
            "margin": null,
            "max_height": null,
            "max_width": null,
            "min_height": null,
            "min_width": null,
            "object_fit": null,
            "object_position": null,
            "order": null,
            "overflow": null,
            "overflow_x": null,
            "overflow_y": null,
            "padding": null,
            "right": null,
            "top": null,
            "visibility": null,
            "width": null
          }
        },
        "228ec1cfb34f47b394b3341c946f3e42": {
          "model_module": "@jupyter-widgets/base",
          "model_name": "LayoutModel",
          "model_module_version": "1.2.0",
          "state": {
            "_model_module": "@jupyter-widgets/base",
            "_model_module_version": "1.2.0",
            "_model_name": "LayoutModel",
            "_view_count": null,
            "_view_module": "@jupyter-widgets/base",
            "_view_module_version": "1.2.0",
            "_view_name": "LayoutView",
            "align_content": null,
            "align_items": null,
            "align_self": null,
            "border": null,
            "bottom": null,
            "display": null,
            "flex": null,
            "flex_flow": null,
            "grid_area": null,
            "grid_auto_columns": null,
            "grid_auto_flow": null,
            "grid_auto_rows": null,
            "grid_column": null,
            "grid_gap": null,
            "grid_row": null,
            "grid_template_areas": null,
            "grid_template_columns": null,
            "grid_template_rows": null,
            "height": null,
            "justify_content": null,
            "justify_items": null,
            "left": null,
            "margin": null,
            "max_height": null,
            "max_width": null,
            "min_height": null,
            "min_width": null,
            "object_fit": null,
            "object_position": null,
            "order": null,
            "overflow": null,
            "overflow_x": null,
            "overflow_y": null,
            "padding": null,
            "right": null,
            "top": null,
            "visibility": null,
            "width": null
          }
        },
        "c246ac4268cf46299d6e5166b17c0470": {
          "model_module": "@jupyter-widgets/controls",
          "model_name": "DescriptionStyleModel",
          "model_module_version": "1.5.0",
          "state": {
            "_model_module": "@jupyter-widgets/controls",
            "_model_module_version": "1.5.0",
            "_model_name": "DescriptionStyleModel",
            "_view_count": null,
            "_view_module": "@jupyter-widgets/base",
            "_view_module_version": "1.2.0",
            "_view_name": "StyleView",
            "description_width": ""
          }
        },
        "b514e89ab3504409b0c5c7e24acec204": {
          "model_module": "@jupyter-widgets/base",
          "model_name": "LayoutModel",
          "model_module_version": "1.2.0",
          "state": {
            "_model_module": "@jupyter-widgets/base",
            "_model_module_version": "1.2.0",
            "_model_name": "LayoutModel",
            "_view_count": null,
            "_view_module": "@jupyter-widgets/base",
            "_view_module_version": "1.2.0",
            "_view_name": "LayoutView",
            "align_content": null,
            "align_items": null,
            "align_self": null,
            "border": null,
            "bottom": null,
            "display": null,
            "flex": null,
            "flex_flow": null,
            "grid_area": null,
            "grid_auto_columns": null,
            "grid_auto_flow": null,
            "grid_auto_rows": null,
            "grid_column": null,
            "grid_gap": null,
            "grid_row": null,
            "grid_template_areas": null,
            "grid_template_columns": null,
            "grid_template_rows": null,
            "height": null,
            "justify_content": null,
            "justify_items": null,
            "left": null,
            "margin": null,
            "max_height": null,
            "max_width": null,
            "min_height": null,
            "min_width": null,
            "object_fit": null,
            "object_position": null,
            "order": null,
            "overflow": null,
            "overflow_x": null,
            "overflow_y": null,
            "padding": null,
            "right": null,
            "top": null,
            "visibility": null,
            "width": null
          }
        },
        "91cbc0b8c2ea42b7997fcc1b33fce7e4": {
          "model_module": "@jupyter-widgets/controls",
          "model_name": "ProgressStyleModel",
          "model_module_version": "1.5.0",
          "state": {
            "_model_module": "@jupyter-widgets/controls",
            "_model_module_version": "1.5.0",
            "_model_name": "ProgressStyleModel",
            "_view_count": null,
            "_view_module": "@jupyter-widgets/base",
            "_view_module_version": "1.2.0",
            "_view_name": "StyleView",
            "bar_color": null,
            "description_width": ""
          }
        },
        "fe72c50fedc44ffabaf678ea45b41094": {
          "model_module": "@jupyter-widgets/base",
          "model_name": "LayoutModel",
          "model_module_version": "1.2.0",
          "state": {
            "_model_module": "@jupyter-widgets/base",
            "_model_module_version": "1.2.0",
            "_model_name": "LayoutModel",
            "_view_count": null,
            "_view_module": "@jupyter-widgets/base",
            "_view_module_version": "1.2.0",
            "_view_name": "LayoutView",
            "align_content": null,
            "align_items": null,
            "align_self": null,
            "border": null,
            "bottom": null,
            "display": null,
            "flex": null,
            "flex_flow": null,
            "grid_area": null,
            "grid_auto_columns": null,
            "grid_auto_flow": null,
            "grid_auto_rows": null,
            "grid_column": null,
            "grid_gap": null,
            "grid_row": null,
            "grid_template_areas": null,
            "grid_template_columns": null,
            "grid_template_rows": null,
            "height": null,
            "justify_content": null,
            "justify_items": null,
            "left": null,
            "margin": null,
            "max_height": null,
            "max_width": null,
            "min_height": null,
            "min_width": null,
            "object_fit": null,
            "object_position": null,
            "order": null,
            "overflow": null,
            "overflow_x": null,
            "overflow_y": null,
            "padding": null,
            "right": null,
            "top": null,
            "visibility": null,
            "width": null
          }
        },
        "9a980fe2ca244c1c812b9dc3c645223d": {
          "model_module": "@jupyter-widgets/controls",
          "model_name": "DescriptionStyleModel",
          "model_module_version": "1.5.0",
          "state": {
            "_model_module": "@jupyter-widgets/controls",
            "_model_module_version": "1.5.0",
            "_model_name": "DescriptionStyleModel",
            "_view_count": null,
            "_view_module": "@jupyter-widgets/base",
            "_view_module_version": "1.2.0",
            "_view_name": "StyleView",
            "description_width": ""
          }
        },
        "a46da3d8709e4154af2d37c681046cf4": {
          "model_module": "@jupyter-widgets/controls",
          "model_name": "HBoxModel",
          "model_module_version": "1.5.0",
          "state": {
            "_dom_classes": [],
            "_model_module": "@jupyter-widgets/controls",
            "_model_module_version": "1.5.0",
            "_model_name": "HBoxModel",
            "_view_count": null,
            "_view_module": "@jupyter-widgets/controls",
            "_view_module_version": "1.5.0",
            "_view_name": "HBoxView",
            "box_style": "",
            "children": [
              "IPY_MODEL_7ca9e87c91ad43f6ab45846a75305c89",
              "IPY_MODEL_e27a8489cc434f3daa10df58bab2dea0",
              "IPY_MODEL_be5a7e7804464fa691a4f9a54f68bd27"
            ],
            "layout": "IPY_MODEL_3b91ac5e6d384904b33264d8251f54f7"
          }
        },
        "7ca9e87c91ad43f6ab45846a75305c89": {
          "model_module": "@jupyter-widgets/controls",
          "model_name": "HTMLModel",
          "model_module_version": "1.5.0",
          "state": {
            "_dom_classes": [],
            "_model_module": "@jupyter-widgets/controls",
            "_model_module_version": "1.5.0",
            "_model_name": "HTMLModel",
            "_view_count": null,
            "_view_module": "@jupyter-widgets/controls",
            "_view_module_version": "1.5.0",
            "_view_name": "HTMLView",
            "description": "",
            "description_tooltip": null,
            "layout": "IPY_MODEL_0ce3cd57d4f44deab27cb266c4441cb7",
            "placeholder": "​",
            "style": "IPY_MODEL_c9c3fe2eb1504f9788e5b71f2404b478",
            "value": "100%"
          }
        },
        "e27a8489cc434f3daa10df58bab2dea0": {
          "model_module": "@jupyter-widgets/controls",
          "model_name": "FloatProgressModel",
          "model_module_version": "1.5.0",
          "state": {
            "_dom_classes": [],
            "_model_module": "@jupyter-widgets/controls",
            "_model_module_version": "1.5.0",
            "_model_name": "FloatProgressModel",
            "_view_count": null,
            "_view_module": "@jupyter-widgets/controls",
            "_view_module_version": "1.5.0",
            "_view_name": "ProgressView",
            "bar_style": "success",
            "description": "",
            "description_tooltip": null,
            "layout": "IPY_MODEL_9e37c84deeab441abe883022d90f697c",
            "max": 50,
            "min": 0,
            "orientation": "horizontal",
            "style": "IPY_MODEL_fb1a69d7e1d24d4293d5e27b2e7b3773",
            "value": 50
          }
        },
        "be5a7e7804464fa691a4f9a54f68bd27": {
          "model_module": "@jupyter-widgets/controls",
          "model_name": "HTMLModel",
          "model_module_version": "1.5.0",
          "state": {
            "_dom_classes": [],
            "_model_module": "@jupyter-widgets/controls",
            "_model_module_version": "1.5.0",
            "_model_name": "HTMLModel",
            "_view_count": null,
            "_view_module": "@jupyter-widgets/controls",
            "_view_module_version": "1.5.0",
            "_view_name": "HTMLView",
            "description": "",
            "description_tooltip": null,
            "layout": "IPY_MODEL_e5b4c75590214815a92c064baad1346d",
            "placeholder": "​",
            "style": "IPY_MODEL_8aab138dd2b84affbc978ad659a5423c",
            "value": " 50/50 [00:00&lt;00:00, 85.11it/s]"
          }
        },
        "3b91ac5e6d384904b33264d8251f54f7": {
          "model_module": "@jupyter-widgets/base",
          "model_name": "LayoutModel",
          "model_module_version": "1.2.0",
          "state": {
            "_model_module": "@jupyter-widgets/base",
            "_model_module_version": "1.2.0",
            "_model_name": "LayoutModel",
            "_view_count": null,
            "_view_module": "@jupyter-widgets/base",
            "_view_module_version": "1.2.0",
            "_view_name": "LayoutView",
            "align_content": null,
            "align_items": null,
            "align_self": null,
            "border": null,
            "bottom": null,
            "display": null,
            "flex": null,
            "flex_flow": null,
            "grid_area": null,
            "grid_auto_columns": null,
            "grid_auto_flow": null,
            "grid_auto_rows": null,
            "grid_column": null,
            "grid_gap": null,
            "grid_row": null,
            "grid_template_areas": null,
            "grid_template_columns": null,
            "grid_template_rows": null,
            "height": null,
            "justify_content": null,
            "justify_items": null,
            "left": null,
            "margin": null,
            "max_height": null,
            "max_width": null,
            "min_height": null,
            "min_width": null,
            "object_fit": null,
            "object_position": null,
            "order": null,
            "overflow": null,
            "overflow_x": null,
            "overflow_y": null,
            "padding": null,
            "right": null,
            "top": null,
            "visibility": null,
            "width": null
          }
        },
        "0ce3cd57d4f44deab27cb266c4441cb7": {
          "model_module": "@jupyter-widgets/base",
          "model_name": "LayoutModel",
          "model_module_version": "1.2.0",
          "state": {
            "_model_module": "@jupyter-widgets/base",
            "_model_module_version": "1.2.0",
            "_model_name": "LayoutModel",
            "_view_count": null,
            "_view_module": "@jupyter-widgets/base",
            "_view_module_version": "1.2.0",
            "_view_name": "LayoutView",
            "align_content": null,
            "align_items": null,
            "align_self": null,
            "border": null,
            "bottom": null,
            "display": null,
            "flex": null,
            "flex_flow": null,
            "grid_area": null,
            "grid_auto_columns": null,
            "grid_auto_flow": null,
            "grid_auto_rows": null,
            "grid_column": null,
            "grid_gap": null,
            "grid_row": null,
            "grid_template_areas": null,
            "grid_template_columns": null,
            "grid_template_rows": null,
            "height": null,
            "justify_content": null,
            "justify_items": null,
            "left": null,
            "margin": null,
            "max_height": null,
            "max_width": null,
            "min_height": null,
            "min_width": null,
            "object_fit": null,
            "object_position": null,
            "order": null,
            "overflow": null,
            "overflow_x": null,
            "overflow_y": null,
            "padding": null,
            "right": null,
            "top": null,
            "visibility": null,
            "width": null
          }
        },
        "c9c3fe2eb1504f9788e5b71f2404b478": {
          "model_module": "@jupyter-widgets/controls",
          "model_name": "DescriptionStyleModel",
          "model_module_version": "1.5.0",
          "state": {
            "_model_module": "@jupyter-widgets/controls",
            "_model_module_version": "1.5.0",
            "_model_name": "DescriptionStyleModel",
            "_view_count": null,
            "_view_module": "@jupyter-widgets/base",
            "_view_module_version": "1.2.0",
            "_view_name": "StyleView",
            "description_width": ""
          }
        },
        "9e37c84deeab441abe883022d90f697c": {
          "model_module": "@jupyter-widgets/base",
          "model_name": "LayoutModel",
          "model_module_version": "1.2.0",
          "state": {
            "_model_module": "@jupyter-widgets/base",
            "_model_module_version": "1.2.0",
            "_model_name": "LayoutModel",
            "_view_count": null,
            "_view_module": "@jupyter-widgets/base",
            "_view_module_version": "1.2.0",
            "_view_name": "LayoutView",
            "align_content": null,
            "align_items": null,
            "align_self": null,
            "border": null,
            "bottom": null,
            "display": null,
            "flex": null,
            "flex_flow": null,
            "grid_area": null,
            "grid_auto_columns": null,
            "grid_auto_flow": null,
            "grid_auto_rows": null,
            "grid_column": null,
            "grid_gap": null,
            "grid_row": null,
            "grid_template_areas": null,
            "grid_template_columns": null,
            "grid_template_rows": null,
            "height": null,
            "justify_content": null,
            "justify_items": null,
            "left": null,
            "margin": null,
            "max_height": null,
            "max_width": null,
            "min_height": null,
            "min_width": null,
            "object_fit": null,
            "object_position": null,
            "order": null,
            "overflow": null,
            "overflow_x": null,
            "overflow_y": null,
            "padding": null,
            "right": null,
            "top": null,
            "visibility": null,
            "width": null
          }
        },
        "fb1a69d7e1d24d4293d5e27b2e7b3773": {
          "model_module": "@jupyter-widgets/controls",
          "model_name": "ProgressStyleModel",
          "model_module_version": "1.5.0",
          "state": {
            "_model_module": "@jupyter-widgets/controls",
            "_model_module_version": "1.5.0",
            "_model_name": "ProgressStyleModel",
            "_view_count": null,
            "_view_module": "@jupyter-widgets/base",
            "_view_module_version": "1.2.0",
            "_view_name": "StyleView",
            "bar_color": null,
            "description_width": ""
          }
        },
        "e5b4c75590214815a92c064baad1346d": {
          "model_module": "@jupyter-widgets/base",
          "model_name": "LayoutModel",
          "model_module_version": "1.2.0",
          "state": {
            "_model_module": "@jupyter-widgets/base",
            "_model_module_version": "1.2.0",
            "_model_name": "LayoutModel",
            "_view_count": null,
            "_view_module": "@jupyter-widgets/base",
            "_view_module_version": "1.2.0",
            "_view_name": "LayoutView",
            "align_content": null,
            "align_items": null,
            "align_self": null,
            "border": null,
            "bottom": null,
            "display": null,
            "flex": null,
            "flex_flow": null,
            "grid_area": null,
            "grid_auto_columns": null,
            "grid_auto_flow": null,
            "grid_auto_rows": null,
            "grid_column": null,
            "grid_gap": null,
            "grid_row": null,
            "grid_template_areas": null,
            "grid_template_columns": null,
            "grid_template_rows": null,
            "height": null,
            "justify_content": null,
            "justify_items": null,
            "left": null,
            "margin": null,
            "max_height": null,
            "max_width": null,
            "min_height": null,
            "min_width": null,
            "object_fit": null,
            "object_position": null,
            "order": null,
            "overflow": null,
            "overflow_x": null,
            "overflow_y": null,
            "padding": null,
            "right": null,
            "top": null,
            "visibility": null,
            "width": null
          }
        },
        "8aab138dd2b84affbc978ad659a5423c": {
          "model_module": "@jupyter-widgets/controls",
          "model_name": "DescriptionStyleModel",
          "model_module_version": "1.5.0",
          "state": {
            "_model_module": "@jupyter-widgets/controls",
            "_model_module_version": "1.5.0",
            "_model_name": "DescriptionStyleModel",
            "_view_count": null,
            "_view_module": "@jupyter-widgets/base",
            "_view_module_version": "1.2.0",
            "_view_name": "StyleView",
            "description_width": ""
          }
        },
        "b2c3aab9095b4affac57a0a30dd078fc": {
          "model_module": "@jupyter-widgets/controls",
          "model_name": "HBoxModel",
          "model_module_version": "1.5.0",
          "state": {
            "_dom_classes": [],
            "_model_module": "@jupyter-widgets/controls",
            "_model_module_version": "1.5.0",
            "_model_name": "HBoxModel",
            "_view_count": null,
            "_view_module": "@jupyter-widgets/controls",
            "_view_module_version": "1.5.0",
            "_view_name": "HBoxView",
            "box_style": "",
            "children": [
              "IPY_MODEL_9fca59546264483d80ca4fb10f990e38",
              "IPY_MODEL_d5d068b8c9444bc5843174fb0858e5f1",
              "IPY_MODEL_1d858b0318964aa19213eaca69777bda"
            ],
            "layout": "IPY_MODEL_e5dfea382b074ebca0d5d93872a2219c"
          }
        },
        "9fca59546264483d80ca4fb10f990e38": {
          "model_module": "@jupyter-widgets/controls",
          "model_name": "HTMLModel",
          "model_module_version": "1.5.0",
          "state": {
            "_dom_classes": [],
            "_model_module": "@jupyter-widgets/controls",
            "_model_module_version": "1.5.0",
            "_model_name": "HTMLModel",
            "_view_count": null,
            "_view_module": "@jupyter-widgets/controls",
            "_view_module_version": "1.5.0",
            "_view_name": "HTMLView",
            "description": "",
            "description_tooltip": null,
            "layout": "IPY_MODEL_4ac5170e09b34e42a72f451ffa0a8ebe",
            "placeholder": "​",
            "style": "IPY_MODEL_1c5e3cd893f34f898007b6d77b1196ae",
            "value": "100%"
          }
        },
        "d5d068b8c9444bc5843174fb0858e5f1": {
          "model_module": "@jupyter-widgets/controls",
          "model_name": "FloatProgressModel",
          "model_module_version": "1.5.0",
          "state": {
            "_dom_classes": [],
            "_model_module": "@jupyter-widgets/controls",
            "_model_module_version": "1.5.0",
            "_model_name": "FloatProgressModel",
            "_view_count": null,
            "_view_module": "@jupyter-widgets/controls",
            "_view_module_version": "1.5.0",
            "_view_name": "ProgressView",
            "bar_style": "success",
            "description": "",
            "description_tooltip": null,
            "layout": "IPY_MODEL_48cdec39991346f8967e93755fdf354f",
            "max": 50,
            "min": 0,
            "orientation": "horizontal",
            "style": "IPY_MODEL_a72b5c6279844d37846af8e5f1d22708",
            "value": 50
          }
        },
        "1d858b0318964aa19213eaca69777bda": {
          "model_module": "@jupyter-widgets/controls",
          "model_name": "HTMLModel",
          "model_module_version": "1.5.0",
          "state": {
            "_dom_classes": [],
            "_model_module": "@jupyter-widgets/controls",
            "_model_module_version": "1.5.0",
            "_model_name": "HTMLModel",
            "_view_count": null,
            "_view_module": "@jupyter-widgets/controls",
            "_view_module_version": "1.5.0",
            "_view_name": "HTMLView",
            "description": "",
            "description_tooltip": null,
            "layout": "IPY_MODEL_e2e199221b8c4c4f8c47ac476e764d6f",
            "placeholder": "​",
            "style": "IPY_MODEL_691b0d91a0f14f4f87bc29eb44f4bcae",
            "value": " 50/50 [00:00&lt;00:00, 79.19it/s]"
          }
        },
        "e5dfea382b074ebca0d5d93872a2219c": {
          "model_module": "@jupyter-widgets/base",
          "model_name": "LayoutModel",
          "model_module_version": "1.2.0",
          "state": {
            "_model_module": "@jupyter-widgets/base",
            "_model_module_version": "1.2.0",
            "_model_name": "LayoutModel",
            "_view_count": null,
            "_view_module": "@jupyter-widgets/base",
            "_view_module_version": "1.2.0",
            "_view_name": "LayoutView",
            "align_content": null,
            "align_items": null,
            "align_self": null,
            "border": null,
            "bottom": null,
            "display": null,
            "flex": null,
            "flex_flow": null,
            "grid_area": null,
            "grid_auto_columns": null,
            "grid_auto_flow": null,
            "grid_auto_rows": null,
            "grid_column": null,
            "grid_gap": null,
            "grid_row": null,
            "grid_template_areas": null,
            "grid_template_columns": null,
            "grid_template_rows": null,
            "height": null,
            "justify_content": null,
            "justify_items": null,
            "left": null,
            "margin": null,
            "max_height": null,
            "max_width": null,
            "min_height": null,
            "min_width": null,
            "object_fit": null,
            "object_position": null,
            "order": null,
            "overflow": null,
            "overflow_x": null,
            "overflow_y": null,
            "padding": null,
            "right": null,
            "top": null,
            "visibility": null,
            "width": null
          }
        },
        "4ac5170e09b34e42a72f451ffa0a8ebe": {
          "model_module": "@jupyter-widgets/base",
          "model_name": "LayoutModel",
          "model_module_version": "1.2.0",
          "state": {
            "_model_module": "@jupyter-widgets/base",
            "_model_module_version": "1.2.0",
            "_model_name": "LayoutModel",
            "_view_count": null,
            "_view_module": "@jupyter-widgets/base",
            "_view_module_version": "1.2.0",
            "_view_name": "LayoutView",
            "align_content": null,
            "align_items": null,
            "align_self": null,
            "border": null,
            "bottom": null,
            "display": null,
            "flex": null,
            "flex_flow": null,
            "grid_area": null,
            "grid_auto_columns": null,
            "grid_auto_flow": null,
            "grid_auto_rows": null,
            "grid_column": null,
            "grid_gap": null,
            "grid_row": null,
            "grid_template_areas": null,
            "grid_template_columns": null,
            "grid_template_rows": null,
            "height": null,
            "justify_content": null,
            "justify_items": null,
            "left": null,
            "margin": null,
            "max_height": null,
            "max_width": null,
            "min_height": null,
            "min_width": null,
            "object_fit": null,
            "object_position": null,
            "order": null,
            "overflow": null,
            "overflow_x": null,
            "overflow_y": null,
            "padding": null,
            "right": null,
            "top": null,
            "visibility": null,
            "width": null
          }
        },
        "1c5e3cd893f34f898007b6d77b1196ae": {
          "model_module": "@jupyter-widgets/controls",
          "model_name": "DescriptionStyleModel",
          "model_module_version": "1.5.0",
          "state": {
            "_model_module": "@jupyter-widgets/controls",
            "_model_module_version": "1.5.0",
            "_model_name": "DescriptionStyleModel",
            "_view_count": null,
            "_view_module": "@jupyter-widgets/base",
            "_view_module_version": "1.2.0",
            "_view_name": "StyleView",
            "description_width": ""
          }
        },
        "48cdec39991346f8967e93755fdf354f": {
          "model_module": "@jupyter-widgets/base",
          "model_name": "LayoutModel",
          "model_module_version": "1.2.0",
          "state": {
            "_model_module": "@jupyter-widgets/base",
            "_model_module_version": "1.2.0",
            "_model_name": "LayoutModel",
            "_view_count": null,
            "_view_module": "@jupyter-widgets/base",
            "_view_module_version": "1.2.0",
            "_view_name": "LayoutView",
            "align_content": null,
            "align_items": null,
            "align_self": null,
            "border": null,
            "bottom": null,
            "display": null,
            "flex": null,
            "flex_flow": null,
            "grid_area": null,
            "grid_auto_columns": null,
            "grid_auto_flow": null,
            "grid_auto_rows": null,
            "grid_column": null,
            "grid_gap": null,
            "grid_row": null,
            "grid_template_areas": null,
            "grid_template_columns": null,
            "grid_template_rows": null,
            "height": null,
            "justify_content": null,
            "justify_items": null,
            "left": null,
            "margin": null,
            "max_height": null,
            "max_width": null,
            "min_height": null,
            "min_width": null,
            "object_fit": null,
            "object_position": null,
            "order": null,
            "overflow": null,
            "overflow_x": null,
            "overflow_y": null,
            "padding": null,
            "right": null,
            "top": null,
            "visibility": null,
            "width": null
          }
        },
        "a72b5c6279844d37846af8e5f1d22708": {
          "model_module": "@jupyter-widgets/controls",
          "model_name": "ProgressStyleModel",
          "model_module_version": "1.5.0",
          "state": {
            "_model_module": "@jupyter-widgets/controls",
            "_model_module_version": "1.5.0",
            "_model_name": "ProgressStyleModel",
            "_view_count": null,
            "_view_module": "@jupyter-widgets/base",
            "_view_module_version": "1.2.0",
            "_view_name": "StyleView",
            "bar_color": null,
            "description_width": ""
          }
        },
        "e2e199221b8c4c4f8c47ac476e764d6f": {
          "model_module": "@jupyter-widgets/base",
          "model_name": "LayoutModel",
          "model_module_version": "1.2.0",
          "state": {
            "_model_module": "@jupyter-widgets/base",
            "_model_module_version": "1.2.0",
            "_model_name": "LayoutModel",
            "_view_count": null,
            "_view_module": "@jupyter-widgets/base",
            "_view_module_version": "1.2.0",
            "_view_name": "LayoutView",
            "align_content": null,
            "align_items": null,
            "align_self": null,
            "border": null,
            "bottom": null,
            "display": null,
            "flex": null,
            "flex_flow": null,
            "grid_area": null,
            "grid_auto_columns": null,
            "grid_auto_flow": null,
            "grid_auto_rows": null,
            "grid_column": null,
            "grid_gap": null,
            "grid_row": null,
            "grid_template_areas": null,
            "grid_template_columns": null,
            "grid_template_rows": null,
            "height": null,
            "justify_content": null,
            "justify_items": null,
            "left": null,
            "margin": null,
            "max_height": null,
            "max_width": null,
            "min_height": null,
            "min_width": null,
            "object_fit": null,
            "object_position": null,
            "order": null,
            "overflow": null,
            "overflow_x": null,
            "overflow_y": null,
            "padding": null,
            "right": null,
            "top": null,
            "visibility": null,
            "width": null
          }
        },
        "691b0d91a0f14f4f87bc29eb44f4bcae": {
          "model_module": "@jupyter-widgets/controls",
          "model_name": "DescriptionStyleModel",
          "model_module_version": "1.5.0",
          "state": {
            "_model_module": "@jupyter-widgets/controls",
            "_model_module_version": "1.5.0",
            "_model_name": "DescriptionStyleModel",
            "_view_count": null,
            "_view_module": "@jupyter-widgets/base",
            "_view_module_version": "1.2.0",
            "_view_name": "StyleView",
            "description_width": ""
          }
        }
      }
    }
  },
  "cells": [
    {
      "cell_type": "markdown",
      "metadata": {
        "id": "view-in-github",
        "colab_type": "text"
      },
      "source": [
        "<a href=\"https://colab.research.google.com/github/DanielAlonsoBastos/AprendizajeProfundo/blob/main/3_regresion.ipynb\" target=\"_parent\"><img src=\"https://colab.research.google.com/assets/colab-badge.svg\" alt=\"Open In Colab\"/></a>"
      ]
    },
    {
      "cell_type": "markdown",
      "source": [
        "[![Colab](https://colab.research.google.com/assets/colab-badge.svg)](https://colab.research.google.com/github/gibranfp/CursoAprendizajeProfundo/blob/2023-1/notebooks/1h_pytorch_apis.ipynb)"
      ],
      "metadata": {
        "id": "SQcvWCNe39Cz"
      }
    },
    {
      "cell_type": "markdown",
      "source": [
        "# 2. Regresión lineal con PyTorch\n",
        "Curso: Aprendizaje profundo\n",
        "\n",
        "Alumno: Daniel Alonso\n",
        "\n",
        "Entrena y evalúa un modelo de regresión lineal para el conjunto de datos de calificaciones que\n",
        "considere los dos atributos de entrada. Especificaciones:\n",
        "* Grafica los datos en 3D.\n",
        "* Realiza la definición de la arquitectura usando tanto la interfaz de alto como la de medio\n",
        "nivel.\n",
        "* Prueba distintos valores para los hiperparámetros.\n",
        "* Realiza una predicción con tu modelo entrenado para la calificación que tendría un\n",
        "alumno si sabemos que estudió durante 12 horas para el examen y en un examen previo\n",
        "obtuvo 3 de calificación.\n",
        "* Discute las modificaciones que realizaste y las distintas configuraciones para los hiperparámetros que probaste.\n",
        "-----------------------"
      ],
      "metadata": {
        "id": "aEuo_SpfhVsb"
      }
    },
    {
      "cell_type": "markdown",
      "source": [
        "# 1 Preparación"
      ],
      "metadata": {
        "id": "qJ9m3DcYh6yp"
      }
    },
    {
      "cell_type": "markdown",
      "source": [
        "## 1.1 Librerías"
      ],
      "metadata": {
        "id": "6z1nqEE_jCfr"
      }
    },
    {
      "cell_type": "code",
      "source": [
        "!pip install torchinfo\n",
        "!pip install plotly"
      ],
      "metadata": {
        "colab": {
          "base_uri": "https://localhost:8080/"
        },
        "id": "e1UMosJujFPL",
        "outputId": "092478fb-0527-4ffa-b973-697fd65f8a81"
      },
      "execution_count": 1,
      "outputs": [
        {
          "output_type": "stream",
          "name": "stdout",
          "text": [
            "Looking in indexes: https://pypi.org/simple, https://us-python.pkg.dev/colab-wheels/public/simple/\n",
            "Requirement already satisfied: torchinfo in /usr/local/lib/python3.7/dist-packages (1.7.1)\n",
            "Looking in indexes: https://pypi.org/simple, https://us-python.pkg.dev/colab-wheels/public/simple/\n",
            "Requirement already satisfied: plotly in /usr/local/lib/python3.7/dist-packages (5.5.0)\n",
            "Requirement already satisfied: six in /usr/local/lib/python3.7/dist-packages (from plotly) (1.15.0)\n",
            "Requirement already satisfied: tenacity>=6.2.0 in /usr/local/lib/python3.7/dist-packages (from plotly) (8.0.1)\n"
          ]
        }
      ]
    },
    {
      "cell_type": "code",
      "source": [
        "import numpy as np\n",
        "import pandas as pd\n",
        "import matplotlib.pyplot as plt\n",
        "import random\n",
        "import math\n",
        "import os\n",
        "import time\n",
        "\n",
        "# visualizacion\n",
        "from IPython import display\n",
        "display.set_matplotlib_formats('svg')\n",
        "import plotly.express as px\n",
        "\n",
        "# redes neuronales\n",
        "import torch\n",
        "import torch.nn as nn\n",
        "import torch.nn.functional as F\n",
        "import torch.optim as optim\n",
        "\n",
        "from torch.utils.data import DataLoader, TensorDataset\n",
        "\n",
        "# tomar n elementos de una secuencia\n",
        "from itertools import islice as take\n",
        "\n",
        "# barras de progreso\n",
        "from tqdm.auto import trange\n",
        "\n",
        "# separar conjunto de datos en entrenamiento y prueba\n",
        "from sklearn.model_selection import train_test_split"
      ],
      "metadata": {
        "id": "7BJSiYeujGcT"
      },
      "execution_count": 2,
      "outputs": []
    },
    {
      "cell_type": "markdown",
      "source": [
        "## 1.2 Auxiliares"
      ],
      "metadata": {
        "id": "m8jIviKFjT5z"
      }
    },
    {
      "cell_type": "code",
      "source": [
        "# datos\n",
        "URL = 'https://raw.githubusercontent.com/gibranfp/CursoAprendizajeProfundo/2023-1/data/califs/califs.csv'\n",
        "data_dir = '../data'\n",
        "filepath = os.path.join(data_dir, 'califs.csv')\n",
        "\n",
        "def set_seed(seed=0):\n",
        "    \"\"\"Initializes pseudo-random number generators.\"\"\"\n",
        "    random.seed(seed)\n",
        "    np.random.seed(seed)\n",
        "    torch.manual_seed(seed)"
      ],
      "metadata": {
        "id": "BiYg3s6ojZjD"
      },
      "execution_count": 3,
      "outputs": []
    },
    {
      "cell_type": "markdown",
      "source": [
        "# 2 Datos"
      ],
      "metadata": {
        "id": "VFS-22lfjkob"
      }
    },
    {
      "cell_type": "markdown",
      "source": [
        "## 2.1 Descarga y visualización"
      ],
      "metadata": {
        "id": "5bIys0chjuJj"
      }
    },
    {
      "cell_type": "code",
      "source": [
        "! mkdir {data_dir}\n",
        "! wget -nc {URL} -O {filepath}"
      ],
      "metadata": {
        "colab": {
          "base_uri": "https://localhost:8080/"
        },
        "id": "m1Kg-Ktkjxza",
        "outputId": "58f7124d-4993-46cf-d681-63e65017d6cb"
      },
      "execution_count": 4,
      "outputs": [
        {
          "output_type": "stream",
          "name": "stdout",
          "text": [
            "mkdir: cannot create directory ‘../data’: File exists\n",
            "File ‘../data/califs.csv’ already there; not retrieving.\n"
          ]
        }
      ]
    },
    {
      "cell_type": "markdown",
      "source": [
        "Carga del conjunto de datos de calificaciones. Los atributos son:\n",
        "* `prev` es la calificación de un examen previo\n",
        "* `horas` es el tiempo en horas de estudio del alumno\n",
        "* `calif` es la calificación del examen"
      ],
      "metadata": {
        "id": "pN6UEJ2RkBR4"
      }
    },
    {
      "cell_type": "code",
      "source": [
        "df = pd.read_csv(filepath)\n",
        "print(f'El dataset cuenta con {df.shape[0]} filas y {df.shape[1]} atributos \\n')\n",
        "df.head(5)"
      ],
      "metadata": {
        "colab": {
          "base_uri": "https://localhost:8080/",
          "height": 0
        },
        "id": "NhvuRJFsj47y",
        "outputId": "df447a5d-a7bd-429b-c215-421a687e5a6a"
      },
      "execution_count": 5,
      "outputs": [
        {
          "output_type": "stream",
          "name": "stdout",
          "text": [
            "El dataset cuenta con 50 filas y 3 atributos \n",
            "\n"
          ]
        },
        {
          "output_type": "execute_result",
          "data": {
            "text/plain": [
              "   prev  horas  calif\n",
              "0   5.6    8.2    5.1\n",
              "1   6.7    9.3    5.9\n",
              "2   5.1   10.0    5.4\n",
              "3   5.7   10.4    6.5\n",
              "4   7.1   10.4    6.7"
            ],
            "text/html": [
              "\n",
              "  <div id=\"df-6d8fd604-de36-49fb-a5ca-4a4ebddf40a3\">\n",
              "    <div class=\"colab-df-container\">\n",
              "      <div>\n",
              "<style scoped>\n",
              "    .dataframe tbody tr th:only-of-type {\n",
              "        vertical-align: middle;\n",
              "    }\n",
              "\n",
              "    .dataframe tbody tr th {\n",
              "        vertical-align: top;\n",
              "    }\n",
              "\n",
              "    .dataframe thead th {\n",
              "        text-align: right;\n",
              "    }\n",
              "</style>\n",
              "<table border=\"1\" class=\"dataframe\">\n",
              "  <thead>\n",
              "    <tr style=\"text-align: right;\">\n",
              "      <th></th>\n",
              "      <th>prev</th>\n",
              "      <th>horas</th>\n",
              "      <th>calif</th>\n",
              "    </tr>\n",
              "  </thead>\n",
              "  <tbody>\n",
              "    <tr>\n",
              "      <th>0</th>\n",
              "      <td>5.6</td>\n",
              "      <td>8.2</td>\n",
              "      <td>5.1</td>\n",
              "    </tr>\n",
              "    <tr>\n",
              "      <th>1</th>\n",
              "      <td>6.7</td>\n",
              "      <td>9.3</td>\n",
              "      <td>5.9</td>\n",
              "    </tr>\n",
              "    <tr>\n",
              "      <th>2</th>\n",
              "      <td>5.1</td>\n",
              "      <td>10.0</td>\n",
              "      <td>5.4</td>\n",
              "    </tr>\n",
              "    <tr>\n",
              "      <th>3</th>\n",
              "      <td>5.7</td>\n",
              "      <td>10.4</td>\n",
              "      <td>6.5</td>\n",
              "    </tr>\n",
              "    <tr>\n",
              "      <th>4</th>\n",
              "      <td>7.1</td>\n",
              "      <td>10.4</td>\n",
              "      <td>6.7</td>\n",
              "    </tr>\n",
              "  </tbody>\n",
              "</table>\n",
              "</div>\n",
              "      <button class=\"colab-df-convert\" onclick=\"convertToInteractive('df-6d8fd604-de36-49fb-a5ca-4a4ebddf40a3')\"\n",
              "              title=\"Convert this dataframe to an interactive table.\"\n",
              "              style=\"display:none;\">\n",
              "        \n",
              "  <svg xmlns=\"http://www.w3.org/2000/svg\" height=\"24px\"viewBox=\"0 0 24 24\"\n",
              "       width=\"24px\">\n",
              "    <path d=\"M0 0h24v24H0V0z\" fill=\"none\"/>\n",
              "    <path d=\"M18.56 5.44l.94 2.06.94-2.06 2.06-.94-2.06-.94-.94-2.06-.94 2.06-2.06.94zm-11 1L8.5 8.5l.94-2.06 2.06-.94-2.06-.94L8.5 2.5l-.94 2.06-2.06.94zm10 10l.94 2.06.94-2.06 2.06-.94-2.06-.94-.94-2.06-.94 2.06-2.06.94z\"/><path d=\"M17.41 7.96l-1.37-1.37c-.4-.4-.92-.59-1.43-.59-.52 0-1.04.2-1.43.59L10.3 9.45l-7.72 7.72c-.78.78-.78 2.05 0 2.83L4 21.41c.39.39.9.59 1.41.59.51 0 1.02-.2 1.41-.59l7.78-7.78 2.81-2.81c.8-.78.8-2.07 0-2.86zM5.41 20L4 18.59l7.72-7.72 1.47 1.35L5.41 20z\"/>\n",
              "  </svg>\n",
              "      </button>\n",
              "      \n",
              "  <style>\n",
              "    .colab-df-container {\n",
              "      display:flex;\n",
              "      flex-wrap:wrap;\n",
              "      gap: 12px;\n",
              "    }\n",
              "\n",
              "    .colab-df-convert {\n",
              "      background-color: #E8F0FE;\n",
              "      border: none;\n",
              "      border-radius: 50%;\n",
              "      cursor: pointer;\n",
              "      display: none;\n",
              "      fill: #1967D2;\n",
              "      height: 32px;\n",
              "      padding: 0 0 0 0;\n",
              "      width: 32px;\n",
              "    }\n",
              "\n",
              "    .colab-df-convert:hover {\n",
              "      background-color: #E2EBFA;\n",
              "      box-shadow: 0px 1px 2px rgba(60, 64, 67, 0.3), 0px 1px 3px 1px rgba(60, 64, 67, 0.15);\n",
              "      fill: #174EA6;\n",
              "    }\n",
              "\n",
              "    [theme=dark] .colab-df-convert {\n",
              "      background-color: #3B4455;\n",
              "      fill: #D2E3FC;\n",
              "    }\n",
              "\n",
              "    [theme=dark] .colab-df-convert:hover {\n",
              "      background-color: #434B5C;\n",
              "      box-shadow: 0px 1px 3px 1px rgba(0, 0, 0, 0.15);\n",
              "      filter: drop-shadow(0px 1px 2px rgba(0, 0, 0, 0.3));\n",
              "      fill: #FFFFFF;\n",
              "    }\n",
              "  </style>\n",
              "\n",
              "      <script>\n",
              "        const buttonEl =\n",
              "          document.querySelector('#df-6d8fd604-de36-49fb-a5ca-4a4ebddf40a3 button.colab-df-convert');\n",
              "        buttonEl.style.display =\n",
              "          google.colab.kernel.accessAllowed ? 'block' : 'none';\n",
              "\n",
              "        async function convertToInteractive(key) {\n",
              "          const element = document.querySelector('#df-6d8fd604-de36-49fb-a5ca-4a4ebddf40a3');\n",
              "          const dataTable =\n",
              "            await google.colab.kernel.invokeFunction('convertToInteractive',\n",
              "                                                     [key], {});\n",
              "          if (!dataTable) return;\n",
              "\n",
              "          const docLinkHtml = 'Like what you see? Visit the ' +\n",
              "            '<a target=\"_blank\" href=https://colab.research.google.com/notebooks/data_table.ipynb>data table notebook</a>'\n",
              "            + ' to learn more about interactive tables.';\n",
              "          element.innerHTML = '';\n",
              "          dataTable['output_type'] = 'display_data';\n",
              "          await google.colab.output.renderOutput(dataTable, element);\n",
              "          const docLink = document.createElement('div');\n",
              "          docLink.innerHTML = docLinkHtml;\n",
              "          element.appendChild(docLink);\n",
              "        }\n",
              "      </script>\n",
              "    </div>\n",
              "  </div>\n",
              "  "
            ]
          },
          "metadata": {},
          "execution_count": 5
        }
      ]
    },
    {
      "cell_type": "markdown",
      "source": [
        "Gráfica 3D de los datos"
      ],
      "metadata": {
        "id": "q8ajzlrnkhRQ"
      }
    },
    {
      "cell_type": "markdown",
      "source": [
        "De la gráfica se observa que hay una correlación positiva tanto en las horas de estudio como en la califación de un examen previo con la califación del examen, i.e., en caso de haber tenido una calificación buena del examen previa y estudiar más tiempo es más probable obtener una buena calificación y viceversa."
      ],
      "metadata": {
        "id": "_VGMN-yhr-nT"
      }
    },
    {
      "cell_type": "code",
      "source": [
        "fig = px.scatter_3d(df, x='prev', y='horas', z='calif',color='calif', \n",
        "                    title='Calificaciones',opacity=0.7,\n",
        "                    color_continuous_scale='rdylgn')\n",
        "fig.show()"
      ],
      "metadata": {
        "colab": {
          "base_uri": "https://localhost:8080/",
          "height": 0
        },
        "id": "fuEyjEpJoeQx",
        "outputId": "51b734fe-2cb6-41de-d185-51baed8614fa"
      },
      "execution_count": 6,
      "outputs": [
        {
          "output_type": "display_data",
          "data": {
            "text/html": [
              "<html>\n",
              "<head><meta charset=\"utf-8\" /></head>\n",
              "<body>\n",
              "    <div>            <script src=\"https://cdnjs.cloudflare.com/ajax/libs/mathjax/2.7.5/MathJax.js?config=TeX-AMS-MML_SVG\"></script><script type=\"text/javascript\">if (window.MathJax) {MathJax.Hub.Config({SVG: {font: \"STIX-Web\"}});}</script>                <script type=\"text/javascript\">window.PlotlyConfig = {MathJaxConfig: 'local'};</script>\n",
              "        <script src=\"https://cdn.plot.ly/plotly-2.8.3.min.js\"></script>                <div id=\"fd911305-7c32-4937-a46c-6de8b5bdfd28\" class=\"plotly-graph-div\" style=\"height:525px; width:100%;\"></div>            <script type=\"text/javascript\">                                    window.PLOTLYENV=window.PLOTLYENV || {};                                    if (document.getElementById(\"fd911305-7c32-4937-a46c-6de8b5bdfd28\")) {                    Plotly.newPlot(                        \"fd911305-7c32-4937-a46c-6de8b5bdfd28\",                        [{\"hovertemplate\":\"prev=%{x}<br>horas=%{y}<br>calif=%{marker.color}<extra></extra>\",\"legendgroup\":\"\",\"marker\":{\"color\":[5.1,5.9,5.4,6.5,6.7,6.0,6.8,6.2,7.2,7.2,6.7,6.7,7.0,7.9,6.8,6.7,7.0,6.4,6.5,5.7,7.8,6.9,7.3,6.6,7.4,7.4,7.6,6.9,7.8,7.8,6.7,7.5,7.0,7.7,7.3,7.2,7.8,7.7,7.9,8.1,8.1,9.2,8.9,8.6,8.4,8.5,8.1,8.3,9.1,8.6],\"coloraxis\":\"coloraxis\",\"opacity\":0.7,\"symbol\":\"circle\"},\"mode\":\"markers\",\"name\":\"\",\"scene\":\"scene\",\"showlegend\":false,\"x\":[5.6,6.7,5.1,5.7,7.1,6.4,6.1,6.8,6.3,6.2,4.9,5.6,5.9,7.1,6.2,7.0,5.4,7.0,6.4,4.2,8.0,6.7,5.4,7.5,5.7,5.5,7.5,7.0,6.1,7.1,5.5,7.9,6.0,7.1,5.4,7.7,8.0,5.9,8.4,7.3,8.7,10.1,8.0,8.3,6.5,6.6,7.2,7.2,8.7,8.8],\"y\":[8.2,9.3,10.0,10.4,10.4,10.4,10.4,10.5,10.7,10.9,10.9,11.2,11.3,11.5,11.5,11.5,11.5,11.5,11.6,11.7,11.8,11.8,11.9,11.9,11.9,11.9,12.0,12.1,12.1,12.2,12.5,12.8,12.8,12.8,12.8,12.8,12.9,12.9,13.0,13.1,13.3,13.3,13.4,13.5,13.7,13.7,13.8,13.9,13.9,14.4],\"z\":[5.1,5.9,5.4,6.5,6.7,6.0,6.8,6.2,7.2,7.2,6.7,6.7,7.0,7.9,6.8,6.7,7.0,6.4,6.5,5.7,7.8,6.9,7.3,6.6,7.4,7.4,7.6,6.9,7.8,7.8,6.7,7.5,7.0,7.7,7.3,7.2,7.8,7.7,7.9,8.1,8.1,9.2,8.9,8.6,8.4,8.5,8.1,8.3,9.1,8.6],\"type\":\"scatter3d\"}],                        {\"template\":{\"data\":{\"bar\":[{\"error_x\":{\"color\":\"#2a3f5f\"},\"error_y\":{\"color\":\"#2a3f5f\"},\"marker\":{\"line\":{\"color\":\"#E5ECF6\",\"width\":0.5},\"pattern\":{\"fillmode\":\"overlay\",\"size\":10,\"solidity\":0.2}},\"type\":\"bar\"}],\"barpolar\":[{\"marker\":{\"line\":{\"color\":\"#E5ECF6\",\"width\":0.5},\"pattern\":{\"fillmode\":\"overlay\",\"size\":10,\"solidity\":0.2}},\"type\":\"barpolar\"}],\"carpet\":[{\"aaxis\":{\"endlinecolor\":\"#2a3f5f\",\"gridcolor\":\"white\",\"linecolor\":\"white\",\"minorgridcolor\":\"white\",\"startlinecolor\":\"#2a3f5f\"},\"baxis\":{\"endlinecolor\":\"#2a3f5f\",\"gridcolor\":\"white\",\"linecolor\":\"white\",\"minorgridcolor\":\"white\",\"startlinecolor\":\"#2a3f5f\"},\"type\":\"carpet\"}],\"choropleth\":[{\"colorbar\":{\"outlinewidth\":0,\"ticks\":\"\"},\"type\":\"choropleth\"}],\"contour\":[{\"colorbar\":{\"outlinewidth\":0,\"ticks\":\"\"},\"colorscale\":[[0.0,\"#0d0887\"],[0.1111111111111111,\"#46039f\"],[0.2222222222222222,\"#7201a8\"],[0.3333333333333333,\"#9c179e\"],[0.4444444444444444,\"#bd3786\"],[0.5555555555555556,\"#d8576b\"],[0.6666666666666666,\"#ed7953\"],[0.7777777777777778,\"#fb9f3a\"],[0.8888888888888888,\"#fdca26\"],[1.0,\"#f0f921\"]],\"type\":\"contour\"}],\"contourcarpet\":[{\"colorbar\":{\"outlinewidth\":0,\"ticks\":\"\"},\"type\":\"contourcarpet\"}],\"heatmap\":[{\"colorbar\":{\"outlinewidth\":0,\"ticks\":\"\"},\"colorscale\":[[0.0,\"#0d0887\"],[0.1111111111111111,\"#46039f\"],[0.2222222222222222,\"#7201a8\"],[0.3333333333333333,\"#9c179e\"],[0.4444444444444444,\"#bd3786\"],[0.5555555555555556,\"#d8576b\"],[0.6666666666666666,\"#ed7953\"],[0.7777777777777778,\"#fb9f3a\"],[0.8888888888888888,\"#fdca26\"],[1.0,\"#f0f921\"]],\"type\":\"heatmap\"}],\"heatmapgl\":[{\"colorbar\":{\"outlinewidth\":0,\"ticks\":\"\"},\"colorscale\":[[0.0,\"#0d0887\"],[0.1111111111111111,\"#46039f\"],[0.2222222222222222,\"#7201a8\"],[0.3333333333333333,\"#9c179e\"],[0.4444444444444444,\"#bd3786\"],[0.5555555555555556,\"#d8576b\"],[0.6666666666666666,\"#ed7953\"],[0.7777777777777778,\"#fb9f3a\"],[0.8888888888888888,\"#fdca26\"],[1.0,\"#f0f921\"]],\"type\":\"heatmapgl\"}],\"histogram\":[{\"marker\":{\"pattern\":{\"fillmode\":\"overlay\",\"size\":10,\"solidity\":0.2}},\"type\":\"histogram\"}],\"histogram2d\":[{\"colorbar\":{\"outlinewidth\":0,\"ticks\":\"\"},\"colorscale\":[[0.0,\"#0d0887\"],[0.1111111111111111,\"#46039f\"],[0.2222222222222222,\"#7201a8\"],[0.3333333333333333,\"#9c179e\"],[0.4444444444444444,\"#bd3786\"],[0.5555555555555556,\"#d8576b\"],[0.6666666666666666,\"#ed7953\"],[0.7777777777777778,\"#fb9f3a\"],[0.8888888888888888,\"#fdca26\"],[1.0,\"#f0f921\"]],\"type\":\"histogram2d\"}],\"histogram2dcontour\":[{\"colorbar\":{\"outlinewidth\":0,\"ticks\":\"\"},\"colorscale\":[[0.0,\"#0d0887\"],[0.1111111111111111,\"#46039f\"],[0.2222222222222222,\"#7201a8\"],[0.3333333333333333,\"#9c179e\"],[0.4444444444444444,\"#bd3786\"],[0.5555555555555556,\"#d8576b\"],[0.6666666666666666,\"#ed7953\"],[0.7777777777777778,\"#fb9f3a\"],[0.8888888888888888,\"#fdca26\"],[1.0,\"#f0f921\"]],\"type\":\"histogram2dcontour\"}],\"mesh3d\":[{\"colorbar\":{\"outlinewidth\":0,\"ticks\":\"\"},\"type\":\"mesh3d\"}],\"parcoords\":[{\"line\":{\"colorbar\":{\"outlinewidth\":0,\"ticks\":\"\"}},\"type\":\"parcoords\"}],\"pie\":[{\"automargin\":true,\"type\":\"pie\"}],\"scatter\":[{\"marker\":{\"colorbar\":{\"outlinewidth\":0,\"ticks\":\"\"}},\"type\":\"scatter\"}],\"scatter3d\":[{\"line\":{\"colorbar\":{\"outlinewidth\":0,\"ticks\":\"\"}},\"marker\":{\"colorbar\":{\"outlinewidth\":0,\"ticks\":\"\"}},\"type\":\"scatter3d\"}],\"scattercarpet\":[{\"marker\":{\"colorbar\":{\"outlinewidth\":0,\"ticks\":\"\"}},\"type\":\"scattercarpet\"}],\"scattergeo\":[{\"marker\":{\"colorbar\":{\"outlinewidth\":0,\"ticks\":\"\"}},\"type\":\"scattergeo\"}],\"scattergl\":[{\"marker\":{\"colorbar\":{\"outlinewidth\":0,\"ticks\":\"\"}},\"type\":\"scattergl\"}],\"scattermapbox\":[{\"marker\":{\"colorbar\":{\"outlinewidth\":0,\"ticks\":\"\"}},\"type\":\"scattermapbox\"}],\"scatterpolar\":[{\"marker\":{\"colorbar\":{\"outlinewidth\":0,\"ticks\":\"\"}},\"type\":\"scatterpolar\"}],\"scatterpolargl\":[{\"marker\":{\"colorbar\":{\"outlinewidth\":0,\"ticks\":\"\"}},\"type\":\"scatterpolargl\"}],\"scatterternary\":[{\"marker\":{\"colorbar\":{\"outlinewidth\":0,\"ticks\":\"\"}},\"type\":\"scatterternary\"}],\"surface\":[{\"colorbar\":{\"outlinewidth\":0,\"ticks\":\"\"},\"colorscale\":[[0.0,\"#0d0887\"],[0.1111111111111111,\"#46039f\"],[0.2222222222222222,\"#7201a8\"],[0.3333333333333333,\"#9c179e\"],[0.4444444444444444,\"#bd3786\"],[0.5555555555555556,\"#d8576b\"],[0.6666666666666666,\"#ed7953\"],[0.7777777777777778,\"#fb9f3a\"],[0.8888888888888888,\"#fdca26\"],[1.0,\"#f0f921\"]],\"type\":\"surface\"}],\"table\":[{\"cells\":{\"fill\":{\"color\":\"#EBF0F8\"},\"line\":{\"color\":\"white\"}},\"header\":{\"fill\":{\"color\":\"#C8D4E3\"},\"line\":{\"color\":\"white\"}},\"type\":\"table\"}]},\"layout\":{\"annotationdefaults\":{\"arrowcolor\":\"#2a3f5f\",\"arrowhead\":0,\"arrowwidth\":1},\"autotypenumbers\":\"strict\",\"coloraxis\":{\"colorbar\":{\"outlinewidth\":0,\"ticks\":\"\"}},\"colorscale\":{\"diverging\":[[0,\"#8e0152\"],[0.1,\"#c51b7d\"],[0.2,\"#de77ae\"],[0.3,\"#f1b6da\"],[0.4,\"#fde0ef\"],[0.5,\"#f7f7f7\"],[0.6,\"#e6f5d0\"],[0.7,\"#b8e186\"],[0.8,\"#7fbc41\"],[0.9,\"#4d9221\"],[1,\"#276419\"]],\"sequential\":[[0.0,\"#0d0887\"],[0.1111111111111111,\"#46039f\"],[0.2222222222222222,\"#7201a8\"],[0.3333333333333333,\"#9c179e\"],[0.4444444444444444,\"#bd3786\"],[0.5555555555555556,\"#d8576b\"],[0.6666666666666666,\"#ed7953\"],[0.7777777777777778,\"#fb9f3a\"],[0.8888888888888888,\"#fdca26\"],[1.0,\"#f0f921\"]],\"sequentialminus\":[[0.0,\"#0d0887\"],[0.1111111111111111,\"#46039f\"],[0.2222222222222222,\"#7201a8\"],[0.3333333333333333,\"#9c179e\"],[0.4444444444444444,\"#bd3786\"],[0.5555555555555556,\"#d8576b\"],[0.6666666666666666,\"#ed7953\"],[0.7777777777777778,\"#fb9f3a\"],[0.8888888888888888,\"#fdca26\"],[1.0,\"#f0f921\"]]},\"colorway\":[\"#636efa\",\"#EF553B\",\"#00cc96\",\"#ab63fa\",\"#FFA15A\",\"#19d3f3\",\"#FF6692\",\"#B6E880\",\"#FF97FF\",\"#FECB52\"],\"font\":{\"color\":\"#2a3f5f\"},\"geo\":{\"bgcolor\":\"white\",\"lakecolor\":\"white\",\"landcolor\":\"#E5ECF6\",\"showlakes\":true,\"showland\":true,\"subunitcolor\":\"white\"},\"hoverlabel\":{\"align\":\"left\"},\"hovermode\":\"closest\",\"mapbox\":{\"style\":\"light\"},\"paper_bgcolor\":\"white\",\"plot_bgcolor\":\"#E5ECF6\",\"polar\":{\"angularaxis\":{\"gridcolor\":\"white\",\"linecolor\":\"white\",\"ticks\":\"\"},\"bgcolor\":\"#E5ECF6\",\"radialaxis\":{\"gridcolor\":\"white\",\"linecolor\":\"white\",\"ticks\":\"\"}},\"scene\":{\"xaxis\":{\"backgroundcolor\":\"#E5ECF6\",\"gridcolor\":\"white\",\"gridwidth\":2,\"linecolor\":\"white\",\"showbackground\":true,\"ticks\":\"\",\"zerolinecolor\":\"white\"},\"yaxis\":{\"backgroundcolor\":\"#E5ECF6\",\"gridcolor\":\"white\",\"gridwidth\":2,\"linecolor\":\"white\",\"showbackground\":true,\"ticks\":\"\",\"zerolinecolor\":\"white\"},\"zaxis\":{\"backgroundcolor\":\"#E5ECF6\",\"gridcolor\":\"white\",\"gridwidth\":2,\"linecolor\":\"white\",\"showbackground\":true,\"ticks\":\"\",\"zerolinecolor\":\"white\"}},\"shapedefaults\":{\"line\":{\"color\":\"#2a3f5f\"}},\"ternary\":{\"aaxis\":{\"gridcolor\":\"white\",\"linecolor\":\"white\",\"ticks\":\"\"},\"baxis\":{\"gridcolor\":\"white\",\"linecolor\":\"white\",\"ticks\":\"\"},\"bgcolor\":\"#E5ECF6\",\"caxis\":{\"gridcolor\":\"white\",\"linecolor\":\"white\",\"ticks\":\"\"}},\"title\":{\"x\":0.05},\"xaxis\":{\"automargin\":true,\"gridcolor\":\"white\",\"linecolor\":\"white\",\"ticks\":\"\",\"title\":{\"standoff\":15},\"zerolinecolor\":\"white\",\"zerolinewidth\":2},\"yaxis\":{\"automargin\":true,\"gridcolor\":\"white\",\"linecolor\":\"white\",\"ticks\":\"\",\"title\":{\"standoff\":15},\"zerolinecolor\":\"white\",\"zerolinewidth\":2}}},\"scene\":{\"domain\":{\"x\":[0.0,1.0],\"y\":[0.0,1.0]},\"xaxis\":{\"title\":{\"text\":\"prev\"}},\"yaxis\":{\"title\":{\"text\":\"horas\"}},\"zaxis\":{\"title\":{\"text\":\"calif\"}}},\"coloraxis\":{\"colorbar\":{\"title\":{\"text\":\"calif\"}},\"colorscale\":[[0.0,\"rgb(165,0,38)\"],[0.1,\"rgb(215,48,39)\"],[0.2,\"rgb(244,109,67)\"],[0.3,\"rgb(253,174,97)\"],[0.4,\"rgb(254,224,139)\"],[0.5,\"rgb(255,255,191)\"],[0.6,\"rgb(217,239,139)\"],[0.7,\"rgb(166,217,106)\"],[0.8,\"rgb(102,189,99)\"],[0.9,\"rgb(26,152,80)\"],[1.0,\"rgb(0,104,55)\"]]},\"legend\":{\"tracegroupgap\":0},\"title\":{\"text\":\"Calificaciones\"}},                        {\"responsive\": true}                    ).then(function(){\n",
              "                            \n",
              "var gd = document.getElementById('fd911305-7c32-4937-a46c-6de8b5bdfd28');\n",
              "var x = new MutationObserver(function (mutations, observer) {{\n",
              "        var display = window.getComputedStyle(gd).display;\n",
              "        if (!display || display === 'none') {{\n",
              "            console.log([gd, 'removed!']);\n",
              "            Plotly.purge(gd);\n",
              "            observer.disconnect();\n",
              "        }}\n",
              "}});\n",
              "\n",
              "// Listen for the removal of the full notebook cells\n",
              "var notebookContainer = gd.closest('#notebook-container');\n",
              "if (notebookContainer) {{\n",
              "    x.observe(notebookContainer, {childList: true});\n",
              "}}\n",
              "\n",
              "// Listen for the clearing of the current output cell\n",
              "var outputEl = gd.closest('.output');\n",
              "if (outputEl) {{\n",
              "    x.observe(outputEl, {childList: true});\n",
              "}}\n",
              "\n",
              "                        })                };                            </script>        </div>\n",
              "</body>\n",
              "</html>"
            ]
          },
          "metadata": {}
        }
      ]
    },
    {
      "cell_type": "markdown",
      "source": [
        "## 2.2 Crear conjuntos de prueba y entrenamiento"
      ],
      "metadata": {
        "id": "PC6ub3y4tlnM"
      }
    },
    {
      "cell_type": "code",
      "source": [
        "def generate_ds(df,test_size=0.2):\n",
        "  '''\n",
        "  Funcion para generar los datasets de entrenamiento y prueba\n",
        "  '''\n",
        "  # separar en conjuntos de prueba y entrenamiento\n",
        "  df_train, df_test = train_test_split(df, test_size=test_size, \n",
        "                                       random_state=42, shuffle=True)\n",
        "  \n",
        "  # generar vectores para despues pasarlos a tensores\n",
        "  x_trn = np.array(df_train.iloc[:,:2], dtype=\"float32\")\n",
        "  y_trn = np.array(df_train.iloc[:,-1], dtype=\"float32\")[..., np.newaxis]\n",
        "\n",
        "  x_tst = np.array(df_test.iloc[:,:2], dtype=\"float32\")\n",
        "  y_tst = np.array(df_test.iloc[:,-1], dtype=\"float32\")[..., np.newaxis]\n",
        "\n",
        "  # pasar a tensores\n",
        "  x_trn = torch.tensor(x_trn)\n",
        "  y_trn = torch.tensor(y_trn)\n",
        "\n",
        "  x_tst = torch.tensor(x_tst)\n",
        "  y_tst = torch.tensor(y_tst)\n",
        "\n",
        "  # convertir a dataset\n",
        "  ds_trn = TensorDataset(x_trn, y_trn)\n",
        "  ds_tst = TensorDataset(x_tst, y_tst)\n",
        "\n",
        "  return ds_trn, ds_tst\n",
        "\n",
        "# cargador de datos\n",
        "def build_dl(ds_train,ds_test,batch_size=16, shuffle=True):\n",
        "  # generar dataloaders (dl) de un dataset (ds)\n",
        "  dl_train = DataLoader(ds_train,batch_size=batch_size,shuffle=shuffle)\n",
        "  dl_test = DataLoader(ds_test,batch_size=batch_size,shuffle=shuffle)\n",
        "  return dl_train, dl_test"
      ],
      "metadata": {
        "id": "ed86rbnUwpG6"
      },
      "execution_count": 7,
      "outputs": []
    },
    {
      "cell_type": "markdown",
      "source": [
        "A continuación se genera el cargador de datos."
      ],
      "metadata": {
        "id": "KtBZY-babeqS"
      }
    },
    {
      "cell_type": "code",
      "source": [
        "train_data, test_data = generate_ds(df,test_size=0.2)\n",
        "print(f'El conjunto de entrenamiento cuenta con {len(train_data)} instancias')\n",
        "print(f'El conjunto de prueba cuenta con {len(test_data)} instancias')"
      ],
      "metadata": {
        "colab": {
          "base_uri": "https://localhost:8080/"
        },
        "id": "U5ZDT2yWx6aT",
        "outputId": "4e9aedeb-08c9-448b-f588-a2609587ff39"
      },
      "execution_count": 8,
      "outputs": [
        {
          "output_type": "stream",
          "name": "stdout",
          "text": [
            "El conjunto de entrenamiento cuenta con 40 instancias\n",
            "El conjunto de prueba cuenta con 10 instancias\n"
          ]
        }
      ]
    },
    {
      "cell_type": "markdown",
      "source": [
        "Para ver el funcionamiento de la tubería de datos se imprime la forma de cada lote"
      ],
      "metadata": {
        "id": "YEhC6WBQbdP6"
      }
    },
    {
      "cell_type": "code",
      "source": [
        "# crear un DataLoader\n",
        "train_loader, test_loader = build_dl(train_data,test_data)\n",
        "\n",
        "x, y = next(iter(train_loader))\n",
        "print(f'x shape={x.shape} dtype={x.dtype}')\n",
        "print(f'y shape={y.shape} dtype={y.dtype}')\n",
        "\n",
        "x, y = next(iter(test_loader))\n",
        "print(f'x shape={x.shape} dtype={x.dtype}')\n",
        "print(f'y shape={y.shape} dtype={y.dtype}')"
      ],
      "metadata": {
        "colab": {
          "base_uri": "https://localhost:8080/"
        },
        "id": "YA6eTjCfzNkz",
        "outputId": "760cc0d3-b8d0-4563-adbe-2520722ea756"
      },
      "execution_count": 9,
      "outputs": [
        {
          "output_type": "stream",
          "name": "stdout",
          "text": [
            "x shape=torch.Size([16, 2]) dtype=torch.float32\n",
            "y shape=torch.Size([16, 1]) dtype=torch.float32\n",
            "x shape=torch.Size([10, 2]) dtype=torch.float32\n",
            "y shape=torch.Size([10, 1]) dtype=torch.float32\n"
          ]
        }
      ]
    },
    {
      "cell_type": "markdown",
      "source": [
        "# 3 Modelo"
      ],
      "metadata": {
        "id": "B42M5l-vuKJI"
      }
    },
    {
      "cell_type": "markdown",
      "source": [
        "## 3.1 Definición de la arquitectura con la interfaz de medio nivel"
      ],
      "metadata": {
        "id": "lRxpxi7-1HVP"
      }
    },
    {
      "cell_type": "markdown",
      "source": [
        "A continuación se define una función que regresa la arquitectura de una red completamente conectada, en dicha red se pueden variar el número de entradas `n_inputs`, el número de capas ocultas `n_layers`, el número de neuronas en las capas ocultas `n_neurons` y la función de activación entre ReLU, sigmoide y tanh. Se realizó empleando `ModuleDict` para tener la capacidad de realizar experimentos para variar la función de activación, el ancho y profundidad de la red."
      ],
      "metadata": {
        "id": "EO0mIMvPcSiK"
      }
    },
    {
      "cell_type": "code",
      "source": [
        "def LinRegMed(n_inputs=2, n_layers=1, n_neurons=5, activation_function = 'ReLU'):\n",
        "  '''\n",
        "  Crear el modelo con los siguientes inputs:\n",
        "  n_inputs (int) - numero de entradas de la red\n",
        "  n_layers (int) - numero de capas ocultas en la red\n",
        "  n_neurons (int) - numero de neuronas en la(s) capa(s) oculta(s)\n",
        "  activation_function - funcion de activacion: ReLU, Sigmoid, tanh\n",
        "  '''\n",
        "  class FCN(nn.Module):\n",
        "    def __init__(self,n_inputs, n_layers, n_neurons, activation_function):\n",
        "      super().__init__() # inicializacion de la clase padre\n",
        "\n",
        "      # seleccion de la funcion de activacion\n",
        "      if activation_function == 'ReLU': self.activation = F.relu\n",
        "      if activation_function == 'Sigmoid': self.activation = torch.sigmoid\n",
        "      if activation_function == 'tanh': self.activation = torch.tanh\n",
        "    \n",
        "      # definicion de un diccionario para guardar las capas\n",
        "      self.layers = nn.ModuleDict()\n",
        "\n",
        "      # capa de entrada\n",
        "      self.layers['input'] = nn.Linear(n_inputs,n_neurons)\n",
        "\n",
        "      # capas ocultas\n",
        "      for i in range(n_layers):\n",
        "        self.layers[f'hidden{i}'] = nn.Linear(n_neurons, n_neurons)\n",
        "\n",
        "      # capa de salida\n",
        "      self.layers['output'] = nn.Linear(n_neurons,1)\n",
        "\n",
        "    def forward(self,x):\n",
        "      # entrada\n",
        "      x = self.activation(self.layers['input'](x))\n",
        "      # capas ocultas\n",
        "      for i in range(n_layers):\n",
        "        x = self.activation(self.layers[f'hidden{i}'](x))\n",
        "      \n",
        "      # salida\n",
        "      x = self.layers['output'](x)\n",
        "\n",
        "      return x\n",
        "  \n",
        "  return FCN(n_inputs,n_layers, n_neurons, activation_function)"
      ],
      "metadata": {
        "id": "c0gNl15OzvW8"
      },
      "execution_count": 10,
      "outputs": []
    },
    {
      "cell_type": "markdown",
      "source": [
        "## 3.2 Instancia e información de la arquitectura base"
      ],
      "metadata": {
        "id": "xHT4sYF_1MwR"
      }
    },
    {
      "cell_type": "markdown",
      "source": [
        "La arquitectura base que se empleará para la ejecución de experimentos consta de 2 entradas (`prev` y `horas`), una capa de oculta con 5 unidades, y una capa de salida con una unidad, dado que es un problema de regresión. La función que se emplea es ReLU al ser una función no saturada.\n",
        "\n"
      ],
      "metadata": {
        "id": "1dXZdIqIdMce"
      }
    },
    {
      "cell_type": "code",
      "source": [
        "LinRegMed()"
      ],
      "metadata": {
        "colab": {
          "base_uri": "https://localhost:8080/"
        },
        "id": "zDdZss0P07Cf",
        "outputId": "f9c47b48-188e-4152-f79a-12ac52077457"
      },
      "execution_count": 11,
      "outputs": [
        {
          "output_type": "execute_result",
          "data": {
            "text/plain": [
              "FCN(\n",
              "  (layers): ModuleDict(\n",
              "    (input): Linear(in_features=2, out_features=5, bias=True)\n",
              "    (hidden0): Linear(in_features=5, out_features=5, bias=True)\n",
              "    (output): Linear(in_features=5, out_features=1, bias=True)\n",
              "  )\n",
              ")"
            ]
          },
          "metadata": {},
          "execution_count": 11
        }
      ]
    },
    {
      "cell_type": "markdown",
      "source": [
        "# 4 Ciclo de entrenamiento"
      ],
      "metadata": {
        "id": "h5hnkojI1z1i"
      }
    },
    {
      "cell_type": "markdown",
      "source": [
        "A continuación se colocan las funciones para realizar el entrenamiento."
      ],
      "metadata": {
        "id": "vUbeKfYYdsUQ"
      }
    },
    {
      "cell_type": "code",
      "source": [
        "def train_epoch(data_loader,model,opt):\n",
        "  # loop sobre cada lote en el conjunto de entrenamiento\n",
        "  for x, y_true in data_loader:\n",
        "    # se realiza inferencia\n",
        "    y_hat = model(x)\n",
        "    # se calcula la perdida\n",
        "    loss = F.mse_loss(y_hat, y_true)\n",
        "    # backprop\n",
        "    opt.zero_grad() # vaciar los gradientes\n",
        "    loss.backward() # retropropagamos\n",
        "    opt.step() # actualizamos parametros\n",
        "\n",
        "def eval_epoch(data_loader, model):\n",
        "  # evitar que se regsitren las operaciones en la grafica de computo\n",
        "  with torch.no_grad():\n",
        "    # listas para guardar historiales de perdidas y accuracy\n",
        "    losses = []\n",
        "    # validación de la época con num_batches\n",
        "    # si num_batches==None, se usan todos los lotes\n",
        "    for x, y_true in data_loader:\n",
        "      y_hat = model(x) # calculamos y_hat\n",
        "      loss_b = F.mse_loss(y_hat, y_true) # calculo de la perdida\n",
        "      losses.append(loss_b.item() * 100) # guardar historial de perdida para el lote\n",
        "    \n",
        "    # se obtiene el promedio\n",
        "    loss = np.mean(losses)\n",
        "    return loss\n",
        "\n",
        "def train(model, train_dl, test_dl,epochs=10,lr=1e-3,opt='Adam',\n",
        "          L2lambda=0,progress=True):\n",
        "  # historiales\n",
        "  loss_hist = []\n",
        "\n",
        "  # optimizadores\n",
        "  # optimizador seleccionado\n",
        "  if opt == 'SGD':\n",
        "    optimizer = optim.SGD(model.parameters(), lr=lr, weight_decay=L2lambda)\n",
        "  if opt == 'RMSprop':\n",
        "    optimizer = optim.RMSprop(model.parameters(),lr=lr, weight_decay=L2lambda)\n",
        "  if opt == 'Adam':\n",
        "    optimizer = optim.Adam(model.parameters(),lr=lr, weight_decay=L2lambda)\n",
        "\n",
        "  # definir si se quiere o no imprimir el progreso\n",
        "  range_progress = trange(epochs)  if progress else range(epochs)\n",
        "\n",
        "  # ciclo de entrenamiento\n",
        "  for epoch in range_progress:\n",
        "    # entrenamiento de la epoca\n",
        "    train_epoch(train_dl,model,optimizer)\n",
        "    # evaluacion de la epoca en el conjunto de entrenamiento y prueba\n",
        "    train_loss = eval_epoch(train_dl, model)\n",
        "    test_loss = eval_epoch(test_dl, model)\n",
        "    # actualizar historial\n",
        "    loss_hist.append([train_loss,test_loss])\n",
        "\n",
        "    # impresion del progreso\n",
        "    if progress:\n",
        "      print(f'E{epoch:02} '\n",
        "            f'loss=[{train_loss:6.2f},{test_loss:6.2f}]')\n",
        "      \n",
        "  return loss_hist\n",
        "\n",
        "def train_model(build_model, train_ds, test_ds, n_inputs= 2, n_layers=1, \n",
        "                  n_neurons=5, activation_function = 'ReLU', batch_size=16, \n",
        "                  lr=1e-3, epochs=10, opt='SGD',L2lambda=0,progress=True, \n",
        "                  verbose_summary=False,high_level=False):\n",
        "  '''\n",
        "  Funcion para realizar el entrenamiento de un modelo\n",
        "  \n",
        "  Inputs:\n",
        "  build_model: funcion para instanciar un modelo\n",
        "  train_ds: dataset de entrenamiento\n",
        "  test_ds: dataset de prueba\n",
        "  n_inputs (int) - numero de neuronas en la capa de entrada\n",
        "  n_layers (int) - numero de capas ocultas en la red\n",
        "  n_neurons (int) - numero de neuronas en la(s) capa(s) oculta(s)\n",
        "  activation_function - funcion de activacion: ReLU, Sigmoid, tanh\n",
        "  batch_size - tamaño de lote\n",
        "  lr - tasa de aprendizaje\n",
        "  epochs - numero de epocas a ejecutar\n",
        "  opt - optimizados que se quiere utilizar: SGD, RMSprop, Adam\n",
        "  L2lambda - regularizacion L2\n",
        "  progress - booleano para indicar si se desea imprimir el progreso\n",
        "  verbose_summary - booleano para indicar si se desea imprimir resumen de la red\n",
        "  high_level - booleano para indicar si es interfaz de alto o medio nivel\n",
        "  '''\n",
        "  set_seed() # fijar semilla para reproducibilidad\n",
        "  # generar DataLoader\n",
        "  train_loader, test_loader = build_dl(train_ds,test_ds,batch_size)\n",
        "  # instancia del modelo con sus parametros\n",
        "  if high_level:\n",
        "    model = build_model()\n",
        "  else:\n",
        "    model = build_model(n_inputs, n_layers, n_neurons, activation_function)\n",
        "  # imprimir resumen en caso de ser requerido\n",
        "  if verbose_summary:\n",
        "    print(model)\n",
        "  # entrenar el modelo\n",
        "  loss_hist = train(model, train_loader, test_loader,epochs,lr,opt,\n",
        "                    L2lambda,progress)\n",
        "\n",
        "  return loss_hist, model"
      ],
      "metadata": {
        "id": "HHJJqnOr11jm"
      },
      "execution_count": 12,
      "outputs": []
    },
    {
      "cell_type": "markdown",
      "source": [
        "A continuación se realiza una ejecución de prueba para validar el correcto funcionamiento del entrenamiento."
      ],
      "metadata": {
        "id": "S8Opmfb1Gz3D"
      }
    },
    {
      "cell_type": "code",
      "source": [
        "_,_ = train_model(LinRegMed, train_data, test_data, epochs=5, \n",
        "                  verbose_summary=True)"
      ],
      "metadata": {
        "colab": {
          "base_uri": "https://localhost:8080/",
          "height": 0,
          "referenced_widgets": [
            "9f28305940924cdd870ad0cb8ddbc7ad",
            "604016e0354f45f3899eaba99398cf5b",
            "d25ed4296aae4b7abbca341ccf6925ce",
            "0cbf962e311a4e7786a1250fad6c596e",
            "8fc37a8ae5fb444499260b2c45548a64",
            "8599a5bf5eef4c8f8dd6f4e3b0fc0fae",
            "aad1af8205434a5aa02dcceb32126820",
            "1d7b7cec2e494202b44761bcde9a547b",
            "0f1c4d23941547c69dd1c3768dc465f4",
            "95f33b2eb9304ad48a6527b954adb74a",
            "9e69caa05dd6406982411cb2254299f6"
          ]
        },
        "id": "fWcSl_VTGwUg",
        "outputId": "537f17d9-648c-4555-d619-dad60d230ff9"
      },
      "execution_count": 13,
      "outputs": [
        {
          "output_type": "stream",
          "name": "stdout",
          "text": [
            "FCN(\n",
            "  (layers): ModuleDict(\n",
            "    (input): Linear(in_features=2, out_features=5, bias=True)\n",
            "    (hidden0): Linear(in_features=5, out_features=5, bias=True)\n",
            "    (output): Linear(in_features=5, out_features=1, bias=True)\n",
            "  )\n",
            ")\n"
          ]
        },
        {
          "output_type": "display_data",
          "data": {
            "text/plain": [
              "  0%|          | 0/5 [00:00<?, ?it/s]"
            ],
            "application/vnd.jupyter.widget-view+json": {
              "version_major": 2,
              "version_minor": 0,
              "model_id": "9f28305940924cdd870ad0cb8ddbc7ad"
            }
          },
          "metadata": {}
        },
        {
          "output_type": "stream",
          "name": "stdout",
          "text": [
            "E00 loss=[3115.87,3337.72]\n",
            "E01 loss=[1838.81,1932.45]\n",
            "E02 loss=[484.65,504.65]\n",
            "E03 loss=[ 49.18, 66.59]\n",
            "E04 loss=[ 15.96, 40.71]\n"
          ]
        }
      ]
    },
    {
      "cell_type": "markdown",
      "source": [
        "# 5 Experimentos"
      ],
      "metadata": {
        "id": "dWgfnXFBI4nR"
      }
    },
    {
      "cell_type": "markdown",
      "source": [
        "Esta sección tiene como objetivo realizar distintos experimentos alrededor de los hiperparámetros con el fin de seleccionarlos de una mejor manera."
      ],
      "metadata": {
        "id": "Sb5iSoGlN5b_"
      }
    },
    {
      "cell_type": "markdown",
      "source": [
        "## 5.1 Funciones auxiliares para la visualización de resultados"
      ],
      "metadata": {
        "id": "P8NTNfLYAdDR"
      }
    },
    {
      "cell_type": "markdown",
      "source": [
        "En esta sección se especifican las funciones empleadas para la visualización de resultados de los experimentos."
      ],
      "metadata": {
        "id": "pKrjeW79NoKJ"
      }
    },
    {
      "cell_type": "code",
      "source": [
        "MARKER = 'o'\n",
        "MARKER_SIZE = 4\n",
        "\n",
        "def plot_loss_2param(loss_params,x_param,label_param,time_list=None,\n",
        "                    x_label='',y_label='',x_lim=None,y_lim=None, n_avg=5):\n",
        "  '''\n",
        "  Funcion para graficar un experimento que varía 2 parametros\n",
        "  '''\n",
        "  # ajustar tamaño de la grafica dependiendo si se quiere mostrar la grafia de tiempos de ejecucion\n",
        "  if time_list:\n",
        "    fig,ax = plt.subplots(1,3,figsize=(20,6))\n",
        "  else:\n",
        "    fig,ax = plt.subplots(1,2,figsize=(15,6))\n",
        "\n",
        "  # convertir a un numpy array la lista con los accuracies\n",
        "  np_losses = np.array(loss_params,dtype=object)\n",
        "\n",
        "  # generar 2 graficas, una para train y otra para test\n",
        "  for i in range(2):\n",
        "    # iterar por el parametro que se quiere como etiqueta\n",
        "    for j in label_param:\n",
        "      # filtrar por label_param\n",
        "      filter_array = np_losses[np_losses[:,0] == j]\n",
        "      # generar lista con las perdidas promedio de las ultimas epocas (n_avg)\n",
        "      avg_loss_train = [np.mean(filter_array[:,2][x][-n_avg:]) for x in range(len(filter_array))]\n",
        "      avg_loss_test = [np.mean(filter_array[:,3][x][-n_avg:]) for x in range(len(filter_array))]\n",
        "      # grafica para train\n",
        "      if i == 0:\n",
        "        ax[i].plot(x_param,avg_loss_train,marker=MARKER,markersize=MARKER_SIZE,label=str(j))\n",
        "        ax[i].set_title('Train')\n",
        "      else:\n",
        "        ax[i].plot(x_param,avg_loss_test,marker=MARKER,markersize=MARKER_SIZE,label=str(j))\n",
        "        ax[i].set_title('Test')\n",
        "\n",
        "    ax[i].legend()\n",
        "    ax[i].grid()\n",
        "    ax[i].set_ylabel(y_label)\n",
        "    ax[i].set_xlabel(x_label)\n",
        "    ax[i].set_xlim(x_lim)\n",
        "    ax[i].set_ylim(y_lim)\n",
        "\n",
        "  if time_list:\n",
        "    np_time = np.array(time_list)\n",
        "    # iterar por el parametro que se quiere como etiqueta\n",
        "    for j in label_param:\n",
        "      filter_array = np_time[np_time[:,0] == j]\n",
        "      ax[2].plot(x_param,filter_array[:,2].astype('float64')/60,'o-',marker=MARKER,markersize=MARKER_SIZE,label=str(j))\n",
        "    ax[2].legend()\n",
        "    ax[2].grid()\n",
        "    ax[2].set_ylabel('Time (min)')\n",
        "    ax[2].set_xlabel(x_label)\n",
        "    ax[2].set_title('Execution time')\n",
        "\n",
        "  plt.show()\n",
        "\n",
        "def plot_loss_2param_filter(losses,param0_name,param0_value,\n",
        "                            param1_name,param1_value,\n",
        "                            xlim=None,ylim=None,verbose=True):\n",
        "  '''\n",
        "  Graficar las perdidas del conjunto de entrenamiento y prueba filtrando a un valor\n",
        "  especifico de los 2 parametros iterados\n",
        "  '''\n",
        "  # convertir a numpy arrays las listas con las perdidas\n",
        "  losses_np = np.array(losses,dtype=object)\n",
        "  # filtrar para obtener los valores de Adam\n",
        "  losses_filter = losses_np[losses_np[:,0] == param0_value]\n",
        "  # filtrar para un lr especifico\n",
        "  losses_filter = losses_filter[losses_filter[:,1] == param1_value]\n",
        "  # obtener las perdidas en la ultima epoca\n",
        "  last_loss_train = losses_filter[-1,2][-1]\n",
        "  last_loss_test = losses_filter[-1,-1][-1]\n",
        "\n",
        "  # imprimir en pantalla la perdida en la ultima epoca\n",
        "  if verbose:\n",
        "    print(f'Pérdida del conjunto de entrenamiento: {last_loss_train:6.2f}')\n",
        "    print(f'Pérdida del conjunto de prueba: {last_loss_test:6.2f}')\n",
        "\n",
        "  # graficar ambos conjuntos\n",
        "  plt.plot(losses_filter[0,2],label='Train',marker=MARKER,markersize=MARKER_SIZE)\n",
        "  plt.plot(losses_filter[0,3],label='Test',marker=MARKER,markersize=MARKER_SIZE)\n",
        "  plt.grid()\n",
        "  plt.legend()\n",
        "  plt.xlabel(\"Epochs\")\n",
        "  plt.ylabel(\"Loss\")\n",
        "  plt.xlim(xlim)\n",
        "  plt.ylim(ylim)\n",
        "  plt.title(f'Loss with {param0_name} = {param0_value} and {param1_name}={param1_value}')\n",
        "  plt.show()"
      ],
      "metadata": {
        "id": "zHMM5RJgBWSX"
      },
      "execution_count": 14,
      "outputs": []
    },
    {
      "cell_type": "markdown",
      "source": [
        "## 5.2 Variación de los optimizadores y tasa de aprendizaje"
      ],
      "metadata": {
        "id": "maaKl_gaBYCF"
      }
    },
    {
      "cell_type": "markdown",
      "source": [
        "A continuación se realiza un experimento al variar dos hiperparámetros, el optimizador `optim_types = ['SGD','RMSprop','Adam']` y la tasa de aprendizaje `learning_rates = [0.001,0.005,0.01,0.05,0.1]` del modelo base. Para cada experimento se guardan las pérdidas de los conjuntos de entrenamiento y prueba en función de las épocas. El objetivo del experimento es definir el mejor optimizador junto con la tasa de aprendizaje, y si es el caso, el número de épocas."
      ],
      "metadata": {
        "id": "74AxmDTkOpQ3"
      }
    },
    {
      "cell_type": "code",
      "source": [
        "# generar una lista con los lr y optimizadores a iterar\n",
        "learning_rates = [0.001,0.005,0.01,0.05,0.1]\n",
        "optim_types = ['SGD','RMSprop','Adam']\n",
        "\n",
        "# inicializar listas para guardar los resultados de perdida, accuracy y tiempo de ejecucion\n",
        "losses_by_optim = []\n",
        "time_per_optim = []\n",
        "\n",
        "# iterar sobre los optimizadores\n",
        "for i in trange(len(optim_types)):\n",
        "  # iterar sobre los lr\n",
        "  for j in trange(len(learning_rates)):\n",
        "    # obtener optimizador y lr\n",
        "    opt = optim_types[i]\n",
        "    l_rate = learning_rates[j]\n",
        "\n",
        "    # inicializar tiempo\n",
        "    start = time.time()\n",
        "    # entrenar modelo\n",
        "    loss_hist_optim, _ = train_model(LinRegMed, train_data, test_data, \n",
        "                                     lr=l_rate, epochs=50,\n",
        "                                     batch_size=16,\n",
        "                                     opt=opt,progress=False)\n",
        "    \n",
        "    # calcular tiempo de ejecucion y actualizar lista\n",
        "    execution_time = time.time() - start # en segundos\n",
        "    time_per_optim.append([opt,l_rate,execution_time])\n",
        "\n",
        "    # obtener las perdidas por funcion de activacion\n",
        "    train_loss_optim, test_loss_optim = zip(*loss_hist_optim)\n",
        "    losses_by_optim.append([opt,l_rate,train_loss_optim,test_loss_optim])"
      ],
      "metadata": {
        "colab": {
          "base_uri": "https://localhost:8080/",
          "height": 0,
          "referenced_widgets": [
            "8eee7d5d7c0f4694a96a75bfbc3443ec",
            "b915dcdbd16a484aa689537ba044bed9",
            "492f1b9229814c209a249ab139e29fec",
            "b59b551196db44cab9bb9f65397cf2c7",
            "253f418ddbb4496d8eb3c13e8339a652",
            "c005e627266a4af6b0af00890a4b46ef",
            "48915b1ed552477b8df06c2ad20e1e43",
            "c91cfd1a10f442ce932620f8324af551",
            "cc43b3e42568460c9b7de6273702b6c0",
            "b2b1e33a96dc4f999b7c01403326d0e3",
            "829d21fc1647484895255f8037a30a7e",
            "77e6e13d137b4551b0b1bfdbb30ea2fe",
            "71383b67af3c41128494a507900343b3",
            "f0590f461c3843ec891a4677b9daab4b",
            "905ab27be0a44cc8ba390fe5c4274374",
            "0a731eef5f1448aab80c3e2a7225afd8",
            "9e5365290ad049b8977032fed8c7d180",
            "e6fe28a597bb4502bf71fb64c13b56d7",
            "3fe40dd49bbb4458b8a0e30b5004d145",
            "0973b7210ff0407386d19d7861ea9dae",
            "50d90de07215498786eadc6f3781dc0b",
            "4679cdeccf164f2abb623e88a27924af",
            "98d4ef01018d4708bc66a7e8f796cb19",
            "0d8f965aa7be45b8b8a2f7c6e485393c",
            "015c45744d304ac0ae5d111da99e56d9",
            "ce9f786d5464437697b4625cc0f17d23",
            "87af917259434b8c8f2e3adbe3b26185",
            "68f71498f0614a5096b73ef093e04cf5",
            "f650435318fb447dabaef119b630443b",
            "eb633f296a08479681d76b3568bb008a",
            "511da30426aa438ea74e7212ddf82db9",
            "da2ec3580335416196d2952d8d3083f3",
            "19213e3489de4122861b51badf9d30fa",
            "e4170f976d834d5c8cfb582be3c47874",
            "5779204bdee843d39dcc284d8060fe5c",
            "43f0ba3ef84b45219571f681e979b5fd",
            "cff6873d5c7f4c0196403e24b727eb9c",
            "5b83df85559e4a14af34c58a0586eac0",
            "d1f921f4e1114a71beb0fd77dedb7b9c",
            "2f52827d9c7d4c5ca83c71c84fe9e19a",
            "867da8812f6043988a93c571235bc6c9",
            "88ebb49e999c4bd99f667bd20f97a0aa",
            "5b8923682e304eadb532c7af3c647e7f",
            "6216a768665942579838f6b45380eaf9"
          ]
        },
        "id": "W5WG1SZ5BcaZ",
        "outputId": "1f6ddfdb-9ecc-41bb-d262-63cf10a4a1d1"
      },
      "execution_count": 15,
      "outputs": [
        {
          "output_type": "display_data",
          "data": {
            "text/plain": [
              "  0%|          | 0/3 [00:00<?, ?it/s]"
            ],
            "application/vnd.jupyter.widget-view+json": {
              "version_major": 2,
              "version_minor": 0,
              "model_id": "8eee7d5d7c0f4694a96a75bfbc3443ec"
            }
          },
          "metadata": {}
        },
        {
          "output_type": "display_data",
          "data": {
            "text/plain": [
              "  0%|          | 0/5 [00:00<?, ?it/s]"
            ],
            "application/vnd.jupyter.widget-view+json": {
              "version_major": 2,
              "version_minor": 0,
              "model_id": "77e6e13d137b4551b0b1bfdbb30ea2fe"
            }
          },
          "metadata": {}
        },
        {
          "output_type": "display_data",
          "data": {
            "text/plain": [
              "  0%|          | 0/5 [00:00<?, ?it/s]"
            ],
            "application/vnd.jupyter.widget-view+json": {
              "version_major": 2,
              "version_minor": 0,
              "model_id": "98d4ef01018d4708bc66a7e8f796cb19"
            }
          },
          "metadata": {}
        },
        {
          "output_type": "display_data",
          "data": {
            "text/plain": [
              "  0%|          | 0/5 [00:00<?, ?it/s]"
            ],
            "application/vnd.jupyter.widget-view+json": {
              "version_major": 2,
              "version_minor": 0,
              "model_id": "e4170f976d834d5c8cfb582be3c47874"
            }
          },
          "metadata": {}
        }
      ]
    },
    {
      "cell_type": "markdown",
      "source": [
        "A continuación se muestran las siguientes gráficas:\n",
        "1. La pérdida promedio alcanzada por optimizador en las últimas 5 épocas de entrenamiento para el conjunto de entrenamiento en función de la tasa de aprendizaje.\n",
        "2. La pérdida promedio alcanzada por optimizador en las últimas 5 épocas de entrenamiento para el conjunto de prueba en función de la tasa de aprendizaje.\n",
        "3. El tiempo de ejecución por optimizador en función de la tasa de aprendizaje.\n",
        "\n",
        "De las gráficas se observa que:\n",
        "* En el entrenamiento, se observa que SGD con `lr=0.001` tiene la menor pérdida, junto con Adam con `lr>0.001`, pero en el conjunto de prueba Adam con `lr=0.005` se mantiene que la menor pérdida.\n",
        "* Se observa que en general, en el promedio de las últimas 5 épocas Adam tiene la menor pérdida en el conjunto de entrenamiento, específicamente con `lr=0.005`, con una pérdida de 35.64\n",
        "* El tiempo de ejecución es muy pequeño, por lo tanto, no se considera como un criterio de selección del optimizador y la tasa de aprendizaje.\n",
        "* En general, se observa, una diferencia constante entre las pérdidas del conjunto de entrenamiento y prueba, por lo que se puede generar la hipótesis de que no hay overfitting en casos especiales, pero para ello se realizan las gráficas de las pérdidas de ambos conjuntos en función de las épocas.\n"
      ],
      "metadata": {
        "id": "HV-mstqkQCOd"
      }
    },
    {
      "cell_type": "code",
      "source": [
        "plot_loss_2param(losses_by_optim,learning_rates,optim_types,time_list=time_per_optim,\n",
        "                x_label='Learning rate',y_label='Loss',y_lim=[0,200])"
      ],
      "metadata": {
        "colab": {
          "base_uri": "https://localhost:8080/",
          "height": 0
        },
        "id": "0ftQpK-6DB1i",
        "outputId": "7f2a00d8-ba64-40e9-bda4-74839de8f9be"
      },
      "execution_count": 16,
      "outputs": [
        {
          "output_type": "display_data",
          "data": {
            "text/plain": [
              "<Figure size 1440x432 with 3 Axes>"
            ],
            "image/svg+xml": "<?xml version=\"1.0\" encoding=\"utf-8\" standalone=\"no\"?>\n<!DOCTYPE svg PUBLIC \"-//W3C//DTD SVG 1.1//EN\"\n  \"http://www.w3.org/Graphics/SVG/1.1/DTD/svg11.dtd\">\n<!-- Created with matplotlib (https://matplotlib.org/) -->\n<svg height=\"386.034375pt\" version=\"1.1\" viewBox=\"0 0 1170.165625 386.034375\" width=\"1170.165625pt\" xmlns=\"http://www.w3.org/2000/svg\" xmlns:xlink=\"http://www.w3.org/1999/xlink\">\n <defs>\n  <style type=\"text/css\">\n*{stroke-linecap:butt;stroke-linejoin:round;}\n  </style>\n </defs>\n <g id=\"figure_1\">\n  <g id=\"patch_1\">\n   <path d=\"M 0 386.034375 \nL 1170.165625 386.034375 \nL 1170.165625 0 \nL 0 0 \nz\n\" style=\"fill:none;\"/>\n  </g>\n  <g id=\"axes_1\">\n   <g id=\"patch_2\">\n    <path d=\"M 46.965625 348.478125 \nL 375.200919 348.478125 \nL 375.200919 22.318125 \nL 46.965625 22.318125 \nz\n\" style=\"fill:#ffffff;\"/>\n   </g>\n   <g id=\"matplotlib.axis_1\">\n    <g id=\"xtick_1\">\n     <g id=\"line2d_1\">\n      <path clip-path=\"url(#p4011fca776)\" d=\"M 58.871313 348.478125 \nL 58.871313 22.318125 \n\" style=\"fill:none;stroke:#b0b0b0;stroke-linecap:square;stroke-width:0.8;\"/>\n     </g>\n     <g id=\"line2d_2\">\n      <defs>\n       <path d=\"M 0 0 \nL 0 3.5 \n\" id=\"m225ba2264c\" style=\"stroke:#000000;stroke-width:0.8;\"/>\n      </defs>\n      <g>\n       <use style=\"stroke:#000000;stroke-width:0.8;\" x=\"58.871313\" xlink:href=\"#m225ba2264c\" y=\"348.478125\"/>\n      </g>\n     </g>\n     <g id=\"text_1\">\n      <!-- 0.00 -->\n      <defs>\n       <path d=\"M 31.78125 66.40625 \nQ 24.171875 66.40625 20.328125 58.90625 \nQ 16.5 51.421875 16.5 36.375 \nQ 16.5 21.390625 20.328125 13.890625 \nQ 24.171875 6.390625 31.78125 6.390625 \nQ 39.453125 6.390625 43.28125 13.890625 \nQ 47.125 21.390625 47.125 36.375 \nQ 47.125 51.421875 43.28125 58.90625 \nQ 39.453125 66.40625 31.78125 66.40625 \nz\nM 31.78125 74.21875 \nQ 44.046875 74.21875 50.515625 64.515625 \nQ 56.984375 54.828125 56.984375 36.375 \nQ 56.984375 17.96875 50.515625 8.265625 \nQ 44.046875 -1.421875 31.78125 -1.421875 \nQ 19.53125 -1.421875 13.0625 8.265625 \nQ 6.59375 17.96875 6.59375 36.375 \nQ 6.59375 54.828125 13.0625 64.515625 \nQ 19.53125 74.21875 31.78125 74.21875 \nz\n\" id=\"DejaVuSans-48\"/>\n       <path d=\"M 10.6875 12.40625 \nL 21 12.40625 \nL 21 0 \nL 10.6875 0 \nz\n\" id=\"DejaVuSans-46\"/>\n      </defs>\n      <g transform=\"translate(47.7385 363.076562)scale(0.1 -0.1)\">\n       <use xlink:href=\"#DejaVuSans-48\"/>\n       <use x=\"63.623047\" xlink:href=\"#DejaVuSans-46\"/>\n       <use x=\"95.410156\" xlink:href=\"#DejaVuSans-48\"/>\n       <use x=\"159.033203\" xlink:href=\"#DejaVuSans-48\"/>\n      </g>\n     </g>\n    </g>\n    <g id=\"xtick_2\">\n     <g id=\"line2d_3\">\n      <path clip-path=\"url(#p4011fca776)\" d=\"M 119.153277 348.478125 \nL 119.153277 22.318125 \n\" style=\"fill:none;stroke:#b0b0b0;stroke-linecap:square;stroke-width:0.8;\"/>\n     </g>\n     <g id=\"line2d_4\">\n      <g>\n       <use style=\"stroke:#000000;stroke-width:0.8;\" x=\"119.153277\" xlink:href=\"#m225ba2264c\" y=\"348.478125\"/>\n      </g>\n     </g>\n     <g id=\"text_2\">\n      <!-- 0.02 -->\n      <defs>\n       <path d=\"M 19.1875 8.296875 \nL 53.609375 8.296875 \nL 53.609375 0 \nL 7.328125 0 \nL 7.328125 8.296875 \nQ 12.9375 14.109375 22.625 23.890625 \nQ 32.328125 33.6875 34.8125 36.53125 \nQ 39.546875 41.84375 41.421875 45.53125 \nQ 43.3125 49.21875 43.3125 52.78125 \nQ 43.3125 58.59375 39.234375 62.25 \nQ 35.15625 65.921875 28.609375 65.921875 \nQ 23.96875 65.921875 18.8125 64.3125 \nQ 13.671875 62.703125 7.8125 59.421875 \nL 7.8125 69.390625 \nQ 13.765625 71.78125 18.9375 73 \nQ 24.125 74.21875 28.421875 74.21875 \nQ 39.75 74.21875 46.484375 68.546875 \nQ 53.21875 62.890625 53.21875 53.421875 \nQ 53.21875 48.921875 51.53125 44.890625 \nQ 49.859375 40.875 45.40625 35.40625 \nQ 44.1875 33.984375 37.640625 27.21875 \nQ 31.109375 20.453125 19.1875 8.296875 \nz\n\" id=\"DejaVuSans-50\"/>\n      </defs>\n      <g transform=\"translate(108.020464 363.076562)scale(0.1 -0.1)\">\n       <use xlink:href=\"#DejaVuSans-48\"/>\n       <use x=\"63.623047\" xlink:href=\"#DejaVuSans-46\"/>\n       <use x=\"95.410156\" xlink:href=\"#DejaVuSans-48\"/>\n       <use x=\"159.033203\" xlink:href=\"#DejaVuSans-50\"/>\n      </g>\n     </g>\n    </g>\n    <g id=\"xtick_3\">\n     <g id=\"line2d_5\">\n      <path clip-path=\"url(#p4011fca776)\" d=\"M 179.435241 348.478125 \nL 179.435241 22.318125 \n\" style=\"fill:none;stroke:#b0b0b0;stroke-linecap:square;stroke-width:0.8;\"/>\n     </g>\n     <g id=\"line2d_6\">\n      <g>\n       <use style=\"stroke:#000000;stroke-width:0.8;\" x=\"179.435241\" xlink:href=\"#m225ba2264c\" y=\"348.478125\"/>\n      </g>\n     </g>\n     <g id=\"text_3\">\n      <!-- 0.04 -->\n      <defs>\n       <path d=\"M 37.796875 64.3125 \nL 12.890625 25.390625 \nL 37.796875 25.390625 \nz\nM 35.203125 72.90625 \nL 47.609375 72.90625 \nL 47.609375 25.390625 \nL 58.015625 25.390625 \nL 58.015625 17.1875 \nL 47.609375 17.1875 \nL 47.609375 0 \nL 37.796875 0 \nL 37.796875 17.1875 \nL 4.890625 17.1875 \nL 4.890625 26.703125 \nz\n\" id=\"DejaVuSans-52\"/>\n      </defs>\n      <g transform=\"translate(168.302428 363.076562)scale(0.1 -0.1)\">\n       <use xlink:href=\"#DejaVuSans-48\"/>\n       <use x=\"63.623047\" xlink:href=\"#DejaVuSans-46\"/>\n       <use x=\"95.410156\" xlink:href=\"#DejaVuSans-48\"/>\n       <use x=\"159.033203\" xlink:href=\"#DejaVuSans-52\"/>\n      </g>\n     </g>\n    </g>\n    <g id=\"xtick_4\">\n     <g id=\"line2d_7\">\n      <path clip-path=\"url(#p4011fca776)\" d=\"M 239.717205 348.478125 \nL 239.717205 22.318125 \n\" style=\"fill:none;stroke:#b0b0b0;stroke-linecap:square;stroke-width:0.8;\"/>\n     </g>\n     <g id=\"line2d_8\">\n      <g>\n       <use style=\"stroke:#000000;stroke-width:0.8;\" x=\"239.717205\" xlink:href=\"#m225ba2264c\" y=\"348.478125\"/>\n      </g>\n     </g>\n     <g id=\"text_4\">\n      <!-- 0.06 -->\n      <defs>\n       <path d=\"M 33.015625 40.375 \nQ 26.375 40.375 22.484375 35.828125 \nQ 18.609375 31.296875 18.609375 23.390625 \nQ 18.609375 15.53125 22.484375 10.953125 \nQ 26.375 6.390625 33.015625 6.390625 \nQ 39.65625 6.390625 43.53125 10.953125 \nQ 47.40625 15.53125 47.40625 23.390625 \nQ 47.40625 31.296875 43.53125 35.828125 \nQ 39.65625 40.375 33.015625 40.375 \nz\nM 52.59375 71.296875 \nL 52.59375 62.3125 \nQ 48.875 64.0625 45.09375 64.984375 \nQ 41.3125 65.921875 37.59375 65.921875 \nQ 27.828125 65.921875 22.671875 59.328125 \nQ 17.53125 52.734375 16.796875 39.40625 \nQ 19.671875 43.65625 24.015625 45.921875 \nQ 28.375 48.1875 33.59375 48.1875 \nQ 44.578125 48.1875 50.953125 41.515625 \nQ 57.328125 34.859375 57.328125 23.390625 \nQ 57.328125 12.15625 50.6875 5.359375 \nQ 44.046875 -1.421875 33.015625 -1.421875 \nQ 20.359375 -1.421875 13.671875 8.265625 \nQ 6.984375 17.96875 6.984375 36.375 \nQ 6.984375 53.65625 15.1875 63.9375 \nQ 23.390625 74.21875 37.203125 74.21875 \nQ 40.921875 74.21875 44.703125 73.484375 \nQ 48.484375 72.75 52.59375 71.296875 \nz\n\" id=\"DejaVuSans-54\"/>\n      </defs>\n      <g transform=\"translate(228.584392 363.076562)scale(0.1 -0.1)\">\n       <use xlink:href=\"#DejaVuSans-48\"/>\n       <use x=\"63.623047\" xlink:href=\"#DejaVuSans-46\"/>\n       <use x=\"95.410156\" xlink:href=\"#DejaVuSans-48\"/>\n       <use x=\"159.033203\" xlink:href=\"#DejaVuSans-54\"/>\n      </g>\n     </g>\n    </g>\n    <g id=\"xtick_5\">\n     <g id=\"line2d_9\">\n      <path clip-path=\"url(#p4011fca776)\" d=\"M 299.999169 348.478125 \nL 299.999169 22.318125 \n\" style=\"fill:none;stroke:#b0b0b0;stroke-linecap:square;stroke-width:0.8;\"/>\n     </g>\n     <g id=\"line2d_10\">\n      <g>\n       <use style=\"stroke:#000000;stroke-width:0.8;\" x=\"299.999169\" xlink:href=\"#m225ba2264c\" y=\"348.478125\"/>\n      </g>\n     </g>\n     <g id=\"text_5\">\n      <!-- 0.08 -->\n      <defs>\n       <path d=\"M 31.78125 34.625 \nQ 24.75 34.625 20.71875 30.859375 \nQ 16.703125 27.09375 16.703125 20.515625 \nQ 16.703125 13.921875 20.71875 10.15625 \nQ 24.75 6.390625 31.78125 6.390625 \nQ 38.8125 6.390625 42.859375 10.171875 \nQ 46.921875 13.96875 46.921875 20.515625 \nQ 46.921875 27.09375 42.890625 30.859375 \nQ 38.875 34.625 31.78125 34.625 \nz\nM 21.921875 38.8125 \nQ 15.578125 40.375 12.03125 44.71875 \nQ 8.5 49.078125 8.5 55.328125 \nQ 8.5 64.0625 14.71875 69.140625 \nQ 20.953125 74.21875 31.78125 74.21875 \nQ 42.671875 74.21875 48.875 69.140625 \nQ 55.078125 64.0625 55.078125 55.328125 \nQ 55.078125 49.078125 51.53125 44.71875 \nQ 48 40.375 41.703125 38.8125 \nQ 48.828125 37.15625 52.796875 32.3125 \nQ 56.78125 27.484375 56.78125 20.515625 \nQ 56.78125 9.90625 50.3125 4.234375 \nQ 43.84375 -1.421875 31.78125 -1.421875 \nQ 19.734375 -1.421875 13.25 4.234375 \nQ 6.78125 9.90625 6.78125 20.515625 \nQ 6.78125 27.484375 10.78125 32.3125 \nQ 14.796875 37.15625 21.921875 38.8125 \nz\nM 18.3125 54.390625 \nQ 18.3125 48.734375 21.84375 45.5625 \nQ 25.390625 42.390625 31.78125 42.390625 \nQ 38.140625 42.390625 41.71875 45.5625 \nQ 45.3125 48.734375 45.3125 54.390625 \nQ 45.3125 60.0625 41.71875 63.234375 \nQ 38.140625 66.40625 31.78125 66.40625 \nQ 25.390625 66.40625 21.84375 63.234375 \nQ 18.3125 60.0625 18.3125 54.390625 \nz\n\" id=\"DejaVuSans-56\"/>\n      </defs>\n      <g transform=\"translate(288.866356 363.076562)scale(0.1 -0.1)\">\n       <use xlink:href=\"#DejaVuSans-48\"/>\n       <use x=\"63.623047\" xlink:href=\"#DejaVuSans-46\"/>\n       <use x=\"95.410156\" xlink:href=\"#DejaVuSans-48\"/>\n       <use x=\"159.033203\" xlink:href=\"#DejaVuSans-56\"/>\n      </g>\n     </g>\n    </g>\n    <g id=\"xtick_6\">\n     <g id=\"line2d_11\">\n      <path clip-path=\"url(#p4011fca776)\" d=\"M 360.281133 348.478125 \nL 360.281133 22.318125 \n\" style=\"fill:none;stroke:#b0b0b0;stroke-linecap:square;stroke-width:0.8;\"/>\n     </g>\n     <g id=\"line2d_12\">\n      <g>\n       <use style=\"stroke:#000000;stroke-width:0.8;\" x=\"360.281133\" xlink:href=\"#m225ba2264c\" y=\"348.478125\"/>\n      </g>\n     </g>\n     <g id=\"text_6\">\n      <!-- 0.10 -->\n      <defs>\n       <path d=\"M 12.40625 8.296875 \nL 28.515625 8.296875 \nL 28.515625 63.921875 \nL 10.984375 60.40625 \nL 10.984375 69.390625 \nL 28.421875 72.90625 \nL 38.28125 72.90625 \nL 38.28125 8.296875 \nL 54.390625 8.296875 \nL 54.390625 0 \nL 12.40625 0 \nz\n\" id=\"DejaVuSans-49\"/>\n      </defs>\n      <g transform=\"translate(349.148321 363.076562)scale(0.1 -0.1)\">\n       <use xlink:href=\"#DejaVuSans-48\"/>\n       <use x=\"63.623047\" xlink:href=\"#DejaVuSans-46\"/>\n       <use x=\"95.410156\" xlink:href=\"#DejaVuSans-49\"/>\n       <use x=\"159.033203\" xlink:href=\"#DejaVuSans-48\"/>\n      </g>\n     </g>\n    </g>\n    <g id=\"text_7\">\n     <!-- Learning rate -->\n     <defs>\n      <path d=\"M 9.8125 72.90625 \nL 19.671875 72.90625 \nL 19.671875 8.296875 \nL 55.171875 8.296875 \nL 55.171875 0 \nL 9.8125 0 \nz\n\" id=\"DejaVuSans-76\"/>\n      <path d=\"M 56.203125 29.59375 \nL 56.203125 25.203125 \nL 14.890625 25.203125 \nQ 15.484375 15.921875 20.484375 11.0625 \nQ 25.484375 6.203125 34.421875 6.203125 \nQ 39.59375 6.203125 44.453125 7.46875 \nQ 49.3125 8.734375 54.109375 11.28125 \nL 54.109375 2.78125 \nQ 49.265625 0.734375 44.1875 -0.34375 \nQ 39.109375 -1.421875 33.890625 -1.421875 \nQ 20.796875 -1.421875 13.15625 6.1875 \nQ 5.515625 13.8125 5.515625 26.8125 \nQ 5.515625 40.234375 12.765625 48.109375 \nQ 20.015625 56 32.328125 56 \nQ 43.359375 56 49.78125 48.890625 \nQ 56.203125 41.796875 56.203125 29.59375 \nz\nM 47.21875 32.234375 \nQ 47.125 39.59375 43.09375 43.984375 \nQ 39.0625 48.390625 32.421875 48.390625 \nQ 24.90625 48.390625 20.390625 44.140625 \nQ 15.875 39.890625 15.1875 32.171875 \nz\n\" id=\"DejaVuSans-101\"/>\n      <path d=\"M 34.28125 27.484375 \nQ 23.390625 27.484375 19.1875 25 \nQ 14.984375 22.515625 14.984375 16.5 \nQ 14.984375 11.71875 18.140625 8.90625 \nQ 21.296875 6.109375 26.703125 6.109375 \nQ 34.1875 6.109375 38.703125 11.40625 \nQ 43.21875 16.703125 43.21875 25.484375 \nL 43.21875 27.484375 \nz\nM 52.203125 31.203125 \nL 52.203125 0 \nL 43.21875 0 \nL 43.21875 8.296875 \nQ 40.140625 3.328125 35.546875 0.953125 \nQ 30.953125 -1.421875 24.3125 -1.421875 \nQ 15.921875 -1.421875 10.953125 3.296875 \nQ 6 8.015625 6 15.921875 \nQ 6 25.140625 12.171875 29.828125 \nQ 18.359375 34.515625 30.609375 34.515625 \nL 43.21875 34.515625 \nL 43.21875 35.40625 \nQ 43.21875 41.609375 39.140625 45 \nQ 35.0625 48.390625 27.6875 48.390625 \nQ 23 48.390625 18.546875 47.265625 \nQ 14.109375 46.140625 10.015625 43.890625 \nL 10.015625 52.203125 \nQ 14.9375 54.109375 19.578125 55.046875 \nQ 24.21875 56 28.609375 56 \nQ 40.484375 56 46.34375 49.84375 \nQ 52.203125 43.703125 52.203125 31.203125 \nz\n\" id=\"DejaVuSans-97\"/>\n      <path d=\"M 41.109375 46.296875 \nQ 39.59375 47.171875 37.8125 47.578125 \nQ 36.03125 48 33.890625 48 \nQ 26.265625 48 22.1875 43.046875 \nQ 18.109375 38.09375 18.109375 28.8125 \nL 18.109375 0 \nL 9.078125 0 \nL 9.078125 54.6875 \nL 18.109375 54.6875 \nL 18.109375 46.1875 \nQ 20.953125 51.171875 25.484375 53.578125 \nQ 30.03125 56 36.53125 56 \nQ 37.453125 56 38.578125 55.875 \nQ 39.703125 55.765625 41.0625 55.515625 \nz\n\" id=\"DejaVuSans-114\"/>\n      <path d=\"M 54.890625 33.015625 \nL 54.890625 0 \nL 45.90625 0 \nL 45.90625 32.71875 \nQ 45.90625 40.484375 42.875 44.328125 \nQ 39.84375 48.1875 33.796875 48.1875 \nQ 26.515625 48.1875 22.3125 43.546875 \nQ 18.109375 38.921875 18.109375 30.90625 \nL 18.109375 0 \nL 9.078125 0 \nL 9.078125 54.6875 \nL 18.109375 54.6875 \nL 18.109375 46.1875 \nQ 21.34375 51.125 25.703125 53.5625 \nQ 30.078125 56 35.796875 56 \nQ 45.21875 56 50.046875 50.171875 \nQ 54.890625 44.34375 54.890625 33.015625 \nz\n\" id=\"DejaVuSans-110\"/>\n      <path d=\"M 9.421875 54.6875 \nL 18.40625 54.6875 \nL 18.40625 0 \nL 9.421875 0 \nz\nM 9.421875 75.984375 \nL 18.40625 75.984375 \nL 18.40625 64.59375 \nL 9.421875 64.59375 \nz\n\" id=\"DejaVuSans-105\"/>\n      <path d=\"M 45.40625 27.984375 \nQ 45.40625 37.75 41.375 43.109375 \nQ 37.359375 48.484375 30.078125 48.484375 \nQ 22.859375 48.484375 18.828125 43.109375 \nQ 14.796875 37.75 14.796875 27.984375 \nQ 14.796875 18.265625 18.828125 12.890625 \nQ 22.859375 7.515625 30.078125 7.515625 \nQ 37.359375 7.515625 41.375 12.890625 \nQ 45.40625 18.265625 45.40625 27.984375 \nz\nM 54.390625 6.78125 \nQ 54.390625 -7.171875 48.1875 -13.984375 \nQ 42 -20.796875 29.203125 -20.796875 \nQ 24.46875 -20.796875 20.265625 -20.09375 \nQ 16.0625 -19.390625 12.109375 -17.921875 \nL 12.109375 -9.1875 \nQ 16.0625 -11.328125 19.921875 -12.34375 \nQ 23.78125 -13.375 27.78125 -13.375 \nQ 36.625 -13.375 41.015625 -8.765625 \nQ 45.40625 -4.15625 45.40625 5.171875 \nL 45.40625 9.625 \nQ 42.625 4.78125 38.28125 2.390625 \nQ 33.9375 0 27.875 0 \nQ 17.828125 0 11.671875 7.65625 \nQ 5.515625 15.328125 5.515625 27.984375 \nQ 5.515625 40.671875 11.671875 48.328125 \nQ 17.828125 56 27.875 56 \nQ 33.9375 56 38.28125 53.609375 \nQ 42.625 51.21875 45.40625 46.390625 \nL 45.40625 54.6875 \nL 54.390625 54.6875 \nz\n\" id=\"DejaVuSans-103\"/>\n      <path id=\"DejaVuSans-32\"/>\n      <path d=\"M 18.3125 70.21875 \nL 18.3125 54.6875 \nL 36.8125 54.6875 \nL 36.8125 47.703125 \nL 18.3125 47.703125 \nL 18.3125 18.015625 \nQ 18.3125 11.328125 20.140625 9.421875 \nQ 21.96875 7.515625 27.59375 7.515625 \nL 36.8125 7.515625 \nL 36.8125 0 \nL 27.59375 0 \nQ 17.1875 0 13.234375 3.875 \nQ 9.28125 7.765625 9.28125 18.015625 \nL 9.28125 47.703125 \nL 2.6875 47.703125 \nL 2.6875 54.6875 \nL 9.28125 54.6875 \nL 9.28125 70.21875 \nz\n\" id=\"DejaVuSans-116\"/>\n     </defs>\n     <g transform=\"translate(177.630147 376.754687)scale(0.1 -0.1)\">\n      <use xlink:href=\"#DejaVuSans-76\"/>\n      <use x=\"53.962891\" xlink:href=\"#DejaVuSans-101\"/>\n      <use x=\"115.486328\" xlink:href=\"#DejaVuSans-97\"/>\n      <use x=\"176.765625\" xlink:href=\"#DejaVuSans-114\"/>\n      <use x=\"216.128906\" xlink:href=\"#DejaVuSans-110\"/>\n      <use x=\"279.507812\" xlink:href=\"#DejaVuSans-105\"/>\n      <use x=\"307.291016\" xlink:href=\"#DejaVuSans-110\"/>\n      <use x=\"370.669922\" xlink:href=\"#DejaVuSans-103\"/>\n      <use x=\"434.146484\" xlink:href=\"#DejaVuSans-32\"/>\n      <use x=\"465.933594\" xlink:href=\"#DejaVuSans-114\"/>\n      <use x=\"507.046875\" xlink:href=\"#DejaVuSans-97\"/>\n      <use x=\"568.326172\" xlink:href=\"#DejaVuSans-116\"/>\n      <use x=\"607.535156\" xlink:href=\"#DejaVuSans-101\"/>\n     </g>\n    </g>\n   </g>\n   <g id=\"matplotlib.axis_2\">\n    <g id=\"ytick_1\">\n     <g id=\"line2d_13\">\n      <path clip-path=\"url(#p4011fca776)\" d=\"M 46.965625 348.478125 \nL 375.200919 348.478125 \n\" style=\"fill:none;stroke:#b0b0b0;stroke-linecap:square;stroke-width:0.8;\"/>\n     </g>\n     <g id=\"line2d_14\">\n      <defs>\n       <path d=\"M 0 0 \nL -3.5 0 \n\" id=\"m93fb537794\" style=\"stroke:#000000;stroke-width:0.8;\"/>\n      </defs>\n      <g>\n       <use style=\"stroke:#000000;stroke-width:0.8;\" x=\"46.965625\" xlink:href=\"#m93fb537794\" y=\"348.478125\"/>\n      </g>\n     </g>\n     <g id=\"text_8\">\n      <!-- 0 -->\n      <g transform=\"translate(33.603125 352.277344)scale(0.1 -0.1)\">\n       <use xlink:href=\"#DejaVuSans-48\"/>\n      </g>\n     </g>\n    </g>\n    <g id=\"ytick_2\">\n     <g id=\"line2d_15\">\n      <path clip-path=\"url(#p4011fca776)\" d=\"M 46.965625 307.708125 \nL 375.200919 307.708125 \n\" style=\"fill:none;stroke:#b0b0b0;stroke-linecap:square;stroke-width:0.8;\"/>\n     </g>\n     <g id=\"line2d_16\">\n      <g>\n       <use style=\"stroke:#000000;stroke-width:0.8;\" x=\"46.965625\" xlink:href=\"#m93fb537794\" y=\"307.708125\"/>\n      </g>\n     </g>\n     <g id=\"text_9\">\n      <!-- 25 -->\n      <defs>\n       <path d=\"M 10.796875 72.90625 \nL 49.515625 72.90625 \nL 49.515625 64.59375 \nL 19.828125 64.59375 \nL 19.828125 46.734375 \nQ 21.96875 47.46875 24.109375 47.828125 \nQ 26.265625 48.1875 28.421875 48.1875 \nQ 40.625 48.1875 47.75 41.5 \nQ 54.890625 34.8125 54.890625 23.390625 \nQ 54.890625 11.625 47.5625 5.09375 \nQ 40.234375 -1.421875 26.90625 -1.421875 \nQ 22.3125 -1.421875 17.546875 -0.640625 \nQ 12.796875 0.140625 7.71875 1.703125 \nL 7.71875 11.625 \nQ 12.109375 9.234375 16.796875 8.0625 \nQ 21.484375 6.890625 26.703125 6.890625 \nQ 35.15625 6.890625 40.078125 11.328125 \nQ 45.015625 15.765625 45.015625 23.390625 \nQ 45.015625 31 40.078125 35.4375 \nQ 35.15625 39.890625 26.703125 39.890625 \nQ 22.75 39.890625 18.8125 39.015625 \nQ 14.890625 38.140625 10.796875 36.28125 \nz\n\" id=\"DejaVuSans-53\"/>\n      </defs>\n      <g transform=\"translate(27.240625 311.507344)scale(0.1 -0.1)\">\n       <use xlink:href=\"#DejaVuSans-50\"/>\n       <use x=\"63.623047\" xlink:href=\"#DejaVuSans-53\"/>\n      </g>\n     </g>\n    </g>\n    <g id=\"ytick_3\">\n     <g id=\"line2d_17\">\n      <path clip-path=\"url(#p4011fca776)\" d=\"M 46.965625 266.938125 \nL 375.200919 266.938125 \n\" style=\"fill:none;stroke:#b0b0b0;stroke-linecap:square;stroke-width:0.8;\"/>\n     </g>\n     <g id=\"line2d_18\">\n      <g>\n       <use style=\"stroke:#000000;stroke-width:0.8;\" x=\"46.965625\" xlink:href=\"#m93fb537794\" y=\"266.938125\"/>\n      </g>\n     </g>\n     <g id=\"text_10\">\n      <!-- 50 -->\n      <g transform=\"translate(27.240625 270.737344)scale(0.1 -0.1)\">\n       <use xlink:href=\"#DejaVuSans-53\"/>\n       <use x=\"63.623047\" xlink:href=\"#DejaVuSans-48\"/>\n      </g>\n     </g>\n    </g>\n    <g id=\"ytick_4\">\n     <g id=\"line2d_19\">\n      <path clip-path=\"url(#p4011fca776)\" d=\"M 46.965625 226.168125 \nL 375.200919 226.168125 \n\" style=\"fill:none;stroke:#b0b0b0;stroke-linecap:square;stroke-width:0.8;\"/>\n     </g>\n     <g id=\"line2d_20\">\n      <g>\n       <use style=\"stroke:#000000;stroke-width:0.8;\" x=\"46.965625\" xlink:href=\"#m93fb537794\" y=\"226.168125\"/>\n      </g>\n     </g>\n     <g id=\"text_11\">\n      <!-- 75 -->\n      <defs>\n       <path d=\"M 8.203125 72.90625 \nL 55.078125 72.90625 \nL 55.078125 68.703125 \nL 28.609375 0 \nL 18.3125 0 \nL 43.21875 64.59375 \nL 8.203125 64.59375 \nz\n\" id=\"DejaVuSans-55\"/>\n      </defs>\n      <g transform=\"translate(27.240625 229.967344)scale(0.1 -0.1)\">\n       <use xlink:href=\"#DejaVuSans-55\"/>\n       <use x=\"63.623047\" xlink:href=\"#DejaVuSans-53\"/>\n      </g>\n     </g>\n    </g>\n    <g id=\"ytick_5\">\n     <g id=\"line2d_21\">\n      <path clip-path=\"url(#p4011fca776)\" d=\"M 46.965625 185.398125 \nL 375.200919 185.398125 \n\" style=\"fill:none;stroke:#b0b0b0;stroke-linecap:square;stroke-width:0.8;\"/>\n     </g>\n     <g id=\"line2d_22\">\n      <g>\n       <use style=\"stroke:#000000;stroke-width:0.8;\" x=\"46.965625\" xlink:href=\"#m93fb537794\" y=\"185.398125\"/>\n      </g>\n     </g>\n     <g id=\"text_12\">\n      <!-- 100 -->\n      <g transform=\"translate(20.878125 189.197344)scale(0.1 -0.1)\">\n       <use xlink:href=\"#DejaVuSans-49\"/>\n       <use x=\"63.623047\" xlink:href=\"#DejaVuSans-48\"/>\n       <use x=\"127.246094\" xlink:href=\"#DejaVuSans-48\"/>\n      </g>\n     </g>\n    </g>\n    <g id=\"ytick_6\">\n     <g id=\"line2d_23\">\n      <path clip-path=\"url(#p4011fca776)\" d=\"M 46.965625 144.628125 \nL 375.200919 144.628125 \n\" style=\"fill:none;stroke:#b0b0b0;stroke-linecap:square;stroke-width:0.8;\"/>\n     </g>\n     <g id=\"line2d_24\">\n      <g>\n       <use style=\"stroke:#000000;stroke-width:0.8;\" x=\"46.965625\" xlink:href=\"#m93fb537794\" y=\"144.628125\"/>\n      </g>\n     </g>\n     <g id=\"text_13\">\n      <!-- 125 -->\n      <g transform=\"translate(20.878125 148.427344)scale(0.1 -0.1)\">\n       <use xlink:href=\"#DejaVuSans-49\"/>\n       <use x=\"63.623047\" xlink:href=\"#DejaVuSans-50\"/>\n       <use x=\"127.246094\" xlink:href=\"#DejaVuSans-53\"/>\n      </g>\n     </g>\n    </g>\n    <g id=\"ytick_7\">\n     <g id=\"line2d_25\">\n      <path clip-path=\"url(#p4011fca776)\" d=\"M 46.965625 103.858125 \nL 375.200919 103.858125 \n\" style=\"fill:none;stroke:#b0b0b0;stroke-linecap:square;stroke-width:0.8;\"/>\n     </g>\n     <g id=\"line2d_26\">\n      <g>\n       <use style=\"stroke:#000000;stroke-width:0.8;\" x=\"46.965625\" xlink:href=\"#m93fb537794\" y=\"103.858125\"/>\n      </g>\n     </g>\n     <g id=\"text_14\">\n      <!-- 150 -->\n      <g transform=\"translate(20.878125 107.657344)scale(0.1 -0.1)\">\n       <use xlink:href=\"#DejaVuSans-49\"/>\n       <use x=\"63.623047\" xlink:href=\"#DejaVuSans-53\"/>\n       <use x=\"127.246094\" xlink:href=\"#DejaVuSans-48\"/>\n      </g>\n     </g>\n    </g>\n    <g id=\"ytick_8\">\n     <g id=\"line2d_27\">\n      <path clip-path=\"url(#p4011fca776)\" d=\"M 46.965625 63.088125 \nL 375.200919 63.088125 \n\" style=\"fill:none;stroke:#b0b0b0;stroke-linecap:square;stroke-width:0.8;\"/>\n     </g>\n     <g id=\"line2d_28\">\n      <g>\n       <use style=\"stroke:#000000;stroke-width:0.8;\" x=\"46.965625\" xlink:href=\"#m93fb537794\" y=\"63.088125\"/>\n      </g>\n     </g>\n     <g id=\"text_15\">\n      <!-- 175 -->\n      <g transform=\"translate(20.878125 66.887344)scale(0.1 -0.1)\">\n       <use xlink:href=\"#DejaVuSans-49\"/>\n       <use x=\"63.623047\" xlink:href=\"#DejaVuSans-55\"/>\n       <use x=\"127.246094\" xlink:href=\"#DejaVuSans-53\"/>\n      </g>\n     </g>\n    </g>\n    <g id=\"ytick_9\">\n     <g id=\"line2d_29\">\n      <path clip-path=\"url(#p4011fca776)\" d=\"M 46.965625 22.318125 \nL 375.200919 22.318125 \n\" style=\"fill:none;stroke:#b0b0b0;stroke-linecap:square;stroke-width:0.8;\"/>\n     </g>\n     <g id=\"line2d_30\">\n      <g>\n       <use style=\"stroke:#000000;stroke-width:0.8;\" x=\"46.965625\" xlink:href=\"#m93fb537794\" y=\"22.318125\"/>\n      </g>\n     </g>\n     <g id=\"text_16\">\n      <!-- 200 -->\n      <g transform=\"translate(20.878125 26.117344)scale(0.1 -0.1)\">\n       <use xlink:href=\"#DejaVuSans-50\"/>\n       <use x=\"63.623047\" xlink:href=\"#DejaVuSans-48\"/>\n       <use x=\"127.246094\" xlink:href=\"#DejaVuSans-48\"/>\n      </g>\n     </g>\n    </g>\n    <g id=\"text_17\">\n     <!-- Loss -->\n     <defs>\n      <path d=\"M 30.609375 48.390625 \nQ 23.390625 48.390625 19.1875 42.75 \nQ 14.984375 37.109375 14.984375 27.296875 \nQ 14.984375 17.484375 19.15625 11.84375 \nQ 23.34375 6.203125 30.609375 6.203125 \nQ 37.796875 6.203125 41.984375 11.859375 \nQ 46.1875 17.53125 46.1875 27.296875 \nQ 46.1875 37.015625 41.984375 42.703125 \nQ 37.796875 48.390625 30.609375 48.390625 \nz\nM 30.609375 56 \nQ 42.328125 56 49.015625 48.375 \nQ 55.71875 40.765625 55.71875 27.296875 \nQ 55.71875 13.875 49.015625 6.21875 \nQ 42.328125 -1.421875 30.609375 -1.421875 \nQ 18.84375 -1.421875 12.171875 6.21875 \nQ 5.515625 13.875 5.515625 27.296875 \nQ 5.515625 40.765625 12.171875 48.375 \nQ 18.84375 56 30.609375 56 \nz\n\" id=\"DejaVuSans-111\"/>\n      <path d=\"M 44.28125 53.078125 \nL 44.28125 44.578125 \nQ 40.484375 46.53125 36.375 47.5 \nQ 32.28125 48.484375 27.875 48.484375 \nQ 21.1875 48.484375 17.84375 46.4375 \nQ 14.5 44.390625 14.5 40.28125 \nQ 14.5 37.15625 16.890625 35.375 \nQ 19.28125 33.59375 26.515625 31.984375 \nL 29.59375 31.296875 \nQ 39.15625 29.25 43.1875 25.515625 \nQ 47.21875 21.78125 47.21875 15.09375 \nQ 47.21875 7.46875 41.1875 3.015625 \nQ 35.15625 -1.421875 24.609375 -1.421875 \nQ 20.21875 -1.421875 15.453125 -0.5625 \nQ 10.6875 0.296875 5.421875 2 \nL 5.421875 11.28125 \nQ 10.40625 8.6875 15.234375 7.390625 \nQ 20.0625 6.109375 24.8125 6.109375 \nQ 31.15625 6.109375 34.5625 8.28125 \nQ 37.984375 10.453125 37.984375 14.40625 \nQ 37.984375 18.0625 35.515625 20.015625 \nQ 33.0625 21.96875 24.703125 23.78125 \nL 21.578125 24.515625 \nQ 13.234375 26.265625 9.515625 29.90625 \nQ 5.8125 33.546875 5.8125 39.890625 \nQ 5.8125 47.609375 11.28125 51.796875 \nQ 16.75 56 26.8125 56 \nQ 31.78125 56 36.171875 55.265625 \nQ 40.578125 54.546875 44.28125 53.078125 \nz\n\" id=\"DejaVuSans-115\"/>\n     </defs>\n     <g transform=\"translate(14.798438 196.365312)rotate(-90)scale(0.1 -0.1)\">\n      <use xlink:href=\"#DejaVuSans-76\"/>\n      <use x=\"53.962891\" xlink:href=\"#DejaVuSans-111\"/>\n      <use x=\"115.144531\" xlink:href=\"#DejaVuSans-115\"/>\n      <use x=\"167.244141\" xlink:href=\"#DejaVuSans-115\"/>\n     </g>\n    </g>\n   </g>\n   <g id=\"line2d_31\">\n    <path clip-path=\"url(#p4011fca776)\" d=\"M 61.885411 324.053971 \nL 73.941804 234.883928 \nL 89.012295 218.555464 \nL 209.576223 42.934203 \nL 360.281133 218.451733 \n\" style=\"fill:none;stroke:#1f77b4;stroke-linecap:square;stroke-width:1.5;\"/>\n    <defs>\n     <path d=\"M 0 2 \nC 0.530406 2 1.03916 1.789267 1.414214 1.414214 \nC 1.789267 1.03916 2 0.530406 2 0 \nC 2 -0.530406 1.789267 -1.03916 1.414214 -1.414214 \nC 1.03916 -1.789267 0.530406 -2 0 -2 \nC -0.530406 -2 -1.03916 -1.789267 -1.414214 -1.414214 \nC -1.789267 -1.03916 -2 -0.530406 -2 0 \nC -2 0.530406 -1.789267 1.03916 -1.414214 1.414214 \nC -1.03916 1.789267 -0.530406 2 0 2 \nz\n\" id=\"mf6f4988402\" style=\"stroke:#1f77b4;\"/>\n    </defs>\n    <g clip-path=\"url(#p4011fca776)\">\n     <use style=\"fill:#1f77b4;stroke:#1f77b4;\" x=\"61.885411\" xlink:href=\"#mf6f4988402\" y=\"324.053971\"/>\n     <use style=\"fill:#1f77b4;stroke:#1f77b4;\" x=\"73.941804\" xlink:href=\"#mf6f4988402\" y=\"234.883928\"/>\n     <use style=\"fill:#1f77b4;stroke:#1f77b4;\" x=\"89.012295\" xlink:href=\"#mf6f4988402\" y=\"218.555464\"/>\n     <use style=\"fill:#1f77b4;stroke:#1f77b4;\" x=\"209.576223\" xlink:href=\"#mf6f4988402\" y=\"42.934203\"/>\n     <use style=\"fill:#1f77b4;stroke:#1f77b4;\" x=\"360.281133\" xlink:href=\"#mf6f4988402\" y=\"218.451733\"/>\n    </g>\n   </g>\n   <g id=\"line2d_32\">\n    <path clip-path=\"url(#p4011fca776)\" d=\"M 61.885411 164.694513 \nL 73.941804 323.478779 \nL 89.012295 314.856325 \nL 209.576223 305.48946 \nL 360.281133 308.380931 \n\" style=\"fill:none;stroke:#ff7f0e;stroke-linecap:square;stroke-width:1.5;\"/>\n    <defs>\n     <path d=\"M 0 2 \nC 0.530406 2 1.03916 1.789267 1.414214 1.414214 \nC 1.789267 1.03916 2 0.530406 2 0 \nC 2 -0.530406 1.789267 -1.03916 1.414214 -1.414214 \nC 1.03916 -1.789267 0.530406 -2 0 -2 \nC -0.530406 -2 -1.03916 -1.789267 -1.414214 -1.414214 \nC -1.789267 -1.03916 -2 -0.530406 -2 0 \nC -2 0.530406 -1.789267 1.03916 -1.414214 1.414214 \nC -1.03916 1.789267 -0.530406 2 0 2 \nz\n\" id=\"m6615442c36\" style=\"stroke:#ff7f0e;\"/>\n    </defs>\n    <g clip-path=\"url(#p4011fca776)\">\n     <use style=\"fill:#ff7f0e;stroke:#ff7f0e;\" x=\"61.885411\" xlink:href=\"#m6615442c36\" y=\"164.694513\"/>\n     <use style=\"fill:#ff7f0e;stroke:#ff7f0e;\" x=\"73.941804\" xlink:href=\"#m6615442c36\" y=\"323.478779\"/>\n     <use style=\"fill:#ff7f0e;stroke:#ff7f0e;\" x=\"89.012295\" xlink:href=\"#m6615442c36\" y=\"314.856325\"/>\n     <use style=\"fill:#ff7f0e;stroke:#ff7f0e;\" x=\"209.576223\" xlink:href=\"#m6615442c36\" y=\"305.48946\"/>\n     <use style=\"fill:#ff7f0e;stroke:#ff7f0e;\" x=\"360.281133\" xlink:href=\"#m6615442c36\" y=\"308.380931\"/>\n    </g>\n   </g>\n   <g id=\"line2d_33\">\n    <path clip-path=\"url(#p4011fca776)\" d=\"M 72.321886 -1 \nL 73.941804 324.062425 \nL 89.012295 323.883875 \nL 209.576223 322.486268 \nL 360.281133 321.704957 \n\" style=\"fill:none;stroke:#2ca02c;stroke-linecap:square;stroke-width:1.5;\"/>\n    <defs>\n     <path d=\"M 0 2 \nC 0.530406 2 1.03916 1.789267 1.414214 1.414214 \nC 1.789267 1.03916 2 0.530406 2 0 \nC 2 -0.530406 1.789267 -1.03916 1.414214 -1.414214 \nC 1.03916 -1.789267 0.530406 -2 0 -2 \nC -0.530406 -2 -1.03916 -1.789267 -1.414214 -1.414214 \nC -1.789267 -1.03916 -2 -0.530406 -2 0 \nC -2 0.530406 -1.789267 1.03916 -1.414214 1.414214 \nC -1.03916 1.789267 -0.530406 2 0 2 \nz\n\" id=\"mdb81c68ee0\" style=\"stroke:#2ca02c;\"/>\n    </defs>\n    <g clip-path=\"url(#p4011fca776)\">\n     <use style=\"fill:#2ca02c;stroke:#2ca02c;\" x=\"72.321886\" xlink:href=\"#mdb81c68ee0\" y=\"-1\"/>\n     <use style=\"fill:#2ca02c;stroke:#2ca02c;\" x=\"73.941804\" xlink:href=\"#mdb81c68ee0\" y=\"324.062425\"/>\n     <use style=\"fill:#2ca02c;stroke:#2ca02c;\" x=\"89.012295\" xlink:href=\"#mdb81c68ee0\" y=\"323.883875\"/>\n     <use style=\"fill:#2ca02c;stroke:#2ca02c;\" x=\"209.576223\" xlink:href=\"#mdb81c68ee0\" y=\"322.486268\"/>\n     <use style=\"fill:#2ca02c;stroke:#2ca02c;\" x=\"360.281133\" xlink:href=\"#mdb81c68ee0\" y=\"321.704957\"/>\n    </g>\n   </g>\n   <g id=\"patch_3\">\n    <path d=\"M 46.965625 348.478125 \nL 46.965625 22.318125 \n\" style=\"fill:none;stroke:#000000;stroke-linecap:square;stroke-linejoin:miter;stroke-width:0.8;\"/>\n   </g>\n   <g id=\"patch_4\">\n    <path d=\"M 375.200919 348.478125 \nL 375.200919 22.318125 \n\" style=\"fill:none;stroke:#000000;stroke-linecap:square;stroke-linejoin:miter;stroke-width:0.8;\"/>\n   </g>\n   <g id=\"patch_5\">\n    <path d=\"M 46.965625 348.478125 \nL 375.200919 348.478125 \n\" style=\"fill:none;stroke:#000000;stroke-linecap:square;stroke-linejoin:miter;stroke-width:0.8;\"/>\n   </g>\n   <g id=\"patch_6\">\n    <path d=\"M 46.965625 22.318125 \nL 375.200919 22.318125 \n\" style=\"fill:none;stroke:#000000;stroke-linecap:square;stroke-linejoin:miter;stroke-width:0.8;\"/>\n   </g>\n   <g id=\"text_18\">\n    <!-- Train -->\n    <defs>\n     <path d=\"M -0.296875 72.90625 \nL 61.375 72.90625 \nL 61.375 64.59375 \nL 35.5 64.59375 \nL 35.5 0 \nL 25.59375 0 \nL 25.59375 64.59375 \nL -0.296875 64.59375 \nz\n\" id=\"DejaVuSans-84\"/>\n    </defs>\n    <g transform=\"translate(196.690772 16.318125)scale(0.12 -0.12)\">\n     <use xlink:href=\"#DejaVuSans-84\"/>\n     <use x=\"46.333984\" xlink:href=\"#DejaVuSans-114\"/>\n     <use x=\"87.447266\" xlink:href=\"#DejaVuSans-97\"/>\n     <use x=\"148.726562\" xlink:href=\"#DejaVuSans-105\"/>\n     <use x=\"176.509766\" xlink:href=\"#DejaVuSans-110\"/>\n    </g>\n   </g>\n   <g id=\"legend_1\">\n    <g id=\"patch_7\">\n     <path d=\"M 291.574357 74.3525 \nL 368.200919 74.3525 \nQ 370.200919 74.3525 370.200919 72.3525 \nL 370.200919 29.318125 \nQ 370.200919 27.318125 368.200919 27.318125 \nL 291.574357 27.318125 \nQ 289.574357 27.318125 289.574357 29.318125 \nL 289.574357 72.3525 \nQ 289.574357 74.3525 291.574357 74.3525 \nz\n\" style=\"fill:#ffffff;opacity:0.8;stroke:#cccccc;stroke-linejoin:miter;\"/>\n    </g>\n    <g id=\"line2d_34\">\n     <path d=\"M 293.574357 35.416562 \nL 313.574357 35.416562 \n\" style=\"fill:none;stroke:#1f77b4;stroke-linecap:square;stroke-width:1.5;\"/>\n    </g>\n    <g id=\"line2d_35\">\n     <g>\n      <use style=\"fill:#1f77b4;stroke:#1f77b4;\" x=\"303.574357\" xlink:href=\"#mf6f4988402\" y=\"35.416562\"/>\n     </g>\n    </g>\n    <g id=\"text_19\">\n     <!-- SGD -->\n     <defs>\n      <path d=\"M 53.515625 70.515625 \nL 53.515625 60.890625 \nQ 47.90625 63.578125 42.921875 64.890625 \nQ 37.9375 66.21875 33.296875 66.21875 \nQ 25.25 66.21875 20.875 63.09375 \nQ 16.5 59.96875 16.5 54.203125 \nQ 16.5 49.359375 19.40625 46.890625 \nQ 22.3125 44.4375 30.421875 42.921875 \nL 36.375 41.703125 \nQ 47.40625 39.59375 52.65625 34.296875 \nQ 57.90625 29 57.90625 20.125 \nQ 57.90625 9.515625 50.796875 4.046875 \nQ 43.703125 -1.421875 29.984375 -1.421875 \nQ 24.8125 -1.421875 18.96875 -0.25 \nQ 13.140625 0.921875 6.890625 3.21875 \nL 6.890625 13.375 \nQ 12.890625 10.015625 18.65625 8.296875 \nQ 24.421875 6.59375 29.984375 6.59375 \nQ 38.421875 6.59375 43.015625 9.90625 \nQ 47.609375 13.234375 47.609375 19.390625 \nQ 47.609375 24.75 44.3125 27.78125 \nQ 41.015625 30.8125 33.5 32.328125 \nL 27.484375 33.5 \nQ 16.453125 35.6875 11.515625 40.375 \nQ 6.59375 45.0625 6.59375 53.421875 \nQ 6.59375 63.09375 13.40625 68.65625 \nQ 20.21875 74.21875 32.171875 74.21875 \nQ 37.3125 74.21875 42.625 73.28125 \nQ 47.953125 72.359375 53.515625 70.515625 \nz\n\" id=\"DejaVuSans-83\"/>\n      <path d=\"M 59.515625 10.40625 \nL 59.515625 29.984375 \nL 43.40625 29.984375 \nL 43.40625 38.09375 \nL 69.28125 38.09375 \nL 69.28125 6.78125 \nQ 63.578125 2.734375 56.6875 0.65625 \nQ 49.8125 -1.421875 42 -1.421875 \nQ 24.90625 -1.421875 15.25 8.5625 \nQ 5.609375 18.5625 5.609375 36.375 \nQ 5.609375 54.25 15.25 64.234375 \nQ 24.90625 74.21875 42 74.21875 \nQ 49.125 74.21875 55.546875 72.453125 \nQ 61.96875 70.703125 67.390625 67.28125 \nL 67.390625 56.78125 \nQ 61.921875 61.421875 55.765625 63.765625 \nQ 49.609375 66.109375 42.828125 66.109375 \nQ 29.4375 66.109375 22.71875 58.640625 \nQ 16.015625 51.171875 16.015625 36.375 \nQ 16.015625 21.625 22.71875 14.15625 \nQ 29.4375 6.6875 42.828125 6.6875 \nQ 48.046875 6.6875 52.140625 7.59375 \nQ 56.25 8.5 59.515625 10.40625 \nz\n\" id=\"DejaVuSans-71\"/>\n      <path d=\"M 19.671875 64.796875 \nL 19.671875 8.109375 \nL 31.59375 8.109375 \nQ 46.6875 8.109375 53.6875 14.9375 \nQ 60.6875 21.78125 60.6875 36.53125 \nQ 60.6875 51.171875 53.6875 57.984375 \nQ 46.6875 64.796875 31.59375 64.796875 \nz\nM 9.8125 72.90625 \nL 30.078125 72.90625 \nQ 51.265625 72.90625 61.171875 64.09375 \nQ 71.09375 55.28125 71.09375 36.53125 \nQ 71.09375 17.671875 61.125 8.828125 \nQ 51.171875 0 30.078125 0 \nL 9.8125 0 \nz\n\" id=\"DejaVuSans-68\"/>\n     </defs>\n     <g transform=\"translate(321.574357 38.916562)scale(0.1 -0.1)\">\n      <use xlink:href=\"#DejaVuSans-83\"/>\n      <use x=\"63.476562\" xlink:href=\"#DejaVuSans-71\"/>\n      <use x=\"140.966797\" xlink:href=\"#DejaVuSans-68\"/>\n     </g>\n    </g>\n    <g id=\"line2d_36\">\n     <path d=\"M 293.574357 50.094687 \nL 313.574357 50.094687 \n\" style=\"fill:none;stroke:#ff7f0e;stroke-linecap:square;stroke-width:1.5;\"/>\n    </g>\n    <g id=\"line2d_37\">\n     <g>\n      <use style=\"fill:#ff7f0e;stroke:#ff7f0e;\" x=\"303.574357\" xlink:href=\"#m6615442c36\" y=\"50.094687\"/>\n     </g>\n    </g>\n    <g id=\"text_20\">\n     <!-- RMSprop -->\n     <defs>\n      <path d=\"M 44.390625 34.1875 \nQ 47.5625 33.109375 50.5625 29.59375 \nQ 53.5625 26.078125 56.59375 19.921875 \nL 66.609375 0 \nL 56 0 \nL 46.6875 18.703125 \nQ 43.0625 26.03125 39.671875 28.421875 \nQ 36.28125 30.8125 30.421875 30.8125 \nL 19.671875 30.8125 \nL 19.671875 0 \nL 9.8125 0 \nL 9.8125 72.90625 \nL 32.078125 72.90625 \nQ 44.578125 72.90625 50.734375 67.671875 \nQ 56.890625 62.453125 56.890625 51.90625 \nQ 56.890625 45.015625 53.6875 40.46875 \nQ 50.484375 35.9375 44.390625 34.1875 \nz\nM 19.671875 64.796875 \nL 19.671875 38.921875 \nL 32.078125 38.921875 \nQ 39.203125 38.921875 42.84375 42.21875 \nQ 46.484375 45.515625 46.484375 51.90625 \nQ 46.484375 58.296875 42.84375 61.546875 \nQ 39.203125 64.796875 32.078125 64.796875 \nz\n\" id=\"DejaVuSans-82\"/>\n      <path d=\"M 9.8125 72.90625 \nL 24.515625 72.90625 \nL 43.109375 23.296875 \nL 61.8125 72.90625 \nL 76.515625 72.90625 \nL 76.515625 0 \nL 66.890625 0 \nL 66.890625 64.015625 \nL 48.09375 14.015625 \nL 38.1875 14.015625 \nL 19.390625 64.015625 \nL 19.390625 0 \nL 9.8125 0 \nz\n\" id=\"DejaVuSans-77\"/>\n      <path d=\"M 18.109375 8.203125 \nL 18.109375 -20.796875 \nL 9.078125 -20.796875 \nL 9.078125 54.6875 \nL 18.109375 54.6875 \nL 18.109375 46.390625 \nQ 20.953125 51.265625 25.265625 53.625 \nQ 29.59375 56 35.59375 56 \nQ 45.5625 56 51.78125 48.09375 \nQ 58.015625 40.1875 58.015625 27.296875 \nQ 58.015625 14.40625 51.78125 6.484375 \nQ 45.5625 -1.421875 35.59375 -1.421875 \nQ 29.59375 -1.421875 25.265625 0.953125 \nQ 20.953125 3.328125 18.109375 8.203125 \nz\nM 48.6875 27.296875 \nQ 48.6875 37.203125 44.609375 42.84375 \nQ 40.53125 48.484375 33.40625 48.484375 \nQ 26.265625 48.484375 22.1875 42.84375 \nQ 18.109375 37.203125 18.109375 27.296875 \nQ 18.109375 17.390625 22.1875 11.75 \nQ 26.265625 6.109375 33.40625 6.109375 \nQ 40.53125 6.109375 44.609375 11.75 \nQ 48.6875 17.390625 48.6875 27.296875 \nz\n\" id=\"DejaVuSans-112\"/>\n     </defs>\n     <g transform=\"translate(321.574357 53.594687)scale(0.1 -0.1)\">\n      <use xlink:href=\"#DejaVuSans-82\"/>\n      <use x=\"69.482422\" xlink:href=\"#DejaVuSans-77\"/>\n      <use x=\"155.761719\" xlink:href=\"#DejaVuSans-83\"/>\n      <use x=\"219.238281\" xlink:href=\"#DejaVuSans-112\"/>\n      <use x=\"282.714844\" xlink:href=\"#DejaVuSans-114\"/>\n      <use x=\"321.578125\" xlink:href=\"#DejaVuSans-111\"/>\n      <use x=\"382.759766\" xlink:href=\"#DejaVuSans-112\"/>\n     </g>\n    </g>\n    <g id=\"line2d_38\">\n     <path d=\"M 293.574357 64.772812 \nL 313.574357 64.772812 \n\" style=\"fill:none;stroke:#2ca02c;stroke-linecap:square;stroke-width:1.5;\"/>\n    </g>\n    <g id=\"line2d_39\">\n     <g>\n      <use style=\"fill:#2ca02c;stroke:#2ca02c;\" x=\"303.574357\" xlink:href=\"#mdb81c68ee0\" y=\"64.772812\"/>\n     </g>\n    </g>\n    <g id=\"text_21\">\n     <!-- Adam -->\n     <defs>\n      <path d=\"M 34.1875 63.1875 \nL 20.796875 26.90625 \nL 47.609375 26.90625 \nz\nM 28.609375 72.90625 \nL 39.796875 72.90625 \nL 67.578125 0 \nL 57.328125 0 \nL 50.6875 18.703125 \nL 17.828125 18.703125 \nL 11.1875 0 \nL 0.78125 0 \nz\n\" id=\"DejaVuSans-65\"/>\n      <path d=\"M 45.40625 46.390625 \nL 45.40625 75.984375 \nL 54.390625 75.984375 \nL 54.390625 0 \nL 45.40625 0 \nL 45.40625 8.203125 \nQ 42.578125 3.328125 38.25 0.953125 \nQ 33.9375 -1.421875 27.875 -1.421875 \nQ 17.96875 -1.421875 11.734375 6.484375 \nQ 5.515625 14.40625 5.515625 27.296875 \nQ 5.515625 40.1875 11.734375 48.09375 \nQ 17.96875 56 27.875 56 \nQ 33.9375 56 38.25 53.625 \nQ 42.578125 51.265625 45.40625 46.390625 \nz\nM 14.796875 27.296875 \nQ 14.796875 17.390625 18.875 11.75 \nQ 22.953125 6.109375 30.078125 6.109375 \nQ 37.203125 6.109375 41.296875 11.75 \nQ 45.40625 17.390625 45.40625 27.296875 \nQ 45.40625 37.203125 41.296875 42.84375 \nQ 37.203125 48.484375 30.078125 48.484375 \nQ 22.953125 48.484375 18.875 42.84375 \nQ 14.796875 37.203125 14.796875 27.296875 \nz\n\" id=\"DejaVuSans-100\"/>\n      <path d=\"M 52 44.1875 \nQ 55.375 50.25 60.0625 53.125 \nQ 64.75 56 71.09375 56 \nQ 79.640625 56 84.28125 50.015625 \nQ 88.921875 44.046875 88.921875 33.015625 \nL 88.921875 0 \nL 79.890625 0 \nL 79.890625 32.71875 \nQ 79.890625 40.578125 77.09375 44.375 \nQ 74.3125 48.1875 68.609375 48.1875 \nQ 61.625 48.1875 57.5625 43.546875 \nQ 53.515625 38.921875 53.515625 30.90625 \nL 53.515625 0 \nL 44.484375 0 \nL 44.484375 32.71875 \nQ 44.484375 40.625 41.703125 44.40625 \nQ 38.921875 48.1875 33.109375 48.1875 \nQ 26.21875 48.1875 22.15625 43.53125 \nQ 18.109375 38.875 18.109375 30.90625 \nL 18.109375 0 \nL 9.078125 0 \nL 9.078125 54.6875 \nL 18.109375 54.6875 \nL 18.109375 46.1875 \nQ 21.1875 51.21875 25.484375 53.609375 \nQ 29.78125 56 35.6875 56 \nQ 41.65625 56 45.828125 52.96875 \nQ 50 49.953125 52 44.1875 \nz\n\" id=\"DejaVuSans-109\"/>\n     </defs>\n     <g transform=\"translate(321.574357 68.272812)scale(0.1 -0.1)\">\n      <use xlink:href=\"#DejaVuSans-65\"/>\n      <use x=\"66.658203\" xlink:href=\"#DejaVuSans-100\"/>\n      <use x=\"130.134766\" xlink:href=\"#DejaVuSans-97\"/>\n      <use x=\"191.414062\" xlink:href=\"#DejaVuSans-109\"/>\n     </g>\n    </g>\n   </g>\n  </g>\n  <g id=\"axes_2\">\n   <g id=\"patch_8\">\n    <path d=\"M 440.847978 348.478125 \nL 769.083272 348.478125 \nL 769.083272 22.318125 \nL 440.847978 22.318125 \nz\n\" style=\"fill:#ffffff;\"/>\n   </g>\n   <g id=\"matplotlib.axis_3\">\n    <g id=\"xtick_7\">\n     <g id=\"line2d_40\">\n      <path clip-path=\"url(#p4eef678c05)\" d=\"M 452.753666 348.478125 \nL 452.753666 22.318125 \n\" style=\"fill:none;stroke:#b0b0b0;stroke-linecap:square;stroke-width:0.8;\"/>\n     </g>\n     <g id=\"line2d_41\">\n      <g>\n       <use style=\"stroke:#000000;stroke-width:0.8;\" x=\"452.753666\" xlink:href=\"#m225ba2264c\" y=\"348.478125\"/>\n      </g>\n     </g>\n     <g id=\"text_22\">\n      <!-- 0.00 -->\n      <g transform=\"translate(441.620853 363.076562)scale(0.1 -0.1)\">\n       <use xlink:href=\"#DejaVuSans-48\"/>\n       <use x=\"63.623047\" xlink:href=\"#DejaVuSans-46\"/>\n       <use x=\"95.410156\" xlink:href=\"#DejaVuSans-48\"/>\n       <use x=\"159.033203\" xlink:href=\"#DejaVuSans-48\"/>\n      </g>\n     </g>\n    </g>\n    <g id=\"xtick_8\">\n     <g id=\"line2d_42\">\n      <path clip-path=\"url(#p4eef678c05)\" d=\"M 513.03563 348.478125 \nL 513.03563 22.318125 \n\" style=\"fill:none;stroke:#b0b0b0;stroke-linecap:square;stroke-width:0.8;\"/>\n     </g>\n     <g id=\"line2d_43\">\n      <g>\n       <use style=\"stroke:#000000;stroke-width:0.8;\" x=\"513.03563\" xlink:href=\"#m225ba2264c\" y=\"348.478125\"/>\n      </g>\n     </g>\n     <g id=\"text_23\">\n      <!-- 0.02 -->\n      <g transform=\"translate(501.902817 363.076562)scale(0.1 -0.1)\">\n       <use xlink:href=\"#DejaVuSans-48\"/>\n       <use x=\"63.623047\" xlink:href=\"#DejaVuSans-46\"/>\n       <use x=\"95.410156\" xlink:href=\"#DejaVuSans-48\"/>\n       <use x=\"159.033203\" xlink:href=\"#DejaVuSans-50\"/>\n      </g>\n     </g>\n    </g>\n    <g id=\"xtick_9\">\n     <g id=\"line2d_44\">\n      <path clip-path=\"url(#p4eef678c05)\" d=\"M 573.317594 348.478125 \nL 573.317594 22.318125 \n\" style=\"fill:none;stroke:#b0b0b0;stroke-linecap:square;stroke-width:0.8;\"/>\n     </g>\n     <g id=\"line2d_45\">\n      <g>\n       <use style=\"stroke:#000000;stroke-width:0.8;\" x=\"573.317594\" xlink:href=\"#m225ba2264c\" y=\"348.478125\"/>\n      </g>\n     </g>\n     <g id=\"text_24\">\n      <!-- 0.04 -->\n      <g transform=\"translate(562.184781 363.076562)scale(0.1 -0.1)\">\n       <use xlink:href=\"#DejaVuSans-48\"/>\n       <use x=\"63.623047\" xlink:href=\"#DejaVuSans-46\"/>\n       <use x=\"95.410156\" xlink:href=\"#DejaVuSans-48\"/>\n       <use x=\"159.033203\" xlink:href=\"#DejaVuSans-52\"/>\n      </g>\n     </g>\n    </g>\n    <g id=\"xtick_10\">\n     <g id=\"line2d_46\">\n      <path clip-path=\"url(#p4eef678c05)\" d=\"M 633.599558 348.478125 \nL 633.599558 22.318125 \n\" style=\"fill:none;stroke:#b0b0b0;stroke-linecap:square;stroke-width:0.8;\"/>\n     </g>\n     <g id=\"line2d_47\">\n      <g>\n       <use style=\"stroke:#000000;stroke-width:0.8;\" x=\"633.599558\" xlink:href=\"#m225ba2264c\" y=\"348.478125\"/>\n      </g>\n     </g>\n     <g id=\"text_25\">\n      <!-- 0.06 -->\n      <g transform=\"translate(622.466745 363.076562)scale(0.1 -0.1)\">\n       <use xlink:href=\"#DejaVuSans-48\"/>\n       <use x=\"63.623047\" xlink:href=\"#DejaVuSans-46\"/>\n       <use x=\"95.410156\" xlink:href=\"#DejaVuSans-48\"/>\n       <use x=\"159.033203\" xlink:href=\"#DejaVuSans-54\"/>\n      </g>\n     </g>\n    </g>\n    <g id=\"xtick_11\">\n     <g id=\"line2d_48\">\n      <path clip-path=\"url(#p4eef678c05)\" d=\"M 693.881522 348.478125 \nL 693.881522 22.318125 \n\" style=\"fill:none;stroke:#b0b0b0;stroke-linecap:square;stroke-width:0.8;\"/>\n     </g>\n     <g id=\"line2d_49\">\n      <g>\n       <use style=\"stroke:#000000;stroke-width:0.8;\" x=\"693.881522\" xlink:href=\"#m225ba2264c\" y=\"348.478125\"/>\n      </g>\n     </g>\n     <g id=\"text_26\">\n      <!-- 0.08 -->\n      <g transform=\"translate(682.748709 363.076562)scale(0.1 -0.1)\">\n       <use xlink:href=\"#DejaVuSans-48\"/>\n       <use x=\"63.623047\" xlink:href=\"#DejaVuSans-46\"/>\n       <use x=\"95.410156\" xlink:href=\"#DejaVuSans-48\"/>\n       <use x=\"159.033203\" xlink:href=\"#DejaVuSans-56\"/>\n      </g>\n     </g>\n    </g>\n    <g id=\"xtick_12\">\n     <g id=\"line2d_50\">\n      <path clip-path=\"url(#p4eef678c05)\" d=\"M 754.163486 348.478125 \nL 754.163486 22.318125 \n\" style=\"fill:none;stroke:#b0b0b0;stroke-linecap:square;stroke-width:0.8;\"/>\n     </g>\n     <g id=\"line2d_51\">\n      <g>\n       <use style=\"stroke:#000000;stroke-width:0.8;\" x=\"754.163486\" xlink:href=\"#m225ba2264c\" y=\"348.478125\"/>\n      </g>\n     </g>\n     <g id=\"text_27\">\n      <!-- 0.10 -->\n      <g transform=\"translate(743.030673 363.076562)scale(0.1 -0.1)\">\n       <use xlink:href=\"#DejaVuSans-48\"/>\n       <use x=\"63.623047\" xlink:href=\"#DejaVuSans-46\"/>\n       <use x=\"95.410156\" xlink:href=\"#DejaVuSans-49\"/>\n       <use x=\"159.033203\" xlink:href=\"#DejaVuSans-48\"/>\n      </g>\n     </g>\n    </g>\n    <g id=\"text_28\">\n     <!-- Learning rate -->\n     <g transform=\"translate(571.5125 376.754687)scale(0.1 -0.1)\">\n      <use xlink:href=\"#DejaVuSans-76\"/>\n      <use x=\"53.962891\" xlink:href=\"#DejaVuSans-101\"/>\n      <use x=\"115.486328\" xlink:href=\"#DejaVuSans-97\"/>\n      <use x=\"176.765625\" xlink:href=\"#DejaVuSans-114\"/>\n      <use x=\"216.128906\" xlink:href=\"#DejaVuSans-110\"/>\n      <use x=\"279.507812\" xlink:href=\"#DejaVuSans-105\"/>\n      <use x=\"307.291016\" xlink:href=\"#DejaVuSans-110\"/>\n      <use x=\"370.669922\" xlink:href=\"#DejaVuSans-103\"/>\n      <use x=\"434.146484\" xlink:href=\"#DejaVuSans-32\"/>\n      <use x=\"465.933594\" xlink:href=\"#DejaVuSans-114\"/>\n      <use x=\"507.046875\" xlink:href=\"#DejaVuSans-97\"/>\n      <use x=\"568.326172\" xlink:href=\"#DejaVuSans-116\"/>\n      <use x=\"607.535156\" xlink:href=\"#DejaVuSans-101\"/>\n     </g>\n    </g>\n   </g>\n   <g id=\"matplotlib.axis_4\">\n    <g id=\"ytick_10\">\n     <g id=\"line2d_52\">\n      <path clip-path=\"url(#p4eef678c05)\" d=\"M 440.847978 348.478125 \nL 769.083272 348.478125 \n\" style=\"fill:none;stroke:#b0b0b0;stroke-linecap:square;stroke-width:0.8;\"/>\n     </g>\n     <g id=\"line2d_53\">\n      <g>\n       <use style=\"stroke:#000000;stroke-width:0.8;\" x=\"440.847978\" xlink:href=\"#m93fb537794\" y=\"348.478125\"/>\n      </g>\n     </g>\n     <g id=\"text_29\">\n      <!-- 0 -->\n      <g transform=\"translate(427.485478 352.277344)scale(0.1 -0.1)\">\n       <use xlink:href=\"#DejaVuSans-48\"/>\n      </g>\n     </g>\n    </g>\n    <g id=\"ytick_11\">\n     <g id=\"line2d_54\">\n      <path clip-path=\"url(#p4eef678c05)\" d=\"M 440.847978 307.708125 \nL 769.083272 307.708125 \n\" style=\"fill:none;stroke:#b0b0b0;stroke-linecap:square;stroke-width:0.8;\"/>\n     </g>\n     <g id=\"line2d_55\">\n      <g>\n       <use style=\"stroke:#000000;stroke-width:0.8;\" x=\"440.847978\" xlink:href=\"#m93fb537794\" y=\"307.708125\"/>\n      </g>\n     </g>\n     <g id=\"text_30\">\n      <!-- 25 -->\n      <g transform=\"translate(421.122978 311.507344)scale(0.1 -0.1)\">\n       <use xlink:href=\"#DejaVuSans-50\"/>\n       <use x=\"63.623047\" xlink:href=\"#DejaVuSans-53\"/>\n      </g>\n     </g>\n    </g>\n    <g id=\"ytick_12\">\n     <g id=\"line2d_56\">\n      <path clip-path=\"url(#p4eef678c05)\" d=\"M 440.847978 266.938125 \nL 769.083272 266.938125 \n\" style=\"fill:none;stroke:#b0b0b0;stroke-linecap:square;stroke-width:0.8;\"/>\n     </g>\n     <g id=\"line2d_57\">\n      <g>\n       <use style=\"stroke:#000000;stroke-width:0.8;\" x=\"440.847978\" xlink:href=\"#m93fb537794\" y=\"266.938125\"/>\n      </g>\n     </g>\n     <g id=\"text_31\">\n      <!-- 50 -->\n      <g transform=\"translate(421.122978 270.737344)scale(0.1 -0.1)\">\n       <use xlink:href=\"#DejaVuSans-53\"/>\n       <use x=\"63.623047\" xlink:href=\"#DejaVuSans-48\"/>\n      </g>\n     </g>\n    </g>\n    <g id=\"ytick_13\">\n     <g id=\"line2d_58\">\n      <path clip-path=\"url(#p4eef678c05)\" d=\"M 440.847978 226.168125 \nL 769.083272 226.168125 \n\" style=\"fill:none;stroke:#b0b0b0;stroke-linecap:square;stroke-width:0.8;\"/>\n     </g>\n     <g id=\"line2d_59\">\n      <g>\n       <use style=\"stroke:#000000;stroke-width:0.8;\" x=\"440.847978\" xlink:href=\"#m93fb537794\" y=\"226.168125\"/>\n      </g>\n     </g>\n     <g id=\"text_32\">\n      <!-- 75 -->\n      <g transform=\"translate(421.122978 229.967344)scale(0.1 -0.1)\">\n       <use xlink:href=\"#DejaVuSans-55\"/>\n       <use x=\"63.623047\" xlink:href=\"#DejaVuSans-53\"/>\n      </g>\n     </g>\n    </g>\n    <g id=\"ytick_14\">\n     <g id=\"line2d_60\">\n      <path clip-path=\"url(#p4eef678c05)\" d=\"M 440.847978 185.398125 \nL 769.083272 185.398125 \n\" style=\"fill:none;stroke:#b0b0b0;stroke-linecap:square;stroke-width:0.8;\"/>\n     </g>\n     <g id=\"line2d_61\">\n      <g>\n       <use style=\"stroke:#000000;stroke-width:0.8;\" x=\"440.847978\" xlink:href=\"#m93fb537794\" y=\"185.398125\"/>\n      </g>\n     </g>\n     <g id=\"text_33\">\n      <!-- 100 -->\n      <g transform=\"translate(414.760478 189.197344)scale(0.1 -0.1)\">\n       <use xlink:href=\"#DejaVuSans-49\"/>\n       <use x=\"63.623047\" xlink:href=\"#DejaVuSans-48\"/>\n       <use x=\"127.246094\" xlink:href=\"#DejaVuSans-48\"/>\n      </g>\n     </g>\n    </g>\n    <g id=\"ytick_15\">\n     <g id=\"line2d_62\">\n      <path clip-path=\"url(#p4eef678c05)\" d=\"M 440.847978 144.628125 \nL 769.083272 144.628125 \n\" style=\"fill:none;stroke:#b0b0b0;stroke-linecap:square;stroke-width:0.8;\"/>\n     </g>\n     <g id=\"line2d_63\">\n      <g>\n       <use style=\"stroke:#000000;stroke-width:0.8;\" x=\"440.847978\" xlink:href=\"#m93fb537794\" y=\"144.628125\"/>\n      </g>\n     </g>\n     <g id=\"text_34\">\n      <!-- 125 -->\n      <g transform=\"translate(414.760478 148.427344)scale(0.1 -0.1)\">\n       <use xlink:href=\"#DejaVuSans-49\"/>\n       <use x=\"63.623047\" xlink:href=\"#DejaVuSans-50\"/>\n       <use x=\"127.246094\" xlink:href=\"#DejaVuSans-53\"/>\n      </g>\n     </g>\n    </g>\n    <g id=\"ytick_16\">\n     <g id=\"line2d_64\">\n      <path clip-path=\"url(#p4eef678c05)\" d=\"M 440.847978 103.858125 \nL 769.083272 103.858125 \n\" style=\"fill:none;stroke:#b0b0b0;stroke-linecap:square;stroke-width:0.8;\"/>\n     </g>\n     <g id=\"line2d_65\">\n      <g>\n       <use style=\"stroke:#000000;stroke-width:0.8;\" x=\"440.847978\" xlink:href=\"#m93fb537794\" y=\"103.858125\"/>\n      </g>\n     </g>\n     <g id=\"text_35\">\n      <!-- 150 -->\n      <g transform=\"translate(414.760478 107.657344)scale(0.1 -0.1)\">\n       <use xlink:href=\"#DejaVuSans-49\"/>\n       <use x=\"63.623047\" xlink:href=\"#DejaVuSans-53\"/>\n       <use x=\"127.246094\" xlink:href=\"#DejaVuSans-48\"/>\n      </g>\n     </g>\n    </g>\n    <g id=\"ytick_17\">\n     <g id=\"line2d_66\">\n      <path clip-path=\"url(#p4eef678c05)\" d=\"M 440.847978 63.088125 \nL 769.083272 63.088125 \n\" style=\"fill:none;stroke:#b0b0b0;stroke-linecap:square;stroke-width:0.8;\"/>\n     </g>\n     <g id=\"line2d_67\">\n      <g>\n       <use style=\"stroke:#000000;stroke-width:0.8;\" x=\"440.847978\" xlink:href=\"#m93fb537794\" y=\"63.088125\"/>\n      </g>\n     </g>\n     <g id=\"text_36\">\n      <!-- 175 -->\n      <g transform=\"translate(414.760478 66.887344)scale(0.1 -0.1)\">\n       <use xlink:href=\"#DejaVuSans-49\"/>\n       <use x=\"63.623047\" xlink:href=\"#DejaVuSans-55\"/>\n       <use x=\"127.246094\" xlink:href=\"#DejaVuSans-53\"/>\n      </g>\n     </g>\n    </g>\n    <g id=\"ytick_18\">\n     <g id=\"line2d_68\">\n      <path clip-path=\"url(#p4eef678c05)\" d=\"M 440.847978 22.318125 \nL 769.083272 22.318125 \n\" style=\"fill:none;stroke:#b0b0b0;stroke-linecap:square;stroke-width:0.8;\"/>\n     </g>\n     <g id=\"line2d_69\">\n      <g>\n       <use style=\"stroke:#000000;stroke-width:0.8;\" x=\"440.847978\" xlink:href=\"#m93fb537794\" y=\"22.318125\"/>\n      </g>\n     </g>\n     <g id=\"text_37\">\n      <!-- 200 -->\n      <g transform=\"translate(414.760478 26.117344)scale(0.1 -0.1)\">\n       <use xlink:href=\"#DejaVuSans-50\"/>\n       <use x=\"63.623047\" xlink:href=\"#DejaVuSans-48\"/>\n       <use x=\"127.246094\" xlink:href=\"#DejaVuSans-48\"/>\n      </g>\n     </g>\n    </g>\n    <g id=\"text_38\">\n     <!-- Loss -->\n     <g transform=\"translate(408.68079 196.365312)rotate(-90)scale(0.1 -0.1)\">\n      <use xlink:href=\"#DejaVuSans-76\"/>\n      <use x=\"53.962891\" xlink:href=\"#DejaVuSans-111\"/>\n      <use x=\"115.144531\" xlink:href=\"#DejaVuSans-115\"/>\n      <use x=\"167.244141\" xlink:href=\"#DejaVuSans-115\"/>\n     </g>\n    </g>\n   </g>\n   <g id=\"line2d_70\">\n    <path clip-path=\"url(#p4eef678c05)\" d=\"M 455.767764 280.764554 \nL 467.824157 188.993457 \nL 482.894648 190.525799 \nL 603.458576 43.373221 \nL 754.163486 190.597718 \n\" style=\"fill:none;stroke:#1f77b4;stroke-linecap:square;stroke-width:1.5;\"/>\n    <g clip-path=\"url(#p4eef678c05)\">\n     <use style=\"fill:#1f77b4;stroke:#1f77b4;\" x=\"455.767764\" xlink:href=\"#mf6f4988402\" y=\"280.764554\"/>\n     <use style=\"fill:#1f77b4;stroke:#1f77b4;\" x=\"467.824157\" xlink:href=\"#mf6f4988402\" y=\"188.993457\"/>\n     <use style=\"fill:#1f77b4;stroke:#1f77b4;\" x=\"482.894648\" xlink:href=\"#mf6f4988402\" y=\"190.525799\"/>\n     <use style=\"fill:#1f77b4;stroke:#1f77b4;\" x=\"603.458576\" xlink:href=\"#mf6f4988402\" y=\"43.373221\"/>\n     <use style=\"fill:#1f77b4;stroke:#1f77b4;\" x=\"754.163486\" xlink:href=\"#mf6f4988402\" y=\"190.597718\"/>\n    </g>\n   </g>\n   <g id=\"line2d_71\">\n    <path clip-path=\"url(#p4eef678c05)\" d=\"M 455.767764 130.147748 \nL 467.824157 288.975363 \nL 482.894648 280.427504 \nL 603.458576 268.19085 \nL 754.163486 264.687996 \n\" style=\"fill:none;stroke:#ff7f0e;stroke-linecap:square;stroke-width:1.5;\"/>\n    <g clip-path=\"url(#p4eef678c05)\">\n     <use style=\"fill:#ff7f0e;stroke:#ff7f0e;\" x=\"455.767764\" xlink:href=\"#m6615442c36\" y=\"130.147748\"/>\n     <use style=\"fill:#ff7f0e;stroke:#ff7f0e;\" x=\"467.824157\" xlink:href=\"#m6615442c36\" y=\"288.975363\"/>\n     <use style=\"fill:#ff7f0e;stroke:#ff7f0e;\" x=\"482.894648\" xlink:href=\"#m6615442c36\" y=\"280.427504\"/>\n     <use style=\"fill:#ff7f0e;stroke:#ff7f0e;\" x=\"603.458576\" xlink:href=\"#m6615442c36\" y=\"268.19085\"/>\n     <use style=\"fill:#ff7f0e;stroke:#ff7f0e;\" x=\"754.163486\" xlink:href=\"#m6615442c36\" y=\"264.687996\"/>\n    </g>\n   </g>\n   <g id=\"line2d_72\">\n    <path clip-path=\"url(#p4eef678c05)\" d=\"M 466.425553 -1 \nL 467.824157 290.260516 \nL 482.894648 289.634052 \nL 603.458576 285.656961 \nL 754.163486 283.916479 \n\" style=\"fill:none;stroke:#2ca02c;stroke-linecap:square;stroke-width:1.5;\"/>\n    <g clip-path=\"url(#p4eef678c05)\">\n     <use style=\"fill:#2ca02c;stroke:#2ca02c;\" x=\"466.425553\" xlink:href=\"#mdb81c68ee0\" y=\"-1\"/>\n     <use style=\"fill:#2ca02c;stroke:#2ca02c;\" x=\"467.824157\" xlink:href=\"#mdb81c68ee0\" y=\"290.260516\"/>\n     <use style=\"fill:#2ca02c;stroke:#2ca02c;\" x=\"482.894648\" xlink:href=\"#mdb81c68ee0\" y=\"289.634052\"/>\n     <use style=\"fill:#2ca02c;stroke:#2ca02c;\" x=\"603.458576\" xlink:href=\"#mdb81c68ee0\" y=\"285.656961\"/>\n     <use style=\"fill:#2ca02c;stroke:#2ca02c;\" x=\"754.163486\" xlink:href=\"#mdb81c68ee0\" y=\"283.916479\"/>\n    </g>\n   </g>\n   <g id=\"patch_9\">\n    <path d=\"M 440.847978 348.478125 \nL 440.847978 22.318125 \n\" style=\"fill:none;stroke:#000000;stroke-linecap:square;stroke-linejoin:miter;stroke-width:0.8;\"/>\n   </g>\n   <g id=\"patch_10\">\n    <path d=\"M 769.083272 348.478125 \nL 769.083272 22.318125 \n\" style=\"fill:none;stroke:#000000;stroke-linecap:square;stroke-linejoin:miter;stroke-width:0.8;\"/>\n   </g>\n   <g id=\"patch_11\">\n    <path d=\"M 440.847978 348.478125 \nL 769.083272 348.478125 \n\" style=\"fill:none;stroke:#000000;stroke-linecap:square;stroke-linejoin:miter;stroke-width:0.8;\"/>\n   </g>\n   <g id=\"patch_12\">\n    <path d=\"M 440.847978 22.318125 \nL 769.083272 22.318125 \n\" style=\"fill:none;stroke:#000000;stroke-linecap:square;stroke-linejoin:miter;stroke-width:0.8;\"/>\n   </g>\n   <g id=\"text_39\">\n    <!-- Test -->\n    <g transform=\"translate(593.15125 16.318125)scale(0.12 -0.12)\">\n     <use xlink:href=\"#DejaVuSans-84\"/>\n     <use x=\"44.083984\" xlink:href=\"#DejaVuSans-101\"/>\n     <use x=\"105.607422\" xlink:href=\"#DejaVuSans-115\"/>\n     <use x=\"157.707031\" xlink:href=\"#DejaVuSans-116\"/>\n    </g>\n   </g>\n   <g id=\"legend_2\">\n    <g id=\"patch_13\">\n     <path d=\"M 685.45671 74.3525 \nL 762.083272 74.3525 \nQ 764.083272 74.3525 764.083272 72.3525 \nL 764.083272 29.318125 \nQ 764.083272 27.318125 762.083272 27.318125 \nL 685.45671 27.318125 \nQ 683.45671 27.318125 683.45671 29.318125 \nL 683.45671 72.3525 \nQ 683.45671 74.3525 685.45671 74.3525 \nz\n\" style=\"fill:#ffffff;opacity:0.8;stroke:#cccccc;stroke-linejoin:miter;\"/>\n    </g>\n    <g id=\"line2d_73\">\n     <path d=\"M 687.45671 35.416562 \nL 707.45671 35.416562 \n\" style=\"fill:none;stroke:#1f77b4;stroke-linecap:square;stroke-width:1.5;\"/>\n    </g>\n    <g id=\"line2d_74\">\n     <g>\n      <use style=\"fill:#1f77b4;stroke:#1f77b4;\" x=\"697.45671\" xlink:href=\"#mf6f4988402\" y=\"35.416562\"/>\n     </g>\n    </g>\n    <g id=\"text_40\">\n     <!-- SGD -->\n     <g transform=\"translate(715.45671 38.916562)scale(0.1 -0.1)\">\n      <use xlink:href=\"#DejaVuSans-83\"/>\n      <use x=\"63.476562\" xlink:href=\"#DejaVuSans-71\"/>\n      <use x=\"140.966797\" xlink:href=\"#DejaVuSans-68\"/>\n     </g>\n    </g>\n    <g id=\"line2d_75\">\n     <path d=\"M 687.45671 50.094687 \nL 707.45671 50.094687 \n\" style=\"fill:none;stroke:#ff7f0e;stroke-linecap:square;stroke-width:1.5;\"/>\n    </g>\n    <g id=\"line2d_76\">\n     <g>\n      <use style=\"fill:#ff7f0e;stroke:#ff7f0e;\" x=\"697.45671\" xlink:href=\"#m6615442c36\" y=\"50.094687\"/>\n     </g>\n    </g>\n    <g id=\"text_41\">\n     <!-- RMSprop -->\n     <g transform=\"translate(715.45671 53.594687)scale(0.1 -0.1)\">\n      <use xlink:href=\"#DejaVuSans-82\"/>\n      <use x=\"69.482422\" xlink:href=\"#DejaVuSans-77\"/>\n      <use x=\"155.761719\" xlink:href=\"#DejaVuSans-83\"/>\n      <use x=\"219.238281\" xlink:href=\"#DejaVuSans-112\"/>\n      <use x=\"282.714844\" xlink:href=\"#DejaVuSans-114\"/>\n      <use x=\"321.578125\" xlink:href=\"#DejaVuSans-111\"/>\n      <use x=\"382.759766\" xlink:href=\"#DejaVuSans-112\"/>\n     </g>\n    </g>\n    <g id=\"line2d_77\">\n     <path d=\"M 687.45671 64.772812 \nL 707.45671 64.772812 \n\" style=\"fill:none;stroke:#2ca02c;stroke-linecap:square;stroke-width:1.5;\"/>\n    </g>\n    <g id=\"line2d_78\">\n     <g>\n      <use style=\"fill:#2ca02c;stroke:#2ca02c;\" x=\"697.45671\" xlink:href=\"#mdb81c68ee0\" y=\"64.772812\"/>\n     </g>\n    </g>\n    <g id=\"text_42\">\n     <!-- Adam -->\n     <g transform=\"translate(715.45671 68.272812)scale(0.1 -0.1)\">\n      <use xlink:href=\"#DejaVuSans-65\"/>\n      <use x=\"66.658203\" xlink:href=\"#DejaVuSans-100\"/>\n      <use x=\"130.134766\" xlink:href=\"#DejaVuSans-97\"/>\n      <use x=\"191.414062\" xlink:href=\"#DejaVuSans-109\"/>\n     </g>\n    </g>\n   </g>\n  </g>\n  <g id=\"axes_3\">\n   <g id=\"patch_14\">\n    <path d=\"M 834.730331 348.478125 \nL 1162.965625 348.478125 \nL 1162.965625 22.318125 \nL 834.730331 22.318125 \nz\n\" style=\"fill:#ffffff;\"/>\n   </g>\n   <g id=\"matplotlib.axis_5\">\n    <g id=\"xtick_13\">\n     <g id=\"line2d_79\">\n      <path clip-path=\"url(#pee3a120e0a)\" d=\"M 846.636019 348.478125 \nL 846.636019 22.318125 \n\" style=\"fill:none;stroke:#b0b0b0;stroke-linecap:square;stroke-width:0.8;\"/>\n     </g>\n     <g id=\"line2d_80\">\n      <g>\n       <use style=\"stroke:#000000;stroke-width:0.8;\" x=\"846.636019\" xlink:href=\"#m225ba2264c\" y=\"348.478125\"/>\n      </g>\n     </g>\n     <g id=\"text_43\">\n      <!-- 0.00 -->\n      <g transform=\"translate(835.503206 363.076562)scale(0.1 -0.1)\">\n       <use xlink:href=\"#DejaVuSans-48\"/>\n       <use x=\"63.623047\" xlink:href=\"#DejaVuSans-46\"/>\n       <use x=\"95.410156\" xlink:href=\"#DejaVuSans-48\"/>\n       <use x=\"159.033203\" xlink:href=\"#DejaVuSans-48\"/>\n      </g>\n     </g>\n    </g>\n    <g id=\"xtick_14\">\n     <g id=\"line2d_81\">\n      <path clip-path=\"url(#pee3a120e0a)\" d=\"M 906.917983 348.478125 \nL 906.917983 22.318125 \n\" style=\"fill:none;stroke:#b0b0b0;stroke-linecap:square;stroke-width:0.8;\"/>\n     </g>\n     <g id=\"line2d_82\">\n      <g>\n       <use style=\"stroke:#000000;stroke-width:0.8;\" x=\"906.917983\" xlink:href=\"#m225ba2264c\" y=\"348.478125\"/>\n      </g>\n     </g>\n     <g id=\"text_44\">\n      <!-- 0.02 -->\n      <g transform=\"translate(895.78517 363.076562)scale(0.1 -0.1)\">\n       <use xlink:href=\"#DejaVuSans-48\"/>\n       <use x=\"63.623047\" xlink:href=\"#DejaVuSans-46\"/>\n       <use x=\"95.410156\" xlink:href=\"#DejaVuSans-48\"/>\n       <use x=\"159.033203\" xlink:href=\"#DejaVuSans-50\"/>\n      </g>\n     </g>\n    </g>\n    <g id=\"xtick_15\">\n     <g id=\"line2d_83\">\n      <path clip-path=\"url(#pee3a120e0a)\" d=\"M 967.199947 348.478125 \nL 967.199947 22.318125 \n\" style=\"fill:none;stroke:#b0b0b0;stroke-linecap:square;stroke-width:0.8;\"/>\n     </g>\n     <g id=\"line2d_84\">\n      <g>\n       <use style=\"stroke:#000000;stroke-width:0.8;\" x=\"967.199947\" xlink:href=\"#m225ba2264c\" y=\"348.478125\"/>\n      </g>\n     </g>\n     <g id=\"text_45\">\n      <!-- 0.04 -->\n      <g transform=\"translate(956.067134 363.076562)scale(0.1 -0.1)\">\n       <use xlink:href=\"#DejaVuSans-48\"/>\n       <use x=\"63.623047\" xlink:href=\"#DejaVuSans-46\"/>\n       <use x=\"95.410156\" xlink:href=\"#DejaVuSans-48\"/>\n       <use x=\"159.033203\" xlink:href=\"#DejaVuSans-52\"/>\n      </g>\n     </g>\n    </g>\n    <g id=\"xtick_16\">\n     <g id=\"line2d_85\">\n      <path clip-path=\"url(#pee3a120e0a)\" d=\"M 1027.481911 348.478125 \nL 1027.481911 22.318125 \n\" style=\"fill:none;stroke:#b0b0b0;stroke-linecap:square;stroke-width:0.8;\"/>\n     </g>\n     <g id=\"line2d_86\">\n      <g>\n       <use style=\"stroke:#000000;stroke-width:0.8;\" x=\"1027.481911\" xlink:href=\"#m225ba2264c\" y=\"348.478125\"/>\n      </g>\n     </g>\n     <g id=\"text_46\">\n      <!-- 0.06 -->\n      <g transform=\"translate(1016.349098 363.076562)scale(0.1 -0.1)\">\n       <use xlink:href=\"#DejaVuSans-48\"/>\n       <use x=\"63.623047\" xlink:href=\"#DejaVuSans-46\"/>\n       <use x=\"95.410156\" xlink:href=\"#DejaVuSans-48\"/>\n       <use x=\"159.033203\" xlink:href=\"#DejaVuSans-54\"/>\n      </g>\n     </g>\n    </g>\n    <g id=\"xtick_17\">\n     <g id=\"line2d_87\">\n      <path clip-path=\"url(#pee3a120e0a)\" d=\"M 1087.763875 348.478125 \nL 1087.763875 22.318125 \n\" style=\"fill:none;stroke:#b0b0b0;stroke-linecap:square;stroke-width:0.8;\"/>\n     </g>\n     <g id=\"line2d_88\">\n      <g>\n       <use style=\"stroke:#000000;stroke-width:0.8;\" x=\"1087.763875\" xlink:href=\"#m225ba2264c\" y=\"348.478125\"/>\n      </g>\n     </g>\n     <g id=\"text_47\">\n      <!-- 0.08 -->\n      <g transform=\"translate(1076.631062 363.076562)scale(0.1 -0.1)\">\n       <use xlink:href=\"#DejaVuSans-48\"/>\n       <use x=\"63.623047\" xlink:href=\"#DejaVuSans-46\"/>\n       <use x=\"95.410156\" xlink:href=\"#DejaVuSans-48\"/>\n       <use x=\"159.033203\" xlink:href=\"#DejaVuSans-56\"/>\n      </g>\n     </g>\n    </g>\n    <g id=\"xtick_18\">\n     <g id=\"line2d_89\">\n      <path clip-path=\"url(#pee3a120e0a)\" d=\"M 1148.045839 348.478125 \nL 1148.045839 22.318125 \n\" style=\"fill:none;stroke:#b0b0b0;stroke-linecap:square;stroke-width:0.8;\"/>\n     </g>\n     <g id=\"line2d_90\">\n      <g>\n       <use style=\"stroke:#000000;stroke-width:0.8;\" x=\"1148.045839\" xlink:href=\"#m225ba2264c\" y=\"348.478125\"/>\n      </g>\n     </g>\n     <g id=\"text_48\">\n      <!-- 0.10 -->\n      <g transform=\"translate(1136.913026 363.076562)scale(0.1 -0.1)\">\n       <use xlink:href=\"#DejaVuSans-48\"/>\n       <use x=\"63.623047\" xlink:href=\"#DejaVuSans-46\"/>\n       <use x=\"95.410156\" xlink:href=\"#DejaVuSans-49\"/>\n       <use x=\"159.033203\" xlink:href=\"#DejaVuSans-48\"/>\n      </g>\n     </g>\n    </g>\n    <g id=\"text_49\">\n     <!-- Learning rate -->\n     <g transform=\"translate(965.394853 376.754687)scale(0.1 -0.1)\">\n      <use xlink:href=\"#DejaVuSans-76\"/>\n      <use x=\"53.962891\" xlink:href=\"#DejaVuSans-101\"/>\n      <use x=\"115.486328\" xlink:href=\"#DejaVuSans-97\"/>\n      <use x=\"176.765625\" xlink:href=\"#DejaVuSans-114\"/>\n      <use x=\"216.128906\" xlink:href=\"#DejaVuSans-110\"/>\n      <use x=\"279.507812\" xlink:href=\"#DejaVuSans-105\"/>\n      <use x=\"307.291016\" xlink:href=\"#DejaVuSans-110\"/>\n      <use x=\"370.669922\" xlink:href=\"#DejaVuSans-103\"/>\n      <use x=\"434.146484\" xlink:href=\"#DejaVuSans-32\"/>\n      <use x=\"465.933594\" xlink:href=\"#DejaVuSans-114\"/>\n      <use x=\"507.046875\" xlink:href=\"#DejaVuSans-97\"/>\n      <use x=\"568.326172\" xlink:href=\"#DejaVuSans-116\"/>\n      <use x=\"607.535156\" xlink:href=\"#DejaVuSans-101\"/>\n     </g>\n    </g>\n   </g>\n   <g id=\"matplotlib.axis_6\">\n    <g id=\"ytick_19\">\n     <g id=\"line2d_91\">\n      <path clip-path=\"url(#pee3a120e0a)\" d=\"M 834.730331 312.319683 \nL 1162.965625 312.319683 \n\" style=\"fill:none;stroke:#b0b0b0;stroke-linecap:square;stroke-width:0.8;\"/>\n     </g>\n     <g id=\"line2d_92\">\n      <g>\n       <use style=\"stroke:#000000;stroke-width:0.8;\" x=\"834.730331\" xlink:href=\"#m93fb537794\" y=\"312.319683\"/>\n      </g>\n     </g>\n     <g id=\"text_50\">\n      <!-- 0.004 -->\n      <g transform=\"translate(799.102206 316.118902)scale(0.1 -0.1)\">\n       <use xlink:href=\"#DejaVuSans-48\"/>\n       <use x=\"63.623047\" xlink:href=\"#DejaVuSans-46\"/>\n       <use x=\"95.410156\" xlink:href=\"#DejaVuSans-48\"/>\n       <use x=\"159.033203\" xlink:href=\"#DejaVuSans-48\"/>\n       <use x=\"222.65625\" xlink:href=\"#DejaVuSans-52\"/>\n      </g>\n     </g>\n    </g>\n    <g id=\"ytick_20\">\n     <g id=\"line2d_93\">\n      <path clip-path=\"url(#pee3a120e0a)\" d=\"M 834.730331 264.52253 \nL 1162.965625 264.52253 \n\" style=\"fill:none;stroke:#b0b0b0;stroke-linecap:square;stroke-width:0.8;\"/>\n     </g>\n     <g id=\"line2d_94\">\n      <g>\n       <use style=\"stroke:#000000;stroke-width:0.8;\" x=\"834.730331\" xlink:href=\"#m93fb537794\" y=\"264.52253\"/>\n      </g>\n     </g>\n     <g id=\"text_51\">\n      <!-- 0.005 -->\n      <g transform=\"translate(799.102206 268.321748)scale(0.1 -0.1)\">\n       <use xlink:href=\"#DejaVuSans-48\"/>\n       <use x=\"63.623047\" xlink:href=\"#DejaVuSans-46\"/>\n       <use x=\"95.410156\" xlink:href=\"#DejaVuSans-48\"/>\n       <use x=\"159.033203\" xlink:href=\"#DejaVuSans-48\"/>\n       <use x=\"222.65625\" xlink:href=\"#DejaVuSans-53\"/>\n      </g>\n     </g>\n    </g>\n    <g id=\"ytick_21\">\n     <g id=\"line2d_95\">\n      <path clip-path=\"url(#pee3a120e0a)\" d=\"M 834.730331 216.725376 \nL 1162.965625 216.725376 \n\" style=\"fill:none;stroke:#b0b0b0;stroke-linecap:square;stroke-width:0.8;\"/>\n     </g>\n     <g id=\"line2d_96\">\n      <g>\n       <use style=\"stroke:#000000;stroke-width:0.8;\" x=\"834.730331\" xlink:href=\"#m93fb537794\" y=\"216.725376\"/>\n      </g>\n     </g>\n     <g id=\"text_52\">\n      <!-- 0.006 -->\n      <g transform=\"translate(799.102206 220.524595)scale(0.1 -0.1)\">\n       <use xlink:href=\"#DejaVuSans-48\"/>\n       <use x=\"63.623047\" xlink:href=\"#DejaVuSans-46\"/>\n       <use x=\"95.410156\" xlink:href=\"#DejaVuSans-48\"/>\n       <use x=\"159.033203\" xlink:href=\"#DejaVuSans-48\"/>\n       <use x=\"222.65625\" xlink:href=\"#DejaVuSans-54\"/>\n      </g>\n     </g>\n    </g>\n    <g id=\"ytick_22\">\n     <g id=\"line2d_97\">\n      <path clip-path=\"url(#pee3a120e0a)\" d=\"M 834.730331 168.928223 \nL 1162.965625 168.928223 \n\" style=\"fill:none;stroke:#b0b0b0;stroke-linecap:square;stroke-width:0.8;\"/>\n     </g>\n     <g id=\"line2d_98\">\n      <g>\n       <use style=\"stroke:#000000;stroke-width:0.8;\" x=\"834.730331\" xlink:href=\"#m93fb537794\" y=\"168.928223\"/>\n      </g>\n     </g>\n     <g id=\"text_53\">\n      <!-- 0.007 -->\n      <g transform=\"translate(799.102206 172.727442)scale(0.1 -0.1)\">\n       <use xlink:href=\"#DejaVuSans-48\"/>\n       <use x=\"63.623047\" xlink:href=\"#DejaVuSans-46\"/>\n       <use x=\"95.410156\" xlink:href=\"#DejaVuSans-48\"/>\n       <use x=\"159.033203\" xlink:href=\"#DejaVuSans-48\"/>\n       <use x=\"222.65625\" xlink:href=\"#DejaVuSans-55\"/>\n      </g>\n     </g>\n    </g>\n    <g id=\"ytick_23\">\n     <g id=\"line2d_99\">\n      <path clip-path=\"url(#pee3a120e0a)\" d=\"M 834.730331 121.13107 \nL 1162.965625 121.13107 \n\" style=\"fill:none;stroke:#b0b0b0;stroke-linecap:square;stroke-width:0.8;\"/>\n     </g>\n     <g id=\"line2d_100\">\n      <g>\n       <use style=\"stroke:#000000;stroke-width:0.8;\" x=\"834.730331\" xlink:href=\"#m93fb537794\" y=\"121.13107\"/>\n      </g>\n     </g>\n     <g id=\"text_54\">\n      <!-- 0.008 -->\n      <g transform=\"translate(799.102206 124.930289)scale(0.1 -0.1)\">\n       <use xlink:href=\"#DejaVuSans-48\"/>\n       <use x=\"63.623047\" xlink:href=\"#DejaVuSans-46\"/>\n       <use x=\"95.410156\" xlink:href=\"#DejaVuSans-48\"/>\n       <use x=\"159.033203\" xlink:href=\"#DejaVuSans-48\"/>\n       <use x=\"222.65625\" xlink:href=\"#DejaVuSans-56\"/>\n      </g>\n     </g>\n    </g>\n    <g id=\"ytick_24\">\n     <g id=\"line2d_101\">\n      <path clip-path=\"url(#pee3a120e0a)\" d=\"M 834.730331 73.333917 \nL 1162.965625 73.333917 \n\" style=\"fill:none;stroke:#b0b0b0;stroke-linecap:square;stroke-width:0.8;\"/>\n     </g>\n     <g id=\"line2d_102\">\n      <g>\n       <use style=\"stroke:#000000;stroke-width:0.8;\" x=\"834.730331\" xlink:href=\"#m93fb537794\" y=\"73.333917\"/>\n      </g>\n     </g>\n     <g id=\"text_55\">\n      <!-- 0.009 -->\n      <defs>\n       <path d=\"M 10.984375 1.515625 \nL 10.984375 10.5 \nQ 14.703125 8.734375 18.5 7.8125 \nQ 22.3125 6.890625 25.984375 6.890625 \nQ 35.75 6.890625 40.890625 13.453125 \nQ 46.046875 20.015625 46.78125 33.40625 \nQ 43.953125 29.203125 39.59375 26.953125 \nQ 35.25 24.703125 29.984375 24.703125 \nQ 19.046875 24.703125 12.671875 31.3125 \nQ 6.296875 37.9375 6.296875 49.421875 \nQ 6.296875 60.640625 12.9375 67.421875 \nQ 19.578125 74.21875 30.609375 74.21875 \nQ 43.265625 74.21875 49.921875 64.515625 \nQ 56.59375 54.828125 56.59375 36.375 \nQ 56.59375 19.140625 48.40625 8.859375 \nQ 40.234375 -1.421875 26.421875 -1.421875 \nQ 22.703125 -1.421875 18.890625 -0.6875 \nQ 15.09375 0.046875 10.984375 1.515625 \nz\nM 30.609375 32.421875 \nQ 37.25 32.421875 41.125 36.953125 \nQ 45.015625 41.5 45.015625 49.421875 \nQ 45.015625 57.28125 41.125 61.84375 \nQ 37.25 66.40625 30.609375 66.40625 \nQ 23.96875 66.40625 20.09375 61.84375 \nQ 16.21875 57.28125 16.21875 49.421875 \nQ 16.21875 41.5 20.09375 36.953125 \nQ 23.96875 32.421875 30.609375 32.421875 \nz\n\" id=\"DejaVuSans-57\"/>\n      </defs>\n      <g transform=\"translate(799.102206 77.133135)scale(0.1 -0.1)\">\n       <use xlink:href=\"#DejaVuSans-48\"/>\n       <use x=\"63.623047\" xlink:href=\"#DejaVuSans-46\"/>\n       <use x=\"95.410156\" xlink:href=\"#DejaVuSans-48\"/>\n       <use x=\"159.033203\" xlink:href=\"#DejaVuSans-48\"/>\n       <use x=\"222.65625\" xlink:href=\"#DejaVuSans-57\"/>\n      </g>\n     </g>\n    </g>\n    <g id=\"ytick_25\">\n     <g id=\"line2d_103\">\n      <path clip-path=\"url(#pee3a120e0a)\" d=\"M 834.730331 25.536763 \nL 1162.965625 25.536763 \n\" style=\"fill:none;stroke:#b0b0b0;stroke-linecap:square;stroke-width:0.8;\"/>\n     </g>\n     <g id=\"line2d_104\">\n      <g>\n       <use style=\"stroke:#000000;stroke-width:0.8;\" x=\"834.730331\" xlink:href=\"#m93fb537794\" y=\"25.536763\"/>\n      </g>\n     </g>\n     <g id=\"text_56\">\n      <!-- 0.010 -->\n      <g transform=\"translate(799.102206 29.335982)scale(0.1 -0.1)\">\n       <use xlink:href=\"#DejaVuSans-48\"/>\n       <use x=\"63.623047\" xlink:href=\"#DejaVuSans-46\"/>\n       <use x=\"95.410156\" xlink:href=\"#DejaVuSans-48\"/>\n       <use x=\"159.033203\" xlink:href=\"#DejaVuSans-49\"/>\n       <use x=\"222.65625\" xlink:href=\"#DejaVuSans-48\"/>\n      </g>\n     </g>\n    </g>\n    <g id=\"text_57\">\n     <!-- Time (min) -->\n     <defs>\n      <path d=\"M 31 75.875 \nQ 24.46875 64.65625 21.28125 53.65625 \nQ 18.109375 42.671875 18.109375 31.390625 \nQ 18.109375 20.125 21.3125 9.0625 \nQ 24.515625 -2 31 -13.1875 \nL 23.1875 -13.1875 \nQ 15.875 -1.703125 12.234375 9.375 \nQ 8.59375 20.453125 8.59375 31.390625 \nQ 8.59375 42.28125 12.203125 53.3125 \nQ 15.828125 64.359375 23.1875 75.875 \nz\n\" id=\"DejaVuSans-40\"/>\n      <path d=\"M 8.015625 75.875 \nL 15.828125 75.875 \nQ 23.140625 64.359375 26.78125 53.3125 \nQ 30.421875 42.28125 30.421875 31.390625 \nQ 30.421875 20.453125 26.78125 9.375 \nQ 23.140625 -1.703125 15.828125 -13.1875 \nL 8.015625 -13.1875 \nQ 14.5 -2 17.703125 9.0625 \nQ 20.90625 20.125 20.90625 31.390625 \nQ 20.90625 42.671875 17.703125 53.65625 \nQ 14.5 64.65625 8.015625 75.875 \nz\n\" id=\"DejaVuSans-41\"/>\n     </defs>\n     <g transform=\"translate(793.022518 212.550469)rotate(-90)scale(0.1 -0.1)\">\n      <use xlink:href=\"#DejaVuSans-84\"/>\n      <use x=\"57.958984\" xlink:href=\"#DejaVuSans-105\"/>\n      <use x=\"85.742188\" xlink:href=\"#DejaVuSans-109\"/>\n      <use x=\"183.154297\" xlink:href=\"#DejaVuSans-101\"/>\n      <use x=\"244.677734\" xlink:href=\"#DejaVuSans-32\"/>\n      <use x=\"276.464844\" xlink:href=\"#DejaVuSans-40\"/>\n      <use x=\"315.478516\" xlink:href=\"#DejaVuSans-109\"/>\n      <use x=\"412.890625\" xlink:href=\"#DejaVuSans-105\"/>\n      <use x=\"440.673828\" xlink:href=\"#DejaVuSans-110\"/>\n      <use x=\"504.052734\" xlink:href=\"#DejaVuSans-41\"/>\n     </g>\n    </g>\n   </g>\n   <g id=\"line2d_105\">\n    <path clip-path=\"url(#pee3a120e0a)\" d=\"M 849.650117 314.14812 \nL 861.70651 333.65267 \nL 876.777001 329.635866 \nL 997.340929 271.326008 \nL 1148.045839 275.421253 \n\" style=\"fill:none;stroke:#1f77b4;stroke-linecap:square;stroke-width:1.5;\"/>\n    <g clip-path=\"url(#pee3a120e0a)\">\n     <use style=\"fill:#1f77b4;stroke:#1f77b4;\" x=\"849.650117\" xlink:href=\"#mf6f4988402\" y=\"314.14812\"/>\n     <use style=\"fill:#1f77b4;stroke:#1f77b4;\" x=\"861.70651\" xlink:href=\"#mf6f4988402\" y=\"333.65267\"/>\n     <use style=\"fill:#1f77b4;stroke:#1f77b4;\" x=\"876.777001\" xlink:href=\"#mf6f4988402\" y=\"329.635866\"/>\n     <use style=\"fill:#1f77b4;stroke:#1f77b4;\" x=\"997.340929\" xlink:href=\"#mf6f4988402\" y=\"271.326008\"/>\n     <use style=\"fill:#1f77b4;stroke:#1f77b4;\" x=\"1148.045839\" xlink:href=\"#mf6f4988402\" y=\"275.421253\"/>\n    </g>\n   </g>\n   <g id=\"line2d_106\">\n    <path clip-path=\"url(#pee3a120e0a)\" d=\"M 849.650117 281.040107 \nL 861.70651 316.06925 \nL 876.777001 305.392971 \nL 997.340929 293.595922 \nL 1148.045839 297.168673 \n\" style=\"fill:none;stroke:#ff7f0e;stroke-linecap:square;stroke-width:1.5;\"/>\n    <g clip-path=\"url(#pee3a120e0a)\">\n     <use style=\"fill:#ff7f0e;stroke:#ff7f0e;\" x=\"849.650117\" xlink:href=\"#m6615442c36\" y=\"281.040107\"/>\n     <use style=\"fill:#ff7f0e;stroke:#ff7f0e;\" x=\"861.70651\" xlink:href=\"#m6615442c36\" y=\"316.06925\"/>\n     <use style=\"fill:#ff7f0e;stroke:#ff7f0e;\" x=\"876.777001\" xlink:href=\"#m6615442c36\" y=\"305.392971\"/>\n     <use style=\"fill:#ff7f0e;stroke:#ff7f0e;\" x=\"997.340929\" xlink:href=\"#m6615442c36\" y=\"293.595922\"/>\n     <use style=\"fill:#ff7f0e;stroke:#ff7f0e;\" x=\"1148.045839\" xlink:href=\"#m6615442c36\" y=\"297.168673\"/>\n    </g>\n   </g>\n   <g id=\"line2d_107\">\n    <path clip-path=\"url(#pee3a120e0a)\" d=\"M 849.650117 114.559707 \nL 861.70651 117.573498 \nL 876.777001 37.14358 \nL 997.340929 170.424801 \nL 1148.045839 143.907129 \n\" style=\"fill:none;stroke:#2ca02c;stroke-linecap:square;stroke-width:1.5;\"/>\n    <g clip-path=\"url(#pee3a120e0a)\">\n     <use style=\"fill:#2ca02c;stroke:#2ca02c;\" x=\"849.650117\" xlink:href=\"#mdb81c68ee0\" y=\"114.559707\"/>\n     <use style=\"fill:#2ca02c;stroke:#2ca02c;\" x=\"861.70651\" xlink:href=\"#mdb81c68ee0\" y=\"117.573498\"/>\n     <use style=\"fill:#2ca02c;stroke:#2ca02c;\" x=\"876.777001\" xlink:href=\"#mdb81c68ee0\" y=\"37.14358\"/>\n     <use style=\"fill:#2ca02c;stroke:#2ca02c;\" x=\"997.340929\" xlink:href=\"#mdb81c68ee0\" y=\"170.424801\"/>\n     <use style=\"fill:#2ca02c;stroke:#2ca02c;\" x=\"1148.045839\" xlink:href=\"#mdb81c68ee0\" y=\"143.907129\"/>\n    </g>\n   </g>\n   <g id=\"patch_15\">\n    <path d=\"M 834.730331 348.478125 \nL 834.730331 22.318125 \n\" style=\"fill:none;stroke:#000000;stroke-linecap:square;stroke-linejoin:miter;stroke-width:0.8;\"/>\n   </g>\n   <g id=\"patch_16\">\n    <path d=\"M 1162.965625 348.478125 \nL 1162.965625 22.318125 \n\" style=\"fill:none;stroke:#000000;stroke-linecap:square;stroke-linejoin:miter;stroke-width:0.8;\"/>\n   </g>\n   <g id=\"patch_17\">\n    <path d=\"M 834.730331 348.478125 \nL 1162.965625 348.478125 \n\" style=\"fill:none;stroke:#000000;stroke-linecap:square;stroke-linejoin:miter;stroke-width:0.8;\"/>\n   </g>\n   <g id=\"patch_18\">\n    <path d=\"M 834.730331 22.318125 \nL 1162.965625 22.318125 \n\" style=\"fill:none;stroke:#000000;stroke-linecap:square;stroke-linejoin:miter;stroke-width:0.8;\"/>\n   </g>\n   <g id=\"text_58\">\n    <!-- Execution time -->\n    <defs>\n     <path d=\"M 9.8125 72.90625 \nL 55.90625 72.90625 \nL 55.90625 64.59375 \nL 19.671875 64.59375 \nL 19.671875 43.015625 \nL 54.390625 43.015625 \nL 54.390625 34.71875 \nL 19.671875 34.71875 \nL 19.671875 8.296875 \nL 56.78125 8.296875 \nL 56.78125 0 \nL 9.8125 0 \nz\n\" id=\"DejaVuSans-69\"/>\n     <path d=\"M 54.890625 54.6875 \nL 35.109375 28.078125 \nL 55.90625 0 \nL 45.3125 0 \nL 29.390625 21.484375 \nL 13.484375 0 \nL 2.875 0 \nL 24.125 28.609375 \nL 4.6875 54.6875 \nL 15.28125 54.6875 \nL 29.78125 35.203125 \nL 44.28125 54.6875 \nz\n\" id=\"DejaVuSans-120\"/>\n     <path d=\"M 48.78125 52.59375 \nL 48.78125 44.1875 \nQ 44.96875 46.296875 41.140625 47.34375 \nQ 37.3125 48.390625 33.40625 48.390625 \nQ 24.65625 48.390625 19.8125 42.84375 \nQ 14.984375 37.3125 14.984375 27.296875 \nQ 14.984375 17.28125 19.8125 11.734375 \nQ 24.65625 6.203125 33.40625 6.203125 \nQ 37.3125 6.203125 41.140625 7.25 \nQ 44.96875 8.296875 48.78125 10.40625 \nL 48.78125 2.09375 \nQ 45.015625 0.34375 40.984375 -0.53125 \nQ 36.96875 -1.421875 32.421875 -1.421875 \nQ 20.0625 -1.421875 12.78125 6.34375 \nQ 5.515625 14.109375 5.515625 27.296875 \nQ 5.515625 40.671875 12.859375 48.328125 \nQ 20.21875 56 33.015625 56 \nQ 37.15625 56 41.109375 55.140625 \nQ 45.0625 54.296875 48.78125 52.59375 \nz\n\" id=\"DejaVuSans-99\"/>\n     <path d=\"M 8.5 21.578125 \nL 8.5 54.6875 \nL 17.484375 54.6875 \nL 17.484375 21.921875 \nQ 17.484375 14.15625 20.5 10.265625 \nQ 23.53125 6.390625 29.59375 6.390625 \nQ 36.859375 6.390625 41.078125 11.03125 \nQ 45.3125 15.671875 45.3125 23.6875 \nL 45.3125 54.6875 \nL 54.296875 54.6875 \nL 54.296875 0 \nL 45.3125 0 \nL 45.3125 8.40625 \nQ 42.046875 3.421875 37.71875 1 \nQ 33.40625 -1.421875 27.6875 -1.421875 \nQ 18.265625 -1.421875 13.375 4.4375 \nQ 8.5 10.296875 8.5 21.578125 \nz\nM 31.109375 56 \nz\n\" id=\"DejaVuSans-117\"/>\n    </defs>\n    <g transform=\"translate(953.94454 16.318125)scale(0.12 -0.12)\">\n     <use xlink:href=\"#DejaVuSans-69\"/>\n     <use x=\"63.183594\" xlink:href=\"#DejaVuSans-120\"/>\n     <use x=\"119.238281\" xlink:href=\"#DejaVuSans-101\"/>\n     <use x=\"180.761719\" xlink:href=\"#DejaVuSans-99\"/>\n     <use x=\"235.742188\" xlink:href=\"#DejaVuSans-117\"/>\n     <use x=\"299.121094\" xlink:href=\"#DejaVuSans-116\"/>\n     <use x=\"338.330078\" xlink:href=\"#DejaVuSans-105\"/>\n     <use x=\"366.113281\" xlink:href=\"#DejaVuSans-111\"/>\n     <use x=\"427.294922\" xlink:href=\"#DejaVuSans-110\"/>\n     <use x=\"490.673828\" xlink:href=\"#DejaVuSans-32\"/>\n     <use x=\"522.460938\" xlink:href=\"#DejaVuSans-116\"/>\n     <use x=\"561.669922\" xlink:href=\"#DejaVuSans-105\"/>\n     <use x=\"589.453125\" xlink:href=\"#DejaVuSans-109\"/>\n     <use x=\"686.865234\" xlink:href=\"#DejaVuSans-101\"/>\n    </g>\n   </g>\n   <g id=\"legend_3\">\n    <g id=\"patch_19\">\n     <path d=\"M 1079.339063 74.3525 \nL 1155.965625 74.3525 \nQ 1157.965625 74.3525 1157.965625 72.3525 \nL 1157.965625 29.318125 \nQ 1157.965625 27.318125 1155.965625 27.318125 \nL 1079.339063 27.318125 \nQ 1077.339063 27.318125 1077.339063 29.318125 \nL 1077.339063 72.3525 \nQ 1077.339063 74.3525 1079.339063 74.3525 \nz\n\" style=\"fill:#ffffff;opacity:0.8;stroke:#cccccc;stroke-linejoin:miter;\"/>\n    </g>\n    <g id=\"line2d_108\">\n     <path d=\"M 1081.339063 35.416562 \nL 1101.339063 35.416562 \n\" style=\"fill:none;stroke:#1f77b4;stroke-linecap:square;stroke-width:1.5;\"/>\n    </g>\n    <g id=\"line2d_109\">\n     <g>\n      <use style=\"fill:#1f77b4;stroke:#1f77b4;\" x=\"1091.339063\" xlink:href=\"#mf6f4988402\" y=\"35.416562\"/>\n     </g>\n    </g>\n    <g id=\"text_59\">\n     <!-- SGD -->\n     <g transform=\"translate(1109.339063 38.916562)scale(0.1 -0.1)\">\n      <use xlink:href=\"#DejaVuSans-83\"/>\n      <use x=\"63.476562\" xlink:href=\"#DejaVuSans-71\"/>\n      <use x=\"140.966797\" xlink:href=\"#DejaVuSans-68\"/>\n     </g>\n    </g>\n    <g id=\"line2d_110\">\n     <path d=\"M 1081.339063 50.094687 \nL 1101.339063 50.094687 \n\" style=\"fill:none;stroke:#ff7f0e;stroke-linecap:square;stroke-width:1.5;\"/>\n    </g>\n    <g id=\"line2d_111\">\n     <g>\n      <use style=\"fill:#ff7f0e;stroke:#ff7f0e;\" x=\"1091.339063\" xlink:href=\"#m6615442c36\" y=\"50.094687\"/>\n     </g>\n    </g>\n    <g id=\"text_60\">\n     <!-- RMSprop -->\n     <g transform=\"translate(1109.339063 53.594687)scale(0.1 -0.1)\">\n      <use xlink:href=\"#DejaVuSans-82\"/>\n      <use x=\"69.482422\" xlink:href=\"#DejaVuSans-77\"/>\n      <use x=\"155.761719\" xlink:href=\"#DejaVuSans-83\"/>\n      <use x=\"219.238281\" xlink:href=\"#DejaVuSans-112\"/>\n      <use x=\"282.714844\" xlink:href=\"#DejaVuSans-114\"/>\n      <use x=\"321.578125\" xlink:href=\"#DejaVuSans-111\"/>\n      <use x=\"382.759766\" xlink:href=\"#DejaVuSans-112\"/>\n     </g>\n    </g>\n    <g id=\"line2d_112\">\n     <path d=\"M 1081.339063 64.772812 \nL 1101.339063 64.772812 \n\" style=\"fill:none;stroke:#2ca02c;stroke-linecap:square;stroke-width:1.5;\"/>\n    </g>\n    <g id=\"line2d_113\">\n     <g>\n      <use style=\"fill:#2ca02c;stroke:#2ca02c;\" x=\"1091.339063\" xlink:href=\"#mdb81c68ee0\" y=\"64.772812\"/>\n     </g>\n    </g>\n    <g id=\"text_61\">\n     <!-- Adam -->\n     <g transform=\"translate(1109.339063 68.272812)scale(0.1 -0.1)\">\n      <use xlink:href=\"#DejaVuSans-65\"/>\n      <use x=\"66.658203\" xlink:href=\"#DejaVuSans-100\"/>\n      <use x=\"130.134766\" xlink:href=\"#DejaVuSans-97\"/>\n      <use x=\"191.414062\" xlink:href=\"#DejaVuSans-109\"/>\n     </g>\n    </g>\n   </g>\n  </g>\n </g>\n <defs>\n  <clipPath id=\"p4011fca776\">\n   <rect height=\"326.16\" width=\"328.235294\" x=\"46.965625\" y=\"22.318125\"/>\n  </clipPath>\n  <clipPath id=\"p4eef678c05\">\n   <rect height=\"326.16\" width=\"328.235294\" x=\"440.847978\" y=\"22.318125\"/>\n  </clipPath>\n  <clipPath id=\"pee3a120e0a\">\n   <rect height=\"326.16\" width=\"328.235294\" x=\"834.730331\" y=\"22.318125\"/>\n  </clipPath>\n </defs>\n</svg>\n"
          },
          "metadata": {
            "needs_background": "light"
          }
        }
      ]
    },
    {
      "cell_type": "markdown",
      "source": [
        "A continuación se muestra las pérdidas de los conjuntos de entrenamiento y prueba en función de las épocas, la primera gráfica es sin ajustar la escala de los ejes para ver el comportamiento general, y en la segunda se realiza una modificación en la escala para observar el detalle después de las 20 épocas.\n",
        "\n",
        "Se observa que después de la época 45 se ven ambas pérdidas estables, además de que la separación existente entre ambas no divergen, se mantiene relativamente constante, por lo que no parece existir overfitting."
      ],
      "metadata": {
        "id": "KZwrDnwjX4WM"
      }
    },
    {
      "cell_type": "code",
      "source": [
        "plot_loss_2param_filter(losses_by_optim,'opt','Adam','lr',0.005)\n",
        "plot_loss_2param_filter(losses_by_optim,'opt','Adam','lr',0.005,\n",
        "                        ylim=[0,100],xlim=[5,50],verbose=False)"
      ],
      "metadata": {
        "colab": {
          "base_uri": "https://localhost:8080/",
          "height": 0
        },
        "id": "3CSjLqHGPHJh",
        "outputId": "ae0c0a34-5b32-40f4-e46c-f5a237bcad3b"
      },
      "execution_count": 17,
      "outputs": [
        {
          "output_type": "stream",
          "name": "stdout",
          "text": [
            "Pérdida del conjunto de entrenamiento:  14.84\n",
            "Pérdida del conjunto de prueba:  35.64\n"
          ]
        },
        {
          "output_type": "display_data",
          "data": {
            "text/plain": [
              "<Figure size 432x288 with 1 Axes>"
            ],
            "image/svg+xml": "<?xml version=\"1.0\" encoding=\"utf-8\" standalone=\"no\"?>\n<!DOCTYPE svg PUBLIC \"-//W3C//DTD SVG 1.1//EN\"\n  \"http://www.w3.org/Graphics/SVG/1.1/DTD/svg11.dtd\">\n<!-- Created with matplotlib (https://matplotlib.org/) -->\n<svg height=\"277.314375pt\" version=\"1.1\" viewBox=\"0 0 395.328125 277.314375\" width=\"395.328125pt\" xmlns=\"http://www.w3.org/2000/svg\" xmlns:xlink=\"http://www.w3.org/1999/xlink\">\n <defs>\n  <style type=\"text/css\">\n*{stroke-linecap:butt;stroke-linejoin:round;}\n  </style>\n </defs>\n <g id=\"figure_1\">\n  <g id=\"patch_1\">\n   <path d=\"M 0 277.314375 \nL 395.328125 277.314375 \nL 395.328125 0 \nL 0 0 \nz\n\" style=\"fill:none;\"/>\n  </g>\n  <g id=\"axes_1\">\n   <g id=\"patch_2\">\n    <path d=\"M 53.328125 239.758125 \nL 388.128125 239.758125 \nL 388.128125 22.318125 \nL 53.328125 22.318125 \nz\n\" style=\"fill:#ffffff;\"/>\n   </g>\n   <g id=\"matplotlib.axis_1\">\n    <g id=\"xtick_1\">\n     <g id=\"line2d_1\">\n      <path clip-path=\"url(#p0ca8293f8e)\" d=\"M 68.546307 239.758125 \nL 68.546307 22.318125 \n\" style=\"fill:none;stroke:#b0b0b0;stroke-linecap:square;stroke-width:0.8;\"/>\n     </g>\n     <g id=\"line2d_2\">\n      <defs>\n       <path d=\"M 0 0 \nL 0 3.5 \n\" id=\"m05a0744a07\" style=\"stroke:#000000;stroke-width:0.8;\"/>\n      </defs>\n      <g>\n       <use style=\"stroke:#000000;stroke-width:0.8;\" x=\"68.546307\" xlink:href=\"#m05a0744a07\" y=\"239.758125\"/>\n      </g>\n     </g>\n     <g id=\"text_1\">\n      <!-- 0 -->\n      <defs>\n       <path d=\"M 31.78125 66.40625 \nQ 24.171875 66.40625 20.328125 58.90625 \nQ 16.5 51.421875 16.5 36.375 \nQ 16.5 21.390625 20.328125 13.890625 \nQ 24.171875 6.390625 31.78125 6.390625 \nQ 39.453125 6.390625 43.28125 13.890625 \nQ 47.125 21.390625 47.125 36.375 \nQ 47.125 51.421875 43.28125 58.90625 \nQ 39.453125 66.40625 31.78125 66.40625 \nz\nM 31.78125 74.21875 \nQ 44.046875 74.21875 50.515625 64.515625 \nQ 56.984375 54.828125 56.984375 36.375 \nQ 56.984375 17.96875 50.515625 8.265625 \nQ 44.046875 -1.421875 31.78125 -1.421875 \nQ 19.53125 -1.421875 13.0625 8.265625 \nQ 6.59375 17.96875 6.59375 36.375 \nQ 6.59375 54.828125 13.0625 64.515625 \nQ 19.53125 74.21875 31.78125 74.21875 \nz\n\" id=\"DejaVuSans-48\"/>\n      </defs>\n      <g transform=\"translate(65.365057 254.356562)scale(0.1 -0.1)\">\n       <use xlink:href=\"#DejaVuSans-48\"/>\n      </g>\n     </g>\n    </g>\n    <g id=\"xtick_2\">\n     <g id=\"line2d_3\">\n      <path clip-path=\"url(#p0ca8293f8e)\" d=\"M 130.661335 239.758125 \nL 130.661335 22.318125 \n\" style=\"fill:none;stroke:#b0b0b0;stroke-linecap:square;stroke-width:0.8;\"/>\n     </g>\n     <g id=\"line2d_4\">\n      <g>\n       <use style=\"stroke:#000000;stroke-width:0.8;\" x=\"130.661335\" xlink:href=\"#m05a0744a07\" y=\"239.758125\"/>\n      </g>\n     </g>\n     <g id=\"text_2\">\n      <!-- 10 -->\n      <defs>\n       <path d=\"M 12.40625 8.296875 \nL 28.515625 8.296875 \nL 28.515625 63.921875 \nL 10.984375 60.40625 \nL 10.984375 69.390625 \nL 28.421875 72.90625 \nL 38.28125 72.90625 \nL 38.28125 8.296875 \nL 54.390625 8.296875 \nL 54.390625 0 \nL 12.40625 0 \nz\n\" id=\"DejaVuSans-49\"/>\n      </defs>\n      <g transform=\"translate(124.298835 254.356562)scale(0.1 -0.1)\">\n       <use xlink:href=\"#DejaVuSans-49\"/>\n       <use x=\"63.623047\" xlink:href=\"#DejaVuSans-48\"/>\n      </g>\n     </g>\n    </g>\n    <g id=\"xtick_3\">\n     <g id=\"line2d_5\">\n      <path clip-path=\"url(#p0ca8293f8e)\" d=\"M 192.776362 239.758125 \nL 192.776362 22.318125 \n\" style=\"fill:none;stroke:#b0b0b0;stroke-linecap:square;stroke-width:0.8;\"/>\n     </g>\n     <g id=\"line2d_6\">\n      <g>\n       <use style=\"stroke:#000000;stroke-width:0.8;\" x=\"192.776362\" xlink:href=\"#m05a0744a07\" y=\"239.758125\"/>\n      </g>\n     </g>\n     <g id=\"text_3\">\n      <!-- 20 -->\n      <defs>\n       <path d=\"M 19.1875 8.296875 \nL 53.609375 8.296875 \nL 53.609375 0 \nL 7.328125 0 \nL 7.328125 8.296875 \nQ 12.9375 14.109375 22.625 23.890625 \nQ 32.328125 33.6875 34.8125 36.53125 \nQ 39.546875 41.84375 41.421875 45.53125 \nQ 43.3125 49.21875 43.3125 52.78125 \nQ 43.3125 58.59375 39.234375 62.25 \nQ 35.15625 65.921875 28.609375 65.921875 \nQ 23.96875 65.921875 18.8125 64.3125 \nQ 13.671875 62.703125 7.8125 59.421875 \nL 7.8125 69.390625 \nQ 13.765625 71.78125 18.9375 73 \nQ 24.125 74.21875 28.421875 74.21875 \nQ 39.75 74.21875 46.484375 68.546875 \nQ 53.21875 62.890625 53.21875 53.421875 \nQ 53.21875 48.921875 51.53125 44.890625 \nQ 49.859375 40.875 45.40625 35.40625 \nQ 44.1875 33.984375 37.640625 27.21875 \nQ 31.109375 20.453125 19.1875 8.296875 \nz\n\" id=\"DejaVuSans-50\"/>\n      </defs>\n      <g transform=\"translate(186.413862 254.356562)scale(0.1 -0.1)\">\n       <use xlink:href=\"#DejaVuSans-50\"/>\n       <use x=\"63.623047\" xlink:href=\"#DejaVuSans-48\"/>\n      </g>\n     </g>\n    </g>\n    <g id=\"xtick_4\">\n     <g id=\"line2d_7\">\n      <path clip-path=\"url(#p0ca8293f8e)\" d=\"M 254.89139 239.758125 \nL 254.89139 22.318125 \n\" style=\"fill:none;stroke:#b0b0b0;stroke-linecap:square;stroke-width:0.8;\"/>\n     </g>\n     <g id=\"line2d_8\">\n      <g>\n       <use style=\"stroke:#000000;stroke-width:0.8;\" x=\"254.89139\" xlink:href=\"#m05a0744a07\" y=\"239.758125\"/>\n      </g>\n     </g>\n     <g id=\"text_4\">\n      <!-- 30 -->\n      <defs>\n       <path d=\"M 40.578125 39.3125 \nQ 47.65625 37.796875 51.625 33 \nQ 55.609375 28.21875 55.609375 21.1875 \nQ 55.609375 10.40625 48.1875 4.484375 \nQ 40.765625 -1.421875 27.09375 -1.421875 \nQ 22.515625 -1.421875 17.65625 -0.515625 \nQ 12.796875 0.390625 7.625 2.203125 \nL 7.625 11.71875 \nQ 11.71875 9.328125 16.59375 8.109375 \nQ 21.484375 6.890625 26.8125 6.890625 \nQ 36.078125 6.890625 40.9375 10.546875 \nQ 45.796875 14.203125 45.796875 21.1875 \nQ 45.796875 27.640625 41.28125 31.265625 \nQ 36.765625 34.90625 28.71875 34.90625 \nL 20.21875 34.90625 \nL 20.21875 43.015625 \nL 29.109375 43.015625 \nQ 36.375 43.015625 40.234375 45.921875 \nQ 44.09375 48.828125 44.09375 54.296875 \nQ 44.09375 59.90625 40.109375 62.90625 \nQ 36.140625 65.921875 28.71875 65.921875 \nQ 24.65625 65.921875 20.015625 65.03125 \nQ 15.375 64.15625 9.8125 62.3125 \nL 9.8125 71.09375 \nQ 15.4375 72.65625 20.34375 73.4375 \nQ 25.25 74.21875 29.59375 74.21875 \nQ 40.828125 74.21875 47.359375 69.109375 \nQ 53.90625 64.015625 53.90625 55.328125 \nQ 53.90625 49.265625 50.4375 45.09375 \nQ 46.96875 40.921875 40.578125 39.3125 \nz\n\" id=\"DejaVuSans-51\"/>\n      </defs>\n      <g transform=\"translate(248.52889 254.356562)scale(0.1 -0.1)\">\n       <use xlink:href=\"#DejaVuSans-51\"/>\n       <use x=\"63.623047\" xlink:href=\"#DejaVuSans-48\"/>\n      </g>\n     </g>\n    </g>\n    <g id=\"xtick_5\">\n     <g id=\"line2d_9\">\n      <path clip-path=\"url(#p0ca8293f8e)\" d=\"M 317.006418 239.758125 \nL 317.006418 22.318125 \n\" style=\"fill:none;stroke:#b0b0b0;stroke-linecap:square;stroke-width:0.8;\"/>\n     </g>\n     <g id=\"line2d_10\">\n      <g>\n       <use style=\"stroke:#000000;stroke-width:0.8;\" x=\"317.006418\" xlink:href=\"#m05a0744a07\" y=\"239.758125\"/>\n      </g>\n     </g>\n     <g id=\"text_5\">\n      <!-- 40 -->\n      <defs>\n       <path d=\"M 37.796875 64.3125 \nL 12.890625 25.390625 \nL 37.796875 25.390625 \nz\nM 35.203125 72.90625 \nL 47.609375 72.90625 \nL 47.609375 25.390625 \nL 58.015625 25.390625 \nL 58.015625 17.1875 \nL 47.609375 17.1875 \nL 47.609375 0 \nL 37.796875 0 \nL 37.796875 17.1875 \nL 4.890625 17.1875 \nL 4.890625 26.703125 \nz\n\" id=\"DejaVuSans-52\"/>\n      </defs>\n      <g transform=\"translate(310.643918 254.356562)scale(0.1 -0.1)\">\n       <use xlink:href=\"#DejaVuSans-52\"/>\n       <use x=\"63.623047\" xlink:href=\"#DejaVuSans-48\"/>\n      </g>\n     </g>\n    </g>\n    <g id=\"xtick_6\">\n     <g id=\"line2d_11\">\n      <path clip-path=\"url(#p0ca8293f8e)\" d=\"M 379.121446 239.758125 \nL 379.121446 22.318125 \n\" style=\"fill:none;stroke:#b0b0b0;stroke-linecap:square;stroke-width:0.8;\"/>\n     </g>\n     <g id=\"line2d_12\">\n      <g>\n       <use style=\"stroke:#000000;stroke-width:0.8;\" x=\"379.121446\" xlink:href=\"#m05a0744a07\" y=\"239.758125\"/>\n      </g>\n     </g>\n     <g id=\"text_6\">\n      <!-- 50 -->\n      <defs>\n       <path d=\"M 10.796875 72.90625 \nL 49.515625 72.90625 \nL 49.515625 64.59375 \nL 19.828125 64.59375 \nL 19.828125 46.734375 \nQ 21.96875 47.46875 24.109375 47.828125 \nQ 26.265625 48.1875 28.421875 48.1875 \nQ 40.625 48.1875 47.75 41.5 \nQ 54.890625 34.8125 54.890625 23.390625 \nQ 54.890625 11.625 47.5625 5.09375 \nQ 40.234375 -1.421875 26.90625 -1.421875 \nQ 22.3125 -1.421875 17.546875 -0.640625 \nQ 12.796875 0.140625 7.71875 1.703125 \nL 7.71875 11.625 \nQ 12.109375 9.234375 16.796875 8.0625 \nQ 21.484375 6.890625 26.703125 6.890625 \nQ 35.15625 6.890625 40.078125 11.328125 \nQ 45.015625 15.765625 45.015625 23.390625 \nQ 45.015625 31 40.078125 35.4375 \nQ 35.15625 39.890625 26.703125 39.890625 \nQ 22.75 39.890625 18.8125 39.015625 \nQ 14.890625 38.140625 10.796875 36.28125 \nz\n\" id=\"DejaVuSans-53\"/>\n      </defs>\n      <g transform=\"translate(372.758946 254.356562)scale(0.1 -0.1)\">\n       <use xlink:href=\"#DejaVuSans-53\"/>\n       <use x=\"63.623047\" xlink:href=\"#DejaVuSans-48\"/>\n      </g>\n     </g>\n    </g>\n    <g id=\"text_7\">\n     <!-- Epochs -->\n     <defs>\n      <path d=\"M 9.8125 72.90625 \nL 55.90625 72.90625 \nL 55.90625 64.59375 \nL 19.671875 64.59375 \nL 19.671875 43.015625 \nL 54.390625 43.015625 \nL 54.390625 34.71875 \nL 19.671875 34.71875 \nL 19.671875 8.296875 \nL 56.78125 8.296875 \nL 56.78125 0 \nL 9.8125 0 \nz\n\" id=\"DejaVuSans-69\"/>\n      <path d=\"M 18.109375 8.203125 \nL 18.109375 -20.796875 \nL 9.078125 -20.796875 \nL 9.078125 54.6875 \nL 18.109375 54.6875 \nL 18.109375 46.390625 \nQ 20.953125 51.265625 25.265625 53.625 \nQ 29.59375 56 35.59375 56 \nQ 45.5625 56 51.78125 48.09375 \nQ 58.015625 40.1875 58.015625 27.296875 \nQ 58.015625 14.40625 51.78125 6.484375 \nQ 45.5625 -1.421875 35.59375 -1.421875 \nQ 29.59375 -1.421875 25.265625 0.953125 \nQ 20.953125 3.328125 18.109375 8.203125 \nz\nM 48.6875 27.296875 \nQ 48.6875 37.203125 44.609375 42.84375 \nQ 40.53125 48.484375 33.40625 48.484375 \nQ 26.265625 48.484375 22.1875 42.84375 \nQ 18.109375 37.203125 18.109375 27.296875 \nQ 18.109375 17.390625 22.1875 11.75 \nQ 26.265625 6.109375 33.40625 6.109375 \nQ 40.53125 6.109375 44.609375 11.75 \nQ 48.6875 17.390625 48.6875 27.296875 \nz\n\" id=\"DejaVuSans-112\"/>\n      <path d=\"M 30.609375 48.390625 \nQ 23.390625 48.390625 19.1875 42.75 \nQ 14.984375 37.109375 14.984375 27.296875 \nQ 14.984375 17.484375 19.15625 11.84375 \nQ 23.34375 6.203125 30.609375 6.203125 \nQ 37.796875 6.203125 41.984375 11.859375 \nQ 46.1875 17.53125 46.1875 27.296875 \nQ 46.1875 37.015625 41.984375 42.703125 \nQ 37.796875 48.390625 30.609375 48.390625 \nz\nM 30.609375 56 \nQ 42.328125 56 49.015625 48.375 \nQ 55.71875 40.765625 55.71875 27.296875 \nQ 55.71875 13.875 49.015625 6.21875 \nQ 42.328125 -1.421875 30.609375 -1.421875 \nQ 18.84375 -1.421875 12.171875 6.21875 \nQ 5.515625 13.875 5.515625 27.296875 \nQ 5.515625 40.765625 12.171875 48.375 \nQ 18.84375 56 30.609375 56 \nz\n\" id=\"DejaVuSans-111\"/>\n      <path d=\"M 48.78125 52.59375 \nL 48.78125 44.1875 \nQ 44.96875 46.296875 41.140625 47.34375 \nQ 37.3125 48.390625 33.40625 48.390625 \nQ 24.65625 48.390625 19.8125 42.84375 \nQ 14.984375 37.3125 14.984375 27.296875 \nQ 14.984375 17.28125 19.8125 11.734375 \nQ 24.65625 6.203125 33.40625 6.203125 \nQ 37.3125 6.203125 41.140625 7.25 \nQ 44.96875 8.296875 48.78125 10.40625 \nL 48.78125 2.09375 \nQ 45.015625 0.34375 40.984375 -0.53125 \nQ 36.96875 -1.421875 32.421875 -1.421875 \nQ 20.0625 -1.421875 12.78125 6.34375 \nQ 5.515625 14.109375 5.515625 27.296875 \nQ 5.515625 40.671875 12.859375 48.328125 \nQ 20.21875 56 33.015625 56 \nQ 37.15625 56 41.109375 55.140625 \nQ 45.0625 54.296875 48.78125 52.59375 \nz\n\" id=\"DejaVuSans-99\"/>\n      <path d=\"M 54.890625 33.015625 \nL 54.890625 0 \nL 45.90625 0 \nL 45.90625 32.71875 \nQ 45.90625 40.484375 42.875 44.328125 \nQ 39.84375 48.1875 33.796875 48.1875 \nQ 26.515625 48.1875 22.3125 43.546875 \nQ 18.109375 38.921875 18.109375 30.90625 \nL 18.109375 0 \nL 9.078125 0 \nL 9.078125 75.984375 \nL 18.109375 75.984375 \nL 18.109375 46.1875 \nQ 21.34375 51.125 25.703125 53.5625 \nQ 30.078125 56 35.796875 56 \nQ 45.21875 56 50.046875 50.171875 \nQ 54.890625 44.34375 54.890625 33.015625 \nz\n\" id=\"DejaVuSans-104\"/>\n      <path d=\"M 44.28125 53.078125 \nL 44.28125 44.578125 \nQ 40.484375 46.53125 36.375 47.5 \nQ 32.28125 48.484375 27.875 48.484375 \nQ 21.1875 48.484375 17.84375 46.4375 \nQ 14.5 44.390625 14.5 40.28125 \nQ 14.5 37.15625 16.890625 35.375 \nQ 19.28125 33.59375 26.515625 31.984375 \nL 29.59375 31.296875 \nQ 39.15625 29.25 43.1875 25.515625 \nQ 47.21875 21.78125 47.21875 15.09375 \nQ 47.21875 7.46875 41.1875 3.015625 \nQ 35.15625 -1.421875 24.609375 -1.421875 \nQ 20.21875 -1.421875 15.453125 -0.5625 \nQ 10.6875 0.296875 5.421875 2 \nL 5.421875 11.28125 \nQ 10.40625 8.6875 15.234375 7.390625 \nQ 20.0625 6.109375 24.8125 6.109375 \nQ 31.15625 6.109375 34.5625 8.28125 \nQ 37.984375 10.453125 37.984375 14.40625 \nQ 37.984375 18.0625 35.515625 20.015625 \nQ 33.0625 21.96875 24.703125 23.78125 \nL 21.578125 24.515625 \nQ 13.234375 26.265625 9.515625 29.90625 \nQ 5.8125 33.546875 5.8125 39.890625 \nQ 5.8125 47.609375 11.28125 51.796875 \nQ 16.75 56 26.8125 56 \nQ 31.78125 56 36.171875 55.265625 \nQ 40.578125 54.546875 44.28125 53.078125 \nz\n\" id=\"DejaVuSans-115\"/>\n     </defs>\n     <g transform=\"translate(202.8125 268.034687)scale(0.1 -0.1)\">\n      <use xlink:href=\"#DejaVuSans-69\"/>\n      <use x=\"63.183594\" xlink:href=\"#DejaVuSans-112\"/>\n      <use x=\"126.660156\" xlink:href=\"#DejaVuSans-111\"/>\n      <use x=\"187.841797\" xlink:href=\"#DejaVuSans-99\"/>\n      <use x=\"242.822266\" xlink:href=\"#DejaVuSans-104\"/>\n      <use x=\"306.201172\" xlink:href=\"#DejaVuSans-115\"/>\n     </g>\n    </g>\n   </g>\n   <g id=\"matplotlib.axis_2\">\n    <g id=\"ytick_1\">\n     <g id=\"line2d_13\">\n      <path clip-path=\"url(#p0ca8293f8e)\" d=\"M 53.328125 230.558438 \nL 388.128125 230.558438 \n\" style=\"fill:none;stroke:#b0b0b0;stroke-linecap:square;stroke-width:0.8;\"/>\n     </g>\n     <g id=\"line2d_14\">\n      <defs>\n       <path d=\"M 0 0 \nL -3.5 0 \n\" id=\"m3f8779e8f2\" style=\"stroke:#000000;stroke-width:0.8;\"/>\n      </defs>\n      <g>\n       <use style=\"stroke:#000000;stroke-width:0.8;\" x=\"53.328125\" xlink:href=\"#m3f8779e8f2\" y=\"230.558438\"/>\n      </g>\n     </g>\n     <g id=\"text_8\">\n      <!-- 0 -->\n      <g transform=\"translate(39.965625 234.357656)scale(0.1 -0.1)\">\n       <use xlink:href=\"#DejaVuSans-48\"/>\n      </g>\n     </g>\n    </g>\n    <g id=\"ytick_2\">\n     <g id=\"line2d_15\">\n      <path clip-path=\"url(#p0ca8293f8e)\" d=\"M 53.328125 205.90209 \nL 388.128125 205.90209 \n\" style=\"fill:none;stroke:#b0b0b0;stroke-linecap:square;stroke-width:0.8;\"/>\n     </g>\n     <g id=\"line2d_16\">\n      <g>\n       <use style=\"stroke:#000000;stroke-width:0.8;\" x=\"53.328125\" xlink:href=\"#m3f8779e8f2\" y=\"205.90209\"/>\n      </g>\n     </g>\n     <g id=\"text_9\">\n      <!-- 500 -->\n      <g transform=\"translate(27.240625 209.701309)scale(0.1 -0.1)\">\n       <use xlink:href=\"#DejaVuSans-53\"/>\n       <use x=\"63.623047\" xlink:href=\"#DejaVuSans-48\"/>\n       <use x=\"127.246094\" xlink:href=\"#DejaVuSans-48\"/>\n      </g>\n     </g>\n    </g>\n    <g id=\"ytick_3\">\n     <g id=\"line2d_17\">\n      <path clip-path=\"url(#p0ca8293f8e)\" d=\"M 53.328125 181.245743 \nL 388.128125 181.245743 \n\" style=\"fill:none;stroke:#b0b0b0;stroke-linecap:square;stroke-width:0.8;\"/>\n     </g>\n     <g id=\"line2d_18\">\n      <g>\n       <use style=\"stroke:#000000;stroke-width:0.8;\" x=\"53.328125\" xlink:href=\"#m3f8779e8f2\" y=\"181.245743\"/>\n      </g>\n     </g>\n     <g id=\"text_10\">\n      <!-- 1000 -->\n      <g transform=\"translate(20.878125 185.044962)scale(0.1 -0.1)\">\n       <use xlink:href=\"#DejaVuSans-49\"/>\n       <use x=\"63.623047\" xlink:href=\"#DejaVuSans-48\"/>\n       <use x=\"127.246094\" xlink:href=\"#DejaVuSans-48\"/>\n       <use x=\"190.869141\" xlink:href=\"#DejaVuSans-48\"/>\n      </g>\n     </g>\n    </g>\n    <g id=\"ytick_4\">\n     <g id=\"line2d_19\">\n      <path clip-path=\"url(#p0ca8293f8e)\" d=\"M 53.328125 156.589396 \nL 388.128125 156.589396 \n\" style=\"fill:none;stroke:#b0b0b0;stroke-linecap:square;stroke-width:0.8;\"/>\n     </g>\n     <g id=\"line2d_20\">\n      <g>\n       <use style=\"stroke:#000000;stroke-width:0.8;\" x=\"53.328125\" xlink:href=\"#m3f8779e8f2\" y=\"156.589396\"/>\n      </g>\n     </g>\n     <g id=\"text_11\">\n      <!-- 1500 -->\n      <g transform=\"translate(20.878125 160.388614)scale(0.1 -0.1)\">\n       <use xlink:href=\"#DejaVuSans-49\"/>\n       <use x=\"63.623047\" xlink:href=\"#DejaVuSans-53\"/>\n       <use x=\"127.246094\" xlink:href=\"#DejaVuSans-48\"/>\n       <use x=\"190.869141\" xlink:href=\"#DejaVuSans-48\"/>\n      </g>\n     </g>\n    </g>\n    <g id=\"ytick_5\">\n     <g id=\"line2d_21\">\n      <path clip-path=\"url(#p0ca8293f8e)\" d=\"M 53.328125 131.933048 \nL 388.128125 131.933048 \n\" style=\"fill:none;stroke:#b0b0b0;stroke-linecap:square;stroke-width:0.8;\"/>\n     </g>\n     <g id=\"line2d_22\">\n      <g>\n       <use style=\"stroke:#000000;stroke-width:0.8;\" x=\"53.328125\" xlink:href=\"#m3f8779e8f2\" y=\"131.933048\"/>\n      </g>\n     </g>\n     <g id=\"text_12\">\n      <!-- 2000 -->\n      <g transform=\"translate(20.878125 135.732267)scale(0.1 -0.1)\">\n       <use xlink:href=\"#DejaVuSans-50\"/>\n       <use x=\"63.623047\" xlink:href=\"#DejaVuSans-48\"/>\n       <use x=\"127.246094\" xlink:href=\"#DejaVuSans-48\"/>\n       <use x=\"190.869141\" xlink:href=\"#DejaVuSans-48\"/>\n      </g>\n     </g>\n    </g>\n    <g id=\"ytick_6\">\n     <g id=\"line2d_23\">\n      <path clip-path=\"url(#p0ca8293f8e)\" d=\"M 53.328125 107.276701 \nL 388.128125 107.276701 \n\" style=\"fill:none;stroke:#b0b0b0;stroke-linecap:square;stroke-width:0.8;\"/>\n     </g>\n     <g id=\"line2d_24\">\n      <g>\n       <use style=\"stroke:#000000;stroke-width:0.8;\" x=\"53.328125\" xlink:href=\"#m3f8779e8f2\" y=\"107.276701\"/>\n      </g>\n     </g>\n     <g id=\"text_13\">\n      <!-- 2500 -->\n      <g transform=\"translate(20.878125 111.07592)scale(0.1 -0.1)\">\n       <use xlink:href=\"#DejaVuSans-50\"/>\n       <use x=\"63.623047\" xlink:href=\"#DejaVuSans-53\"/>\n       <use x=\"127.246094\" xlink:href=\"#DejaVuSans-48\"/>\n       <use x=\"190.869141\" xlink:href=\"#DejaVuSans-48\"/>\n      </g>\n     </g>\n    </g>\n    <g id=\"ytick_7\">\n     <g id=\"line2d_25\">\n      <path clip-path=\"url(#p0ca8293f8e)\" d=\"M 53.328125 82.620354 \nL 388.128125 82.620354 \n\" style=\"fill:none;stroke:#b0b0b0;stroke-linecap:square;stroke-width:0.8;\"/>\n     </g>\n     <g id=\"line2d_26\">\n      <g>\n       <use style=\"stroke:#000000;stroke-width:0.8;\" x=\"53.328125\" xlink:href=\"#m3f8779e8f2\" y=\"82.620354\"/>\n      </g>\n     </g>\n     <g id=\"text_14\">\n      <!-- 3000 -->\n      <g transform=\"translate(20.878125 86.419572)scale(0.1 -0.1)\">\n       <use xlink:href=\"#DejaVuSans-51\"/>\n       <use x=\"63.623047\" xlink:href=\"#DejaVuSans-48\"/>\n       <use x=\"127.246094\" xlink:href=\"#DejaVuSans-48\"/>\n       <use x=\"190.869141\" xlink:href=\"#DejaVuSans-48\"/>\n      </g>\n     </g>\n    </g>\n    <g id=\"ytick_8\">\n     <g id=\"line2d_27\">\n      <path clip-path=\"url(#p0ca8293f8e)\" d=\"M 53.328125 57.964006 \nL 388.128125 57.964006 \n\" style=\"fill:none;stroke:#b0b0b0;stroke-linecap:square;stroke-width:0.8;\"/>\n     </g>\n     <g id=\"line2d_28\">\n      <g>\n       <use style=\"stroke:#000000;stroke-width:0.8;\" x=\"53.328125\" xlink:href=\"#m3f8779e8f2\" y=\"57.964006\"/>\n      </g>\n     </g>\n     <g id=\"text_15\">\n      <!-- 3500 -->\n      <g transform=\"translate(20.878125 61.763225)scale(0.1 -0.1)\">\n       <use xlink:href=\"#DejaVuSans-51\"/>\n       <use x=\"63.623047\" xlink:href=\"#DejaVuSans-53\"/>\n       <use x=\"127.246094\" xlink:href=\"#DejaVuSans-48\"/>\n       <use x=\"190.869141\" xlink:href=\"#DejaVuSans-48\"/>\n      </g>\n     </g>\n    </g>\n    <g id=\"ytick_9\">\n     <g id=\"line2d_29\">\n      <path clip-path=\"url(#p0ca8293f8e)\" d=\"M 53.328125 33.307659 \nL 388.128125 33.307659 \n\" style=\"fill:none;stroke:#b0b0b0;stroke-linecap:square;stroke-width:0.8;\"/>\n     </g>\n     <g id=\"line2d_30\">\n      <g>\n       <use style=\"stroke:#000000;stroke-width:0.8;\" x=\"53.328125\" xlink:href=\"#m3f8779e8f2\" y=\"33.307659\"/>\n      </g>\n     </g>\n     <g id=\"text_16\">\n      <!-- 4000 -->\n      <g transform=\"translate(20.878125 37.106878)scale(0.1 -0.1)\">\n       <use xlink:href=\"#DejaVuSans-52\"/>\n       <use x=\"63.623047\" xlink:href=\"#DejaVuSans-48\"/>\n       <use x=\"127.246094\" xlink:href=\"#DejaVuSans-48\"/>\n       <use x=\"190.869141\" xlink:href=\"#DejaVuSans-48\"/>\n      </g>\n     </g>\n    </g>\n    <g id=\"text_17\">\n     <!-- Loss -->\n     <defs>\n      <path d=\"M 9.8125 72.90625 \nL 19.671875 72.90625 \nL 19.671875 8.296875 \nL 55.171875 8.296875 \nL 55.171875 0 \nL 9.8125 0 \nz\n\" id=\"DejaVuSans-76\"/>\n     </defs>\n     <g transform=\"translate(14.798438 142.005312)rotate(-90)scale(0.1 -0.1)\">\n      <use xlink:href=\"#DejaVuSans-76\"/>\n      <use x=\"53.962891\" xlink:href=\"#DejaVuSans-111\"/>\n      <use x=\"115.144531\" xlink:href=\"#DejaVuSans-115\"/>\n      <use x=\"167.244141\" xlink:href=\"#DejaVuSans-115\"/>\n     </g>\n    </g>\n   </g>\n   <g id=\"line2d_31\">\n    <path clip-path=\"url(#p0ca8293f8e)\" d=\"M 68.546307 45.865462 \nL 74.75781 53.861864 \nL 80.969312 64.323141 \nL 87.180815 76.007909 \nL 93.392318 87.181122 \nL 99.603821 101.10002 \nL 105.815324 115.049204 \nL 112.026826 126.408759 \nL 118.238329 141.990425 \nL 124.449832 156.625148 \nL 130.661335 168.41074 \nL 136.872837 181.372208 \nL 143.08434 194.66591 \nL 149.295843 205.541116 \nL 155.507346 213.632971 \nL 161.718849 220.490372 \nL 167.930351 225.587687 \nL 174.141854 228.371839 \nL 180.353357 229.647287 \nL 186.56486 229.793601 \nL 192.776362 229.412812 \nL 198.987865 228.915798 \nL 205.199368 228.454615 \nL 211.410871 228.79238 \nL 217.622374 228.911518 \nL 223.833876 229.306512 \nL 230.045379 229.471222 \nL 236.256882 229.721976 \nL 242.468385 229.748563 \nL 248.679888 229.799248 \nL 254.89139 229.817185 \nL 261.102893 229.690485 \nL 267.314396 229.700779 \nL 273.525899 229.845219 \nL 279.737401 229.836548 \nL 285.948904 229.836581 \nL 292.160407 229.753738 \nL 298.37191 229.874489 \nL 304.583413 229.817371 \nL 310.794915 229.761128 \nL 317.006418 229.77042 \nL 323.217921 229.820289 \nL 329.429424 229.786891 \nL 335.640926 229.762317 \nL 341.852429 229.785026 \nL 348.063932 229.797216 \nL 354.275435 229.827161 \nL 360.486938 229.822875 \nL 366.69844 229.827007 \nL 372.909943 229.826478 \n\" style=\"fill:none;stroke:#1f77b4;stroke-linecap:square;stroke-width:1.5;\"/>\n    <defs>\n     <path d=\"M 0 2 \nC 0.530406 2 1.03916 1.789267 1.414214 1.414214 \nC 1.789267 1.03916 2 0.530406 2 0 \nC 2 -0.530406 1.789267 -1.03916 1.414214 -1.414214 \nC 1.03916 -1.789267 0.530406 -2 0 -2 \nC -0.530406 -2 -1.03916 -1.789267 -1.414214 -1.414214 \nC -1.789267 -1.03916 -2 -0.530406 -2 0 \nC -2 0.530406 -1.789267 1.03916 -1.414214 1.414214 \nC -1.03916 1.789267 -0.530406 2 0 2 \nz\n\" id=\"m81e5b1e6b3\" style=\"stroke:#1f77b4;\"/>\n    </defs>\n    <g clip-path=\"url(#p0ca8293f8e)\">\n     <use style=\"fill:#1f77b4;stroke:#1f77b4;\" x=\"68.546307\" xlink:href=\"#m81e5b1e6b3\" y=\"45.865462\"/>\n     <use style=\"fill:#1f77b4;stroke:#1f77b4;\" x=\"74.75781\" xlink:href=\"#m81e5b1e6b3\" y=\"53.861864\"/>\n     <use style=\"fill:#1f77b4;stroke:#1f77b4;\" x=\"80.969312\" xlink:href=\"#m81e5b1e6b3\" y=\"64.323141\"/>\n     <use style=\"fill:#1f77b4;stroke:#1f77b4;\" x=\"87.180815\" xlink:href=\"#m81e5b1e6b3\" y=\"76.007909\"/>\n     <use style=\"fill:#1f77b4;stroke:#1f77b4;\" x=\"93.392318\" xlink:href=\"#m81e5b1e6b3\" y=\"87.181122\"/>\n     <use style=\"fill:#1f77b4;stroke:#1f77b4;\" x=\"99.603821\" xlink:href=\"#m81e5b1e6b3\" y=\"101.10002\"/>\n     <use style=\"fill:#1f77b4;stroke:#1f77b4;\" x=\"105.815324\" xlink:href=\"#m81e5b1e6b3\" y=\"115.049204\"/>\n     <use style=\"fill:#1f77b4;stroke:#1f77b4;\" x=\"112.026826\" xlink:href=\"#m81e5b1e6b3\" y=\"126.408759\"/>\n     <use style=\"fill:#1f77b4;stroke:#1f77b4;\" x=\"118.238329\" xlink:href=\"#m81e5b1e6b3\" y=\"141.990425\"/>\n     <use style=\"fill:#1f77b4;stroke:#1f77b4;\" x=\"124.449832\" xlink:href=\"#m81e5b1e6b3\" y=\"156.625148\"/>\n     <use style=\"fill:#1f77b4;stroke:#1f77b4;\" x=\"130.661335\" xlink:href=\"#m81e5b1e6b3\" y=\"168.41074\"/>\n     <use style=\"fill:#1f77b4;stroke:#1f77b4;\" x=\"136.872837\" xlink:href=\"#m81e5b1e6b3\" y=\"181.372208\"/>\n     <use style=\"fill:#1f77b4;stroke:#1f77b4;\" x=\"143.08434\" xlink:href=\"#m81e5b1e6b3\" y=\"194.66591\"/>\n     <use style=\"fill:#1f77b4;stroke:#1f77b4;\" x=\"149.295843\" xlink:href=\"#m81e5b1e6b3\" y=\"205.541116\"/>\n     <use style=\"fill:#1f77b4;stroke:#1f77b4;\" x=\"155.507346\" xlink:href=\"#m81e5b1e6b3\" y=\"213.632971\"/>\n     <use style=\"fill:#1f77b4;stroke:#1f77b4;\" x=\"161.718849\" xlink:href=\"#m81e5b1e6b3\" y=\"220.490372\"/>\n     <use style=\"fill:#1f77b4;stroke:#1f77b4;\" x=\"167.930351\" xlink:href=\"#m81e5b1e6b3\" y=\"225.587687\"/>\n     <use style=\"fill:#1f77b4;stroke:#1f77b4;\" x=\"174.141854\" xlink:href=\"#m81e5b1e6b3\" y=\"228.371839\"/>\n     <use style=\"fill:#1f77b4;stroke:#1f77b4;\" x=\"180.353357\" xlink:href=\"#m81e5b1e6b3\" y=\"229.647287\"/>\n     <use style=\"fill:#1f77b4;stroke:#1f77b4;\" x=\"186.56486\" xlink:href=\"#m81e5b1e6b3\" y=\"229.793601\"/>\n     <use style=\"fill:#1f77b4;stroke:#1f77b4;\" x=\"192.776362\" xlink:href=\"#m81e5b1e6b3\" y=\"229.412812\"/>\n     <use style=\"fill:#1f77b4;stroke:#1f77b4;\" x=\"198.987865\" xlink:href=\"#m81e5b1e6b3\" y=\"228.915798\"/>\n     <use style=\"fill:#1f77b4;stroke:#1f77b4;\" x=\"205.199368\" xlink:href=\"#m81e5b1e6b3\" y=\"228.454615\"/>\n     <use style=\"fill:#1f77b4;stroke:#1f77b4;\" x=\"211.410871\" xlink:href=\"#m81e5b1e6b3\" y=\"228.79238\"/>\n     <use style=\"fill:#1f77b4;stroke:#1f77b4;\" x=\"217.622374\" xlink:href=\"#m81e5b1e6b3\" y=\"228.911518\"/>\n     <use style=\"fill:#1f77b4;stroke:#1f77b4;\" x=\"223.833876\" xlink:href=\"#m81e5b1e6b3\" y=\"229.306512\"/>\n     <use style=\"fill:#1f77b4;stroke:#1f77b4;\" x=\"230.045379\" xlink:href=\"#m81e5b1e6b3\" y=\"229.471222\"/>\n     <use style=\"fill:#1f77b4;stroke:#1f77b4;\" x=\"236.256882\" xlink:href=\"#m81e5b1e6b3\" y=\"229.721976\"/>\n     <use style=\"fill:#1f77b4;stroke:#1f77b4;\" x=\"242.468385\" xlink:href=\"#m81e5b1e6b3\" y=\"229.748563\"/>\n     <use style=\"fill:#1f77b4;stroke:#1f77b4;\" x=\"248.679888\" xlink:href=\"#m81e5b1e6b3\" y=\"229.799248\"/>\n     <use style=\"fill:#1f77b4;stroke:#1f77b4;\" x=\"254.89139\" xlink:href=\"#m81e5b1e6b3\" y=\"229.817185\"/>\n     <use style=\"fill:#1f77b4;stroke:#1f77b4;\" x=\"261.102893\" xlink:href=\"#m81e5b1e6b3\" y=\"229.690485\"/>\n     <use style=\"fill:#1f77b4;stroke:#1f77b4;\" x=\"267.314396\" xlink:href=\"#m81e5b1e6b3\" y=\"229.700779\"/>\n     <use style=\"fill:#1f77b4;stroke:#1f77b4;\" x=\"273.525899\" xlink:href=\"#m81e5b1e6b3\" y=\"229.845219\"/>\n     <use style=\"fill:#1f77b4;stroke:#1f77b4;\" x=\"279.737401\" xlink:href=\"#m81e5b1e6b3\" y=\"229.836548\"/>\n     <use style=\"fill:#1f77b4;stroke:#1f77b4;\" x=\"285.948904\" xlink:href=\"#m81e5b1e6b3\" y=\"229.836581\"/>\n     <use style=\"fill:#1f77b4;stroke:#1f77b4;\" x=\"292.160407\" xlink:href=\"#m81e5b1e6b3\" y=\"229.753738\"/>\n     <use style=\"fill:#1f77b4;stroke:#1f77b4;\" x=\"298.37191\" xlink:href=\"#m81e5b1e6b3\" y=\"229.874489\"/>\n     <use style=\"fill:#1f77b4;stroke:#1f77b4;\" x=\"304.583413\" xlink:href=\"#m81e5b1e6b3\" y=\"229.817371\"/>\n     <use style=\"fill:#1f77b4;stroke:#1f77b4;\" x=\"310.794915\" xlink:href=\"#m81e5b1e6b3\" y=\"229.761128\"/>\n     <use style=\"fill:#1f77b4;stroke:#1f77b4;\" x=\"317.006418\" xlink:href=\"#m81e5b1e6b3\" y=\"229.77042\"/>\n     <use style=\"fill:#1f77b4;stroke:#1f77b4;\" x=\"323.217921\" xlink:href=\"#m81e5b1e6b3\" y=\"229.820289\"/>\n     <use style=\"fill:#1f77b4;stroke:#1f77b4;\" x=\"329.429424\" xlink:href=\"#m81e5b1e6b3\" y=\"229.786891\"/>\n     <use style=\"fill:#1f77b4;stroke:#1f77b4;\" x=\"335.640926\" xlink:href=\"#m81e5b1e6b3\" y=\"229.762317\"/>\n     <use style=\"fill:#1f77b4;stroke:#1f77b4;\" x=\"341.852429\" xlink:href=\"#m81e5b1e6b3\" y=\"229.785026\"/>\n     <use style=\"fill:#1f77b4;stroke:#1f77b4;\" x=\"348.063932\" xlink:href=\"#m81e5b1e6b3\" y=\"229.797216\"/>\n     <use style=\"fill:#1f77b4;stroke:#1f77b4;\" x=\"354.275435\" xlink:href=\"#m81e5b1e6b3\" y=\"229.827161\"/>\n     <use style=\"fill:#1f77b4;stroke:#1f77b4;\" x=\"360.486938\" xlink:href=\"#m81e5b1e6b3\" y=\"229.822875\"/>\n     <use style=\"fill:#1f77b4;stroke:#1f77b4;\" x=\"366.69844\" xlink:href=\"#m81e5b1e6b3\" y=\"229.827007\"/>\n     <use style=\"fill:#1f77b4;stroke:#1f77b4;\" x=\"372.909943\" xlink:href=\"#m81e5b1e6b3\" y=\"229.826478\"/>\n    </g>\n   </g>\n   <g id=\"line2d_32\">\n    <path clip-path=\"url(#p0ca8293f8e)\" d=\"M 68.546307 32.201761 \nL 74.75781 43.283235 \nL 80.969312 54.957076 \nL 87.180815 67.269543 \nL 93.392318 80.16056 \nL 99.603821 93.553688 \nL 105.815324 107.570976 \nL 112.026826 122.01463 \nL 118.238329 136.714909 \nL 124.449832 151.417059 \nL 130.661335 165.724591 \nL 136.872837 179.360155 \nL 143.08434 191.942502 \nL 149.295843 203.112751 \nL 155.507346 212.387655 \nL 161.718849 219.543586 \nL 167.930351 224.529936 \nL 174.141854 227.459479 \nL 180.353357 228.671496 \nL 186.56486 228.731098 \nL 192.776362 228.239513 \nL 198.987865 227.707866 \nL 205.199368 227.424236 \nL 211.410871 227.480387 \nL 217.622374 227.750862 \nL 223.833876 228.124103 \nL 230.045379 228.439036 \nL 236.256882 228.655178 \nL 242.468385 228.77378 \nL 248.679888 228.80638 \nL 254.89139 228.796737 \nL 261.102893 228.775555 \nL 267.314396 228.764405 \nL 273.525899 228.763033 \nL 279.737401 228.77267 \nL 285.948904 228.787483 \nL 292.160407 228.800015 \nL 298.37191 228.80622 \nL 304.583413 228.804109 \nL 310.794915 228.79962 \nL 317.006418 228.794603 \nL 323.217921 228.790996 \nL 329.429424 228.790127 \nL 335.640926 228.792256 \nL 341.852429 228.794899 \nL 348.063932 228.794632 \nL 354.275435 228.796829 \nL 360.486938 228.798129 \nL 366.69844 228.799848 \nL 372.909943 228.800729 \n\" style=\"fill:none;stroke:#ff7f0e;stroke-linecap:square;stroke-width:1.5;\"/>\n    <defs>\n     <path d=\"M 0 2 \nC 0.530406 2 1.03916 1.789267 1.414214 1.414214 \nC 1.789267 1.03916 2 0.530406 2 0 \nC 2 -0.530406 1.789267 -1.03916 1.414214 -1.414214 \nC 1.03916 -1.789267 0.530406 -2 0 -2 \nC -0.530406 -2 -1.03916 -1.789267 -1.414214 -1.414214 \nC -1.789267 -1.03916 -2 -0.530406 -2 0 \nC -2 0.530406 -1.789267 1.03916 -1.414214 1.414214 \nC -1.03916 1.789267 -0.530406 2 0 2 \nz\n\" id=\"mbe06c9b79b\" style=\"stroke:#ff7f0e;\"/>\n    </defs>\n    <g clip-path=\"url(#p0ca8293f8e)\">\n     <use style=\"fill:#ff7f0e;stroke:#ff7f0e;\" x=\"68.546307\" xlink:href=\"#mbe06c9b79b\" y=\"32.201761\"/>\n     <use style=\"fill:#ff7f0e;stroke:#ff7f0e;\" x=\"74.75781\" xlink:href=\"#mbe06c9b79b\" y=\"43.283235\"/>\n     <use style=\"fill:#ff7f0e;stroke:#ff7f0e;\" x=\"80.969312\" xlink:href=\"#mbe06c9b79b\" y=\"54.957076\"/>\n     <use style=\"fill:#ff7f0e;stroke:#ff7f0e;\" x=\"87.180815\" xlink:href=\"#mbe06c9b79b\" y=\"67.269543\"/>\n     <use style=\"fill:#ff7f0e;stroke:#ff7f0e;\" x=\"93.392318\" xlink:href=\"#mbe06c9b79b\" y=\"80.16056\"/>\n     <use style=\"fill:#ff7f0e;stroke:#ff7f0e;\" x=\"99.603821\" xlink:href=\"#mbe06c9b79b\" y=\"93.553688\"/>\n     <use style=\"fill:#ff7f0e;stroke:#ff7f0e;\" x=\"105.815324\" xlink:href=\"#mbe06c9b79b\" y=\"107.570976\"/>\n     <use style=\"fill:#ff7f0e;stroke:#ff7f0e;\" x=\"112.026826\" xlink:href=\"#mbe06c9b79b\" y=\"122.01463\"/>\n     <use style=\"fill:#ff7f0e;stroke:#ff7f0e;\" x=\"118.238329\" xlink:href=\"#mbe06c9b79b\" y=\"136.714909\"/>\n     <use style=\"fill:#ff7f0e;stroke:#ff7f0e;\" x=\"124.449832\" xlink:href=\"#mbe06c9b79b\" y=\"151.417059\"/>\n     <use style=\"fill:#ff7f0e;stroke:#ff7f0e;\" x=\"130.661335\" xlink:href=\"#mbe06c9b79b\" y=\"165.724591\"/>\n     <use style=\"fill:#ff7f0e;stroke:#ff7f0e;\" x=\"136.872837\" xlink:href=\"#mbe06c9b79b\" y=\"179.360155\"/>\n     <use style=\"fill:#ff7f0e;stroke:#ff7f0e;\" x=\"143.08434\" xlink:href=\"#mbe06c9b79b\" y=\"191.942502\"/>\n     <use style=\"fill:#ff7f0e;stroke:#ff7f0e;\" x=\"149.295843\" xlink:href=\"#mbe06c9b79b\" y=\"203.112751\"/>\n     <use style=\"fill:#ff7f0e;stroke:#ff7f0e;\" x=\"155.507346\" xlink:href=\"#mbe06c9b79b\" y=\"212.387655\"/>\n     <use style=\"fill:#ff7f0e;stroke:#ff7f0e;\" x=\"161.718849\" xlink:href=\"#mbe06c9b79b\" y=\"219.543586\"/>\n     <use style=\"fill:#ff7f0e;stroke:#ff7f0e;\" x=\"167.930351\" xlink:href=\"#mbe06c9b79b\" y=\"224.529936\"/>\n     <use style=\"fill:#ff7f0e;stroke:#ff7f0e;\" x=\"174.141854\" xlink:href=\"#mbe06c9b79b\" y=\"227.459479\"/>\n     <use style=\"fill:#ff7f0e;stroke:#ff7f0e;\" x=\"180.353357\" xlink:href=\"#mbe06c9b79b\" y=\"228.671496\"/>\n     <use style=\"fill:#ff7f0e;stroke:#ff7f0e;\" x=\"186.56486\" xlink:href=\"#mbe06c9b79b\" y=\"228.731098\"/>\n     <use style=\"fill:#ff7f0e;stroke:#ff7f0e;\" x=\"192.776362\" xlink:href=\"#mbe06c9b79b\" y=\"228.239513\"/>\n     <use style=\"fill:#ff7f0e;stroke:#ff7f0e;\" x=\"198.987865\" xlink:href=\"#mbe06c9b79b\" y=\"227.707866\"/>\n     <use style=\"fill:#ff7f0e;stroke:#ff7f0e;\" x=\"205.199368\" xlink:href=\"#mbe06c9b79b\" y=\"227.424236\"/>\n     <use style=\"fill:#ff7f0e;stroke:#ff7f0e;\" x=\"211.410871\" xlink:href=\"#mbe06c9b79b\" y=\"227.480387\"/>\n     <use style=\"fill:#ff7f0e;stroke:#ff7f0e;\" x=\"217.622374\" xlink:href=\"#mbe06c9b79b\" y=\"227.750862\"/>\n     <use style=\"fill:#ff7f0e;stroke:#ff7f0e;\" x=\"223.833876\" xlink:href=\"#mbe06c9b79b\" y=\"228.124103\"/>\n     <use style=\"fill:#ff7f0e;stroke:#ff7f0e;\" x=\"230.045379\" xlink:href=\"#mbe06c9b79b\" y=\"228.439036\"/>\n     <use style=\"fill:#ff7f0e;stroke:#ff7f0e;\" x=\"236.256882\" xlink:href=\"#mbe06c9b79b\" y=\"228.655178\"/>\n     <use style=\"fill:#ff7f0e;stroke:#ff7f0e;\" x=\"242.468385\" xlink:href=\"#mbe06c9b79b\" y=\"228.77378\"/>\n     <use style=\"fill:#ff7f0e;stroke:#ff7f0e;\" x=\"248.679888\" xlink:href=\"#mbe06c9b79b\" y=\"228.80638\"/>\n     <use style=\"fill:#ff7f0e;stroke:#ff7f0e;\" x=\"254.89139\" xlink:href=\"#mbe06c9b79b\" y=\"228.796737\"/>\n     <use style=\"fill:#ff7f0e;stroke:#ff7f0e;\" x=\"261.102893\" xlink:href=\"#mbe06c9b79b\" y=\"228.775555\"/>\n     <use style=\"fill:#ff7f0e;stroke:#ff7f0e;\" x=\"267.314396\" xlink:href=\"#mbe06c9b79b\" y=\"228.764405\"/>\n     <use style=\"fill:#ff7f0e;stroke:#ff7f0e;\" x=\"273.525899\" xlink:href=\"#mbe06c9b79b\" y=\"228.763033\"/>\n     <use style=\"fill:#ff7f0e;stroke:#ff7f0e;\" x=\"279.737401\" xlink:href=\"#mbe06c9b79b\" y=\"228.77267\"/>\n     <use style=\"fill:#ff7f0e;stroke:#ff7f0e;\" x=\"285.948904\" xlink:href=\"#mbe06c9b79b\" y=\"228.787483\"/>\n     <use style=\"fill:#ff7f0e;stroke:#ff7f0e;\" x=\"292.160407\" xlink:href=\"#mbe06c9b79b\" y=\"228.800015\"/>\n     <use style=\"fill:#ff7f0e;stroke:#ff7f0e;\" x=\"298.37191\" xlink:href=\"#mbe06c9b79b\" y=\"228.80622\"/>\n     <use style=\"fill:#ff7f0e;stroke:#ff7f0e;\" x=\"304.583413\" xlink:href=\"#mbe06c9b79b\" y=\"228.804109\"/>\n     <use style=\"fill:#ff7f0e;stroke:#ff7f0e;\" x=\"310.794915\" xlink:href=\"#mbe06c9b79b\" y=\"228.79962\"/>\n     <use style=\"fill:#ff7f0e;stroke:#ff7f0e;\" x=\"317.006418\" xlink:href=\"#mbe06c9b79b\" y=\"228.794603\"/>\n     <use style=\"fill:#ff7f0e;stroke:#ff7f0e;\" x=\"323.217921\" xlink:href=\"#mbe06c9b79b\" y=\"228.790996\"/>\n     <use style=\"fill:#ff7f0e;stroke:#ff7f0e;\" x=\"329.429424\" xlink:href=\"#mbe06c9b79b\" y=\"228.790127\"/>\n     <use style=\"fill:#ff7f0e;stroke:#ff7f0e;\" x=\"335.640926\" xlink:href=\"#mbe06c9b79b\" y=\"228.792256\"/>\n     <use style=\"fill:#ff7f0e;stroke:#ff7f0e;\" x=\"341.852429\" xlink:href=\"#mbe06c9b79b\" y=\"228.794899\"/>\n     <use style=\"fill:#ff7f0e;stroke:#ff7f0e;\" x=\"348.063932\" xlink:href=\"#mbe06c9b79b\" y=\"228.794632\"/>\n     <use style=\"fill:#ff7f0e;stroke:#ff7f0e;\" x=\"354.275435\" xlink:href=\"#mbe06c9b79b\" y=\"228.796829\"/>\n     <use style=\"fill:#ff7f0e;stroke:#ff7f0e;\" x=\"360.486938\" xlink:href=\"#mbe06c9b79b\" y=\"228.798129\"/>\n     <use style=\"fill:#ff7f0e;stroke:#ff7f0e;\" x=\"366.69844\" xlink:href=\"#mbe06c9b79b\" y=\"228.799848\"/>\n     <use style=\"fill:#ff7f0e;stroke:#ff7f0e;\" x=\"372.909943\" xlink:href=\"#mbe06c9b79b\" y=\"228.800729\"/>\n    </g>\n   </g>\n   <g id=\"patch_3\">\n    <path d=\"M 53.328125 239.758125 \nL 53.328125 22.318125 \n\" style=\"fill:none;stroke:#000000;stroke-linecap:square;stroke-linejoin:miter;stroke-width:0.8;\"/>\n   </g>\n   <g id=\"patch_4\">\n    <path d=\"M 388.128125 239.758125 \nL 388.128125 22.318125 \n\" style=\"fill:none;stroke:#000000;stroke-linecap:square;stroke-linejoin:miter;stroke-width:0.8;\"/>\n   </g>\n   <g id=\"patch_5\">\n    <path d=\"M 53.328125 239.758125 \nL 388.128125 239.758125 \n\" style=\"fill:none;stroke:#000000;stroke-linecap:square;stroke-linejoin:miter;stroke-width:0.8;\"/>\n   </g>\n   <g id=\"patch_6\">\n    <path d=\"M 53.328125 22.318125 \nL 388.128125 22.318125 \n\" style=\"fill:none;stroke:#000000;stroke-linecap:square;stroke-linejoin:miter;stroke-width:0.8;\"/>\n   </g>\n   <g id=\"text_18\">\n    <!-- Loss with opt = Adam and lr=0.005 -->\n    <defs>\n     <path id=\"DejaVuSans-32\"/>\n     <path d=\"M 4.203125 54.6875 \nL 13.1875 54.6875 \nL 24.421875 12.015625 \nL 35.59375 54.6875 \nL 46.1875 54.6875 \nL 57.421875 12.015625 \nL 68.609375 54.6875 \nL 77.59375 54.6875 \nL 63.28125 0 \nL 52.6875 0 \nL 40.921875 44.828125 \nL 29.109375 0 \nL 18.5 0 \nz\n\" id=\"DejaVuSans-119\"/>\n     <path d=\"M 9.421875 54.6875 \nL 18.40625 54.6875 \nL 18.40625 0 \nL 9.421875 0 \nz\nM 9.421875 75.984375 \nL 18.40625 75.984375 \nL 18.40625 64.59375 \nL 9.421875 64.59375 \nz\n\" id=\"DejaVuSans-105\"/>\n     <path d=\"M 18.3125 70.21875 \nL 18.3125 54.6875 \nL 36.8125 54.6875 \nL 36.8125 47.703125 \nL 18.3125 47.703125 \nL 18.3125 18.015625 \nQ 18.3125 11.328125 20.140625 9.421875 \nQ 21.96875 7.515625 27.59375 7.515625 \nL 36.8125 7.515625 \nL 36.8125 0 \nL 27.59375 0 \nQ 17.1875 0 13.234375 3.875 \nQ 9.28125 7.765625 9.28125 18.015625 \nL 9.28125 47.703125 \nL 2.6875 47.703125 \nL 2.6875 54.6875 \nL 9.28125 54.6875 \nL 9.28125 70.21875 \nz\n\" id=\"DejaVuSans-116\"/>\n     <path d=\"M 10.59375 45.40625 \nL 73.1875 45.40625 \nL 73.1875 37.203125 \nL 10.59375 37.203125 \nz\nM 10.59375 25.484375 \nL 73.1875 25.484375 \nL 73.1875 17.1875 \nL 10.59375 17.1875 \nz\n\" id=\"DejaVuSans-61\"/>\n     <path d=\"M 34.1875 63.1875 \nL 20.796875 26.90625 \nL 47.609375 26.90625 \nz\nM 28.609375 72.90625 \nL 39.796875 72.90625 \nL 67.578125 0 \nL 57.328125 0 \nL 50.6875 18.703125 \nL 17.828125 18.703125 \nL 11.1875 0 \nL 0.78125 0 \nz\n\" id=\"DejaVuSans-65\"/>\n     <path d=\"M 45.40625 46.390625 \nL 45.40625 75.984375 \nL 54.390625 75.984375 \nL 54.390625 0 \nL 45.40625 0 \nL 45.40625 8.203125 \nQ 42.578125 3.328125 38.25 0.953125 \nQ 33.9375 -1.421875 27.875 -1.421875 \nQ 17.96875 -1.421875 11.734375 6.484375 \nQ 5.515625 14.40625 5.515625 27.296875 \nQ 5.515625 40.1875 11.734375 48.09375 \nQ 17.96875 56 27.875 56 \nQ 33.9375 56 38.25 53.625 \nQ 42.578125 51.265625 45.40625 46.390625 \nz\nM 14.796875 27.296875 \nQ 14.796875 17.390625 18.875 11.75 \nQ 22.953125 6.109375 30.078125 6.109375 \nQ 37.203125 6.109375 41.296875 11.75 \nQ 45.40625 17.390625 45.40625 27.296875 \nQ 45.40625 37.203125 41.296875 42.84375 \nQ 37.203125 48.484375 30.078125 48.484375 \nQ 22.953125 48.484375 18.875 42.84375 \nQ 14.796875 37.203125 14.796875 27.296875 \nz\n\" id=\"DejaVuSans-100\"/>\n     <path d=\"M 34.28125 27.484375 \nQ 23.390625 27.484375 19.1875 25 \nQ 14.984375 22.515625 14.984375 16.5 \nQ 14.984375 11.71875 18.140625 8.90625 \nQ 21.296875 6.109375 26.703125 6.109375 \nQ 34.1875 6.109375 38.703125 11.40625 \nQ 43.21875 16.703125 43.21875 25.484375 \nL 43.21875 27.484375 \nz\nM 52.203125 31.203125 \nL 52.203125 0 \nL 43.21875 0 \nL 43.21875 8.296875 \nQ 40.140625 3.328125 35.546875 0.953125 \nQ 30.953125 -1.421875 24.3125 -1.421875 \nQ 15.921875 -1.421875 10.953125 3.296875 \nQ 6 8.015625 6 15.921875 \nQ 6 25.140625 12.171875 29.828125 \nQ 18.359375 34.515625 30.609375 34.515625 \nL 43.21875 34.515625 \nL 43.21875 35.40625 \nQ 43.21875 41.609375 39.140625 45 \nQ 35.0625 48.390625 27.6875 48.390625 \nQ 23 48.390625 18.546875 47.265625 \nQ 14.109375 46.140625 10.015625 43.890625 \nL 10.015625 52.203125 \nQ 14.9375 54.109375 19.578125 55.046875 \nQ 24.21875 56 28.609375 56 \nQ 40.484375 56 46.34375 49.84375 \nQ 52.203125 43.703125 52.203125 31.203125 \nz\n\" id=\"DejaVuSans-97\"/>\n     <path d=\"M 52 44.1875 \nQ 55.375 50.25 60.0625 53.125 \nQ 64.75 56 71.09375 56 \nQ 79.640625 56 84.28125 50.015625 \nQ 88.921875 44.046875 88.921875 33.015625 \nL 88.921875 0 \nL 79.890625 0 \nL 79.890625 32.71875 \nQ 79.890625 40.578125 77.09375 44.375 \nQ 74.3125 48.1875 68.609375 48.1875 \nQ 61.625 48.1875 57.5625 43.546875 \nQ 53.515625 38.921875 53.515625 30.90625 \nL 53.515625 0 \nL 44.484375 0 \nL 44.484375 32.71875 \nQ 44.484375 40.625 41.703125 44.40625 \nQ 38.921875 48.1875 33.109375 48.1875 \nQ 26.21875 48.1875 22.15625 43.53125 \nQ 18.109375 38.875 18.109375 30.90625 \nL 18.109375 0 \nL 9.078125 0 \nL 9.078125 54.6875 \nL 18.109375 54.6875 \nL 18.109375 46.1875 \nQ 21.1875 51.21875 25.484375 53.609375 \nQ 29.78125 56 35.6875 56 \nQ 41.65625 56 45.828125 52.96875 \nQ 50 49.953125 52 44.1875 \nz\n\" id=\"DejaVuSans-109\"/>\n     <path d=\"M 54.890625 33.015625 \nL 54.890625 0 \nL 45.90625 0 \nL 45.90625 32.71875 \nQ 45.90625 40.484375 42.875 44.328125 \nQ 39.84375 48.1875 33.796875 48.1875 \nQ 26.515625 48.1875 22.3125 43.546875 \nQ 18.109375 38.921875 18.109375 30.90625 \nL 18.109375 0 \nL 9.078125 0 \nL 9.078125 54.6875 \nL 18.109375 54.6875 \nL 18.109375 46.1875 \nQ 21.34375 51.125 25.703125 53.5625 \nQ 30.078125 56 35.796875 56 \nQ 45.21875 56 50.046875 50.171875 \nQ 54.890625 44.34375 54.890625 33.015625 \nz\n\" id=\"DejaVuSans-110\"/>\n     <path d=\"M 9.421875 75.984375 \nL 18.40625 75.984375 \nL 18.40625 0 \nL 9.421875 0 \nz\n\" id=\"DejaVuSans-108\"/>\n     <path d=\"M 41.109375 46.296875 \nQ 39.59375 47.171875 37.8125 47.578125 \nQ 36.03125 48 33.890625 48 \nQ 26.265625 48 22.1875 43.046875 \nQ 18.109375 38.09375 18.109375 28.8125 \nL 18.109375 0 \nL 9.078125 0 \nL 9.078125 54.6875 \nL 18.109375 54.6875 \nL 18.109375 46.1875 \nQ 20.953125 51.171875 25.484375 53.578125 \nQ 30.03125 56 36.53125 56 \nQ 37.453125 56 38.578125 55.875 \nQ 39.703125 55.765625 41.0625 55.515625 \nz\n\" id=\"DejaVuSans-114\"/>\n     <path d=\"M 10.6875 12.40625 \nL 21 12.40625 \nL 21 0 \nL 10.6875 0 \nz\n\" id=\"DejaVuSans-46\"/>\n    </defs>\n    <g transform=\"translate(113.58125 16.318125)scale(0.12 -0.12)\">\n     <use xlink:href=\"#DejaVuSans-76\"/>\n     <use x=\"53.962891\" xlink:href=\"#DejaVuSans-111\"/>\n     <use x=\"115.144531\" xlink:href=\"#DejaVuSans-115\"/>\n     <use x=\"167.244141\" xlink:href=\"#DejaVuSans-115\"/>\n     <use x=\"219.34375\" xlink:href=\"#DejaVuSans-32\"/>\n     <use x=\"251.130859\" xlink:href=\"#DejaVuSans-119\"/>\n     <use x=\"332.917969\" xlink:href=\"#DejaVuSans-105\"/>\n     <use x=\"360.701172\" xlink:href=\"#DejaVuSans-116\"/>\n     <use x=\"399.910156\" xlink:href=\"#DejaVuSans-104\"/>\n     <use x=\"463.289062\" xlink:href=\"#DejaVuSans-32\"/>\n     <use x=\"495.076172\" xlink:href=\"#DejaVuSans-111\"/>\n     <use x=\"556.257812\" xlink:href=\"#DejaVuSans-112\"/>\n     <use x=\"619.734375\" xlink:href=\"#DejaVuSans-116\"/>\n     <use x=\"658.943359\" xlink:href=\"#DejaVuSans-32\"/>\n     <use x=\"690.730469\" xlink:href=\"#DejaVuSans-61\"/>\n     <use x=\"774.519531\" xlink:href=\"#DejaVuSans-32\"/>\n     <use x=\"806.306641\" xlink:href=\"#DejaVuSans-65\"/>\n     <use x=\"872.964844\" xlink:href=\"#DejaVuSans-100\"/>\n     <use x=\"936.441406\" xlink:href=\"#DejaVuSans-97\"/>\n     <use x=\"997.720703\" xlink:href=\"#DejaVuSans-109\"/>\n     <use x=\"1095.132812\" xlink:href=\"#DejaVuSans-32\"/>\n     <use x=\"1126.919922\" xlink:href=\"#DejaVuSans-97\"/>\n     <use x=\"1188.199219\" xlink:href=\"#DejaVuSans-110\"/>\n     <use x=\"1251.578125\" xlink:href=\"#DejaVuSans-100\"/>\n     <use x=\"1315.054688\" xlink:href=\"#DejaVuSans-32\"/>\n     <use x=\"1346.841797\" xlink:href=\"#DejaVuSans-108\"/>\n     <use x=\"1374.625\" xlink:href=\"#DejaVuSans-114\"/>\n     <use x=\"1415.738281\" xlink:href=\"#DejaVuSans-61\"/>\n     <use x=\"1499.527344\" xlink:href=\"#DejaVuSans-48\"/>\n     <use x=\"1563.150391\" xlink:href=\"#DejaVuSans-46\"/>\n     <use x=\"1594.9375\" xlink:href=\"#DejaVuSans-48\"/>\n     <use x=\"1658.560547\" xlink:href=\"#DejaVuSans-48\"/>\n     <use x=\"1722.183594\" xlink:href=\"#DejaVuSans-53\"/>\n    </g>\n   </g>\n   <g id=\"legend_1\">\n    <g id=\"patch_7\">\n     <path d=\"M 325.140625 59.674375 \nL 381.128125 59.674375 \nQ 383.128125 59.674375 383.128125 57.674375 \nL 383.128125 29.318125 \nQ 383.128125 27.318125 381.128125 27.318125 \nL 325.140625 27.318125 \nQ 323.140625 27.318125 323.140625 29.318125 \nL 323.140625 57.674375 \nQ 323.140625 59.674375 325.140625 59.674375 \nz\n\" style=\"fill:#ffffff;opacity:0.8;stroke:#cccccc;stroke-linejoin:miter;\"/>\n    </g>\n    <g id=\"line2d_33\">\n     <path d=\"M 327.140625 35.416562 \nL 347.140625 35.416562 \n\" style=\"fill:none;stroke:#1f77b4;stroke-linecap:square;stroke-width:1.5;\"/>\n    </g>\n    <g id=\"line2d_34\">\n     <g>\n      <use style=\"fill:#1f77b4;stroke:#1f77b4;\" x=\"337.140625\" xlink:href=\"#m81e5b1e6b3\" y=\"35.416562\"/>\n     </g>\n    </g>\n    <g id=\"text_19\">\n     <!-- Train -->\n     <defs>\n      <path d=\"M -0.296875 72.90625 \nL 61.375 72.90625 \nL 61.375 64.59375 \nL 35.5 64.59375 \nL 35.5 0 \nL 25.59375 0 \nL 25.59375 64.59375 \nL -0.296875 64.59375 \nz\n\" id=\"DejaVuSans-84\"/>\n     </defs>\n     <g transform=\"translate(355.140625 38.916562)scale(0.1 -0.1)\">\n      <use xlink:href=\"#DejaVuSans-84\"/>\n      <use x=\"46.333984\" xlink:href=\"#DejaVuSans-114\"/>\n      <use x=\"87.447266\" xlink:href=\"#DejaVuSans-97\"/>\n      <use x=\"148.726562\" xlink:href=\"#DejaVuSans-105\"/>\n      <use x=\"176.509766\" xlink:href=\"#DejaVuSans-110\"/>\n     </g>\n    </g>\n    <g id=\"line2d_35\">\n     <path d=\"M 327.140625 50.094687 \nL 347.140625 50.094687 \n\" style=\"fill:none;stroke:#ff7f0e;stroke-linecap:square;stroke-width:1.5;\"/>\n    </g>\n    <g id=\"line2d_36\">\n     <g>\n      <use style=\"fill:#ff7f0e;stroke:#ff7f0e;\" x=\"337.140625\" xlink:href=\"#mbe06c9b79b\" y=\"50.094687\"/>\n     </g>\n    </g>\n    <g id=\"text_20\">\n     <!-- Test -->\n     <defs>\n      <path d=\"M 56.203125 29.59375 \nL 56.203125 25.203125 \nL 14.890625 25.203125 \nQ 15.484375 15.921875 20.484375 11.0625 \nQ 25.484375 6.203125 34.421875 6.203125 \nQ 39.59375 6.203125 44.453125 7.46875 \nQ 49.3125 8.734375 54.109375 11.28125 \nL 54.109375 2.78125 \nQ 49.265625 0.734375 44.1875 -0.34375 \nQ 39.109375 -1.421875 33.890625 -1.421875 \nQ 20.796875 -1.421875 13.15625 6.1875 \nQ 5.515625 13.8125 5.515625 26.8125 \nQ 5.515625 40.234375 12.765625 48.109375 \nQ 20.015625 56 32.328125 56 \nQ 43.359375 56 49.78125 48.890625 \nQ 56.203125 41.796875 56.203125 29.59375 \nz\nM 47.21875 32.234375 \nQ 47.125 39.59375 43.09375 43.984375 \nQ 39.0625 48.390625 32.421875 48.390625 \nQ 24.90625 48.390625 20.390625 44.140625 \nQ 15.875 39.890625 15.1875 32.171875 \nz\n\" id=\"DejaVuSans-101\"/>\n     </defs>\n     <g transform=\"translate(355.140625 53.594687)scale(0.1 -0.1)\">\n      <use xlink:href=\"#DejaVuSans-84\"/>\n      <use x=\"44.083984\" xlink:href=\"#DejaVuSans-101\"/>\n      <use x=\"105.607422\" xlink:href=\"#DejaVuSans-115\"/>\n      <use x=\"157.707031\" xlink:href=\"#DejaVuSans-116\"/>\n     </g>\n    </g>\n   </g>\n  </g>\n </g>\n <defs>\n  <clipPath id=\"p0ca8293f8e\">\n   <rect height=\"217.44\" width=\"334.8\" x=\"53.328125\" y=\"22.318125\"/>\n  </clipPath>\n </defs>\n</svg>\n"
          },
          "metadata": {
            "needs_background": "light"
          }
        },
        {
          "output_type": "display_data",
          "data": {
            "text/plain": [
              "<Figure size 432x288 with 1 Axes>"
            ],
            "image/svg+xml": "<?xml version=\"1.0\" encoding=\"utf-8\" standalone=\"no\"?>\n<!DOCTYPE svg PUBLIC \"-//W3C//DTD SVG 1.1//EN\"\n  \"http://www.w3.org/Graphics/SVG/1.1/DTD/svg11.dtd\">\n<!-- Created with matplotlib (https://matplotlib.org/) -->\n<svg height=\"277.314375pt\" version=\"1.1\" viewBox=\"0 0 395.328125 277.314375\" width=\"395.328125pt\" xmlns=\"http://www.w3.org/2000/svg\" xmlns:xlink=\"http://www.w3.org/1999/xlink\">\n <defs>\n  <style type=\"text/css\">\n*{stroke-linecap:butt;stroke-linejoin:round;}\n  </style>\n </defs>\n <g id=\"figure_1\">\n  <g id=\"patch_1\">\n   <path d=\"M -0 277.314375 \nL 395.328125 277.314375 \nL 395.328125 0 \nL -0 0 \nz\n\" style=\"fill:none;\"/>\n  </g>\n  <g id=\"axes_1\">\n   <g id=\"patch_2\">\n    <path d=\"M 46.965625 239.758125 \nL 381.765625 239.758125 \nL 381.765625 22.318125 \nL 46.965625 22.318125 \nz\n\" style=\"fill:#ffffff;\"/>\n   </g>\n   <g id=\"matplotlib.axis_1\">\n    <g id=\"xtick_1\">\n     <g id=\"line2d_1\">\n      <path clip-path=\"url(#pde947e60a1)\" d=\"M 46.965625 239.758125 \nL 46.965625 22.318125 \n\" style=\"fill:none;stroke:#b0b0b0;stroke-linecap:square;stroke-width:0.8;\"/>\n     </g>\n     <g id=\"line2d_2\">\n      <defs>\n       <path d=\"M 0 0 \nL 0 3.5 \n\" id=\"m7ea9ca9246\" style=\"stroke:#000000;stroke-width:0.8;\"/>\n      </defs>\n      <g>\n       <use style=\"stroke:#000000;stroke-width:0.8;\" x=\"46.965625\" xlink:href=\"#m7ea9ca9246\" y=\"239.758125\"/>\n      </g>\n     </g>\n     <g id=\"text_1\">\n      <!-- 5 -->\n      <defs>\n       <path d=\"M 10.796875 72.90625 \nL 49.515625 72.90625 \nL 49.515625 64.59375 \nL 19.828125 64.59375 \nL 19.828125 46.734375 \nQ 21.96875 47.46875 24.109375 47.828125 \nQ 26.265625 48.1875 28.421875 48.1875 \nQ 40.625 48.1875 47.75 41.5 \nQ 54.890625 34.8125 54.890625 23.390625 \nQ 54.890625 11.625 47.5625 5.09375 \nQ 40.234375 -1.421875 26.90625 -1.421875 \nQ 22.3125 -1.421875 17.546875 -0.640625 \nQ 12.796875 0.140625 7.71875 1.703125 \nL 7.71875 11.625 \nQ 12.109375 9.234375 16.796875 8.0625 \nQ 21.484375 6.890625 26.703125 6.890625 \nQ 35.15625 6.890625 40.078125 11.328125 \nQ 45.015625 15.765625 45.015625 23.390625 \nQ 45.015625 31 40.078125 35.4375 \nQ 35.15625 39.890625 26.703125 39.890625 \nQ 22.75 39.890625 18.8125 39.015625 \nQ 14.890625 38.140625 10.796875 36.28125 \nz\n\" id=\"DejaVuSans-53\"/>\n      </defs>\n      <g transform=\"translate(43.784375 254.356562)scale(0.1 -0.1)\">\n       <use xlink:href=\"#DejaVuSans-53\"/>\n      </g>\n     </g>\n    </g>\n    <g id=\"xtick_2\">\n     <g id=\"line2d_3\">\n      <path clip-path=\"url(#pde947e60a1)\" d=\"M 84.165625 239.758125 \nL 84.165625 22.318125 \n\" style=\"fill:none;stroke:#b0b0b0;stroke-linecap:square;stroke-width:0.8;\"/>\n     </g>\n     <g id=\"line2d_4\">\n      <g>\n       <use style=\"stroke:#000000;stroke-width:0.8;\" x=\"84.165625\" xlink:href=\"#m7ea9ca9246\" y=\"239.758125\"/>\n      </g>\n     </g>\n     <g id=\"text_2\">\n      <!-- 10 -->\n      <defs>\n       <path d=\"M 12.40625 8.296875 \nL 28.515625 8.296875 \nL 28.515625 63.921875 \nL 10.984375 60.40625 \nL 10.984375 69.390625 \nL 28.421875 72.90625 \nL 38.28125 72.90625 \nL 38.28125 8.296875 \nL 54.390625 8.296875 \nL 54.390625 0 \nL 12.40625 0 \nz\n\" id=\"DejaVuSans-49\"/>\n       <path d=\"M 31.78125 66.40625 \nQ 24.171875 66.40625 20.328125 58.90625 \nQ 16.5 51.421875 16.5 36.375 \nQ 16.5 21.390625 20.328125 13.890625 \nQ 24.171875 6.390625 31.78125 6.390625 \nQ 39.453125 6.390625 43.28125 13.890625 \nQ 47.125 21.390625 47.125 36.375 \nQ 47.125 51.421875 43.28125 58.90625 \nQ 39.453125 66.40625 31.78125 66.40625 \nz\nM 31.78125 74.21875 \nQ 44.046875 74.21875 50.515625 64.515625 \nQ 56.984375 54.828125 56.984375 36.375 \nQ 56.984375 17.96875 50.515625 8.265625 \nQ 44.046875 -1.421875 31.78125 -1.421875 \nQ 19.53125 -1.421875 13.0625 8.265625 \nQ 6.59375 17.96875 6.59375 36.375 \nQ 6.59375 54.828125 13.0625 64.515625 \nQ 19.53125 74.21875 31.78125 74.21875 \nz\n\" id=\"DejaVuSans-48\"/>\n      </defs>\n      <g transform=\"translate(77.803125 254.356562)scale(0.1 -0.1)\">\n       <use xlink:href=\"#DejaVuSans-49\"/>\n       <use x=\"63.623047\" xlink:href=\"#DejaVuSans-48\"/>\n      </g>\n     </g>\n    </g>\n    <g id=\"xtick_3\">\n     <g id=\"line2d_5\">\n      <path clip-path=\"url(#pde947e60a1)\" d=\"M 121.365625 239.758125 \nL 121.365625 22.318125 \n\" style=\"fill:none;stroke:#b0b0b0;stroke-linecap:square;stroke-width:0.8;\"/>\n     </g>\n     <g id=\"line2d_6\">\n      <g>\n       <use style=\"stroke:#000000;stroke-width:0.8;\" x=\"121.365625\" xlink:href=\"#m7ea9ca9246\" y=\"239.758125\"/>\n      </g>\n     </g>\n     <g id=\"text_3\">\n      <!-- 15 -->\n      <g transform=\"translate(115.003125 254.356562)scale(0.1 -0.1)\">\n       <use xlink:href=\"#DejaVuSans-49\"/>\n       <use x=\"63.623047\" xlink:href=\"#DejaVuSans-53\"/>\n      </g>\n     </g>\n    </g>\n    <g id=\"xtick_4\">\n     <g id=\"line2d_7\">\n      <path clip-path=\"url(#pde947e60a1)\" d=\"M 158.565625 239.758125 \nL 158.565625 22.318125 \n\" style=\"fill:none;stroke:#b0b0b0;stroke-linecap:square;stroke-width:0.8;\"/>\n     </g>\n     <g id=\"line2d_8\">\n      <g>\n       <use style=\"stroke:#000000;stroke-width:0.8;\" x=\"158.565625\" xlink:href=\"#m7ea9ca9246\" y=\"239.758125\"/>\n      </g>\n     </g>\n     <g id=\"text_4\">\n      <!-- 20 -->\n      <defs>\n       <path d=\"M 19.1875 8.296875 \nL 53.609375 8.296875 \nL 53.609375 0 \nL 7.328125 0 \nL 7.328125 8.296875 \nQ 12.9375 14.109375 22.625 23.890625 \nQ 32.328125 33.6875 34.8125 36.53125 \nQ 39.546875 41.84375 41.421875 45.53125 \nQ 43.3125 49.21875 43.3125 52.78125 \nQ 43.3125 58.59375 39.234375 62.25 \nQ 35.15625 65.921875 28.609375 65.921875 \nQ 23.96875 65.921875 18.8125 64.3125 \nQ 13.671875 62.703125 7.8125 59.421875 \nL 7.8125 69.390625 \nQ 13.765625 71.78125 18.9375 73 \nQ 24.125 74.21875 28.421875 74.21875 \nQ 39.75 74.21875 46.484375 68.546875 \nQ 53.21875 62.890625 53.21875 53.421875 \nQ 53.21875 48.921875 51.53125 44.890625 \nQ 49.859375 40.875 45.40625 35.40625 \nQ 44.1875 33.984375 37.640625 27.21875 \nQ 31.109375 20.453125 19.1875 8.296875 \nz\n\" id=\"DejaVuSans-50\"/>\n      </defs>\n      <g transform=\"translate(152.203125 254.356562)scale(0.1 -0.1)\">\n       <use xlink:href=\"#DejaVuSans-50\"/>\n       <use x=\"63.623047\" xlink:href=\"#DejaVuSans-48\"/>\n      </g>\n     </g>\n    </g>\n    <g id=\"xtick_5\">\n     <g id=\"line2d_9\">\n      <path clip-path=\"url(#pde947e60a1)\" d=\"M 195.765625 239.758125 \nL 195.765625 22.318125 \n\" style=\"fill:none;stroke:#b0b0b0;stroke-linecap:square;stroke-width:0.8;\"/>\n     </g>\n     <g id=\"line2d_10\">\n      <g>\n       <use style=\"stroke:#000000;stroke-width:0.8;\" x=\"195.765625\" xlink:href=\"#m7ea9ca9246\" y=\"239.758125\"/>\n      </g>\n     </g>\n     <g id=\"text_5\">\n      <!-- 25 -->\n      <g transform=\"translate(189.403125 254.356562)scale(0.1 -0.1)\">\n       <use xlink:href=\"#DejaVuSans-50\"/>\n       <use x=\"63.623047\" xlink:href=\"#DejaVuSans-53\"/>\n      </g>\n     </g>\n    </g>\n    <g id=\"xtick_6\">\n     <g id=\"line2d_11\">\n      <path clip-path=\"url(#pde947e60a1)\" d=\"M 232.965625 239.758125 \nL 232.965625 22.318125 \n\" style=\"fill:none;stroke:#b0b0b0;stroke-linecap:square;stroke-width:0.8;\"/>\n     </g>\n     <g id=\"line2d_12\">\n      <g>\n       <use style=\"stroke:#000000;stroke-width:0.8;\" x=\"232.965625\" xlink:href=\"#m7ea9ca9246\" y=\"239.758125\"/>\n      </g>\n     </g>\n     <g id=\"text_6\">\n      <!-- 30 -->\n      <defs>\n       <path d=\"M 40.578125 39.3125 \nQ 47.65625 37.796875 51.625 33 \nQ 55.609375 28.21875 55.609375 21.1875 \nQ 55.609375 10.40625 48.1875 4.484375 \nQ 40.765625 -1.421875 27.09375 -1.421875 \nQ 22.515625 -1.421875 17.65625 -0.515625 \nQ 12.796875 0.390625 7.625 2.203125 \nL 7.625 11.71875 \nQ 11.71875 9.328125 16.59375 8.109375 \nQ 21.484375 6.890625 26.8125 6.890625 \nQ 36.078125 6.890625 40.9375 10.546875 \nQ 45.796875 14.203125 45.796875 21.1875 \nQ 45.796875 27.640625 41.28125 31.265625 \nQ 36.765625 34.90625 28.71875 34.90625 \nL 20.21875 34.90625 \nL 20.21875 43.015625 \nL 29.109375 43.015625 \nQ 36.375 43.015625 40.234375 45.921875 \nQ 44.09375 48.828125 44.09375 54.296875 \nQ 44.09375 59.90625 40.109375 62.90625 \nQ 36.140625 65.921875 28.71875 65.921875 \nQ 24.65625 65.921875 20.015625 65.03125 \nQ 15.375 64.15625 9.8125 62.3125 \nL 9.8125 71.09375 \nQ 15.4375 72.65625 20.34375 73.4375 \nQ 25.25 74.21875 29.59375 74.21875 \nQ 40.828125 74.21875 47.359375 69.109375 \nQ 53.90625 64.015625 53.90625 55.328125 \nQ 53.90625 49.265625 50.4375 45.09375 \nQ 46.96875 40.921875 40.578125 39.3125 \nz\n\" id=\"DejaVuSans-51\"/>\n      </defs>\n      <g transform=\"translate(226.603125 254.356562)scale(0.1 -0.1)\">\n       <use xlink:href=\"#DejaVuSans-51\"/>\n       <use x=\"63.623047\" xlink:href=\"#DejaVuSans-48\"/>\n      </g>\n     </g>\n    </g>\n    <g id=\"xtick_7\">\n     <g id=\"line2d_13\">\n      <path clip-path=\"url(#pde947e60a1)\" d=\"M 270.165625 239.758125 \nL 270.165625 22.318125 \n\" style=\"fill:none;stroke:#b0b0b0;stroke-linecap:square;stroke-width:0.8;\"/>\n     </g>\n     <g id=\"line2d_14\">\n      <g>\n       <use style=\"stroke:#000000;stroke-width:0.8;\" x=\"270.165625\" xlink:href=\"#m7ea9ca9246\" y=\"239.758125\"/>\n      </g>\n     </g>\n     <g id=\"text_7\">\n      <!-- 35 -->\n      <g transform=\"translate(263.803125 254.356562)scale(0.1 -0.1)\">\n       <use xlink:href=\"#DejaVuSans-51\"/>\n       <use x=\"63.623047\" xlink:href=\"#DejaVuSans-53\"/>\n      </g>\n     </g>\n    </g>\n    <g id=\"xtick_8\">\n     <g id=\"line2d_15\">\n      <path clip-path=\"url(#pde947e60a1)\" d=\"M 307.365625 239.758125 \nL 307.365625 22.318125 \n\" style=\"fill:none;stroke:#b0b0b0;stroke-linecap:square;stroke-width:0.8;\"/>\n     </g>\n     <g id=\"line2d_16\">\n      <g>\n       <use style=\"stroke:#000000;stroke-width:0.8;\" x=\"307.365625\" xlink:href=\"#m7ea9ca9246\" y=\"239.758125\"/>\n      </g>\n     </g>\n     <g id=\"text_8\">\n      <!-- 40 -->\n      <defs>\n       <path d=\"M 37.796875 64.3125 \nL 12.890625 25.390625 \nL 37.796875 25.390625 \nz\nM 35.203125 72.90625 \nL 47.609375 72.90625 \nL 47.609375 25.390625 \nL 58.015625 25.390625 \nL 58.015625 17.1875 \nL 47.609375 17.1875 \nL 47.609375 0 \nL 37.796875 0 \nL 37.796875 17.1875 \nL 4.890625 17.1875 \nL 4.890625 26.703125 \nz\n\" id=\"DejaVuSans-52\"/>\n      </defs>\n      <g transform=\"translate(301.003125 254.356562)scale(0.1 -0.1)\">\n       <use xlink:href=\"#DejaVuSans-52\"/>\n       <use x=\"63.623047\" xlink:href=\"#DejaVuSans-48\"/>\n      </g>\n     </g>\n    </g>\n    <g id=\"xtick_9\">\n     <g id=\"line2d_17\">\n      <path clip-path=\"url(#pde947e60a1)\" d=\"M 344.565625 239.758125 \nL 344.565625 22.318125 \n\" style=\"fill:none;stroke:#b0b0b0;stroke-linecap:square;stroke-width:0.8;\"/>\n     </g>\n     <g id=\"line2d_18\">\n      <g>\n       <use style=\"stroke:#000000;stroke-width:0.8;\" x=\"344.565625\" xlink:href=\"#m7ea9ca9246\" y=\"239.758125\"/>\n      </g>\n     </g>\n     <g id=\"text_9\">\n      <!-- 45 -->\n      <g transform=\"translate(338.203125 254.356562)scale(0.1 -0.1)\">\n       <use xlink:href=\"#DejaVuSans-52\"/>\n       <use x=\"63.623047\" xlink:href=\"#DejaVuSans-53\"/>\n      </g>\n     </g>\n    </g>\n    <g id=\"xtick_10\">\n     <g id=\"line2d_19\">\n      <path clip-path=\"url(#pde947e60a1)\" d=\"M 381.765625 239.758125 \nL 381.765625 22.318125 \n\" style=\"fill:none;stroke:#b0b0b0;stroke-linecap:square;stroke-width:0.8;\"/>\n     </g>\n     <g id=\"line2d_20\">\n      <g>\n       <use style=\"stroke:#000000;stroke-width:0.8;\" x=\"381.765625\" xlink:href=\"#m7ea9ca9246\" y=\"239.758125\"/>\n      </g>\n     </g>\n     <g id=\"text_10\">\n      <!-- 50 -->\n      <g transform=\"translate(375.403125 254.356562)scale(0.1 -0.1)\">\n       <use xlink:href=\"#DejaVuSans-53\"/>\n       <use x=\"63.623047\" xlink:href=\"#DejaVuSans-48\"/>\n      </g>\n     </g>\n    </g>\n    <g id=\"text_11\">\n     <!-- Epochs -->\n     <defs>\n      <path d=\"M 9.8125 72.90625 \nL 55.90625 72.90625 \nL 55.90625 64.59375 \nL 19.671875 64.59375 \nL 19.671875 43.015625 \nL 54.390625 43.015625 \nL 54.390625 34.71875 \nL 19.671875 34.71875 \nL 19.671875 8.296875 \nL 56.78125 8.296875 \nL 56.78125 0 \nL 9.8125 0 \nz\n\" id=\"DejaVuSans-69\"/>\n      <path d=\"M 18.109375 8.203125 \nL 18.109375 -20.796875 \nL 9.078125 -20.796875 \nL 9.078125 54.6875 \nL 18.109375 54.6875 \nL 18.109375 46.390625 \nQ 20.953125 51.265625 25.265625 53.625 \nQ 29.59375 56 35.59375 56 \nQ 45.5625 56 51.78125 48.09375 \nQ 58.015625 40.1875 58.015625 27.296875 \nQ 58.015625 14.40625 51.78125 6.484375 \nQ 45.5625 -1.421875 35.59375 -1.421875 \nQ 29.59375 -1.421875 25.265625 0.953125 \nQ 20.953125 3.328125 18.109375 8.203125 \nz\nM 48.6875 27.296875 \nQ 48.6875 37.203125 44.609375 42.84375 \nQ 40.53125 48.484375 33.40625 48.484375 \nQ 26.265625 48.484375 22.1875 42.84375 \nQ 18.109375 37.203125 18.109375 27.296875 \nQ 18.109375 17.390625 22.1875 11.75 \nQ 26.265625 6.109375 33.40625 6.109375 \nQ 40.53125 6.109375 44.609375 11.75 \nQ 48.6875 17.390625 48.6875 27.296875 \nz\n\" id=\"DejaVuSans-112\"/>\n      <path d=\"M 30.609375 48.390625 \nQ 23.390625 48.390625 19.1875 42.75 \nQ 14.984375 37.109375 14.984375 27.296875 \nQ 14.984375 17.484375 19.15625 11.84375 \nQ 23.34375 6.203125 30.609375 6.203125 \nQ 37.796875 6.203125 41.984375 11.859375 \nQ 46.1875 17.53125 46.1875 27.296875 \nQ 46.1875 37.015625 41.984375 42.703125 \nQ 37.796875 48.390625 30.609375 48.390625 \nz\nM 30.609375 56 \nQ 42.328125 56 49.015625 48.375 \nQ 55.71875 40.765625 55.71875 27.296875 \nQ 55.71875 13.875 49.015625 6.21875 \nQ 42.328125 -1.421875 30.609375 -1.421875 \nQ 18.84375 -1.421875 12.171875 6.21875 \nQ 5.515625 13.875 5.515625 27.296875 \nQ 5.515625 40.765625 12.171875 48.375 \nQ 18.84375 56 30.609375 56 \nz\n\" id=\"DejaVuSans-111\"/>\n      <path d=\"M 48.78125 52.59375 \nL 48.78125 44.1875 \nQ 44.96875 46.296875 41.140625 47.34375 \nQ 37.3125 48.390625 33.40625 48.390625 \nQ 24.65625 48.390625 19.8125 42.84375 \nQ 14.984375 37.3125 14.984375 27.296875 \nQ 14.984375 17.28125 19.8125 11.734375 \nQ 24.65625 6.203125 33.40625 6.203125 \nQ 37.3125 6.203125 41.140625 7.25 \nQ 44.96875 8.296875 48.78125 10.40625 \nL 48.78125 2.09375 \nQ 45.015625 0.34375 40.984375 -0.53125 \nQ 36.96875 -1.421875 32.421875 -1.421875 \nQ 20.0625 -1.421875 12.78125 6.34375 \nQ 5.515625 14.109375 5.515625 27.296875 \nQ 5.515625 40.671875 12.859375 48.328125 \nQ 20.21875 56 33.015625 56 \nQ 37.15625 56 41.109375 55.140625 \nQ 45.0625 54.296875 48.78125 52.59375 \nz\n\" id=\"DejaVuSans-99\"/>\n      <path d=\"M 54.890625 33.015625 \nL 54.890625 0 \nL 45.90625 0 \nL 45.90625 32.71875 \nQ 45.90625 40.484375 42.875 44.328125 \nQ 39.84375 48.1875 33.796875 48.1875 \nQ 26.515625 48.1875 22.3125 43.546875 \nQ 18.109375 38.921875 18.109375 30.90625 \nL 18.109375 0 \nL 9.078125 0 \nL 9.078125 75.984375 \nL 18.109375 75.984375 \nL 18.109375 46.1875 \nQ 21.34375 51.125 25.703125 53.5625 \nQ 30.078125 56 35.796875 56 \nQ 45.21875 56 50.046875 50.171875 \nQ 54.890625 44.34375 54.890625 33.015625 \nz\n\" id=\"DejaVuSans-104\"/>\n      <path d=\"M 44.28125 53.078125 \nL 44.28125 44.578125 \nQ 40.484375 46.53125 36.375 47.5 \nQ 32.28125 48.484375 27.875 48.484375 \nQ 21.1875 48.484375 17.84375 46.4375 \nQ 14.5 44.390625 14.5 40.28125 \nQ 14.5 37.15625 16.890625 35.375 \nQ 19.28125 33.59375 26.515625 31.984375 \nL 29.59375 31.296875 \nQ 39.15625 29.25 43.1875 25.515625 \nQ 47.21875 21.78125 47.21875 15.09375 \nQ 47.21875 7.46875 41.1875 3.015625 \nQ 35.15625 -1.421875 24.609375 -1.421875 \nQ 20.21875 -1.421875 15.453125 -0.5625 \nQ 10.6875 0.296875 5.421875 2 \nL 5.421875 11.28125 \nQ 10.40625 8.6875 15.234375 7.390625 \nQ 20.0625 6.109375 24.8125 6.109375 \nQ 31.15625 6.109375 34.5625 8.28125 \nQ 37.984375 10.453125 37.984375 14.40625 \nQ 37.984375 18.0625 35.515625 20.015625 \nQ 33.0625 21.96875 24.703125 23.78125 \nL 21.578125 24.515625 \nQ 13.234375 26.265625 9.515625 29.90625 \nQ 5.8125 33.546875 5.8125 39.890625 \nQ 5.8125 47.609375 11.28125 51.796875 \nQ 16.75 56 26.8125 56 \nQ 31.78125 56 36.171875 55.265625 \nQ 40.578125 54.546875 44.28125 53.078125 \nz\n\" id=\"DejaVuSans-115\"/>\n     </defs>\n     <g transform=\"translate(196.45 268.034687)scale(0.1 -0.1)\">\n      <use xlink:href=\"#DejaVuSans-69\"/>\n      <use x=\"63.183594\" xlink:href=\"#DejaVuSans-112\"/>\n      <use x=\"126.660156\" xlink:href=\"#DejaVuSans-111\"/>\n      <use x=\"187.841797\" xlink:href=\"#DejaVuSans-99\"/>\n      <use x=\"242.822266\" xlink:href=\"#DejaVuSans-104\"/>\n      <use x=\"306.201172\" xlink:href=\"#DejaVuSans-115\"/>\n     </g>\n    </g>\n   </g>\n   <g id=\"matplotlib.axis_2\">\n    <g id=\"ytick_1\">\n     <g id=\"line2d_21\">\n      <path clip-path=\"url(#pde947e60a1)\" d=\"M 46.965625 239.758125 \nL 381.765625 239.758125 \n\" style=\"fill:none;stroke:#b0b0b0;stroke-linecap:square;stroke-width:0.8;\"/>\n     </g>\n     <g id=\"line2d_22\">\n      <defs>\n       <path d=\"M 0 0 \nL -3.5 0 \n\" id=\"me6799ec8de\" style=\"stroke:#000000;stroke-width:0.8;\"/>\n      </defs>\n      <g>\n       <use style=\"stroke:#000000;stroke-width:0.8;\" x=\"46.965625\" xlink:href=\"#me6799ec8de\" y=\"239.758125\"/>\n      </g>\n     </g>\n     <g id=\"text_12\">\n      <!-- 0 -->\n      <g transform=\"translate(33.603125 243.557344)scale(0.1 -0.1)\">\n       <use xlink:href=\"#DejaVuSans-48\"/>\n      </g>\n     </g>\n    </g>\n    <g id=\"ytick_2\">\n     <g id=\"line2d_23\">\n      <path clip-path=\"url(#pde947e60a1)\" d=\"M 46.965625 196.270125 \nL 381.765625 196.270125 \n\" style=\"fill:none;stroke:#b0b0b0;stroke-linecap:square;stroke-width:0.8;\"/>\n     </g>\n     <g id=\"line2d_24\">\n      <g>\n       <use style=\"stroke:#000000;stroke-width:0.8;\" x=\"46.965625\" xlink:href=\"#me6799ec8de\" y=\"196.270125\"/>\n      </g>\n     </g>\n     <g id=\"text_13\">\n      <!-- 20 -->\n      <g transform=\"translate(27.240625 200.069344)scale(0.1 -0.1)\">\n       <use xlink:href=\"#DejaVuSans-50\"/>\n       <use x=\"63.623047\" xlink:href=\"#DejaVuSans-48\"/>\n      </g>\n     </g>\n    </g>\n    <g id=\"ytick_3\">\n     <g id=\"line2d_25\">\n      <path clip-path=\"url(#pde947e60a1)\" d=\"M 46.965625 152.782125 \nL 381.765625 152.782125 \n\" style=\"fill:none;stroke:#b0b0b0;stroke-linecap:square;stroke-width:0.8;\"/>\n     </g>\n     <g id=\"line2d_26\">\n      <g>\n       <use style=\"stroke:#000000;stroke-width:0.8;\" x=\"46.965625\" xlink:href=\"#me6799ec8de\" y=\"152.782125\"/>\n      </g>\n     </g>\n     <g id=\"text_14\">\n      <!-- 40 -->\n      <g transform=\"translate(27.240625 156.581344)scale(0.1 -0.1)\">\n       <use xlink:href=\"#DejaVuSans-52\"/>\n       <use x=\"63.623047\" xlink:href=\"#DejaVuSans-48\"/>\n      </g>\n     </g>\n    </g>\n    <g id=\"ytick_4\">\n     <g id=\"line2d_27\">\n      <path clip-path=\"url(#pde947e60a1)\" d=\"M 46.965625 109.294125 \nL 381.765625 109.294125 \n\" style=\"fill:none;stroke:#b0b0b0;stroke-linecap:square;stroke-width:0.8;\"/>\n     </g>\n     <g id=\"line2d_28\">\n      <g>\n       <use style=\"stroke:#000000;stroke-width:0.8;\" x=\"46.965625\" xlink:href=\"#me6799ec8de\" y=\"109.294125\"/>\n      </g>\n     </g>\n     <g id=\"text_15\">\n      <!-- 60 -->\n      <defs>\n       <path d=\"M 33.015625 40.375 \nQ 26.375 40.375 22.484375 35.828125 \nQ 18.609375 31.296875 18.609375 23.390625 \nQ 18.609375 15.53125 22.484375 10.953125 \nQ 26.375 6.390625 33.015625 6.390625 \nQ 39.65625 6.390625 43.53125 10.953125 \nQ 47.40625 15.53125 47.40625 23.390625 \nQ 47.40625 31.296875 43.53125 35.828125 \nQ 39.65625 40.375 33.015625 40.375 \nz\nM 52.59375 71.296875 \nL 52.59375 62.3125 \nQ 48.875 64.0625 45.09375 64.984375 \nQ 41.3125 65.921875 37.59375 65.921875 \nQ 27.828125 65.921875 22.671875 59.328125 \nQ 17.53125 52.734375 16.796875 39.40625 \nQ 19.671875 43.65625 24.015625 45.921875 \nQ 28.375 48.1875 33.59375 48.1875 \nQ 44.578125 48.1875 50.953125 41.515625 \nQ 57.328125 34.859375 57.328125 23.390625 \nQ 57.328125 12.15625 50.6875 5.359375 \nQ 44.046875 -1.421875 33.015625 -1.421875 \nQ 20.359375 -1.421875 13.671875 8.265625 \nQ 6.984375 17.96875 6.984375 36.375 \nQ 6.984375 53.65625 15.1875 63.9375 \nQ 23.390625 74.21875 37.203125 74.21875 \nQ 40.921875 74.21875 44.703125 73.484375 \nQ 48.484375 72.75 52.59375 71.296875 \nz\n\" id=\"DejaVuSans-54\"/>\n      </defs>\n      <g transform=\"translate(27.240625 113.093344)scale(0.1 -0.1)\">\n       <use xlink:href=\"#DejaVuSans-54\"/>\n       <use x=\"63.623047\" xlink:href=\"#DejaVuSans-48\"/>\n      </g>\n     </g>\n    </g>\n    <g id=\"ytick_5\">\n     <g id=\"line2d_29\">\n      <path clip-path=\"url(#pde947e60a1)\" d=\"M 46.965625 65.806125 \nL 381.765625 65.806125 \n\" style=\"fill:none;stroke:#b0b0b0;stroke-linecap:square;stroke-width:0.8;\"/>\n     </g>\n     <g id=\"line2d_30\">\n      <g>\n       <use style=\"stroke:#000000;stroke-width:0.8;\" x=\"46.965625\" xlink:href=\"#me6799ec8de\" y=\"65.806125\"/>\n      </g>\n     </g>\n     <g id=\"text_16\">\n      <!-- 80 -->\n      <defs>\n       <path d=\"M 31.78125 34.625 \nQ 24.75 34.625 20.71875 30.859375 \nQ 16.703125 27.09375 16.703125 20.515625 \nQ 16.703125 13.921875 20.71875 10.15625 \nQ 24.75 6.390625 31.78125 6.390625 \nQ 38.8125 6.390625 42.859375 10.171875 \nQ 46.921875 13.96875 46.921875 20.515625 \nQ 46.921875 27.09375 42.890625 30.859375 \nQ 38.875 34.625 31.78125 34.625 \nz\nM 21.921875 38.8125 \nQ 15.578125 40.375 12.03125 44.71875 \nQ 8.5 49.078125 8.5 55.328125 \nQ 8.5 64.0625 14.71875 69.140625 \nQ 20.953125 74.21875 31.78125 74.21875 \nQ 42.671875 74.21875 48.875 69.140625 \nQ 55.078125 64.0625 55.078125 55.328125 \nQ 55.078125 49.078125 51.53125 44.71875 \nQ 48 40.375 41.703125 38.8125 \nQ 48.828125 37.15625 52.796875 32.3125 \nQ 56.78125 27.484375 56.78125 20.515625 \nQ 56.78125 9.90625 50.3125 4.234375 \nQ 43.84375 -1.421875 31.78125 -1.421875 \nQ 19.734375 -1.421875 13.25 4.234375 \nQ 6.78125 9.90625 6.78125 20.515625 \nQ 6.78125 27.484375 10.78125 32.3125 \nQ 14.796875 37.15625 21.921875 38.8125 \nz\nM 18.3125 54.390625 \nQ 18.3125 48.734375 21.84375 45.5625 \nQ 25.390625 42.390625 31.78125 42.390625 \nQ 38.140625 42.390625 41.71875 45.5625 \nQ 45.3125 48.734375 45.3125 54.390625 \nQ 45.3125 60.0625 41.71875 63.234375 \nQ 38.140625 66.40625 31.78125 66.40625 \nQ 25.390625 66.40625 21.84375 63.234375 \nQ 18.3125 60.0625 18.3125 54.390625 \nz\n\" id=\"DejaVuSans-56\"/>\n      </defs>\n      <g transform=\"translate(27.240625 69.605344)scale(0.1 -0.1)\">\n       <use xlink:href=\"#DejaVuSans-56\"/>\n       <use x=\"63.623047\" xlink:href=\"#DejaVuSans-48\"/>\n      </g>\n     </g>\n    </g>\n    <g id=\"ytick_6\">\n     <g id=\"line2d_31\">\n      <path clip-path=\"url(#pde947e60a1)\" d=\"M 46.965625 22.318125 \nL 381.765625 22.318125 \n\" style=\"fill:none;stroke:#b0b0b0;stroke-linecap:square;stroke-width:0.8;\"/>\n     </g>\n     <g id=\"line2d_32\">\n      <g>\n       <use style=\"stroke:#000000;stroke-width:0.8;\" x=\"46.965625\" xlink:href=\"#me6799ec8de\" y=\"22.318125\"/>\n      </g>\n     </g>\n     <g id=\"text_17\">\n      <!-- 100 -->\n      <g transform=\"translate(20.878125 26.117344)scale(0.1 -0.1)\">\n       <use xlink:href=\"#DejaVuSans-49\"/>\n       <use x=\"63.623047\" xlink:href=\"#DejaVuSans-48\"/>\n       <use x=\"127.246094\" xlink:href=\"#DejaVuSans-48\"/>\n      </g>\n     </g>\n    </g>\n    <g id=\"text_18\">\n     <!-- Loss -->\n     <defs>\n      <path d=\"M 9.8125 72.90625 \nL 19.671875 72.90625 \nL 19.671875 8.296875 \nL 55.171875 8.296875 \nL 55.171875 0 \nL 9.8125 0 \nz\n\" id=\"DejaVuSans-76\"/>\n     </defs>\n     <g transform=\"translate(14.798438 142.005312)rotate(-90)scale(0.1 -0.1)\">\n      <use xlink:href=\"#DejaVuSans-76\"/>\n      <use x=\"53.962891\" xlink:href=\"#DejaVuSans-111\"/>\n      <use x=\"115.144531\" xlink:href=\"#DejaVuSans-115\"/>\n      <use x=\"167.244141\" xlink:href=\"#DejaVuSans-115\"/>\n     </g>\n    </g>\n   </g>\n   <g id=\"line2d_33\">\n    <path clip-path=\"url(#pde947e60a1)\" d=\"M 128.091381 -1 \nL 128.805625 20.577245 \nL 136.245625 143.341955 \nL 143.685625 199.581746 \nL 151.125625 206.033306 \nL 158.565625 189.242747 \nL 166.005625 167.327375 \nL 173.445625 146.991928 \nL 180.885625 161.885348 \nL 188.325625 167.138638 \nL 195.765625 184.555547 \nL 203.205625 191.818315 \nL 210.645625 202.875063 \nL 218.085625 204.047428 \nL 225.525625 206.282332 \nL 232.965625 207.073231 \nL 240.405625 201.486494 \nL 247.845625 201.940429 \nL 255.285625 208.309356 \nL 262.725625 207.927044 \nL 270.165625 207.928497 \nL 277.605625 204.275588 \nL 285.045625 209.599991 \nL 292.485625 207.081424 \nL 299.925625 204.601471 \nL 307.365625 205.011193 \nL 314.805625 207.210127 \nL 322.245625 205.737437 \nL 329.685625 204.65388 \nL 337.125625 205.655209 \nL 344.565625 206.192744 \nL 352.005625 207.513102 \nL 359.445625 207.324112 \nL 366.885625 207.506337 \nL 374.325625 207.482997 \n\" style=\"fill:none;stroke:#1f77b4;stroke-linecap:square;stroke-width:1.5;\"/>\n    <defs>\n     <path d=\"M 0 2 \nC 0.530406 2 1.03916 1.789267 1.414214 1.414214 \nC 1.789267 1.03916 2 0.530406 2 0 \nC 2 -0.530406 1.789267 -1.03916 1.414214 -1.414214 \nC 1.03916 -1.789267 0.530406 -2 0 -2 \nC -0.530406 -2 -1.03916 -1.789267 -1.414214 -1.414214 \nC -1.789267 -1.03916 -2 -0.530406 -2 0 \nC -2 0.530406 -1.789267 1.03916 -1.414214 1.414214 \nC -1.03916 1.789267 -0.530406 2 0 2 \nz\n\" id=\"mdb9a336e4b\" style=\"stroke:#1f77b4;\"/>\n    </defs>\n    <g clip-path=\"url(#pde947e60a1)\">\n     <use style=\"fill:#1f77b4;stroke:#1f77b4;\" x=\"128.091381\" xlink:href=\"#mdb9a336e4b\" y=\"-1\"/>\n     <use style=\"fill:#1f77b4;stroke:#1f77b4;\" x=\"128.805625\" xlink:href=\"#mdb9a336e4b\" y=\"20.577245\"/>\n     <use style=\"fill:#1f77b4;stroke:#1f77b4;\" x=\"136.245625\" xlink:href=\"#mdb9a336e4b\" y=\"143.341955\"/>\n     <use style=\"fill:#1f77b4;stroke:#1f77b4;\" x=\"143.685625\" xlink:href=\"#mdb9a336e4b\" y=\"199.581746\"/>\n     <use style=\"fill:#1f77b4;stroke:#1f77b4;\" x=\"151.125625\" xlink:href=\"#mdb9a336e4b\" y=\"206.033306\"/>\n     <use style=\"fill:#1f77b4;stroke:#1f77b4;\" x=\"158.565625\" xlink:href=\"#mdb9a336e4b\" y=\"189.242747\"/>\n     <use style=\"fill:#1f77b4;stroke:#1f77b4;\" x=\"166.005625\" xlink:href=\"#mdb9a336e4b\" y=\"167.327375\"/>\n     <use style=\"fill:#1f77b4;stroke:#1f77b4;\" x=\"173.445625\" xlink:href=\"#mdb9a336e4b\" y=\"146.991928\"/>\n     <use style=\"fill:#1f77b4;stroke:#1f77b4;\" x=\"180.885625\" xlink:href=\"#mdb9a336e4b\" y=\"161.885348\"/>\n     <use style=\"fill:#1f77b4;stroke:#1f77b4;\" x=\"188.325625\" xlink:href=\"#mdb9a336e4b\" y=\"167.138638\"/>\n     <use style=\"fill:#1f77b4;stroke:#1f77b4;\" x=\"195.765625\" xlink:href=\"#mdb9a336e4b\" y=\"184.555547\"/>\n     <use style=\"fill:#1f77b4;stroke:#1f77b4;\" x=\"203.205625\" xlink:href=\"#mdb9a336e4b\" y=\"191.818315\"/>\n     <use style=\"fill:#1f77b4;stroke:#1f77b4;\" x=\"210.645625\" xlink:href=\"#mdb9a336e4b\" y=\"202.875063\"/>\n     <use style=\"fill:#1f77b4;stroke:#1f77b4;\" x=\"218.085625\" xlink:href=\"#mdb9a336e4b\" y=\"204.047428\"/>\n     <use style=\"fill:#1f77b4;stroke:#1f77b4;\" x=\"225.525625\" xlink:href=\"#mdb9a336e4b\" y=\"206.282332\"/>\n     <use style=\"fill:#1f77b4;stroke:#1f77b4;\" x=\"232.965625\" xlink:href=\"#mdb9a336e4b\" y=\"207.073231\"/>\n     <use style=\"fill:#1f77b4;stroke:#1f77b4;\" x=\"240.405625\" xlink:href=\"#mdb9a336e4b\" y=\"201.486494\"/>\n     <use style=\"fill:#1f77b4;stroke:#1f77b4;\" x=\"247.845625\" xlink:href=\"#mdb9a336e4b\" y=\"201.940429\"/>\n     <use style=\"fill:#1f77b4;stroke:#1f77b4;\" x=\"255.285625\" xlink:href=\"#mdb9a336e4b\" y=\"208.309356\"/>\n     <use style=\"fill:#1f77b4;stroke:#1f77b4;\" x=\"262.725625\" xlink:href=\"#mdb9a336e4b\" y=\"207.927044\"/>\n     <use style=\"fill:#1f77b4;stroke:#1f77b4;\" x=\"270.165625\" xlink:href=\"#mdb9a336e4b\" y=\"207.928497\"/>\n     <use style=\"fill:#1f77b4;stroke:#1f77b4;\" x=\"277.605625\" xlink:href=\"#mdb9a336e4b\" y=\"204.275588\"/>\n     <use style=\"fill:#1f77b4;stroke:#1f77b4;\" x=\"285.045625\" xlink:href=\"#mdb9a336e4b\" y=\"209.599991\"/>\n     <use style=\"fill:#1f77b4;stroke:#1f77b4;\" x=\"292.485625\" xlink:href=\"#mdb9a336e4b\" y=\"207.081424\"/>\n     <use style=\"fill:#1f77b4;stroke:#1f77b4;\" x=\"299.925625\" xlink:href=\"#mdb9a336e4b\" y=\"204.601471\"/>\n     <use style=\"fill:#1f77b4;stroke:#1f77b4;\" x=\"307.365625\" xlink:href=\"#mdb9a336e4b\" y=\"205.011193\"/>\n     <use style=\"fill:#1f77b4;stroke:#1f77b4;\" x=\"314.805625\" xlink:href=\"#mdb9a336e4b\" y=\"207.210127\"/>\n     <use style=\"fill:#1f77b4;stroke:#1f77b4;\" x=\"322.245625\" xlink:href=\"#mdb9a336e4b\" y=\"205.737437\"/>\n     <use style=\"fill:#1f77b4;stroke:#1f77b4;\" x=\"329.685625\" xlink:href=\"#mdb9a336e4b\" y=\"204.65388\"/>\n     <use style=\"fill:#1f77b4;stroke:#1f77b4;\" x=\"337.125625\" xlink:href=\"#mdb9a336e4b\" y=\"205.655209\"/>\n     <use style=\"fill:#1f77b4;stroke:#1f77b4;\" x=\"344.565625\" xlink:href=\"#mdb9a336e4b\" y=\"206.192744\"/>\n     <use style=\"fill:#1f77b4;stroke:#1f77b4;\" x=\"352.005625\" xlink:href=\"#mdb9a336e4b\" y=\"207.513102\"/>\n     <use style=\"fill:#1f77b4;stroke:#1f77b4;\" x=\"359.445625\" xlink:href=\"#mdb9a336e4b\" y=\"207.324112\"/>\n     <use style=\"fill:#1f77b4;stroke:#1f77b4;\" x=\"366.885625\" xlink:href=\"#mdb9a336e4b\" y=\"207.506337\"/>\n     <use style=\"fill:#1f77b4;stroke:#1f77b4;\" x=\"374.325625\" xlink:href=\"#mdb9a336e4b\" y=\"207.482997\"/>\n    </g>\n   </g>\n   <g id=\"line2d_34\">\n    <path clip-path=\"url(#pde947e60a1)\" d=\"M 130.249174 -1 \nL 136.245625 103.112252 \nL 143.685625 156.555094 \nL 151.125625 159.183172 \nL 158.565625 137.507183 \nL 166.005625 114.064687 \nL 173.445625 101.558231 \nL 180.885625 104.034167 \nL 188.325625 115.960552 \nL 195.765625 132.418295 \nL 203.205625 146.304985 \nL 210.645625 155.835563 \nL 218.085625 161.065221 \nL 225.525625 162.502657 \nL 232.965625 162.077496 \nL 240.405625 161.143463 \nL 247.845625 160.651829 \nL 255.285625 160.59133 \nL 262.725625 161.016244 \nL 270.165625 161.669417 \nL 277.605625 162.222024 \nL 285.045625 162.495626 \nL 292.485625 162.402544 \nL 299.925625 162.204612 \nL 307.365625 161.983403 \nL 314.805625 161.824353 \nL 322.245625 161.786029 \nL 329.685625 161.879875 \nL 337.125625 161.996416 \nL 344.565625 161.984647 \nL 352.005625 162.08154 \nL 359.445625 162.138851 \nL 366.885625 162.214676 \nL 374.325625 162.253518 \n\" style=\"fill:none;stroke:#ff7f0e;stroke-linecap:square;stroke-width:1.5;\"/>\n    <defs>\n     <path d=\"M 0 2 \nC 0.530406 2 1.03916 1.789267 1.414214 1.414214 \nC 1.789267 1.03916 2 0.530406 2 0 \nC 2 -0.530406 1.789267 -1.03916 1.414214 -1.414214 \nC 1.03916 -1.789267 0.530406 -2 0 -2 \nC -0.530406 -2 -1.03916 -1.789267 -1.414214 -1.414214 \nC -1.789267 -1.03916 -2 -0.530406 -2 0 \nC -2 0.530406 -1.789267 1.03916 -1.414214 1.414214 \nC -1.03916 1.789267 -0.530406 2 0 2 \nz\n\" id=\"m75d3347995\" style=\"stroke:#ff7f0e;\"/>\n    </defs>\n    <g clip-path=\"url(#pde947e60a1)\">\n     <use style=\"fill:#ff7f0e;stroke:#ff7f0e;\" x=\"130.249174\" xlink:href=\"#m75d3347995\" y=\"-1\"/>\n     <use style=\"fill:#ff7f0e;stroke:#ff7f0e;\" x=\"136.245625\" xlink:href=\"#m75d3347995\" y=\"103.112252\"/>\n     <use style=\"fill:#ff7f0e;stroke:#ff7f0e;\" x=\"143.685625\" xlink:href=\"#m75d3347995\" y=\"156.555094\"/>\n     <use style=\"fill:#ff7f0e;stroke:#ff7f0e;\" x=\"151.125625\" xlink:href=\"#m75d3347995\" y=\"159.183172\"/>\n     <use style=\"fill:#ff7f0e;stroke:#ff7f0e;\" x=\"158.565625\" xlink:href=\"#m75d3347995\" y=\"137.507183\"/>\n     <use style=\"fill:#ff7f0e;stroke:#ff7f0e;\" x=\"166.005625\" xlink:href=\"#m75d3347995\" y=\"114.064687\"/>\n     <use style=\"fill:#ff7f0e;stroke:#ff7f0e;\" x=\"173.445625\" xlink:href=\"#m75d3347995\" y=\"101.558231\"/>\n     <use style=\"fill:#ff7f0e;stroke:#ff7f0e;\" x=\"180.885625\" xlink:href=\"#m75d3347995\" y=\"104.034167\"/>\n     <use style=\"fill:#ff7f0e;stroke:#ff7f0e;\" x=\"188.325625\" xlink:href=\"#m75d3347995\" y=\"115.960552\"/>\n     <use style=\"fill:#ff7f0e;stroke:#ff7f0e;\" x=\"195.765625\" xlink:href=\"#m75d3347995\" y=\"132.418295\"/>\n     <use style=\"fill:#ff7f0e;stroke:#ff7f0e;\" x=\"203.205625\" xlink:href=\"#m75d3347995\" y=\"146.304985\"/>\n     <use style=\"fill:#ff7f0e;stroke:#ff7f0e;\" x=\"210.645625\" xlink:href=\"#m75d3347995\" y=\"155.835563\"/>\n     <use style=\"fill:#ff7f0e;stroke:#ff7f0e;\" x=\"218.085625\" xlink:href=\"#m75d3347995\" y=\"161.065221\"/>\n     <use style=\"fill:#ff7f0e;stroke:#ff7f0e;\" x=\"225.525625\" xlink:href=\"#m75d3347995\" y=\"162.502657\"/>\n     <use style=\"fill:#ff7f0e;stroke:#ff7f0e;\" x=\"232.965625\" xlink:href=\"#m75d3347995\" y=\"162.077496\"/>\n     <use style=\"fill:#ff7f0e;stroke:#ff7f0e;\" x=\"240.405625\" xlink:href=\"#m75d3347995\" y=\"161.143463\"/>\n     <use style=\"fill:#ff7f0e;stroke:#ff7f0e;\" x=\"247.845625\" xlink:href=\"#m75d3347995\" y=\"160.651829\"/>\n     <use style=\"fill:#ff7f0e;stroke:#ff7f0e;\" x=\"255.285625\" xlink:href=\"#m75d3347995\" y=\"160.59133\"/>\n     <use style=\"fill:#ff7f0e;stroke:#ff7f0e;\" x=\"262.725625\" xlink:href=\"#m75d3347995\" y=\"161.016244\"/>\n     <use style=\"fill:#ff7f0e;stroke:#ff7f0e;\" x=\"270.165625\" xlink:href=\"#m75d3347995\" y=\"161.669417\"/>\n     <use style=\"fill:#ff7f0e;stroke:#ff7f0e;\" x=\"277.605625\" xlink:href=\"#m75d3347995\" y=\"162.222024\"/>\n     <use style=\"fill:#ff7f0e;stroke:#ff7f0e;\" x=\"285.045625\" xlink:href=\"#m75d3347995\" y=\"162.495626\"/>\n     <use style=\"fill:#ff7f0e;stroke:#ff7f0e;\" x=\"292.485625\" xlink:href=\"#m75d3347995\" y=\"162.402544\"/>\n     <use style=\"fill:#ff7f0e;stroke:#ff7f0e;\" x=\"299.925625\" xlink:href=\"#m75d3347995\" y=\"162.204612\"/>\n     <use style=\"fill:#ff7f0e;stroke:#ff7f0e;\" x=\"307.365625\" xlink:href=\"#m75d3347995\" y=\"161.983403\"/>\n     <use style=\"fill:#ff7f0e;stroke:#ff7f0e;\" x=\"314.805625\" xlink:href=\"#m75d3347995\" y=\"161.824353\"/>\n     <use style=\"fill:#ff7f0e;stroke:#ff7f0e;\" x=\"322.245625\" xlink:href=\"#m75d3347995\" y=\"161.786029\"/>\n     <use style=\"fill:#ff7f0e;stroke:#ff7f0e;\" x=\"329.685625\" xlink:href=\"#m75d3347995\" y=\"161.879875\"/>\n     <use style=\"fill:#ff7f0e;stroke:#ff7f0e;\" x=\"337.125625\" xlink:href=\"#m75d3347995\" y=\"161.996416\"/>\n     <use style=\"fill:#ff7f0e;stroke:#ff7f0e;\" x=\"344.565625\" xlink:href=\"#m75d3347995\" y=\"161.984647\"/>\n     <use style=\"fill:#ff7f0e;stroke:#ff7f0e;\" x=\"352.005625\" xlink:href=\"#m75d3347995\" y=\"162.08154\"/>\n     <use style=\"fill:#ff7f0e;stroke:#ff7f0e;\" x=\"359.445625\" xlink:href=\"#m75d3347995\" y=\"162.138851\"/>\n     <use style=\"fill:#ff7f0e;stroke:#ff7f0e;\" x=\"366.885625\" xlink:href=\"#m75d3347995\" y=\"162.214676\"/>\n     <use style=\"fill:#ff7f0e;stroke:#ff7f0e;\" x=\"374.325625\" xlink:href=\"#m75d3347995\" y=\"162.253518\"/>\n    </g>\n   </g>\n   <g id=\"patch_3\">\n    <path d=\"M 46.965625 239.758125 \nL 46.965625 22.318125 \n\" style=\"fill:none;stroke:#000000;stroke-linecap:square;stroke-linejoin:miter;stroke-width:0.8;\"/>\n   </g>\n   <g id=\"patch_4\">\n    <path d=\"M 381.765625 239.758125 \nL 381.765625 22.318125 \n\" style=\"fill:none;stroke:#000000;stroke-linecap:square;stroke-linejoin:miter;stroke-width:0.8;\"/>\n   </g>\n   <g id=\"patch_5\">\n    <path d=\"M 46.965625 239.758125 \nL 381.765625 239.758125 \n\" style=\"fill:none;stroke:#000000;stroke-linecap:square;stroke-linejoin:miter;stroke-width:0.8;\"/>\n   </g>\n   <g id=\"patch_6\">\n    <path d=\"M 46.965625 22.318125 \nL 381.765625 22.318125 \n\" style=\"fill:none;stroke:#000000;stroke-linecap:square;stroke-linejoin:miter;stroke-width:0.8;\"/>\n   </g>\n   <g id=\"text_19\">\n    <!-- Loss with opt = Adam and lr=0.005 -->\n    <defs>\n     <path id=\"DejaVuSans-32\"/>\n     <path d=\"M 4.203125 54.6875 \nL 13.1875 54.6875 \nL 24.421875 12.015625 \nL 35.59375 54.6875 \nL 46.1875 54.6875 \nL 57.421875 12.015625 \nL 68.609375 54.6875 \nL 77.59375 54.6875 \nL 63.28125 0 \nL 52.6875 0 \nL 40.921875 44.828125 \nL 29.109375 0 \nL 18.5 0 \nz\n\" id=\"DejaVuSans-119\"/>\n     <path d=\"M 9.421875 54.6875 \nL 18.40625 54.6875 \nL 18.40625 0 \nL 9.421875 0 \nz\nM 9.421875 75.984375 \nL 18.40625 75.984375 \nL 18.40625 64.59375 \nL 9.421875 64.59375 \nz\n\" id=\"DejaVuSans-105\"/>\n     <path d=\"M 18.3125 70.21875 \nL 18.3125 54.6875 \nL 36.8125 54.6875 \nL 36.8125 47.703125 \nL 18.3125 47.703125 \nL 18.3125 18.015625 \nQ 18.3125 11.328125 20.140625 9.421875 \nQ 21.96875 7.515625 27.59375 7.515625 \nL 36.8125 7.515625 \nL 36.8125 0 \nL 27.59375 0 \nQ 17.1875 0 13.234375 3.875 \nQ 9.28125 7.765625 9.28125 18.015625 \nL 9.28125 47.703125 \nL 2.6875 47.703125 \nL 2.6875 54.6875 \nL 9.28125 54.6875 \nL 9.28125 70.21875 \nz\n\" id=\"DejaVuSans-116\"/>\n     <path d=\"M 10.59375 45.40625 \nL 73.1875 45.40625 \nL 73.1875 37.203125 \nL 10.59375 37.203125 \nz\nM 10.59375 25.484375 \nL 73.1875 25.484375 \nL 73.1875 17.1875 \nL 10.59375 17.1875 \nz\n\" id=\"DejaVuSans-61\"/>\n     <path d=\"M 34.1875 63.1875 \nL 20.796875 26.90625 \nL 47.609375 26.90625 \nz\nM 28.609375 72.90625 \nL 39.796875 72.90625 \nL 67.578125 0 \nL 57.328125 0 \nL 50.6875 18.703125 \nL 17.828125 18.703125 \nL 11.1875 0 \nL 0.78125 0 \nz\n\" id=\"DejaVuSans-65\"/>\n     <path d=\"M 45.40625 46.390625 \nL 45.40625 75.984375 \nL 54.390625 75.984375 \nL 54.390625 0 \nL 45.40625 0 \nL 45.40625 8.203125 \nQ 42.578125 3.328125 38.25 0.953125 \nQ 33.9375 -1.421875 27.875 -1.421875 \nQ 17.96875 -1.421875 11.734375 6.484375 \nQ 5.515625 14.40625 5.515625 27.296875 \nQ 5.515625 40.1875 11.734375 48.09375 \nQ 17.96875 56 27.875 56 \nQ 33.9375 56 38.25 53.625 \nQ 42.578125 51.265625 45.40625 46.390625 \nz\nM 14.796875 27.296875 \nQ 14.796875 17.390625 18.875 11.75 \nQ 22.953125 6.109375 30.078125 6.109375 \nQ 37.203125 6.109375 41.296875 11.75 \nQ 45.40625 17.390625 45.40625 27.296875 \nQ 45.40625 37.203125 41.296875 42.84375 \nQ 37.203125 48.484375 30.078125 48.484375 \nQ 22.953125 48.484375 18.875 42.84375 \nQ 14.796875 37.203125 14.796875 27.296875 \nz\n\" id=\"DejaVuSans-100\"/>\n     <path d=\"M 34.28125 27.484375 \nQ 23.390625 27.484375 19.1875 25 \nQ 14.984375 22.515625 14.984375 16.5 \nQ 14.984375 11.71875 18.140625 8.90625 \nQ 21.296875 6.109375 26.703125 6.109375 \nQ 34.1875 6.109375 38.703125 11.40625 \nQ 43.21875 16.703125 43.21875 25.484375 \nL 43.21875 27.484375 \nz\nM 52.203125 31.203125 \nL 52.203125 0 \nL 43.21875 0 \nL 43.21875 8.296875 \nQ 40.140625 3.328125 35.546875 0.953125 \nQ 30.953125 -1.421875 24.3125 -1.421875 \nQ 15.921875 -1.421875 10.953125 3.296875 \nQ 6 8.015625 6 15.921875 \nQ 6 25.140625 12.171875 29.828125 \nQ 18.359375 34.515625 30.609375 34.515625 \nL 43.21875 34.515625 \nL 43.21875 35.40625 \nQ 43.21875 41.609375 39.140625 45 \nQ 35.0625 48.390625 27.6875 48.390625 \nQ 23 48.390625 18.546875 47.265625 \nQ 14.109375 46.140625 10.015625 43.890625 \nL 10.015625 52.203125 \nQ 14.9375 54.109375 19.578125 55.046875 \nQ 24.21875 56 28.609375 56 \nQ 40.484375 56 46.34375 49.84375 \nQ 52.203125 43.703125 52.203125 31.203125 \nz\n\" id=\"DejaVuSans-97\"/>\n     <path d=\"M 52 44.1875 \nQ 55.375 50.25 60.0625 53.125 \nQ 64.75 56 71.09375 56 \nQ 79.640625 56 84.28125 50.015625 \nQ 88.921875 44.046875 88.921875 33.015625 \nL 88.921875 0 \nL 79.890625 0 \nL 79.890625 32.71875 \nQ 79.890625 40.578125 77.09375 44.375 \nQ 74.3125 48.1875 68.609375 48.1875 \nQ 61.625 48.1875 57.5625 43.546875 \nQ 53.515625 38.921875 53.515625 30.90625 \nL 53.515625 0 \nL 44.484375 0 \nL 44.484375 32.71875 \nQ 44.484375 40.625 41.703125 44.40625 \nQ 38.921875 48.1875 33.109375 48.1875 \nQ 26.21875 48.1875 22.15625 43.53125 \nQ 18.109375 38.875 18.109375 30.90625 \nL 18.109375 0 \nL 9.078125 0 \nL 9.078125 54.6875 \nL 18.109375 54.6875 \nL 18.109375 46.1875 \nQ 21.1875 51.21875 25.484375 53.609375 \nQ 29.78125 56 35.6875 56 \nQ 41.65625 56 45.828125 52.96875 \nQ 50 49.953125 52 44.1875 \nz\n\" id=\"DejaVuSans-109\"/>\n     <path d=\"M 54.890625 33.015625 \nL 54.890625 0 \nL 45.90625 0 \nL 45.90625 32.71875 \nQ 45.90625 40.484375 42.875 44.328125 \nQ 39.84375 48.1875 33.796875 48.1875 \nQ 26.515625 48.1875 22.3125 43.546875 \nQ 18.109375 38.921875 18.109375 30.90625 \nL 18.109375 0 \nL 9.078125 0 \nL 9.078125 54.6875 \nL 18.109375 54.6875 \nL 18.109375 46.1875 \nQ 21.34375 51.125 25.703125 53.5625 \nQ 30.078125 56 35.796875 56 \nQ 45.21875 56 50.046875 50.171875 \nQ 54.890625 44.34375 54.890625 33.015625 \nz\n\" id=\"DejaVuSans-110\"/>\n     <path d=\"M 9.421875 75.984375 \nL 18.40625 75.984375 \nL 18.40625 0 \nL 9.421875 0 \nz\n\" id=\"DejaVuSans-108\"/>\n     <path d=\"M 41.109375 46.296875 \nQ 39.59375 47.171875 37.8125 47.578125 \nQ 36.03125 48 33.890625 48 \nQ 26.265625 48 22.1875 43.046875 \nQ 18.109375 38.09375 18.109375 28.8125 \nL 18.109375 0 \nL 9.078125 0 \nL 9.078125 54.6875 \nL 18.109375 54.6875 \nL 18.109375 46.1875 \nQ 20.953125 51.171875 25.484375 53.578125 \nQ 30.03125 56 36.53125 56 \nQ 37.453125 56 38.578125 55.875 \nQ 39.703125 55.765625 41.0625 55.515625 \nz\n\" id=\"DejaVuSans-114\"/>\n     <path d=\"M 10.6875 12.40625 \nL 21 12.40625 \nL 21 0 \nL 10.6875 0 \nz\n\" id=\"DejaVuSans-46\"/>\n    </defs>\n    <g transform=\"translate(107.21875 16.318125)scale(0.12 -0.12)\">\n     <use xlink:href=\"#DejaVuSans-76\"/>\n     <use x=\"53.962891\" xlink:href=\"#DejaVuSans-111\"/>\n     <use x=\"115.144531\" xlink:href=\"#DejaVuSans-115\"/>\n     <use x=\"167.244141\" xlink:href=\"#DejaVuSans-115\"/>\n     <use x=\"219.34375\" xlink:href=\"#DejaVuSans-32\"/>\n     <use x=\"251.130859\" xlink:href=\"#DejaVuSans-119\"/>\n     <use x=\"332.917969\" xlink:href=\"#DejaVuSans-105\"/>\n     <use x=\"360.701172\" xlink:href=\"#DejaVuSans-116\"/>\n     <use x=\"399.910156\" xlink:href=\"#DejaVuSans-104\"/>\n     <use x=\"463.289062\" xlink:href=\"#DejaVuSans-32\"/>\n     <use x=\"495.076172\" xlink:href=\"#DejaVuSans-111\"/>\n     <use x=\"556.257812\" xlink:href=\"#DejaVuSans-112\"/>\n     <use x=\"619.734375\" xlink:href=\"#DejaVuSans-116\"/>\n     <use x=\"658.943359\" xlink:href=\"#DejaVuSans-32\"/>\n     <use x=\"690.730469\" xlink:href=\"#DejaVuSans-61\"/>\n     <use x=\"774.519531\" xlink:href=\"#DejaVuSans-32\"/>\n     <use x=\"806.306641\" xlink:href=\"#DejaVuSans-65\"/>\n     <use x=\"872.964844\" xlink:href=\"#DejaVuSans-100\"/>\n     <use x=\"936.441406\" xlink:href=\"#DejaVuSans-97\"/>\n     <use x=\"997.720703\" xlink:href=\"#DejaVuSans-109\"/>\n     <use x=\"1095.132812\" xlink:href=\"#DejaVuSans-32\"/>\n     <use x=\"1126.919922\" xlink:href=\"#DejaVuSans-97\"/>\n     <use x=\"1188.199219\" xlink:href=\"#DejaVuSans-110\"/>\n     <use x=\"1251.578125\" xlink:href=\"#DejaVuSans-100\"/>\n     <use x=\"1315.054688\" xlink:href=\"#DejaVuSans-32\"/>\n     <use x=\"1346.841797\" xlink:href=\"#DejaVuSans-108\"/>\n     <use x=\"1374.625\" xlink:href=\"#DejaVuSans-114\"/>\n     <use x=\"1415.738281\" xlink:href=\"#DejaVuSans-61\"/>\n     <use x=\"1499.527344\" xlink:href=\"#DejaVuSans-48\"/>\n     <use x=\"1563.150391\" xlink:href=\"#DejaVuSans-46\"/>\n     <use x=\"1594.9375\" xlink:href=\"#DejaVuSans-48\"/>\n     <use x=\"1658.560547\" xlink:href=\"#DejaVuSans-48\"/>\n     <use x=\"1722.183594\" xlink:href=\"#DejaVuSans-53\"/>\n    </g>\n   </g>\n   <g id=\"legend_1\">\n    <g id=\"patch_7\">\n     <path d=\"M 318.778125 59.674375 \nL 374.765625 59.674375 \nQ 376.765625 59.674375 376.765625 57.674375 \nL 376.765625 29.318125 \nQ 376.765625 27.318125 374.765625 27.318125 \nL 318.778125 27.318125 \nQ 316.778125 27.318125 316.778125 29.318125 \nL 316.778125 57.674375 \nQ 316.778125 59.674375 318.778125 59.674375 \nz\n\" style=\"fill:#ffffff;opacity:0.8;stroke:#cccccc;stroke-linejoin:miter;\"/>\n    </g>\n    <g id=\"line2d_35\">\n     <path d=\"M 320.778125 35.416562 \nL 340.778125 35.416562 \n\" style=\"fill:none;stroke:#1f77b4;stroke-linecap:square;stroke-width:1.5;\"/>\n    </g>\n    <g id=\"line2d_36\">\n     <g>\n      <use style=\"fill:#1f77b4;stroke:#1f77b4;\" x=\"330.778125\" xlink:href=\"#mdb9a336e4b\" y=\"35.416562\"/>\n     </g>\n    </g>\n    <g id=\"text_20\">\n     <!-- Train -->\n     <defs>\n      <path d=\"M -0.296875 72.90625 \nL 61.375 72.90625 \nL 61.375 64.59375 \nL 35.5 64.59375 \nL 35.5 0 \nL 25.59375 0 \nL 25.59375 64.59375 \nL -0.296875 64.59375 \nz\n\" id=\"DejaVuSans-84\"/>\n     </defs>\n     <g transform=\"translate(348.778125 38.916562)scale(0.1 -0.1)\">\n      <use xlink:href=\"#DejaVuSans-84\"/>\n      <use x=\"46.333984\" xlink:href=\"#DejaVuSans-114\"/>\n      <use x=\"87.447266\" xlink:href=\"#DejaVuSans-97\"/>\n      <use x=\"148.726562\" xlink:href=\"#DejaVuSans-105\"/>\n      <use x=\"176.509766\" xlink:href=\"#DejaVuSans-110\"/>\n     </g>\n    </g>\n    <g id=\"line2d_37\">\n     <path d=\"M 320.778125 50.094687 \nL 340.778125 50.094687 \n\" style=\"fill:none;stroke:#ff7f0e;stroke-linecap:square;stroke-width:1.5;\"/>\n    </g>\n    <g id=\"line2d_38\">\n     <g>\n      <use style=\"fill:#ff7f0e;stroke:#ff7f0e;\" x=\"330.778125\" xlink:href=\"#m75d3347995\" y=\"50.094687\"/>\n     </g>\n    </g>\n    <g id=\"text_21\">\n     <!-- Test -->\n     <defs>\n      <path d=\"M 56.203125 29.59375 \nL 56.203125 25.203125 \nL 14.890625 25.203125 \nQ 15.484375 15.921875 20.484375 11.0625 \nQ 25.484375 6.203125 34.421875 6.203125 \nQ 39.59375 6.203125 44.453125 7.46875 \nQ 49.3125 8.734375 54.109375 11.28125 \nL 54.109375 2.78125 \nQ 49.265625 0.734375 44.1875 -0.34375 \nQ 39.109375 -1.421875 33.890625 -1.421875 \nQ 20.796875 -1.421875 13.15625 6.1875 \nQ 5.515625 13.8125 5.515625 26.8125 \nQ 5.515625 40.234375 12.765625 48.109375 \nQ 20.015625 56 32.328125 56 \nQ 43.359375 56 49.78125 48.890625 \nQ 56.203125 41.796875 56.203125 29.59375 \nz\nM 47.21875 32.234375 \nQ 47.125 39.59375 43.09375 43.984375 \nQ 39.0625 48.390625 32.421875 48.390625 \nQ 24.90625 48.390625 20.390625 44.140625 \nQ 15.875 39.890625 15.1875 32.171875 \nz\n\" id=\"DejaVuSans-101\"/>\n     </defs>\n     <g transform=\"translate(348.778125 53.594687)scale(0.1 -0.1)\">\n      <use xlink:href=\"#DejaVuSans-84\"/>\n      <use x=\"44.083984\" xlink:href=\"#DejaVuSans-101\"/>\n      <use x=\"105.607422\" xlink:href=\"#DejaVuSans-115\"/>\n      <use x=\"157.707031\" xlink:href=\"#DejaVuSans-116\"/>\n     </g>\n    </g>\n   </g>\n  </g>\n </g>\n <defs>\n  <clipPath id=\"pde947e60a1\">\n   <rect height=\"217.44\" width=\"334.8\" x=\"46.965625\" y=\"22.318125\"/>\n  </clipPath>\n </defs>\n</svg>\n"
          },
          "metadata": {
            "needs_background": "light"
          }
        }
      ]
    },
    {
      "cell_type": "markdown",
      "source": [
        "**Se concluye utilizar el optimizador Adam con una tasa de aprendizaje `lr=0.005` y un número de épocs `epochs=50` para el resto de los experimentos, dado que se tiene una pérdida menor tanto en el conjunto de entrenamiento como en el de prueba.**"
      ],
      "metadata": {
        "id": "PeLd1L04Y1aH"
      }
    },
    {
      "cell_type": "markdown",
      "source": [
        "## 5.3 Variación del tamaño de lote y el número de neuronas en la capa oculta"
      ],
      "metadata": {
        "id": "YBrJ-0x9ZCVb"
      }
    },
    {
      "cell_type": "markdown",
      "source": [
        "A continuación se realiza un experimento al variar dos hiperparámetros, el tamaño de lote `batch_sizes = [8,16,32,64]` y el número de neuronas en la capa oculta `numunits = [1...10]` del modelo base con el optimizador, tasa de aprendizaje y número de épocas obtenidas en el experimento anterior. Para cada experimento se guardan las pérdidas de los conjuntos de entrenamiento y prueba en función de las épocas. El objetivo del experimento es definir el mejor tamaño de lote junto con el número de neuronas en la capa oculta."
      ],
      "metadata": {
        "id": "W7FX7pwVfdZy"
      }
    },
    {
      "cell_type": "code",
      "source": [
        "# generar una lista con los tamaños de lote y neuronas en la capa oculta a iterar\n",
        "batch_sizes = [8,16,32,64]\n",
        "numunits  = np.arange(1,11,1) # numero de neuronas por capa oculta\n",
        "\n",
        "# inicializar listas para guardar los resultados de perdida, accuracy y tiempo de ejecucion\n",
        "losses_by_exp = []\n",
        "time_per_exp = []\n",
        "\n",
        "# iterar sobre el tamaño de lote\n",
        "for i in trange(len(batch_sizes)):\n",
        "  # iterar sobre el numero de neuronas\n",
        "  for j in trange(len(numunits)):\n",
        "    # obtener optimizador y lr\n",
        "    batch_size = batch_sizes[i]\n",
        "    n_units = numunits[j]\n",
        "\n",
        "    # inicializar tiempo\n",
        "    start = time.time()\n",
        "    # entrenar modelo\n",
        "    loss_hist_exp, _ = train_model(LinRegMed, train_data, test_data, \n",
        "                                     lr=0.005, epochs=50,\n",
        "                                     batch_size=batch_size,\n",
        "                                     n_neurons=n_units,\n",
        "                                     opt='Adam',progress=False)\n",
        "    \n",
        "    # calcular tiempo de ejecucion y actualizar lista\n",
        "    execution_time = time.time() - start # en segundos\n",
        "    time_per_exp.append([batch_size,n_units,execution_time])\n",
        "\n",
        "    # obtener las perdidas por funcion de activacion\n",
        "    train_loss_exp, test_loss_exp = zip(*loss_hist_exp)\n",
        "    losses_by_exp.append([batch_size,n_units,train_loss_exp,test_loss_exp])"
      ],
      "metadata": {
        "colab": {
          "base_uri": "https://localhost:8080/",
          "height": 0,
          "referenced_widgets": [
            "8b247fa40d224106ae41868ceaf238d8",
            "7eda8640dd5e4f31bc0889c644331bc2",
            "f57e300c92df435fa9f43dc7aba571fa",
            "6608ddec0db7430f8e741abb47701886",
            "80d4b893c3374ccfbeda7d1f90142a84",
            "5c543b68f0b74b9a838b63a518889b07",
            "9b0a12acae554122a2a6309cd48c8034",
            "18f8d02b5842458e825a442b124052fb",
            "289b408984324d8db23dcf48324e833d",
            "2c36707e74f24f48807631d6e33426d0",
            "07bb3e5343304146b157f359510bd080",
            "2f15bfd69cb2480bbab0365917b1edbe",
            "8ead8395cec14e1e82d060cd68f79205",
            "a15bea8c7ec7446fbac992f76ab437a9",
            "851e85dbbf5f449d8afebea68b452709",
            "f16d60e04fe1426ea9bb7cef217010c9",
            "1e14d878b4ca4b238033f6b6198c1824",
            "a5f1b58942064a29a7957bae416ea4c9",
            "1d1db0744c354c3893e073d478cf7f0c",
            "6fc89ad857d544e9824dc2eef4f9c126",
            "7ce7dd400fc2499d9622b493866441db",
            "038f9356c4144f65acb820ab299d2c9f",
            "f996f3eef6ad491196d17ae1e3115e11",
            "372c7c872c1f43df80b631d5ef5904fd",
            "76707c1b61544ce2a32805758da0acd0",
            "a6b22873d331464e878034a445504b40",
            "6f0a778cb1a6447d97c465d5623be4d3",
            "0ac3d77f399646c681598dc4c079a2e1",
            "e00ff9f17ebf44c8baca12833316417d",
            "0a074de7412744d2946b7c10d91437d9",
            "29b9aa98f5114634a832ab265044461c",
            "09ffce7f28e44deba2243346a8d5526f",
            "5fe51b39e7cd4dddb13d7100b0a39385",
            "08f63aad0f724ac19e15d4a67ce8dff5",
            "2bd001cae0fd4953890e036d65a8074b",
            "513be03125d44a30aa90662ecd8a5611",
            "68e2645704b24079a943172aaf4065cb",
            "c04b36ab034f4a0e9902b453cd7a7e73",
            "5338811d3eb4414d8970dcae3aafbcfe",
            "c01694bb72924924b518788f4fb155e7",
            "45146f94a6454132be48039837bb9486",
            "99ae9b6277ac428fbd77e68b12377aff",
            "724733c5a7e14a15bfec04ba2b768cf8",
            "cbd8bb17c04748d983a9a1c974bf0014",
            "891dec01664048d98217fafeadf430b8",
            "56ebe8030ca64b06848e0594712cd039",
            "cebce82db5e547ef848c70bd3837ac8c",
            "1fd73282dccf4f12b8f3a7c8558248bf",
            "236d30c84edd4e2d9d89f00377014954",
            "cc257edeb218421caa2976bd2e48391e",
            "f47b5395ac4f47b5895136c694acaa22",
            "4249b5187c034b10baa5a3b611f182e8",
            "acbc7bb030b542a587b66e29230f0bff",
            "33426247cb7c438f9c3943eeeccd0779",
            "b4c62b2ee4c94a48b99d846c560d2f26"
          ]
        },
        "id": "cO7-A-CnCDaI",
        "outputId": "0b584539-3753-4ea7-8610-6100f52c480e"
      },
      "execution_count": 18,
      "outputs": [
        {
          "output_type": "display_data",
          "data": {
            "text/plain": [
              "  0%|          | 0/4 [00:00<?, ?it/s]"
            ],
            "application/vnd.jupyter.widget-view+json": {
              "version_major": 2,
              "version_minor": 0,
              "model_id": "8b247fa40d224106ae41868ceaf238d8"
            }
          },
          "metadata": {}
        },
        {
          "output_type": "display_data",
          "data": {
            "text/plain": [
              "  0%|          | 0/10 [00:00<?, ?it/s]"
            ],
            "application/vnd.jupyter.widget-view+json": {
              "version_major": 2,
              "version_minor": 0,
              "model_id": "2f15bfd69cb2480bbab0365917b1edbe"
            }
          },
          "metadata": {}
        },
        {
          "output_type": "display_data",
          "data": {
            "text/plain": [
              "  0%|          | 0/10 [00:00<?, ?it/s]"
            ],
            "application/vnd.jupyter.widget-view+json": {
              "version_major": 2,
              "version_minor": 0,
              "model_id": "f996f3eef6ad491196d17ae1e3115e11"
            }
          },
          "metadata": {}
        },
        {
          "output_type": "display_data",
          "data": {
            "text/plain": [
              "  0%|          | 0/10 [00:00<?, ?it/s]"
            ],
            "application/vnd.jupyter.widget-view+json": {
              "version_major": 2,
              "version_minor": 0,
              "model_id": "08f63aad0f724ac19e15d4a67ce8dff5"
            }
          },
          "metadata": {}
        },
        {
          "output_type": "display_data",
          "data": {
            "text/plain": [
              "  0%|          | 0/10 [00:00<?, ?it/s]"
            ],
            "application/vnd.jupyter.widget-view+json": {
              "version_major": 2,
              "version_minor": 0,
              "model_id": "891dec01664048d98217fafeadf430b8"
            }
          },
          "metadata": {}
        }
      ]
    },
    {
      "cell_type": "markdown",
      "source": [
        "A continuación se muestran las siguientes gráficas:\n",
        "1. La pérdida promedio alcanzada por tamaño de lote en las últimas 5 épocas de entrenamiento para el conjunto de entrenamiento en función del número de neuronas en la capa oculta.\n",
        "2. La pérdida promedio alcanzada por tamaño de lote en las últimas 5 épocas de entrenamiento para el conjunto de prueba en función del número de neuronas en la capa oculta.\n",
        "3. El tiempo de ejecución por tamaño de lote en función del número de neuronas en la capa oculta.\n",
        "\n",
        "De las gráficas se observa que:\n",
        "* Para el caso de tener un número de neuronas `numunits=1,2,4` se tienen pérdidas promedio mucho mayores que los demás casos.\n",
        "* Para el tamaño de lote batch_size=64 también se tienen pérdidas promedio mayores que los demás casos.\n",
        "* El tiempo de ejecución se impacta en mayor medida al variar el tamaño de lote, y aumenta el tiempo de ejecución al disminuir el tamaño de lote. Pero, los tiempos de ejecución son de magnitud pequeña, por lo que, el criterio de selección no se basará en el tiempo de ejecución sino que en la disminución de la pérdida."
      ],
      "metadata": {
        "id": "CevQseO6gD-I"
      }
    },
    {
      "cell_type": "code",
      "source": [
        "plot_loss_2param(losses_by_exp,numunits,batch_sizes,time_list=time_per_exp,\n",
        "                x_label='Neurons in hidden layer',y_label='Loss',y_lim=None)"
      ],
      "metadata": {
        "colab": {
          "base_uri": "https://localhost:8080/",
          "height": 0
        },
        "id": "JvMUa40oaIex",
        "outputId": "ba692061-311e-4606-be1a-0d89f85c7694"
      },
      "execution_count": 19,
      "outputs": [
        {
          "output_type": "display_data",
          "data": {
            "text/plain": [
              "<Figure size 1440x432 with 3 Axes>"
            ],
            "image/svg+xml": "<?xml version=\"1.0\" encoding=\"utf-8\" standalone=\"no\"?>\n<!DOCTYPE svg PUBLIC \"-//W3C//DTD SVG 1.1//EN\"\n  \"http://www.w3.org/Graphics/SVG/1.1/DTD/svg11.dtd\">\n<!-- Created with matplotlib (https://matplotlib.org/) -->\n<svg height=\"386.034375pt\" version=\"1.1\" viewBox=\"0 0 1176.528125 386.034375\" width=\"1176.528125pt\" xmlns=\"http://www.w3.org/2000/svg\" xmlns:xlink=\"http://www.w3.org/1999/xlink\">\n <defs>\n  <style type=\"text/css\">\n*{stroke-linecap:butt;stroke-linejoin:round;}\n  </style>\n </defs>\n <g id=\"figure_1\">\n  <g id=\"patch_1\">\n   <path d=\"M 0 386.034375 \nL 1176.528125 386.034375 \nL 1176.528125 0 \nL 0 0 \nz\n\" style=\"fill:none;\"/>\n  </g>\n  <g id=\"axes_1\">\n   <g id=\"patch_2\">\n    <path d=\"M 53.328125 348.478125 \nL 381.563419 348.478125 \nL 381.563419 22.318125 \nL 53.328125 22.318125 \nz\n\" style=\"fill:#ffffff;\"/>\n   </g>\n   <g id=\"matplotlib.axis_1\">\n    <g id=\"xtick_1\">\n     <g id=\"line2d_1\">\n      <path clip-path=\"url(#p4fa57a5937)\" d=\"M 101.402991 348.478125 \nL 101.402991 22.318125 \n\" style=\"fill:none;stroke:#b0b0b0;stroke-linecap:square;stroke-width:0.8;\"/>\n     </g>\n     <g id=\"line2d_2\">\n      <defs>\n       <path d=\"M 0 0 \nL 0 3.5 \n\" id=\"ma2e4b54bf0\" style=\"stroke:#000000;stroke-width:0.8;\"/>\n      </defs>\n      <g>\n       <use style=\"stroke:#000000;stroke-width:0.8;\" x=\"101.402991\" xlink:href=\"#ma2e4b54bf0\" y=\"348.478125\"/>\n      </g>\n     </g>\n     <g id=\"text_1\">\n      <!-- 2 -->\n      <defs>\n       <path d=\"M 19.1875 8.296875 \nL 53.609375 8.296875 \nL 53.609375 0 \nL 7.328125 0 \nL 7.328125 8.296875 \nQ 12.9375 14.109375 22.625 23.890625 \nQ 32.328125 33.6875 34.8125 36.53125 \nQ 39.546875 41.84375 41.421875 45.53125 \nQ 43.3125 49.21875 43.3125 52.78125 \nQ 43.3125 58.59375 39.234375 62.25 \nQ 35.15625 65.921875 28.609375 65.921875 \nQ 23.96875 65.921875 18.8125 64.3125 \nQ 13.671875 62.703125 7.8125 59.421875 \nL 7.8125 69.390625 \nQ 13.765625 71.78125 18.9375 73 \nQ 24.125 74.21875 28.421875 74.21875 \nQ 39.75 74.21875 46.484375 68.546875 \nQ 53.21875 62.890625 53.21875 53.421875 \nQ 53.21875 48.921875 51.53125 44.890625 \nQ 49.859375 40.875 45.40625 35.40625 \nQ 44.1875 33.984375 37.640625 27.21875 \nQ 31.109375 20.453125 19.1875 8.296875 \nz\n\" id=\"DejaVuSans-50\"/>\n      </defs>\n      <g transform=\"translate(98.221741 363.076562)scale(0.1 -0.1)\">\n       <use xlink:href=\"#DejaVuSans-50\"/>\n      </g>\n     </g>\n    </g>\n    <g id=\"xtick_2\">\n     <g id=\"line2d_3\">\n      <path clip-path=\"url(#p4fa57a5937)\" d=\"M 167.713152 348.478125 \nL 167.713152 22.318125 \n\" style=\"fill:none;stroke:#b0b0b0;stroke-linecap:square;stroke-width:0.8;\"/>\n     </g>\n     <g id=\"line2d_4\">\n      <g>\n       <use style=\"stroke:#000000;stroke-width:0.8;\" x=\"167.713152\" xlink:href=\"#ma2e4b54bf0\" y=\"348.478125\"/>\n      </g>\n     </g>\n     <g id=\"text_2\">\n      <!-- 4 -->\n      <defs>\n       <path d=\"M 37.796875 64.3125 \nL 12.890625 25.390625 \nL 37.796875 25.390625 \nz\nM 35.203125 72.90625 \nL 47.609375 72.90625 \nL 47.609375 25.390625 \nL 58.015625 25.390625 \nL 58.015625 17.1875 \nL 47.609375 17.1875 \nL 47.609375 0 \nL 37.796875 0 \nL 37.796875 17.1875 \nL 4.890625 17.1875 \nL 4.890625 26.703125 \nz\n\" id=\"DejaVuSans-52\"/>\n      </defs>\n      <g transform=\"translate(164.531902 363.076562)scale(0.1 -0.1)\">\n       <use xlink:href=\"#DejaVuSans-52\"/>\n      </g>\n     </g>\n    </g>\n    <g id=\"xtick_3\">\n     <g id=\"line2d_5\">\n      <path clip-path=\"url(#p4fa57a5937)\" d=\"M 234.023312 348.478125 \nL 234.023312 22.318125 \n\" style=\"fill:none;stroke:#b0b0b0;stroke-linecap:square;stroke-width:0.8;\"/>\n     </g>\n     <g id=\"line2d_6\">\n      <g>\n       <use style=\"stroke:#000000;stroke-width:0.8;\" x=\"234.023312\" xlink:href=\"#ma2e4b54bf0\" y=\"348.478125\"/>\n      </g>\n     </g>\n     <g id=\"text_3\">\n      <!-- 6 -->\n      <defs>\n       <path d=\"M 33.015625 40.375 \nQ 26.375 40.375 22.484375 35.828125 \nQ 18.609375 31.296875 18.609375 23.390625 \nQ 18.609375 15.53125 22.484375 10.953125 \nQ 26.375 6.390625 33.015625 6.390625 \nQ 39.65625 6.390625 43.53125 10.953125 \nQ 47.40625 15.53125 47.40625 23.390625 \nQ 47.40625 31.296875 43.53125 35.828125 \nQ 39.65625 40.375 33.015625 40.375 \nz\nM 52.59375 71.296875 \nL 52.59375 62.3125 \nQ 48.875 64.0625 45.09375 64.984375 \nQ 41.3125 65.921875 37.59375 65.921875 \nQ 27.828125 65.921875 22.671875 59.328125 \nQ 17.53125 52.734375 16.796875 39.40625 \nQ 19.671875 43.65625 24.015625 45.921875 \nQ 28.375 48.1875 33.59375 48.1875 \nQ 44.578125 48.1875 50.953125 41.515625 \nQ 57.328125 34.859375 57.328125 23.390625 \nQ 57.328125 12.15625 50.6875 5.359375 \nQ 44.046875 -1.421875 33.015625 -1.421875 \nQ 20.359375 -1.421875 13.671875 8.265625 \nQ 6.984375 17.96875 6.984375 36.375 \nQ 6.984375 53.65625 15.1875 63.9375 \nQ 23.390625 74.21875 37.203125 74.21875 \nQ 40.921875 74.21875 44.703125 73.484375 \nQ 48.484375 72.75 52.59375 71.296875 \nz\n\" id=\"DejaVuSans-54\"/>\n      </defs>\n      <g transform=\"translate(230.842062 363.076562)scale(0.1 -0.1)\">\n       <use xlink:href=\"#DejaVuSans-54\"/>\n      </g>\n     </g>\n    </g>\n    <g id=\"xtick_4\">\n     <g id=\"line2d_7\">\n      <path clip-path=\"url(#p4fa57a5937)\" d=\"M 300.333473 348.478125 \nL 300.333473 22.318125 \n\" style=\"fill:none;stroke:#b0b0b0;stroke-linecap:square;stroke-width:0.8;\"/>\n     </g>\n     <g id=\"line2d_8\">\n      <g>\n       <use style=\"stroke:#000000;stroke-width:0.8;\" x=\"300.333473\" xlink:href=\"#ma2e4b54bf0\" y=\"348.478125\"/>\n      </g>\n     </g>\n     <g id=\"text_4\">\n      <!-- 8 -->\n      <defs>\n       <path d=\"M 31.78125 34.625 \nQ 24.75 34.625 20.71875 30.859375 \nQ 16.703125 27.09375 16.703125 20.515625 \nQ 16.703125 13.921875 20.71875 10.15625 \nQ 24.75 6.390625 31.78125 6.390625 \nQ 38.8125 6.390625 42.859375 10.171875 \nQ 46.921875 13.96875 46.921875 20.515625 \nQ 46.921875 27.09375 42.890625 30.859375 \nQ 38.875 34.625 31.78125 34.625 \nz\nM 21.921875 38.8125 \nQ 15.578125 40.375 12.03125 44.71875 \nQ 8.5 49.078125 8.5 55.328125 \nQ 8.5 64.0625 14.71875 69.140625 \nQ 20.953125 74.21875 31.78125 74.21875 \nQ 42.671875 74.21875 48.875 69.140625 \nQ 55.078125 64.0625 55.078125 55.328125 \nQ 55.078125 49.078125 51.53125 44.71875 \nQ 48 40.375 41.703125 38.8125 \nQ 48.828125 37.15625 52.796875 32.3125 \nQ 56.78125 27.484375 56.78125 20.515625 \nQ 56.78125 9.90625 50.3125 4.234375 \nQ 43.84375 -1.421875 31.78125 -1.421875 \nQ 19.734375 -1.421875 13.25 4.234375 \nQ 6.78125 9.90625 6.78125 20.515625 \nQ 6.78125 27.484375 10.78125 32.3125 \nQ 14.796875 37.15625 21.921875 38.8125 \nz\nM 18.3125 54.390625 \nQ 18.3125 48.734375 21.84375 45.5625 \nQ 25.390625 42.390625 31.78125 42.390625 \nQ 38.140625 42.390625 41.71875 45.5625 \nQ 45.3125 48.734375 45.3125 54.390625 \nQ 45.3125 60.0625 41.71875 63.234375 \nQ 38.140625 66.40625 31.78125 66.40625 \nQ 25.390625 66.40625 21.84375 63.234375 \nQ 18.3125 60.0625 18.3125 54.390625 \nz\n\" id=\"DejaVuSans-56\"/>\n      </defs>\n      <g transform=\"translate(297.152223 363.076562)scale(0.1 -0.1)\">\n       <use xlink:href=\"#DejaVuSans-56\"/>\n      </g>\n     </g>\n    </g>\n    <g id=\"xtick_5\">\n     <g id=\"line2d_9\">\n      <path clip-path=\"url(#p4fa57a5937)\" d=\"M 366.643633 348.478125 \nL 366.643633 22.318125 \n\" style=\"fill:none;stroke:#b0b0b0;stroke-linecap:square;stroke-width:0.8;\"/>\n     </g>\n     <g id=\"line2d_10\">\n      <g>\n       <use style=\"stroke:#000000;stroke-width:0.8;\" x=\"366.643633\" xlink:href=\"#ma2e4b54bf0\" y=\"348.478125\"/>\n      </g>\n     </g>\n     <g id=\"text_5\">\n      <!-- 10 -->\n      <defs>\n       <path d=\"M 12.40625 8.296875 \nL 28.515625 8.296875 \nL 28.515625 63.921875 \nL 10.984375 60.40625 \nL 10.984375 69.390625 \nL 28.421875 72.90625 \nL 38.28125 72.90625 \nL 38.28125 8.296875 \nL 54.390625 8.296875 \nL 54.390625 0 \nL 12.40625 0 \nz\n\" id=\"DejaVuSans-49\"/>\n       <path d=\"M 31.78125 66.40625 \nQ 24.171875 66.40625 20.328125 58.90625 \nQ 16.5 51.421875 16.5 36.375 \nQ 16.5 21.390625 20.328125 13.890625 \nQ 24.171875 6.390625 31.78125 6.390625 \nQ 39.453125 6.390625 43.28125 13.890625 \nQ 47.125 21.390625 47.125 36.375 \nQ 47.125 51.421875 43.28125 58.90625 \nQ 39.453125 66.40625 31.78125 66.40625 \nz\nM 31.78125 74.21875 \nQ 44.046875 74.21875 50.515625 64.515625 \nQ 56.984375 54.828125 56.984375 36.375 \nQ 56.984375 17.96875 50.515625 8.265625 \nQ 44.046875 -1.421875 31.78125 -1.421875 \nQ 19.53125 -1.421875 13.0625 8.265625 \nQ 6.59375 17.96875 6.59375 36.375 \nQ 6.59375 54.828125 13.0625 64.515625 \nQ 19.53125 74.21875 31.78125 74.21875 \nz\n\" id=\"DejaVuSans-48\"/>\n      </defs>\n      <g transform=\"translate(360.281133 363.076562)scale(0.1 -0.1)\">\n       <use xlink:href=\"#DejaVuSans-49\"/>\n       <use x=\"63.623047\" xlink:href=\"#DejaVuSans-48\"/>\n      </g>\n     </g>\n    </g>\n    <g id=\"text_6\">\n     <!-- Neurons in hidden layer -->\n     <defs>\n      <path d=\"M 9.8125 72.90625 \nL 23.09375 72.90625 \nL 55.421875 11.921875 \nL 55.421875 72.90625 \nL 64.984375 72.90625 \nL 64.984375 0 \nL 51.703125 0 \nL 19.390625 60.984375 \nL 19.390625 0 \nL 9.8125 0 \nz\n\" id=\"DejaVuSans-78\"/>\n      <path d=\"M 56.203125 29.59375 \nL 56.203125 25.203125 \nL 14.890625 25.203125 \nQ 15.484375 15.921875 20.484375 11.0625 \nQ 25.484375 6.203125 34.421875 6.203125 \nQ 39.59375 6.203125 44.453125 7.46875 \nQ 49.3125 8.734375 54.109375 11.28125 \nL 54.109375 2.78125 \nQ 49.265625 0.734375 44.1875 -0.34375 \nQ 39.109375 -1.421875 33.890625 -1.421875 \nQ 20.796875 -1.421875 13.15625 6.1875 \nQ 5.515625 13.8125 5.515625 26.8125 \nQ 5.515625 40.234375 12.765625 48.109375 \nQ 20.015625 56 32.328125 56 \nQ 43.359375 56 49.78125 48.890625 \nQ 56.203125 41.796875 56.203125 29.59375 \nz\nM 47.21875 32.234375 \nQ 47.125 39.59375 43.09375 43.984375 \nQ 39.0625 48.390625 32.421875 48.390625 \nQ 24.90625 48.390625 20.390625 44.140625 \nQ 15.875 39.890625 15.1875 32.171875 \nz\n\" id=\"DejaVuSans-101\"/>\n      <path d=\"M 8.5 21.578125 \nL 8.5 54.6875 \nL 17.484375 54.6875 \nL 17.484375 21.921875 \nQ 17.484375 14.15625 20.5 10.265625 \nQ 23.53125 6.390625 29.59375 6.390625 \nQ 36.859375 6.390625 41.078125 11.03125 \nQ 45.3125 15.671875 45.3125 23.6875 \nL 45.3125 54.6875 \nL 54.296875 54.6875 \nL 54.296875 0 \nL 45.3125 0 \nL 45.3125 8.40625 \nQ 42.046875 3.421875 37.71875 1 \nQ 33.40625 -1.421875 27.6875 -1.421875 \nQ 18.265625 -1.421875 13.375 4.4375 \nQ 8.5 10.296875 8.5 21.578125 \nz\nM 31.109375 56 \nz\n\" id=\"DejaVuSans-117\"/>\n      <path d=\"M 41.109375 46.296875 \nQ 39.59375 47.171875 37.8125 47.578125 \nQ 36.03125 48 33.890625 48 \nQ 26.265625 48 22.1875 43.046875 \nQ 18.109375 38.09375 18.109375 28.8125 \nL 18.109375 0 \nL 9.078125 0 \nL 9.078125 54.6875 \nL 18.109375 54.6875 \nL 18.109375 46.1875 \nQ 20.953125 51.171875 25.484375 53.578125 \nQ 30.03125 56 36.53125 56 \nQ 37.453125 56 38.578125 55.875 \nQ 39.703125 55.765625 41.0625 55.515625 \nz\n\" id=\"DejaVuSans-114\"/>\n      <path d=\"M 30.609375 48.390625 \nQ 23.390625 48.390625 19.1875 42.75 \nQ 14.984375 37.109375 14.984375 27.296875 \nQ 14.984375 17.484375 19.15625 11.84375 \nQ 23.34375 6.203125 30.609375 6.203125 \nQ 37.796875 6.203125 41.984375 11.859375 \nQ 46.1875 17.53125 46.1875 27.296875 \nQ 46.1875 37.015625 41.984375 42.703125 \nQ 37.796875 48.390625 30.609375 48.390625 \nz\nM 30.609375 56 \nQ 42.328125 56 49.015625 48.375 \nQ 55.71875 40.765625 55.71875 27.296875 \nQ 55.71875 13.875 49.015625 6.21875 \nQ 42.328125 -1.421875 30.609375 -1.421875 \nQ 18.84375 -1.421875 12.171875 6.21875 \nQ 5.515625 13.875 5.515625 27.296875 \nQ 5.515625 40.765625 12.171875 48.375 \nQ 18.84375 56 30.609375 56 \nz\n\" id=\"DejaVuSans-111\"/>\n      <path d=\"M 54.890625 33.015625 \nL 54.890625 0 \nL 45.90625 0 \nL 45.90625 32.71875 \nQ 45.90625 40.484375 42.875 44.328125 \nQ 39.84375 48.1875 33.796875 48.1875 \nQ 26.515625 48.1875 22.3125 43.546875 \nQ 18.109375 38.921875 18.109375 30.90625 \nL 18.109375 0 \nL 9.078125 0 \nL 9.078125 54.6875 \nL 18.109375 54.6875 \nL 18.109375 46.1875 \nQ 21.34375 51.125 25.703125 53.5625 \nQ 30.078125 56 35.796875 56 \nQ 45.21875 56 50.046875 50.171875 \nQ 54.890625 44.34375 54.890625 33.015625 \nz\n\" id=\"DejaVuSans-110\"/>\n      <path d=\"M 44.28125 53.078125 \nL 44.28125 44.578125 \nQ 40.484375 46.53125 36.375 47.5 \nQ 32.28125 48.484375 27.875 48.484375 \nQ 21.1875 48.484375 17.84375 46.4375 \nQ 14.5 44.390625 14.5 40.28125 \nQ 14.5 37.15625 16.890625 35.375 \nQ 19.28125 33.59375 26.515625 31.984375 \nL 29.59375 31.296875 \nQ 39.15625 29.25 43.1875 25.515625 \nQ 47.21875 21.78125 47.21875 15.09375 \nQ 47.21875 7.46875 41.1875 3.015625 \nQ 35.15625 -1.421875 24.609375 -1.421875 \nQ 20.21875 -1.421875 15.453125 -0.5625 \nQ 10.6875 0.296875 5.421875 2 \nL 5.421875 11.28125 \nQ 10.40625 8.6875 15.234375 7.390625 \nQ 20.0625 6.109375 24.8125 6.109375 \nQ 31.15625 6.109375 34.5625 8.28125 \nQ 37.984375 10.453125 37.984375 14.40625 \nQ 37.984375 18.0625 35.515625 20.015625 \nQ 33.0625 21.96875 24.703125 23.78125 \nL 21.578125 24.515625 \nQ 13.234375 26.265625 9.515625 29.90625 \nQ 5.8125 33.546875 5.8125 39.890625 \nQ 5.8125 47.609375 11.28125 51.796875 \nQ 16.75 56 26.8125 56 \nQ 31.78125 56 36.171875 55.265625 \nQ 40.578125 54.546875 44.28125 53.078125 \nz\n\" id=\"DejaVuSans-115\"/>\n      <path id=\"DejaVuSans-32\"/>\n      <path d=\"M 9.421875 54.6875 \nL 18.40625 54.6875 \nL 18.40625 0 \nL 9.421875 0 \nz\nM 9.421875 75.984375 \nL 18.40625 75.984375 \nL 18.40625 64.59375 \nL 9.421875 64.59375 \nz\n\" id=\"DejaVuSans-105\"/>\n      <path d=\"M 54.890625 33.015625 \nL 54.890625 0 \nL 45.90625 0 \nL 45.90625 32.71875 \nQ 45.90625 40.484375 42.875 44.328125 \nQ 39.84375 48.1875 33.796875 48.1875 \nQ 26.515625 48.1875 22.3125 43.546875 \nQ 18.109375 38.921875 18.109375 30.90625 \nL 18.109375 0 \nL 9.078125 0 \nL 9.078125 75.984375 \nL 18.109375 75.984375 \nL 18.109375 46.1875 \nQ 21.34375 51.125 25.703125 53.5625 \nQ 30.078125 56 35.796875 56 \nQ 45.21875 56 50.046875 50.171875 \nQ 54.890625 44.34375 54.890625 33.015625 \nz\n\" id=\"DejaVuSans-104\"/>\n      <path d=\"M 45.40625 46.390625 \nL 45.40625 75.984375 \nL 54.390625 75.984375 \nL 54.390625 0 \nL 45.40625 0 \nL 45.40625 8.203125 \nQ 42.578125 3.328125 38.25 0.953125 \nQ 33.9375 -1.421875 27.875 -1.421875 \nQ 17.96875 -1.421875 11.734375 6.484375 \nQ 5.515625 14.40625 5.515625 27.296875 \nQ 5.515625 40.1875 11.734375 48.09375 \nQ 17.96875 56 27.875 56 \nQ 33.9375 56 38.25 53.625 \nQ 42.578125 51.265625 45.40625 46.390625 \nz\nM 14.796875 27.296875 \nQ 14.796875 17.390625 18.875 11.75 \nQ 22.953125 6.109375 30.078125 6.109375 \nQ 37.203125 6.109375 41.296875 11.75 \nQ 45.40625 17.390625 45.40625 27.296875 \nQ 45.40625 37.203125 41.296875 42.84375 \nQ 37.203125 48.484375 30.078125 48.484375 \nQ 22.953125 48.484375 18.875 42.84375 \nQ 14.796875 37.203125 14.796875 27.296875 \nz\n\" id=\"DejaVuSans-100\"/>\n      <path d=\"M 9.421875 75.984375 \nL 18.40625 75.984375 \nL 18.40625 0 \nL 9.421875 0 \nz\n\" id=\"DejaVuSans-108\"/>\n      <path d=\"M 34.28125 27.484375 \nQ 23.390625 27.484375 19.1875 25 \nQ 14.984375 22.515625 14.984375 16.5 \nQ 14.984375 11.71875 18.140625 8.90625 \nQ 21.296875 6.109375 26.703125 6.109375 \nQ 34.1875 6.109375 38.703125 11.40625 \nQ 43.21875 16.703125 43.21875 25.484375 \nL 43.21875 27.484375 \nz\nM 52.203125 31.203125 \nL 52.203125 0 \nL 43.21875 0 \nL 43.21875 8.296875 \nQ 40.140625 3.328125 35.546875 0.953125 \nQ 30.953125 -1.421875 24.3125 -1.421875 \nQ 15.921875 -1.421875 10.953125 3.296875 \nQ 6 8.015625 6 15.921875 \nQ 6 25.140625 12.171875 29.828125 \nQ 18.359375 34.515625 30.609375 34.515625 \nL 43.21875 34.515625 \nL 43.21875 35.40625 \nQ 43.21875 41.609375 39.140625 45 \nQ 35.0625 48.390625 27.6875 48.390625 \nQ 23 48.390625 18.546875 47.265625 \nQ 14.109375 46.140625 10.015625 43.890625 \nL 10.015625 52.203125 \nQ 14.9375 54.109375 19.578125 55.046875 \nQ 24.21875 56 28.609375 56 \nQ 40.484375 56 46.34375 49.84375 \nQ 52.203125 43.703125 52.203125 31.203125 \nz\n\" id=\"DejaVuSans-97\"/>\n      <path d=\"M 32.171875 -5.078125 \nQ 28.375 -14.84375 24.75 -17.8125 \nQ 21.140625 -20.796875 15.09375 -20.796875 \nL 7.90625 -20.796875 \nL 7.90625 -13.28125 \nL 13.1875 -13.28125 \nQ 16.890625 -13.28125 18.9375 -11.515625 \nQ 21 -9.765625 23.484375 -3.21875 \nL 25.09375 0.875 \nL 2.984375 54.6875 \nL 12.5 54.6875 \nL 29.59375 11.921875 \nL 46.6875 54.6875 \nL 56.203125 54.6875 \nz\n\" id=\"DejaVuSans-121\"/>\n     </defs>\n     <g transform=\"translate(157.66296 376.754687)scale(0.1 -0.1)\">\n      <use xlink:href=\"#DejaVuSans-78\"/>\n      <use x=\"74.804688\" xlink:href=\"#DejaVuSans-101\"/>\n      <use x=\"136.328125\" xlink:href=\"#DejaVuSans-117\"/>\n      <use x=\"199.707031\" xlink:href=\"#DejaVuSans-114\"/>\n      <use x=\"238.570312\" xlink:href=\"#DejaVuSans-111\"/>\n      <use x=\"299.751953\" xlink:href=\"#DejaVuSans-110\"/>\n      <use x=\"363.130859\" xlink:href=\"#DejaVuSans-115\"/>\n      <use x=\"415.230469\" xlink:href=\"#DejaVuSans-32\"/>\n      <use x=\"447.017578\" xlink:href=\"#DejaVuSans-105\"/>\n      <use x=\"474.800781\" xlink:href=\"#DejaVuSans-110\"/>\n      <use x=\"538.179688\" xlink:href=\"#DejaVuSans-32\"/>\n      <use x=\"569.966797\" xlink:href=\"#DejaVuSans-104\"/>\n      <use x=\"633.345703\" xlink:href=\"#DejaVuSans-105\"/>\n      <use x=\"661.128906\" xlink:href=\"#DejaVuSans-100\"/>\n      <use x=\"724.605469\" xlink:href=\"#DejaVuSans-100\"/>\n      <use x=\"788.082031\" xlink:href=\"#DejaVuSans-101\"/>\n      <use x=\"849.605469\" xlink:href=\"#DejaVuSans-110\"/>\n      <use x=\"912.984375\" xlink:href=\"#DejaVuSans-32\"/>\n      <use x=\"944.771484\" xlink:href=\"#DejaVuSans-108\"/>\n      <use x=\"972.554688\" xlink:href=\"#DejaVuSans-97\"/>\n      <use x=\"1033.833984\" xlink:href=\"#DejaVuSans-121\"/>\n      <use x=\"1093.013672\" xlink:href=\"#DejaVuSans-101\"/>\n      <use x=\"1154.537109\" xlink:href=\"#DejaVuSans-114\"/>\n     </g>\n    </g>\n   </g>\n   <g id=\"matplotlib.axis_2\">\n    <g id=\"ytick_1\">\n     <g id=\"line2d_11\">\n      <path clip-path=\"url(#p4fa57a5937)\" d=\"M 53.328125 334.40906 \nL 381.563419 334.40906 \n\" style=\"fill:none;stroke:#b0b0b0;stroke-linecap:square;stroke-width:0.8;\"/>\n     </g>\n     <g id=\"line2d_12\">\n      <defs>\n       <path d=\"M 0 0 \nL -3.5 0 \n\" id=\"me6c2b273b4\" style=\"stroke:#000000;stroke-width:0.8;\"/>\n      </defs>\n      <g>\n       <use style=\"stroke:#000000;stroke-width:0.8;\" x=\"53.328125\" xlink:href=\"#me6c2b273b4\" y=\"334.40906\"/>\n      </g>\n     </g>\n     <g id=\"text_7\">\n      <!-- 0 -->\n      <g transform=\"translate(39.965625 338.208279)scale(0.1 -0.1)\">\n       <use xlink:href=\"#DejaVuSans-48\"/>\n      </g>\n     </g>\n    </g>\n    <g id=\"ytick_2\">\n     <g id=\"line2d_13\">\n      <path clip-path=\"url(#p4fa57a5937)\" d=\"M 53.328125 279.643145 \nL 381.563419 279.643145 \n\" style=\"fill:none;stroke:#b0b0b0;stroke-linecap:square;stroke-width:0.8;\"/>\n     </g>\n     <g id=\"line2d_14\">\n      <g>\n       <use style=\"stroke:#000000;stroke-width:0.8;\" x=\"53.328125\" xlink:href=\"#me6c2b273b4\" y=\"279.643145\"/>\n      </g>\n     </g>\n     <g id=\"text_8\">\n      <!-- 1000 -->\n      <g transform=\"translate(20.878125 283.442363)scale(0.1 -0.1)\">\n       <use xlink:href=\"#DejaVuSans-49\"/>\n       <use x=\"63.623047\" xlink:href=\"#DejaVuSans-48\"/>\n       <use x=\"127.246094\" xlink:href=\"#DejaVuSans-48\"/>\n       <use x=\"190.869141\" xlink:href=\"#DejaVuSans-48\"/>\n      </g>\n     </g>\n    </g>\n    <g id=\"ytick_3\">\n     <g id=\"line2d_15\">\n      <path clip-path=\"url(#p4fa57a5937)\" d=\"M 53.328125 224.877229 \nL 381.563419 224.877229 \n\" style=\"fill:none;stroke:#b0b0b0;stroke-linecap:square;stroke-width:0.8;\"/>\n     </g>\n     <g id=\"line2d_16\">\n      <g>\n       <use style=\"stroke:#000000;stroke-width:0.8;\" x=\"53.328125\" xlink:href=\"#me6c2b273b4\" y=\"224.877229\"/>\n      </g>\n     </g>\n     <g id=\"text_9\">\n      <!-- 2000 -->\n      <g transform=\"translate(20.878125 228.676448)scale(0.1 -0.1)\">\n       <use xlink:href=\"#DejaVuSans-50\"/>\n       <use x=\"63.623047\" xlink:href=\"#DejaVuSans-48\"/>\n       <use x=\"127.246094\" xlink:href=\"#DejaVuSans-48\"/>\n       <use x=\"190.869141\" xlink:href=\"#DejaVuSans-48\"/>\n      </g>\n     </g>\n    </g>\n    <g id=\"ytick_4\">\n     <g id=\"line2d_17\">\n      <path clip-path=\"url(#p4fa57a5937)\" d=\"M 53.328125 170.111313 \nL 381.563419 170.111313 \n\" style=\"fill:none;stroke:#b0b0b0;stroke-linecap:square;stroke-width:0.8;\"/>\n     </g>\n     <g id=\"line2d_18\">\n      <g>\n       <use style=\"stroke:#000000;stroke-width:0.8;\" x=\"53.328125\" xlink:href=\"#me6c2b273b4\" y=\"170.111313\"/>\n      </g>\n     </g>\n     <g id=\"text_10\">\n      <!-- 3000 -->\n      <defs>\n       <path d=\"M 40.578125 39.3125 \nQ 47.65625 37.796875 51.625 33 \nQ 55.609375 28.21875 55.609375 21.1875 \nQ 55.609375 10.40625 48.1875 4.484375 \nQ 40.765625 -1.421875 27.09375 -1.421875 \nQ 22.515625 -1.421875 17.65625 -0.515625 \nQ 12.796875 0.390625 7.625 2.203125 \nL 7.625 11.71875 \nQ 11.71875 9.328125 16.59375 8.109375 \nQ 21.484375 6.890625 26.8125 6.890625 \nQ 36.078125 6.890625 40.9375 10.546875 \nQ 45.796875 14.203125 45.796875 21.1875 \nQ 45.796875 27.640625 41.28125 31.265625 \nQ 36.765625 34.90625 28.71875 34.90625 \nL 20.21875 34.90625 \nL 20.21875 43.015625 \nL 29.109375 43.015625 \nQ 36.375 43.015625 40.234375 45.921875 \nQ 44.09375 48.828125 44.09375 54.296875 \nQ 44.09375 59.90625 40.109375 62.90625 \nQ 36.140625 65.921875 28.71875 65.921875 \nQ 24.65625 65.921875 20.015625 65.03125 \nQ 15.375 64.15625 9.8125 62.3125 \nL 9.8125 71.09375 \nQ 15.4375 72.65625 20.34375 73.4375 \nQ 25.25 74.21875 29.59375 74.21875 \nQ 40.828125 74.21875 47.359375 69.109375 \nQ 53.90625 64.015625 53.90625 55.328125 \nQ 53.90625 49.265625 50.4375 45.09375 \nQ 46.96875 40.921875 40.578125 39.3125 \nz\n\" id=\"DejaVuSans-51\"/>\n      </defs>\n      <g transform=\"translate(20.878125 173.910532)scale(0.1 -0.1)\">\n       <use xlink:href=\"#DejaVuSans-51\"/>\n       <use x=\"63.623047\" xlink:href=\"#DejaVuSans-48\"/>\n       <use x=\"127.246094\" xlink:href=\"#DejaVuSans-48\"/>\n       <use x=\"190.869141\" xlink:href=\"#DejaVuSans-48\"/>\n      </g>\n     </g>\n    </g>\n    <g id=\"ytick_5\">\n     <g id=\"line2d_19\">\n      <path clip-path=\"url(#p4fa57a5937)\" d=\"M 53.328125 115.345398 \nL 381.563419 115.345398 \n\" style=\"fill:none;stroke:#b0b0b0;stroke-linecap:square;stroke-width:0.8;\"/>\n     </g>\n     <g id=\"line2d_20\">\n      <g>\n       <use style=\"stroke:#000000;stroke-width:0.8;\" x=\"53.328125\" xlink:href=\"#me6c2b273b4\" y=\"115.345398\"/>\n      </g>\n     </g>\n     <g id=\"text_11\">\n      <!-- 4000 -->\n      <g transform=\"translate(20.878125 119.144617)scale(0.1 -0.1)\">\n       <use xlink:href=\"#DejaVuSans-52\"/>\n       <use x=\"63.623047\" xlink:href=\"#DejaVuSans-48\"/>\n       <use x=\"127.246094\" xlink:href=\"#DejaVuSans-48\"/>\n       <use x=\"190.869141\" xlink:href=\"#DejaVuSans-48\"/>\n      </g>\n     </g>\n    </g>\n    <g id=\"ytick_6\">\n     <g id=\"line2d_21\">\n      <path clip-path=\"url(#p4fa57a5937)\" d=\"M 53.328125 60.579482 \nL 381.563419 60.579482 \n\" style=\"fill:none;stroke:#b0b0b0;stroke-linecap:square;stroke-width:0.8;\"/>\n     </g>\n     <g id=\"line2d_22\">\n      <g>\n       <use style=\"stroke:#000000;stroke-width:0.8;\" x=\"53.328125\" xlink:href=\"#me6c2b273b4\" y=\"60.579482\"/>\n      </g>\n     </g>\n     <g id=\"text_12\">\n      <!-- 5000 -->\n      <defs>\n       <path d=\"M 10.796875 72.90625 \nL 49.515625 72.90625 \nL 49.515625 64.59375 \nL 19.828125 64.59375 \nL 19.828125 46.734375 \nQ 21.96875 47.46875 24.109375 47.828125 \nQ 26.265625 48.1875 28.421875 48.1875 \nQ 40.625 48.1875 47.75 41.5 \nQ 54.890625 34.8125 54.890625 23.390625 \nQ 54.890625 11.625 47.5625 5.09375 \nQ 40.234375 -1.421875 26.90625 -1.421875 \nQ 22.3125 -1.421875 17.546875 -0.640625 \nQ 12.796875 0.140625 7.71875 1.703125 \nL 7.71875 11.625 \nQ 12.109375 9.234375 16.796875 8.0625 \nQ 21.484375 6.890625 26.703125 6.890625 \nQ 35.15625 6.890625 40.078125 11.328125 \nQ 45.015625 15.765625 45.015625 23.390625 \nQ 45.015625 31 40.078125 35.4375 \nQ 35.15625 39.890625 26.703125 39.890625 \nQ 22.75 39.890625 18.8125 39.015625 \nQ 14.890625 38.140625 10.796875 36.28125 \nz\n\" id=\"DejaVuSans-53\"/>\n      </defs>\n      <g transform=\"translate(20.878125 64.378701)scale(0.1 -0.1)\">\n       <use xlink:href=\"#DejaVuSans-53\"/>\n       <use x=\"63.623047\" xlink:href=\"#DejaVuSans-48\"/>\n       <use x=\"127.246094\" xlink:href=\"#DejaVuSans-48\"/>\n       <use x=\"190.869141\" xlink:href=\"#DejaVuSans-48\"/>\n      </g>\n     </g>\n    </g>\n    <g id=\"text_13\">\n     <!-- Loss -->\n     <defs>\n      <path d=\"M 9.8125 72.90625 \nL 19.671875 72.90625 \nL 19.671875 8.296875 \nL 55.171875 8.296875 \nL 55.171875 0 \nL 9.8125 0 \nz\n\" id=\"DejaVuSans-76\"/>\n     </defs>\n     <g transform=\"translate(14.798437 196.365312)rotate(-90)scale(0.1 -0.1)\">\n      <use xlink:href=\"#DejaVuSans-76\"/>\n      <use x=\"53.962891\" xlink:href=\"#DejaVuSans-111\"/>\n      <use x=\"115.144531\" xlink:href=\"#DejaVuSans-115\"/>\n      <use x=\"167.244141\" xlink:href=\"#DejaVuSans-115\"/>\n     </g>\n    </g>\n   </g>\n   <g id=\"line2d_23\">\n    <path clip-path=\"url(#p4fa57a5937)\" d=\"M 68.247911 124.975602 \nL 101.402991 106.467903 \nL 134.558072 333.590644 \nL 167.713152 105.250956 \nL 200.868232 333.592158 \nL 234.023312 333.579564 \nL 267.178392 333.528101 \nL 300.333473 333.585922 \nL 333.488553 333.588253 \nL 366.643633 333.584477 \n\" style=\"fill:none;stroke:#1f77b4;stroke-linecap:square;stroke-width:1.5;\"/>\n    <defs>\n     <path d=\"M 0 2 \nC 0.530406 2 1.03916 1.789267 1.414214 1.414214 \nC 1.789267 1.03916 2 0.530406 2 0 \nC 2 -0.530406 1.789267 -1.03916 1.414214 -1.414214 \nC 1.03916 -1.789267 0.530406 -2 0 -2 \nC -0.530406 -2 -1.03916 -1.789267 -1.414214 -1.414214 \nC -1.789267 -1.03916 -2 -0.530406 -2 0 \nC -2 0.530406 -1.789267 1.03916 -1.414214 1.414214 \nC -1.03916 1.789267 -0.530406 2 0 2 \nz\n\" id=\"m5eba9c83e9\" style=\"stroke:#1f77b4;\"/>\n    </defs>\n    <g clip-path=\"url(#p4fa57a5937)\">\n     <use style=\"fill:#1f77b4;stroke:#1f77b4;\" x=\"68.247911\" xlink:href=\"#m5eba9c83e9\" y=\"124.975602\"/>\n     <use style=\"fill:#1f77b4;stroke:#1f77b4;\" x=\"101.402991\" xlink:href=\"#m5eba9c83e9\" y=\"106.467903\"/>\n     <use style=\"fill:#1f77b4;stroke:#1f77b4;\" x=\"134.558072\" xlink:href=\"#m5eba9c83e9\" y=\"333.590644\"/>\n     <use style=\"fill:#1f77b4;stroke:#1f77b4;\" x=\"167.713152\" xlink:href=\"#m5eba9c83e9\" y=\"105.250956\"/>\n     <use style=\"fill:#1f77b4;stroke:#1f77b4;\" x=\"200.868232\" xlink:href=\"#m5eba9c83e9\" y=\"333.592158\"/>\n     <use style=\"fill:#1f77b4;stroke:#1f77b4;\" x=\"234.023312\" xlink:href=\"#m5eba9c83e9\" y=\"333.579564\"/>\n     <use style=\"fill:#1f77b4;stroke:#1f77b4;\" x=\"267.178392\" xlink:href=\"#m5eba9c83e9\" y=\"333.528101\"/>\n     <use style=\"fill:#1f77b4;stroke:#1f77b4;\" x=\"300.333473\" xlink:href=\"#m5eba9c83e9\" y=\"333.585922\"/>\n     <use style=\"fill:#1f77b4;stroke:#1f77b4;\" x=\"333.488553\" xlink:href=\"#m5eba9c83e9\" y=\"333.588253\"/>\n     <use style=\"fill:#1f77b4;stroke:#1f77b4;\" x=\"366.643633\" xlink:href=\"#m5eba9c83e9\" y=\"333.584477\"/>\n    </g>\n   </g>\n   <g id=\"line2d_24\">\n    <path clip-path=\"url(#p4fa57a5937)\" d=\"M 68.247911 96.435607 \nL 101.402991 72.661379 \nL 134.558072 333.582278 \nL 167.713152 70.409394 \nL 200.868232 333.589126 \nL 234.023312 333.597437 \nL 267.178392 333.52043 \nL 300.333473 333.622089 \nL 333.488553 333.582036 \nL 366.643633 333.572312 \n\" style=\"fill:none;stroke:#ff7f0e;stroke-linecap:square;stroke-width:1.5;\"/>\n    <defs>\n     <path d=\"M 0 2 \nC 0.530406 2 1.03916 1.789267 1.414214 1.414214 \nC 1.789267 1.03916 2 0.530406 2 0 \nC 2 -0.530406 1.789267 -1.03916 1.414214 -1.414214 \nC 1.03916 -1.789267 0.530406 -2 0 -2 \nC -0.530406 -2 -1.03916 -1.789267 -1.414214 -1.414214 \nC -1.789267 -1.03916 -2 -0.530406 -2 0 \nC -2 0.530406 -1.789267 1.03916 -1.414214 1.414214 \nC -1.03916 1.789267 -0.530406 2 0 2 \nz\n\" id=\"m1849614b60\" style=\"stroke:#ff7f0e;\"/>\n    </defs>\n    <g clip-path=\"url(#p4fa57a5937)\">\n     <use style=\"fill:#ff7f0e;stroke:#ff7f0e;\" x=\"68.247911\" xlink:href=\"#m1849614b60\" y=\"96.435607\"/>\n     <use style=\"fill:#ff7f0e;stroke:#ff7f0e;\" x=\"101.402991\" xlink:href=\"#m1849614b60\" y=\"72.661379\"/>\n     <use style=\"fill:#ff7f0e;stroke:#ff7f0e;\" x=\"134.558072\" xlink:href=\"#m1849614b60\" y=\"333.582278\"/>\n     <use style=\"fill:#ff7f0e;stroke:#ff7f0e;\" x=\"167.713152\" xlink:href=\"#m1849614b60\" y=\"70.409394\"/>\n     <use style=\"fill:#ff7f0e;stroke:#ff7f0e;\" x=\"200.868232\" xlink:href=\"#m1849614b60\" y=\"333.589126\"/>\n     <use style=\"fill:#ff7f0e;stroke:#ff7f0e;\" x=\"234.023312\" xlink:href=\"#m1849614b60\" y=\"333.597437\"/>\n     <use style=\"fill:#ff7f0e;stroke:#ff7f0e;\" x=\"267.178392\" xlink:href=\"#m1849614b60\" y=\"333.52043\"/>\n     <use style=\"fill:#ff7f0e;stroke:#ff7f0e;\" x=\"300.333473\" xlink:href=\"#m1849614b60\" y=\"333.622089\"/>\n     <use style=\"fill:#ff7f0e;stroke:#ff7f0e;\" x=\"333.488553\" xlink:href=\"#m1849614b60\" y=\"333.582036\"/>\n     <use style=\"fill:#ff7f0e;stroke:#ff7f0e;\" x=\"366.643633\" xlink:href=\"#m1849614b60\" y=\"333.572312\"/>\n    </g>\n   </g>\n   <g id=\"line2d_25\">\n    <path clip-path=\"url(#p4fa57a5937)\" d=\"M 68.247911 83.073354 \nL 101.402991 53.562662 \nL 134.558072 333.556005 \nL 167.713152 49.910278 \nL 200.868232 333.578971 \nL 234.023312 333.526814 \nL 267.178392 333.495701 \nL 300.333473 333.65267 \nL 333.488553 333.45887 \nL 366.643633 333.482815 \n\" style=\"fill:none;stroke:#2ca02c;stroke-linecap:square;stroke-width:1.5;\"/>\n    <defs>\n     <path d=\"M 0 2 \nC 0.530406 2 1.03916 1.789267 1.414214 1.414214 \nC 1.789267 1.03916 2 0.530406 2 0 \nC 2 -0.530406 1.789267 -1.03916 1.414214 -1.414214 \nC 1.03916 -1.789267 0.530406 -2 0 -2 \nC -0.530406 -2 -1.03916 -1.789267 -1.414214 -1.414214 \nC -1.789267 -1.03916 -2 -0.530406 -2 0 \nC -2 0.530406 -1.789267 1.03916 -1.414214 1.414214 \nC -1.03916 1.789267 -0.530406 2 0 2 \nz\n\" id=\"m76fe1a8f12\" style=\"stroke:#2ca02c;\"/>\n    </defs>\n    <g clip-path=\"url(#p4fa57a5937)\">\n     <use style=\"fill:#2ca02c;stroke:#2ca02c;\" x=\"68.247911\" xlink:href=\"#m76fe1a8f12\" y=\"83.073354\"/>\n     <use style=\"fill:#2ca02c;stroke:#2ca02c;\" x=\"101.402991\" xlink:href=\"#m76fe1a8f12\" y=\"53.562662\"/>\n     <use style=\"fill:#2ca02c;stroke:#2ca02c;\" x=\"134.558072\" xlink:href=\"#m76fe1a8f12\" y=\"333.556005\"/>\n     <use style=\"fill:#2ca02c;stroke:#2ca02c;\" x=\"167.713152\" xlink:href=\"#m76fe1a8f12\" y=\"49.910278\"/>\n     <use style=\"fill:#2ca02c;stroke:#2ca02c;\" x=\"200.868232\" xlink:href=\"#m76fe1a8f12\" y=\"333.578971\"/>\n     <use style=\"fill:#2ca02c;stroke:#2ca02c;\" x=\"234.023312\" xlink:href=\"#m76fe1a8f12\" y=\"333.526814\"/>\n     <use style=\"fill:#2ca02c;stroke:#2ca02c;\" x=\"267.178392\" xlink:href=\"#m76fe1a8f12\" y=\"333.495701\"/>\n     <use style=\"fill:#2ca02c;stroke:#2ca02c;\" x=\"300.333473\" xlink:href=\"#m76fe1a8f12\" y=\"333.65267\"/>\n     <use style=\"fill:#2ca02c;stroke:#2ca02c;\" x=\"333.488553\" xlink:href=\"#m76fe1a8f12\" y=\"333.45887\"/>\n     <use style=\"fill:#2ca02c;stroke:#2ca02c;\" x=\"366.643633\" xlink:href=\"#m76fe1a8f12\" y=\"333.482815\"/>\n    </g>\n   </g>\n   <g id=\"line2d_26\">\n    <path clip-path=\"url(#p4fa57a5937)\" d=\"M 68.247911 58.893639 \nL 101.402991 37.556016 \nL 134.558072 333.287467 \nL 167.713152 37.14358 \nL 200.868232 323.53658 \nL 234.023312 328.941722 \nL 267.178392 332.84282 \nL 300.333473 333.293822 \nL 333.488553 300.666256 \nL 366.643633 324.342216 \n\" style=\"fill:none;stroke:#d62728;stroke-linecap:square;stroke-width:1.5;\"/>\n    <defs>\n     <path d=\"M 0 2 \nC 0.530406 2 1.03916 1.789267 1.414214 1.414214 \nC 1.789267 1.03916 2 0.530406 2 0 \nC 2 -0.530406 1.789267 -1.03916 1.414214 -1.414214 \nC 1.03916 -1.789267 0.530406 -2 0 -2 \nC -0.530406 -2 -1.03916 -1.789267 -1.414214 -1.414214 \nC -1.789267 -1.03916 -2 -0.530406 -2 0 \nC -2 0.530406 -1.789267 1.03916 -1.414214 1.414214 \nC -1.03916 1.789267 -0.530406 2 0 2 \nz\n\" id=\"ma7edf6ef67\" style=\"stroke:#d62728;\"/>\n    </defs>\n    <g clip-path=\"url(#p4fa57a5937)\">\n     <use style=\"fill:#d62728;stroke:#d62728;\" x=\"68.247911\" xlink:href=\"#ma7edf6ef67\" y=\"58.893639\"/>\n     <use style=\"fill:#d62728;stroke:#d62728;\" x=\"101.402991\" xlink:href=\"#ma7edf6ef67\" y=\"37.556016\"/>\n     <use style=\"fill:#d62728;stroke:#d62728;\" x=\"134.558072\" xlink:href=\"#ma7edf6ef67\" y=\"333.287467\"/>\n     <use style=\"fill:#d62728;stroke:#d62728;\" x=\"167.713152\" xlink:href=\"#ma7edf6ef67\" y=\"37.14358\"/>\n     <use style=\"fill:#d62728;stroke:#d62728;\" x=\"200.868232\" xlink:href=\"#ma7edf6ef67\" y=\"323.53658\"/>\n     <use style=\"fill:#d62728;stroke:#d62728;\" x=\"234.023312\" xlink:href=\"#ma7edf6ef67\" y=\"328.941722\"/>\n     <use style=\"fill:#d62728;stroke:#d62728;\" x=\"267.178392\" xlink:href=\"#ma7edf6ef67\" y=\"332.84282\"/>\n     <use style=\"fill:#d62728;stroke:#d62728;\" x=\"300.333473\" xlink:href=\"#ma7edf6ef67\" y=\"333.293822\"/>\n     <use style=\"fill:#d62728;stroke:#d62728;\" x=\"333.488553\" xlink:href=\"#ma7edf6ef67\" y=\"300.666256\"/>\n     <use style=\"fill:#d62728;stroke:#d62728;\" x=\"366.643633\" xlink:href=\"#ma7edf6ef67\" y=\"324.342216\"/>\n    </g>\n   </g>\n   <g id=\"patch_3\">\n    <path d=\"M 53.328125 348.478125 \nL 53.328125 22.318125 \n\" style=\"fill:none;stroke:#000000;stroke-linecap:square;stroke-linejoin:miter;stroke-width:0.8;\"/>\n   </g>\n   <g id=\"patch_4\">\n    <path d=\"M 381.563419 348.478125 \nL 381.563419 22.318125 \n\" style=\"fill:none;stroke:#000000;stroke-linecap:square;stroke-linejoin:miter;stroke-width:0.8;\"/>\n   </g>\n   <g id=\"patch_5\">\n    <path d=\"M 53.328125 348.478125 \nL 381.563419 348.478125 \n\" style=\"fill:none;stroke:#000000;stroke-linecap:square;stroke-linejoin:miter;stroke-width:0.8;\"/>\n   </g>\n   <g id=\"patch_6\">\n    <path d=\"M 53.328125 22.318125 \nL 381.563419 22.318125 \n\" style=\"fill:none;stroke:#000000;stroke-linecap:square;stroke-linejoin:miter;stroke-width:0.8;\"/>\n   </g>\n   <g id=\"text_14\">\n    <!-- Train -->\n    <defs>\n     <path d=\"M -0.296875 72.90625 \nL 61.375 72.90625 \nL 61.375 64.59375 \nL 35.5 64.59375 \nL 35.5 0 \nL 25.59375 0 \nL 25.59375 64.59375 \nL -0.296875 64.59375 \nz\n\" id=\"DejaVuSans-84\"/>\n    </defs>\n    <g transform=\"translate(203.053272 16.318125)scale(0.12 -0.12)\">\n     <use xlink:href=\"#DejaVuSans-84\"/>\n     <use x=\"46.333984\" xlink:href=\"#DejaVuSans-114\"/>\n     <use x=\"87.447266\" xlink:href=\"#DejaVuSans-97\"/>\n     <use x=\"148.726562\" xlink:href=\"#DejaVuSans-105\"/>\n     <use x=\"176.509766\" xlink:href=\"#DejaVuSans-110\"/>\n    </g>\n   </g>\n   <g id=\"legend_1\">\n    <g id=\"patch_7\">\n     <path d=\"M 329.838419 89.030625 \nL 374.563419 89.030625 \nQ 376.563419 89.030625 376.563419 87.030625 \nL 376.563419 29.318125 \nQ 376.563419 27.318125 374.563419 27.318125 \nL 329.838419 27.318125 \nQ 327.838419 27.318125 327.838419 29.318125 \nL 327.838419 87.030625 \nQ 327.838419 89.030625 329.838419 89.030625 \nz\n\" style=\"fill:#ffffff;opacity:0.8;stroke:#cccccc;stroke-linejoin:miter;\"/>\n    </g>\n    <g id=\"line2d_27\">\n     <path d=\"M 331.838419 35.416562 \nL 351.838419 35.416562 \n\" style=\"fill:none;stroke:#1f77b4;stroke-linecap:square;stroke-width:1.5;\"/>\n    </g>\n    <g id=\"line2d_28\">\n     <g>\n      <use style=\"fill:#1f77b4;stroke:#1f77b4;\" x=\"341.838419\" xlink:href=\"#m5eba9c83e9\" y=\"35.416562\"/>\n     </g>\n    </g>\n    <g id=\"text_15\">\n     <!-- 8 -->\n     <g transform=\"translate(359.838419 38.916562)scale(0.1 -0.1)\">\n      <use xlink:href=\"#DejaVuSans-56\"/>\n     </g>\n    </g>\n    <g id=\"line2d_29\">\n     <path d=\"M 331.838419 50.094687 \nL 351.838419 50.094687 \n\" style=\"fill:none;stroke:#ff7f0e;stroke-linecap:square;stroke-width:1.5;\"/>\n    </g>\n    <g id=\"line2d_30\">\n     <g>\n      <use style=\"fill:#ff7f0e;stroke:#ff7f0e;\" x=\"341.838419\" xlink:href=\"#m1849614b60\" y=\"50.094687\"/>\n     </g>\n    </g>\n    <g id=\"text_16\">\n     <!-- 16 -->\n     <g transform=\"translate(359.838419 53.594687)scale(0.1 -0.1)\">\n      <use xlink:href=\"#DejaVuSans-49\"/>\n      <use x=\"63.623047\" xlink:href=\"#DejaVuSans-54\"/>\n     </g>\n    </g>\n    <g id=\"line2d_31\">\n     <path d=\"M 331.838419 64.772812 \nL 351.838419 64.772812 \n\" style=\"fill:none;stroke:#2ca02c;stroke-linecap:square;stroke-width:1.5;\"/>\n    </g>\n    <g id=\"line2d_32\">\n     <g>\n      <use style=\"fill:#2ca02c;stroke:#2ca02c;\" x=\"341.838419\" xlink:href=\"#m76fe1a8f12\" y=\"64.772812\"/>\n     </g>\n    </g>\n    <g id=\"text_17\">\n     <!-- 32 -->\n     <g transform=\"translate(359.838419 68.272812)scale(0.1 -0.1)\">\n      <use xlink:href=\"#DejaVuSans-51\"/>\n      <use x=\"63.623047\" xlink:href=\"#DejaVuSans-50\"/>\n     </g>\n    </g>\n    <g id=\"line2d_33\">\n     <path d=\"M 331.838419 79.450937 \nL 351.838419 79.450937 \n\" style=\"fill:none;stroke:#d62728;stroke-linecap:square;stroke-width:1.5;\"/>\n    </g>\n    <g id=\"line2d_34\">\n     <g>\n      <use style=\"fill:#d62728;stroke:#d62728;\" x=\"341.838419\" xlink:href=\"#ma7edf6ef67\" y=\"79.450937\"/>\n     </g>\n    </g>\n    <g id=\"text_18\">\n     <!-- 64 -->\n     <g transform=\"translate(359.838419 82.950937)scale(0.1 -0.1)\">\n      <use xlink:href=\"#DejaVuSans-54\"/>\n      <use x=\"63.623047\" xlink:href=\"#DejaVuSans-52\"/>\n     </g>\n    </g>\n   </g>\n  </g>\n  <g id=\"axes_2\">\n   <g id=\"patch_8\">\n    <path d=\"M 447.210478 348.478125 \nL 775.445772 348.478125 \nL 775.445772 22.318125 \nL 447.210478 22.318125 \nz\n\" style=\"fill:#ffffff;\"/>\n   </g>\n   <g id=\"matplotlib.axis_3\">\n    <g id=\"xtick_6\">\n     <g id=\"line2d_35\">\n      <path clip-path=\"url(#pb848f706ba)\" d=\"M 495.285344 348.478125 \nL 495.285344 22.318125 \n\" style=\"fill:none;stroke:#b0b0b0;stroke-linecap:square;stroke-width:0.8;\"/>\n     </g>\n     <g id=\"line2d_36\">\n      <g>\n       <use style=\"stroke:#000000;stroke-width:0.8;\" x=\"495.285344\" xlink:href=\"#ma2e4b54bf0\" y=\"348.478125\"/>\n      </g>\n     </g>\n     <g id=\"text_19\">\n      <!-- 2 -->\n      <g transform=\"translate(492.104094 363.076562)scale(0.1 -0.1)\">\n       <use xlink:href=\"#DejaVuSans-50\"/>\n      </g>\n     </g>\n    </g>\n    <g id=\"xtick_7\">\n     <g id=\"line2d_37\">\n      <path clip-path=\"url(#pb848f706ba)\" d=\"M 561.595505 348.478125 \nL 561.595505 22.318125 \n\" style=\"fill:none;stroke:#b0b0b0;stroke-linecap:square;stroke-width:0.8;\"/>\n     </g>\n     <g id=\"line2d_38\">\n      <g>\n       <use style=\"stroke:#000000;stroke-width:0.8;\" x=\"561.595505\" xlink:href=\"#ma2e4b54bf0\" y=\"348.478125\"/>\n      </g>\n     </g>\n     <g id=\"text_20\">\n      <!-- 4 -->\n      <g transform=\"translate(558.414255 363.076562)scale(0.1 -0.1)\">\n       <use xlink:href=\"#DejaVuSans-52\"/>\n      </g>\n     </g>\n    </g>\n    <g id=\"xtick_8\">\n     <g id=\"line2d_39\">\n      <path clip-path=\"url(#pb848f706ba)\" d=\"M 627.905665 348.478125 \nL 627.905665 22.318125 \n\" style=\"fill:none;stroke:#b0b0b0;stroke-linecap:square;stroke-width:0.8;\"/>\n     </g>\n     <g id=\"line2d_40\">\n      <g>\n       <use style=\"stroke:#000000;stroke-width:0.8;\" x=\"627.905665\" xlink:href=\"#ma2e4b54bf0\" y=\"348.478125\"/>\n      </g>\n     </g>\n     <g id=\"text_21\">\n      <!-- 6 -->\n      <g transform=\"translate(624.724415 363.076562)scale(0.1 -0.1)\">\n       <use xlink:href=\"#DejaVuSans-54\"/>\n      </g>\n     </g>\n    </g>\n    <g id=\"xtick_9\">\n     <g id=\"line2d_41\">\n      <path clip-path=\"url(#pb848f706ba)\" d=\"M 694.215826 348.478125 \nL 694.215826 22.318125 \n\" style=\"fill:none;stroke:#b0b0b0;stroke-linecap:square;stroke-width:0.8;\"/>\n     </g>\n     <g id=\"line2d_42\">\n      <g>\n       <use style=\"stroke:#000000;stroke-width:0.8;\" x=\"694.215826\" xlink:href=\"#ma2e4b54bf0\" y=\"348.478125\"/>\n      </g>\n     </g>\n     <g id=\"text_22\">\n      <!-- 8 -->\n      <g transform=\"translate(691.034576 363.076562)scale(0.1 -0.1)\">\n       <use xlink:href=\"#DejaVuSans-56\"/>\n      </g>\n     </g>\n    </g>\n    <g id=\"xtick_10\">\n     <g id=\"line2d_43\">\n      <path clip-path=\"url(#pb848f706ba)\" d=\"M 760.525986 348.478125 \nL 760.525986 22.318125 \n\" style=\"fill:none;stroke:#b0b0b0;stroke-linecap:square;stroke-width:0.8;\"/>\n     </g>\n     <g id=\"line2d_44\">\n      <g>\n       <use style=\"stroke:#000000;stroke-width:0.8;\" x=\"760.525986\" xlink:href=\"#ma2e4b54bf0\" y=\"348.478125\"/>\n      </g>\n     </g>\n     <g id=\"text_23\">\n      <!-- 10 -->\n      <g transform=\"translate(754.163486 363.076562)scale(0.1 -0.1)\">\n       <use xlink:href=\"#DejaVuSans-49\"/>\n       <use x=\"63.623047\" xlink:href=\"#DejaVuSans-48\"/>\n      </g>\n     </g>\n    </g>\n    <g id=\"text_24\">\n     <!-- Neurons in hidden layer -->\n     <g transform=\"translate(551.545313 376.754687)scale(0.1 -0.1)\">\n      <use xlink:href=\"#DejaVuSans-78\"/>\n      <use x=\"74.804688\" xlink:href=\"#DejaVuSans-101\"/>\n      <use x=\"136.328125\" xlink:href=\"#DejaVuSans-117\"/>\n      <use x=\"199.707031\" xlink:href=\"#DejaVuSans-114\"/>\n      <use x=\"238.570312\" xlink:href=\"#DejaVuSans-111\"/>\n      <use x=\"299.751953\" xlink:href=\"#DejaVuSans-110\"/>\n      <use x=\"363.130859\" xlink:href=\"#DejaVuSans-115\"/>\n      <use x=\"415.230469\" xlink:href=\"#DejaVuSans-32\"/>\n      <use x=\"447.017578\" xlink:href=\"#DejaVuSans-105\"/>\n      <use x=\"474.800781\" xlink:href=\"#DejaVuSans-110\"/>\n      <use x=\"538.179688\" xlink:href=\"#DejaVuSans-32\"/>\n      <use x=\"569.966797\" xlink:href=\"#DejaVuSans-104\"/>\n      <use x=\"633.345703\" xlink:href=\"#DejaVuSans-105\"/>\n      <use x=\"661.128906\" xlink:href=\"#DejaVuSans-100\"/>\n      <use x=\"724.605469\" xlink:href=\"#DejaVuSans-100\"/>\n      <use x=\"788.082031\" xlink:href=\"#DejaVuSans-101\"/>\n      <use x=\"849.605469\" xlink:href=\"#DejaVuSans-110\"/>\n      <use x=\"912.984375\" xlink:href=\"#DejaVuSans-32\"/>\n      <use x=\"944.771484\" xlink:href=\"#DejaVuSans-108\"/>\n      <use x=\"972.554688\" xlink:href=\"#DejaVuSans-97\"/>\n      <use x=\"1033.833984\" xlink:href=\"#DejaVuSans-121\"/>\n      <use x=\"1093.013672\" xlink:href=\"#DejaVuSans-101\"/>\n      <use x=\"1154.537109\" xlink:href=\"#DejaVuSans-114\"/>\n     </g>\n    </g>\n   </g>\n   <g id=\"matplotlib.axis_4\">\n    <g id=\"ytick_7\">\n     <g id=\"line2d_45\">\n      <path clip-path=\"url(#pb848f706ba)\" d=\"M 447.210478 335.266716 \nL 775.445772 335.266716 \n\" style=\"fill:none;stroke:#b0b0b0;stroke-linecap:square;stroke-width:0.8;\"/>\n     </g>\n     <g id=\"line2d_46\">\n      <g>\n       <use style=\"stroke:#000000;stroke-width:0.8;\" x=\"447.210478\" xlink:href=\"#me6c2b273b4\" y=\"335.266716\"/>\n      </g>\n     </g>\n     <g id=\"text_25\">\n      <!-- 0 -->\n      <g transform=\"translate(433.847978 339.065935)scale(0.1 -0.1)\">\n       <use xlink:href=\"#DejaVuSans-48\"/>\n      </g>\n     </g>\n    </g>\n    <g id=\"ytick_8\">\n     <g id=\"line2d_47\">\n      <path clip-path=\"url(#pb848f706ba)\" d=\"M 447.210478 283.104949 \nL 775.445772 283.104949 \n\" style=\"fill:none;stroke:#b0b0b0;stroke-linecap:square;stroke-width:0.8;\"/>\n     </g>\n     <g id=\"line2d_48\">\n      <g>\n       <use style=\"stroke:#000000;stroke-width:0.8;\" x=\"447.210478\" xlink:href=\"#me6c2b273b4\" y=\"283.104949\"/>\n      </g>\n     </g>\n     <g id=\"text_26\">\n      <!-- 1000 -->\n      <g transform=\"translate(414.760478 286.904168)scale(0.1 -0.1)\">\n       <use xlink:href=\"#DejaVuSans-49\"/>\n       <use x=\"63.623047\" xlink:href=\"#DejaVuSans-48\"/>\n       <use x=\"127.246094\" xlink:href=\"#DejaVuSans-48\"/>\n       <use x=\"190.869141\" xlink:href=\"#DejaVuSans-48\"/>\n      </g>\n     </g>\n    </g>\n    <g id=\"ytick_9\">\n     <g id=\"line2d_49\">\n      <path clip-path=\"url(#pb848f706ba)\" d=\"M 447.210478 230.943183 \nL 775.445772 230.943183 \n\" style=\"fill:none;stroke:#b0b0b0;stroke-linecap:square;stroke-width:0.8;\"/>\n     </g>\n     <g id=\"line2d_50\">\n      <g>\n       <use style=\"stroke:#000000;stroke-width:0.8;\" x=\"447.210478\" xlink:href=\"#me6c2b273b4\" y=\"230.943183\"/>\n      </g>\n     </g>\n     <g id=\"text_27\">\n      <!-- 2000 -->\n      <g transform=\"translate(414.760478 234.742402)scale(0.1 -0.1)\">\n       <use xlink:href=\"#DejaVuSans-50\"/>\n       <use x=\"63.623047\" xlink:href=\"#DejaVuSans-48\"/>\n       <use x=\"127.246094\" xlink:href=\"#DejaVuSans-48\"/>\n       <use x=\"190.869141\" xlink:href=\"#DejaVuSans-48\"/>\n      </g>\n     </g>\n    </g>\n    <g id=\"ytick_10\">\n     <g id=\"line2d_51\">\n      <path clip-path=\"url(#pb848f706ba)\" d=\"M 447.210478 178.781416 \nL 775.445772 178.781416 \n\" style=\"fill:none;stroke:#b0b0b0;stroke-linecap:square;stroke-width:0.8;\"/>\n     </g>\n     <g id=\"line2d_52\">\n      <g>\n       <use style=\"stroke:#000000;stroke-width:0.8;\" x=\"447.210478\" xlink:href=\"#me6c2b273b4\" y=\"178.781416\"/>\n      </g>\n     </g>\n     <g id=\"text_28\">\n      <!-- 3000 -->\n      <g transform=\"translate(414.760478 182.580635)scale(0.1 -0.1)\">\n       <use xlink:href=\"#DejaVuSans-51\"/>\n       <use x=\"63.623047\" xlink:href=\"#DejaVuSans-48\"/>\n       <use x=\"127.246094\" xlink:href=\"#DejaVuSans-48\"/>\n       <use x=\"190.869141\" xlink:href=\"#DejaVuSans-48\"/>\n      </g>\n     </g>\n    </g>\n    <g id=\"ytick_11\">\n     <g id=\"line2d_53\">\n      <path clip-path=\"url(#pb848f706ba)\" d=\"M 447.210478 126.61965 \nL 775.445772 126.61965 \n\" style=\"fill:none;stroke:#b0b0b0;stroke-linecap:square;stroke-width:0.8;\"/>\n     </g>\n     <g id=\"line2d_54\">\n      <g>\n       <use style=\"stroke:#000000;stroke-width:0.8;\" x=\"447.210478\" xlink:href=\"#me6c2b273b4\" y=\"126.61965\"/>\n      </g>\n     </g>\n     <g id=\"text_29\">\n      <!-- 4000 -->\n      <g transform=\"translate(414.760478 130.418869)scale(0.1 -0.1)\">\n       <use xlink:href=\"#DejaVuSans-52\"/>\n       <use x=\"63.623047\" xlink:href=\"#DejaVuSans-48\"/>\n       <use x=\"127.246094\" xlink:href=\"#DejaVuSans-48\"/>\n       <use x=\"190.869141\" xlink:href=\"#DejaVuSans-48\"/>\n      </g>\n     </g>\n    </g>\n    <g id=\"ytick_12\">\n     <g id=\"line2d_55\">\n      <path clip-path=\"url(#pb848f706ba)\" d=\"M 447.210478 74.457883 \nL 775.445772 74.457883 \n\" style=\"fill:none;stroke:#b0b0b0;stroke-linecap:square;stroke-width:0.8;\"/>\n     </g>\n     <g id=\"line2d_56\">\n      <g>\n       <use style=\"stroke:#000000;stroke-width:0.8;\" x=\"447.210478\" xlink:href=\"#me6c2b273b4\" y=\"74.457883\"/>\n      </g>\n     </g>\n     <g id=\"text_30\">\n      <!-- 5000 -->\n      <g transform=\"translate(414.760478 78.257102)scale(0.1 -0.1)\">\n       <use xlink:href=\"#DejaVuSans-53\"/>\n       <use x=\"63.623047\" xlink:href=\"#DejaVuSans-48\"/>\n       <use x=\"127.246094\" xlink:href=\"#DejaVuSans-48\"/>\n       <use x=\"190.869141\" xlink:href=\"#DejaVuSans-48\"/>\n      </g>\n     </g>\n    </g>\n    <g id=\"text_31\">\n     <!-- Loss -->\n     <g transform=\"translate(408.68079 196.365312)rotate(-90)scale(0.1 -0.1)\">\n      <use xlink:href=\"#DejaVuSans-76\"/>\n      <use x=\"53.962891\" xlink:href=\"#DejaVuSans-111\"/>\n      <use x=\"115.144531\" xlink:href=\"#DejaVuSans-115\"/>\n      <use x=\"167.244141\" xlink:href=\"#DejaVuSans-115\"/>\n     </g>\n    </g>\n   </g>\n   <g id=\"line2d_57\">\n    <path clip-path=\"url(#pb848f706ba)\" d=\"M 462.130264 117.657747 \nL 495.285344 105.943755 \nL 528.440424 333.448148 \nL 561.595505 102.554225 \nL 594.750585 333.65267 \nL 627.905665 333.192211 \nL 661.060745 332.596337 \nL 694.215826 333.104609 \nL 727.370906 333.405484 \nL 760.525986 332.892976 \n\" style=\"fill:none;stroke:#1f77b4;stroke-linecap:square;stroke-width:1.5;\"/>\n    <g clip-path=\"url(#pb848f706ba)\">\n     <use style=\"fill:#1f77b4;stroke:#1f77b4;\" x=\"462.130264\" xlink:href=\"#m5eba9c83e9\" y=\"117.657747\"/>\n     <use style=\"fill:#1f77b4;stroke:#1f77b4;\" x=\"495.285344\" xlink:href=\"#m5eba9c83e9\" y=\"105.943755\"/>\n     <use style=\"fill:#1f77b4;stroke:#1f77b4;\" x=\"528.440424\" xlink:href=\"#m5eba9c83e9\" y=\"333.448148\"/>\n     <use style=\"fill:#1f77b4;stroke:#1f77b4;\" x=\"561.595505\" xlink:href=\"#m5eba9c83e9\" y=\"102.554225\"/>\n     <use style=\"fill:#1f77b4;stroke:#1f77b4;\" x=\"594.750585\" xlink:href=\"#m5eba9c83e9\" y=\"333.65267\"/>\n     <use style=\"fill:#1f77b4;stroke:#1f77b4;\" x=\"627.905665\" xlink:href=\"#m5eba9c83e9\" y=\"333.192211\"/>\n     <use style=\"fill:#1f77b4;stroke:#1f77b4;\" x=\"661.060745\" xlink:href=\"#m5eba9c83e9\" y=\"332.596337\"/>\n     <use style=\"fill:#1f77b4;stroke:#1f77b4;\" x=\"694.215826\" xlink:href=\"#m5eba9c83e9\" y=\"333.104609\"/>\n     <use style=\"fill:#1f77b4;stroke:#1f77b4;\" x=\"727.370906\" xlink:href=\"#m5eba9c83e9\" y=\"333.405484\"/>\n     <use style=\"fill:#1f77b4;stroke:#1f77b4;\" x=\"760.525986\" xlink:href=\"#m5eba9c83e9\" y=\"332.892976\"/>\n    </g>\n   </g>\n   <g id=\"line2d_58\">\n    <path clip-path=\"url(#pb848f706ba)\" d=\"M 462.130264 92.498237 \nL 495.285344 72.926499 \nL 528.440424 333.073512 \nL 561.595505 71.888548 \nL 594.750585 333.404603 \nL 627.905665 332.992988 \nL 661.060745 332.736866 \nL 694.215826 333.291936 \nL 727.370906 333.391093 \nL 760.525986 332.919446 \n\" style=\"fill:none;stroke:#ff7f0e;stroke-linecap:square;stroke-width:1.5;\"/>\n    <g clip-path=\"url(#pb848f706ba)\">\n     <use style=\"fill:#ff7f0e;stroke:#ff7f0e;\" x=\"462.130264\" xlink:href=\"#m1849614b60\" y=\"92.498237\"/>\n     <use style=\"fill:#ff7f0e;stroke:#ff7f0e;\" x=\"495.285344\" xlink:href=\"#m1849614b60\" y=\"72.926499\"/>\n     <use style=\"fill:#ff7f0e;stroke:#ff7f0e;\" x=\"528.440424\" xlink:href=\"#m1849614b60\" y=\"333.073512\"/>\n     <use style=\"fill:#ff7f0e;stroke:#ff7f0e;\" x=\"561.595505\" xlink:href=\"#m1849614b60\" y=\"71.888548\"/>\n     <use style=\"fill:#ff7f0e;stroke:#ff7f0e;\" x=\"594.750585\" xlink:href=\"#m1849614b60\" y=\"333.404603\"/>\n     <use style=\"fill:#ff7f0e;stroke:#ff7f0e;\" x=\"627.905665\" xlink:href=\"#m1849614b60\" y=\"332.992988\"/>\n     <use style=\"fill:#ff7f0e;stroke:#ff7f0e;\" x=\"661.060745\" xlink:href=\"#m1849614b60\" y=\"332.736866\"/>\n     <use style=\"fill:#ff7f0e;stroke:#ff7f0e;\" x=\"694.215826\" xlink:href=\"#m1849614b60\" y=\"333.291936\"/>\n     <use style=\"fill:#ff7f0e;stroke:#ff7f0e;\" x=\"727.370906\" xlink:href=\"#m1849614b60\" y=\"333.391093\"/>\n     <use style=\"fill:#ff7f0e;stroke:#ff7f0e;\" x=\"760.525986\" xlink:href=\"#m1849614b60\" y=\"332.919446\"/>\n    </g>\n   </g>\n   <g id=\"line2d_59\">\n    <path clip-path=\"url(#pb848f706ba)\" d=\"M 462.130264 75.944178 \nL 495.285344 55.660052 \nL 528.440424 333.073697 \nL 561.595505 54.817131 \nL 594.750585 333.405163 \nL 627.905665 332.833997 \nL 661.060745 332.680497 \nL 694.215826 333.28148 \nL 727.370906 333.302063 \nL 760.525986 332.779276 \n\" style=\"fill:none;stroke:#2ca02c;stroke-linecap:square;stroke-width:1.5;\"/>\n    <g clip-path=\"url(#pb848f706ba)\">\n     <use style=\"fill:#2ca02c;stroke:#2ca02c;\" x=\"462.130264\" xlink:href=\"#m76fe1a8f12\" y=\"75.944178\"/>\n     <use style=\"fill:#2ca02c;stroke:#2ca02c;\" x=\"495.285344\" xlink:href=\"#m76fe1a8f12\" y=\"55.660052\"/>\n     <use style=\"fill:#2ca02c;stroke:#2ca02c;\" x=\"528.440424\" xlink:href=\"#m76fe1a8f12\" y=\"333.073697\"/>\n     <use style=\"fill:#2ca02c;stroke:#2ca02c;\" x=\"561.595505\" xlink:href=\"#m76fe1a8f12\" y=\"54.817131\"/>\n     <use style=\"fill:#2ca02c;stroke:#2ca02c;\" x=\"594.750585\" xlink:href=\"#m76fe1a8f12\" y=\"333.405163\"/>\n     <use style=\"fill:#2ca02c;stroke:#2ca02c;\" x=\"627.905665\" xlink:href=\"#m76fe1a8f12\" y=\"332.833997\"/>\n     <use style=\"fill:#2ca02c;stroke:#2ca02c;\" x=\"661.060745\" xlink:href=\"#m76fe1a8f12\" y=\"332.680497\"/>\n     <use style=\"fill:#2ca02c;stroke:#2ca02c;\" x=\"694.215826\" xlink:href=\"#m76fe1a8f12\" y=\"333.28148\"/>\n     <use style=\"fill:#2ca02c;stroke:#2ca02c;\" x=\"727.370906\" xlink:href=\"#m76fe1a8f12\" y=\"333.302063\"/>\n     <use style=\"fill:#2ca02c;stroke:#2ca02c;\" x=\"760.525986\" xlink:href=\"#m76fe1a8f12\" y=\"332.779276\"/>\n    </g>\n   </g>\n   <g id=\"line2d_60\">\n    <path clip-path=\"url(#pb848f706ba)\" d=\"M 462.130264 58.393574 \nL 495.285344 37.546346 \nL 528.440424 332.767385 \nL 561.595505 37.14358 \nL 594.750585 323.640114 \nL 627.905665 327.662117 \nL 661.060745 331.790601 \nL 694.215826 333.004969 \nL 727.370906 300.96038 \nL 760.525986 322.317335 \n\" style=\"fill:none;stroke:#d62728;stroke-linecap:square;stroke-width:1.5;\"/>\n    <g clip-path=\"url(#pb848f706ba)\">\n     <use style=\"fill:#d62728;stroke:#d62728;\" x=\"462.130264\" xlink:href=\"#ma7edf6ef67\" y=\"58.393574\"/>\n     <use style=\"fill:#d62728;stroke:#d62728;\" x=\"495.285344\" xlink:href=\"#ma7edf6ef67\" y=\"37.546346\"/>\n     <use style=\"fill:#d62728;stroke:#d62728;\" x=\"528.440424\" xlink:href=\"#ma7edf6ef67\" y=\"332.767385\"/>\n     <use style=\"fill:#d62728;stroke:#d62728;\" x=\"561.595505\" xlink:href=\"#ma7edf6ef67\" y=\"37.14358\"/>\n     <use style=\"fill:#d62728;stroke:#d62728;\" x=\"594.750585\" xlink:href=\"#ma7edf6ef67\" y=\"323.640114\"/>\n     <use style=\"fill:#d62728;stroke:#d62728;\" x=\"627.905665\" xlink:href=\"#ma7edf6ef67\" y=\"327.662117\"/>\n     <use style=\"fill:#d62728;stroke:#d62728;\" x=\"661.060745\" xlink:href=\"#ma7edf6ef67\" y=\"331.790601\"/>\n     <use style=\"fill:#d62728;stroke:#d62728;\" x=\"694.215826\" xlink:href=\"#ma7edf6ef67\" y=\"333.004969\"/>\n     <use style=\"fill:#d62728;stroke:#d62728;\" x=\"727.370906\" xlink:href=\"#ma7edf6ef67\" y=\"300.96038\"/>\n     <use style=\"fill:#d62728;stroke:#d62728;\" x=\"760.525986\" xlink:href=\"#ma7edf6ef67\" y=\"322.317335\"/>\n    </g>\n   </g>\n   <g id=\"patch_9\">\n    <path d=\"M 447.210478 348.478125 \nL 447.210478 22.318125 \n\" style=\"fill:none;stroke:#000000;stroke-linecap:square;stroke-linejoin:miter;stroke-width:0.8;\"/>\n   </g>\n   <g id=\"patch_10\">\n    <path d=\"M 775.445772 348.478125 \nL 775.445772 22.318125 \n\" style=\"fill:none;stroke:#000000;stroke-linecap:square;stroke-linejoin:miter;stroke-width:0.8;\"/>\n   </g>\n   <g id=\"patch_11\">\n    <path d=\"M 447.210478 348.478125 \nL 775.445772 348.478125 \n\" style=\"fill:none;stroke:#000000;stroke-linecap:square;stroke-linejoin:miter;stroke-width:0.8;\"/>\n   </g>\n   <g id=\"patch_12\">\n    <path d=\"M 447.210478 22.318125 \nL 775.445772 22.318125 \n\" style=\"fill:none;stroke:#000000;stroke-linecap:square;stroke-linejoin:miter;stroke-width:0.8;\"/>\n   </g>\n   <g id=\"text_32\">\n    <!-- Test -->\n    <defs>\n     <path d=\"M 18.3125 70.21875 \nL 18.3125 54.6875 \nL 36.8125 54.6875 \nL 36.8125 47.703125 \nL 18.3125 47.703125 \nL 18.3125 18.015625 \nQ 18.3125 11.328125 20.140625 9.421875 \nQ 21.96875 7.515625 27.59375 7.515625 \nL 36.8125 7.515625 \nL 36.8125 0 \nL 27.59375 0 \nQ 17.1875 0 13.234375 3.875 \nQ 9.28125 7.765625 9.28125 18.015625 \nL 9.28125 47.703125 \nL 2.6875 47.703125 \nL 2.6875 54.6875 \nL 9.28125 54.6875 \nL 9.28125 70.21875 \nz\n\" id=\"DejaVuSans-116\"/>\n    </defs>\n    <g transform=\"translate(599.51375 16.318125)scale(0.12 -0.12)\">\n     <use xlink:href=\"#DejaVuSans-84\"/>\n     <use x=\"44.083984\" xlink:href=\"#DejaVuSans-101\"/>\n     <use x=\"105.607422\" xlink:href=\"#DejaVuSans-115\"/>\n     <use x=\"157.707031\" xlink:href=\"#DejaVuSans-116\"/>\n    </g>\n   </g>\n   <g id=\"legend_2\">\n    <g id=\"patch_13\">\n     <path d=\"M 723.720772 89.030625 \nL 768.445772 89.030625 \nQ 770.445772 89.030625 770.445772 87.030625 \nL 770.445772 29.318125 \nQ 770.445772 27.318125 768.445772 27.318125 \nL 723.720772 27.318125 \nQ 721.720772 27.318125 721.720772 29.318125 \nL 721.720772 87.030625 \nQ 721.720772 89.030625 723.720772 89.030625 \nz\n\" style=\"fill:#ffffff;opacity:0.8;stroke:#cccccc;stroke-linejoin:miter;\"/>\n    </g>\n    <g id=\"line2d_61\">\n     <path d=\"M 725.720772 35.416562 \nL 745.720772 35.416562 \n\" style=\"fill:none;stroke:#1f77b4;stroke-linecap:square;stroke-width:1.5;\"/>\n    </g>\n    <g id=\"line2d_62\">\n     <g>\n      <use style=\"fill:#1f77b4;stroke:#1f77b4;\" x=\"735.720772\" xlink:href=\"#m5eba9c83e9\" y=\"35.416562\"/>\n     </g>\n    </g>\n    <g id=\"text_33\">\n     <!-- 8 -->\n     <g transform=\"translate(753.720772 38.916562)scale(0.1 -0.1)\">\n      <use xlink:href=\"#DejaVuSans-56\"/>\n     </g>\n    </g>\n    <g id=\"line2d_63\">\n     <path d=\"M 725.720772 50.094687 \nL 745.720772 50.094687 \n\" style=\"fill:none;stroke:#ff7f0e;stroke-linecap:square;stroke-width:1.5;\"/>\n    </g>\n    <g id=\"line2d_64\">\n     <g>\n      <use style=\"fill:#ff7f0e;stroke:#ff7f0e;\" x=\"735.720772\" xlink:href=\"#m1849614b60\" y=\"50.094687\"/>\n     </g>\n    </g>\n    <g id=\"text_34\">\n     <!-- 16 -->\n     <g transform=\"translate(753.720772 53.594687)scale(0.1 -0.1)\">\n      <use xlink:href=\"#DejaVuSans-49\"/>\n      <use x=\"63.623047\" xlink:href=\"#DejaVuSans-54\"/>\n     </g>\n    </g>\n    <g id=\"line2d_65\">\n     <path d=\"M 725.720772 64.772812 \nL 745.720772 64.772812 \n\" style=\"fill:none;stroke:#2ca02c;stroke-linecap:square;stroke-width:1.5;\"/>\n    </g>\n    <g id=\"line2d_66\">\n     <g>\n      <use style=\"fill:#2ca02c;stroke:#2ca02c;\" x=\"735.720772\" xlink:href=\"#m76fe1a8f12\" y=\"64.772812\"/>\n     </g>\n    </g>\n    <g id=\"text_35\">\n     <!-- 32 -->\n     <g transform=\"translate(753.720772 68.272812)scale(0.1 -0.1)\">\n      <use xlink:href=\"#DejaVuSans-51\"/>\n      <use x=\"63.623047\" xlink:href=\"#DejaVuSans-50\"/>\n     </g>\n    </g>\n    <g id=\"line2d_67\">\n     <path d=\"M 725.720772 79.450937 \nL 745.720772 79.450937 \n\" style=\"fill:none;stroke:#d62728;stroke-linecap:square;stroke-width:1.5;\"/>\n    </g>\n    <g id=\"line2d_68\">\n     <g>\n      <use style=\"fill:#d62728;stroke:#d62728;\" x=\"735.720772\" xlink:href=\"#ma7edf6ef67\" y=\"79.450937\"/>\n     </g>\n    </g>\n    <g id=\"text_36\">\n     <!-- 64 -->\n     <g transform=\"translate(753.720772 82.950937)scale(0.1 -0.1)\">\n      <use xlink:href=\"#DejaVuSans-54\"/>\n      <use x=\"63.623047\" xlink:href=\"#DejaVuSans-52\"/>\n     </g>\n    </g>\n   </g>\n  </g>\n  <g id=\"axes_3\">\n   <g id=\"patch_14\">\n    <path d=\"M 841.092831 348.478125 \nL 1169.328125 348.478125 \nL 1169.328125 22.318125 \nL 841.092831 22.318125 \nz\n\" style=\"fill:#ffffff;\"/>\n   </g>\n   <g id=\"matplotlib.axis_5\">\n    <g id=\"xtick_11\">\n     <g id=\"line2d_69\">\n      <path clip-path=\"url(#p1f21844336)\" d=\"M 889.167697 348.478125 \nL 889.167697 22.318125 \n\" style=\"fill:none;stroke:#b0b0b0;stroke-linecap:square;stroke-width:0.8;\"/>\n     </g>\n     <g id=\"line2d_70\">\n      <g>\n       <use style=\"stroke:#000000;stroke-width:0.8;\" x=\"889.167697\" xlink:href=\"#ma2e4b54bf0\" y=\"348.478125\"/>\n      </g>\n     </g>\n     <g id=\"text_37\">\n      <!-- 2 -->\n      <g transform=\"translate(885.986447 363.076562)scale(0.1 -0.1)\">\n       <use xlink:href=\"#DejaVuSans-50\"/>\n      </g>\n     </g>\n    </g>\n    <g id=\"xtick_12\">\n     <g id=\"line2d_71\">\n      <path clip-path=\"url(#p1f21844336)\" d=\"M 955.477858 348.478125 \nL 955.477858 22.318125 \n\" style=\"fill:none;stroke:#b0b0b0;stroke-linecap:square;stroke-width:0.8;\"/>\n     </g>\n     <g id=\"line2d_72\">\n      <g>\n       <use style=\"stroke:#000000;stroke-width:0.8;\" x=\"955.477858\" xlink:href=\"#ma2e4b54bf0\" y=\"348.478125\"/>\n      </g>\n     </g>\n     <g id=\"text_38\">\n      <!-- 4 -->\n      <g transform=\"translate(952.296608 363.076562)scale(0.1 -0.1)\">\n       <use xlink:href=\"#DejaVuSans-52\"/>\n      </g>\n     </g>\n    </g>\n    <g id=\"xtick_13\">\n     <g id=\"line2d_73\">\n      <path clip-path=\"url(#p1f21844336)\" d=\"M 1021.788018 348.478125 \nL 1021.788018 22.318125 \n\" style=\"fill:none;stroke:#b0b0b0;stroke-linecap:square;stroke-width:0.8;\"/>\n     </g>\n     <g id=\"line2d_74\">\n      <g>\n       <use style=\"stroke:#000000;stroke-width:0.8;\" x=\"1021.788018\" xlink:href=\"#ma2e4b54bf0\" y=\"348.478125\"/>\n      </g>\n     </g>\n     <g id=\"text_39\">\n      <!-- 6 -->\n      <g transform=\"translate(1018.606768 363.076562)scale(0.1 -0.1)\">\n       <use xlink:href=\"#DejaVuSans-54\"/>\n      </g>\n     </g>\n    </g>\n    <g id=\"xtick_14\">\n     <g id=\"line2d_75\">\n      <path clip-path=\"url(#p1f21844336)\" d=\"M 1088.098178 348.478125 \nL 1088.098178 22.318125 \n\" style=\"fill:none;stroke:#b0b0b0;stroke-linecap:square;stroke-width:0.8;\"/>\n     </g>\n     <g id=\"line2d_76\">\n      <g>\n       <use style=\"stroke:#000000;stroke-width:0.8;\" x=\"1088.098178\" xlink:href=\"#ma2e4b54bf0\" y=\"348.478125\"/>\n      </g>\n     </g>\n     <g id=\"text_40\">\n      <!-- 8 -->\n      <g transform=\"translate(1084.916928 363.076562)scale(0.1 -0.1)\">\n       <use xlink:href=\"#DejaVuSans-56\"/>\n      </g>\n     </g>\n    </g>\n    <g id=\"xtick_15\">\n     <g id=\"line2d_77\">\n      <path clip-path=\"url(#p1f21844336)\" d=\"M 1154.408339 348.478125 \nL 1154.408339 22.318125 \n\" style=\"fill:none;stroke:#b0b0b0;stroke-linecap:square;stroke-width:0.8;\"/>\n     </g>\n     <g id=\"line2d_78\">\n      <g>\n       <use style=\"stroke:#000000;stroke-width:0.8;\" x=\"1154.408339\" xlink:href=\"#ma2e4b54bf0\" y=\"348.478125\"/>\n      </g>\n     </g>\n     <g id=\"text_41\">\n      <!-- 10 -->\n      <g transform=\"translate(1148.045839 363.076562)scale(0.1 -0.1)\">\n       <use xlink:href=\"#DejaVuSans-49\"/>\n       <use x=\"63.623047\" xlink:href=\"#DejaVuSans-48\"/>\n      </g>\n     </g>\n    </g>\n    <g id=\"text_42\">\n     <!-- Neurons in hidden layer -->\n     <g transform=\"translate(945.427665 376.754687)scale(0.1 -0.1)\">\n      <use xlink:href=\"#DejaVuSans-78\"/>\n      <use x=\"74.804688\" xlink:href=\"#DejaVuSans-101\"/>\n      <use x=\"136.328125\" xlink:href=\"#DejaVuSans-117\"/>\n      <use x=\"199.707031\" xlink:href=\"#DejaVuSans-114\"/>\n      <use x=\"238.570312\" xlink:href=\"#DejaVuSans-111\"/>\n      <use x=\"299.751953\" xlink:href=\"#DejaVuSans-110\"/>\n      <use x=\"363.130859\" xlink:href=\"#DejaVuSans-115\"/>\n      <use x=\"415.230469\" xlink:href=\"#DejaVuSans-32\"/>\n      <use x=\"447.017578\" xlink:href=\"#DejaVuSans-105\"/>\n      <use x=\"474.800781\" xlink:href=\"#DejaVuSans-110\"/>\n      <use x=\"538.179688\" xlink:href=\"#DejaVuSans-32\"/>\n      <use x=\"569.966797\" xlink:href=\"#DejaVuSans-104\"/>\n      <use x=\"633.345703\" xlink:href=\"#DejaVuSans-105\"/>\n      <use x=\"661.128906\" xlink:href=\"#DejaVuSans-100\"/>\n      <use x=\"724.605469\" xlink:href=\"#DejaVuSans-100\"/>\n      <use x=\"788.082031\" xlink:href=\"#DejaVuSans-101\"/>\n      <use x=\"849.605469\" xlink:href=\"#DejaVuSans-110\"/>\n      <use x=\"912.984375\" xlink:href=\"#DejaVuSans-32\"/>\n      <use x=\"944.771484\" xlink:href=\"#DejaVuSans-108\"/>\n      <use x=\"972.554688\" xlink:href=\"#DejaVuSans-97\"/>\n      <use x=\"1033.833984\" xlink:href=\"#DejaVuSans-121\"/>\n      <use x=\"1093.013672\" xlink:href=\"#DejaVuSans-101\"/>\n      <use x=\"1154.537109\" xlink:href=\"#DejaVuSans-114\"/>\n     </g>\n    </g>\n   </g>\n   <g id=\"matplotlib.axis_6\">\n    <g id=\"ytick_13\">\n     <g id=\"line2d_79\">\n      <path clip-path=\"url(#p1f21844336)\" d=\"M 841.092831 337.698168 \nL 1169.328125 337.698168 \n\" style=\"fill:none;stroke:#b0b0b0;stroke-linecap:square;stroke-width:0.8;\"/>\n     </g>\n     <g id=\"line2d_80\">\n      <g>\n       <use style=\"stroke:#000000;stroke-width:0.8;\" x=\"841.092831\" xlink:href=\"#me6c2b273b4\" y=\"337.698168\"/>\n      </g>\n     </g>\n     <g id=\"text_43\">\n      <!-- 0.002 -->\n      <defs>\n       <path d=\"M 10.6875 12.40625 \nL 21 12.40625 \nL 21 0 \nL 10.6875 0 \nz\n\" id=\"DejaVuSans-46\"/>\n      </defs>\n      <g transform=\"translate(805.464706 341.497387)scale(0.1 -0.1)\">\n       <use xlink:href=\"#DejaVuSans-48\"/>\n       <use x=\"63.623047\" xlink:href=\"#DejaVuSans-46\"/>\n       <use x=\"95.410156\" xlink:href=\"#DejaVuSans-48\"/>\n       <use x=\"159.033203\" xlink:href=\"#DejaVuSans-48\"/>\n       <use x=\"222.65625\" xlink:href=\"#DejaVuSans-50\"/>\n      </g>\n     </g>\n    </g>\n    <g id=\"ytick_14\">\n     <g id=\"line2d_81\">\n      <path clip-path=\"url(#p1f21844336)\" d=\"M 841.092831 301.126818 \nL 1169.328125 301.126818 \n\" style=\"fill:none;stroke:#b0b0b0;stroke-linecap:square;stroke-width:0.8;\"/>\n     </g>\n     <g id=\"line2d_82\">\n      <g>\n       <use style=\"stroke:#000000;stroke-width:0.8;\" x=\"841.092831\" xlink:href=\"#me6c2b273b4\" y=\"301.126818\"/>\n      </g>\n     </g>\n     <g id=\"text_44\">\n      <!-- 0.004 -->\n      <g transform=\"translate(805.464706 304.926037)scale(0.1 -0.1)\">\n       <use xlink:href=\"#DejaVuSans-48\"/>\n       <use x=\"63.623047\" xlink:href=\"#DejaVuSans-46\"/>\n       <use x=\"95.410156\" xlink:href=\"#DejaVuSans-48\"/>\n       <use x=\"159.033203\" xlink:href=\"#DejaVuSans-48\"/>\n       <use x=\"222.65625\" xlink:href=\"#DejaVuSans-52\"/>\n      </g>\n     </g>\n    </g>\n    <g id=\"ytick_15\">\n     <g id=\"line2d_83\">\n      <path clip-path=\"url(#p1f21844336)\" d=\"M 841.092831 264.555469 \nL 1169.328125 264.555469 \n\" style=\"fill:none;stroke:#b0b0b0;stroke-linecap:square;stroke-width:0.8;\"/>\n     </g>\n     <g id=\"line2d_84\">\n      <g>\n       <use style=\"stroke:#000000;stroke-width:0.8;\" x=\"841.092831\" xlink:href=\"#me6c2b273b4\" y=\"264.555469\"/>\n      </g>\n     </g>\n     <g id=\"text_45\">\n      <!-- 0.006 -->\n      <g transform=\"translate(805.464706 268.354688)scale(0.1 -0.1)\">\n       <use xlink:href=\"#DejaVuSans-48\"/>\n       <use x=\"63.623047\" xlink:href=\"#DejaVuSans-46\"/>\n       <use x=\"95.410156\" xlink:href=\"#DejaVuSans-48\"/>\n       <use x=\"159.033203\" xlink:href=\"#DejaVuSans-48\"/>\n       <use x=\"222.65625\" xlink:href=\"#DejaVuSans-54\"/>\n      </g>\n     </g>\n    </g>\n    <g id=\"ytick_16\">\n     <g id=\"line2d_85\">\n      <path clip-path=\"url(#p1f21844336)\" d=\"M 841.092831 227.98412 \nL 1169.328125 227.98412 \n\" style=\"fill:none;stroke:#b0b0b0;stroke-linecap:square;stroke-width:0.8;\"/>\n     </g>\n     <g id=\"line2d_86\">\n      <g>\n       <use style=\"stroke:#000000;stroke-width:0.8;\" x=\"841.092831\" xlink:href=\"#me6c2b273b4\" y=\"227.98412\"/>\n      </g>\n     </g>\n     <g id=\"text_46\">\n      <!-- 0.008 -->\n      <g transform=\"translate(805.464706 231.783339)scale(0.1 -0.1)\">\n       <use xlink:href=\"#DejaVuSans-48\"/>\n       <use x=\"63.623047\" xlink:href=\"#DejaVuSans-46\"/>\n       <use x=\"95.410156\" xlink:href=\"#DejaVuSans-48\"/>\n       <use x=\"159.033203\" xlink:href=\"#DejaVuSans-48\"/>\n       <use x=\"222.65625\" xlink:href=\"#DejaVuSans-56\"/>\n      </g>\n     </g>\n    </g>\n    <g id=\"ytick_17\">\n     <g id=\"line2d_87\">\n      <path clip-path=\"url(#p1f21844336)\" d=\"M 841.092831 191.412771 \nL 1169.328125 191.412771 \n\" style=\"fill:none;stroke:#b0b0b0;stroke-linecap:square;stroke-width:0.8;\"/>\n     </g>\n     <g id=\"line2d_88\">\n      <g>\n       <use style=\"stroke:#000000;stroke-width:0.8;\" x=\"841.092831\" xlink:href=\"#me6c2b273b4\" y=\"191.412771\"/>\n      </g>\n     </g>\n     <g id=\"text_47\">\n      <!-- 0.010 -->\n      <g transform=\"translate(805.464706 195.211989)scale(0.1 -0.1)\">\n       <use xlink:href=\"#DejaVuSans-48\"/>\n       <use x=\"63.623047\" xlink:href=\"#DejaVuSans-46\"/>\n       <use x=\"95.410156\" xlink:href=\"#DejaVuSans-48\"/>\n       <use x=\"159.033203\" xlink:href=\"#DejaVuSans-49\"/>\n       <use x=\"222.65625\" xlink:href=\"#DejaVuSans-48\"/>\n      </g>\n     </g>\n    </g>\n    <g id=\"ytick_18\">\n     <g id=\"line2d_89\">\n      <path clip-path=\"url(#p1f21844336)\" d=\"M 841.092831 154.841421 \nL 1169.328125 154.841421 \n\" style=\"fill:none;stroke:#b0b0b0;stroke-linecap:square;stroke-width:0.8;\"/>\n     </g>\n     <g id=\"line2d_90\">\n      <g>\n       <use style=\"stroke:#000000;stroke-width:0.8;\" x=\"841.092831\" xlink:href=\"#me6c2b273b4\" y=\"154.841421\"/>\n      </g>\n     </g>\n     <g id=\"text_48\">\n      <!-- 0.012 -->\n      <g transform=\"translate(805.464706 158.64064)scale(0.1 -0.1)\">\n       <use xlink:href=\"#DejaVuSans-48\"/>\n       <use x=\"63.623047\" xlink:href=\"#DejaVuSans-46\"/>\n       <use x=\"95.410156\" xlink:href=\"#DejaVuSans-48\"/>\n       <use x=\"159.033203\" xlink:href=\"#DejaVuSans-49\"/>\n       <use x=\"222.65625\" xlink:href=\"#DejaVuSans-50\"/>\n      </g>\n     </g>\n    </g>\n    <g id=\"ytick_19\">\n     <g id=\"line2d_91\">\n      <path clip-path=\"url(#p1f21844336)\" d=\"M 841.092831 118.270072 \nL 1169.328125 118.270072 \n\" style=\"fill:none;stroke:#b0b0b0;stroke-linecap:square;stroke-width:0.8;\"/>\n     </g>\n     <g id=\"line2d_92\">\n      <g>\n       <use style=\"stroke:#000000;stroke-width:0.8;\" x=\"841.092831\" xlink:href=\"#me6c2b273b4\" y=\"118.270072\"/>\n      </g>\n     </g>\n     <g id=\"text_49\">\n      <!-- 0.014 -->\n      <g transform=\"translate(805.464706 122.069291)scale(0.1 -0.1)\">\n       <use xlink:href=\"#DejaVuSans-48\"/>\n       <use x=\"63.623047\" xlink:href=\"#DejaVuSans-46\"/>\n       <use x=\"95.410156\" xlink:href=\"#DejaVuSans-48\"/>\n       <use x=\"159.033203\" xlink:href=\"#DejaVuSans-49\"/>\n       <use x=\"222.65625\" xlink:href=\"#DejaVuSans-52\"/>\n      </g>\n     </g>\n    </g>\n    <g id=\"ytick_20\">\n     <g id=\"line2d_93\">\n      <path clip-path=\"url(#p1f21844336)\" d=\"M 841.092831 81.698723 \nL 1169.328125 81.698723 \n\" style=\"fill:none;stroke:#b0b0b0;stroke-linecap:square;stroke-width:0.8;\"/>\n     </g>\n     <g id=\"line2d_94\">\n      <g>\n       <use style=\"stroke:#000000;stroke-width:0.8;\" x=\"841.092831\" xlink:href=\"#me6c2b273b4\" y=\"81.698723\"/>\n      </g>\n     </g>\n     <g id=\"text_50\">\n      <!-- 0.016 -->\n      <g transform=\"translate(805.464706 85.497941)scale(0.1 -0.1)\">\n       <use xlink:href=\"#DejaVuSans-48\"/>\n       <use x=\"63.623047\" xlink:href=\"#DejaVuSans-46\"/>\n       <use x=\"95.410156\" xlink:href=\"#DejaVuSans-48\"/>\n       <use x=\"159.033203\" xlink:href=\"#DejaVuSans-49\"/>\n       <use x=\"222.65625\" xlink:href=\"#DejaVuSans-54\"/>\n      </g>\n     </g>\n    </g>\n    <g id=\"ytick_21\">\n     <g id=\"line2d_95\">\n      <path clip-path=\"url(#p1f21844336)\" d=\"M 841.092831 45.127373 \nL 1169.328125 45.127373 \n\" style=\"fill:none;stroke:#b0b0b0;stroke-linecap:square;stroke-width:0.8;\"/>\n     </g>\n     <g id=\"line2d_96\">\n      <g>\n       <use style=\"stroke:#000000;stroke-width:0.8;\" x=\"841.092831\" xlink:href=\"#me6c2b273b4\" y=\"45.127373\"/>\n      </g>\n     </g>\n     <g id=\"text_51\">\n      <!-- 0.018 -->\n      <g transform=\"translate(805.464706 48.926592)scale(0.1 -0.1)\">\n       <use xlink:href=\"#DejaVuSans-48\"/>\n       <use x=\"63.623047\" xlink:href=\"#DejaVuSans-46\"/>\n       <use x=\"95.410156\" xlink:href=\"#DejaVuSans-48\"/>\n       <use x=\"159.033203\" xlink:href=\"#DejaVuSans-49\"/>\n       <use x=\"222.65625\" xlink:href=\"#DejaVuSans-56\"/>\n      </g>\n     </g>\n    </g>\n    <g id=\"text_52\">\n     <!-- Time (min) -->\n     <defs>\n      <path d=\"M 52 44.1875 \nQ 55.375 50.25 60.0625 53.125 \nQ 64.75 56 71.09375 56 \nQ 79.640625 56 84.28125 50.015625 \nQ 88.921875 44.046875 88.921875 33.015625 \nL 88.921875 0 \nL 79.890625 0 \nL 79.890625 32.71875 \nQ 79.890625 40.578125 77.09375 44.375 \nQ 74.3125 48.1875 68.609375 48.1875 \nQ 61.625 48.1875 57.5625 43.546875 \nQ 53.515625 38.921875 53.515625 30.90625 \nL 53.515625 0 \nL 44.484375 0 \nL 44.484375 32.71875 \nQ 44.484375 40.625 41.703125 44.40625 \nQ 38.921875 48.1875 33.109375 48.1875 \nQ 26.21875 48.1875 22.15625 43.53125 \nQ 18.109375 38.875 18.109375 30.90625 \nL 18.109375 0 \nL 9.078125 0 \nL 9.078125 54.6875 \nL 18.109375 54.6875 \nL 18.109375 46.1875 \nQ 21.1875 51.21875 25.484375 53.609375 \nQ 29.78125 56 35.6875 56 \nQ 41.65625 56 45.828125 52.96875 \nQ 50 49.953125 52 44.1875 \nz\n\" id=\"DejaVuSans-109\"/>\n      <path d=\"M 31 75.875 \nQ 24.46875 64.65625 21.28125 53.65625 \nQ 18.109375 42.671875 18.109375 31.390625 \nQ 18.109375 20.125 21.3125 9.0625 \nQ 24.515625 -2 31 -13.1875 \nL 23.1875 -13.1875 \nQ 15.875 -1.703125 12.234375 9.375 \nQ 8.59375 20.453125 8.59375 31.390625 \nQ 8.59375 42.28125 12.203125 53.3125 \nQ 15.828125 64.359375 23.1875 75.875 \nz\n\" id=\"DejaVuSans-40\"/>\n      <path d=\"M 8.015625 75.875 \nL 15.828125 75.875 \nQ 23.140625 64.359375 26.78125 53.3125 \nQ 30.421875 42.28125 30.421875 31.390625 \nQ 30.421875 20.453125 26.78125 9.375 \nQ 23.140625 -1.703125 15.828125 -13.1875 \nL 8.015625 -13.1875 \nQ 14.5 -2 17.703125 9.0625 \nQ 20.90625 20.125 20.90625 31.390625 \nQ 20.90625 42.671875 17.703125 53.65625 \nQ 14.5 64.65625 8.015625 75.875 \nz\n\" id=\"DejaVuSans-41\"/>\n     </defs>\n     <g transform=\"translate(799.385018 212.550469)rotate(-90)scale(0.1 -0.1)\">\n      <use xlink:href=\"#DejaVuSans-84\"/>\n      <use x=\"57.958984\" xlink:href=\"#DejaVuSans-105\"/>\n      <use x=\"85.742188\" xlink:href=\"#DejaVuSans-109\"/>\n      <use x=\"183.154297\" xlink:href=\"#DejaVuSans-101\"/>\n      <use x=\"244.677734\" xlink:href=\"#DejaVuSans-32\"/>\n      <use x=\"276.464844\" xlink:href=\"#DejaVuSans-40\"/>\n      <use x=\"315.478516\" xlink:href=\"#DejaVuSans-109\"/>\n      <use x=\"412.890625\" xlink:href=\"#DejaVuSans-105\"/>\n      <use x=\"440.673828\" xlink:href=\"#DejaVuSans-110\"/>\n      <use x=\"504.052734\" xlink:href=\"#DejaVuSans-41\"/>\n     </g>\n    </g>\n   </g>\n   <g id=\"line2d_97\">\n    <path clip-path=\"url(#p1f21844336)\" d=\"M 856.012617 91.878118 \nL 889.167697 37.14358 \nL 922.322777 88.569947 \nL 955.477858 133.549926 \nL 988.632938 145.804523 \nL 1021.788018 98.221619 \nL 1054.943098 107.432022 \nL 1088.098178 101.108285 \nL 1121.253259 67.0458 \nL 1154.408339 137.293044 \n\" style=\"fill:none;stroke:#1f77b4;stroke-linecap:square;stroke-width:1.5;\"/>\n    <g clip-path=\"url(#p1f21844336)\">\n     <use style=\"fill:#1f77b4;stroke:#1f77b4;\" x=\"856.012617\" xlink:href=\"#m5eba9c83e9\" y=\"91.878118\"/>\n     <use style=\"fill:#1f77b4;stroke:#1f77b4;\" x=\"889.167697\" xlink:href=\"#m5eba9c83e9\" y=\"37.14358\"/>\n     <use style=\"fill:#1f77b4;stroke:#1f77b4;\" x=\"922.322777\" xlink:href=\"#m5eba9c83e9\" y=\"88.569947\"/>\n     <use style=\"fill:#1f77b4;stroke:#1f77b4;\" x=\"955.477858\" xlink:href=\"#m5eba9c83e9\" y=\"133.549926\"/>\n     <use style=\"fill:#1f77b4;stroke:#1f77b4;\" x=\"988.632938\" xlink:href=\"#m5eba9c83e9\" y=\"145.804523\"/>\n     <use style=\"fill:#1f77b4;stroke:#1f77b4;\" x=\"1021.788018\" xlink:href=\"#m5eba9c83e9\" y=\"98.221619\"/>\n     <use style=\"fill:#1f77b4;stroke:#1f77b4;\" x=\"1054.943098\" xlink:href=\"#m5eba9c83e9\" y=\"107.432022\"/>\n     <use style=\"fill:#1f77b4;stroke:#1f77b4;\" x=\"1088.098178\" xlink:href=\"#m5eba9c83e9\" y=\"101.108285\"/>\n     <use style=\"fill:#1f77b4;stroke:#1f77b4;\" x=\"1121.253259\" xlink:href=\"#m5eba9c83e9\" y=\"67.0458\"/>\n     <use style=\"fill:#1f77b4;stroke:#1f77b4;\" x=\"1154.408339\" xlink:href=\"#m5eba9c83e9\" y=\"137.293044\"/>\n    </g>\n   </g>\n   <g id=\"line2d_98\">\n    <path clip-path=\"url(#p1f21844336)\" d=\"M 856.012617 224.96179 \nL 889.167697 239.705672 \nL 922.322777 232.263033 \nL 955.477858 133.993229 \nL 988.632938 171.110661 \nL 1021.788018 189.023714 \nL 1054.943098 110.068953 \nL 1088.098178 214.817915 \nL 1121.253259 187.828736 \nL 1154.408339 176.890606 \n\" style=\"fill:none;stroke:#ff7f0e;stroke-linecap:square;stroke-width:1.5;\"/>\n    <g clip-path=\"url(#p1f21844336)\">\n     <use style=\"fill:#ff7f0e;stroke:#ff7f0e;\" x=\"856.012617\" xlink:href=\"#m1849614b60\" y=\"224.96179\"/>\n     <use style=\"fill:#ff7f0e;stroke:#ff7f0e;\" x=\"889.167697\" xlink:href=\"#m1849614b60\" y=\"239.705672\"/>\n     <use style=\"fill:#ff7f0e;stroke:#ff7f0e;\" x=\"922.322777\" xlink:href=\"#m1849614b60\" y=\"232.263033\"/>\n     <use style=\"fill:#ff7f0e;stroke:#ff7f0e;\" x=\"955.477858\" xlink:href=\"#m1849614b60\" y=\"133.993229\"/>\n     <use style=\"fill:#ff7f0e;stroke:#ff7f0e;\" x=\"988.632938\" xlink:href=\"#m1849614b60\" y=\"171.110661\"/>\n     <use style=\"fill:#ff7f0e;stroke:#ff7f0e;\" x=\"1021.788018\" xlink:href=\"#m1849614b60\" y=\"189.023714\"/>\n     <use style=\"fill:#ff7f0e;stroke:#ff7f0e;\" x=\"1054.943098\" xlink:href=\"#m1849614b60\" y=\"110.068953\"/>\n     <use style=\"fill:#ff7f0e;stroke:#ff7f0e;\" x=\"1088.098178\" xlink:href=\"#m1849614b60\" y=\"214.817915\"/>\n     <use style=\"fill:#ff7f0e;stroke:#ff7f0e;\" x=\"1121.253259\" xlink:href=\"#m1849614b60\" y=\"187.828736\"/>\n     <use style=\"fill:#ff7f0e;stroke:#ff7f0e;\" x=\"1154.408339\" xlink:href=\"#m1849614b60\" y=\"176.890606\"/>\n    </g>\n   </g>\n   <g id=\"line2d_99\">\n    <path clip-path=\"url(#p1f21844336)\" d=\"M 856.012617 244.790689 \nL 889.167697 248.327378 \nL 922.322777 103.087854 \nL 955.477858 251.74454 \nL 988.632938 219.736393 \nL 1021.788018 250.883728 \nL 1054.943098 269.162556 \nL 1088.098178 260.201887 \nL 1121.253259 193.196984 \nL 1154.408339 305.484208 \n\" style=\"fill:none;stroke:#2ca02c;stroke-linecap:square;stroke-width:1.5;\"/>\n    <g clip-path=\"url(#p1f21844336)\">\n     <use style=\"fill:#2ca02c;stroke:#2ca02c;\" x=\"856.012617\" xlink:href=\"#m76fe1a8f12\" y=\"244.790689\"/>\n     <use style=\"fill:#2ca02c;stroke:#2ca02c;\" x=\"889.167697\" xlink:href=\"#m76fe1a8f12\" y=\"248.327378\"/>\n     <use style=\"fill:#2ca02c;stroke:#2ca02c;\" x=\"922.322777\" xlink:href=\"#m76fe1a8f12\" y=\"103.087854\"/>\n     <use style=\"fill:#2ca02c;stroke:#2ca02c;\" x=\"955.477858\" xlink:href=\"#m76fe1a8f12\" y=\"251.74454\"/>\n     <use style=\"fill:#2ca02c;stroke:#2ca02c;\" x=\"988.632938\" xlink:href=\"#m76fe1a8f12\" y=\"219.736393\"/>\n     <use style=\"fill:#2ca02c;stroke:#2ca02c;\" x=\"1021.788018\" xlink:href=\"#m76fe1a8f12\" y=\"250.883728\"/>\n     <use style=\"fill:#2ca02c;stroke:#2ca02c;\" x=\"1054.943098\" xlink:href=\"#m76fe1a8f12\" y=\"269.162556\"/>\n     <use style=\"fill:#2ca02c;stroke:#2ca02c;\" x=\"1088.098178\" xlink:href=\"#m76fe1a8f12\" y=\"260.201887\"/>\n     <use style=\"fill:#2ca02c;stroke:#2ca02c;\" x=\"1121.253259\" xlink:href=\"#m76fe1a8f12\" y=\"193.196984\"/>\n     <use style=\"fill:#2ca02c;stroke:#2ca02c;\" x=\"1154.408339\" xlink:href=\"#m76fe1a8f12\" y=\"305.484208\"/>\n    </g>\n   </g>\n   <g id=\"line2d_100\">\n    <path clip-path=\"url(#p1f21844336)\" d=\"M 856.012617 323.137208 \nL 889.167697 327.038944 \nL 922.322777 329.749045 \nL 955.477858 330.792235 \nL 988.632938 330.960445 \nL 1021.788018 329.987445 \nL 1054.943098 333.65267 \nL 1088.098178 331.685817 \nL 1121.253259 328.572595 \nL 1154.408339 331.596662 \n\" style=\"fill:none;stroke:#d62728;stroke-linecap:square;stroke-width:1.5;\"/>\n    <g clip-path=\"url(#p1f21844336)\">\n     <use style=\"fill:#d62728;stroke:#d62728;\" x=\"856.012617\" xlink:href=\"#ma7edf6ef67\" y=\"323.137208\"/>\n     <use style=\"fill:#d62728;stroke:#d62728;\" x=\"889.167697\" xlink:href=\"#ma7edf6ef67\" y=\"327.038944\"/>\n     <use style=\"fill:#d62728;stroke:#d62728;\" x=\"922.322777\" xlink:href=\"#ma7edf6ef67\" y=\"329.749045\"/>\n     <use style=\"fill:#d62728;stroke:#d62728;\" x=\"955.477858\" xlink:href=\"#ma7edf6ef67\" y=\"330.792235\"/>\n     <use style=\"fill:#d62728;stroke:#d62728;\" x=\"988.632938\" xlink:href=\"#ma7edf6ef67\" y=\"330.960445\"/>\n     <use style=\"fill:#d62728;stroke:#d62728;\" x=\"1021.788018\" xlink:href=\"#ma7edf6ef67\" y=\"329.987445\"/>\n     <use style=\"fill:#d62728;stroke:#d62728;\" x=\"1054.943098\" xlink:href=\"#ma7edf6ef67\" y=\"333.65267\"/>\n     <use style=\"fill:#d62728;stroke:#d62728;\" x=\"1088.098178\" xlink:href=\"#ma7edf6ef67\" y=\"331.685817\"/>\n     <use style=\"fill:#d62728;stroke:#d62728;\" x=\"1121.253259\" xlink:href=\"#ma7edf6ef67\" y=\"328.572595\"/>\n     <use style=\"fill:#d62728;stroke:#d62728;\" x=\"1154.408339\" xlink:href=\"#ma7edf6ef67\" y=\"331.596662\"/>\n    </g>\n   </g>\n   <g id=\"patch_15\">\n    <path d=\"M 841.092831 348.478125 \nL 841.092831 22.318125 \n\" style=\"fill:none;stroke:#000000;stroke-linecap:square;stroke-linejoin:miter;stroke-width:0.8;\"/>\n   </g>\n   <g id=\"patch_16\">\n    <path d=\"M 1169.328125 348.478125 \nL 1169.328125 22.318125 \n\" style=\"fill:none;stroke:#000000;stroke-linecap:square;stroke-linejoin:miter;stroke-width:0.8;\"/>\n   </g>\n   <g id=\"patch_17\">\n    <path d=\"M 841.092831 348.478125 \nL 1169.328125 348.478125 \n\" style=\"fill:none;stroke:#000000;stroke-linecap:square;stroke-linejoin:miter;stroke-width:0.8;\"/>\n   </g>\n   <g id=\"patch_18\">\n    <path d=\"M 841.092831 22.318125 \nL 1169.328125 22.318125 \n\" style=\"fill:none;stroke:#000000;stroke-linecap:square;stroke-linejoin:miter;stroke-width:0.8;\"/>\n   </g>\n   <g id=\"text_53\">\n    <!-- Execution time -->\n    <defs>\n     <path d=\"M 9.8125 72.90625 \nL 55.90625 72.90625 \nL 55.90625 64.59375 \nL 19.671875 64.59375 \nL 19.671875 43.015625 \nL 54.390625 43.015625 \nL 54.390625 34.71875 \nL 19.671875 34.71875 \nL 19.671875 8.296875 \nL 56.78125 8.296875 \nL 56.78125 0 \nL 9.8125 0 \nz\n\" id=\"DejaVuSans-69\"/>\n     <path d=\"M 54.890625 54.6875 \nL 35.109375 28.078125 \nL 55.90625 0 \nL 45.3125 0 \nL 29.390625 21.484375 \nL 13.484375 0 \nL 2.875 0 \nL 24.125 28.609375 \nL 4.6875 54.6875 \nL 15.28125 54.6875 \nL 29.78125 35.203125 \nL 44.28125 54.6875 \nz\n\" id=\"DejaVuSans-120\"/>\n     <path d=\"M 48.78125 52.59375 \nL 48.78125 44.1875 \nQ 44.96875 46.296875 41.140625 47.34375 \nQ 37.3125 48.390625 33.40625 48.390625 \nQ 24.65625 48.390625 19.8125 42.84375 \nQ 14.984375 37.3125 14.984375 27.296875 \nQ 14.984375 17.28125 19.8125 11.734375 \nQ 24.65625 6.203125 33.40625 6.203125 \nQ 37.3125 6.203125 41.140625 7.25 \nQ 44.96875 8.296875 48.78125 10.40625 \nL 48.78125 2.09375 \nQ 45.015625 0.34375 40.984375 -0.53125 \nQ 36.96875 -1.421875 32.421875 -1.421875 \nQ 20.0625 -1.421875 12.78125 6.34375 \nQ 5.515625 14.109375 5.515625 27.296875 \nQ 5.515625 40.671875 12.859375 48.328125 \nQ 20.21875 56 33.015625 56 \nQ 37.15625 56 41.109375 55.140625 \nQ 45.0625 54.296875 48.78125 52.59375 \nz\n\" id=\"DejaVuSans-99\"/>\n    </defs>\n    <g transform=\"translate(960.30704 16.318125)scale(0.12 -0.12)\">\n     <use xlink:href=\"#DejaVuSans-69\"/>\n     <use x=\"63.183594\" xlink:href=\"#DejaVuSans-120\"/>\n     <use x=\"119.238281\" xlink:href=\"#DejaVuSans-101\"/>\n     <use x=\"180.761719\" xlink:href=\"#DejaVuSans-99\"/>\n     <use x=\"235.742188\" xlink:href=\"#DejaVuSans-117\"/>\n     <use x=\"299.121094\" xlink:href=\"#DejaVuSans-116\"/>\n     <use x=\"338.330078\" xlink:href=\"#DejaVuSans-105\"/>\n     <use x=\"366.113281\" xlink:href=\"#DejaVuSans-111\"/>\n     <use x=\"427.294922\" xlink:href=\"#DejaVuSans-110\"/>\n     <use x=\"490.673828\" xlink:href=\"#DejaVuSans-32\"/>\n     <use x=\"522.460938\" xlink:href=\"#DejaVuSans-116\"/>\n     <use x=\"561.669922\" xlink:href=\"#DejaVuSans-105\"/>\n     <use x=\"589.453125\" xlink:href=\"#DejaVuSans-109\"/>\n     <use x=\"686.865234\" xlink:href=\"#DejaVuSans-101\"/>\n    </g>\n   </g>\n   <g id=\"legend_3\">\n    <g id=\"patch_19\">\n     <path d=\"M 848.092831 216.254375 \nL 892.817831 216.254375 \nQ 894.817831 216.254375 894.817831 214.254375 \nL 894.817831 156.541875 \nQ 894.817831 154.541875 892.817831 154.541875 \nL 848.092831 154.541875 \nQ 846.092831 154.541875 846.092831 156.541875 \nL 846.092831 214.254375 \nQ 846.092831 216.254375 848.092831 216.254375 \nz\n\" style=\"fill:#ffffff;opacity:0.8;stroke:#cccccc;stroke-linejoin:miter;\"/>\n    </g>\n    <g id=\"line2d_101\">\n     <path d=\"M 850.092831 162.640312 \nL 870.092831 162.640312 \n\" style=\"fill:none;stroke:#1f77b4;stroke-linecap:square;stroke-width:1.5;\"/>\n    </g>\n    <g id=\"line2d_102\">\n     <g>\n      <use style=\"fill:#1f77b4;stroke:#1f77b4;\" x=\"860.092831\" xlink:href=\"#m5eba9c83e9\" y=\"162.640312\"/>\n     </g>\n    </g>\n    <g id=\"text_54\">\n     <!-- 8 -->\n     <g transform=\"translate(878.092831 166.140312)scale(0.1 -0.1)\">\n      <use xlink:href=\"#DejaVuSans-56\"/>\n     </g>\n    </g>\n    <g id=\"line2d_103\">\n     <path d=\"M 850.092831 177.318437 \nL 870.092831 177.318437 \n\" style=\"fill:none;stroke:#ff7f0e;stroke-linecap:square;stroke-width:1.5;\"/>\n    </g>\n    <g id=\"line2d_104\">\n     <g>\n      <use style=\"fill:#ff7f0e;stroke:#ff7f0e;\" x=\"860.092831\" xlink:href=\"#m1849614b60\" y=\"177.318437\"/>\n     </g>\n    </g>\n    <g id=\"text_55\">\n     <!-- 16 -->\n     <g transform=\"translate(878.092831 180.818437)scale(0.1 -0.1)\">\n      <use xlink:href=\"#DejaVuSans-49\"/>\n      <use x=\"63.623047\" xlink:href=\"#DejaVuSans-54\"/>\n     </g>\n    </g>\n    <g id=\"line2d_105\">\n     <path d=\"M 850.092831 191.996562 \nL 870.092831 191.996562 \n\" style=\"fill:none;stroke:#2ca02c;stroke-linecap:square;stroke-width:1.5;\"/>\n    </g>\n    <g id=\"line2d_106\">\n     <g>\n      <use style=\"fill:#2ca02c;stroke:#2ca02c;\" x=\"860.092831\" xlink:href=\"#m76fe1a8f12\" y=\"191.996562\"/>\n     </g>\n    </g>\n    <g id=\"text_56\">\n     <!-- 32 -->\n     <g transform=\"translate(878.092831 195.496562)scale(0.1 -0.1)\">\n      <use xlink:href=\"#DejaVuSans-51\"/>\n      <use x=\"63.623047\" xlink:href=\"#DejaVuSans-50\"/>\n     </g>\n    </g>\n    <g id=\"line2d_107\">\n     <path d=\"M 850.092831 206.674687 \nL 870.092831 206.674687 \n\" style=\"fill:none;stroke:#d62728;stroke-linecap:square;stroke-width:1.5;\"/>\n    </g>\n    <g id=\"line2d_108\">\n     <g>\n      <use style=\"fill:#d62728;stroke:#d62728;\" x=\"860.092831\" xlink:href=\"#ma7edf6ef67\" y=\"206.674687\"/>\n     </g>\n    </g>\n    <g id=\"text_57\">\n     <!-- 64 -->\n     <g transform=\"translate(878.092831 210.174687)scale(0.1 -0.1)\">\n      <use xlink:href=\"#DejaVuSans-54\"/>\n      <use x=\"63.623047\" xlink:href=\"#DejaVuSans-52\"/>\n     </g>\n    </g>\n   </g>\n  </g>\n </g>\n <defs>\n  <clipPath id=\"p4fa57a5937\">\n   <rect height=\"326.16\" width=\"328.235294\" x=\"53.328125\" y=\"22.318125\"/>\n  </clipPath>\n  <clipPath id=\"pb848f706ba\">\n   <rect height=\"326.16\" width=\"328.235294\" x=\"447.210478\" y=\"22.318125\"/>\n  </clipPath>\n  <clipPath id=\"p1f21844336\">\n   <rect height=\"326.16\" width=\"328.235294\" x=\"841.092831\" y=\"22.318125\"/>\n  </clipPath>\n </defs>\n</svg>\n"
          },
          "metadata": {
            "needs_background": "light"
          }
        }
      ]
    },
    {
      "cell_type": "markdown",
      "source": [
        "Para realizar una selección más precisa, se realizan las mismas gráficas pero en un rango de interés para observar el comportamiento de las combinaciones de menor pérdida.\n",
        "\n",
        "* En el conjunto de entrenamiento se observa que el de menor pérdida es el caso de un tamaño de lote de 32 con 8 neuronas en la capa oculta, pero en el conjunto de prueba, las pérdidas no son las menores.\n",
        "* Los casos de un tamaño de lote de 8 y 16, con 5 neuronas en la capa oculta parecen ser los más consistentes."
      ],
      "metadata": {
        "id": "tU0qw1ETkZqi"
      }
    },
    {
      "cell_type": "code",
      "source": [
        "plot_loss_2param(losses_by_exp,numunits,batch_sizes,time_list=time_per_exp,\n",
        "                x_label='Neurons in hidden layer',y_label='Loss',y_lim=[10,60])"
      ],
      "metadata": {
        "colab": {
          "base_uri": "https://localhost:8080/",
          "height": 0
        },
        "id": "uO5GtjNnbhGB",
        "outputId": "b174df99-38d4-48a6-8edc-ce940633672e"
      },
      "execution_count": 20,
      "outputs": [
        {
          "output_type": "display_data",
          "data": {
            "text/plain": [
              "<Figure size 1440x432 with 3 Axes>"
            ],
            "image/svg+xml": "<?xml version=\"1.0\" encoding=\"utf-8\" standalone=\"no\"?>\n<!DOCTYPE svg PUBLIC \"-//W3C//DTD SVG 1.1//EN\"\n  \"http://www.w3.org/Graphics/SVG/1.1/DTD/svg11.dtd\">\n<!-- Created with matplotlib (https://matplotlib.org/) -->\n<svg height=\"386.034375pt\" version=\"1.1\" viewBox=\"0 0 1163.803125 386.034375\" width=\"1163.803125pt\" xmlns=\"http://www.w3.org/2000/svg\" xmlns:xlink=\"http://www.w3.org/1999/xlink\">\n <defs>\n  <style type=\"text/css\">\n*{stroke-linecap:butt;stroke-linejoin:round;}\n  </style>\n </defs>\n <g id=\"figure_1\">\n  <g id=\"patch_1\">\n   <path d=\"M 0 386.034375 \nL 1163.803125 386.034375 \nL 1163.803125 0 \nL 0 0 \nz\n\" style=\"fill:none;\"/>\n  </g>\n  <g id=\"axes_1\">\n   <g id=\"patch_2\">\n    <path d=\"M 40.603125 348.478125 \nL 368.838419 348.478125 \nL 368.838419 22.318125 \nL 40.603125 22.318125 \nz\n\" style=\"fill:#ffffff;\"/>\n   </g>\n   <g id=\"matplotlib.axis_1\">\n    <g id=\"xtick_1\">\n     <g id=\"line2d_1\">\n      <path clip-path=\"url(#p70e77e238f)\" d=\"M 88.677991 348.478125 \nL 88.677991 22.318125 \n\" style=\"fill:none;stroke:#b0b0b0;stroke-linecap:square;stroke-width:0.8;\"/>\n     </g>\n     <g id=\"line2d_2\">\n      <defs>\n       <path d=\"M 0 0 \nL 0 3.5 \n\" id=\"maec3cb9e5d\" style=\"stroke:#000000;stroke-width:0.8;\"/>\n      </defs>\n      <g>\n       <use style=\"stroke:#000000;stroke-width:0.8;\" x=\"88.677991\" xlink:href=\"#maec3cb9e5d\" y=\"348.478125\"/>\n      </g>\n     </g>\n     <g id=\"text_1\">\n      <!-- 2 -->\n      <defs>\n       <path d=\"M 19.1875 8.296875 \nL 53.609375 8.296875 \nL 53.609375 0 \nL 7.328125 0 \nL 7.328125 8.296875 \nQ 12.9375 14.109375 22.625 23.890625 \nQ 32.328125 33.6875 34.8125 36.53125 \nQ 39.546875 41.84375 41.421875 45.53125 \nQ 43.3125 49.21875 43.3125 52.78125 \nQ 43.3125 58.59375 39.234375 62.25 \nQ 35.15625 65.921875 28.609375 65.921875 \nQ 23.96875 65.921875 18.8125 64.3125 \nQ 13.671875 62.703125 7.8125 59.421875 \nL 7.8125 69.390625 \nQ 13.765625 71.78125 18.9375 73 \nQ 24.125 74.21875 28.421875 74.21875 \nQ 39.75 74.21875 46.484375 68.546875 \nQ 53.21875 62.890625 53.21875 53.421875 \nQ 53.21875 48.921875 51.53125 44.890625 \nQ 49.859375 40.875 45.40625 35.40625 \nQ 44.1875 33.984375 37.640625 27.21875 \nQ 31.109375 20.453125 19.1875 8.296875 \nz\n\" id=\"DejaVuSans-50\"/>\n      </defs>\n      <g transform=\"translate(85.496741 363.076562)scale(0.1 -0.1)\">\n       <use xlink:href=\"#DejaVuSans-50\"/>\n      </g>\n     </g>\n    </g>\n    <g id=\"xtick_2\">\n     <g id=\"line2d_3\">\n      <path clip-path=\"url(#p70e77e238f)\" d=\"M 154.988152 348.478125 \nL 154.988152 22.318125 \n\" style=\"fill:none;stroke:#b0b0b0;stroke-linecap:square;stroke-width:0.8;\"/>\n     </g>\n     <g id=\"line2d_4\">\n      <g>\n       <use style=\"stroke:#000000;stroke-width:0.8;\" x=\"154.988152\" xlink:href=\"#maec3cb9e5d\" y=\"348.478125\"/>\n      </g>\n     </g>\n     <g id=\"text_2\">\n      <!-- 4 -->\n      <defs>\n       <path d=\"M 37.796875 64.3125 \nL 12.890625 25.390625 \nL 37.796875 25.390625 \nz\nM 35.203125 72.90625 \nL 47.609375 72.90625 \nL 47.609375 25.390625 \nL 58.015625 25.390625 \nL 58.015625 17.1875 \nL 47.609375 17.1875 \nL 47.609375 0 \nL 37.796875 0 \nL 37.796875 17.1875 \nL 4.890625 17.1875 \nL 4.890625 26.703125 \nz\n\" id=\"DejaVuSans-52\"/>\n      </defs>\n      <g transform=\"translate(151.806902 363.076562)scale(0.1 -0.1)\">\n       <use xlink:href=\"#DejaVuSans-52\"/>\n      </g>\n     </g>\n    </g>\n    <g id=\"xtick_3\">\n     <g id=\"line2d_5\">\n      <path clip-path=\"url(#p70e77e238f)\" d=\"M 221.298312 348.478125 \nL 221.298312 22.318125 \n\" style=\"fill:none;stroke:#b0b0b0;stroke-linecap:square;stroke-width:0.8;\"/>\n     </g>\n     <g id=\"line2d_6\">\n      <g>\n       <use style=\"stroke:#000000;stroke-width:0.8;\" x=\"221.298312\" xlink:href=\"#maec3cb9e5d\" y=\"348.478125\"/>\n      </g>\n     </g>\n     <g id=\"text_3\">\n      <!-- 6 -->\n      <defs>\n       <path d=\"M 33.015625 40.375 \nQ 26.375 40.375 22.484375 35.828125 \nQ 18.609375 31.296875 18.609375 23.390625 \nQ 18.609375 15.53125 22.484375 10.953125 \nQ 26.375 6.390625 33.015625 6.390625 \nQ 39.65625 6.390625 43.53125 10.953125 \nQ 47.40625 15.53125 47.40625 23.390625 \nQ 47.40625 31.296875 43.53125 35.828125 \nQ 39.65625 40.375 33.015625 40.375 \nz\nM 52.59375 71.296875 \nL 52.59375 62.3125 \nQ 48.875 64.0625 45.09375 64.984375 \nQ 41.3125 65.921875 37.59375 65.921875 \nQ 27.828125 65.921875 22.671875 59.328125 \nQ 17.53125 52.734375 16.796875 39.40625 \nQ 19.671875 43.65625 24.015625 45.921875 \nQ 28.375 48.1875 33.59375 48.1875 \nQ 44.578125 48.1875 50.953125 41.515625 \nQ 57.328125 34.859375 57.328125 23.390625 \nQ 57.328125 12.15625 50.6875 5.359375 \nQ 44.046875 -1.421875 33.015625 -1.421875 \nQ 20.359375 -1.421875 13.671875 8.265625 \nQ 6.984375 17.96875 6.984375 36.375 \nQ 6.984375 53.65625 15.1875 63.9375 \nQ 23.390625 74.21875 37.203125 74.21875 \nQ 40.921875 74.21875 44.703125 73.484375 \nQ 48.484375 72.75 52.59375 71.296875 \nz\n\" id=\"DejaVuSans-54\"/>\n      </defs>\n      <g transform=\"translate(218.117062 363.076562)scale(0.1 -0.1)\">\n       <use xlink:href=\"#DejaVuSans-54\"/>\n      </g>\n     </g>\n    </g>\n    <g id=\"xtick_4\">\n     <g id=\"line2d_7\">\n      <path clip-path=\"url(#p70e77e238f)\" d=\"M 287.608473 348.478125 \nL 287.608473 22.318125 \n\" style=\"fill:none;stroke:#b0b0b0;stroke-linecap:square;stroke-width:0.8;\"/>\n     </g>\n     <g id=\"line2d_8\">\n      <g>\n       <use style=\"stroke:#000000;stroke-width:0.8;\" x=\"287.608473\" xlink:href=\"#maec3cb9e5d\" y=\"348.478125\"/>\n      </g>\n     </g>\n     <g id=\"text_4\">\n      <!-- 8 -->\n      <defs>\n       <path d=\"M 31.78125 34.625 \nQ 24.75 34.625 20.71875 30.859375 \nQ 16.703125 27.09375 16.703125 20.515625 \nQ 16.703125 13.921875 20.71875 10.15625 \nQ 24.75 6.390625 31.78125 6.390625 \nQ 38.8125 6.390625 42.859375 10.171875 \nQ 46.921875 13.96875 46.921875 20.515625 \nQ 46.921875 27.09375 42.890625 30.859375 \nQ 38.875 34.625 31.78125 34.625 \nz\nM 21.921875 38.8125 \nQ 15.578125 40.375 12.03125 44.71875 \nQ 8.5 49.078125 8.5 55.328125 \nQ 8.5 64.0625 14.71875 69.140625 \nQ 20.953125 74.21875 31.78125 74.21875 \nQ 42.671875 74.21875 48.875 69.140625 \nQ 55.078125 64.0625 55.078125 55.328125 \nQ 55.078125 49.078125 51.53125 44.71875 \nQ 48 40.375 41.703125 38.8125 \nQ 48.828125 37.15625 52.796875 32.3125 \nQ 56.78125 27.484375 56.78125 20.515625 \nQ 56.78125 9.90625 50.3125 4.234375 \nQ 43.84375 -1.421875 31.78125 -1.421875 \nQ 19.734375 -1.421875 13.25 4.234375 \nQ 6.78125 9.90625 6.78125 20.515625 \nQ 6.78125 27.484375 10.78125 32.3125 \nQ 14.796875 37.15625 21.921875 38.8125 \nz\nM 18.3125 54.390625 \nQ 18.3125 48.734375 21.84375 45.5625 \nQ 25.390625 42.390625 31.78125 42.390625 \nQ 38.140625 42.390625 41.71875 45.5625 \nQ 45.3125 48.734375 45.3125 54.390625 \nQ 45.3125 60.0625 41.71875 63.234375 \nQ 38.140625 66.40625 31.78125 66.40625 \nQ 25.390625 66.40625 21.84375 63.234375 \nQ 18.3125 60.0625 18.3125 54.390625 \nz\n\" id=\"DejaVuSans-56\"/>\n      </defs>\n      <g transform=\"translate(284.427223 363.076562)scale(0.1 -0.1)\">\n       <use xlink:href=\"#DejaVuSans-56\"/>\n      </g>\n     </g>\n    </g>\n    <g id=\"xtick_5\">\n     <g id=\"line2d_9\">\n      <path clip-path=\"url(#p70e77e238f)\" d=\"M 353.918633 348.478125 \nL 353.918633 22.318125 \n\" style=\"fill:none;stroke:#b0b0b0;stroke-linecap:square;stroke-width:0.8;\"/>\n     </g>\n     <g id=\"line2d_10\">\n      <g>\n       <use style=\"stroke:#000000;stroke-width:0.8;\" x=\"353.918633\" xlink:href=\"#maec3cb9e5d\" y=\"348.478125\"/>\n      </g>\n     </g>\n     <g id=\"text_5\">\n      <!-- 10 -->\n      <defs>\n       <path d=\"M 12.40625 8.296875 \nL 28.515625 8.296875 \nL 28.515625 63.921875 \nL 10.984375 60.40625 \nL 10.984375 69.390625 \nL 28.421875 72.90625 \nL 38.28125 72.90625 \nL 38.28125 8.296875 \nL 54.390625 8.296875 \nL 54.390625 0 \nL 12.40625 0 \nz\n\" id=\"DejaVuSans-49\"/>\n       <path d=\"M 31.78125 66.40625 \nQ 24.171875 66.40625 20.328125 58.90625 \nQ 16.5 51.421875 16.5 36.375 \nQ 16.5 21.390625 20.328125 13.890625 \nQ 24.171875 6.390625 31.78125 6.390625 \nQ 39.453125 6.390625 43.28125 13.890625 \nQ 47.125 21.390625 47.125 36.375 \nQ 47.125 51.421875 43.28125 58.90625 \nQ 39.453125 66.40625 31.78125 66.40625 \nz\nM 31.78125 74.21875 \nQ 44.046875 74.21875 50.515625 64.515625 \nQ 56.984375 54.828125 56.984375 36.375 \nQ 56.984375 17.96875 50.515625 8.265625 \nQ 44.046875 -1.421875 31.78125 -1.421875 \nQ 19.53125 -1.421875 13.0625 8.265625 \nQ 6.59375 17.96875 6.59375 36.375 \nQ 6.59375 54.828125 13.0625 64.515625 \nQ 19.53125 74.21875 31.78125 74.21875 \nz\n\" id=\"DejaVuSans-48\"/>\n      </defs>\n      <g transform=\"translate(347.556133 363.076562)scale(0.1 -0.1)\">\n       <use xlink:href=\"#DejaVuSans-49\"/>\n       <use x=\"63.623047\" xlink:href=\"#DejaVuSans-48\"/>\n      </g>\n     </g>\n    </g>\n    <g id=\"text_6\">\n     <!-- Neurons in hidden layer -->\n     <defs>\n      <path d=\"M 9.8125 72.90625 \nL 23.09375 72.90625 \nL 55.421875 11.921875 \nL 55.421875 72.90625 \nL 64.984375 72.90625 \nL 64.984375 0 \nL 51.703125 0 \nL 19.390625 60.984375 \nL 19.390625 0 \nL 9.8125 0 \nz\n\" id=\"DejaVuSans-78\"/>\n      <path d=\"M 56.203125 29.59375 \nL 56.203125 25.203125 \nL 14.890625 25.203125 \nQ 15.484375 15.921875 20.484375 11.0625 \nQ 25.484375 6.203125 34.421875 6.203125 \nQ 39.59375 6.203125 44.453125 7.46875 \nQ 49.3125 8.734375 54.109375 11.28125 \nL 54.109375 2.78125 \nQ 49.265625 0.734375 44.1875 -0.34375 \nQ 39.109375 -1.421875 33.890625 -1.421875 \nQ 20.796875 -1.421875 13.15625 6.1875 \nQ 5.515625 13.8125 5.515625 26.8125 \nQ 5.515625 40.234375 12.765625 48.109375 \nQ 20.015625 56 32.328125 56 \nQ 43.359375 56 49.78125 48.890625 \nQ 56.203125 41.796875 56.203125 29.59375 \nz\nM 47.21875 32.234375 \nQ 47.125 39.59375 43.09375 43.984375 \nQ 39.0625 48.390625 32.421875 48.390625 \nQ 24.90625 48.390625 20.390625 44.140625 \nQ 15.875 39.890625 15.1875 32.171875 \nz\n\" id=\"DejaVuSans-101\"/>\n      <path d=\"M 8.5 21.578125 \nL 8.5 54.6875 \nL 17.484375 54.6875 \nL 17.484375 21.921875 \nQ 17.484375 14.15625 20.5 10.265625 \nQ 23.53125 6.390625 29.59375 6.390625 \nQ 36.859375 6.390625 41.078125 11.03125 \nQ 45.3125 15.671875 45.3125 23.6875 \nL 45.3125 54.6875 \nL 54.296875 54.6875 \nL 54.296875 0 \nL 45.3125 0 \nL 45.3125 8.40625 \nQ 42.046875 3.421875 37.71875 1 \nQ 33.40625 -1.421875 27.6875 -1.421875 \nQ 18.265625 -1.421875 13.375 4.4375 \nQ 8.5 10.296875 8.5 21.578125 \nz\nM 31.109375 56 \nz\n\" id=\"DejaVuSans-117\"/>\n      <path d=\"M 41.109375 46.296875 \nQ 39.59375 47.171875 37.8125 47.578125 \nQ 36.03125 48 33.890625 48 \nQ 26.265625 48 22.1875 43.046875 \nQ 18.109375 38.09375 18.109375 28.8125 \nL 18.109375 0 \nL 9.078125 0 \nL 9.078125 54.6875 \nL 18.109375 54.6875 \nL 18.109375 46.1875 \nQ 20.953125 51.171875 25.484375 53.578125 \nQ 30.03125 56 36.53125 56 \nQ 37.453125 56 38.578125 55.875 \nQ 39.703125 55.765625 41.0625 55.515625 \nz\n\" id=\"DejaVuSans-114\"/>\n      <path d=\"M 30.609375 48.390625 \nQ 23.390625 48.390625 19.1875 42.75 \nQ 14.984375 37.109375 14.984375 27.296875 \nQ 14.984375 17.484375 19.15625 11.84375 \nQ 23.34375 6.203125 30.609375 6.203125 \nQ 37.796875 6.203125 41.984375 11.859375 \nQ 46.1875 17.53125 46.1875 27.296875 \nQ 46.1875 37.015625 41.984375 42.703125 \nQ 37.796875 48.390625 30.609375 48.390625 \nz\nM 30.609375 56 \nQ 42.328125 56 49.015625 48.375 \nQ 55.71875 40.765625 55.71875 27.296875 \nQ 55.71875 13.875 49.015625 6.21875 \nQ 42.328125 -1.421875 30.609375 -1.421875 \nQ 18.84375 -1.421875 12.171875 6.21875 \nQ 5.515625 13.875 5.515625 27.296875 \nQ 5.515625 40.765625 12.171875 48.375 \nQ 18.84375 56 30.609375 56 \nz\n\" id=\"DejaVuSans-111\"/>\n      <path d=\"M 54.890625 33.015625 \nL 54.890625 0 \nL 45.90625 0 \nL 45.90625 32.71875 \nQ 45.90625 40.484375 42.875 44.328125 \nQ 39.84375 48.1875 33.796875 48.1875 \nQ 26.515625 48.1875 22.3125 43.546875 \nQ 18.109375 38.921875 18.109375 30.90625 \nL 18.109375 0 \nL 9.078125 0 \nL 9.078125 54.6875 \nL 18.109375 54.6875 \nL 18.109375 46.1875 \nQ 21.34375 51.125 25.703125 53.5625 \nQ 30.078125 56 35.796875 56 \nQ 45.21875 56 50.046875 50.171875 \nQ 54.890625 44.34375 54.890625 33.015625 \nz\n\" id=\"DejaVuSans-110\"/>\n      <path d=\"M 44.28125 53.078125 \nL 44.28125 44.578125 \nQ 40.484375 46.53125 36.375 47.5 \nQ 32.28125 48.484375 27.875 48.484375 \nQ 21.1875 48.484375 17.84375 46.4375 \nQ 14.5 44.390625 14.5 40.28125 \nQ 14.5 37.15625 16.890625 35.375 \nQ 19.28125 33.59375 26.515625 31.984375 \nL 29.59375 31.296875 \nQ 39.15625 29.25 43.1875 25.515625 \nQ 47.21875 21.78125 47.21875 15.09375 \nQ 47.21875 7.46875 41.1875 3.015625 \nQ 35.15625 -1.421875 24.609375 -1.421875 \nQ 20.21875 -1.421875 15.453125 -0.5625 \nQ 10.6875 0.296875 5.421875 2 \nL 5.421875 11.28125 \nQ 10.40625 8.6875 15.234375 7.390625 \nQ 20.0625 6.109375 24.8125 6.109375 \nQ 31.15625 6.109375 34.5625 8.28125 \nQ 37.984375 10.453125 37.984375 14.40625 \nQ 37.984375 18.0625 35.515625 20.015625 \nQ 33.0625 21.96875 24.703125 23.78125 \nL 21.578125 24.515625 \nQ 13.234375 26.265625 9.515625 29.90625 \nQ 5.8125 33.546875 5.8125 39.890625 \nQ 5.8125 47.609375 11.28125 51.796875 \nQ 16.75 56 26.8125 56 \nQ 31.78125 56 36.171875 55.265625 \nQ 40.578125 54.546875 44.28125 53.078125 \nz\n\" id=\"DejaVuSans-115\"/>\n      <path id=\"DejaVuSans-32\"/>\n      <path d=\"M 9.421875 54.6875 \nL 18.40625 54.6875 \nL 18.40625 0 \nL 9.421875 0 \nz\nM 9.421875 75.984375 \nL 18.40625 75.984375 \nL 18.40625 64.59375 \nL 9.421875 64.59375 \nz\n\" id=\"DejaVuSans-105\"/>\n      <path d=\"M 54.890625 33.015625 \nL 54.890625 0 \nL 45.90625 0 \nL 45.90625 32.71875 \nQ 45.90625 40.484375 42.875 44.328125 \nQ 39.84375 48.1875 33.796875 48.1875 \nQ 26.515625 48.1875 22.3125 43.546875 \nQ 18.109375 38.921875 18.109375 30.90625 \nL 18.109375 0 \nL 9.078125 0 \nL 9.078125 75.984375 \nL 18.109375 75.984375 \nL 18.109375 46.1875 \nQ 21.34375 51.125 25.703125 53.5625 \nQ 30.078125 56 35.796875 56 \nQ 45.21875 56 50.046875 50.171875 \nQ 54.890625 44.34375 54.890625 33.015625 \nz\n\" id=\"DejaVuSans-104\"/>\n      <path d=\"M 45.40625 46.390625 \nL 45.40625 75.984375 \nL 54.390625 75.984375 \nL 54.390625 0 \nL 45.40625 0 \nL 45.40625 8.203125 \nQ 42.578125 3.328125 38.25 0.953125 \nQ 33.9375 -1.421875 27.875 -1.421875 \nQ 17.96875 -1.421875 11.734375 6.484375 \nQ 5.515625 14.40625 5.515625 27.296875 \nQ 5.515625 40.1875 11.734375 48.09375 \nQ 17.96875 56 27.875 56 \nQ 33.9375 56 38.25 53.625 \nQ 42.578125 51.265625 45.40625 46.390625 \nz\nM 14.796875 27.296875 \nQ 14.796875 17.390625 18.875 11.75 \nQ 22.953125 6.109375 30.078125 6.109375 \nQ 37.203125 6.109375 41.296875 11.75 \nQ 45.40625 17.390625 45.40625 27.296875 \nQ 45.40625 37.203125 41.296875 42.84375 \nQ 37.203125 48.484375 30.078125 48.484375 \nQ 22.953125 48.484375 18.875 42.84375 \nQ 14.796875 37.203125 14.796875 27.296875 \nz\n\" id=\"DejaVuSans-100\"/>\n      <path d=\"M 9.421875 75.984375 \nL 18.40625 75.984375 \nL 18.40625 0 \nL 9.421875 0 \nz\n\" id=\"DejaVuSans-108\"/>\n      <path d=\"M 34.28125 27.484375 \nQ 23.390625 27.484375 19.1875 25 \nQ 14.984375 22.515625 14.984375 16.5 \nQ 14.984375 11.71875 18.140625 8.90625 \nQ 21.296875 6.109375 26.703125 6.109375 \nQ 34.1875 6.109375 38.703125 11.40625 \nQ 43.21875 16.703125 43.21875 25.484375 \nL 43.21875 27.484375 \nz\nM 52.203125 31.203125 \nL 52.203125 0 \nL 43.21875 0 \nL 43.21875 8.296875 \nQ 40.140625 3.328125 35.546875 0.953125 \nQ 30.953125 -1.421875 24.3125 -1.421875 \nQ 15.921875 -1.421875 10.953125 3.296875 \nQ 6 8.015625 6 15.921875 \nQ 6 25.140625 12.171875 29.828125 \nQ 18.359375 34.515625 30.609375 34.515625 \nL 43.21875 34.515625 \nL 43.21875 35.40625 \nQ 43.21875 41.609375 39.140625 45 \nQ 35.0625 48.390625 27.6875 48.390625 \nQ 23 48.390625 18.546875 47.265625 \nQ 14.109375 46.140625 10.015625 43.890625 \nL 10.015625 52.203125 \nQ 14.9375 54.109375 19.578125 55.046875 \nQ 24.21875 56 28.609375 56 \nQ 40.484375 56 46.34375 49.84375 \nQ 52.203125 43.703125 52.203125 31.203125 \nz\n\" id=\"DejaVuSans-97\"/>\n      <path d=\"M 32.171875 -5.078125 \nQ 28.375 -14.84375 24.75 -17.8125 \nQ 21.140625 -20.796875 15.09375 -20.796875 \nL 7.90625 -20.796875 \nL 7.90625 -13.28125 \nL 13.1875 -13.28125 \nQ 16.890625 -13.28125 18.9375 -11.515625 \nQ 21 -9.765625 23.484375 -3.21875 \nL 25.09375 0.875 \nL 2.984375 54.6875 \nL 12.5 54.6875 \nL 29.59375 11.921875 \nL 46.6875 54.6875 \nL 56.203125 54.6875 \nz\n\" id=\"DejaVuSans-121\"/>\n     </defs>\n     <g transform=\"translate(144.93796 376.754687)scale(0.1 -0.1)\">\n      <use xlink:href=\"#DejaVuSans-78\"/>\n      <use x=\"74.804688\" xlink:href=\"#DejaVuSans-101\"/>\n      <use x=\"136.328125\" xlink:href=\"#DejaVuSans-117\"/>\n      <use x=\"199.707031\" xlink:href=\"#DejaVuSans-114\"/>\n      <use x=\"238.570312\" xlink:href=\"#DejaVuSans-111\"/>\n      <use x=\"299.751953\" xlink:href=\"#DejaVuSans-110\"/>\n      <use x=\"363.130859\" xlink:href=\"#DejaVuSans-115\"/>\n      <use x=\"415.230469\" xlink:href=\"#DejaVuSans-32\"/>\n      <use x=\"447.017578\" xlink:href=\"#DejaVuSans-105\"/>\n      <use x=\"474.800781\" xlink:href=\"#DejaVuSans-110\"/>\n      <use x=\"538.179688\" xlink:href=\"#DejaVuSans-32\"/>\n      <use x=\"569.966797\" xlink:href=\"#DejaVuSans-104\"/>\n      <use x=\"633.345703\" xlink:href=\"#DejaVuSans-105\"/>\n      <use x=\"661.128906\" xlink:href=\"#DejaVuSans-100\"/>\n      <use x=\"724.605469\" xlink:href=\"#DejaVuSans-100\"/>\n      <use x=\"788.082031\" xlink:href=\"#DejaVuSans-101\"/>\n      <use x=\"849.605469\" xlink:href=\"#DejaVuSans-110\"/>\n      <use x=\"912.984375\" xlink:href=\"#DejaVuSans-32\"/>\n      <use x=\"944.771484\" xlink:href=\"#DejaVuSans-108\"/>\n      <use x=\"972.554688\" xlink:href=\"#DejaVuSans-97\"/>\n      <use x=\"1033.833984\" xlink:href=\"#DejaVuSans-121\"/>\n      <use x=\"1093.013672\" xlink:href=\"#DejaVuSans-101\"/>\n      <use x=\"1154.537109\" xlink:href=\"#DejaVuSans-114\"/>\n     </g>\n    </g>\n   </g>\n   <g id=\"matplotlib.axis_2\">\n    <g id=\"ytick_1\">\n     <g id=\"line2d_11\">\n      <path clip-path=\"url(#p70e77e238f)\" d=\"M 40.603125 348.478125 \nL 368.838419 348.478125 \n\" style=\"fill:none;stroke:#b0b0b0;stroke-linecap:square;stroke-width:0.8;\"/>\n     </g>\n     <g id=\"line2d_12\">\n      <defs>\n       <path d=\"M 0 0 \nL -3.5 0 \n\" id=\"m9151371973\" style=\"stroke:#000000;stroke-width:0.8;\"/>\n      </defs>\n      <g>\n       <use style=\"stroke:#000000;stroke-width:0.8;\" x=\"40.603125\" xlink:href=\"#m9151371973\" y=\"348.478125\"/>\n      </g>\n     </g>\n     <g id=\"text_7\">\n      <!-- 10 -->\n      <g transform=\"translate(20.878125 352.277344)scale(0.1 -0.1)\">\n       <use xlink:href=\"#DejaVuSans-49\"/>\n       <use x=\"63.623047\" xlink:href=\"#DejaVuSans-48\"/>\n      </g>\n     </g>\n    </g>\n    <g id=\"ytick_2\">\n     <g id=\"line2d_13\">\n      <path clip-path=\"url(#p70e77e238f)\" d=\"M 40.603125 283.246125 \nL 368.838419 283.246125 \n\" style=\"fill:none;stroke:#b0b0b0;stroke-linecap:square;stroke-width:0.8;\"/>\n     </g>\n     <g id=\"line2d_14\">\n      <g>\n       <use style=\"stroke:#000000;stroke-width:0.8;\" x=\"40.603125\" xlink:href=\"#m9151371973\" y=\"283.246125\"/>\n      </g>\n     </g>\n     <g id=\"text_8\">\n      <!-- 20 -->\n      <g transform=\"translate(20.878125 287.045344)scale(0.1 -0.1)\">\n       <use xlink:href=\"#DejaVuSans-50\"/>\n       <use x=\"63.623047\" xlink:href=\"#DejaVuSans-48\"/>\n      </g>\n     </g>\n    </g>\n    <g id=\"ytick_3\">\n     <g id=\"line2d_15\">\n      <path clip-path=\"url(#p70e77e238f)\" d=\"M 40.603125 218.014125 \nL 368.838419 218.014125 \n\" style=\"fill:none;stroke:#b0b0b0;stroke-linecap:square;stroke-width:0.8;\"/>\n     </g>\n     <g id=\"line2d_16\">\n      <g>\n       <use style=\"stroke:#000000;stroke-width:0.8;\" x=\"40.603125\" xlink:href=\"#m9151371973\" y=\"218.014125\"/>\n      </g>\n     </g>\n     <g id=\"text_9\">\n      <!-- 30 -->\n      <defs>\n       <path d=\"M 40.578125 39.3125 \nQ 47.65625 37.796875 51.625 33 \nQ 55.609375 28.21875 55.609375 21.1875 \nQ 55.609375 10.40625 48.1875 4.484375 \nQ 40.765625 -1.421875 27.09375 -1.421875 \nQ 22.515625 -1.421875 17.65625 -0.515625 \nQ 12.796875 0.390625 7.625 2.203125 \nL 7.625 11.71875 \nQ 11.71875 9.328125 16.59375 8.109375 \nQ 21.484375 6.890625 26.8125 6.890625 \nQ 36.078125 6.890625 40.9375 10.546875 \nQ 45.796875 14.203125 45.796875 21.1875 \nQ 45.796875 27.640625 41.28125 31.265625 \nQ 36.765625 34.90625 28.71875 34.90625 \nL 20.21875 34.90625 \nL 20.21875 43.015625 \nL 29.109375 43.015625 \nQ 36.375 43.015625 40.234375 45.921875 \nQ 44.09375 48.828125 44.09375 54.296875 \nQ 44.09375 59.90625 40.109375 62.90625 \nQ 36.140625 65.921875 28.71875 65.921875 \nQ 24.65625 65.921875 20.015625 65.03125 \nQ 15.375 64.15625 9.8125 62.3125 \nL 9.8125 71.09375 \nQ 15.4375 72.65625 20.34375 73.4375 \nQ 25.25 74.21875 29.59375 74.21875 \nQ 40.828125 74.21875 47.359375 69.109375 \nQ 53.90625 64.015625 53.90625 55.328125 \nQ 53.90625 49.265625 50.4375 45.09375 \nQ 46.96875 40.921875 40.578125 39.3125 \nz\n\" id=\"DejaVuSans-51\"/>\n      </defs>\n      <g transform=\"translate(20.878125 221.813344)scale(0.1 -0.1)\">\n       <use xlink:href=\"#DejaVuSans-51\"/>\n       <use x=\"63.623047\" xlink:href=\"#DejaVuSans-48\"/>\n      </g>\n     </g>\n    </g>\n    <g id=\"ytick_4\">\n     <g id=\"line2d_17\">\n      <path clip-path=\"url(#p70e77e238f)\" d=\"M 40.603125 152.782125 \nL 368.838419 152.782125 \n\" style=\"fill:none;stroke:#b0b0b0;stroke-linecap:square;stroke-width:0.8;\"/>\n     </g>\n     <g id=\"line2d_18\">\n      <g>\n       <use style=\"stroke:#000000;stroke-width:0.8;\" x=\"40.603125\" xlink:href=\"#m9151371973\" y=\"152.782125\"/>\n      </g>\n     </g>\n     <g id=\"text_10\">\n      <!-- 40 -->\n      <g transform=\"translate(20.878125 156.581344)scale(0.1 -0.1)\">\n       <use xlink:href=\"#DejaVuSans-52\"/>\n       <use x=\"63.623047\" xlink:href=\"#DejaVuSans-48\"/>\n      </g>\n     </g>\n    </g>\n    <g id=\"ytick_5\">\n     <g id=\"line2d_19\">\n      <path clip-path=\"url(#p70e77e238f)\" d=\"M 40.603125 87.550125 \nL 368.838419 87.550125 \n\" style=\"fill:none;stroke:#b0b0b0;stroke-linecap:square;stroke-width:0.8;\"/>\n     </g>\n     <g id=\"line2d_20\">\n      <g>\n       <use style=\"stroke:#000000;stroke-width:0.8;\" x=\"40.603125\" xlink:href=\"#m9151371973\" y=\"87.550125\"/>\n      </g>\n     </g>\n     <g id=\"text_11\">\n      <!-- 50 -->\n      <defs>\n       <path d=\"M 10.796875 72.90625 \nL 49.515625 72.90625 \nL 49.515625 64.59375 \nL 19.828125 64.59375 \nL 19.828125 46.734375 \nQ 21.96875 47.46875 24.109375 47.828125 \nQ 26.265625 48.1875 28.421875 48.1875 \nQ 40.625 48.1875 47.75 41.5 \nQ 54.890625 34.8125 54.890625 23.390625 \nQ 54.890625 11.625 47.5625 5.09375 \nQ 40.234375 -1.421875 26.90625 -1.421875 \nQ 22.3125 -1.421875 17.546875 -0.640625 \nQ 12.796875 0.140625 7.71875 1.703125 \nL 7.71875 11.625 \nQ 12.109375 9.234375 16.796875 8.0625 \nQ 21.484375 6.890625 26.703125 6.890625 \nQ 35.15625 6.890625 40.078125 11.328125 \nQ 45.015625 15.765625 45.015625 23.390625 \nQ 45.015625 31 40.078125 35.4375 \nQ 35.15625 39.890625 26.703125 39.890625 \nQ 22.75 39.890625 18.8125 39.015625 \nQ 14.890625 38.140625 10.796875 36.28125 \nz\n\" id=\"DejaVuSans-53\"/>\n      </defs>\n      <g transform=\"translate(20.878125 91.349344)scale(0.1 -0.1)\">\n       <use xlink:href=\"#DejaVuSans-53\"/>\n       <use x=\"63.623047\" xlink:href=\"#DejaVuSans-48\"/>\n      </g>\n     </g>\n    </g>\n    <g id=\"ytick_6\">\n     <g id=\"line2d_21\">\n      <path clip-path=\"url(#p70e77e238f)\" d=\"M 40.603125 22.318125 \nL 368.838419 22.318125 \n\" style=\"fill:none;stroke:#b0b0b0;stroke-linecap:square;stroke-width:0.8;\"/>\n     </g>\n     <g id=\"line2d_22\">\n      <g>\n       <use style=\"stroke:#000000;stroke-width:0.8;\" x=\"40.603125\" xlink:href=\"#m9151371973\" y=\"22.318125\"/>\n      </g>\n     </g>\n     <g id=\"text_12\">\n      <!-- 60 -->\n      <g transform=\"translate(20.878125 26.117344)scale(0.1 -0.1)\">\n       <use xlink:href=\"#DejaVuSans-54\"/>\n       <use x=\"63.623047\" xlink:href=\"#DejaVuSans-48\"/>\n      </g>\n     </g>\n    </g>\n    <g id=\"text_13\">\n     <!-- Loss -->\n     <defs>\n      <path d=\"M 9.8125 72.90625 \nL 19.671875 72.90625 \nL 19.671875 8.296875 \nL 55.171875 8.296875 \nL 55.171875 0 \nL 9.8125 0 \nz\n\" id=\"DejaVuSans-76\"/>\n     </defs>\n     <g transform=\"translate(14.798438 196.365312)rotate(-90)scale(0.1 -0.1)\">\n      <use xlink:href=\"#DejaVuSans-76\"/>\n      <use x=\"53.962891\" xlink:href=\"#DejaVuSans-111\"/>\n      <use x=\"115.144531\" xlink:href=\"#DejaVuSans-115\"/>\n      <use x=\"167.244141\" xlink:href=\"#DejaVuSans-115\"/>\n     </g>\n    </g>\n   </g>\n   <g id=\"line2d_23\">\n    <path clip-path=\"url(#p70e77e238f)\" d=\"M 121.444285 -1 \nL 121.833072 316.228076 \nL 122.219786 -1 \nM 187.756301 -1 \nL 188.143232 316.408425 \nL 221.298312 314.908319 \nL 254.453392 308.778514 \nL 287.608473 315.665692 \nL 320.763553 315.943307 \nL 353.918633 315.493486 \n\" style=\"fill:none;stroke:#1f77b4;stroke-linecap:square;stroke-width:1.5;\"/>\n    <defs>\n     <path d=\"M 0 2 \nC 0.530406 2 1.03916 1.789267 1.414214 1.414214 \nC 1.789267 1.03916 2 0.530406 2 0 \nC 2 -0.530406 1.789267 -1.03916 1.414214 -1.414214 \nC 1.03916 -1.789267 0.530406 -2 0 -2 \nC -0.530406 -2 -1.03916 -1.789267 -1.414214 -1.414214 \nC -1.789267 -1.03916 -2 -0.530406 -2 0 \nC -2 0.530406 -1.789267 1.03916 -1.414214 1.414214 \nC -1.03916 1.789267 -0.530406 2 0 2 \nz\n\" id=\"m05635f0520\" style=\"stroke:#1f77b4;\"/>\n    </defs>\n    <g clip-path=\"url(#p70e77e238f)\">\n     <use style=\"fill:#1f77b4;stroke:#1f77b4;\" x=\"121.444285\" xlink:href=\"#m05635f0520\" y=\"-1\"/>\n     <use style=\"fill:#1f77b4;stroke:#1f77b4;\" x=\"121.833072\" xlink:href=\"#m05635f0520\" y=\"316.228076\"/>\n     <use style=\"fill:#1f77b4;stroke:#1f77b4;\" x=\"122.219786\" xlink:href=\"#m05635f0520\" y=\"-1\"/>\n     <use style=\"fill:#1f77b4;stroke:#1f77b4;\" x=\"187.756301\" xlink:href=\"#m05635f0520\" y=\"-1\"/>\n     <use style=\"fill:#1f77b4;stroke:#1f77b4;\" x=\"188.143232\" xlink:href=\"#m05635f0520\" y=\"316.408425\"/>\n     <use style=\"fill:#1f77b4;stroke:#1f77b4;\" x=\"221.298312\" xlink:href=\"#m05635f0520\" y=\"314.908319\"/>\n     <use style=\"fill:#1f77b4;stroke:#1f77b4;\" x=\"254.453392\" xlink:href=\"#m05635f0520\" y=\"308.778514\"/>\n     <use style=\"fill:#1f77b4;stroke:#1f77b4;\" x=\"287.608473\" xlink:href=\"#m05635f0520\" y=\"315.665692\"/>\n     <use style=\"fill:#1f77b4;stroke:#1f77b4;\" x=\"320.763553\" xlink:href=\"#m05635f0520\" y=\"315.943307\"/>\n     <use style=\"fill:#1f77b4;stroke:#1f77b4;\" x=\"353.918633\" xlink:href=\"#m05635f0520\" y=\"315.493486\"/>\n    </g>\n   </g>\n   <g id=\"line2d_24\">\n    <path clip-path=\"url(#p70e77e238f)\" d=\"M 121.49571 -1 \nL 121.833072 315.231544 \nL 122.167547 -1 \nM 187.807903 -1 \nL 188.143232 316.047325 \nL 221.298312 317.037142 \nL 254.453392 307.864888 \nL 287.608473 319.973476 \nL 320.763553 315.202732 \nL 353.918633 314.04455 \n\" style=\"fill:none;stroke:#ff7f0e;stroke-linecap:square;stroke-width:1.5;\"/>\n    <defs>\n     <path d=\"M 0 2 \nC 0.530406 2 1.03916 1.789267 1.414214 1.414214 \nC 1.789267 1.03916 2 0.530406 2 0 \nC 2 -0.530406 1.789267 -1.03916 1.414214 -1.414214 \nC 1.03916 -1.789267 0.530406 -2 0 -2 \nC -0.530406 -2 -1.03916 -1.789267 -1.414214 -1.414214 \nC -1.789267 -1.03916 -2 -0.530406 -2 0 \nC -2 0.530406 -1.789267 1.03916 -1.414214 1.414214 \nC -1.03916 1.789267 -0.530406 2 0 2 \nz\n\" id=\"m2bf245c595\" style=\"stroke:#ff7f0e;\"/>\n    </defs>\n    <g clip-path=\"url(#p70e77e238f)\">\n     <use style=\"fill:#ff7f0e;stroke:#ff7f0e;\" x=\"121.49571\" xlink:href=\"#m2bf245c595\" y=\"-1\"/>\n     <use style=\"fill:#ff7f0e;stroke:#ff7f0e;\" x=\"121.833072\" xlink:href=\"#m2bf245c595\" y=\"315.231544\"/>\n     <use style=\"fill:#ff7f0e;stroke:#ff7f0e;\" x=\"122.167547\" xlink:href=\"#m2bf245c595\" y=\"-1\"/>\n     <use style=\"fill:#ff7f0e;stroke:#ff7f0e;\" x=\"187.807903\" xlink:href=\"#m2bf245c595\" y=\"-1\"/>\n     <use style=\"fill:#ff7f0e;stroke:#ff7f0e;\" x=\"188.143232\" xlink:href=\"#m2bf245c595\" y=\"316.047325\"/>\n     <use style=\"fill:#ff7f0e;stroke:#ff7f0e;\" x=\"221.298312\" xlink:href=\"#m2bf245c595\" y=\"317.037142\"/>\n     <use style=\"fill:#ff7f0e;stroke:#ff7f0e;\" x=\"254.453392\" xlink:href=\"#m2bf245c595\" y=\"307.864888\"/>\n     <use style=\"fill:#ff7f0e;stroke:#ff7f0e;\" x=\"287.608473\" xlink:href=\"#m2bf245c595\" y=\"319.973476\"/>\n     <use style=\"fill:#ff7f0e;stroke:#ff7f0e;\" x=\"320.763553\" xlink:href=\"#m2bf245c595\" y=\"315.202732\"/>\n     <use style=\"fill:#ff7f0e;stroke:#ff7f0e;\" x=\"353.918633\" xlink:href=\"#m2bf245c595\" y=\"314.04455\"/>\n    </g>\n   </g>\n   <g id=\"line2d_25\">\n    <path clip-path=\"url(#p70e77e238f)\" d=\"M 121.521801 -1 \nL 121.833072 312.102251 \nL 122.140334 -1 \nM 187.83331 -1 \nL 188.143232 314.837658 \nL 221.298312 308.625228 \nL 254.453392 304.919374 \nL 287.608473 323.616087 \nL 320.763553 300.532375 \nL 353.918633 303.384449 \n\" style=\"fill:none;stroke:#2ca02c;stroke-linecap:square;stroke-width:1.5;\"/>\n    <defs>\n     <path d=\"M 0 2 \nC 0.530406 2 1.03916 1.789267 1.414214 1.414214 \nC 1.789267 1.03916 2 0.530406 2 0 \nC 2 -0.530406 1.789267 -1.03916 1.414214 -1.414214 \nC 1.03916 -1.789267 0.530406 -2 0 -2 \nC -0.530406 -2 -1.03916 -1.789267 -1.414214 -1.414214 \nC -1.789267 -1.03916 -2 -0.530406 -2 0 \nC -2 0.530406 -1.789267 1.03916 -1.414214 1.414214 \nC -1.03916 1.789267 -0.530406 2 0 2 \nz\n\" id=\"m2ea9e2ddf9\" style=\"stroke:#2ca02c;\"/>\n    </defs>\n    <g clip-path=\"url(#p70e77e238f)\">\n     <use style=\"fill:#2ca02c;stroke:#2ca02c;\" x=\"121.521801\" xlink:href=\"#m2ea9e2ddf9\" y=\"-1\"/>\n     <use style=\"fill:#2ca02c;stroke:#2ca02c;\" x=\"121.833072\" xlink:href=\"#m2ea9e2ddf9\" y=\"312.102251\"/>\n     <use style=\"fill:#2ca02c;stroke:#2ca02c;\" x=\"122.140334\" xlink:href=\"#m2ea9e2ddf9\" y=\"-1\"/>\n     <use style=\"fill:#2ca02c;stroke:#2ca02c;\" x=\"187.83331\" xlink:href=\"#m2ea9e2ddf9\" y=\"-1\"/>\n     <use style=\"fill:#2ca02c;stroke:#2ca02c;\" x=\"188.143232\" xlink:href=\"#m2ea9e2ddf9\" y=\"314.837658\"/>\n     <use style=\"fill:#2ca02c;stroke:#2ca02c;\" x=\"221.298312\" xlink:href=\"#m2ea9e2ddf9\" y=\"308.625228\"/>\n     <use style=\"fill:#2ca02c;stroke:#2ca02c;\" x=\"254.453392\" xlink:href=\"#m2ea9e2ddf9\" y=\"304.919374\"/>\n     <use style=\"fill:#2ca02c;stroke:#2ca02c;\" x=\"287.608473\" xlink:href=\"#m2ea9e2ddf9\" y=\"323.616087\"/>\n     <use style=\"fill:#2ca02c;stroke:#2ca02c;\" x=\"320.763553\" xlink:href=\"#m2ea9e2ddf9\" y=\"300.532375\"/>\n     <use style=\"fill:#2ca02c;stroke:#2ca02c;\" x=\"353.918633\" xlink:href=\"#m2ea9e2ddf9\" y=\"303.384449\"/>\n    </g>\n   </g>\n   <g id=\"line2d_26\">\n    <path clip-path=\"url(#p70e77e238f)\" d=\"M 121.568472 -1 \nL 121.833072 280.116528 \nL 122.097302 -1 \nM 238.173869 -1 \nL 254.453392 227.154365 \nL 287.608473 280.873411 \nL 290.013218 -1 \n\" style=\"fill:none;stroke:#d62728;stroke-linecap:square;stroke-width:1.5;\"/>\n    <defs>\n     <path d=\"M 0 2 \nC 0.530406 2 1.03916 1.789267 1.414214 1.414214 \nC 1.789267 1.03916 2 0.530406 2 0 \nC 2 -0.530406 1.789267 -1.03916 1.414214 -1.414214 \nC 1.03916 -1.789267 0.530406 -2 0 -2 \nC -0.530406 -2 -1.03916 -1.789267 -1.414214 -1.414214 \nC -1.789267 -1.03916 -2 -0.530406 -2 0 \nC -2 0.530406 -1.789267 1.03916 -1.414214 1.414214 \nC -1.03916 1.789267 -0.530406 2 0 2 \nz\n\" id=\"m7e524fc1b7\" style=\"stroke:#d62728;\"/>\n    </defs>\n    <g clip-path=\"url(#p70e77e238f)\">\n     <use style=\"fill:#d62728;stroke:#d62728;\" x=\"121.568472\" xlink:href=\"#m7e524fc1b7\" y=\"-1\"/>\n     <use style=\"fill:#d62728;stroke:#d62728;\" x=\"121.833072\" xlink:href=\"#m7e524fc1b7\" y=\"280.116528\"/>\n     <use style=\"fill:#d62728;stroke:#d62728;\" x=\"122.097302\" xlink:href=\"#m7e524fc1b7\" y=\"-1\"/>\n     <use style=\"fill:#d62728;stroke:#d62728;\" x=\"238.173869\" xlink:href=\"#m7e524fc1b7\" y=\"-1\"/>\n     <use style=\"fill:#d62728;stroke:#d62728;\" x=\"254.453392\" xlink:href=\"#m7e524fc1b7\" y=\"227.154365\"/>\n     <use style=\"fill:#d62728;stroke:#d62728;\" x=\"287.608473\" xlink:href=\"#m7e524fc1b7\" y=\"280.873411\"/>\n     <use style=\"fill:#d62728;stroke:#d62728;\" x=\"290.013218\" xlink:href=\"#m7e524fc1b7\" y=\"-1\"/>\n    </g>\n   </g>\n   <g id=\"patch_3\">\n    <path d=\"M 40.603125 348.478125 \nL 40.603125 22.318125 \n\" style=\"fill:none;stroke:#000000;stroke-linecap:square;stroke-linejoin:miter;stroke-width:0.8;\"/>\n   </g>\n   <g id=\"patch_4\">\n    <path d=\"M 368.838419 348.478125 \nL 368.838419 22.318125 \n\" style=\"fill:none;stroke:#000000;stroke-linecap:square;stroke-linejoin:miter;stroke-width:0.8;\"/>\n   </g>\n   <g id=\"patch_5\">\n    <path d=\"M 40.603125 348.478125 \nL 368.838419 348.478125 \n\" style=\"fill:none;stroke:#000000;stroke-linecap:square;stroke-linejoin:miter;stroke-width:0.8;\"/>\n   </g>\n   <g id=\"patch_6\">\n    <path d=\"M 40.603125 22.318125 \nL 368.838419 22.318125 \n\" style=\"fill:none;stroke:#000000;stroke-linecap:square;stroke-linejoin:miter;stroke-width:0.8;\"/>\n   </g>\n   <g id=\"text_14\">\n    <!-- Train -->\n    <defs>\n     <path d=\"M -0.296875 72.90625 \nL 61.375 72.90625 \nL 61.375 64.59375 \nL 35.5 64.59375 \nL 35.5 0 \nL 25.59375 0 \nL 25.59375 64.59375 \nL -0.296875 64.59375 \nz\n\" id=\"DejaVuSans-84\"/>\n    </defs>\n    <g transform=\"translate(190.328272 16.318125)scale(0.12 -0.12)\">\n     <use xlink:href=\"#DejaVuSans-84\"/>\n     <use x=\"46.333984\" xlink:href=\"#DejaVuSans-114\"/>\n     <use x=\"87.447266\" xlink:href=\"#DejaVuSans-97\"/>\n     <use x=\"148.726562\" xlink:href=\"#DejaVuSans-105\"/>\n     <use x=\"176.509766\" xlink:href=\"#DejaVuSans-110\"/>\n    </g>\n   </g>\n   <g id=\"legend_1\">\n    <g id=\"patch_7\">\n     <path d=\"M 317.113419 89.030625 \nL 361.838419 89.030625 \nQ 363.838419 89.030625 363.838419 87.030625 \nL 363.838419 29.318125 \nQ 363.838419 27.318125 361.838419 27.318125 \nL 317.113419 27.318125 \nQ 315.113419 27.318125 315.113419 29.318125 \nL 315.113419 87.030625 \nQ 315.113419 89.030625 317.113419 89.030625 \nz\n\" style=\"fill:#ffffff;opacity:0.8;stroke:#cccccc;stroke-linejoin:miter;\"/>\n    </g>\n    <g id=\"line2d_27\">\n     <path d=\"M 319.113419 35.416562 \nL 339.113419 35.416562 \n\" style=\"fill:none;stroke:#1f77b4;stroke-linecap:square;stroke-width:1.5;\"/>\n    </g>\n    <g id=\"line2d_28\">\n     <g>\n      <use style=\"fill:#1f77b4;stroke:#1f77b4;\" x=\"329.113419\" xlink:href=\"#m05635f0520\" y=\"35.416562\"/>\n     </g>\n    </g>\n    <g id=\"text_15\">\n     <!-- 8 -->\n     <g transform=\"translate(347.113419 38.916562)scale(0.1 -0.1)\">\n      <use xlink:href=\"#DejaVuSans-56\"/>\n     </g>\n    </g>\n    <g id=\"line2d_29\">\n     <path d=\"M 319.113419 50.094687 \nL 339.113419 50.094687 \n\" style=\"fill:none;stroke:#ff7f0e;stroke-linecap:square;stroke-width:1.5;\"/>\n    </g>\n    <g id=\"line2d_30\">\n     <g>\n      <use style=\"fill:#ff7f0e;stroke:#ff7f0e;\" x=\"329.113419\" xlink:href=\"#m2bf245c595\" y=\"50.094687\"/>\n     </g>\n    </g>\n    <g id=\"text_16\">\n     <!-- 16 -->\n     <g transform=\"translate(347.113419 53.594687)scale(0.1 -0.1)\">\n      <use xlink:href=\"#DejaVuSans-49\"/>\n      <use x=\"63.623047\" xlink:href=\"#DejaVuSans-54\"/>\n     </g>\n    </g>\n    <g id=\"line2d_31\">\n     <path d=\"M 319.113419 64.772812 \nL 339.113419 64.772812 \n\" style=\"fill:none;stroke:#2ca02c;stroke-linecap:square;stroke-width:1.5;\"/>\n    </g>\n    <g id=\"line2d_32\">\n     <g>\n      <use style=\"fill:#2ca02c;stroke:#2ca02c;\" x=\"329.113419\" xlink:href=\"#m2ea9e2ddf9\" y=\"64.772812\"/>\n     </g>\n    </g>\n    <g id=\"text_17\">\n     <!-- 32 -->\n     <g transform=\"translate(347.113419 68.272812)scale(0.1 -0.1)\">\n      <use xlink:href=\"#DejaVuSans-51\"/>\n      <use x=\"63.623047\" xlink:href=\"#DejaVuSans-50\"/>\n     </g>\n    </g>\n    <g id=\"line2d_33\">\n     <path d=\"M 319.113419 79.450937 \nL 339.113419 79.450937 \n\" style=\"fill:none;stroke:#d62728;stroke-linecap:square;stroke-width:1.5;\"/>\n    </g>\n    <g id=\"line2d_34\">\n     <g>\n      <use style=\"fill:#d62728;stroke:#d62728;\" x=\"329.113419\" xlink:href=\"#m7e524fc1b7\" y=\"79.450937\"/>\n     </g>\n    </g>\n    <g id=\"text_18\">\n     <!-- 64 -->\n     <g transform=\"translate(347.113419 82.950937)scale(0.1 -0.1)\">\n      <use xlink:href=\"#DejaVuSans-54\"/>\n      <use x=\"63.623047\" xlink:href=\"#DejaVuSans-52\"/>\n     </g>\n    </g>\n   </g>\n  </g>\n  <g id=\"axes_2\">\n   <g id=\"patch_8\">\n    <path d=\"M 434.485478 348.478125 \nL 762.720772 348.478125 \nL 762.720772 22.318125 \nL 434.485478 22.318125 \nz\n\" style=\"fill:#ffffff;\"/>\n   </g>\n   <g id=\"matplotlib.axis_3\">\n    <g id=\"xtick_6\">\n     <g id=\"line2d_35\">\n      <path clip-path=\"url(#pb5e78d2ca2)\" d=\"M 482.560344 348.478125 \nL 482.560344 22.318125 \n\" style=\"fill:none;stroke:#b0b0b0;stroke-linecap:square;stroke-width:0.8;\"/>\n     </g>\n     <g id=\"line2d_36\">\n      <g>\n       <use style=\"stroke:#000000;stroke-width:0.8;\" x=\"482.560344\" xlink:href=\"#maec3cb9e5d\" y=\"348.478125\"/>\n      </g>\n     </g>\n     <g id=\"text_19\">\n      <!-- 2 -->\n      <g transform=\"translate(479.379094 363.076562)scale(0.1 -0.1)\">\n       <use xlink:href=\"#DejaVuSans-50\"/>\n      </g>\n     </g>\n    </g>\n    <g id=\"xtick_7\">\n     <g id=\"line2d_37\">\n      <path clip-path=\"url(#pb5e78d2ca2)\" d=\"M 548.870505 348.478125 \nL 548.870505 22.318125 \n\" style=\"fill:none;stroke:#b0b0b0;stroke-linecap:square;stroke-width:0.8;\"/>\n     </g>\n     <g id=\"line2d_38\">\n      <g>\n       <use style=\"stroke:#000000;stroke-width:0.8;\" x=\"548.870505\" xlink:href=\"#maec3cb9e5d\" y=\"348.478125\"/>\n      </g>\n     </g>\n     <g id=\"text_20\">\n      <!-- 4 -->\n      <g transform=\"translate(545.689255 363.076562)scale(0.1 -0.1)\">\n       <use xlink:href=\"#DejaVuSans-52\"/>\n      </g>\n     </g>\n    </g>\n    <g id=\"xtick_8\">\n     <g id=\"line2d_39\">\n      <path clip-path=\"url(#pb5e78d2ca2)\" d=\"M 615.180665 348.478125 \nL 615.180665 22.318125 \n\" style=\"fill:none;stroke:#b0b0b0;stroke-linecap:square;stroke-width:0.8;\"/>\n     </g>\n     <g id=\"line2d_40\">\n      <g>\n       <use style=\"stroke:#000000;stroke-width:0.8;\" x=\"615.180665\" xlink:href=\"#maec3cb9e5d\" y=\"348.478125\"/>\n      </g>\n     </g>\n     <g id=\"text_21\">\n      <!-- 6 -->\n      <g transform=\"translate(611.999415 363.076562)scale(0.1 -0.1)\">\n       <use xlink:href=\"#DejaVuSans-54\"/>\n      </g>\n     </g>\n    </g>\n    <g id=\"xtick_9\">\n     <g id=\"line2d_41\">\n      <path clip-path=\"url(#pb5e78d2ca2)\" d=\"M 681.490826 348.478125 \nL 681.490826 22.318125 \n\" style=\"fill:none;stroke:#b0b0b0;stroke-linecap:square;stroke-width:0.8;\"/>\n     </g>\n     <g id=\"line2d_42\">\n      <g>\n       <use style=\"stroke:#000000;stroke-width:0.8;\" x=\"681.490826\" xlink:href=\"#maec3cb9e5d\" y=\"348.478125\"/>\n      </g>\n     </g>\n     <g id=\"text_22\">\n      <!-- 8 -->\n      <g transform=\"translate(678.309576 363.076562)scale(0.1 -0.1)\">\n       <use xlink:href=\"#DejaVuSans-56\"/>\n      </g>\n     </g>\n    </g>\n    <g id=\"xtick_10\">\n     <g id=\"line2d_43\">\n      <path clip-path=\"url(#pb5e78d2ca2)\" d=\"M 747.800986 348.478125 \nL 747.800986 22.318125 \n\" style=\"fill:none;stroke:#b0b0b0;stroke-linecap:square;stroke-width:0.8;\"/>\n     </g>\n     <g id=\"line2d_44\">\n      <g>\n       <use style=\"stroke:#000000;stroke-width:0.8;\" x=\"747.800986\" xlink:href=\"#maec3cb9e5d\" y=\"348.478125\"/>\n      </g>\n     </g>\n     <g id=\"text_23\">\n      <!-- 10 -->\n      <g transform=\"translate(741.438486 363.076562)scale(0.1 -0.1)\">\n       <use xlink:href=\"#DejaVuSans-49\"/>\n       <use x=\"63.623047\" xlink:href=\"#DejaVuSans-48\"/>\n      </g>\n     </g>\n    </g>\n    <g id=\"text_24\">\n     <!-- Neurons in hidden layer -->\n     <g transform=\"translate(538.820312 376.754687)scale(0.1 -0.1)\">\n      <use xlink:href=\"#DejaVuSans-78\"/>\n      <use x=\"74.804688\" xlink:href=\"#DejaVuSans-101\"/>\n      <use x=\"136.328125\" xlink:href=\"#DejaVuSans-117\"/>\n      <use x=\"199.707031\" xlink:href=\"#DejaVuSans-114\"/>\n      <use x=\"238.570312\" xlink:href=\"#DejaVuSans-111\"/>\n      <use x=\"299.751953\" xlink:href=\"#DejaVuSans-110\"/>\n      <use x=\"363.130859\" xlink:href=\"#DejaVuSans-115\"/>\n      <use x=\"415.230469\" xlink:href=\"#DejaVuSans-32\"/>\n      <use x=\"447.017578\" xlink:href=\"#DejaVuSans-105\"/>\n      <use x=\"474.800781\" xlink:href=\"#DejaVuSans-110\"/>\n      <use x=\"538.179688\" xlink:href=\"#DejaVuSans-32\"/>\n      <use x=\"569.966797\" xlink:href=\"#DejaVuSans-104\"/>\n      <use x=\"633.345703\" xlink:href=\"#DejaVuSans-105\"/>\n      <use x=\"661.128906\" xlink:href=\"#DejaVuSans-100\"/>\n      <use x=\"724.605469\" xlink:href=\"#DejaVuSans-100\"/>\n      <use x=\"788.082031\" xlink:href=\"#DejaVuSans-101\"/>\n      <use x=\"849.605469\" xlink:href=\"#DejaVuSans-110\"/>\n      <use x=\"912.984375\" xlink:href=\"#DejaVuSans-32\"/>\n      <use x=\"944.771484\" xlink:href=\"#DejaVuSans-108\"/>\n      <use x=\"972.554688\" xlink:href=\"#DejaVuSans-97\"/>\n      <use x=\"1033.833984\" xlink:href=\"#DejaVuSans-121\"/>\n      <use x=\"1093.013672\" xlink:href=\"#DejaVuSans-101\"/>\n      <use x=\"1154.537109\" xlink:href=\"#DejaVuSans-114\"/>\n     </g>\n    </g>\n   </g>\n   <g id=\"matplotlib.axis_4\">\n    <g id=\"ytick_7\">\n     <g id=\"line2d_45\">\n      <path clip-path=\"url(#pb5e78d2ca2)\" d=\"M 434.485478 348.478125 \nL 762.720772 348.478125 \n\" style=\"fill:none;stroke:#b0b0b0;stroke-linecap:square;stroke-width:0.8;\"/>\n     </g>\n     <g id=\"line2d_46\">\n      <g>\n       <use style=\"stroke:#000000;stroke-width:0.8;\" x=\"434.485478\" xlink:href=\"#m9151371973\" y=\"348.478125\"/>\n      </g>\n     </g>\n     <g id=\"text_25\">\n      <!-- 10 -->\n      <g transform=\"translate(414.760478 352.277344)scale(0.1 -0.1)\">\n       <use xlink:href=\"#DejaVuSans-49\"/>\n       <use x=\"63.623047\" xlink:href=\"#DejaVuSans-48\"/>\n      </g>\n     </g>\n    </g>\n    <g id=\"ytick_8\">\n     <g id=\"line2d_47\">\n      <path clip-path=\"url(#pb5e78d2ca2)\" d=\"M 434.485478 283.246125 \nL 762.720772 283.246125 \n\" style=\"fill:none;stroke:#b0b0b0;stroke-linecap:square;stroke-width:0.8;\"/>\n     </g>\n     <g id=\"line2d_48\">\n      <g>\n       <use style=\"stroke:#000000;stroke-width:0.8;\" x=\"434.485478\" xlink:href=\"#m9151371973\" y=\"283.246125\"/>\n      </g>\n     </g>\n     <g id=\"text_26\">\n      <!-- 20 -->\n      <g transform=\"translate(414.760478 287.045344)scale(0.1 -0.1)\">\n       <use xlink:href=\"#DejaVuSans-50\"/>\n       <use x=\"63.623047\" xlink:href=\"#DejaVuSans-48\"/>\n      </g>\n     </g>\n    </g>\n    <g id=\"ytick_9\">\n     <g id=\"line2d_49\">\n      <path clip-path=\"url(#pb5e78d2ca2)\" d=\"M 434.485478 218.014125 \nL 762.720772 218.014125 \n\" style=\"fill:none;stroke:#b0b0b0;stroke-linecap:square;stroke-width:0.8;\"/>\n     </g>\n     <g id=\"line2d_50\">\n      <g>\n       <use style=\"stroke:#000000;stroke-width:0.8;\" x=\"434.485478\" xlink:href=\"#m9151371973\" y=\"218.014125\"/>\n      </g>\n     </g>\n     <g id=\"text_27\">\n      <!-- 30 -->\n      <g transform=\"translate(414.760478 221.813344)scale(0.1 -0.1)\">\n       <use xlink:href=\"#DejaVuSans-51\"/>\n       <use x=\"63.623047\" xlink:href=\"#DejaVuSans-48\"/>\n      </g>\n     </g>\n    </g>\n    <g id=\"ytick_10\">\n     <g id=\"line2d_51\">\n      <path clip-path=\"url(#pb5e78d2ca2)\" d=\"M 434.485478 152.782125 \nL 762.720772 152.782125 \n\" style=\"fill:none;stroke:#b0b0b0;stroke-linecap:square;stroke-width:0.8;\"/>\n     </g>\n     <g id=\"line2d_52\">\n      <g>\n       <use style=\"stroke:#000000;stroke-width:0.8;\" x=\"434.485478\" xlink:href=\"#m9151371973\" y=\"152.782125\"/>\n      </g>\n     </g>\n     <g id=\"text_28\">\n      <!-- 40 -->\n      <g transform=\"translate(414.760478 156.581344)scale(0.1 -0.1)\">\n       <use xlink:href=\"#DejaVuSans-52\"/>\n       <use x=\"63.623047\" xlink:href=\"#DejaVuSans-48\"/>\n      </g>\n     </g>\n    </g>\n    <g id=\"ytick_11\">\n     <g id=\"line2d_53\">\n      <path clip-path=\"url(#pb5e78d2ca2)\" d=\"M 434.485478 87.550125 \nL 762.720772 87.550125 \n\" style=\"fill:none;stroke:#b0b0b0;stroke-linecap:square;stroke-width:0.8;\"/>\n     </g>\n     <g id=\"line2d_54\">\n      <g>\n       <use style=\"stroke:#000000;stroke-width:0.8;\" x=\"434.485478\" xlink:href=\"#m9151371973\" y=\"87.550125\"/>\n      </g>\n     </g>\n     <g id=\"text_29\">\n      <!-- 50 -->\n      <g transform=\"translate(414.760478 91.349344)scale(0.1 -0.1)\">\n       <use xlink:href=\"#DejaVuSans-53\"/>\n       <use x=\"63.623047\" xlink:href=\"#DejaVuSans-48\"/>\n      </g>\n     </g>\n    </g>\n    <g id=\"ytick_12\">\n     <g id=\"line2d_55\">\n      <path clip-path=\"url(#pb5e78d2ca2)\" d=\"M 434.485478 22.318125 \nL 762.720772 22.318125 \n\" style=\"fill:none;stroke:#b0b0b0;stroke-linecap:square;stroke-width:0.8;\"/>\n     </g>\n     <g id=\"line2d_56\">\n      <g>\n       <use style=\"stroke:#000000;stroke-width:0.8;\" x=\"434.485478\" xlink:href=\"#m9151371973\" y=\"22.318125\"/>\n      </g>\n     </g>\n     <g id=\"text_30\">\n      <!-- 60 -->\n      <g transform=\"translate(414.760478 26.117344)scale(0.1 -0.1)\">\n       <use xlink:href=\"#DejaVuSans-54\"/>\n       <use x=\"63.623047\" xlink:href=\"#DejaVuSans-48\"/>\n      </g>\n     </g>\n    </g>\n    <g id=\"text_31\">\n     <!-- Loss -->\n     <g transform=\"translate(408.68079 196.365312)rotate(-90)scale(0.1 -0.1)\">\n      <use xlink:href=\"#DejaVuSans-76\"/>\n      <use x=\"53.962891\" xlink:href=\"#DejaVuSans-111\"/>\n      <use x=\"115.144531\" xlink:href=\"#DejaVuSans-115\"/>\n      <use x=\"167.244141\" xlink:href=\"#DejaVuSans-115\"/>\n     </g>\n    </g>\n   </g>\n   <g id=\"line2d_57\">\n    <path clip-path=\"url(#pb5e78d2ca2)\" d=\"M 515.497174 -1 \nL 515.715424 186.285228 \nL 515.930471 -1 \nM 581.781386 -1 \nL 582.025585 211.86225 \nL 615.180665 154.278513 \nL 648.335745 79.760274 \nL 681.490826 143.323232 \nL 714.645906 180.949792 \nL 747.800986 116.857069 \n\" style=\"fill:none;stroke:#1f77b4;stroke-linecap:square;stroke-width:1.5;\"/>\n    <g clip-path=\"url(#pb5e78d2ca2)\">\n     <use style=\"fill:#1f77b4;stroke:#1f77b4;\" x=\"515.497174\" xlink:href=\"#m05635f0520\" y=\"-1\"/>\n     <use style=\"fill:#1f77b4;stroke:#1f77b4;\" x=\"515.715424\" xlink:href=\"#m05635f0520\" y=\"186.285228\"/>\n     <use style=\"fill:#1f77b4;stroke:#1f77b4;\" x=\"515.930471\" xlink:href=\"#m05635f0520\" y=\"-1\"/>\n     <use style=\"fill:#1f77b4;stroke:#1f77b4;\" x=\"581.781386\" xlink:href=\"#m05635f0520\" y=\"-1\"/>\n     <use style=\"fill:#1f77b4;stroke:#1f77b4;\" x=\"582.025585\" xlink:href=\"#m05635f0520\" y=\"211.86225\"/>\n     <use style=\"fill:#1f77b4;stroke:#1f77b4;\" x=\"615.180665\" xlink:href=\"#m05635f0520\" y=\"154.278513\"/>\n     <use style=\"fill:#1f77b4;stroke:#1f77b4;\" x=\"648.335745\" xlink:href=\"#m05635f0520\" y=\"79.760274\"/>\n     <use style=\"fill:#1f77b4;stroke:#1f77b4;\" x=\"681.490826\" xlink:href=\"#m05635f0520\" y=\"143.323232\"/>\n     <use style=\"fill:#1f77b4;stroke:#1f77b4;\" x=\"714.645906\" xlink:href=\"#m05635f0520\" y=\"180.949792\"/>\n     <use style=\"fill:#1f77b4;stroke:#1f77b4;\" x=\"747.800986\" xlink:href=\"#m05635f0520\" y=\"116.857069\"/>\n    </g>\n   </g>\n   <g id=\"line2d_58\">\n    <path clip-path=\"url(#pb5e78d2ca2)\" d=\"M 515.572306 -1 \nL 515.715424 139.434365 \nL 515.857974 -1 \nM 581.84124 -1 \nL 582.025585 180.839689 \nL 615.180665 129.364271 \nL 648.335745 97.334383 \nL 681.490826 166.74984 \nL 714.645906 179.15009 \nL 747.800986 120.167361 \n\" style=\"fill:none;stroke:#ff7f0e;stroke-linecap:square;stroke-width:1.5;\"/>\n    <g clip-path=\"url(#pb5e78d2ca2)\">\n     <use style=\"fill:#ff7f0e;stroke:#ff7f0e;\" x=\"515.572306\" xlink:href=\"#m2bf245c595\" y=\"-1\"/>\n     <use style=\"fill:#ff7f0e;stroke:#ff7f0e;\" x=\"515.715424\" xlink:href=\"#m2bf245c595\" y=\"139.434365\"/>\n     <use style=\"fill:#ff7f0e;stroke:#ff7f0e;\" x=\"515.857974\" xlink:href=\"#m2bf245c595\" y=\"-1\"/>\n     <use style=\"fill:#ff7f0e;stroke:#ff7f0e;\" x=\"581.84124\" xlink:href=\"#m2bf245c595\" y=\"-1\"/>\n     <use style=\"fill:#ff7f0e;stroke:#ff7f0e;\" x=\"582.025585\" xlink:href=\"#m2bf245c595\" y=\"180.839689\"/>\n     <use style=\"fill:#ff7f0e;stroke:#ff7f0e;\" x=\"615.180665\" xlink:href=\"#m2bf245c595\" y=\"129.364271\"/>\n     <use style=\"fill:#ff7f0e;stroke:#ff7f0e;\" x=\"648.335745\" xlink:href=\"#m2bf245c595\" y=\"97.334383\"/>\n     <use style=\"fill:#ff7f0e;stroke:#ff7f0e;\" x=\"681.490826\" xlink:href=\"#m2bf245c595\" y=\"166.74984\"/>\n     <use style=\"fill:#ff7f0e;stroke:#ff7f0e;\" x=\"714.645906\" xlink:href=\"#m2bf245c595\" y=\"179.15009\"/>\n     <use style=\"fill:#ff7f0e;stroke:#ff7f0e;\" x=\"747.800986\" xlink:href=\"#m2bf245c595\" y=\"120.167361\"/>\n    </g>\n   </g>\n   <g id=\"line2d_59\">\n    <path clip-path=\"url(#pb5e78d2ca2)\" d=\"M 515.581192 -1 \nL 515.715424 139.457561 \nL 515.849251 -1 \nM 581.85247 -1 \nL 582.025585 180.909652 \nL 615.180665 109.481252 \nL 648.335745 90.285059 \nL 681.490826 165.442211 \nL 714.645906 168.016317 \nL 747.800986 102.637999 \n\" style=\"fill:none;stroke:#2ca02c;stroke-linecap:square;stroke-width:1.5;\"/>\n    <g clip-path=\"url(#pb5e78d2ca2)\">\n     <use style=\"fill:#2ca02c;stroke:#2ca02c;\" x=\"515.581192\" xlink:href=\"#m2ea9e2ddf9\" y=\"-1\"/>\n     <use style=\"fill:#2ca02c;stroke:#2ca02c;\" x=\"515.715424\" xlink:href=\"#m2ea9e2ddf9\" y=\"139.457561\"/>\n     <use style=\"fill:#2ca02c;stroke:#2ca02c;\" x=\"515.849251\" xlink:href=\"#m2ea9e2ddf9\" y=\"-1\"/>\n     <use style=\"fill:#2ca02c;stroke:#2ca02c;\" x=\"581.85247\" xlink:href=\"#m2ea9e2ddf9\" y=\"-1\"/>\n     <use style=\"fill:#2ca02c;stroke:#2ca02c;\" x=\"582.025585\" xlink:href=\"#m2ea9e2ddf9\" y=\"180.909652\"/>\n     <use style=\"fill:#2ca02c;stroke:#2ca02c;\" x=\"615.180665\" xlink:href=\"#m2ea9e2ddf9\" y=\"109.481252\"/>\n     <use style=\"fill:#2ca02c;stroke:#2ca02c;\" x=\"648.335745\" xlink:href=\"#m2ea9e2ddf9\" y=\"90.285059\"/>\n     <use style=\"fill:#2ca02c;stroke:#2ca02c;\" x=\"681.490826\" xlink:href=\"#m2ea9e2ddf9\" y=\"165.442211\"/>\n     <use style=\"fill:#2ca02c;stroke:#2ca02c;\" x=\"714.645906\" xlink:href=\"#m2ea9e2ddf9\" y=\"168.016317\"/>\n     <use style=\"fill:#2ca02c;stroke:#2ca02c;\" x=\"747.800986\" xlink:href=\"#m2ea9e2ddf9\" y=\"102.637999\"/>\n    </g>\n   </g>\n   <g id=\"line2d_60\">\n    <path clip-path=\"url(#pb5e78d2ca2)\" d=\"M 515.623689 -1 \nL 515.715424 101.151042 \nL 515.807035 -1 \nM 652.70274 -1 \nL 681.490826 130.862542 \nL 682.581785 -1 \n\" style=\"fill:none;stroke:#d62728;stroke-linecap:square;stroke-width:1.5;\"/>\n    <g clip-path=\"url(#pb5e78d2ca2)\">\n     <use style=\"fill:#d62728;stroke:#d62728;\" x=\"515.623689\" xlink:href=\"#m7e524fc1b7\" y=\"-1\"/>\n     <use style=\"fill:#d62728;stroke:#d62728;\" x=\"515.715424\" xlink:href=\"#m7e524fc1b7\" y=\"101.151042\"/>\n     <use style=\"fill:#d62728;stroke:#d62728;\" x=\"515.807035\" xlink:href=\"#m7e524fc1b7\" y=\"-1\"/>\n     <use style=\"fill:#d62728;stroke:#d62728;\" x=\"652.70274\" xlink:href=\"#m7e524fc1b7\" y=\"-1\"/>\n     <use style=\"fill:#d62728;stroke:#d62728;\" x=\"681.490826\" xlink:href=\"#m7e524fc1b7\" y=\"130.862542\"/>\n     <use style=\"fill:#d62728;stroke:#d62728;\" x=\"682.581785\" xlink:href=\"#m7e524fc1b7\" y=\"-1\"/>\n    </g>\n   </g>\n   <g id=\"patch_9\">\n    <path d=\"M 434.485478 348.478125 \nL 434.485478 22.318125 \n\" style=\"fill:none;stroke:#000000;stroke-linecap:square;stroke-linejoin:miter;stroke-width:0.8;\"/>\n   </g>\n   <g id=\"patch_10\">\n    <path d=\"M 762.720772 348.478125 \nL 762.720772 22.318125 \n\" style=\"fill:none;stroke:#000000;stroke-linecap:square;stroke-linejoin:miter;stroke-width:0.8;\"/>\n   </g>\n   <g id=\"patch_11\">\n    <path d=\"M 434.485478 348.478125 \nL 762.720772 348.478125 \n\" style=\"fill:none;stroke:#000000;stroke-linecap:square;stroke-linejoin:miter;stroke-width:0.8;\"/>\n   </g>\n   <g id=\"patch_12\">\n    <path d=\"M 434.485478 22.318125 \nL 762.720772 22.318125 \n\" style=\"fill:none;stroke:#000000;stroke-linecap:square;stroke-linejoin:miter;stroke-width:0.8;\"/>\n   </g>\n   <g id=\"text_32\">\n    <!-- Test -->\n    <defs>\n     <path d=\"M 18.3125 70.21875 \nL 18.3125 54.6875 \nL 36.8125 54.6875 \nL 36.8125 47.703125 \nL 18.3125 47.703125 \nL 18.3125 18.015625 \nQ 18.3125 11.328125 20.140625 9.421875 \nQ 21.96875 7.515625 27.59375 7.515625 \nL 36.8125 7.515625 \nL 36.8125 0 \nL 27.59375 0 \nQ 17.1875 0 13.234375 3.875 \nQ 9.28125 7.765625 9.28125 18.015625 \nL 9.28125 47.703125 \nL 2.6875 47.703125 \nL 2.6875 54.6875 \nL 9.28125 54.6875 \nL 9.28125 70.21875 \nz\n\" id=\"DejaVuSans-116\"/>\n    </defs>\n    <g transform=\"translate(586.78875 16.318125)scale(0.12 -0.12)\">\n     <use xlink:href=\"#DejaVuSans-84\"/>\n     <use x=\"44.083984\" xlink:href=\"#DejaVuSans-101\"/>\n     <use x=\"105.607422\" xlink:href=\"#DejaVuSans-115\"/>\n     <use x=\"157.707031\" xlink:href=\"#DejaVuSans-116\"/>\n    </g>\n   </g>\n   <g id=\"legend_2\">\n    <g id=\"patch_13\">\n     <path d=\"M 710.995772 89.030625 \nL 755.720772 89.030625 \nQ 757.720772 89.030625 757.720772 87.030625 \nL 757.720772 29.318125 \nQ 757.720772 27.318125 755.720772 27.318125 \nL 710.995772 27.318125 \nQ 708.995772 27.318125 708.995772 29.318125 \nL 708.995772 87.030625 \nQ 708.995772 89.030625 710.995772 89.030625 \nz\n\" style=\"fill:#ffffff;opacity:0.8;stroke:#cccccc;stroke-linejoin:miter;\"/>\n    </g>\n    <g id=\"line2d_61\">\n     <path d=\"M 712.995772 35.416562 \nL 732.995772 35.416562 \n\" style=\"fill:none;stroke:#1f77b4;stroke-linecap:square;stroke-width:1.5;\"/>\n    </g>\n    <g id=\"line2d_62\">\n     <g>\n      <use style=\"fill:#1f77b4;stroke:#1f77b4;\" x=\"722.995772\" xlink:href=\"#m05635f0520\" y=\"35.416562\"/>\n     </g>\n    </g>\n    <g id=\"text_33\">\n     <!-- 8 -->\n     <g transform=\"translate(740.995772 38.916562)scale(0.1 -0.1)\">\n      <use xlink:href=\"#DejaVuSans-56\"/>\n     </g>\n    </g>\n    <g id=\"line2d_63\">\n     <path d=\"M 712.995772 50.094687 \nL 732.995772 50.094687 \n\" style=\"fill:none;stroke:#ff7f0e;stroke-linecap:square;stroke-width:1.5;\"/>\n    </g>\n    <g id=\"line2d_64\">\n     <g>\n      <use style=\"fill:#ff7f0e;stroke:#ff7f0e;\" x=\"722.995772\" xlink:href=\"#m2bf245c595\" y=\"50.094687\"/>\n     </g>\n    </g>\n    <g id=\"text_34\">\n     <!-- 16 -->\n     <g transform=\"translate(740.995772 53.594687)scale(0.1 -0.1)\">\n      <use xlink:href=\"#DejaVuSans-49\"/>\n      <use x=\"63.623047\" xlink:href=\"#DejaVuSans-54\"/>\n     </g>\n    </g>\n    <g id=\"line2d_65\">\n     <path d=\"M 712.995772 64.772812 \nL 732.995772 64.772812 \n\" style=\"fill:none;stroke:#2ca02c;stroke-linecap:square;stroke-width:1.5;\"/>\n    </g>\n    <g id=\"line2d_66\">\n     <g>\n      <use style=\"fill:#2ca02c;stroke:#2ca02c;\" x=\"722.995772\" xlink:href=\"#m2ea9e2ddf9\" y=\"64.772812\"/>\n     </g>\n    </g>\n    <g id=\"text_35\">\n     <!-- 32 -->\n     <g transform=\"translate(740.995772 68.272812)scale(0.1 -0.1)\">\n      <use xlink:href=\"#DejaVuSans-51\"/>\n      <use x=\"63.623047\" xlink:href=\"#DejaVuSans-50\"/>\n     </g>\n    </g>\n    <g id=\"line2d_67\">\n     <path d=\"M 712.995772 79.450937 \nL 732.995772 79.450937 \n\" style=\"fill:none;stroke:#d62728;stroke-linecap:square;stroke-width:1.5;\"/>\n    </g>\n    <g id=\"line2d_68\">\n     <g>\n      <use style=\"fill:#d62728;stroke:#d62728;\" x=\"722.995772\" xlink:href=\"#m7e524fc1b7\" y=\"79.450937\"/>\n     </g>\n    </g>\n    <g id=\"text_36\">\n     <!-- 64 -->\n     <g transform=\"translate(740.995772 82.950937)scale(0.1 -0.1)\">\n      <use xlink:href=\"#DejaVuSans-54\"/>\n      <use x=\"63.623047\" xlink:href=\"#DejaVuSans-52\"/>\n     </g>\n    </g>\n   </g>\n  </g>\n  <g id=\"axes_3\">\n   <g id=\"patch_14\">\n    <path d=\"M 828.367831 348.478125 \nL 1156.603125 348.478125 \nL 1156.603125 22.318125 \nL 828.367831 22.318125 \nz\n\" style=\"fill:#ffffff;\"/>\n   </g>\n   <g id=\"matplotlib.axis_5\">\n    <g id=\"xtick_11\">\n     <g id=\"line2d_69\">\n      <path clip-path=\"url(#p680022706d)\" d=\"M 876.442697 348.478125 \nL 876.442697 22.318125 \n\" style=\"fill:none;stroke:#b0b0b0;stroke-linecap:square;stroke-width:0.8;\"/>\n     </g>\n     <g id=\"line2d_70\">\n      <g>\n       <use style=\"stroke:#000000;stroke-width:0.8;\" x=\"876.442697\" xlink:href=\"#maec3cb9e5d\" y=\"348.478125\"/>\n      </g>\n     </g>\n     <g id=\"text_37\">\n      <!-- 2 -->\n      <g transform=\"translate(873.261447 363.076562)scale(0.1 -0.1)\">\n       <use xlink:href=\"#DejaVuSans-50\"/>\n      </g>\n     </g>\n    </g>\n    <g id=\"xtick_12\">\n     <g id=\"line2d_71\">\n      <path clip-path=\"url(#p680022706d)\" d=\"M 942.752858 348.478125 \nL 942.752858 22.318125 \n\" style=\"fill:none;stroke:#b0b0b0;stroke-linecap:square;stroke-width:0.8;\"/>\n     </g>\n     <g id=\"line2d_72\">\n      <g>\n       <use style=\"stroke:#000000;stroke-width:0.8;\" x=\"942.752858\" xlink:href=\"#maec3cb9e5d\" y=\"348.478125\"/>\n      </g>\n     </g>\n     <g id=\"text_38\">\n      <!-- 4 -->\n      <g transform=\"translate(939.571608 363.076562)scale(0.1 -0.1)\">\n       <use xlink:href=\"#DejaVuSans-52\"/>\n      </g>\n     </g>\n    </g>\n    <g id=\"xtick_13\">\n     <g id=\"line2d_73\">\n      <path clip-path=\"url(#p680022706d)\" d=\"M 1009.063018 348.478125 \nL 1009.063018 22.318125 \n\" style=\"fill:none;stroke:#b0b0b0;stroke-linecap:square;stroke-width:0.8;\"/>\n     </g>\n     <g id=\"line2d_74\">\n      <g>\n       <use style=\"stroke:#000000;stroke-width:0.8;\" x=\"1009.063018\" xlink:href=\"#maec3cb9e5d\" y=\"348.478125\"/>\n      </g>\n     </g>\n     <g id=\"text_39\">\n      <!-- 6 -->\n      <g transform=\"translate(1005.881768 363.076562)scale(0.1 -0.1)\">\n       <use xlink:href=\"#DejaVuSans-54\"/>\n      </g>\n     </g>\n    </g>\n    <g id=\"xtick_14\">\n     <g id=\"line2d_75\">\n      <path clip-path=\"url(#p680022706d)\" d=\"M 1075.373178 348.478125 \nL 1075.373178 22.318125 \n\" style=\"fill:none;stroke:#b0b0b0;stroke-linecap:square;stroke-width:0.8;\"/>\n     </g>\n     <g id=\"line2d_76\">\n      <g>\n       <use style=\"stroke:#000000;stroke-width:0.8;\" x=\"1075.373178\" xlink:href=\"#maec3cb9e5d\" y=\"348.478125\"/>\n      </g>\n     </g>\n     <g id=\"text_40\">\n      <!-- 8 -->\n      <g transform=\"translate(1072.191928 363.076562)scale(0.1 -0.1)\">\n       <use xlink:href=\"#DejaVuSans-56\"/>\n      </g>\n     </g>\n    </g>\n    <g id=\"xtick_15\">\n     <g id=\"line2d_77\">\n      <path clip-path=\"url(#p680022706d)\" d=\"M 1141.683339 348.478125 \nL 1141.683339 22.318125 \n\" style=\"fill:none;stroke:#b0b0b0;stroke-linecap:square;stroke-width:0.8;\"/>\n     </g>\n     <g id=\"line2d_78\">\n      <g>\n       <use style=\"stroke:#000000;stroke-width:0.8;\" x=\"1141.683339\" xlink:href=\"#maec3cb9e5d\" y=\"348.478125\"/>\n      </g>\n     </g>\n     <g id=\"text_41\">\n      <!-- 10 -->\n      <g transform=\"translate(1135.320839 363.076562)scale(0.1 -0.1)\">\n       <use xlink:href=\"#DejaVuSans-49\"/>\n       <use x=\"63.623047\" xlink:href=\"#DejaVuSans-48\"/>\n      </g>\n     </g>\n    </g>\n    <g id=\"text_42\">\n     <!-- Neurons in hidden layer -->\n     <g transform=\"translate(932.702665 376.754687)scale(0.1 -0.1)\">\n      <use xlink:href=\"#DejaVuSans-78\"/>\n      <use x=\"74.804688\" xlink:href=\"#DejaVuSans-101\"/>\n      <use x=\"136.328125\" xlink:href=\"#DejaVuSans-117\"/>\n      <use x=\"199.707031\" xlink:href=\"#DejaVuSans-114\"/>\n      <use x=\"238.570312\" xlink:href=\"#DejaVuSans-111\"/>\n      <use x=\"299.751953\" xlink:href=\"#DejaVuSans-110\"/>\n      <use x=\"363.130859\" xlink:href=\"#DejaVuSans-115\"/>\n      <use x=\"415.230469\" xlink:href=\"#DejaVuSans-32\"/>\n      <use x=\"447.017578\" xlink:href=\"#DejaVuSans-105\"/>\n      <use x=\"474.800781\" xlink:href=\"#DejaVuSans-110\"/>\n      <use x=\"538.179688\" xlink:href=\"#DejaVuSans-32\"/>\n      <use x=\"569.966797\" xlink:href=\"#DejaVuSans-104\"/>\n      <use x=\"633.345703\" xlink:href=\"#DejaVuSans-105\"/>\n      <use x=\"661.128906\" xlink:href=\"#DejaVuSans-100\"/>\n      <use x=\"724.605469\" xlink:href=\"#DejaVuSans-100\"/>\n      <use x=\"788.082031\" xlink:href=\"#DejaVuSans-101\"/>\n      <use x=\"849.605469\" xlink:href=\"#DejaVuSans-110\"/>\n      <use x=\"912.984375\" xlink:href=\"#DejaVuSans-32\"/>\n      <use x=\"944.771484\" xlink:href=\"#DejaVuSans-108\"/>\n      <use x=\"972.554688\" xlink:href=\"#DejaVuSans-97\"/>\n      <use x=\"1033.833984\" xlink:href=\"#DejaVuSans-121\"/>\n      <use x=\"1093.013672\" xlink:href=\"#DejaVuSans-101\"/>\n      <use x=\"1154.537109\" xlink:href=\"#DejaVuSans-114\"/>\n     </g>\n    </g>\n   </g>\n   <g id=\"matplotlib.axis_6\">\n    <g id=\"ytick_13\">\n     <g id=\"line2d_79\">\n      <path clip-path=\"url(#p680022706d)\" d=\"M 828.367831 337.698168 \nL 1156.603125 337.698168 \n\" style=\"fill:none;stroke:#b0b0b0;stroke-linecap:square;stroke-width:0.8;\"/>\n     </g>\n     <g id=\"line2d_80\">\n      <g>\n       <use style=\"stroke:#000000;stroke-width:0.8;\" x=\"828.367831\" xlink:href=\"#m9151371973\" y=\"337.698168\"/>\n      </g>\n     </g>\n     <g id=\"text_43\">\n      <!-- 0.002 -->\n      <defs>\n       <path d=\"M 10.6875 12.40625 \nL 21 12.40625 \nL 21 0 \nL 10.6875 0 \nz\n\" id=\"DejaVuSans-46\"/>\n      </defs>\n      <g transform=\"translate(792.739706 341.497387)scale(0.1 -0.1)\">\n       <use xlink:href=\"#DejaVuSans-48\"/>\n       <use x=\"63.623047\" xlink:href=\"#DejaVuSans-46\"/>\n       <use x=\"95.410156\" xlink:href=\"#DejaVuSans-48\"/>\n       <use x=\"159.033203\" xlink:href=\"#DejaVuSans-48\"/>\n       <use x=\"222.65625\" xlink:href=\"#DejaVuSans-50\"/>\n      </g>\n     </g>\n    </g>\n    <g id=\"ytick_14\">\n     <g id=\"line2d_81\">\n      <path clip-path=\"url(#p680022706d)\" d=\"M 828.367831 301.126818 \nL 1156.603125 301.126818 \n\" style=\"fill:none;stroke:#b0b0b0;stroke-linecap:square;stroke-width:0.8;\"/>\n     </g>\n     <g id=\"line2d_82\">\n      <g>\n       <use style=\"stroke:#000000;stroke-width:0.8;\" x=\"828.367831\" xlink:href=\"#m9151371973\" y=\"301.126818\"/>\n      </g>\n     </g>\n     <g id=\"text_44\">\n      <!-- 0.004 -->\n      <g transform=\"translate(792.739706 304.926037)scale(0.1 -0.1)\">\n       <use xlink:href=\"#DejaVuSans-48\"/>\n       <use x=\"63.623047\" xlink:href=\"#DejaVuSans-46\"/>\n       <use x=\"95.410156\" xlink:href=\"#DejaVuSans-48\"/>\n       <use x=\"159.033203\" xlink:href=\"#DejaVuSans-48\"/>\n       <use x=\"222.65625\" xlink:href=\"#DejaVuSans-52\"/>\n      </g>\n     </g>\n    </g>\n    <g id=\"ytick_15\">\n     <g id=\"line2d_83\">\n      <path clip-path=\"url(#p680022706d)\" d=\"M 828.367831 264.555469 \nL 1156.603125 264.555469 \n\" style=\"fill:none;stroke:#b0b0b0;stroke-linecap:square;stroke-width:0.8;\"/>\n     </g>\n     <g id=\"line2d_84\">\n      <g>\n       <use style=\"stroke:#000000;stroke-width:0.8;\" x=\"828.367831\" xlink:href=\"#m9151371973\" y=\"264.555469\"/>\n      </g>\n     </g>\n     <g id=\"text_45\">\n      <!-- 0.006 -->\n      <g transform=\"translate(792.739706 268.354688)scale(0.1 -0.1)\">\n       <use xlink:href=\"#DejaVuSans-48\"/>\n       <use x=\"63.623047\" xlink:href=\"#DejaVuSans-46\"/>\n       <use x=\"95.410156\" xlink:href=\"#DejaVuSans-48\"/>\n       <use x=\"159.033203\" xlink:href=\"#DejaVuSans-48\"/>\n       <use x=\"222.65625\" xlink:href=\"#DejaVuSans-54\"/>\n      </g>\n     </g>\n    </g>\n    <g id=\"ytick_16\">\n     <g id=\"line2d_85\">\n      <path clip-path=\"url(#p680022706d)\" d=\"M 828.367831 227.98412 \nL 1156.603125 227.98412 \n\" style=\"fill:none;stroke:#b0b0b0;stroke-linecap:square;stroke-width:0.8;\"/>\n     </g>\n     <g id=\"line2d_86\">\n      <g>\n       <use style=\"stroke:#000000;stroke-width:0.8;\" x=\"828.367831\" xlink:href=\"#m9151371973\" y=\"227.98412\"/>\n      </g>\n     </g>\n     <g id=\"text_46\">\n      <!-- 0.008 -->\n      <g transform=\"translate(792.739706 231.783339)scale(0.1 -0.1)\">\n       <use xlink:href=\"#DejaVuSans-48\"/>\n       <use x=\"63.623047\" xlink:href=\"#DejaVuSans-46\"/>\n       <use x=\"95.410156\" xlink:href=\"#DejaVuSans-48\"/>\n       <use x=\"159.033203\" xlink:href=\"#DejaVuSans-48\"/>\n       <use x=\"222.65625\" xlink:href=\"#DejaVuSans-56\"/>\n      </g>\n     </g>\n    </g>\n    <g id=\"ytick_17\">\n     <g id=\"line2d_87\">\n      <path clip-path=\"url(#p680022706d)\" d=\"M 828.367831 191.412771 \nL 1156.603125 191.412771 \n\" style=\"fill:none;stroke:#b0b0b0;stroke-linecap:square;stroke-width:0.8;\"/>\n     </g>\n     <g id=\"line2d_88\">\n      <g>\n       <use style=\"stroke:#000000;stroke-width:0.8;\" x=\"828.367831\" xlink:href=\"#m9151371973\" y=\"191.412771\"/>\n      </g>\n     </g>\n     <g id=\"text_47\">\n      <!-- 0.010 -->\n      <g transform=\"translate(792.739706 195.211989)scale(0.1 -0.1)\">\n       <use xlink:href=\"#DejaVuSans-48\"/>\n       <use x=\"63.623047\" xlink:href=\"#DejaVuSans-46\"/>\n       <use x=\"95.410156\" xlink:href=\"#DejaVuSans-48\"/>\n       <use x=\"159.033203\" xlink:href=\"#DejaVuSans-49\"/>\n       <use x=\"222.65625\" xlink:href=\"#DejaVuSans-48\"/>\n      </g>\n     </g>\n    </g>\n    <g id=\"ytick_18\">\n     <g id=\"line2d_89\">\n      <path clip-path=\"url(#p680022706d)\" d=\"M 828.367831 154.841421 \nL 1156.603125 154.841421 \n\" style=\"fill:none;stroke:#b0b0b0;stroke-linecap:square;stroke-width:0.8;\"/>\n     </g>\n     <g id=\"line2d_90\">\n      <g>\n       <use style=\"stroke:#000000;stroke-width:0.8;\" x=\"828.367831\" xlink:href=\"#m9151371973\" y=\"154.841421\"/>\n      </g>\n     </g>\n     <g id=\"text_48\">\n      <!-- 0.012 -->\n      <g transform=\"translate(792.739706 158.64064)scale(0.1 -0.1)\">\n       <use xlink:href=\"#DejaVuSans-48\"/>\n       <use x=\"63.623047\" xlink:href=\"#DejaVuSans-46\"/>\n       <use x=\"95.410156\" xlink:href=\"#DejaVuSans-48\"/>\n       <use x=\"159.033203\" xlink:href=\"#DejaVuSans-49\"/>\n       <use x=\"222.65625\" xlink:href=\"#DejaVuSans-50\"/>\n      </g>\n     </g>\n    </g>\n    <g id=\"ytick_19\">\n     <g id=\"line2d_91\">\n      <path clip-path=\"url(#p680022706d)\" d=\"M 828.367831 118.270072 \nL 1156.603125 118.270072 \n\" style=\"fill:none;stroke:#b0b0b0;stroke-linecap:square;stroke-width:0.8;\"/>\n     </g>\n     <g id=\"line2d_92\">\n      <g>\n       <use style=\"stroke:#000000;stroke-width:0.8;\" x=\"828.367831\" xlink:href=\"#m9151371973\" y=\"118.270072\"/>\n      </g>\n     </g>\n     <g id=\"text_49\">\n      <!-- 0.014 -->\n      <g transform=\"translate(792.739706 122.069291)scale(0.1 -0.1)\">\n       <use xlink:href=\"#DejaVuSans-48\"/>\n       <use x=\"63.623047\" xlink:href=\"#DejaVuSans-46\"/>\n       <use x=\"95.410156\" xlink:href=\"#DejaVuSans-48\"/>\n       <use x=\"159.033203\" xlink:href=\"#DejaVuSans-49\"/>\n       <use x=\"222.65625\" xlink:href=\"#DejaVuSans-52\"/>\n      </g>\n     </g>\n    </g>\n    <g id=\"ytick_20\">\n     <g id=\"line2d_93\">\n      <path clip-path=\"url(#p680022706d)\" d=\"M 828.367831 81.698723 \nL 1156.603125 81.698723 \n\" style=\"fill:none;stroke:#b0b0b0;stroke-linecap:square;stroke-width:0.8;\"/>\n     </g>\n     <g id=\"line2d_94\">\n      <g>\n       <use style=\"stroke:#000000;stroke-width:0.8;\" x=\"828.367831\" xlink:href=\"#m9151371973\" y=\"81.698723\"/>\n      </g>\n     </g>\n     <g id=\"text_50\">\n      <!-- 0.016 -->\n      <g transform=\"translate(792.739706 85.497941)scale(0.1 -0.1)\">\n       <use xlink:href=\"#DejaVuSans-48\"/>\n       <use x=\"63.623047\" xlink:href=\"#DejaVuSans-46\"/>\n       <use x=\"95.410156\" xlink:href=\"#DejaVuSans-48\"/>\n       <use x=\"159.033203\" xlink:href=\"#DejaVuSans-49\"/>\n       <use x=\"222.65625\" xlink:href=\"#DejaVuSans-54\"/>\n      </g>\n     </g>\n    </g>\n    <g id=\"ytick_21\">\n     <g id=\"line2d_95\">\n      <path clip-path=\"url(#p680022706d)\" d=\"M 828.367831 45.127373 \nL 1156.603125 45.127373 \n\" style=\"fill:none;stroke:#b0b0b0;stroke-linecap:square;stroke-width:0.8;\"/>\n     </g>\n     <g id=\"line2d_96\">\n      <g>\n       <use style=\"stroke:#000000;stroke-width:0.8;\" x=\"828.367831\" xlink:href=\"#m9151371973\" y=\"45.127373\"/>\n      </g>\n     </g>\n     <g id=\"text_51\">\n      <!-- 0.018 -->\n      <g transform=\"translate(792.739706 48.926592)scale(0.1 -0.1)\">\n       <use xlink:href=\"#DejaVuSans-48\"/>\n       <use x=\"63.623047\" xlink:href=\"#DejaVuSans-46\"/>\n       <use x=\"95.410156\" xlink:href=\"#DejaVuSans-48\"/>\n       <use x=\"159.033203\" xlink:href=\"#DejaVuSans-49\"/>\n       <use x=\"222.65625\" xlink:href=\"#DejaVuSans-56\"/>\n      </g>\n     </g>\n    </g>\n    <g id=\"text_52\">\n     <!-- Time (min) -->\n     <defs>\n      <path d=\"M 52 44.1875 \nQ 55.375 50.25 60.0625 53.125 \nQ 64.75 56 71.09375 56 \nQ 79.640625 56 84.28125 50.015625 \nQ 88.921875 44.046875 88.921875 33.015625 \nL 88.921875 0 \nL 79.890625 0 \nL 79.890625 32.71875 \nQ 79.890625 40.578125 77.09375 44.375 \nQ 74.3125 48.1875 68.609375 48.1875 \nQ 61.625 48.1875 57.5625 43.546875 \nQ 53.515625 38.921875 53.515625 30.90625 \nL 53.515625 0 \nL 44.484375 0 \nL 44.484375 32.71875 \nQ 44.484375 40.625 41.703125 44.40625 \nQ 38.921875 48.1875 33.109375 48.1875 \nQ 26.21875 48.1875 22.15625 43.53125 \nQ 18.109375 38.875 18.109375 30.90625 \nL 18.109375 0 \nL 9.078125 0 \nL 9.078125 54.6875 \nL 18.109375 54.6875 \nL 18.109375 46.1875 \nQ 21.1875 51.21875 25.484375 53.609375 \nQ 29.78125 56 35.6875 56 \nQ 41.65625 56 45.828125 52.96875 \nQ 50 49.953125 52 44.1875 \nz\n\" id=\"DejaVuSans-109\"/>\n      <path d=\"M 31 75.875 \nQ 24.46875 64.65625 21.28125 53.65625 \nQ 18.109375 42.671875 18.109375 31.390625 \nQ 18.109375 20.125 21.3125 9.0625 \nQ 24.515625 -2 31 -13.1875 \nL 23.1875 -13.1875 \nQ 15.875 -1.703125 12.234375 9.375 \nQ 8.59375 20.453125 8.59375 31.390625 \nQ 8.59375 42.28125 12.203125 53.3125 \nQ 15.828125 64.359375 23.1875 75.875 \nz\n\" id=\"DejaVuSans-40\"/>\n      <path d=\"M 8.015625 75.875 \nL 15.828125 75.875 \nQ 23.140625 64.359375 26.78125 53.3125 \nQ 30.421875 42.28125 30.421875 31.390625 \nQ 30.421875 20.453125 26.78125 9.375 \nQ 23.140625 -1.703125 15.828125 -13.1875 \nL 8.015625 -13.1875 \nQ 14.5 -2 17.703125 9.0625 \nQ 20.90625 20.125 20.90625 31.390625 \nQ 20.90625 42.671875 17.703125 53.65625 \nQ 14.5 64.65625 8.015625 75.875 \nz\n\" id=\"DejaVuSans-41\"/>\n     </defs>\n     <g transform=\"translate(786.660018 212.550469)rotate(-90)scale(0.1 -0.1)\">\n      <use xlink:href=\"#DejaVuSans-84\"/>\n      <use x=\"57.958984\" xlink:href=\"#DejaVuSans-105\"/>\n      <use x=\"85.742188\" xlink:href=\"#DejaVuSans-109\"/>\n      <use x=\"183.154297\" xlink:href=\"#DejaVuSans-101\"/>\n      <use x=\"244.677734\" xlink:href=\"#DejaVuSans-32\"/>\n      <use x=\"276.464844\" xlink:href=\"#DejaVuSans-40\"/>\n      <use x=\"315.478516\" xlink:href=\"#DejaVuSans-109\"/>\n      <use x=\"412.890625\" xlink:href=\"#DejaVuSans-105\"/>\n      <use x=\"440.673828\" xlink:href=\"#DejaVuSans-110\"/>\n      <use x=\"504.052734\" xlink:href=\"#DejaVuSans-41\"/>\n     </g>\n    </g>\n   </g>\n   <g id=\"line2d_97\">\n    <path clip-path=\"url(#p680022706d)\" d=\"M 843.287617 91.878118 \nL 876.442697 37.14358 \nL 909.597777 88.569947 \nL 942.752858 133.549926 \nL 975.907938 145.804523 \nL 1009.063018 98.221619 \nL 1042.218098 107.432022 \nL 1075.373178 101.108285 \nL 1108.528259 67.0458 \nL 1141.683339 137.293044 \n\" style=\"fill:none;stroke:#1f77b4;stroke-linecap:square;stroke-width:1.5;\"/>\n    <g clip-path=\"url(#p680022706d)\">\n     <use style=\"fill:#1f77b4;stroke:#1f77b4;\" x=\"843.287617\" xlink:href=\"#m05635f0520\" y=\"91.878118\"/>\n     <use style=\"fill:#1f77b4;stroke:#1f77b4;\" x=\"876.442697\" xlink:href=\"#m05635f0520\" y=\"37.14358\"/>\n     <use style=\"fill:#1f77b4;stroke:#1f77b4;\" x=\"909.597777\" xlink:href=\"#m05635f0520\" y=\"88.569947\"/>\n     <use style=\"fill:#1f77b4;stroke:#1f77b4;\" x=\"942.752858\" xlink:href=\"#m05635f0520\" y=\"133.549926\"/>\n     <use style=\"fill:#1f77b4;stroke:#1f77b4;\" x=\"975.907938\" xlink:href=\"#m05635f0520\" y=\"145.804523\"/>\n     <use style=\"fill:#1f77b4;stroke:#1f77b4;\" x=\"1009.063018\" xlink:href=\"#m05635f0520\" y=\"98.221619\"/>\n     <use style=\"fill:#1f77b4;stroke:#1f77b4;\" x=\"1042.218098\" xlink:href=\"#m05635f0520\" y=\"107.432022\"/>\n     <use style=\"fill:#1f77b4;stroke:#1f77b4;\" x=\"1075.373178\" xlink:href=\"#m05635f0520\" y=\"101.108285\"/>\n     <use style=\"fill:#1f77b4;stroke:#1f77b4;\" x=\"1108.528259\" xlink:href=\"#m05635f0520\" y=\"67.0458\"/>\n     <use style=\"fill:#1f77b4;stroke:#1f77b4;\" x=\"1141.683339\" xlink:href=\"#m05635f0520\" y=\"137.293044\"/>\n    </g>\n   </g>\n   <g id=\"line2d_98\">\n    <path clip-path=\"url(#p680022706d)\" d=\"M 843.287617 224.96179 \nL 876.442697 239.705672 \nL 909.597777 232.263033 \nL 942.752858 133.993229 \nL 975.907938 171.110661 \nL 1009.063018 189.023714 \nL 1042.218098 110.068953 \nL 1075.373178 214.817915 \nL 1108.528259 187.828736 \nL 1141.683339 176.890606 \n\" style=\"fill:none;stroke:#ff7f0e;stroke-linecap:square;stroke-width:1.5;\"/>\n    <g clip-path=\"url(#p680022706d)\">\n     <use style=\"fill:#ff7f0e;stroke:#ff7f0e;\" x=\"843.287617\" xlink:href=\"#m2bf245c595\" y=\"224.96179\"/>\n     <use style=\"fill:#ff7f0e;stroke:#ff7f0e;\" x=\"876.442697\" xlink:href=\"#m2bf245c595\" y=\"239.705672\"/>\n     <use style=\"fill:#ff7f0e;stroke:#ff7f0e;\" x=\"909.597777\" xlink:href=\"#m2bf245c595\" y=\"232.263033\"/>\n     <use style=\"fill:#ff7f0e;stroke:#ff7f0e;\" x=\"942.752858\" xlink:href=\"#m2bf245c595\" y=\"133.993229\"/>\n     <use style=\"fill:#ff7f0e;stroke:#ff7f0e;\" x=\"975.907938\" xlink:href=\"#m2bf245c595\" y=\"171.110661\"/>\n     <use style=\"fill:#ff7f0e;stroke:#ff7f0e;\" x=\"1009.063018\" xlink:href=\"#m2bf245c595\" y=\"189.023714\"/>\n     <use style=\"fill:#ff7f0e;stroke:#ff7f0e;\" x=\"1042.218098\" xlink:href=\"#m2bf245c595\" y=\"110.068953\"/>\n     <use style=\"fill:#ff7f0e;stroke:#ff7f0e;\" x=\"1075.373178\" xlink:href=\"#m2bf245c595\" y=\"214.817915\"/>\n     <use style=\"fill:#ff7f0e;stroke:#ff7f0e;\" x=\"1108.528259\" xlink:href=\"#m2bf245c595\" y=\"187.828736\"/>\n     <use style=\"fill:#ff7f0e;stroke:#ff7f0e;\" x=\"1141.683339\" xlink:href=\"#m2bf245c595\" y=\"176.890606\"/>\n    </g>\n   </g>\n   <g id=\"line2d_99\">\n    <path clip-path=\"url(#p680022706d)\" d=\"M 843.287617 244.790689 \nL 876.442697 248.327378 \nL 909.597777 103.087854 \nL 942.752858 251.74454 \nL 975.907938 219.736393 \nL 1009.063018 250.883728 \nL 1042.218098 269.162556 \nL 1075.373178 260.201887 \nL 1108.528259 193.196984 \nL 1141.683339 305.484208 \n\" style=\"fill:none;stroke:#2ca02c;stroke-linecap:square;stroke-width:1.5;\"/>\n    <g clip-path=\"url(#p680022706d)\">\n     <use style=\"fill:#2ca02c;stroke:#2ca02c;\" x=\"843.287617\" xlink:href=\"#m2ea9e2ddf9\" y=\"244.790689\"/>\n     <use style=\"fill:#2ca02c;stroke:#2ca02c;\" x=\"876.442697\" xlink:href=\"#m2ea9e2ddf9\" y=\"248.327378\"/>\n     <use style=\"fill:#2ca02c;stroke:#2ca02c;\" x=\"909.597777\" xlink:href=\"#m2ea9e2ddf9\" y=\"103.087854\"/>\n     <use style=\"fill:#2ca02c;stroke:#2ca02c;\" x=\"942.752858\" xlink:href=\"#m2ea9e2ddf9\" y=\"251.74454\"/>\n     <use style=\"fill:#2ca02c;stroke:#2ca02c;\" x=\"975.907938\" xlink:href=\"#m2ea9e2ddf9\" y=\"219.736393\"/>\n     <use style=\"fill:#2ca02c;stroke:#2ca02c;\" x=\"1009.063018\" xlink:href=\"#m2ea9e2ddf9\" y=\"250.883728\"/>\n     <use style=\"fill:#2ca02c;stroke:#2ca02c;\" x=\"1042.218098\" xlink:href=\"#m2ea9e2ddf9\" y=\"269.162556\"/>\n     <use style=\"fill:#2ca02c;stroke:#2ca02c;\" x=\"1075.373178\" xlink:href=\"#m2ea9e2ddf9\" y=\"260.201887\"/>\n     <use style=\"fill:#2ca02c;stroke:#2ca02c;\" x=\"1108.528259\" xlink:href=\"#m2ea9e2ddf9\" y=\"193.196984\"/>\n     <use style=\"fill:#2ca02c;stroke:#2ca02c;\" x=\"1141.683339\" xlink:href=\"#m2ea9e2ddf9\" y=\"305.484208\"/>\n    </g>\n   </g>\n   <g id=\"line2d_100\">\n    <path clip-path=\"url(#p680022706d)\" d=\"M 843.287617 323.137208 \nL 876.442697 327.038944 \nL 909.597777 329.749045 \nL 942.752858 330.792235 \nL 975.907938 330.960445 \nL 1009.063018 329.987445 \nL 1042.218098 333.65267 \nL 1075.373178 331.685817 \nL 1108.528259 328.572595 \nL 1141.683339 331.596662 \n\" style=\"fill:none;stroke:#d62728;stroke-linecap:square;stroke-width:1.5;\"/>\n    <g clip-path=\"url(#p680022706d)\">\n     <use style=\"fill:#d62728;stroke:#d62728;\" x=\"843.287617\" xlink:href=\"#m7e524fc1b7\" y=\"323.137208\"/>\n     <use style=\"fill:#d62728;stroke:#d62728;\" x=\"876.442697\" xlink:href=\"#m7e524fc1b7\" y=\"327.038944\"/>\n     <use style=\"fill:#d62728;stroke:#d62728;\" x=\"909.597777\" xlink:href=\"#m7e524fc1b7\" y=\"329.749045\"/>\n     <use style=\"fill:#d62728;stroke:#d62728;\" x=\"942.752858\" xlink:href=\"#m7e524fc1b7\" y=\"330.792235\"/>\n     <use style=\"fill:#d62728;stroke:#d62728;\" x=\"975.907938\" xlink:href=\"#m7e524fc1b7\" y=\"330.960445\"/>\n     <use style=\"fill:#d62728;stroke:#d62728;\" x=\"1009.063018\" xlink:href=\"#m7e524fc1b7\" y=\"329.987445\"/>\n     <use style=\"fill:#d62728;stroke:#d62728;\" x=\"1042.218098\" xlink:href=\"#m7e524fc1b7\" y=\"333.65267\"/>\n     <use style=\"fill:#d62728;stroke:#d62728;\" x=\"1075.373178\" xlink:href=\"#m7e524fc1b7\" y=\"331.685817\"/>\n     <use style=\"fill:#d62728;stroke:#d62728;\" x=\"1108.528259\" xlink:href=\"#m7e524fc1b7\" y=\"328.572595\"/>\n     <use style=\"fill:#d62728;stroke:#d62728;\" x=\"1141.683339\" xlink:href=\"#m7e524fc1b7\" y=\"331.596662\"/>\n    </g>\n   </g>\n   <g id=\"patch_15\">\n    <path d=\"M 828.367831 348.478125 \nL 828.367831 22.318125 \n\" style=\"fill:none;stroke:#000000;stroke-linecap:square;stroke-linejoin:miter;stroke-width:0.8;\"/>\n   </g>\n   <g id=\"patch_16\">\n    <path d=\"M 1156.603125 348.478125 \nL 1156.603125 22.318125 \n\" style=\"fill:none;stroke:#000000;stroke-linecap:square;stroke-linejoin:miter;stroke-width:0.8;\"/>\n   </g>\n   <g id=\"patch_17\">\n    <path d=\"M 828.367831 348.478125 \nL 1156.603125 348.478125 \n\" style=\"fill:none;stroke:#000000;stroke-linecap:square;stroke-linejoin:miter;stroke-width:0.8;\"/>\n   </g>\n   <g id=\"patch_18\">\n    <path d=\"M 828.367831 22.318125 \nL 1156.603125 22.318125 \n\" style=\"fill:none;stroke:#000000;stroke-linecap:square;stroke-linejoin:miter;stroke-width:0.8;\"/>\n   </g>\n   <g id=\"text_53\">\n    <!-- Execution time -->\n    <defs>\n     <path d=\"M 9.8125 72.90625 \nL 55.90625 72.90625 \nL 55.90625 64.59375 \nL 19.671875 64.59375 \nL 19.671875 43.015625 \nL 54.390625 43.015625 \nL 54.390625 34.71875 \nL 19.671875 34.71875 \nL 19.671875 8.296875 \nL 56.78125 8.296875 \nL 56.78125 0 \nL 9.8125 0 \nz\n\" id=\"DejaVuSans-69\"/>\n     <path d=\"M 54.890625 54.6875 \nL 35.109375 28.078125 \nL 55.90625 0 \nL 45.3125 0 \nL 29.390625 21.484375 \nL 13.484375 0 \nL 2.875 0 \nL 24.125 28.609375 \nL 4.6875 54.6875 \nL 15.28125 54.6875 \nL 29.78125 35.203125 \nL 44.28125 54.6875 \nz\n\" id=\"DejaVuSans-120\"/>\n     <path d=\"M 48.78125 52.59375 \nL 48.78125 44.1875 \nQ 44.96875 46.296875 41.140625 47.34375 \nQ 37.3125 48.390625 33.40625 48.390625 \nQ 24.65625 48.390625 19.8125 42.84375 \nQ 14.984375 37.3125 14.984375 27.296875 \nQ 14.984375 17.28125 19.8125 11.734375 \nQ 24.65625 6.203125 33.40625 6.203125 \nQ 37.3125 6.203125 41.140625 7.25 \nQ 44.96875 8.296875 48.78125 10.40625 \nL 48.78125 2.09375 \nQ 45.015625 0.34375 40.984375 -0.53125 \nQ 36.96875 -1.421875 32.421875 -1.421875 \nQ 20.0625 -1.421875 12.78125 6.34375 \nQ 5.515625 14.109375 5.515625 27.296875 \nQ 5.515625 40.671875 12.859375 48.328125 \nQ 20.21875 56 33.015625 56 \nQ 37.15625 56 41.109375 55.140625 \nQ 45.0625 54.296875 48.78125 52.59375 \nz\n\" id=\"DejaVuSans-99\"/>\n    </defs>\n    <g transform=\"translate(947.58204 16.318125)scale(0.12 -0.12)\">\n     <use xlink:href=\"#DejaVuSans-69\"/>\n     <use x=\"63.183594\" xlink:href=\"#DejaVuSans-120\"/>\n     <use x=\"119.238281\" xlink:href=\"#DejaVuSans-101\"/>\n     <use x=\"180.761719\" xlink:href=\"#DejaVuSans-99\"/>\n     <use x=\"235.742188\" xlink:href=\"#DejaVuSans-117\"/>\n     <use x=\"299.121094\" xlink:href=\"#DejaVuSans-116\"/>\n     <use x=\"338.330078\" xlink:href=\"#DejaVuSans-105\"/>\n     <use x=\"366.113281\" xlink:href=\"#DejaVuSans-111\"/>\n     <use x=\"427.294922\" xlink:href=\"#DejaVuSans-110\"/>\n     <use x=\"490.673828\" xlink:href=\"#DejaVuSans-32\"/>\n     <use x=\"522.460938\" xlink:href=\"#DejaVuSans-116\"/>\n     <use x=\"561.669922\" xlink:href=\"#DejaVuSans-105\"/>\n     <use x=\"589.453125\" xlink:href=\"#DejaVuSans-109\"/>\n     <use x=\"686.865234\" xlink:href=\"#DejaVuSans-101\"/>\n    </g>\n   </g>\n   <g id=\"legend_3\">\n    <g id=\"patch_19\">\n     <path d=\"M 835.367831 216.254375 \nL 880.092831 216.254375 \nQ 882.092831 216.254375 882.092831 214.254375 \nL 882.092831 156.541875 \nQ 882.092831 154.541875 880.092831 154.541875 \nL 835.367831 154.541875 \nQ 833.367831 154.541875 833.367831 156.541875 \nL 833.367831 214.254375 \nQ 833.367831 216.254375 835.367831 216.254375 \nz\n\" style=\"fill:#ffffff;opacity:0.8;stroke:#cccccc;stroke-linejoin:miter;\"/>\n    </g>\n    <g id=\"line2d_101\">\n     <path d=\"M 837.367831 162.640312 \nL 857.367831 162.640312 \n\" style=\"fill:none;stroke:#1f77b4;stroke-linecap:square;stroke-width:1.5;\"/>\n    </g>\n    <g id=\"line2d_102\">\n     <g>\n      <use style=\"fill:#1f77b4;stroke:#1f77b4;\" x=\"847.367831\" xlink:href=\"#m05635f0520\" y=\"162.640312\"/>\n     </g>\n    </g>\n    <g id=\"text_54\">\n     <!-- 8 -->\n     <g transform=\"translate(865.367831 166.140312)scale(0.1 -0.1)\">\n      <use xlink:href=\"#DejaVuSans-56\"/>\n     </g>\n    </g>\n    <g id=\"line2d_103\">\n     <path d=\"M 837.367831 177.318437 \nL 857.367831 177.318437 \n\" style=\"fill:none;stroke:#ff7f0e;stroke-linecap:square;stroke-width:1.5;\"/>\n    </g>\n    <g id=\"line2d_104\">\n     <g>\n      <use style=\"fill:#ff7f0e;stroke:#ff7f0e;\" x=\"847.367831\" xlink:href=\"#m2bf245c595\" y=\"177.318437\"/>\n     </g>\n    </g>\n    <g id=\"text_55\">\n     <!-- 16 -->\n     <g transform=\"translate(865.367831 180.818437)scale(0.1 -0.1)\">\n      <use xlink:href=\"#DejaVuSans-49\"/>\n      <use x=\"63.623047\" xlink:href=\"#DejaVuSans-54\"/>\n     </g>\n    </g>\n    <g id=\"line2d_105\">\n     <path d=\"M 837.367831 191.996562 \nL 857.367831 191.996562 \n\" style=\"fill:none;stroke:#2ca02c;stroke-linecap:square;stroke-width:1.5;\"/>\n    </g>\n    <g id=\"line2d_106\">\n     <g>\n      <use style=\"fill:#2ca02c;stroke:#2ca02c;\" x=\"847.367831\" xlink:href=\"#m2ea9e2ddf9\" y=\"191.996562\"/>\n     </g>\n    </g>\n    <g id=\"text_56\">\n     <!-- 32 -->\n     <g transform=\"translate(865.367831 195.496562)scale(0.1 -0.1)\">\n      <use xlink:href=\"#DejaVuSans-51\"/>\n      <use x=\"63.623047\" xlink:href=\"#DejaVuSans-50\"/>\n     </g>\n    </g>\n    <g id=\"line2d_107\">\n     <path d=\"M 837.367831 206.674687 \nL 857.367831 206.674687 \n\" style=\"fill:none;stroke:#d62728;stroke-linecap:square;stroke-width:1.5;\"/>\n    </g>\n    <g id=\"line2d_108\">\n     <g>\n      <use style=\"fill:#d62728;stroke:#d62728;\" x=\"847.367831\" xlink:href=\"#m7e524fc1b7\" y=\"206.674687\"/>\n     </g>\n    </g>\n    <g id=\"text_57\">\n     <!-- 64 -->\n     <g transform=\"translate(865.367831 210.174687)scale(0.1 -0.1)\">\n      <use xlink:href=\"#DejaVuSans-54\"/>\n      <use x=\"63.623047\" xlink:href=\"#DejaVuSans-52\"/>\n     </g>\n    </g>\n   </g>\n  </g>\n </g>\n <defs>\n  <clipPath id=\"p70e77e238f\">\n   <rect height=\"326.16\" width=\"328.235294\" x=\"40.603125\" y=\"22.318125\"/>\n  </clipPath>\n  <clipPath id=\"pb5e78d2ca2\">\n   <rect height=\"326.16\" width=\"328.235294\" x=\"434.485478\" y=\"22.318125\"/>\n  </clipPath>\n  <clipPath id=\"p680022706d\">\n   <rect height=\"326.16\" width=\"328.235294\" x=\"828.367831\" y=\"22.318125\"/>\n  </clipPath>\n </defs>\n</svg>\n"
          },
          "metadata": {
            "needs_background": "light"
          }
        }
      ]
    },
    {
      "cell_type": "markdown",
      "source": [
        "Para seleccionar entre ambas opciones, se grafican las pérdidas en función de las épocas para cada opción:\n",
        "\n",
        "* La pérdida en el conjunto de entrenmiento entre amabas opciones es muy parecida, pero la pérdida en el conjunto de prueba de la primera opción es menor que la segunda opción (que es el caso base).\n",
        "* El entrenamiento en ambas opciones se ve estable, mientras que al evaluar en el conjunto de prueba se observa más errático en la primera opción, pero oscila en promedio en 30.\n",
        "* Dado que la diferencia de pérdidas en el conjunto de pruebas es diferente, se decide ir por la primera opción dado que disminuye dichas pérdidas.\n"
      ],
      "metadata": {
        "id": "nS45wSkCpIel"
      }
    },
    {
      "cell_type": "code",
      "source": [
        "plot_loss_2param_filter(losses_by_exp,'batch_size',8,'n_units',5)\n",
        "plot_loss_2param_filter(losses_by_exp,'batch_size',8,'n_units',5,\n",
        "                        ylim=[0,100],xlim=[0,50],verbose=False)"
      ],
      "metadata": {
        "colab": {
          "base_uri": "https://localhost:8080/",
          "height": 0
        },
        "id": "wAVkv0X9b6cI",
        "outputId": "a8cc3bc7-d785-47ce-dde7-80aebc94525f"
      },
      "execution_count": 21,
      "outputs": [
        {
          "output_type": "stream",
          "name": "stdout",
          "text": [
            "Pérdida del conjunto de entrenamiento:  14.91\n",
            "Pérdida del conjunto de prueba:  23.61\n"
          ]
        },
        {
          "output_type": "display_data",
          "data": {
            "text/plain": [
              "<Figure size 432x288 with 1 Axes>"
            ],
            "image/svg+xml": "<?xml version=\"1.0\" encoding=\"utf-8\" standalone=\"no\"?>\n<!DOCTYPE svg PUBLIC \"-//W3C//DTD SVG 1.1//EN\"\n  \"http://www.w3.org/Graphics/SVG/1.1/DTD/svg11.dtd\">\n<!-- Created with matplotlib (https://matplotlib.org/) -->\n<svg height=\"277.314375pt\" version=\"1.1\" viewBox=\"0 0 395.328125 277.314375\" width=\"395.328125pt\" xmlns=\"http://www.w3.org/2000/svg\" xmlns:xlink=\"http://www.w3.org/1999/xlink\">\n <defs>\n  <style type=\"text/css\">\n*{stroke-linecap:butt;stroke-linejoin:round;}\n  </style>\n </defs>\n <g id=\"figure_1\">\n  <g id=\"patch_1\">\n   <path d=\"M 0 277.314375 \nL 395.328125 277.314375 \nL 395.328125 0 \nL 0 0 \nz\n\" style=\"fill:none;\"/>\n  </g>\n  <g id=\"axes_1\">\n   <g id=\"patch_2\">\n    <path d=\"M 53.328125 239.758125 \nL 388.128125 239.758125 \nL 388.128125 22.318125 \nL 53.328125 22.318125 \nz\n\" style=\"fill:#ffffff;\"/>\n   </g>\n   <g id=\"matplotlib.axis_1\">\n    <g id=\"xtick_1\">\n     <g id=\"line2d_1\">\n      <path clip-path=\"url(#pec06a814a1)\" d=\"M 68.546307 239.758125 \nL 68.546307 22.318125 \n\" style=\"fill:none;stroke:#b0b0b0;stroke-linecap:square;stroke-width:0.8;\"/>\n     </g>\n     <g id=\"line2d_2\">\n      <defs>\n       <path d=\"M 0 0 \nL 0 3.5 \n\" id=\"m8d177fc5f4\" style=\"stroke:#000000;stroke-width:0.8;\"/>\n      </defs>\n      <g>\n       <use style=\"stroke:#000000;stroke-width:0.8;\" x=\"68.546307\" xlink:href=\"#m8d177fc5f4\" y=\"239.758125\"/>\n      </g>\n     </g>\n     <g id=\"text_1\">\n      <!-- 0 -->\n      <defs>\n       <path d=\"M 31.78125 66.40625 \nQ 24.171875 66.40625 20.328125 58.90625 \nQ 16.5 51.421875 16.5 36.375 \nQ 16.5 21.390625 20.328125 13.890625 \nQ 24.171875 6.390625 31.78125 6.390625 \nQ 39.453125 6.390625 43.28125 13.890625 \nQ 47.125 21.390625 47.125 36.375 \nQ 47.125 51.421875 43.28125 58.90625 \nQ 39.453125 66.40625 31.78125 66.40625 \nz\nM 31.78125 74.21875 \nQ 44.046875 74.21875 50.515625 64.515625 \nQ 56.984375 54.828125 56.984375 36.375 \nQ 56.984375 17.96875 50.515625 8.265625 \nQ 44.046875 -1.421875 31.78125 -1.421875 \nQ 19.53125 -1.421875 13.0625 8.265625 \nQ 6.59375 17.96875 6.59375 36.375 \nQ 6.59375 54.828125 13.0625 64.515625 \nQ 19.53125 74.21875 31.78125 74.21875 \nz\n\" id=\"DejaVuSans-48\"/>\n      </defs>\n      <g transform=\"translate(65.365057 254.356562)scale(0.1 -0.1)\">\n       <use xlink:href=\"#DejaVuSans-48\"/>\n      </g>\n     </g>\n    </g>\n    <g id=\"xtick_2\">\n     <g id=\"line2d_3\">\n      <path clip-path=\"url(#pec06a814a1)\" d=\"M 130.661335 239.758125 \nL 130.661335 22.318125 \n\" style=\"fill:none;stroke:#b0b0b0;stroke-linecap:square;stroke-width:0.8;\"/>\n     </g>\n     <g id=\"line2d_4\">\n      <g>\n       <use style=\"stroke:#000000;stroke-width:0.8;\" x=\"130.661335\" xlink:href=\"#m8d177fc5f4\" y=\"239.758125\"/>\n      </g>\n     </g>\n     <g id=\"text_2\">\n      <!-- 10 -->\n      <defs>\n       <path d=\"M 12.40625 8.296875 \nL 28.515625 8.296875 \nL 28.515625 63.921875 \nL 10.984375 60.40625 \nL 10.984375 69.390625 \nL 28.421875 72.90625 \nL 38.28125 72.90625 \nL 38.28125 8.296875 \nL 54.390625 8.296875 \nL 54.390625 0 \nL 12.40625 0 \nz\n\" id=\"DejaVuSans-49\"/>\n      </defs>\n      <g transform=\"translate(124.298835 254.356562)scale(0.1 -0.1)\">\n       <use xlink:href=\"#DejaVuSans-49\"/>\n       <use x=\"63.623047\" xlink:href=\"#DejaVuSans-48\"/>\n      </g>\n     </g>\n    </g>\n    <g id=\"xtick_3\">\n     <g id=\"line2d_5\">\n      <path clip-path=\"url(#pec06a814a1)\" d=\"M 192.776362 239.758125 \nL 192.776362 22.318125 \n\" style=\"fill:none;stroke:#b0b0b0;stroke-linecap:square;stroke-width:0.8;\"/>\n     </g>\n     <g id=\"line2d_6\">\n      <g>\n       <use style=\"stroke:#000000;stroke-width:0.8;\" x=\"192.776362\" xlink:href=\"#m8d177fc5f4\" y=\"239.758125\"/>\n      </g>\n     </g>\n     <g id=\"text_3\">\n      <!-- 20 -->\n      <defs>\n       <path d=\"M 19.1875 8.296875 \nL 53.609375 8.296875 \nL 53.609375 0 \nL 7.328125 0 \nL 7.328125 8.296875 \nQ 12.9375 14.109375 22.625 23.890625 \nQ 32.328125 33.6875 34.8125 36.53125 \nQ 39.546875 41.84375 41.421875 45.53125 \nQ 43.3125 49.21875 43.3125 52.78125 \nQ 43.3125 58.59375 39.234375 62.25 \nQ 35.15625 65.921875 28.609375 65.921875 \nQ 23.96875 65.921875 18.8125 64.3125 \nQ 13.671875 62.703125 7.8125 59.421875 \nL 7.8125 69.390625 \nQ 13.765625 71.78125 18.9375 73 \nQ 24.125 74.21875 28.421875 74.21875 \nQ 39.75 74.21875 46.484375 68.546875 \nQ 53.21875 62.890625 53.21875 53.421875 \nQ 53.21875 48.921875 51.53125 44.890625 \nQ 49.859375 40.875 45.40625 35.40625 \nQ 44.1875 33.984375 37.640625 27.21875 \nQ 31.109375 20.453125 19.1875 8.296875 \nz\n\" id=\"DejaVuSans-50\"/>\n      </defs>\n      <g transform=\"translate(186.413862 254.356562)scale(0.1 -0.1)\">\n       <use xlink:href=\"#DejaVuSans-50\"/>\n       <use x=\"63.623047\" xlink:href=\"#DejaVuSans-48\"/>\n      </g>\n     </g>\n    </g>\n    <g id=\"xtick_4\">\n     <g id=\"line2d_7\">\n      <path clip-path=\"url(#pec06a814a1)\" d=\"M 254.89139 239.758125 \nL 254.89139 22.318125 \n\" style=\"fill:none;stroke:#b0b0b0;stroke-linecap:square;stroke-width:0.8;\"/>\n     </g>\n     <g id=\"line2d_8\">\n      <g>\n       <use style=\"stroke:#000000;stroke-width:0.8;\" x=\"254.89139\" xlink:href=\"#m8d177fc5f4\" y=\"239.758125\"/>\n      </g>\n     </g>\n     <g id=\"text_4\">\n      <!-- 30 -->\n      <defs>\n       <path d=\"M 40.578125 39.3125 \nQ 47.65625 37.796875 51.625 33 \nQ 55.609375 28.21875 55.609375 21.1875 \nQ 55.609375 10.40625 48.1875 4.484375 \nQ 40.765625 -1.421875 27.09375 -1.421875 \nQ 22.515625 -1.421875 17.65625 -0.515625 \nQ 12.796875 0.390625 7.625 2.203125 \nL 7.625 11.71875 \nQ 11.71875 9.328125 16.59375 8.109375 \nQ 21.484375 6.890625 26.8125 6.890625 \nQ 36.078125 6.890625 40.9375 10.546875 \nQ 45.796875 14.203125 45.796875 21.1875 \nQ 45.796875 27.640625 41.28125 31.265625 \nQ 36.765625 34.90625 28.71875 34.90625 \nL 20.21875 34.90625 \nL 20.21875 43.015625 \nL 29.109375 43.015625 \nQ 36.375 43.015625 40.234375 45.921875 \nQ 44.09375 48.828125 44.09375 54.296875 \nQ 44.09375 59.90625 40.109375 62.90625 \nQ 36.140625 65.921875 28.71875 65.921875 \nQ 24.65625 65.921875 20.015625 65.03125 \nQ 15.375 64.15625 9.8125 62.3125 \nL 9.8125 71.09375 \nQ 15.4375 72.65625 20.34375 73.4375 \nQ 25.25 74.21875 29.59375 74.21875 \nQ 40.828125 74.21875 47.359375 69.109375 \nQ 53.90625 64.015625 53.90625 55.328125 \nQ 53.90625 49.265625 50.4375 45.09375 \nQ 46.96875 40.921875 40.578125 39.3125 \nz\n\" id=\"DejaVuSans-51\"/>\n      </defs>\n      <g transform=\"translate(248.52889 254.356562)scale(0.1 -0.1)\">\n       <use xlink:href=\"#DejaVuSans-51\"/>\n       <use x=\"63.623047\" xlink:href=\"#DejaVuSans-48\"/>\n      </g>\n     </g>\n    </g>\n    <g id=\"xtick_5\">\n     <g id=\"line2d_9\">\n      <path clip-path=\"url(#pec06a814a1)\" d=\"M 317.006418 239.758125 \nL 317.006418 22.318125 \n\" style=\"fill:none;stroke:#b0b0b0;stroke-linecap:square;stroke-width:0.8;\"/>\n     </g>\n     <g id=\"line2d_10\">\n      <g>\n       <use style=\"stroke:#000000;stroke-width:0.8;\" x=\"317.006418\" xlink:href=\"#m8d177fc5f4\" y=\"239.758125\"/>\n      </g>\n     </g>\n     <g id=\"text_5\">\n      <!-- 40 -->\n      <defs>\n       <path d=\"M 37.796875 64.3125 \nL 12.890625 25.390625 \nL 37.796875 25.390625 \nz\nM 35.203125 72.90625 \nL 47.609375 72.90625 \nL 47.609375 25.390625 \nL 58.015625 25.390625 \nL 58.015625 17.1875 \nL 47.609375 17.1875 \nL 47.609375 0 \nL 37.796875 0 \nL 37.796875 17.1875 \nL 4.890625 17.1875 \nL 4.890625 26.703125 \nz\n\" id=\"DejaVuSans-52\"/>\n      </defs>\n      <g transform=\"translate(310.643918 254.356562)scale(0.1 -0.1)\">\n       <use xlink:href=\"#DejaVuSans-52\"/>\n       <use x=\"63.623047\" xlink:href=\"#DejaVuSans-48\"/>\n      </g>\n     </g>\n    </g>\n    <g id=\"xtick_6\">\n     <g id=\"line2d_11\">\n      <path clip-path=\"url(#pec06a814a1)\" d=\"M 379.121446 239.758125 \nL 379.121446 22.318125 \n\" style=\"fill:none;stroke:#b0b0b0;stroke-linecap:square;stroke-width:0.8;\"/>\n     </g>\n     <g id=\"line2d_12\">\n      <g>\n       <use style=\"stroke:#000000;stroke-width:0.8;\" x=\"379.121446\" xlink:href=\"#m8d177fc5f4\" y=\"239.758125\"/>\n      </g>\n     </g>\n     <g id=\"text_6\">\n      <!-- 50 -->\n      <defs>\n       <path d=\"M 10.796875 72.90625 \nL 49.515625 72.90625 \nL 49.515625 64.59375 \nL 19.828125 64.59375 \nL 19.828125 46.734375 \nQ 21.96875 47.46875 24.109375 47.828125 \nQ 26.265625 48.1875 28.421875 48.1875 \nQ 40.625 48.1875 47.75 41.5 \nQ 54.890625 34.8125 54.890625 23.390625 \nQ 54.890625 11.625 47.5625 5.09375 \nQ 40.234375 -1.421875 26.90625 -1.421875 \nQ 22.3125 -1.421875 17.546875 -0.640625 \nQ 12.796875 0.140625 7.71875 1.703125 \nL 7.71875 11.625 \nQ 12.109375 9.234375 16.796875 8.0625 \nQ 21.484375 6.890625 26.703125 6.890625 \nQ 35.15625 6.890625 40.078125 11.328125 \nQ 45.015625 15.765625 45.015625 23.390625 \nQ 45.015625 31 40.078125 35.4375 \nQ 35.15625 39.890625 26.703125 39.890625 \nQ 22.75 39.890625 18.8125 39.015625 \nQ 14.890625 38.140625 10.796875 36.28125 \nz\n\" id=\"DejaVuSans-53\"/>\n      </defs>\n      <g transform=\"translate(372.758946 254.356562)scale(0.1 -0.1)\">\n       <use xlink:href=\"#DejaVuSans-53\"/>\n       <use x=\"63.623047\" xlink:href=\"#DejaVuSans-48\"/>\n      </g>\n     </g>\n    </g>\n    <g id=\"text_7\">\n     <!-- Epochs -->\n     <defs>\n      <path d=\"M 9.8125 72.90625 \nL 55.90625 72.90625 \nL 55.90625 64.59375 \nL 19.671875 64.59375 \nL 19.671875 43.015625 \nL 54.390625 43.015625 \nL 54.390625 34.71875 \nL 19.671875 34.71875 \nL 19.671875 8.296875 \nL 56.78125 8.296875 \nL 56.78125 0 \nL 9.8125 0 \nz\n\" id=\"DejaVuSans-69\"/>\n      <path d=\"M 18.109375 8.203125 \nL 18.109375 -20.796875 \nL 9.078125 -20.796875 \nL 9.078125 54.6875 \nL 18.109375 54.6875 \nL 18.109375 46.390625 \nQ 20.953125 51.265625 25.265625 53.625 \nQ 29.59375 56 35.59375 56 \nQ 45.5625 56 51.78125 48.09375 \nQ 58.015625 40.1875 58.015625 27.296875 \nQ 58.015625 14.40625 51.78125 6.484375 \nQ 45.5625 -1.421875 35.59375 -1.421875 \nQ 29.59375 -1.421875 25.265625 0.953125 \nQ 20.953125 3.328125 18.109375 8.203125 \nz\nM 48.6875 27.296875 \nQ 48.6875 37.203125 44.609375 42.84375 \nQ 40.53125 48.484375 33.40625 48.484375 \nQ 26.265625 48.484375 22.1875 42.84375 \nQ 18.109375 37.203125 18.109375 27.296875 \nQ 18.109375 17.390625 22.1875 11.75 \nQ 26.265625 6.109375 33.40625 6.109375 \nQ 40.53125 6.109375 44.609375 11.75 \nQ 48.6875 17.390625 48.6875 27.296875 \nz\n\" id=\"DejaVuSans-112\"/>\n      <path d=\"M 30.609375 48.390625 \nQ 23.390625 48.390625 19.1875 42.75 \nQ 14.984375 37.109375 14.984375 27.296875 \nQ 14.984375 17.484375 19.15625 11.84375 \nQ 23.34375 6.203125 30.609375 6.203125 \nQ 37.796875 6.203125 41.984375 11.859375 \nQ 46.1875 17.53125 46.1875 27.296875 \nQ 46.1875 37.015625 41.984375 42.703125 \nQ 37.796875 48.390625 30.609375 48.390625 \nz\nM 30.609375 56 \nQ 42.328125 56 49.015625 48.375 \nQ 55.71875 40.765625 55.71875 27.296875 \nQ 55.71875 13.875 49.015625 6.21875 \nQ 42.328125 -1.421875 30.609375 -1.421875 \nQ 18.84375 -1.421875 12.171875 6.21875 \nQ 5.515625 13.875 5.515625 27.296875 \nQ 5.515625 40.765625 12.171875 48.375 \nQ 18.84375 56 30.609375 56 \nz\n\" id=\"DejaVuSans-111\"/>\n      <path d=\"M 48.78125 52.59375 \nL 48.78125 44.1875 \nQ 44.96875 46.296875 41.140625 47.34375 \nQ 37.3125 48.390625 33.40625 48.390625 \nQ 24.65625 48.390625 19.8125 42.84375 \nQ 14.984375 37.3125 14.984375 27.296875 \nQ 14.984375 17.28125 19.8125 11.734375 \nQ 24.65625 6.203125 33.40625 6.203125 \nQ 37.3125 6.203125 41.140625 7.25 \nQ 44.96875 8.296875 48.78125 10.40625 \nL 48.78125 2.09375 \nQ 45.015625 0.34375 40.984375 -0.53125 \nQ 36.96875 -1.421875 32.421875 -1.421875 \nQ 20.0625 -1.421875 12.78125 6.34375 \nQ 5.515625 14.109375 5.515625 27.296875 \nQ 5.515625 40.671875 12.859375 48.328125 \nQ 20.21875 56 33.015625 56 \nQ 37.15625 56 41.109375 55.140625 \nQ 45.0625 54.296875 48.78125 52.59375 \nz\n\" id=\"DejaVuSans-99\"/>\n      <path d=\"M 54.890625 33.015625 \nL 54.890625 0 \nL 45.90625 0 \nL 45.90625 32.71875 \nQ 45.90625 40.484375 42.875 44.328125 \nQ 39.84375 48.1875 33.796875 48.1875 \nQ 26.515625 48.1875 22.3125 43.546875 \nQ 18.109375 38.921875 18.109375 30.90625 \nL 18.109375 0 \nL 9.078125 0 \nL 9.078125 75.984375 \nL 18.109375 75.984375 \nL 18.109375 46.1875 \nQ 21.34375 51.125 25.703125 53.5625 \nQ 30.078125 56 35.796875 56 \nQ 45.21875 56 50.046875 50.171875 \nQ 54.890625 44.34375 54.890625 33.015625 \nz\n\" id=\"DejaVuSans-104\"/>\n      <path d=\"M 44.28125 53.078125 \nL 44.28125 44.578125 \nQ 40.484375 46.53125 36.375 47.5 \nQ 32.28125 48.484375 27.875 48.484375 \nQ 21.1875 48.484375 17.84375 46.4375 \nQ 14.5 44.390625 14.5 40.28125 \nQ 14.5 37.15625 16.890625 35.375 \nQ 19.28125 33.59375 26.515625 31.984375 \nL 29.59375 31.296875 \nQ 39.15625 29.25 43.1875 25.515625 \nQ 47.21875 21.78125 47.21875 15.09375 \nQ 47.21875 7.46875 41.1875 3.015625 \nQ 35.15625 -1.421875 24.609375 -1.421875 \nQ 20.21875 -1.421875 15.453125 -0.5625 \nQ 10.6875 0.296875 5.421875 2 \nL 5.421875 11.28125 \nQ 10.40625 8.6875 15.234375 7.390625 \nQ 20.0625 6.109375 24.8125 6.109375 \nQ 31.15625 6.109375 34.5625 8.28125 \nQ 37.984375 10.453125 37.984375 14.40625 \nQ 37.984375 18.0625 35.515625 20.015625 \nQ 33.0625 21.96875 24.703125 23.78125 \nL 21.578125 24.515625 \nQ 13.234375 26.265625 9.515625 29.90625 \nQ 5.8125 33.546875 5.8125 39.890625 \nQ 5.8125 47.609375 11.28125 51.796875 \nQ 16.75 56 26.8125 56 \nQ 31.78125 56 36.171875 55.265625 \nQ 40.578125 54.546875 44.28125 53.078125 \nz\n\" id=\"DejaVuSans-115\"/>\n     </defs>\n     <g transform=\"translate(202.8125 268.034687)scale(0.1 -0.1)\">\n      <use xlink:href=\"#DejaVuSans-69\"/>\n      <use x=\"63.183594\" xlink:href=\"#DejaVuSans-112\"/>\n      <use x=\"126.660156\" xlink:href=\"#DejaVuSans-111\"/>\n      <use x=\"187.841797\" xlink:href=\"#DejaVuSans-99\"/>\n      <use x=\"242.822266\" xlink:href=\"#DejaVuSans-104\"/>\n      <use x=\"306.201172\" xlink:href=\"#DejaVuSans-115\"/>\n     </g>\n    </g>\n   </g>\n   <g id=\"matplotlib.axis_2\">\n    <g id=\"ytick_1\">\n     <g id=\"line2d_13\">\n      <path clip-path=\"url(#pec06a814a1)\" d=\"M 53.328125 230.550876 \nL 388.128125 230.550876 \n\" style=\"fill:none;stroke:#b0b0b0;stroke-linecap:square;stroke-width:0.8;\"/>\n     </g>\n     <g id=\"line2d_14\">\n      <defs>\n       <path d=\"M 0 0 \nL -3.5 0 \n\" id=\"m3da0670186\" style=\"stroke:#000000;stroke-width:0.8;\"/>\n      </defs>\n      <g>\n       <use style=\"stroke:#000000;stroke-width:0.8;\" x=\"53.328125\" xlink:href=\"#m3da0670186\" y=\"230.550876\"/>\n      </g>\n     </g>\n     <g id=\"text_8\">\n      <!-- 0 -->\n      <g transform=\"translate(39.965625 234.350095)scale(0.1 -0.1)\">\n       <use xlink:href=\"#DejaVuSans-48\"/>\n      </g>\n     </g>\n    </g>\n    <g id=\"ytick_2\">\n     <g id=\"line2d_15\">\n      <path clip-path=\"url(#pec06a814a1)\" d=\"M 53.328125 185.159571 \nL 388.128125 185.159571 \n\" style=\"fill:none;stroke:#b0b0b0;stroke-linecap:square;stroke-width:0.8;\"/>\n     </g>\n     <g id=\"line2d_16\">\n      <g>\n       <use style=\"stroke:#000000;stroke-width:0.8;\" x=\"53.328125\" xlink:href=\"#m3da0670186\" y=\"185.159571\"/>\n      </g>\n     </g>\n     <g id=\"text_9\">\n      <!-- 1000 -->\n      <g transform=\"translate(20.878125 188.95879)scale(0.1 -0.1)\">\n       <use xlink:href=\"#DejaVuSans-49\"/>\n       <use x=\"63.623047\" xlink:href=\"#DejaVuSans-48\"/>\n       <use x=\"127.246094\" xlink:href=\"#DejaVuSans-48\"/>\n       <use x=\"190.869141\" xlink:href=\"#DejaVuSans-48\"/>\n      </g>\n     </g>\n    </g>\n    <g id=\"ytick_3\">\n     <g id=\"line2d_17\">\n      <path clip-path=\"url(#pec06a814a1)\" d=\"M 53.328125 139.768266 \nL 388.128125 139.768266 \n\" style=\"fill:none;stroke:#b0b0b0;stroke-linecap:square;stroke-width:0.8;\"/>\n     </g>\n     <g id=\"line2d_18\">\n      <g>\n       <use style=\"stroke:#000000;stroke-width:0.8;\" x=\"53.328125\" xlink:href=\"#m3da0670186\" y=\"139.768266\"/>\n      </g>\n     </g>\n     <g id=\"text_10\">\n      <!-- 2000 -->\n      <g transform=\"translate(20.878125 143.567485)scale(0.1 -0.1)\">\n       <use xlink:href=\"#DejaVuSans-50\"/>\n       <use x=\"63.623047\" xlink:href=\"#DejaVuSans-48\"/>\n       <use x=\"127.246094\" xlink:href=\"#DejaVuSans-48\"/>\n       <use x=\"190.869141\" xlink:href=\"#DejaVuSans-48\"/>\n      </g>\n     </g>\n    </g>\n    <g id=\"ytick_4\">\n     <g id=\"line2d_19\">\n      <path clip-path=\"url(#pec06a814a1)\" d=\"M 53.328125 94.376961 \nL 388.128125 94.376961 \n\" style=\"fill:none;stroke:#b0b0b0;stroke-linecap:square;stroke-width:0.8;\"/>\n     </g>\n     <g id=\"line2d_20\">\n      <g>\n       <use style=\"stroke:#000000;stroke-width:0.8;\" x=\"53.328125\" xlink:href=\"#m3da0670186\" y=\"94.376961\"/>\n      </g>\n     </g>\n     <g id=\"text_11\">\n      <!-- 3000 -->\n      <g transform=\"translate(20.878125 98.17618)scale(0.1 -0.1)\">\n       <use xlink:href=\"#DejaVuSans-51\"/>\n       <use x=\"63.623047\" xlink:href=\"#DejaVuSans-48\"/>\n       <use x=\"127.246094\" xlink:href=\"#DejaVuSans-48\"/>\n       <use x=\"190.869141\" xlink:href=\"#DejaVuSans-48\"/>\n      </g>\n     </g>\n    </g>\n    <g id=\"ytick_5\">\n     <g id=\"line2d_21\">\n      <path clip-path=\"url(#pec06a814a1)\" d=\"M 53.328125 48.985656 \nL 388.128125 48.985656 \n\" style=\"fill:none;stroke:#b0b0b0;stroke-linecap:square;stroke-width:0.8;\"/>\n     </g>\n     <g id=\"line2d_22\">\n      <g>\n       <use style=\"stroke:#000000;stroke-width:0.8;\" x=\"53.328125\" xlink:href=\"#m3da0670186\" y=\"48.985656\"/>\n      </g>\n     </g>\n     <g id=\"text_12\">\n      <!-- 4000 -->\n      <g transform=\"translate(20.878125 52.784875)scale(0.1 -0.1)\">\n       <use xlink:href=\"#DejaVuSans-52\"/>\n       <use x=\"63.623047\" xlink:href=\"#DejaVuSans-48\"/>\n       <use x=\"127.246094\" xlink:href=\"#DejaVuSans-48\"/>\n       <use x=\"190.869141\" xlink:href=\"#DejaVuSans-48\"/>\n      </g>\n     </g>\n    </g>\n    <g id=\"text_13\">\n     <!-- Loss -->\n     <defs>\n      <path d=\"M 9.8125 72.90625 \nL 19.671875 72.90625 \nL 19.671875 8.296875 \nL 55.171875 8.296875 \nL 55.171875 0 \nL 9.8125 0 \nz\n\" id=\"DejaVuSans-76\"/>\n     </defs>\n     <g transform=\"translate(14.798438 142.005312)rotate(-90)scale(0.1 -0.1)\">\n      <use xlink:href=\"#DejaVuSans-76\"/>\n      <use x=\"53.962891\" xlink:href=\"#DejaVuSans-111\"/>\n      <use x=\"115.144531\" xlink:href=\"#DejaVuSans-115\"/>\n      <use x=\"167.244141\" xlink:href=\"#DejaVuSans-115\"/>\n     </g>\n    </g>\n   </g>\n   <g id=\"line2d_23\">\n    <path clip-path=\"url(#pec06a814a1)\" d=\"M 68.546307 63.243791 \nL 74.75781 80.238774 \nL 80.969312 98.667183 \nL 87.180815 118.581359 \nL 93.392318 139.715096 \nL 99.603821 161.04648 \nL 105.815324 181.771349 \nL 112.026826 200.314703 \nL 118.238329 215.009121 \nL 124.449832 224.677907 \nL 130.661335 229.13077 \nL 136.872837 229.825132 \nL 143.08434 229.123267 \nL 149.295843 228.76802 \nL 155.507346 229.037783 \nL 161.718849 229.531467 \nL 167.930351 229.820016 \nL 174.141854 229.873695 \nL 180.353357 229.839614 \nL 186.56486 229.820371 \nL 192.776362 229.835065 \nL 198.987865 229.859278 \nL 205.199368 229.872816 \nL 211.410871 229.874042 \nL 217.622374 229.871523 \nL 223.833876 229.871481 \nL 230.045379 229.872804 \nL 236.256882 229.873244 \nL 242.468385 229.874127 \nL 248.679888 229.873947 \nL 254.89139 229.87401 \nL 261.102893 229.8742 \nL 267.314396 229.874179 \nL 273.525899 229.874221 \nL 279.737401 229.874385 \nL 285.948904 229.874403 \nL 292.160407 229.874285 \nL 298.37191 229.874409 \nL 304.583413 229.874014 \nL 310.794915 229.874489 \nL 317.006418 229.874097 \nL 323.217921 229.874436 \nL 329.429424 229.874372 \nL 335.640926 229.873987 \nL 341.852429 229.873838 \nL 348.063932 229.873615 \nL 354.275435 229.872901 \nL 360.486938 229.873992 \nL 366.69844 229.874382 \nL 372.909943 229.874152 \n\" style=\"fill:none;stroke:#1f77b4;stroke-linecap:square;stroke-width:1.5;\"/>\n    <defs>\n     <path d=\"M 0 2 \nC 0.530406 2 1.03916 1.789267 1.414214 1.414214 \nC 1.789267 1.03916 2 0.530406 2 0 \nC 2 -0.530406 1.789267 -1.03916 1.414214 -1.414214 \nC 1.03916 -1.789267 0.530406 -2 0 -2 \nC -0.530406 -2 -1.03916 -1.789267 -1.414214 -1.414214 \nC -1.789267 -1.03916 -2 -0.530406 -2 0 \nC -2 0.530406 -1.789267 1.03916 -1.414214 1.414214 \nC -1.03916 1.789267 -0.530406 2 0 2 \nz\n\" id=\"m22857dd822\" style=\"stroke:#1f77b4;\"/>\n    </defs>\n    <g clip-path=\"url(#pec06a814a1)\">\n     <use style=\"fill:#1f77b4;stroke:#1f77b4;\" x=\"68.546307\" xlink:href=\"#m22857dd822\" y=\"63.243791\"/>\n     <use style=\"fill:#1f77b4;stroke:#1f77b4;\" x=\"74.75781\" xlink:href=\"#m22857dd822\" y=\"80.238774\"/>\n     <use style=\"fill:#1f77b4;stroke:#1f77b4;\" x=\"80.969312\" xlink:href=\"#m22857dd822\" y=\"98.667183\"/>\n     <use style=\"fill:#1f77b4;stroke:#1f77b4;\" x=\"87.180815\" xlink:href=\"#m22857dd822\" y=\"118.581359\"/>\n     <use style=\"fill:#1f77b4;stroke:#1f77b4;\" x=\"93.392318\" xlink:href=\"#m22857dd822\" y=\"139.715096\"/>\n     <use style=\"fill:#1f77b4;stroke:#1f77b4;\" x=\"99.603821\" xlink:href=\"#m22857dd822\" y=\"161.04648\"/>\n     <use style=\"fill:#1f77b4;stroke:#1f77b4;\" x=\"105.815324\" xlink:href=\"#m22857dd822\" y=\"181.771349\"/>\n     <use style=\"fill:#1f77b4;stroke:#1f77b4;\" x=\"112.026826\" xlink:href=\"#m22857dd822\" y=\"200.314703\"/>\n     <use style=\"fill:#1f77b4;stroke:#1f77b4;\" x=\"118.238329\" xlink:href=\"#m22857dd822\" y=\"215.009121\"/>\n     <use style=\"fill:#1f77b4;stroke:#1f77b4;\" x=\"124.449832\" xlink:href=\"#m22857dd822\" y=\"224.677907\"/>\n     <use style=\"fill:#1f77b4;stroke:#1f77b4;\" x=\"130.661335\" xlink:href=\"#m22857dd822\" y=\"229.13077\"/>\n     <use style=\"fill:#1f77b4;stroke:#1f77b4;\" x=\"136.872837\" xlink:href=\"#m22857dd822\" y=\"229.825132\"/>\n     <use style=\"fill:#1f77b4;stroke:#1f77b4;\" x=\"143.08434\" xlink:href=\"#m22857dd822\" y=\"229.123267\"/>\n     <use style=\"fill:#1f77b4;stroke:#1f77b4;\" x=\"149.295843\" xlink:href=\"#m22857dd822\" y=\"228.76802\"/>\n     <use style=\"fill:#1f77b4;stroke:#1f77b4;\" x=\"155.507346\" xlink:href=\"#m22857dd822\" y=\"229.037783\"/>\n     <use style=\"fill:#1f77b4;stroke:#1f77b4;\" x=\"161.718849\" xlink:href=\"#m22857dd822\" y=\"229.531467\"/>\n     <use style=\"fill:#1f77b4;stroke:#1f77b4;\" x=\"167.930351\" xlink:href=\"#m22857dd822\" y=\"229.820016\"/>\n     <use style=\"fill:#1f77b4;stroke:#1f77b4;\" x=\"174.141854\" xlink:href=\"#m22857dd822\" y=\"229.873695\"/>\n     <use style=\"fill:#1f77b4;stroke:#1f77b4;\" x=\"180.353357\" xlink:href=\"#m22857dd822\" y=\"229.839614\"/>\n     <use style=\"fill:#1f77b4;stroke:#1f77b4;\" x=\"186.56486\" xlink:href=\"#m22857dd822\" y=\"229.820371\"/>\n     <use style=\"fill:#1f77b4;stroke:#1f77b4;\" x=\"192.776362\" xlink:href=\"#m22857dd822\" y=\"229.835065\"/>\n     <use style=\"fill:#1f77b4;stroke:#1f77b4;\" x=\"198.987865\" xlink:href=\"#m22857dd822\" y=\"229.859278\"/>\n     <use style=\"fill:#1f77b4;stroke:#1f77b4;\" x=\"205.199368\" xlink:href=\"#m22857dd822\" y=\"229.872816\"/>\n     <use style=\"fill:#1f77b4;stroke:#1f77b4;\" x=\"211.410871\" xlink:href=\"#m22857dd822\" y=\"229.874042\"/>\n     <use style=\"fill:#1f77b4;stroke:#1f77b4;\" x=\"217.622374\" xlink:href=\"#m22857dd822\" y=\"229.871523\"/>\n     <use style=\"fill:#1f77b4;stroke:#1f77b4;\" x=\"223.833876\" xlink:href=\"#m22857dd822\" y=\"229.871481\"/>\n     <use style=\"fill:#1f77b4;stroke:#1f77b4;\" x=\"230.045379\" xlink:href=\"#m22857dd822\" y=\"229.872804\"/>\n     <use style=\"fill:#1f77b4;stroke:#1f77b4;\" x=\"236.256882\" xlink:href=\"#m22857dd822\" y=\"229.873244\"/>\n     <use style=\"fill:#1f77b4;stroke:#1f77b4;\" x=\"242.468385\" xlink:href=\"#m22857dd822\" y=\"229.874127\"/>\n     <use style=\"fill:#1f77b4;stroke:#1f77b4;\" x=\"248.679888\" xlink:href=\"#m22857dd822\" y=\"229.873947\"/>\n     <use style=\"fill:#1f77b4;stroke:#1f77b4;\" x=\"254.89139\" xlink:href=\"#m22857dd822\" y=\"229.87401\"/>\n     <use style=\"fill:#1f77b4;stroke:#1f77b4;\" x=\"261.102893\" xlink:href=\"#m22857dd822\" y=\"229.8742\"/>\n     <use style=\"fill:#1f77b4;stroke:#1f77b4;\" x=\"267.314396\" xlink:href=\"#m22857dd822\" y=\"229.874179\"/>\n     <use style=\"fill:#1f77b4;stroke:#1f77b4;\" x=\"273.525899\" xlink:href=\"#m22857dd822\" y=\"229.874221\"/>\n     <use style=\"fill:#1f77b4;stroke:#1f77b4;\" x=\"279.737401\" xlink:href=\"#m22857dd822\" y=\"229.874385\"/>\n     <use style=\"fill:#1f77b4;stroke:#1f77b4;\" x=\"285.948904\" xlink:href=\"#m22857dd822\" y=\"229.874403\"/>\n     <use style=\"fill:#1f77b4;stroke:#1f77b4;\" x=\"292.160407\" xlink:href=\"#m22857dd822\" y=\"229.874285\"/>\n     <use style=\"fill:#1f77b4;stroke:#1f77b4;\" x=\"298.37191\" xlink:href=\"#m22857dd822\" y=\"229.874409\"/>\n     <use style=\"fill:#1f77b4;stroke:#1f77b4;\" x=\"304.583413\" xlink:href=\"#m22857dd822\" y=\"229.874014\"/>\n     <use style=\"fill:#1f77b4;stroke:#1f77b4;\" x=\"310.794915\" xlink:href=\"#m22857dd822\" y=\"229.874489\"/>\n     <use style=\"fill:#1f77b4;stroke:#1f77b4;\" x=\"317.006418\" xlink:href=\"#m22857dd822\" y=\"229.874097\"/>\n     <use style=\"fill:#1f77b4;stroke:#1f77b4;\" x=\"323.217921\" xlink:href=\"#m22857dd822\" y=\"229.874436\"/>\n     <use style=\"fill:#1f77b4;stroke:#1f77b4;\" x=\"329.429424\" xlink:href=\"#m22857dd822\" y=\"229.874372\"/>\n     <use style=\"fill:#1f77b4;stroke:#1f77b4;\" x=\"335.640926\" xlink:href=\"#m22857dd822\" y=\"229.873987\"/>\n     <use style=\"fill:#1f77b4;stroke:#1f77b4;\" x=\"341.852429\" xlink:href=\"#m22857dd822\" y=\"229.873838\"/>\n     <use style=\"fill:#1f77b4;stroke:#1f77b4;\" x=\"348.063932\" xlink:href=\"#m22857dd822\" y=\"229.873615\"/>\n     <use style=\"fill:#1f77b4;stroke:#1f77b4;\" x=\"354.275435\" xlink:href=\"#m22857dd822\" y=\"229.872901\"/>\n     <use style=\"fill:#1f77b4;stroke:#1f77b4;\" x=\"360.486938\" xlink:href=\"#m22857dd822\" y=\"229.873992\"/>\n     <use style=\"fill:#1f77b4;stroke:#1f77b4;\" x=\"366.69844\" xlink:href=\"#m22857dd822\" y=\"229.874382\"/>\n     <use style=\"fill:#1f77b4;stroke:#1f77b4;\" x=\"372.909943\" xlink:href=\"#m22857dd822\" y=\"229.874152\"/>\n    </g>\n   </g>\n   <g id=\"line2d_24\">\n    <path clip-path=\"url(#pec06a814a1)\" d=\"M 68.546307 32.201761 \nL 74.75781 82.27814 \nL 80.969312 78.83159 \nL 87.180815 106.898175 \nL 93.392318 123.953316 \nL 99.603821 154.133991 \nL 105.815324 179.99048 \nL 112.026826 204.662266 \nL 118.238329 213.894143 \nL 124.449832 221.223023 \nL 130.661335 227.598569 \nL 136.872837 227.87129 \nL 143.08434 227.969065 \nL 149.295843 228.672592 \nL 155.507346 227.762259 \nL 161.718849 228.59553 \nL 167.930351 229.11161 \nL 174.141854 229.400482 \nL 180.353357 228.970307 \nL 186.56486 229.088584 \nL 192.776362 229.296985 \nL 198.987865 228.897311 \nL 205.199368 228.836798 \nL 211.410871 229.49022 \nL 217.622374 228.46316 \nL 223.833876 229.158386 \nL 230.045379 228.992736 \nL 236.256882 228.94761 \nL 242.468385 228.995561 \nL 248.679888 229.270875 \nL 254.89139 229.092789 \nL 261.102893 228.615462 \nL 267.314396 229.002121 \nL 273.525899 229.412427 \nL 279.737401 228.835461 \nL 285.948904 229.280734 \nL 292.160407 229.403354 \nL 298.37191 229.12862 \nL 304.583413 228.897778 \nL 310.794915 229.054749 \nL 317.006418 229.183021 \nL 323.217921 228.835807 \nL 329.429424 228.691922 \nL 335.640926 228.969073 \nL 341.852429 228.763519 \nL 348.063932 228.910921 \nL 354.275435 228.999637 \nL 360.486938 228.940888 \nL 366.69844 229.401113 \nL 372.909943 229.47909 \n\" style=\"fill:none;stroke:#ff7f0e;stroke-linecap:square;stroke-width:1.5;\"/>\n    <defs>\n     <path d=\"M 0 2 \nC 0.530406 2 1.03916 1.789267 1.414214 1.414214 \nC 1.789267 1.03916 2 0.530406 2 0 \nC 2 -0.530406 1.789267 -1.03916 1.414214 -1.414214 \nC 1.03916 -1.789267 0.530406 -2 0 -2 \nC -0.530406 -2 -1.03916 -1.789267 -1.414214 -1.414214 \nC -1.789267 -1.03916 -2 -0.530406 -2 0 \nC -2 0.530406 -1.789267 1.03916 -1.414214 1.414214 \nC -1.03916 1.789267 -0.530406 2 0 2 \nz\n\" id=\"mb4907598b7\" style=\"stroke:#ff7f0e;\"/>\n    </defs>\n    <g clip-path=\"url(#pec06a814a1)\">\n     <use style=\"fill:#ff7f0e;stroke:#ff7f0e;\" x=\"68.546307\" xlink:href=\"#mb4907598b7\" y=\"32.201761\"/>\n     <use style=\"fill:#ff7f0e;stroke:#ff7f0e;\" x=\"74.75781\" xlink:href=\"#mb4907598b7\" y=\"82.27814\"/>\n     <use style=\"fill:#ff7f0e;stroke:#ff7f0e;\" x=\"80.969312\" xlink:href=\"#mb4907598b7\" y=\"78.83159\"/>\n     <use style=\"fill:#ff7f0e;stroke:#ff7f0e;\" x=\"87.180815\" xlink:href=\"#mb4907598b7\" y=\"106.898175\"/>\n     <use style=\"fill:#ff7f0e;stroke:#ff7f0e;\" x=\"93.392318\" xlink:href=\"#mb4907598b7\" y=\"123.953316\"/>\n     <use style=\"fill:#ff7f0e;stroke:#ff7f0e;\" x=\"99.603821\" xlink:href=\"#mb4907598b7\" y=\"154.133991\"/>\n     <use style=\"fill:#ff7f0e;stroke:#ff7f0e;\" x=\"105.815324\" xlink:href=\"#mb4907598b7\" y=\"179.99048\"/>\n     <use style=\"fill:#ff7f0e;stroke:#ff7f0e;\" x=\"112.026826\" xlink:href=\"#mb4907598b7\" y=\"204.662266\"/>\n     <use style=\"fill:#ff7f0e;stroke:#ff7f0e;\" x=\"118.238329\" xlink:href=\"#mb4907598b7\" y=\"213.894143\"/>\n     <use style=\"fill:#ff7f0e;stroke:#ff7f0e;\" x=\"124.449832\" xlink:href=\"#mb4907598b7\" y=\"221.223023\"/>\n     <use style=\"fill:#ff7f0e;stroke:#ff7f0e;\" x=\"130.661335\" xlink:href=\"#mb4907598b7\" y=\"227.598569\"/>\n     <use style=\"fill:#ff7f0e;stroke:#ff7f0e;\" x=\"136.872837\" xlink:href=\"#mb4907598b7\" y=\"227.87129\"/>\n     <use style=\"fill:#ff7f0e;stroke:#ff7f0e;\" x=\"143.08434\" xlink:href=\"#mb4907598b7\" y=\"227.969065\"/>\n     <use style=\"fill:#ff7f0e;stroke:#ff7f0e;\" x=\"149.295843\" xlink:href=\"#mb4907598b7\" y=\"228.672592\"/>\n     <use style=\"fill:#ff7f0e;stroke:#ff7f0e;\" x=\"155.507346\" xlink:href=\"#mb4907598b7\" y=\"227.762259\"/>\n     <use style=\"fill:#ff7f0e;stroke:#ff7f0e;\" x=\"161.718849\" xlink:href=\"#mb4907598b7\" y=\"228.59553\"/>\n     <use style=\"fill:#ff7f0e;stroke:#ff7f0e;\" x=\"167.930351\" xlink:href=\"#mb4907598b7\" y=\"229.11161\"/>\n     <use style=\"fill:#ff7f0e;stroke:#ff7f0e;\" x=\"174.141854\" xlink:href=\"#mb4907598b7\" y=\"229.400482\"/>\n     <use style=\"fill:#ff7f0e;stroke:#ff7f0e;\" x=\"180.353357\" xlink:href=\"#mb4907598b7\" y=\"228.970307\"/>\n     <use style=\"fill:#ff7f0e;stroke:#ff7f0e;\" x=\"186.56486\" xlink:href=\"#mb4907598b7\" y=\"229.088584\"/>\n     <use style=\"fill:#ff7f0e;stroke:#ff7f0e;\" x=\"192.776362\" xlink:href=\"#mb4907598b7\" y=\"229.296985\"/>\n     <use style=\"fill:#ff7f0e;stroke:#ff7f0e;\" x=\"198.987865\" xlink:href=\"#mb4907598b7\" y=\"228.897311\"/>\n     <use style=\"fill:#ff7f0e;stroke:#ff7f0e;\" x=\"205.199368\" xlink:href=\"#mb4907598b7\" y=\"228.836798\"/>\n     <use style=\"fill:#ff7f0e;stroke:#ff7f0e;\" x=\"211.410871\" xlink:href=\"#mb4907598b7\" y=\"229.49022\"/>\n     <use style=\"fill:#ff7f0e;stroke:#ff7f0e;\" x=\"217.622374\" xlink:href=\"#mb4907598b7\" y=\"228.46316\"/>\n     <use style=\"fill:#ff7f0e;stroke:#ff7f0e;\" x=\"223.833876\" xlink:href=\"#mb4907598b7\" y=\"229.158386\"/>\n     <use style=\"fill:#ff7f0e;stroke:#ff7f0e;\" x=\"230.045379\" xlink:href=\"#mb4907598b7\" y=\"228.992736\"/>\n     <use style=\"fill:#ff7f0e;stroke:#ff7f0e;\" x=\"236.256882\" xlink:href=\"#mb4907598b7\" y=\"228.94761\"/>\n     <use style=\"fill:#ff7f0e;stroke:#ff7f0e;\" x=\"242.468385\" xlink:href=\"#mb4907598b7\" y=\"228.995561\"/>\n     <use style=\"fill:#ff7f0e;stroke:#ff7f0e;\" x=\"248.679888\" xlink:href=\"#mb4907598b7\" y=\"229.270875\"/>\n     <use style=\"fill:#ff7f0e;stroke:#ff7f0e;\" x=\"254.89139\" xlink:href=\"#mb4907598b7\" y=\"229.092789\"/>\n     <use style=\"fill:#ff7f0e;stroke:#ff7f0e;\" x=\"261.102893\" xlink:href=\"#mb4907598b7\" y=\"228.615462\"/>\n     <use style=\"fill:#ff7f0e;stroke:#ff7f0e;\" x=\"267.314396\" xlink:href=\"#mb4907598b7\" y=\"229.002121\"/>\n     <use style=\"fill:#ff7f0e;stroke:#ff7f0e;\" x=\"273.525899\" xlink:href=\"#mb4907598b7\" y=\"229.412427\"/>\n     <use style=\"fill:#ff7f0e;stroke:#ff7f0e;\" x=\"279.737401\" xlink:href=\"#mb4907598b7\" y=\"228.835461\"/>\n     <use style=\"fill:#ff7f0e;stroke:#ff7f0e;\" x=\"285.948904\" xlink:href=\"#mb4907598b7\" y=\"229.280734\"/>\n     <use style=\"fill:#ff7f0e;stroke:#ff7f0e;\" x=\"292.160407\" xlink:href=\"#mb4907598b7\" y=\"229.403354\"/>\n     <use style=\"fill:#ff7f0e;stroke:#ff7f0e;\" x=\"298.37191\" xlink:href=\"#mb4907598b7\" y=\"229.12862\"/>\n     <use style=\"fill:#ff7f0e;stroke:#ff7f0e;\" x=\"304.583413\" xlink:href=\"#mb4907598b7\" y=\"228.897778\"/>\n     <use style=\"fill:#ff7f0e;stroke:#ff7f0e;\" x=\"310.794915\" xlink:href=\"#mb4907598b7\" y=\"229.054749\"/>\n     <use style=\"fill:#ff7f0e;stroke:#ff7f0e;\" x=\"317.006418\" xlink:href=\"#mb4907598b7\" y=\"229.183021\"/>\n     <use style=\"fill:#ff7f0e;stroke:#ff7f0e;\" x=\"323.217921\" xlink:href=\"#mb4907598b7\" y=\"228.835807\"/>\n     <use style=\"fill:#ff7f0e;stroke:#ff7f0e;\" x=\"329.429424\" xlink:href=\"#mb4907598b7\" y=\"228.691922\"/>\n     <use style=\"fill:#ff7f0e;stroke:#ff7f0e;\" x=\"335.640926\" xlink:href=\"#mb4907598b7\" y=\"228.969073\"/>\n     <use style=\"fill:#ff7f0e;stroke:#ff7f0e;\" x=\"341.852429\" xlink:href=\"#mb4907598b7\" y=\"228.763519\"/>\n     <use style=\"fill:#ff7f0e;stroke:#ff7f0e;\" x=\"348.063932\" xlink:href=\"#mb4907598b7\" y=\"228.910921\"/>\n     <use style=\"fill:#ff7f0e;stroke:#ff7f0e;\" x=\"354.275435\" xlink:href=\"#mb4907598b7\" y=\"228.999637\"/>\n     <use style=\"fill:#ff7f0e;stroke:#ff7f0e;\" x=\"360.486938\" xlink:href=\"#mb4907598b7\" y=\"228.940888\"/>\n     <use style=\"fill:#ff7f0e;stroke:#ff7f0e;\" x=\"366.69844\" xlink:href=\"#mb4907598b7\" y=\"229.401113\"/>\n     <use style=\"fill:#ff7f0e;stroke:#ff7f0e;\" x=\"372.909943\" xlink:href=\"#mb4907598b7\" y=\"229.47909\"/>\n    </g>\n   </g>\n   <g id=\"patch_3\">\n    <path d=\"M 53.328125 239.758125 \nL 53.328125 22.318125 \n\" style=\"fill:none;stroke:#000000;stroke-linecap:square;stroke-linejoin:miter;stroke-width:0.8;\"/>\n   </g>\n   <g id=\"patch_4\">\n    <path d=\"M 388.128125 239.758125 \nL 388.128125 22.318125 \n\" style=\"fill:none;stroke:#000000;stroke-linecap:square;stroke-linejoin:miter;stroke-width:0.8;\"/>\n   </g>\n   <g id=\"patch_5\">\n    <path d=\"M 53.328125 239.758125 \nL 388.128125 239.758125 \n\" style=\"fill:none;stroke:#000000;stroke-linecap:square;stroke-linejoin:miter;stroke-width:0.8;\"/>\n   </g>\n   <g id=\"patch_6\">\n    <path d=\"M 53.328125 22.318125 \nL 388.128125 22.318125 \n\" style=\"fill:none;stroke:#000000;stroke-linecap:square;stroke-linejoin:miter;stroke-width:0.8;\"/>\n   </g>\n   <g id=\"text_14\">\n    <!-- Loss with batch_size = 8 and n_units=5 -->\n    <defs>\n     <path id=\"DejaVuSans-32\"/>\n     <path d=\"M 4.203125 54.6875 \nL 13.1875 54.6875 \nL 24.421875 12.015625 \nL 35.59375 54.6875 \nL 46.1875 54.6875 \nL 57.421875 12.015625 \nL 68.609375 54.6875 \nL 77.59375 54.6875 \nL 63.28125 0 \nL 52.6875 0 \nL 40.921875 44.828125 \nL 29.109375 0 \nL 18.5 0 \nz\n\" id=\"DejaVuSans-119\"/>\n     <path d=\"M 9.421875 54.6875 \nL 18.40625 54.6875 \nL 18.40625 0 \nL 9.421875 0 \nz\nM 9.421875 75.984375 \nL 18.40625 75.984375 \nL 18.40625 64.59375 \nL 9.421875 64.59375 \nz\n\" id=\"DejaVuSans-105\"/>\n     <path d=\"M 18.3125 70.21875 \nL 18.3125 54.6875 \nL 36.8125 54.6875 \nL 36.8125 47.703125 \nL 18.3125 47.703125 \nL 18.3125 18.015625 \nQ 18.3125 11.328125 20.140625 9.421875 \nQ 21.96875 7.515625 27.59375 7.515625 \nL 36.8125 7.515625 \nL 36.8125 0 \nL 27.59375 0 \nQ 17.1875 0 13.234375 3.875 \nQ 9.28125 7.765625 9.28125 18.015625 \nL 9.28125 47.703125 \nL 2.6875 47.703125 \nL 2.6875 54.6875 \nL 9.28125 54.6875 \nL 9.28125 70.21875 \nz\n\" id=\"DejaVuSans-116\"/>\n     <path d=\"M 48.6875 27.296875 \nQ 48.6875 37.203125 44.609375 42.84375 \nQ 40.53125 48.484375 33.40625 48.484375 \nQ 26.265625 48.484375 22.1875 42.84375 \nQ 18.109375 37.203125 18.109375 27.296875 \nQ 18.109375 17.390625 22.1875 11.75 \nQ 26.265625 6.109375 33.40625 6.109375 \nQ 40.53125 6.109375 44.609375 11.75 \nQ 48.6875 17.390625 48.6875 27.296875 \nz\nM 18.109375 46.390625 \nQ 20.953125 51.265625 25.265625 53.625 \nQ 29.59375 56 35.59375 56 \nQ 45.5625 56 51.78125 48.09375 \nQ 58.015625 40.1875 58.015625 27.296875 \nQ 58.015625 14.40625 51.78125 6.484375 \nQ 45.5625 -1.421875 35.59375 -1.421875 \nQ 29.59375 -1.421875 25.265625 0.953125 \nQ 20.953125 3.328125 18.109375 8.203125 \nL 18.109375 0 \nL 9.078125 0 \nL 9.078125 75.984375 \nL 18.109375 75.984375 \nz\n\" id=\"DejaVuSans-98\"/>\n     <path d=\"M 34.28125 27.484375 \nQ 23.390625 27.484375 19.1875 25 \nQ 14.984375 22.515625 14.984375 16.5 \nQ 14.984375 11.71875 18.140625 8.90625 \nQ 21.296875 6.109375 26.703125 6.109375 \nQ 34.1875 6.109375 38.703125 11.40625 \nQ 43.21875 16.703125 43.21875 25.484375 \nL 43.21875 27.484375 \nz\nM 52.203125 31.203125 \nL 52.203125 0 \nL 43.21875 0 \nL 43.21875 8.296875 \nQ 40.140625 3.328125 35.546875 0.953125 \nQ 30.953125 -1.421875 24.3125 -1.421875 \nQ 15.921875 -1.421875 10.953125 3.296875 \nQ 6 8.015625 6 15.921875 \nQ 6 25.140625 12.171875 29.828125 \nQ 18.359375 34.515625 30.609375 34.515625 \nL 43.21875 34.515625 \nL 43.21875 35.40625 \nQ 43.21875 41.609375 39.140625 45 \nQ 35.0625 48.390625 27.6875 48.390625 \nQ 23 48.390625 18.546875 47.265625 \nQ 14.109375 46.140625 10.015625 43.890625 \nL 10.015625 52.203125 \nQ 14.9375 54.109375 19.578125 55.046875 \nQ 24.21875 56 28.609375 56 \nQ 40.484375 56 46.34375 49.84375 \nQ 52.203125 43.703125 52.203125 31.203125 \nz\n\" id=\"DejaVuSans-97\"/>\n     <path d=\"M 50.984375 -16.609375 \nL 50.984375 -23.578125 \nL -0.984375 -23.578125 \nL -0.984375 -16.609375 \nz\n\" id=\"DejaVuSans-95\"/>\n     <path d=\"M 5.515625 54.6875 \nL 48.1875 54.6875 \nL 48.1875 46.484375 \nL 14.40625 7.171875 \nL 48.1875 7.171875 \nL 48.1875 0 \nL 4.296875 0 \nL 4.296875 8.203125 \nL 38.09375 47.515625 \nL 5.515625 47.515625 \nz\n\" id=\"DejaVuSans-122\"/>\n     <path d=\"M 56.203125 29.59375 \nL 56.203125 25.203125 \nL 14.890625 25.203125 \nQ 15.484375 15.921875 20.484375 11.0625 \nQ 25.484375 6.203125 34.421875 6.203125 \nQ 39.59375 6.203125 44.453125 7.46875 \nQ 49.3125 8.734375 54.109375 11.28125 \nL 54.109375 2.78125 \nQ 49.265625 0.734375 44.1875 -0.34375 \nQ 39.109375 -1.421875 33.890625 -1.421875 \nQ 20.796875 -1.421875 13.15625 6.1875 \nQ 5.515625 13.8125 5.515625 26.8125 \nQ 5.515625 40.234375 12.765625 48.109375 \nQ 20.015625 56 32.328125 56 \nQ 43.359375 56 49.78125 48.890625 \nQ 56.203125 41.796875 56.203125 29.59375 \nz\nM 47.21875 32.234375 \nQ 47.125 39.59375 43.09375 43.984375 \nQ 39.0625 48.390625 32.421875 48.390625 \nQ 24.90625 48.390625 20.390625 44.140625 \nQ 15.875 39.890625 15.1875 32.171875 \nz\n\" id=\"DejaVuSans-101\"/>\n     <path d=\"M 10.59375 45.40625 \nL 73.1875 45.40625 \nL 73.1875 37.203125 \nL 10.59375 37.203125 \nz\nM 10.59375 25.484375 \nL 73.1875 25.484375 \nL 73.1875 17.1875 \nL 10.59375 17.1875 \nz\n\" id=\"DejaVuSans-61\"/>\n     <path d=\"M 31.78125 34.625 \nQ 24.75 34.625 20.71875 30.859375 \nQ 16.703125 27.09375 16.703125 20.515625 \nQ 16.703125 13.921875 20.71875 10.15625 \nQ 24.75 6.390625 31.78125 6.390625 \nQ 38.8125 6.390625 42.859375 10.171875 \nQ 46.921875 13.96875 46.921875 20.515625 \nQ 46.921875 27.09375 42.890625 30.859375 \nQ 38.875 34.625 31.78125 34.625 \nz\nM 21.921875 38.8125 \nQ 15.578125 40.375 12.03125 44.71875 \nQ 8.5 49.078125 8.5 55.328125 \nQ 8.5 64.0625 14.71875 69.140625 \nQ 20.953125 74.21875 31.78125 74.21875 \nQ 42.671875 74.21875 48.875 69.140625 \nQ 55.078125 64.0625 55.078125 55.328125 \nQ 55.078125 49.078125 51.53125 44.71875 \nQ 48 40.375 41.703125 38.8125 \nQ 48.828125 37.15625 52.796875 32.3125 \nQ 56.78125 27.484375 56.78125 20.515625 \nQ 56.78125 9.90625 50.3125 4.234375 \nQ 43.84375 -1.421875 31.78125 -1.421875 \nQ 19.734375 -1.421875 13.25 4.234375 \nQ 6.78125 9.90625 6.78125 20.515625 \nQ 6.78125 27.484375 10.78125 32.3125 \nQ 14.796875 37.15625 21.921875 38.8125 \nz\nM 18.3125 54.390625 \nQ 18.3125 48.734375 21.84375 45.5625 \nQ 25.390625 42.390625 31.78125 42.390625 \nQ 38.140625 42.390625 41.71875 45.5625 \nQ 45.3125 48.734375 45.3125 54.390625 \nQ 45.3125 60.0625 41.71875 63.234375 \nQ 38.140625 66.40625 31.78125 66.40625 \nQ 25.390625 66.40625 21.84375 63.234375 \nQ 18.3125 60.0625 18.3125 54.390625 \nz\n\" id=\"DejaVuSans-56\"/>\n     <path d=\"M 54.890625 33.015625 \nL 54.890625 0 \nL 45.90625 0 \nL 45.90625 32.71875 \nQ 45.90625 40.484375 42.875 44.328125 \nQ 39.84375 48.1875 33.796875 48.1875 \nQ 26.515625 48.1875 22.3125 43.546875 \nQ 18.109375 38.921875 18.109375 30.90625 \nL 18.109375 0 \nL 9.078125 0 \nL 9.078125 54.6875 \nL 18.109375 54.6875 \nL 18.109375 46.1875 \nQ 21.34375 51.125 25.703125 53.5625 \nQ 30.078125 56 35.796875 56 \nQ 45.21875 56 50.046875 50.171875 \nQ 54.890625 44.34375 54.890625 33.015625 \nz\n\" id=\"DejaVuSans-110\"/>\n     <path d=\"M 45.40625 46.390625 \nL 45.40625 75.984375 \nL 54.390625 75.984375 \nL 54.390625 0 \nL 45.40625 0 \nL 45.40625 8.203125 \nQ 42.578125 3.328125 38.25 0.953125 \nQ 33.9375 -1.421875 27.875 -1.421875 \nQ 17.96875 -1.421875 11.734375 6.484375 \nQ 5.515625 14.40625 5.515625 27.296875 \nQ 5.515625 40.1875 11.734375 48.09375 \nQ 17.96875 56 27.875 56 \nQ 33.9375 56 38.25 53.625 \nQ 42.578125 51.265625 45.40625 46.390625 \nz\nM 14.796875 27.296875 \nQ 14.796875 17.390625 18.875 11.75 \nQ 22.953125 6.109375 30.078125 6.109375 \nQ 37.203125 6.109375 41.296875 11.75 \nQ 45.40625 17.390625 45.40625 27.296875 \nQ 45.40625 37.203125 41.296875 42.84375 \nQ 37.203125 48.484375 30.078125 48.484375 \nQ 22.953125 48.484375 18.875 42.84375 \nQ 14.796875 37.203125 14.796875 27.296875 \nz\n\" id=\"DejaVuSans-100\"/>\n     <path d=\"M 8.5 21.578125 \nL 8.5 54.6875 \nL 17.484375 54.6875 \nL 17.484375 21.921875 \nQ 17.484375 14.15625 20.5 10.265625 \nQ 23.53125 6.390625 29.59375 6.390625 \nQ 36.859375 6.390625 41.078125 11.03125 \nQ 45.3125 15.671875 45.3125 23.6875 \nL 45.3125 54.6875 \nL 54.296875 54.6875 \nL 54.296875 0 \nL 45.3125 0 \nL 45.3125 8.40625 \nQ 42.046875 3.421875 37.71875 1 \nQ 33.40625 -1.421875 27.6875 -1.421875 \nQ 18.265625 -1.421875 13.375 4.4375 \nQ 8.5 10.296875 8.5 21.578125 \nz\nM 31.109375 56 \nz\n\" id=\"DejaVuSans-117\"/>\n    </defs>\n    <g transform=\"translate(101.293438 16.318125)scale(0.12 -0.12)\">\n     <use xlink:href=\"#DejaVuSans-76\"/>\n     <use x=\"53.962891\" xlink:href=\"#DejaVuSans-111\"/>\n     <use x=\"115.144531\" xlink:href=\"#DejaVuSans-115\"/>\n     <use x=\"167.244141\" xlink:href=\"#DejaVuSans-115\"/>\n     <use x=\"219.34375\" xlink:href=\"#DejaVuSans-32\"/>\n     <use x=\"251.130859\" xlink:href=\"#DejaVuSans-119\"/>\n     <use x=\"332.917969\" xlink:href=\"#DejaVuSans-105\"/>\n     <use x=\"360.701172\" xlink:href=\"#DejaVuSans-116\"/>\n     <use x=\"399.910156\" xlink:href=\"#DejaVuSans-104\"/>\n     <use x=\"463.289062\" xlink:href=\"#DejaVuSans-32\"/>\n     <use x=\"495.076172\" xlink:href=\"#DejaVuSans-98\"/>\n     <use x=\"558.552734\" xlink:href=\"#DejaVuSans-97\"/>\n     <use x=\"619.832031\" xlink:href=\"#DejaVuSans-116\"/>\n     <use x=\"659.041016\" xlink:href=\"#DejaVuSans-99\"/>\n     <use x=\"714.021484\" xlink:href=\"#DejaVuSans-104\"/>\n     <use x=\"777.400391\" xlink:href=\"#DejaVuSans-95\"/>\n     <use x=\"827.400391\" xlink:href=\"#DejaVuSans-115\"/>\n     <use x=\"879.5\" xlink:href=\"#DejaVuSans-105\"/>\n     <use x=\"907.283203\" xlink:href=\"#DejaVuSans-122\"/>\n     <use x=\"959.773438\" xlink:href=\"#DejaVuSans-101\"/>\n     <use x=\"1021.296875\" xlink:href=\"#DejaVuSans-32\"/>\n     <use x=\"1053.083984\" xlink:href=\"#DejaVuSans-61\"/>\n     <use x=\"1136.873047\" xlink:href=\"#DejaVuSans-32\"/>\n     <use x=\"1168.660156\" xlink:href=\"#DejaVuSans-56\"/>\n     <use x=\"1232.283203\" xlink:href=\"#DejaVuSans-32\"/>\n     <use x=\"1264.070312\" xlink:href=\"#DejaVuSans-97\"/>\n     <use x=\"1325.349609\" xlink:href=\"#DejaVuSans-110\"/>\n     <use x=\"1388.728516\" xlink:href=\"#DejaVuSans-100\"/>\n     <use x=\"1452.205078\" xlink:href=\"#DejaVuSans-32\"/>\n     <use x=\"1483.992188\" xlink:href=\"#DejaVuSans-110\"/>\n     <use x=\"1547.371094\" xlink:href=\"#DejaVuSans-95\"/>\n     <use x=\"1597.371094\" xlink:href=\"#DejaVuSans-117\"/>\n     <use x=\"1660.75\" xlink:href=\"#DejaVuSans-110\"/>\n     <use x=\"1724.128906\" xlink:href=\"#DejaVuSans-105\"/>\n     <use x=\"1751.912109\" xlink:href=\"#DejaVuSans-116\"/>\n     <use x=\"1791.121094\" xlink:href=\"#DejaVuSans-115\"/>\n     <use x=\"1843.220703\" xlink:href=\"#DejaVuSans-61\"/>\n     <use x=\"1927.009766\" xlink:href=\"#DejaVuSans-53\"/>\n    </g>\n   </g>\n   <g id=\"legend_1\">\n    <g id=\"patch_7\">\n     <path d=\"M 325.140625 59.674375 \nL 381.128125 59.674375 \nQ 383.128125 59.674375 383.128125 57.674375 \nL 383.128125 29.318125 \nQ 383.128125 27.318125 381.128125 27.318125 \nL 325.140625 27.318125 \nQ 323.140625 27.318125 323.140625 29.318125 \nL 323.140625 57.674375 \nQ 323.140625 59.674375 325.140625 59.674375 \nz\n\" style=\"fill:#ffffff;opacity:0.8;stroke:#cccccc;stroke-linejoin:miter;\"/>\n    </g>\n    <g id=\"line2d_25\">\n     <path d=\"M 327.140625 35.416562 \nL 347.140625 35.416562 \n\" style=\"fill:none;stroke:#1f77b4;stroke-linecap:square;stroke-width:1.5;\"/>\n    </g>\n    <g id=\"line2d_26\">\n     <g>\n      <use style=\"fill:#1f77b4;stroke:#1f77b4;\" x=\"337.140625\" xlink:href=\"#m22857dd822\" y=\"35.416562\"/>\n     </g>\n    </g>\n    <g id=\"text_15\">\n     <!-- Train -->\n     <defs>\n      <path d=\"M -0.296875 72.90625 \nL 61.375 72.90625 \nL 61.375 64.59375 \nL 35.5 64.59375 \nL 35.5 0 \nL 25.59375 0 \nL 25.59375 64.59375 \nL -0.296875 64.59375 \nz\n\" id=\"DejaVuSans-84\"/>\n      <path d=\"M 41.109375 46.296875 \nQ 39.59375 47.171875 37.8125 47.578125 \nQ 36.03125 48 33.890625 48 \nQ 26.265625 48 22.1875 43.046875 \nQ 18.109375 38.09375 18.109375 28.8125 \nL 18.109375 0 \nL 9.078125 0 \nL 9.078125 54.6875 \nL 18.109375 54.6875 \nL 18.109375 46.1875 \nQ 20.953125 51.171875 25.484375 53.578125 \nQ 30.03125 56 36.53125 56 \nQ 37.453125 56 38.578125 55.875 \nQ 39.703125 55.765625 41.0625 55.515625 \nz\n\" id=\"DejaVuSans-114\"/>\n     </defs>\n     <g transform=\"translate(355.140625 38.916562)scale(0.1 -0.1)\">\n      <use xlink:href=\"#DejaVuSans-84\"/>\n      <use x=\"46.333984\" xlink:href=\"#DejaVuSans-114\"/>\n      <use x=\"87.447266\" xlink:href=\"#DejaVuSans-97\"/>\n      <use x=\"148.726562\" xlink:href=\"#DejaVuSans-105\"/>\n      <use x=\"176.509766\" xlink:href=\"#DejaVuSans-110\"/>\n     </g>\n    </g>\n    <g id=\"line2d_27\">\n     <path d=\"M 327.140625 50.094687 \nL 347.140625 50.094687 \n\" style=\"fill:none;stroke:#ff7f0e;stroke-linecap:square;stroke-width:1.5;\"/>\n    </g>\n    <g id=\"line2d_28\">\n     <g>\n      <use style=\"fill:#ff7f0e;stroke:#ff7f0e;\" x=\"337.140625\" xlink:href=\"#mb4907598b7\" y=\"50.094687\"/>\n     </g>\n    </g>\n    <g id=\"text_16\">\n     <!-- Test -->\n     <g transform=\"translate(355.140625 53.594687)scale(0.1 -0.1)\">\n      <use xlink:href=\"#DejaVuSans-84\"/>\n      <use x=\"44.083984\" xlink:href=\"#DejaVuSans-101\"/>\n      <use x=\"105.607422\" xlink:href=\"#DejaVuSans-115\"/>\n      <use x=\"157.707031\" xlink:href=\"#DejaVuSans-116\"/>\n     </g>\n    </g>\n   </g>\n  </g>\n </g>\n <defs>\n  <clipPath id=\"pec06a814a1\">\n   <rect height=\"217.44\" width=\"334.8\" x=\"53.328125\" y=\"22.318125\"/>\n  </clipPath>\n </defs>\n</svg>\n"
          },
          "metadata": {
            "needs_background": "light"
          }
        },
        {
          "output_type": "display_data",
          "data": {
            "text/plain": [
              "<Figure size 432x288 with 1 Axes>"
            ],
            "image/svg+xml": "<?xml version=\"1.0\" encoding=\"utf-8\" standalone=\"no\"?>\n<!DOCTYPE svg PUBLIC \"-//W3C//DTD SVG 1.1//EN\"\n  \"http://www.w3.org/Graphics/SVG/1.1/DTD/svg11.dtd\">\n<!-- Created with matplotlib (https://matplotlib.org/) -->\n<svg height=\"277.314375pt\" version=\"1.1\" viewBox=\"0 0 395.328125 277.314375\" width=\"395.328125pt\" xmlns=\"http://www.w3.org/2000/svg\" xmlns:xlink=\"http://www.w3.org/1999/xlink\">\n <defs>\n  <style type=\"text/css\">\n*{stroke-linecap:butt;stroke-linejoin:round;}\n  </style>\n </defs>\n <g id=\"figure_1\">\n  <g id=\"patch_1\">\n   <path d=\"M -0 277.314375 \nL 395.328125 277.314375 \nL 395.328125 0 \nL -0 0 \nz\n\" style=\"fill:none;\"/>\n  </g>\n  <g id=\"axes_1\">\n   <g id=\"patch_2\">\n    <path d=\"M 46.965625 239.758125 \nL 381.765625 239.758125 \nL 381.765625 22.318125 \nL 46.965625 22.318125 \nz\n\" style=\"fill:#ffffff;\"/>\n   </g>\n   <g id=\"matplotlib.axis_1\">\n    <g id=\"xtick_1\">\n     <g id=\"line2d_1\">\n      <path clip-path=\"url(#pf2b35c0cb9)\" d=\"M 46.965625 239.758125 \nL 46.965625 22.318125 \n\" style=\"fill:none;stroke:#b0b0b0;stroke-linecap:square;stroke-width:0.8;\"/>\n     </g>\n     <g id=\"line2d_2\">\n      <defs>\n       <path d=\"M 0 0 \nL 0 3.5 \n\" id=\"m21f63f7cc4\" style=\"stroke:#000000;stroke-width:0.8;\"/>\n      </defs>\n      <g>\n       <use style=\"stroke:#000000;stroke-width:0.8;\" x=\"46.965625\" xlink:href=\"#m21f63f7cc4\" y=\"239.758125\"/>\n      </g>\n     </g>\n     <g id=\"text_1\">\n      <!-- 0 -->\n      <defs>\n       <path d=\"M 31.78125 66.40625 \nQ 24.171875 66.40625 20.328125 58.90625 \nQ 16.5 51.421875 16.5 36.375 \nQ 16.5 21.390625 20.328125 13.890625 \nQ 24.171875 6.390625 31.78125 6.390625 \nQ 39.453125 6.390625 43.28125 13.890625 \nQ 47.125 21.390625 47.125 36.375 \nQ 47.125 51.421875 43.28125 58.90625 \nQ 39.453125 66.40625 31.78125 66.40625 \nz\nM 31.78125 74.21875 \nQ 44.046875 74.21875 50.515625 64.515625 \nQ 56.984375 54.828125 56.984375 36.375 \nQ 56.984375 17.96875 50.515625 8.265625 \nQ 44.046875 -1.421875 31.78125 -1.421875 \nQ 19.53125 -1.421875 13.0625 8.265625 \nQ 6.59375 17.96875 6.59375 36.375 \nQ 6.59375 54.828125 13.0625 64.515625 \nQ 19.53125 74.21875 31.78125 74.21875 \nz\n\" id=\"DejaVuSans-48\"/>\n      </defs>\n      <g transform=\"translate(43.784375 254.356562)scale(0.1 -0.1)\">\n       <use xlink:href=\"#DejaVuSans-48\"/>\n      </g>\n     </g>\n    </g>\n    <g id=\"xtick_2\">\n     <g id=\"line2d_3\">\n      <path clip-path=\"url(#pf2b35c0cb9)\" d=\"M 113.925625 239.758125 \nL 113.925625 22.318125 \n\" style=\"fill:none;stroke:#b0b0b0;stroke-linecap:square;stroke-width:0.8;\"/>\n     </g>\n     <g id=\"line2d_4\">\n      <g>\n       <use style=\"stroke:#000000;stroke-width:0.8;\" x=\"113.925625\" xlink:href=\"#m21f63f7cc4\" y=\"239.758125\"/>\n      </g>\n     </g>\n     <g id=\"text_2\">\n      <!-- 10 -->\n      <defs>\n       <path d=\"M 12.40625 8.296875 \nL 28.515625 8.296875 \nL 28.515625 63.921875 \nL 10.984375 60.40625 \nL 10.984375 69.390625 \nL 28.421875 72.90625 \nL 38.28125 72.90625 \nL 38.28125 8.296875 \nL 54.390625 8.296875 \nL 54.390625 0 \nL 12.40625 0 \nz\n\" id=\"DejaVuSans-49\"/>\n      </defs>\n      <g transform=\"translate(107.563125 254.356562)scale(0.1 -0.1)\">\n       <use xlink:href=\"#DejaVuSans-49\"/>\n       <use x=\"63.623047\" xlink:href=\"#DejaVuSans-48\"/>\n      </g>\n     </g>\n    </g>\n    <g id=\"xtick_3\">\n     <g id=\"line2d_5\">\n      <path clip-path=\"url(#pf2b35c0cb9)\" d=\"M 180.885625 239.758125 \nL 180.885625 22.318125 \n\" style=\"fill:none;stroke:#b0b0b0;stroke-linecap:square;stroke-width:0.8;\"/>\n     </g>\n     <g id=\"line2d_6\">\n      <g>\n       <use style=\"stroke:#000000;stroke-width:0.8;\" x=\"180.885625\" xlink:href=\"#m21f63f7cc4\" y=\"239.758125\"/>\n      </g>\n     </g>\n     <g id=\"text_3\">\n      <!-- 20 -->\n      <defs>\n       <path d=\"M 19.1875 8.296875 \nL 53.609375 8.296875 \nL 53.609375 0 \nL 7.328125 0 \nL 7.328125 8.296875 \nQ 12.9375 14.109375 22.625 23.890625 \nQ 32.328125 33.6875 34.8125 36.53125 \nQ 39.546875 41.84375 41.421875 45.53125 \nQ 43.3125 49.21875 43.3125 52.78125 \nQ 43.3125 58.59375 39.234375 62.25 \nQ 35.15625 65.921875 28.609375 65.921875 \nQ 23.96875 65.921875 18.8125 64.3125 \nQ 13.671875 62.703125 7.8125 59.421875 \nL 7.8125 69.390625 \nQ 13.765625 71.78125 18.9375 73 \nQ 24.125 74.21875 28.421875 74.21875 \nQ 39.75 74.21875 46.484375 68.546875 \nQ 53.21875 62.890625 53.21875 53.421875 \nQ 53.21875 48.921875 51.53125 44.890625 \nQ 49.859375 40.875 45.40625 35.40625 \nQ 44.1875 33.984375 37.640625 27.21875 \nQ 31.109375 20.453125 19.1875 8.296875 \nz\n\" id=\"DejaVuSans-50\"/>\n      </defs>\n      <g transform=\"translate(174.523125 254.356562)scale(0.1 -0.1)\">\n       <use xlink:href=\"#DejaVuSans-50\"/>\n       <use x=\"63.623047\" xlink:href=\"#DejaVuSans-48\"/>\n      </g>\n     </g>\n    </g>\n    <g id=\"xtick_4\">\n     <g id=\"line2d_7\">\n      <path clip-path=\"url(#pf2b35c0cb9)\" d=\"M 247.845625 239.758125 \nL 247.845625 22.318125 \n\" style=\"fill:none;stroke:#b0b0b0;stroke-linecap:square;stroke-width:0.8;\"/>\n     </g>\n     <g id=\"line2d_8\">\n      <g>\n       <use style=\"stroke:#000000;stroke-width:0.8;\" x=\"247.845625\" xlink:href=\"#m21f63f7cc4\" y=\"239.758125\"/>\n      </g>\n     </g>\n     <g id=\"text_4\">\n      <!-- 30 -->\n      <defs>\n       <path d=\"M 40.578125 39.3125 \nQ 47.65625 37.796875 51.625 33 \nQ 55.609375 28.21875 55.609375 21.1875 \nQ 55.609375 10.40625 48.1875 4.484375 \nQ 40.765625 -1.421875 27.09375 -1.421875 \nQ 22.515625 -1.421875 17.65625 -0.515625 \nQ 12.796875 0.390625 7.625 2.203125 \nL 7.625 11.71875 \nQ 11.71875 9.328125 16.59375 8.109375 \nQ 21.484375 6.890625 26.8125 6.890625 \nQ 36.078125 6.890625 40.9375 10.546875 \nQ 45.796875 14.203125 45.796875 21.1875 \nQ 45.796875 27.640625 41.28125 31.265625 \nQ 36.765625 34.90625 28.71875 34.90625 \nL 20.21875 34.90625 \nL 20.21875 43.015625 \nL 29.109375 43.015625 \nQ 36.375 43.015625 40.234375 45.921875 \nQ 44.09375 48.828125 44.09375 54.296875 \nQ 44.09375 59.90625 40.109375 62.90625 \nQ 36.140625 65.921875 28.71875 65.921875 \nQ 24.65625 65.921875 20.015625 65.03125 \nQ 15.375 64.15625 9.8125 62.3125 \nL 9.8125 71.09375 \nQ 15.4375 72.65625 20.34375 73.4375 \nQ 25.25 74.21875 29.59375 74.21875 \nQ 40.828125 74.21875 47.359375 69.109375 \nQ 53.90625 64.015625 53.90625 55.328125 \nQ 53.90625 49.265625 50.4375 45.09375 \nQ 46.96875 40.921875 40.578125 39.3125 \nz\n\" id=\"DejaVuSans-51\"/>\n      </defs>\n      <g transform=\"translate(241.483125 254.356562)scale(0.1 -0.1)\">\n       <use xlink:href=\"#DejaVuSans-51\"/>\n       <use x=\"63.623047\" xlink:href=\"#DejaVuSans-48\"/>\n      </g>\n     </g>\n    </g>\n    <g id=\"xtick_5\">\n     <g id=\"line2d_9\">\n      <path clip-path=\"url(#pf2b35c0cb9)\" d=\"M 314.805625 239.758125 \nL 314.805625 22.318125 \n\" style=\"fill:none;stroke:#b0b0b0;stroke-linecap:square;stroke-width:0.8;\"/>\n     </g>\n     <g id=\"line2d_10\">\n      <g>\n       <use style=\"stroke:#000000;stroke-width:0.8;\" x=\"314.805625\" xlink:href=\"#m21f63f7cc4\" y=\"239.758125\"/>\n      </g>\n     </g>\n     <g id=\"text_5\">\n      <!-- 40 -->\n      <defs>\n       <path d=\"M 37.796875 64.3125 \nL 12.890625 25.390625 \nL 37.796875 25.390625 \nz\nM 35.203125 72.90625 \nL 47.609375 72.90625 \nL 47.609375 25.390625 \nL 58.015625 25.390625 \nL 58.015625 17.1875 \nL 47.609375 17.1875 \nL 47.609375 0 \nL 37.796875 0 \nL 37.796875 17.1875 \nL 4.890625 17.1875 \nL 4.890625 26.703125 \nz\n\" id=\"DejaVuSans-52\"/>\n      </defs>\n      <g transform=\"translate(308.443125 254.356562)scale(0.1 -0.1)\">\n       <use xlink:href=\"#DejaVuSans-52\"/>\n       <use x=\"63.623047\" xlink:href=\"#DejaVuSans-48\"/>\n      </g>\n     </g>\n    </g>\n    <g id=\"xtick_6\">\n     <g id=\"line2d_11\">\n      <path clip-path=\"url(#pf2b35c0cb9)\" d=\"M 381.765625 239.758125 \nL 381.765625 22.318125 \n\" style=\"fill:none;stroke:#b0b0b0;stroke-linecap:square;stroke-width:0.8;\"/>\n     </g>\n     <g id=\"line2d_12\">\n      <g>\n       <use style=\"stroke:#000000;stroke-width:0.8;\" x=\"381.765625\" xlink:href=\"#m21f63f7cc4\" y=\"239.758125\"/>\n      </g>\n     </g>\n     <g id=\"text_6\">\n      <!-- 50 -->\n      <defs>\n       <path d=\"M 10.796875 72.90625 \nL 49.515625 72.90625 \nL 49.515625 64.59375 \nL 19.828125 64.59375 \nL 19.828125 46.734375 \nQ 21.96875 47.46875 24.109375 47.828125 \nQ 26.265625 48.1875 28.421875 48.1875 \nQ 40.625 48.1875 47.75 41.5 \nQ 54.890625 34.8125 54.890625 23.390625 \nQ 54.890625 11.625 47.5625 5.09375 \nQ 40.234375 -1.421875 26.90625 -1.421875 \nQ 22.3125 -1.421875 17.546875 -0.640625 \nQ 12.796875 0.140625 7.71875 1.703125 \nL 7.71875 11.625 \nQ 12.109375 9.234375 16.796875 8.0625 \nQ 21.484375 6.890625 26.703125 6.890625 \nQ 35.15625 6.890625 40.078125 11.328125 \nQ 45.015625 15.765625 45.015625 23.390625 \nQ 45.015625 31 40.078125 35.4375 \nQ 35.15625 39.890625 26.703125 39.890625 \nQ 22.75 39.890625 18.8125 39.015625 \nQ 14.890625 38.140625 10.796875 36.28125 \nz\n\" id=\"DejaVuSans-53\"/>\n      </defs>\n      <g transform=\"translate(375.403125 254.356562)scale(0.1 -0.1)\">\n       <use xlink:href=\"#DejaVuSans-53\"/>\n       <use x=\"63.623047\" xlink:href=\"#DejaVuSans-48\"/>\n      </g>\n     </g>\n    </g>\n    <g id=\"text_7\">\n     <!-- Epochs -->\n     <defs>\n      <path d=\"M 9.8125 72.90625 \nL 55.90625 72.90625 \nL 55.90625 64.59375 \nL 19.671875 64.59375 \nL 19.671875 43.015625 \nL 54.390625 43.015625 \nL 54.390625 34.71875 \nL 19.671875 34.71875 \nL 19.671875 8.296875 \nL 56.78125 8.296875 \nL 56.78125 0 \nL 9.8125 0 \nz\n\" id=\"DejaVuSans-69\"/>\n      <path d=\"M 18.109375 8.203125 \nL 18.109375 -20.796875 \nL 9.078125 -20.796875 \nL 9.078125 54.6875 \nL 18.109375 54.6875 \nL 18.109375 46.390625 \nQ 20.953125 51.265625 25.265625 53.625 \nQ 29.59375 56 35.59375 56 \nQ 45.5625 56 51.78125 48.09375 \nQ 58.015625 40.1875 58.015625 27.296875 \nQ 58.015625 14.40625 51.78125 6.484375 \nQ 45.5625 -1.421875 35.59375 -1.421875 \nQ 29.59375 -1.421875 25.265625 0.953125 \nQ 20.953125 3.328125 18.109375 8.203125 \nz\nM 48.6875 27.296875 \nQ 48.6875 37.203125 44.609375 42.84375 \nQ 40.53125 48.484375 33.40625 48.484375 \nQ 26.265625 48.484375 22.1875 42.84375 \nQ 18.109375 37.203125 18.109375 27.296875 \nQ 18.109375 17.390625 22.1875 11.75 \nQ 26.265625 6.109375 33.40625 6.109375 \nQ 40.53125 6.109375 44.609375 11.75 \nQ 48.6875 17.390625 48.6875 27.296875 \nz\n\" id=\"DejaVuSans-112\"/>\n      <path d=\"M 30.609375 48.390625 \nQ 23.390625 48.390625 19.1875 42.75 \nQ 14.984375 37.109375 14.984375 27.296875 \nQ 14.984375 17.484375 19.15625 11.84375 \nQ 23.34375 6.203125 30.609375 6.203125 \nQ 37.796875 6.203125 41.984375 11.859375 \nQ 46.1875 17.53125 46.1875 27.296875 \nQ 46.1875 37.015625 41.984375 42.703125 \nQ 37.796875 48.390625 30.609375 48.390625 \nz\nM 30.609375 56 \nQ 42.328125 56 49.015625 48.375 \nQ 55.71875 40.765625 55.71875 27.296875 \nQ 55.71875 13.875 49.015625 6.21875 \nQ 42.328125 -1.421875 30.609375 -1.421875 \nQ 18.84375 -1.421875 12.171875 6.21875 \nQ 5.515625 13.875 5.515625 27.296875 \nQ 5.515625 40.765625 12.171875 48.375 \nQ 18.84375 56 30.609375 56 \nz\n\" id=\"DejaVuSans-111\"/>\n      <path d=\"M 48.78125 52.59375 \nL 48.78125 44.1875 \nQ 44.96875 46.296875 41.140625 47.34375 \nQ 37.3125 48.390625 33.40625 48.390625 \nQ 24.65625 48.390625 19.8125 42.84375 \nQ 14.984375 37.3125 14.984375 27.296875 \nQ 14.984375 17.28125 19.8125 11.734375 \nQ 24.65625 6.203125 33.40625 6.203125 \nQ 37.3125 6.203125 41.140625 7.25 \nQ 44.96875 8.296875 48.78125 10.40625 \nL 48.78125 2.09375 \nQ 45.015625 0.34375 40.984375 -0.53125 \nQ 36.96875 -1.421875 32.421875 -1.421875 \nQ 20.0625 -1.421875 12.78125 6.34375 \nQ 5.515625 14.109375 5.515625 27.296875 \nQ 5.515625 40.671875 12.859375 48.328125 \nQ 20.21875 56 33.015625 56 \nQ 37.15625 56 41.109375 55.140625 \nQ 45.0625 54.296875 48.78125 52.59375 \nz\n\" id=\"DejaVuSans-99\"/>\n      <path d=\"M 54.890625 33.015625 \nL 54.890625 0 \nL 45.90625 0 \nL 45.90625 32.71875 \nQ 45.90625 40.484375 42.875 44.328125 \nQ 39.84375 48.1875 33.796875 48.1875 \nQ 26.515625 48.1875 22.3125 43.546875 \nQ 18.109375 38.921875 18.109375 30.90625 \nL 18.109375 0 \nL 9.078125 0 \nL 9.078125 75.984375 \nL 18.109375 75.984375 \nL 18.109375 46.1875 \nQ 21.34375 51.125 25.703125 53.5625 \nQ 30.078125 56 35.796875 56 \nQ 45.21875 56 50.046875 50.171875 \nQ 54.890625 44.34375 54.890625 33.015625 \nz\n\" id=\"DejaVuSans-104\"/>\n      <path d=\"M 44.28125 53.078125 \nL 44.28125 44.578125 \nQ 40.484375 46.53125 36.375 47.5 \nQ 32.28125 48.484375 27.875 48.484375 \nQ 21.1875 48.484375 17.84375 46.4375 \nQ 14.5 44.390625 14.5 40.28125 \nQ 14.5 37.15625 16.890625 35.375 \nQ 19.28125 33.59375 26.515625 31.984375 \nL 29.59375 31.296875 \nQ 39.15625 29.25 43.1875 25.515625 \nQ 47.21875 21.78125 47.21875 15.09375 \nQ 47.21875 7.46875 41.1875 3.015625 \nQ 35.15625 -1.421875 24.609375 -1.421875 \nQ 20.21875 -1.421875 15.453125 -0.5625 \nQ 10.6875 0.296875 5.421875 2 \nL 5.421875 11.28125 \nQ 10.40625 8.6875 15.234375 7.390625 \nQ 20.0625 6.109375 24.8125 6.109375 \nQ 31.15625 6.109375 34.5625 8.28125 \nQ 37.984375 10.453125 37.984375 14.40625 \nQ 37.984375 18.0625 35.515625 20.015625 \nQ 33.0625 21.96875 24.703125 23.78125 \nL 21.578125 24.515625 \nQ 13.234375 26.265625 9.515625 29.90625 \nQ 5.8125 33.546875 5.8125 39.890625 \nQ 5.8125 47.609375 11.28125 51.796875 \nQ 16.75 56 26.8125 56 \nQ 31.78125 56 36.171875 55.265625 \nQ 40.578125 54.546875 44.28125 53.078125 \nz\n\" id=\"DejaVuSans-115\"/>\n     </defs>\n     <g transform=\"translate(196.45 268.034687)scale(0.1 -0.1)\">\n      <use xlink:href=\"#DejaVuSans-69\"/>\n      <use x=\"63.183594\" xlink:href=\"#DejaVuSans-112\"/>\n      <use x=\"126.660156\" xlink:href=\"#DejaVuSans-111\"/>\n      <use x=\"187.841797\" xlink:href=\"#DejaVuSans-99\"/>\n      <use x=\"242.822266\" xlink:href=\"#DejaVuSans-104\"/>\n      <use x=\"306.201172\" xlink:href=\"#DejaVuSans-115\"/>\n     </g>\n    </g>\n   </g>\n   <g id=\"matplotlib.axis_2\">\n    <g id=\"ytick_1\">\n     <g id=\"line2d_13\">\n      <path clip-path=\"url(#pf2b35c0cb9)\" d=\"M 46.965625 239.758125 \nL 381.765625 239.758125 \n\" style=\"fill:none;stroke:#b0b0b0;stroke-linecap:square;stroke-width:0.8;\"/>\n     </g>\n     <g id=\"line2d_14\">\n      <defs>\n       <path d=\"M 0 0 \nL -3.5 0 \n\" id=\"m9c74763a04\" style=\"stroke:#000000;stroke-width:0.8;\"/>\n      </defs>\n      <g>\n       <use style=\"stroke:#000000;stroke-width:0.8;\" x=\"46.965625\" xlink:href=\"#m9c74763a04\" y=\"239.758125\"/>\n      </g>\n     </g>\n     <g id=\"text_8\">\n      <!-- 0 -->\n      <g transform=\"translate(33.603125 243.557344)scale(0.1 -0.1)\">\n       <use xlink:href=\"#DejaVuSans-48\"/>\n      </g>\n     </g>\n    </g>\n    <g id=\"ytick_2\">\n     <g id=\"line2d_15\">\n      <path clip-path=\"url(#pf2b35c0cb9)\" d=\"M 46.965625 196.270125 \nL 381.765625 196.270125 \n\" style=\"fill:none;stroke:#b0b0b0;stroke-linecap:square;stroke-width:0.8;\"/>\n     </g>\n     <g id=\"line2d_16\">\n      <g>\n       <use style=\"stroke:#000000;stroke-width:0.8;\" x=\"46.965625\" xlink:href=\"#m9c74763a04\" y=\"196.270125\"/>\n      </g>\n     </g>\n     <g id=\"text_9\">\n      <!-- 20 -->\n      <g transform=\"translate(27.240625 200.069344)scale(0.1 -0.1)\">\n       <use xlink:href=\"#DejaVuSans-50\"/>\n       <use x=\"63.623047\" xlink:href=\"#DejaVuSans-48\"/>\n      </g>\n     </g>\n    </g>\n    <g id=\"ytick_3\">\n     <g id=\"line2d_17\">\n      <path clip-path=\"url(#pf2b35c0cb9)\" d=\"M 46.965625 152.782125 \nL 381.765625 152.782125 \n\" style=\"fill:none;stroke:#b0b0b0;stroke-linecap:square;stroke-width:0.8;\"/>\n     </g>\n     <g id=\"line2d_18\">\n      <g>\n       <use style=\"stroke:#000000;stroke-width:0.8;\" x=\"46.965625\" xlink:href=\"#m9c74763a04\" y=\"152.782125\"/>\n      </g>\n     </g>\n     <g id=\"text_10\">\n      <!-- 40 -->\n      <g transform=\"translate(27.240625 156.581344)scale(0.1 -0.1)\">\n       <use xlink:href=\"#DejaVuSans-52\"/>\n       <use x=\"63.623047\" xlink:href=\"#DejaVuSans-48\"/>\n      </g>\n     </g>\n    </g>\n    <g id=\"ytick_4\">\n     <g id=\"line2d_19\">\n      <path clip-path=\"url(#pf2b35c0cb9)\" d=\"M 46.965625 109.294125 \nL 381.765625 109.294125 \n\" style=\"fill:none;stroke:#b0b0b0;stroke-linecap:square;stroke-width:0.8;\"/>\n     </g>\n     <g id=\"line2d_20\">\n      <g>\n       <use style=\"stroke:#000000;stroke-width:0.8;\" x=\"46.965625\" xlink:href=\"#m9c74763a04\" y=\"109.294125\"/>\n      </g>\n     </g>\n     <g id=\"text_11\">\n      <!-- 60 -->\n      <defs>\n       <path d=\"M 33.015625 40.375 \nQ 26.375 40.375 22.484375 35.828125 \nQ 18.609375 31.296875 18.609375 23.390625 \nQ 18.609375 15.53125 22.484375 10.953125 \nQ 26.375 6.390625 33.015625 6.390625 \nQ 39.65625 6.390625 43.53125 10.953125 \nQ 47.40625 15.53125 47.40625 23.390625 \nQ 47.40625 31.296875 43.53125 35.828125 \nQ 39.65625 40.375 33.015625 40.375 \nz\nM 52.59375 71.296875 \nL 52.59375 62.3125 \nQ 48.875 64.0625 45.09375 64.984375 \nQ 41.3125 65.921875 37.59375 65.921875 \nQ 27.828125 65.921875 22.671875 59.328125 \nQ 17.53125 52.734375 16.796875 39.40625 \nQ 19.671875 43.65625 24.015625 45.921875 \nQ 28.375 48.1875 33.59375 48.1875 \nQ 44.578125 48.1875 50.953125 41.515625 \nQ 57.328125 34.859375 57.328125 23.390625 \nQ 57.328125 12.15625 50.6875 5.359375 \nQ 44.046875 -1.421875 33.015625 -1.421875 \nQ 20.359375 -1.421875 13.671875 8.265625 \nQ 6.984375 17.96875 6.984375 36.375 \nQ 6.984375 53.65625 15.1875 63.9375 \nQ 23.390625 74.21875 37.203125 74.21875 \nQ 40.921875 74.21875 44.703125 73.484375 \nQ 48.484375 72.75 52.59375 71.296875 \nz\n\" id=\"DejaVuSans-54\"/>\n      </defs>\n      <g transform=\"translate(27.240625 113.093344)scale(0.1 -0.1)\">\n       <use xlink:href=\"#DejaVuSans-54\"/>\n       <use x=\"63.623047\" xlink:href=\"#DejaVuSans-48\"/>\n      </g>\n     </g>\n    </g>\n    <g id=\"ytick_5\">\n     <g id=\"line2d_21\">\n      <path clip-path=\"url(#pf2b35c0cb9)\" d=\"M 46.965625 65.806125 \nL 381.765625 65.806125 \n\" style=\"fill:none;stroke:#b0b0b0;stroke-linecap:square;stroke-width:0.8;\"/>\n     </g>\n     <g id=\"line2d_22\">\n      <g>\n       <use style=\"stroke:#000000;stroke-width:0.8;\" x=\"46.965625\" xlink:href=\"#m9c74763a04\" y=\"65.806125\"/>\n      </g>\n     </g>\n     <g id=\"text_12\">\n      <!-- 80 -->\n      <defs>\n       <path d=\"M 31.78125 34.625 \nQ 24.75 34.625 20.71875 30.859375 \nQ 16.703125 27.09375 16.703125 20.515625 \nQ 16.703125 13.921875 20.71875 10.15625 \nQ 24.75 6.390625 31.78125 6.390625 \nQ 38.8125 6.390625 42.859375 10.171875 \nQ 46.921875 13.96875 46.921875 20.515625 \nQ 46.921875 27.09375 42.890625 30.859375 \nQ 38.875 34.625 31.78125 34.625 \nz\nM 21.921875 38.8125 \nQ 15.578125 40.375 12.03125 44.71875 \nQ 8.5 49.078125 8.5 55.328125 \nQ 8.5 64.0625 14.71875 69.140625 \nQ 20.953125 74.21875 31.78125 74.21875 \nQ 42.671875 74.21875 48.875 69.140625 \nQ 55.078125 64.0625 55.078125 55.328125 \nQ 55.078125 49.078125 51.53125 44.71875 \nQ 48 40.375 41.703125 38.8125 \nQ 48.828125 37.15625 52.796875 32.3125 \nQ 56.78125 27.484375 56.78125 20.515625 \nQ 56.78125 9.90625 50.3125 4.234375 \nQ 43.84375 -1.421875 31.78125 -1.421875 \nQ 19.734375 -1.421875 13.25 4.234375 \nQ 6.78125 9.90625 6.78125 20.515625 \nQ 6.78125 27.484375 10.78125 32.3125 \nQ 14.796875 37.15625 21.921875 38.8125 \nz\nM 18.3125 54.390625 \nQ 18.3125 48.734375 21.84375 45.5625 \nQ 25.390625 42.390625 31.78125 42.390625 \nQ 38.140625 42.390625 41.71875 45.5625 \nQ 45.3125 48.734375 45.3125 54.390625 \nQ 45.3125 60.0625 41.71875 63.234375 \nQ 38.140625 66.40625 31.78125 66.40625 \nQ 25.390625 66.40625 21.84375 63.234375 \nQ 18.3125 60.0625 18.3125 54.390625 \nz\n\" id=\"DejaVuSans-56\"/>\n      </defs>\n      <g transform=\"translate(27.240625 69.605344)scale(0.1 -0.1)\">\n       <use xlink:href=\"#DejaVuSans-56\"/>\n       <use x=\"63.623047\" xlink:href=\"#DejaVuSans-48\"/>\n      </g>\n     </g>\n    </g>\n    <g id=\"ytick_6\">\n     <g id=\"line2d_23\">\n      <path clip-path=\"url(#pf2b35c0cb9)\" d=\"M 46.965625 22.318125 \nL 381.765625 22.318125 \n\" style=\"fill:none;stroke:#b0b0b0;stroke-linecap:square;stroke-width:0.8;\"/>\n     </g>\n     <g id=\"line2d_24\">\n      <g>\n       <use style=\"stroke:#000000;stroke-width:0.8;\" x=\"46.965625\" xlink:href=\"#m9c74763a04\" y=\"22.318125\"/>\n      </g>\n     </g>\n     <g id=\"text_13\">\n      <!-- 100 -->\n      <g transform=\"translate(20.878125 26.117344)scale(0.1 -0.1)\">\n       <use xlink:href=\"#DejaVuSans-49\"/>\n       <use x=\"63.623047\" xlink:href=\"#DejaVuSans-48\"/>\n       <use x=\"127.246094\" xlink:href=\"#DejaVuSans-48\"/>\n      </g>\n     </g>\n    </g>\n    <g id=\"text_14\">\n     <!-- Loss -->\n     <defs>\n      <path d=\"M 9.8125 72.90625 \nL 19.671875 72.90625 \nL 19.671875 8.296875 \nL 55.171875 8.296875 \nL 55.171875 0 \nL 9.8125 0 \nz\n\" id=\"DejaVuSans-76\"/>\n     </defs>\n     <g transform=\"translate(14.798438 142.005312)rotate(-90)scale(0.1 -0.1)\">\n      <use xlink:href=\"#DejaVuSans-76\"/>\n      <use x=\"53.962891\" xlink:href=\"#DejaVuSans-111\"/>\n      <use x=\"115.144531\" xlink:href=\"#DejaVuSans-115\"/>\n      <use x=\"167.244141\" xlink:href=\"#DejaVuSans-115\"/>\n     </g>\n    </g>\n   </g>\n   <g id=\"line2d_25\">\n    <path clip-path=\"url(#pf2b35c0cb9)\" d=\"M 108.503401 -1 \nL 113.925625 171.730121 \nL 120.621625 204.992472 \nL 127.317625 171.370705 \nL 134.013625 154.353145 \nL 140.709625 167.275748 \nL 147.405625 190.924914 \nL 154.101625 204.747399 \nL 160.797625 207.318812 \nL 167.493625 205.686178 \nL 174.189625 204.764414 \nL 180.885625 205.4683 \nL 187.581625 206.628165 \nL 194.277625 207.276698 \nL 200.973625 207.335429 \nL 207.669625 207.214732 \nL 214.365625 207.212746 \nL 221.061625 207.276112 \nL 227.757625 207.297174 \nL 234.453625 207.339489 \nL 241.149625 207.330889 \nL 247.845625 207.333893 \nL 254.541625 207.342976 \nL 261.237625 207.341991 \nL 267.933625 207.344004 \nL 274.629625 207.35187 \nL 281.325625 207.352695 \nL 288.021625 207.347085 \nL 294.717625 207.35299 \nL 301.413625 207.334096 \nL 308.109625 207.356817 \nL 314.805625 207.338066 \nL 321.501625 207.354317 \nL 328.197625 207.351218 \nL 334.893625 207.332808 \nL 341.589625 207.32566 \nL 348.285625 207.314967 \nL 354.981625 207.280771 \nL 361.677625 207.333003 \nL 368.373625 207.351714 \nL 375.069625 207.340669 \n\" style=\"fill:none;stroke:#1f77b4;stroke-linecap:square;stroke-width:1.5;\"/>\n    <defs>\n     <path d=\"M 0 2 \nC 0.530406 2 1.03916 1.789267 1.414214 1.414214 \nC 1.789267 1.03916 2 0.530406 2 0 \nC 2 -0.530406 1.789267 -1.03916 1.414214 -1.414214 \nC 1.03916 -1.789267 0.530406 -2 0 -2 \nC -0.530406 -2 -1.03916 -1.789267 -1.414214 -1.414214 \nC -1.789267 -1.03916 -2 -0.530406 -2 0 \nC -2 0.530406 -1.789267 1.03916 -1.414214 1.414214 \nC -1.03916 1.789267 -0.530406 2 0 2 \nz\n\" id=\"mfc454be13b\" style=\"stroke:#1f77b4;\"/>\n    </defs>\n    <g clip-path=\"url(#pf2b35c0cb9)\">\n     <use style=\"fill:#1f77b4;stroke:#1f77b4;\" x=\"108.503401\" xlink:href=\"#mfc454be13b\" y=\"-1\"/>\n     <use style=\"fill:#1f77b4;stroke:#1f77b4;\" x=\"113.925625\" xlink:href=\"#mfc454be13b\" y=\"171.730121\"/>\n     <use style=\"fill:#1f77b4;stroke:#1f77b4;\" x=\"120.621625\" xlink:href=\"#mfc454be13b\" y=\"204.992472\"/>\n     <use style=\"fill:#1f77b4;stroke:#1f77b4;\" x=\"127.317625\" xlink:href=\"#mfc454be13b\" y=\"171.370705\"/>\n     <use style=\"fill:#1f77b4;stroke:#1f77b4;\" x=\"134.013625\" xlink:href=\"#mfc454be13b\" y=\"154.353145\"/>\n     <use style=\"fill:#1f77b4;stroke:#1f77b4;\" x=\"140.709625\" xlink:href=\"#mfc454be13b\" y=\"167.275748\"/>\n     <use style=\"fill:#1f77b4;stroke:#1f77b4;\" x=\"147.405625\" xlink:href=\"#mfc454be13b\" y=\"190.924914\"/>\n     <use style=\"fill:#1f77b4;stroke:#1f77b4;\" x=\"154.101625\" xlink:href=\"#mfc454be13b\" y=\"204.747399\"/>\n     <use style=\"fill:#1f77b4;stroke:#1f77b4;\" x=\"160.797625\" xlink:href=\"#mfc454be13b\" y=\"207.318812\"/>\n     <use style=\"fill:#1f77b4;stroke:#1f77b4;\" x=\"167.493625\" xlink:href=\"#mfc454be13b\" y=\"205.686178\"/>\n     <use style=\"fill:#1f77b4;stroke:#1f77b4;\" x=\"174.189625\" xlink:href=\"#mfc454be13b\" y=\"204.764414\"/>\n     <use style=\"fill:#1f77b4;stroke:#1f77b4;\" x=\"180.885625\" xlink:href=\"#mfc454be13b\" y=\"205.4683\"/>\n     <use style=\"fill:#1f77b4;stroke:#1f77b4;\" x=\"187.581625\" xlink:href=\"#mfc454be13b\" y=\"206.628165\"/>\n     <use style=\"fill:#1f77b4;stroke:#1f77b4;\" x=\"194.277625\" xlink:href=\"#mfc454be13b\" y=\"207.276698\"/>\n     <use style=\"fill:#1f77b4;stroke:#1f77b4;\" x=\"200.973625\" xlink:href=\"#mfc454be13b\" y=\"207.335429\"/>\n     <use style=\"fill:#1f77b4;stroke:#1f77b4;\" x=\"207.669625\" xlink:href=\"#mfc454be13b\" y=\"207.214732\"/>\n     <use style=\"fill:#1f77b4;stroke:#1f77b4;\" x=\"214.365625\" xlink:href=\"#mfc454be13b\" y=\"207.212746\"/>\n     <use style=\"fill:#1f77b4;stroke:#1f77b4;\" x=\"221.061625\" xlink:href=\"#mfc454be13b\" y=\"207.276112\"/>\n     <use style=\"fill:#1f77b4;stroke:#1f77b4;\" x=\"227.757625\" xlink:href=\"#mfc454be13b\" y=\"207.297174\"/>\n     <use style=\"fill:#1f77b4;stroke:#1f77b4;\" x=\"234.453625\" xlink:href=\"#mfc454be13b\" y=\"207.339489\"/>\n     <use style=\"fill:#1f77b4;stroke:#1f77b4;\" x=\"241.149625\" xlink:href=\"#mfc454be13b\" y=\"207.330889\"/>\n     <use style=\"fill:#1f77b4;stroke:#1f77b4;\" x=\"247.845625\" xlink:href=\"#mfc454be13b\" y=\"207.333893\"/>\n     <use style=\"fill:#1f77b4;stroke:#1f77b4;\" x=\"254.541625\" xlink:href=\"#mfc454be13b\" y=\"207.342976\"/>\n     <use style=\"fill:#1f77b4;stroke:#1f77b4;\" x=\"261.237625\" xlink:href=\"#mfc454be13b\" y=\"207.341991\"/>\n     <use style=\"fill:#1f77b4;stroke:#1f77b4;\" x=\"267.933625\" xlink:href=\"#mfc454be13b\" y=\"207.344004\"/>\n     <use style=\"fill:#1f77b4;stroke:#1f77b4;\" x=\"274.629625\" xlink:href=\"#mfc454be13b\" y=\"207.35187\"/>\n     <use style=\"fill:#1f77b4;stroke:#1f77b4;\" x=\"281.325625\" xlink:href=\"#mfc454be13b\" y=\"207.352695\"/>\n     <use style=\"fill:#1f77b4;stroke:#1f77b4;\" x=\"288.021625\" xlink:href=\"#mfc454be13b\" y=\"207.347085\"/>\n     <use style=\"fill:#1f77b4;stroke:#1f77b4;\" x=\"294.717625\" xlink:href=\"#mfc454be13b\" y=\"207.35299\"/>\n     <use style=\"fill:#1f77b4;stroke:#1f77b4;\" x=\"301.413625\" xlink:href=\"#mfc454be13b\" y=\"207.334096\"/>\n     <use style=\"fill:#1f77b4;stroke:#1f77b4;\" x=\"308.109625\" xlink:href=\"#mfc454be13b\" y=\"207.356817\"/>\n     <use style=\"fill:#1f77b4;stroke:#1f77b4;\" x=\"314.805625\" xlink:href=\"#mfc454be13b\" y=\"207.338066\"/>\n     <use style=\"fill:#1f77b4;stroke:#1f77b4;\" x=\"321.501625\" xlink:href=\"#mfc454be13b\" y=\"207.354317\"/>\n     <use style=\"fill:#1f77b4;stroke:#1f77b4;\" x=\"328.197625\" xlink:href=\"#mfc454be13b\" y=\"207.351218\"/>\n     <use style=\"fill:#1f77b4;stroke:#1f77b4;\" x=\"334.893625\" xlink:href=\"#mfc454be13b\" y=\"207.332808\"/>\n     <use style=\"fill:#1f77b4;stroke:#1f77b4;\" x=\"341.589625\" xlink:href=\"#mfc454be13b\" y=\"207.32566\"/>\n     <use style=\"fill:#1f77b4;stroke:#1f77b4;\" x=\"348.285625\" xlink:href=\"#mfc454be13b\" y=\"207.314967\"/>\n     <use style=\"fill:#1f77b4;stroke:#1f77b4;\" x=\"354.981625\" xlink:href=\"#mfc454be13b\" y=\"207.280771\"/>\n     <use style=\"fill:#1f77b4;stroke:#1f77b4;\" x=\"361.677625\" xlink:href=\"#mfc454be13b\" y=\"207.333003\"/>\n     <use style=\"fill:#1f77b4;stroke:#1f77b4;\" x=\"368.373625\" xlink:href=\"#mfc454be13b\" y=\"207.351714\"/>\n     <use style=\"fill:#1f77b4;stroke:#1f77b4;\" x=\"375.069625\" xlink:href=\"#mfc454be13b\" y=\"207.340669\"/>\n    </g>\n   </g>\n   <g id=\"line2d_26\">\n    <path clip-path=\"url(#pf2b35c0cb9)\" d=\"M 111.747804 -1 \nL 113.925625 98.332402 \nL 120.621625 111.396712 \nL 127.317625 116.080462 \nL 134.013625 149.781812 \nL 140.709625 106.173733 \nL 147.405625 146.090311 \nL 154.101625 170.812323 \nL 160.797625 184.650283 \nL 167.493625 164.043396 \nL 174.189625 169.70929 \nL 180.885625 179.692383 \nL 187.581625 160.546642 \nL 194.277625 157.647856 \nL 200.973625 188.949011 \nL 207.669625 139.749306 \nL 214.365625 173.053012 \nL 221.061625 165.117806 \nL 227.757625 162.956126 \nL 234.453625 165.253136 \nL 241.149625 178.441635 \nL 247.845625 169.910685 \nL 254.541625 147.045077 \nL 261.237625 165.567397 \nL 267.933625 185.222453 \nL 274.629625 157.583802 \nL 281.325625 178.913932 \nL 288.021625 184.787834 \nL 294.717625 171.627129 \nL 301.413625 160.569012 \nL 308.109625 168.088442 \nL 314.805625 174.233126 \nL 321.501625 157.600382 \nL 328.197625 150.70778 \nL 334.893625 163.984293 \nL 341.589625 154.137536 \nL 348.285625 161.198626 \nL 354.981625 165.448398 \nL 361.677625 162.634117 \nL 368.373625 184.680509 \nL 375.069625 188.415849 \n\" style=\"fill:none;stroke:#ff7f0e;stroke-linecap:square;stroke-width:1.5;\"/>\n    <defs>\n     <path d=\"M 0 2 \nC 0.530406 2 1.03916 1.789267 1.414214 1.414214 \nC 1.789267 1.03916 2 0.530406 2 0 \nC 2 -0.530406 1.789267 -1.03916 1.414214 -1.414214 \nC 1.03916 -1.789267 0.530406 -2 0 -2 \nC -0.530406 -2 -1.03916 -1.789267 -1.414214 -1.414214 \nC -1.789267 -1.03916 -2 -0.530406 -2 0 \nC -2 0.530406 -1.789267 1.03916 -1.414214 1.414214 \nC -1.03916 1.789267 -0.530406 2 0 2 \nz\n\" id=\"m5c76c29897\" style=\"stroke:#ff7f0e;\"/>\n    </defs>\n    <g clip-path=\"url(#pf2b35c0cb9)\">\n     <use style=\"fill:#ff7f0e;stroke:#ff7f0e;\" x=\"111.747804\" xlink:href=\"#m5c76c29897\" y=\"-1\"/>\n     <use style=\"fill:#ff7f0e;stroke:#ff7f0e;\" x=\"113.925625\" xlink:href=\"#m5c76c29897\" y=\"98.332402\"/>\n     <use style=\"fill:#ff7f0e;stroke:#ff7f0e;\" x=\"120.621625\" xlink:href=\"#m5c76c29897\" y=\"111.396712\"/>\n     <use style=\"fill:#ff7f0e;stroke:#ff7f0e;\" x=\"127.317625\" xlink:href=\"#m5c76c29897\" y=\"116.080462\"/>\n     <use style=\"fill:#ff7f0e;stroke:#ff7f0e;\" x=\"134.013625\" xlink:href=\"#m5c76c29897\" y=\"149.781812\"/>\n     <use style=\"fill:#ff7f0e;stroke:#ff7f0e;\" x=\"140.709625\" xlink:href=\"#m5c76c29897\" y=\"106.173733\"/>\n     <use style=\"fill:#ff7f0e;stroke:#ff7f0e;\" x=\"147.405625\" xlink:href=\"#m5c76c29897\" y=\"146.090311\"/>\n     <use style=\"fill:#ff7f0e;stroke:#ff7f0e;\" x=\"154.101625\" xlink:href=\"#m5c76c29897\" y=\"170.812323\"/>\n     <use style=\"fill:#ff7f0e;stroke:#ff7f0e;\" x=\"160.797625\" xlink:href=\"#m5c76c29897\" y=\"184.650283\"/>\n     <use style=\"fill:#ff7f0e;stroke:#ff7f0e;\" x=\"167.493625\" xlink:href=\"#m5c76c29897\" y=\"164.043396\"/>\n     <use style=\"fill:#ff7f0e;stroke:#ff7f0e;\" x=\"174.189625\" xlink:href=\"#m5c76c29897\" y=\"169.70929\"/>\n     <use style=\"fill:#ff7f0e;stroke:#ff7f0e;\" x=\"180.885625\" xlink:href=\"#m5c76c29897\" y=\"179.692383\"/>\n     <use style=\"fill:#ff7f0e;stroke:#ff7f0e;\" x=\"187.581625\" xlink:href=\"#m5c76c29897\" y=\"160.546642\"/>\n     <use style=\"fill:#ff7f0e;stroke:#ff7f0e;\" x=\"194.277625\" xlink:href=\"#m5c76c29897\" y=\"157.647856\"/>\n     <use style=\"fill:#ff7f0e;stroke:#ff7f0e;\" x=\"200.973625\" xlink:href=\"#m5c76c29897\" y=\"188.949011\"/>\n     <use style=\"fill:#ff7f0e;stroke:#ff7f0e;\" x=\"207.669625\" xlink:href=\"#m5c76c29897\" y=\"139.749306\"/>\n     <use style=\"fill:#ff7f0e;stroke:#ff7f0e;\" x=\"214.365625\" xlink:href=\"#m5c76c29897\" y=\"173.053012\"/>\n     <use style=\"fill:#ff7f0e;stroke:#ff7f0e;\" x=\"221.061625\" xlink:href=\"#m5c76c29897\" y=\"165.117806\"/>\n     <use style=\"fill:#ff7f0e;stroke:#ff7f0e;\" x=\"227.757625\" xlink:href=\"#m5c76c29897\" y=\"162.956126\"/>\n     <use style=\"fill:#ff7f0e;stroke:#ff7f0e;\" x=\"234.453625\" xlink:href=\"#m5c76c29897\" y=\"165.253136\"/>\n     <use style=\"fill:#ff7f0e;stroke:#ff7f0e;\" x=\"241.149625\" xlink:href=\"#m5c76c29897\" y=\"178.441635\"/>\n     <use style=\"fill:#ff7f0e;stroke:#ff7f0e;\" x=\"247.845625\" xlink:href=\"#m5c76c29897\" y=\"169.910685\"/>\n     <use style=\"fill:#ff7f0e;stroke:#ff7f0e;\" x=\"254.541625\" xlink:href=\"#m5c76c29897\" y=\"147.045077\"/>\n     <use style=\"fill:#ff7f0e;stroke:#ff7f0e;\" x=\"261.237625\" xlink:href=\"#m5c76c29897\" y=\"165.567397\"/>\n     <use style=\"fill:#ff7f0e;stroke:#ff7f0e;\" x=\"267.933625\" xlink:href=\"#m5c76c29897\" y=\"185.222453\"/>\n     <use style=\"fill:#ff7f0e;stroke:#ff7f0e;\" x=\"274.629625\" xlink:href=\"#m5c76c29897\" y=\"157.583802\"/>\n     <use style=\"fill:#ff7f0e;stroke:#ff7f0e;\" x=\"281.325625\" xlink:href=\"#m5c76c29897\" y=\"178.913932\"/>\n     <use style=\"fill:#ff7f0e;stroke:#ff7f0e;\" x=\"288.021625\" xlink:href=\"#m5c76c29897\" y=\"184.787834\"/>\n     <use style=\"fill:#ff7f0e;stroke:#ff7f0e;\" x=\"294.717625\" xlink:href=\"#m5c76c29897\" y=\"171.627129\"/>\n     <use style=\"fill:#ff7f0e;stroke:#ff7f0e;\" x=\"301.413625\" xlink:href=\"#m5c76c29897\" y=\"160.569012\"/>\n     <use style=\"fill:#ff7f0e;stroke:#ff7f0e;\" x=\"308.109625\" xlink:href=\"#m5c76c29897\" y=\"168.088442\"/>\n     <use style=\"fill:#ff7f0e;stroke:#ff7f0e;\" x=\"314.805625\" xlink:href=\"#m5c76c29897\" y=\"174.233126\"/>\n     <use style=\"fill:#ff7f0e;stroke:#ff7f0e;\" x=\"321.501625\" xlink:href=\"#m5c76c29897\" y=\"157.600382\"/>\n     <use style=\"fill:#ff7f0e;stroke:#ff7f0e;\" x=\"328.197625\" xlink:href=\"#m5c76c29897\" y=\"150.70778\"/>\n     <use style=\"fill:#ff7f0e;stroke:#ff7f0e;\" x=\"334.893625\" xlink:href=\"#m5c76c29897\" y=\"163.984293\"/>\n     <use style=\"fill:#ff7f0e;stroke:#ff7f0e;\" x=\"341.589625\" xlink:href=\"#m5c76c29897\" y=\"154.137536\"/>\n     <use style=\"fill:#ff7f0e;stroke:#ff7f0e;\" x=\"348.285625\" xlink:href=\"#m5c76c29897\" y=\"161.198626\"/>\n     <use style=\"fill:#ff7f0e;stroke:#ff7f0e;\" x=\"354.981625\" xlink:href=\"#m5c76c29897\" y=\"165.448398\"/>\n     <use style=\"fill:#ff7f0e;stroke:#ff7f0e;\" x=\"361.677625\" xlink:href=\"#m5c76c29897\" y=\"162.634117\"/>\n     <use style=\"fill:#ff7f0e;stroke:#ff7f0e;\" x=\"368.373625\" xlink:href=\"#m5c76c29897\" y=\"184.680509\"/>\n     <use style=\"fill:#ff7f0e;stroke:#ff7f0e;\" x=\"375.069625\" xlink:href=\"#m5c76c29897\" y=\"188.415849\"/>\n    </g>\n   </g>\n   <g id=\"patch_3\">\n    <path d=\"M 46.965625 239.758125 \nL 46.965625 22.318125 \n\" style=\"fill:none;stroke:#000000;stroke-linecap:square;stroke-linejoin:miter;stroke-width:0.8;\"/>\n   </g>\n   <g id=\"patch_4\">\n    <path d=\"M 381.765625 239.758125 \nL 381.765625 22.318125 \n\" style=\"fill:none;stroke:#000000;stroke-linecap:square;stroke-linejoin:miter;stroke-width:0.8;\"/>\n   </g>\n   <g id=\"patch_5\">\n    <path d=\"M 46.965625 239.758125 \nL 381.765625 239.758125 \n\" style=\"fill:none;stroke:#000000;stroke-linecap:square;stroke-linejoin:miter;stroke-width:0.8;\"/>\n   </g>\n   <g id=\"patch_6\">\n    <path d=\"M 46.965625 22.318125 \nL 381.765625 22.318125 \n\" style=\"fill:none;stroke:#000000;stroke-linecap:square;stroke-linejoin:miter;stroke-width:0.8;\"/>\n   </g>\n   <g id=\"text_15\">\n    <!-- Loss with batch_size = 8 and n_units=5 -->\n    <defs>\n     <path id=\"DejaVuSans-32\"/>\n     <path d=\"M 4.203125 54.6875 \nL 13.1875 54.6875 \nL 24.421875 12.015625 \nL 35.59375 54.6875 \nL 46.1875 54.6875 \nL 57.421875 12.015625 \nL 68.609375 54.6875 \nL 77.59375 54.6875 \nL 63.28125 0 \nL 52.6875 0 \nL 40.921875 44.828125 \nL 29.109375 0 \nL 18.5 0 \nz\n\" id=\"DejaVuSans-119\"/>\n     <path d=\"M 9.421875 54.6875 \nL 18.40625 54.6875 \nL 18.40625 0 \nL 9.421875 0 \nz\nM 9.421875 75.984375 \nL 18.40625 75.984375 \nL 18.40625 64.59375 \nL 9.421875 64.59375 \nz\n\" id=\"DejaVuSans-105\"/>\n     <path d=\"M 18.3125 70.21875 \nL 18.3125 54.6875 \nL 36.8125 54.6875 \nL 36.8125 47.703125 \nL 18.3125 47.703125 \nL 18.3125 18.015625 \nQ 18.3125 11.328125 20.140625 9.421875 \nQ 21.96875 7.515625 27.59375 7.515625 \nL 36.8125 7.515625 \nL 36.8125 0 \nL 27.59375 0 \nQ 17.1875 0 13.234375 3.875 \nQ 9.28125 7.765625 9.28125 18.015625 \nL 9.28125 47.703125 \nL 2.6875 47.703125 \nL 2.6875 54.6875 \nL 9.28125 54.6875 \nL 9.28125 70.21875 \nz\n\" id=\"DejaVuSans-116\"/>\n     <path d=\"M 48.6875 27.296875 \nQ 48.6875 37.203125 44.609375 42.84375 \nQ 40.53125 48.484375 33.40625 48.484375 \nQ 26.265625 48.484375 22.1875 42.84375 \nQ 18.109375 37.203125 18.109375 27.296875 \nQ 18.109375 17.390625 22.1875 11.75 \nQ 26.265625 6.109375 33.40625 6.109375 \nQ 40.53125 6.109375 44.609375 11.75 \nQ 48.6875 17.390625 48.6875 27.296875 \nz\nM 18.109375 46.390625 \nQ 20.953125 51.265625 25.265625 53.625 \nQ 29.59375 56 35.59375 56 \nQ 45.5625 56 51.78125 48.09375 \nQ 58.015625 40.1875 58.015625 27.296875 \nQ 58.015625 14.40625 51.78125 6.484375 \nQ 45.5625 -1.421875 35.59375 -1.421875 \nQ 29.59375 -1.421875 25.265625 0.953125 \nQ 20.953125 3.328125 18.109375 8.203125 \nL 18.109375 0 \nL 9.078125 0 \nL 9.078125 75.984375 \nL 18.109375 75.984375 \nz\n\" id=\"DejaVuSans-98\"/>\n     <path d=\"M 34.28125 27.484375 \nQ 23.390625 27.484375 19.1875 25 \nQ 14.984375 22.515625 14.984375 16.5 \nQ 14.984375 11.71875 18.140625 8.90625 \nQ 21.296875 6.109375 26.703125 6.109375 \nQ 34.1875 6.109375 38.703125 11.40625 \nQ 43.21875 16.703125 43.21875 25.484375 \nL 43.21875 27.484375 \nz\nM 52.203125 31.203125 \nL 52.203125 0 \nL 43.21875 0 \nL 43.21875 8.296875 \nQ 40.140625 3.328125 35.546875 0.953125 \nQ 30.953125 -1.421875 24.3125 -1.421875 \nQ 15.921875 -1.421875 10.953125 3.296875 \nQ 6 8.015625 6 15.921875 \nQ 6 25.140625 12.171875 29.828125 \nQ 18.359375 34.515625 30.609375 34.515625 \nL 43.21875 34.515625 \nL 43.21875 35.40625 \nQ 43.21875 41.609375 39.140625 45 \nQ 35.0625 48.390625 27.6875 48.390625 \nQ 23 48.390625 18.546875 47.265625 \nQ 14.109375 46.140625 10.015625 43.890625 \nL 10.015625 52.203125 \nQ 14.9375 54.109375 19.578125 55.046875 \nQ 24.21875 56 28.609375 56 \nQ 40.484375 56 46.34375 49.84375 \nQ 52.203125 43.703125 52.203125 31.203125 \nz\n\" id=\"DejaVuSans-97\"/>\n     <path d=\"M 50.984375 -16.609375 \nL 50.984375 -23.578125 \nL -0.984375 -23.578125 \nL -0.984375 -16.609375 \nz\n\" id=\"DejaVuSans-95\"/>\n     <path d=\"M 5.515625 54.6875 \nL 48.1875 54.6875 \nL 48.1875 46.484375 \nL 14.40625 7.171875 \nL 48.1875 7.171875 \nL 48.1875 0 \nL 4.296875 0 \nL 4.296875 8.203125 \nL 38.09375 47.515625 \nL 5.515625 47.515625 \nz\n\" id=\"DejaVuSans-122\"/>\n     <path d=\"M 56.203125 29.59375 \nL 56.203125 25.203125 \nL 14.890625 25.203125 \nQ 15.484375 15.921875 20.484375 11.0625 \nQ 25.484375 6.203125 34.421875 6.203125 \nQ 39.59375 6.203125 44.453125 7.46875 \nQ 49.3125 8.734375 54.109375 11.28125 \nL 54.109375 2.78125 \nQ 49.265625 0.734375 44.1875 -0.34375 \nQ 39.109375 -1.421875 33.890625 -1.421875 \nQ 20.796875 -1.421875 13.15625 6.1875 \nQ 5.515625 13.8125 5.515625 26.8125 \nQ 5.515625 40.234375 12.765625 48.109375 \nQ 20.015625 56 32.328125 56 \nQ 43.359375 56 49.78125 48.890625 \nQ 56.203125 41.796875 56.203125 29.59375 \nz\nM 47.21875 32.234375 \nQ 47.125 39.59375 43.09375 43.984375 \nQ 39.0625 48.390625 32.421875 48.390625 \nQ 24.90625 48.390625 20.390625 44.140625 \nQ 15.875 39.890625 15.1875 32.171875 \nz\n\" id=\"DejaVuSans-101\"/>\n     <path d=\"M 10.59375 45.40625 \nL 73.1875 45.40625 \nL 73.1875 37.203125 \nL 10.59375 37.203125 \nz\nM 10.59375 25.484375 \nL 73.1875 25.484375 \nL 73.1875 17.1875 \nL 10.59375 17.1875 \nz\n\" id=\"DejaVuSans-61\"/>\n     <path d=\"M 54.890625 33.015625 \nL 54.890625 0 \nL 45.90625 0 \nL 45.90625 32.71875 \nQ 45.90625 40.484375 42.875 44.328125 \nQ 39.84375 48.1875 33.796875 48.1875 \nQ 26.515625 48.1875 22.3125 43.546875 \nQ 18.109375 38.921875 18.109375 30.90625 \nL 18.109375 0 \nL 9.078125 0 \nL 9.078125 54.6875 \nL 18.109375 54.6875 \nL 18.109375 46.1875 \nQ 21.34375 51.125 25.703125 53.5625 \nQ 30.078125 56 35.796875 56 \nQ 45.21875 56 50.046875 50.171875 \nQ 54.890625 44.34375 54.890625 33.015625 \nz\n\" id=\"DejaVuSans-110\"/>\n     <path d=\"M 45.40625 46.390625 \nL 45.40625 75.984375 \nL 54.390625 75.984375 \nL 54.390625 0 \nL 45.40625 0 \nL 45.40625 8.203125 \nQ 42.578125 3.328125 38.25 0.953125 \nQ 33.9375 -1.421875 27.875 -1.421875 \nQ 17.96875 -1.421875 11.734375 6.484375 \nQ 5.515625 14.40625 5.515625 27.296875 \nQ 5.515625 40.1875 11.734375 48.09375 \nQ 17.96875 56 27.875 56 \nQ 33.9375 56 38.25 53.625 \nQ 42.578125 51.265625 45.40625 46.390625 \nz\nM 14.796875 27.296875 \nQ 14.796875 17.390625 18.875 11.75 \nQ 22.953125 6.109375 30.078125 6.109375 \nQ 37.203125 6.109375 41.296875 11.75 \nQ 45.40625 17.390625 45.40625 27.296875 \nQ 45.40625 37.203125 41.296875 42.84375 \nQ 37.203125 48.484375 30.078125 48.484375 \nQ 22.953125 48.484375 18.875 42.84375 \nQ 14.796875 37.203125 14.796875 27.296875 \nz\n\" id=\"DejaVuSans-100\"/>\n     <path d=\"M 8.5 21.578125 \nL 8.5 54.6875 \nL 17.484375 54.6875 \nL 17.484375 21.921875 \nQ 17.484375 14.15625 20.5 10.265625 \nQ 23.53125 6.390625 29.59375 6.390625 \nQ 36.859375 6.390625 41.078125 11.03125 \nQ 45.3125 15.671875 45.3125 23.6875 \nL 45.3125 54.6875 \nL 54.296875 54.6875 \nL 54.296875 0 \nL 45.3125 0 \nL 45.3125 8.40625 \nQ 42.046875 3.421875 37.71875 1 \nQ 33.40625 -1.421875 27.6875 -1.421875 \nQ 18.265625 -1.421875 13.375 4.4375 \nQ 8.5 10.296875 8.5 21.578125 \nz\nM 31.109375 56 \nz\n\" id=\"DejaVuSans-117\"/>\n    </defs>\n    <g transform=\"translate(94.930938 16.318125)scale(0.12 -0.12)\">\n     <use xlink:href=\"#DejaVuSans-76\"/>\n     <use x=\"53.962891\" xlink:href=\"#DejaVuSans-111\"/>\n     <use x=\"115.144531\" xlink:href=\"#DejaVuSans-115\"/>\n     <use x=\"167.244141\" xlink:href=\"#DejaVuSans-115\"/>\n     <use x=\"219.34375\" xlink:href=\"#DejaVuSans-32\"/>\n     <use x=\"251.130859\" xlink:href=\"#DejaVuSans-119\"/>\n     <use x=\"332.917969\" xlink:href=\"#DejaVuSans-105\"/>\n     <use x=\"360.701172\" xlink:href=\"#DejaVuSans-116\"/>\n     <use x=\"399.910156\" xlink:href=\"#DejaVuSans-104\"/>\n     <use x=\"463.289062\" xlink:href=\"#DejaVuSans-32\"/>\n     <use x=\"495.076172\" xlink:href=\"#DejaVuSans-98\"/>\n     <use x=\"558.552734\" xlink:href=\"#DejaVuSans-97\"/>\n     <use x=\"619.832031\" xlink:href=\"#DejaVuSans-116\"/>\n     <use x=\"659.041016\" xlink:href=\"#DejaVuSans-99\"/>\n     <use x=\"714.021484\" xlink:href=\"#DejaVuSans-104\"/>\n     <use x=\"777.400391\" xlink:href=\"#DejaVuSans-95\"/>\n     <use x=\"827.400391\" xlink:href=\"#DejaVuSans-115\"/>\n     <use x=\"879.5\" xlink:href=\"#DejaVuSans-105\"/>\n     <use x=\"907.283203\" xlink:href=\"#DejaVuSans-122\"/>\n     <use x=\"959.773438\" xlink:href=\"#DejaVuSans-101\"/>\n     <use x=\"1021.296875\" xlink:href=\"#DejaVuSans-32\"/>\n     <use x=\"1053.083984\" xlink:href=\"#DejaVuSans-61\"/>\n     <use x=\"1136.873047\" xlink:href=\"#DejaVuSans-32\"/>\n     <use x=\"1168.660156\" xlink:href=\"#DejaVuSans-56\"/>\n     <use x=\"1232.283203\" xlink:href=\"#DejaVuSans-32\"/>\n     <use x=\"1264.070312\" xlink:href=\"#DejaVuSans-97\"/>\n     <use x=\"1325.349609\" xlink:href=\"#DejaVuSans-110\"/>\n     <use x=\"1388.728516\" xlink:href=\"#DejaVuSans-100\"/>\n     <use x=\"1452.205078\" xlink:href=\"#DejaVuSans-32\"/>\n     <use x=\"1483.992188\" xlink:href=\"#DejaVuSans-110\"/>\n     <use x=\"1547.371094\" xlink:href=\"#DejaVuSans-95\"/>\n     <use x=\"1597.371094\" xlink:href=\"#DejaVuSans-117\"/>\n     <use x=\"1660.75\" xlink:href=\"#DejaVuSans-110\"/>\n     <use x=\"1724.128906\" xlink:href=\"#DejaVuSans-105\"/>\n     <use x=\"1751.912109\" xlink:href=\"#DejaVuSans-116\"/>\n     <use x=\"1791.121094\" xlink:href=\"#DejaVuSans-115\"/>\n     <use x=\"1843.220703\" xlink:href=\"#DejaVuSans-61\"/>\n     <use x=\"1927.009766\" xlink:href=\"#DejaVuSans-53\"/>\n    </g>\n   </g>\n   <g id=\"legend_1\">\n    <g id=\"patch_7\">\n     <path d=\"M 318.778125 59.674375 \nL 374.765625 59.674375 \nQ 376.765625 59.674375 376.765625 57.674375 \nL 376.765625 29.318125 \nQ 376.765625 27.318125 374.765625 27.318125 \nL 318.778125 27.318125 \nQ 316.778125 27.318125 316.778125 29.318125 \nL 316.778125 57.674375 \nQ 316.778125 59.674375 318.778125 59.674375 \nz\n\" style=\"fill:#ffffff;opacity:0.8;stroke:#cccccc;stroke-linejoin:miter;\"/>\n    </g>\n    <g id=\"line2d_27\">\n     <path d=\"M 320.778125 35.416562 \nL 340.778125 35.416562 \n\" style=\"fill:none;stroke:#1f77b4;stroke-linecap:square;stroke-width:1.5;\"/>\n    </g>\n    <g id=\"line2d_28\">\n     <g>\n      <use style=\"fill:#1f77b4;stroke:#1f77b4;\" x=\"330.778125\" xlink:href=\"#mfc454be13b\" y=\"35.416562\"/>\n     </g>\n    </g>\n    <g id=\"text_16\">\n     <!-- Train -->\n     <defs>\n      <path d=\"M -0.296875 72.90625 \nL 61.375 72.90625 \nL 61.375 64.59375 \nL 35.5 64.59375 \nL 35.5 0 \nL 25.59375 0 \nL 25.59375 64.59375 \nL -0.296875 64.59375 \nz\n\" id=\"DejaVuSans-84\"/>\n      <path d=\"M 41.109375 46.296875 \nQ 39.59375 47.171875 37.8125 47.578125 \nQ 36.03125 48 33.890625 48 \nQ 26.265625 48 22.1875 43.046875 \nQ 18.109375 38.09375 18.109375 28.8125 \nL 18.109375 0 \nL 9.078125 0 \nL 9.078125 54.6875 \nL 18.109375 54.6875 \nL 18.109375 46.1875 \nQ 20.953125 51.171875 25.484375 53.578125 \nQ 30.03125 56 36.53125 56 \nQ 37.453125 56 38.578125 55.875 \nQ 39.703125 55.765625 41.0625 55.515625 \nz\n\" id=\"DejaVuSans-114\"/>\n     </defs>\n     <g transform=\"translate(348.778125 38.916562)scale(0.1 -0.1)\">\n      <use xlink:href=\"#DejaVuSans-84\"/>\n      <use x=\"46.333984\" xlink:href=\"#DejaVuSans-114\"/>\n      <use x=\"87.447266\" xlink:href=\"#DejaVuSans-97\"/>\n      <use x=\"148.726562\" xlink:href=\"#DejaVuSans-105\"/>\n      <use x=\"176.509766\" xlink:href=\"#DejaVuSans-110\"/>\n     </g>\n    </g>\n    <g id=\"line2d_29\">\n     <path d=\"M 320.778125 50.094687 \nL 340.778125 50.094687 \n\" style=\"fill:none;stroke:#ff7f0e;stroke-linecap:square;stroke-width:1.5;\"/>\n    </g>\n    <g id=\"line2d_30\">\n     <g>\n      <use style=\"fill:#ff7f0e;stroke:#ff7f0e;\" x=\"330.778125\" xlink:href=\"#m5c76c29897\" y=\"50.094687\"/>\n     </g>\n    </g>\n    <g id=\"text_17\">\n     <!-- Test -->\n     <g transform=\"translate(348.778125 53.594687)scale(0.1 -0.1)\">\n      <use xlink:href=\"#DejaVuSans-84\"/>\n      <use x=\"44.083984\" xlink:href=\"#DejaVuSans-101\"/>\n      <use x=\"105.607422\" xlink:href=\"#DejaVuSans-115\"/>\n      <use x=\"157.707031\" xlink:href=\"#DejaVuSans-116\"/>\n     </g>\n    </g>\n   </g>\n  </g>\n </g>\n <defs>\n  <clipPath id=\"pf2b35c0cb9\">\n   <rect height=\"217.44\" width=\"334.8\" x=\"46.965625\" y=\"22.318125\"/>\n  </clipPath>\n </defs>\n</svg>\n"
          },
          "metadata": {
            "needs_background": "light"
          }
        }
      ]
    },
    {
      "cell_type": "code",
      "source": [
        "plot_loss_2param_filter(losses_by_exp,'batch_size',16,'n_units',5)\n",
        "plot_loss_2param_filter(losses_by_exp,'batch_size',16,'n_units',5,\n",
        "                        ylim=[0,100],xlim=[0,50],verbose=False)"
      ],
      "metadata": {
        "colab": {
          "base_uri": "https://localhost:8080/",
          "height": 0
        },
        "id": "PGf-b648lGWN",
        "outputId": "adbcd809-754e-402c-fc4a-7ecd6f7f53af"
      },
      "execution_count": 22,
      "outputs": [
        {
          "output_type": "stream",
          "name": "stdout",
          "text": [
            "Pérdida del conjunto de entrenamiento:  14.84\n",
            "Pérdida del conjunto de prueba:  35.64\n"
          ]
        },
        {
          "output_type": "display_data",
          "data": {
            "text/plain": [
              "<Figure size 432x288 with 1 Axes>"
            ],
            "image/svg+xml": "<?xml version=\"1.0\" encoding=\"utf-8\" standalone=\"no\"?>\n<!DOCTYPE svg PUBLIC \"-//W3C//DTD SVG 1.1//EN\"\n  \"http://www.w3.org/Graphics/SVG/1.1/DTD/svg11.dtd\">\n<!-- Created with matplotlib (https://matplotlib.org/) -->\n<svg height=\"277.314375pt\" version=\"1.1\" viewBox=\"0 0 395.328125 277.314375\" width=\"395.328125pt\" xmlns=\"http://www.w3.org/2000/svg\" xmlns:xlink=\"http://www.w3.org/1999/xlink\">\n <defs>\n  <style type=\"text/css\">\n*{stroke-linecap:butt;stroke-linejoin:round;}\n  </style>\n </defs>\n <g id=\"figure_1\">\n  <g id=\"patch_1\">\n   <path d=\"M 0 277.314375 \nL 395.328125 277.314375 \nL 395.328125 0 \nL 0 0 \nz\n\" style=\"fill:none;\"/>\n  </g>\n  <g id=\"axes_1\">\n   <g id=\"patch_2\">\n    <path d=\"M 53.328125 239.758125 \nL 388.128125 239.758125 \nL 388.128125 22.318125 \nL 53.328125 22.318125 \nz\n\" style=\"fill:#ffffff;\"/>\n   </g>\n   <g id=\"matplotlib.axis_1\">\n    <g id=\"xtick_1\">\n     <g id=\"line2d_1\">\n      <path clip-path=\"url(#p7982f902ef)\" d=\"M 68.546307 239.758125 \nL 68.546307 22.318125 \n\" style=\"fill:none;stroke:#b0b0b0;stroke-linecap:square;stroke-width:0.8;\"/>\n     </g>\n     <g id=\"line2d_2\">\n      <defs>\n       <path d=\"M 0 0 \nL 0 3.5 \n\" id=\"mc8082e542b\" style=\"stroke:#000000;stroke-width:0.8;\"/>\n      </defs>\n      <g>\n       <use style=\"stroke:#000000;stroke-width:0.8;\" x=\"68.546307\" xlink:href=\"#mc8082e542b\" y=\"239.758125\"/>\n      </g>\n     </g>\n     <g id=\"text_1\">\n      <!-- 0 -->\n      <defs>\n       <path d=\"M 31.78125 66.40625 \nQ 24.171875 66.40625 20.328125 58.90625 \nQ 16.5 51.421875 16.5 36.375 \nQ 16.5 21.390625 20.328125 13.890625 \nQ 24.171875 6.390625 31.78125 6.390625 \nQ 39.453125 6.390625 43.28125 13.890625 \nQ 47.125 21.390625 47.125 36.375 \nQ 47.125 51.421875 43.28125 58.90625 \nQ 39.453125 66.40625 31.78125 66.40625 \nz\nM 31.78125 74.21875 \nQ 44.046875 74.21875 50.515625 64.515625 \nQ 56.984375 54.828125 56.984375 36.375 \nQ 56.984375 17.96875 50.515625 8.265625 \nQ 44.046875 -1.421875 31.78125 -1.421875 \nQ 19.53125 -1.421875 13.0625 8.265625 \nQ 6.59375 17.96875 6.59375 36.375 \nQ 6.59375 54.828125 13.0625 64.515625 \nQ 19.53125 74.21875 31.78125 74.21875 \nz\n\" id=\"DejaVuSans-48\"/>\n      </defs>\n      <g transform=\"translate(65.365057 254.356562)scale(0.1 -0.1)\">\n       <use xlink:href=\"#DejaVuSans-48\"/>\n      </g>\n     </g>\n    </g>\n    <g id=\"xtick_2\">\n     <g id=\"line2d_3\">\n      <path clip-path=\"url(#p7982f902ef)\" d=\"M 130.661335 239.758125 \nL 130.661335 22.318125 \n\" style=\"fill:none;stroke:#b0b0b0;stroke-linecap:square;stroke-width:0.8;\"/>\n     </g>\n     <g id=\"line2d_4\">\n      <g>\n       <use style=\"stroke:#000000;stroke-width:0.8;\" x=\"130.661335\" xlink:href=\"#mc8082e542b\" y=\"239.758125\"/>\n      </g>\n     </g>\n     <g id=\"text_2\">\n      <!-- 10 -->\n      <defs>\n       <path d=\"M 12.40625 8.296875 \nL 28.515625 8.296875 \nL 28.515625 63.921875 \nL 10.984375 60.40625 \nL 10.984375 69.390625 \nL 28.421875 72.90625 \nL 38.28125 72.90625 \nL 38.28125 8.296875 \nL 54.390625 8.296875 \nL 54.390625 0 \nL 12.40625 0 \nz\n\" id=\"DejaVuSans-49\"/>\n      </defs>\n      <g transform=\"translate(124.298835 254.356562)scale(0.1 -0.1)\">\n       <use xlink:href=\"#DejaVuSans-49\"/>\n       <use x=\"63.623047\" xlink:href=\"#DejaVuSans-48\"/>\n      </g>\n     </g>\n    </g>\n    <g id=\"xtick_3\">\n     <g id=\"line2d_5\">\n      <path clip-path=\"url(#p7982f902ef)\" d=\"M 192.776362 239.758125 \nL 192.776362 22.318125 \n\" style=\"fill:none;stroke:#b0b0b0;stroke-linecap:square;stroke-width:0.8;\"/>\n     </g>\n     <g id=\"line2d_6\">\n      <g>\n       <use style=\"stroke:#000000;stroke-width:0.8;\" x=\"192.776362\" xlink:href=\"#mc8082e542b\" y=\"239.758125\"/>\n      </g>\n     </g>\n     <g id=\"text_3\">\n      <!-- 20 -->\n      <defs>\n       <path d=\"M 19.1875 8.296875 \nL 53.609375 8.296875 \nL 53.609375 0 \nL 7.328125 0 \nL 7.328125 8.296875 \nQ 12.9375 14.109375 22.625 23.890625 \nQ 32.328125 33.6875 34.8125 36.53125 \nQ 39.546875 41.84375 41.421875 45.53125 \nQ 43.3125 49.21875 43.3125 52.78125 \nQ 43.3125 58.59375 39.234375 62.25 \nQ 35.15625 65.921875 28.609375 65.921875 \nQ 23.96875 65.921875 18.8125 64.3125 \nQ 13.671875 62.703125 7.8125 59.421875 \nL 7.8125 69.390625 \nQ 13.765625 71.78125 18.9375 73 \nQ 24.125 74.21875 28.421875 74.21875 \nQ 39.75 74.21875 46.484375 68.546875 \nQ 53.21875 62.890625 53.21875 53.421875 \nQ 53.21875 48.921875 51.53125 44.890625 \nQ 49.859375 40.875 45.40625 35.40625 \nQ 44.1875 33.984375 37.640625 27.21875 \nQ 31.109375 20.453125 19.1875 8.296875 \nz\n\" id=\"DejaVuSans-50\"/>\n      </defs>\n      <g transform=\"translate(186.413862 254.356562)scale(0.1 -0.1)\">\n       <use xlink:href=\"#DejaVuSans-50\"/>\n       <use x=\"63.623047\" xlink:href=\"#DejaVuSans-48\"/>\n      </g>\n     </g>\n    </g>\n    <g id=\"xtick_4\">\n     <g id=\"line2d_7\">\n      <path clip-path=\"url(#p7982f902ef)\" d=\"M 254.89139 239.758125 \nL 254.89139 22.318125 \n\" style=\"fill:none;stroke:#b0b0b0;stroke-linecap:square;stroke-width:0.8;\"/>\n     </g>\n     <g id=\"line2d_8\">\n      <g>\n       <use style=\"stroke:#000000;stroke-width:0.8;\" x=\"254.89139\" xlink:href=\"#mc8082e542b\" y=\"239.758125\"/>\n      </g>\n     </g>\n     <g id=\"text_4\">\n      <!-- 30 -->\n      <defs>\n       <path d=\"M 40.578125 39.3125 \nQ 47.65625 37.796875 51.625 33 \nQ 55.609375 28.21875 55.609375 21.1875 \nQ 55.609375 10.40625 48.1875 4.484375 \nQ 40.765625 -1.421875 27.09375 -1.421875 \nQ 22.515625 -1.421875 17.65625 -0.515625 \nQ 12.796875 0.390625 7.625 2.203125 \nL 7.625 11.71875 \nQ 11.71875 9.328125 16.59375 8.109375 \nQ 21.484375 6.890625 26.8125 6.890625 \nQ 36.078125 6.890625 40.9375 10.546875 \nQ 45.796875 14.203125 45.796875 21.1875 \nQ 45.796875 27.640625 41.28125 31.265625 \nQ 36.765625 34.90625 28.71875 34.90625 \nL 20.21875 34.90625 \nL 20.21875 43.015625 \nL 29.109375 43.015625 \nQ 36.375 43.015625 40.234375 45.921875 \nQ 44.09375 48.828125 44.09375 54.296875 \nQ 44.09375 59.90625 40.109375 62.90625 \nQ 36.140625 65.921875 28.71875 65.921875 \nQ 24.65625 65.921875 20.015625 65.03125 \nQ 15.375 64.15625 9.8125 62.3125 \nL 9.8125 71.09375 \nQ 15.4375 72.65625 20.34375 73.4375 \nQ 25.25 74.21875 29.59375 74.21875 \nQ 40.828125 74.21875 47.359375 69.109375 \nQ 53.90625 64.015625 53.90625 55.328125 \nQ 53.90625 49.265625 50.4375 45.09375 \nQ 46.96875 40.921875 40.578125 39.3125 \nz\n\" id=\"DejaVuSans-51\"/>\n      </defs>\n      <g transform=\"translate(248.52889 254.356562)scale(0.1 -0.1)\">\n       <use xlink:href=\"#DejaVuSans-51\"/>\n       <use x=\"63.623047\" xlink:href=\"#DejaVuSans-48\"/>\n      </g>\n     </g>\n    </g>\n    <g id=\"xtick_5\">\n     <g id=\"line2d_9\">\n      <path clip-path=\"url(#p7982f902ef)\" d=\"M 317.006418 239.758125 \nL 317.006418 22.318125 \n\" style=\"fill:none;stroke:#b0b0b0;stroke-linecap:square;stroke-width:0.8;\"/>\n     </g>\n     <g id=\"line2d_10\">\n      <g>\n       <use style=\"stroke:#000000;stroke-width:0.8;\" x=\"317.006418\" xlink:href=\"#mc8082e542b\" y=\"239.758125\"/>\n      </g>\n     </g>\n     <g id=\"text_5\">\n      <!-- 40 -->\n      <defs>\n       <path d=\"M 37.796875 64.3125 \nL 12.890625 25.390625 \nL 37.796875 25.390625 \nz\nM 35.203125 72.90625 \nL 47.609375 72.90625 \nL 47.609375 25.390625 \nL 58.015625 25.390625 \nL 58.015625 17.1875 \nL 47.609375 17.1875 \nL 47.609375 0 \nL 37.796875 0 \nL 37.796875 17.1875 \nL 4.890625 17.1875 \nL 4.890625 26.703125 \nz\n\" id=\"DejaVuSans-52\"/>\n      </defs>\n      <g transform=\"translate(310.643918 254.356562)scale(0.1 -0.1)\">\n       <use xlink:href=\"#DejaVuSans-52\"/>\n       <use x=\"63.623047\" xlink:href=\"#DejaVuSans-48\"/>\n      </g>\n     </g>\n    </g>\n    <g id=\"xtick_6\">\n     <g id=\"line2d_11\">\n      <path clip-path=\"url(#p7982f902ef)\" d=\"M 379.121446 239.758125 \nL 379.121446 22.318125 \n\" style=\"fill:none;stroke:#b0b0b0;stroke-linecap:square;stroke-width:0.8;\"/>\n     </g>\n     <g id=\"line2d_12\">\n      <g>\n       <use style=\"stroke:#000000;stroke-width:0.8;\" x=\"379.121446\" xlink:href=\"#mc8082e542b\" y=\"239.758125\"/>\n      </g>\n     </g>\n     <g id=\"text_6\">\n      <!-- 50 -->\n      <defs>\n       <path d=\"M 10.796875 72.90625 \nL 49.515625 72.90625 \nL 49.515625 64.59375 \nL 19.828125 64.59375 \nL 19.828125 46.734375 \nQ 21.96875 47.46875 24.109375 47.828125 \nQ 26.265625 48.1875 28.421875 48.1875 \nQ 40.625 48.1875 47.75 41.5 \nQ 54.890625 34.8125 54.890625 23.390625 \nQ 54.890625 11.625 47.5625 5.09375 \nQ 40.234375 -1.421875 26.90625 -1.421875 \nQ 22.3125 -1.421875 17.546875 -0.640625 \nQ 12.796875 0.140625 7.71875 1.703125 \nL 7.71875 11.625 \nQ 12.109375 9.234375 16.796875 8.0625 \nQ 21.484375 6.890625 26.703125 6.890625 \nQ 35.15625 6.890625 40.078125 11.328125 \nQ 45.015625 15.765625 45.015625 23.390625 \nQ 45.015625 31 40.078125 35.4375 \nQ 35.15625 39.890625 26.703125 39.890625 \nQ 22.75 39.890625 18.8125 39.015625 \nQ 14.890625 38.140625 10.796875 36.28125 \nz\n\" id=\"DejaVuSans-53\"/>\n      </defs>\n      <g transform=\"translate(372.758946 254.356562)scale(0.1 -0.1)\">\n       <use xlink:href=\"#DejaVuSans-53\"/>\n       <use x=\"63.623047\" xlink:href=\"#DejaVuSans-48\"/>\n      </g>\n     </g>\n    </g>\n    <g id=\"text_7\">\n     <!-- Epochs -->\n     <defs>\n      <path d=\"M 9.8125 72.90625 \nL 55.90625 72.90625 \nL 55.90625 64.59375 \nL 19.671875 64.59375 \nL 19.671875 43.015625 \nL 54.390625 43.015625 \nL 54.390625 34.71875 \nL 19.671875 34.71875 \nL 19.671875 8.296875 \nL 56.78125 8.296875 \nL 56.78125 0 \nL 9.8125 0 \nz\n\" id=\"DejaVuSans-69\"/>\n      <path d=\"M 18.109375 8.203125 \nL 18.109375 -20.796875 \nL 9.078125 -20.796875 \nL 9.078125 54.6875 \nL 18.109375 54.6875 \nL 18.109375 46.390625 \nQ 20.953125 51.265625 25.265625 53.625 \nQ 29.59375 56 35.59375 56 \nQ 45.5625 56 51.78125 48.09375 \nQ 58.015625 40.1875 58.015625 27.296875 \nQ 58.015625 14.40625 51.78125 6.484375 \nQ 45.5625 -1.421875 35.59375 -1.421875 \nQ 29.59375 -1.421875 25.265625 0.953125 \nQ 20.953125 3.328125 18.109375 8.203125 \nz\nM 48.6875 27.296875 \nQ 48.6875 37.203125 44.609375 42.84375 \nQ 40.53125 48.484375 33.40625 48.484375 \nQ 26.265625 48.484375 22.1875 42.84375 \nQ 18.109375 37.203125 18.109375 27.296875 \nQ 18.109375 17.390625 22.1875 11.75 \nQ 26.265625 6.109375 33.40625 6.109375 \nQ 40.53125 6.109375 44.609375 11.75 \nQ 48.6875 17.390625 48.6875 27.296875 \nz\n\" id=\"DejaVuSans-112\"/>\n      <path d=\"M 30.609375 48.390625 \nQ 23.390625 48.390625 19.1875 42.75 \nQ 14.984375 37.109375 14.984375 27.296875 \nQ 14.984375 17.484375 19.15625 11.84375 \nQ 23.34375 6.203125 30.609375 6.203125 \nQ 37.796875 6.203125 41.984375 11.859375 \nQ 46.1875 17.53125 46.1875 27.296875 \nQ 46.1875 37.015625 41.984375 42.703125 \nQ 37.796875 48.390625 30.609375 48.390625 \nz\nM 30.609375 56 \nQ 42.328125 56 49.015625 48.375 \nQ 55.71875 40.765625 55.71875 27.296875 \nQ 55.71875 13.875 49.015625 6.21875 \nQ 42.328125 -1.421875 30.609375 -1.421875 \nQ 18.84375 -1.421875 12.171875 6.21875 \nQ 5.515625 13.875 5.515625 27.296875 \nQ 5.515625 40.765625 12.171875 48.375 \nQ 18.84375 56 30.609375 56 \nz\n\" id=\"DejaVuSans-111\"/>\n      <path d=\"M 48.78125 52.59375 \nL 48.78125 44.1875 \nQ 44.96875 46.296875 41.140625 47.34375 \nQ 37.3125 48.390625 33.40625 48.390625 \nQ 24.65625 48.390625 19.8125 42.84375 \nQ 14.984375 37.3125 14.984375 27.296875 \nQ 14.984375 17.28125 19.8125 11.734375 \nQ 24.65625 6.203125 33.40625 6.203125 \nQ 37.3125 6.203125 41.140625 7.25 \nQ 44.96875 8.296875 48.78125 10.40625 \nL 48.78125 2.09375 \nQ 45.015625 0.34375 40.984375 -0.53125 \nQ 36.96875 -1.421875 32.421875 -1.421875 \nQ 20.0625 -1.421875 12.78125 6.34375 \nQ 5.515625 14.109375 5.515625 27.296875 \nQ 5.515625 40.671875 12.859375 48.328125 \nQ 20.21875 56 33.015625 56 \nQ 37.15625 56 41.109375 55.140625 \nQ 45.0625 54.296875 48.78125 52.59375 \nz\n\" id=\"DejaVuSans-99\"/>\n      <path d=\"M 54.890625 33.015625 \nL 54.890625 0 \nL 45.90625 0 \nL 45.90625 32.71875 \nQ 45.90625 40.484375 42.875 44.328125 \nQ 39.84375 48.1875 33.796875 48.1875 \nQ 26.515625 48.1875 22.3125 43.546875 \nQ 18.109375 38.921875 18.109375 30.90625 \nL 18.109375 0 \nL 9.078125 0 \nL 9.078125 75.984375 \nL 18.109375 75.984375 \nL 18.109375 46.1875 \nQ 21.34375 51.125 25.703125 53.5625 \nQ 30.078125 56 35.796875 56 \nQ 45.21875 56 50.046875 50.171875 \nQ 54.890625 44.34375 54.890625 33.015625 \nz\n\" id=\"DejaVuSans-104\"/>\n      <path d=\"M 44.28125 53.078125 \nL 44.28125 44.578125 \nQ 40.484375 46.53125 36.375 47.5 \nQ 32.28125 48.484375 27.875 48.484375 \nQ 21.1875 48.484375 17.84375 46.4375 \nQ 14.5 44.390625 14.5 40.28125 \nQ 14.5 37.15625 16.890625 35.375 \nQ 19.28125 33.59375 26.515625 31.984375 \nL 29.59375 31.296875 \nQ 39.15625 29.25 43.1875 25.515625 \nQ 47.21875 21.78125 47.21875 15.09375 \nQ 47.21875 7.46875 41.1875 3.015625 \nQ 35.15625 -1.421875 24.609375 -1.421875 \nQ 20.21875 -1.421875 15.453125 -0.5625 \nQ 10.6875 0.296875 5.421875 2 \nL 5.421875 11.28125 \nQ 10.40625 8.6875 15.234375 7.390625 \nQ 20.0625 6.109375 24.8125 6.109375 \nQ 31.15625 6.109375 34.5625 8.28125 \nQ 37.984375 10.453125 37.984375 14.40625 \nQ 37.984375 18.0625 35.515625 20.015625 \nQ 33.0625 21.96875 24.703125 23.78125 \nL 21.578125 24.515625 \nQ 13.234375 26.265625 9.515625 29.90625 \nQ 5.8125 33.546875 5.8125 39.890625 \nQ 5.8125 47.609375 11.28125 51.796875 \nQ 16.75 56 26.8125 56 \nQ 31.78125 56 36.171875 55.265625 \nQ 40.578125 54.546875 44.28125 53.078125 \nz\n\" id=\"DejaVuSans-115\"/>\n     </defs>\n     <g transform=\"translate(202.8125 268.034687)scale(0.1 -0.1)\">\n      <use xlink:href=\"#DejaVuSans-69\"/>\n      <use x=\"63.183594\" xlink:href=\"#DejaVuSans-112\"/>\n      <use x=\"126.660156\" xlink:href=\"#DejaVuSans-111\"/>\n      <use x=\"187.841797\" xlink:href=\"#DejaVuSans-99\"/>\n      <use x=\"242.822266\" xlink:href=\"#DejaVuSans-104\"/>\n      <use x=\"306.201172\" xlink:href=\"#DejaVuSans-115\"/>\n     </g>\n    </g>\n   </g>\n   <g id=\"matplotlib.axis_2\">\n    <g id=\"ytick_1\">\n     <g id=\"line2d_13\">\n      <path clip-path=\"url(#p7982f902ef)\" d=\"M 53.328125 230.558438 \nL 388.128125 230.558438 \n\" style=\"fill:none;stroke:#b0b0b0;stroke-linecap:square;stroke-width:0.8;\"/>\n     </g>\n     <g id=\"line2d_14\">\n      <defs>\n       <path d=\"M 0 0 \nL -3.5 0 \n\" id=\"mf6c94e1dac\" style=\"stroke:#000000;stroke-width:0.8;\"/>\n      </defs>\n      <g>\n       <use style=\"stroke:#000000;stroke-width:0.8;\" x=\"53.328125\" xlink:href=\"#mf6c94e1dac\" y=\"230.558438\"/>\n      </g>\n     </g>\n     <g id=\"text_8\">\n      <!-- 0 -->\n      <g transform=\"translate(39.965625 234.357656)scale(0.1 -0.1)\">\n       <use xlink:href=\"#DejaVuSans-48\"/>\n      </g>\n     </g>\n    </g>\n    <g id=\"ytick_2\">\n     <g id=\"line2d_15\">\n      <path clip-path=\"url(#p7982f902ef)\" d=\"M 53.328125 205.90209 \nL 388.128125 205.90209 \n\" style=\"fill:none;stroke:#b0b0b0;stroke-linecap:square;stroke-width:0.8;\"/>\n     </g>\n     <g id=\"line2d_16\">\n      <g>\n       <use style=\"stroke:#000000;stroke-width:0.8;\" x=\"53.328125\" xlink:href=\"#mf6c94e1dac\" y=\"205.90209\"/>\n      </g>\n     </g>\n     <g id=\"text_9\">\n      <!-- 500 -->\n      <g transform=\"translate(27.240625 209.701309)scale(0.1 -0.1)\">\n       <use xlink:href=\"#DejaVuSans-53\"/>\n       <use x=\"63.623047\" xlink:href=\"#DejaVuSans-48\"/>\n       <use x=\"127.246094\" xlink:href=\"#DejaVuSans-48\"/>\n      </g>\n     </g>\n    </g>\n    <g id=\"ytick_3\">\n     <g id=\"line2d_17\">\n      <path clip-path=\"url(#p7982f902ef)\" d=\"M 53.328125 181.245743 \nL 388.128125 181.245743 \n\" style=\"fill:none;stroke:#b0b0b0;stroke-linecap:square;stroke-width:0.8;\"/>\n     </g>\n     <g id=\"line2d_18\">\n      <g>\n       <use style=\"stroke:#000000;stroke-width:0.8;\" x=\"53.328125\" xlink:href=\"#mf6c94e1dac\" y=\"181.245743\"/>\n      </g>\n     </g>\n     <g id=\"text_10\">\n      <!-- 1000 -->\n      <g transform=\"translate(20.878125 185.044962)scale(0.1 -0.1)\">\n       <use xlink:href=\"#DejaVuSans-49\"/>\n       <use x=\"63.623047\" xlink:href=\"#DejaVuSans-48\"/>\n       <use x=\"127.246094\" xlink:href=\"#DejaVuSans-48\"/>\n       <use x=\"190.869141\" xlink:href=\"#DejaVuSans-48\"/>\n      </g>\n     </g>\n    </g>\n    <g id=\"ytick_4\">\n     <g id=\"line2d_19\">\n      <path clip-path=\"url(#p7982f902ef)\" d=\"M 53.328125 156.589396 \nL 388.128125 156.589396 \n\" style=\"fill:none;stroke:#b0b0b0;stroke-linecap:square;stroke-width:0.8;\"/>\n     </g>\n     <g id=\"line2d_20\">\n      <g>\n       <use style=\"stroke:#000000;stroke-width:0.8;\" x=\"53.328125\" xlink:href=\"#mf6c94e1dac\" y=\"156.589396\"/>\n      </g>\n     </g>\n     <g id=\"text_11\">\n      <!-- 1500 -->\n      <g transform=\"translate(20.878125 160.388614)scale(0.1 -0.1)\">\n       <use xlink:href=\"#DejaVuSans-49\"/>\n       <use x=\"63.623047\" xlink:href=\"#DejaVuSans-53\"/>\n       <use x=\"127.246094\" xlink:href=\"#DejaVuSans-48\"/>\n       <use x=\"190.869141\" xlink:href=\"#DejaVuSans-48\"/>\n      </g>\n     </g>\n    </g>\n    <g id=\"ytick_5\">\n     <g id=\"line2d_21\">\n      <path clip-path=\"url(#p7982f902ef)\" d=\"M 53.328125 131.933048 \nL 388.128125 131.933048 \n\" style=\"fill:none;stroke:#b0b0b0;stroke-linecap:square;stroke-width:0.8;\"/>\n     </g>\n     <g id=\"line2d_22\">\n      <g>\n       <use style=\"stroke:#000000;stroke-width:0.8;\" x=\"53.328125\" xlink:href=\"#mf6c94e1dac\" y=\"131.933048\"/>\n      </g>\n     </g>\n     <g id=\"text_12\">\n      <!-- 2000 -->\n      <g transform=\"translate(20.878125 135.732267)scale(0.1 -0.1)\">\n       <use xlink:href=\"#DejaVuSans-50\"/>\n       <use x=\"63.623047\" xlink:href=\"#DejaVuSans-48\"/>\n       <use x=\"127.246094\" xlink:href=\"#DejaVuSans-48\"/>\n       <use x=\"190.869141\" xlink:href=\"#DejaVuSans-48\"/>\n      </g>\n     </g>\n    </g>\n    <g id=\"ytick_6\">\n     <g id=\"line2d_23\">\n      <path clip-path=\"url(#p7982f902ef)\" d=\"M 53.328125 107.276701 \nL 388.128125 107.276701 \n\" style=\"fill:none;stroke:#b0b0b0;stroke-linecap:square;stroke-width:0.8;\"/>\n     </g>\n     <g id=\"line2d_24\">\n      <g>\n       <use style=\"stroke:#000000;stroke-width:0.8;\" x=\"53.328125\" xlink:href=\"#mf6c94e1dac\" y=\"107.276701\"/>\n      </g>\n     </g>\n     <g id=\"text_13\">\n      <!-- 2500 -->\n      <g transform=\"translate(20.878125 111.07592)scale(0.1 -0.1)\">\n       <use xlink:href=\"#DejaVuSans-50\"/>\n       <use x=\"63.623047\" xlink:href=\"#DejaVuSans-53\"/>\n       <use x=\"127.246094\" xlink:href=\"#DejaVuSans-48\"/>\n       <use x=\"190.869141\" xlink:href=\"#DejaVuSans-48\"/>\n      </g>\n     </g>\n    </g>\n    <g id=\"ytick_7\">\n     <g id=\"line2d_25\">\n      <path clip-path=\"url(#p7982f902ef)\" d=\"M 53.328125 82.620354 \nL 388.128125 82.620354 \n\" style=\"fill:none;stroke:#b0b0b0;stroke-linecap:square;stroke-width:0.8;\"/>\n     </g>\n     <g id=\"line2d_26\">\n      <g>\n       <use style=\"stroke:#000000;stroke-width:0.8;\" x=\"53.328125\" xlink:href=\"#mf6c94e1dac\" y=\"82.620354\"/>\n      </g>\n     </g>\n     <g id=\"text_14\">\n      <!-- 3000 -->\n      <g transform=\"translate(20.878125 86.419572)scale(0.1 -0.1)\">\n       <use xlink:href=\"#DejaVuSans-51\"/>\n       <use x=\"63.623047\" xlink:href=\"#DejaVuSans-48\"/>\n       <use x=\"127.246094\" xlink:href=\"#DejaVuSans-48\"/>\n       <use x=\"190.869141\" xlink:href=\"#DejaVuSans-48\"/>\n      </g>\n     </g>\n    </g>\n    <g id=\"ytick_8\">\n     <g id=\"line2d_27\">\n      <path clip-path=\"url(#p7982f902ef)\" d=\"M 53.328125 57.964006 \nL 388.128125 57.964006 \n\" style=\"fill:none;stroke:#b0b0b0;stroke-linecap:square;stroke-width:0.8;\"/>\n     </g>\n     <g id=\"line2d_28\">\n      <g>\n       <use style=\"stroke:#000000;stroke-width:0.8;\" x=\"53.328125\" xlink:href=\"#mf6c94e1dac\" y=\"57.964006\"/>\n      </g>\n     </g>\n     <g id=\"text_15\">\n      <!-- 3500 -->\n      <g transform=\"translate(20.878125 61.763225)scale(0.1 -0.1)\">\n       <use xlink:href=\"#DejaVuSans-51\"/>\n       <use x=\"63.623047\" xlink:href=\"#DejaVuSans-53\"/>\n       <use x=\"127.246094\" xlink:href=\"#DejaVuSans-48\"/>\n       <use x=\"190.869141\" xlink:href=\"#DejaVuSans-48\"/>\n      </g>\n     </g>\n    </g>\n    <g id=\"ytick_9\">\n     <g id=\"line2d_29\">\n      <path clip-path=\"url(#p7982f902ef)\" d=\"M 53.328125 33.307659 \nL 388.128125 33.307659 \n\" style=\"fill:none;stroke:#b0b0b0;stroke-linecap:square;stroke-width:0.8;\"/>\n     </g>\n     <g id=\"line2d_30\">\n      <g>\n       <use style=\"stroke:#000000;stroke-width:0.8;\" x=\"53.328125\" xlink:href=\"#mf6c94e1dac\" y=\"33.307659\"/>\n      </g>\n     </g>\n     <g id=\"text_16\">\n      <!-- 4000 -->\n      <g transform=\"translate(20.878125 37.106878)scale(0.1 -0.1)\">\n       <use xlink:href=\"#DejaVuSans-52\"/>\n       <use x=\"63.623047\" xlink:href=\"#DejaVuSans-48\"/>\n       <use x=\"127.246094\" xlink:href=\"#DejaVuSans-48\"/>\n       <use x=\"190.869141\" xlink:href=\"#DejaVuSans-48\"/>\n      </g>\n     </g>\n    </g>\n    <g id=\"text_17\">\n     <!-- Loss -->\n     <defs>\n      <path d=\"M 9.8125 72.90625 \nL 19.671875 72.90625 \nL 19.671875 8.296875 \nL 55.171875 8.296875 \nL 55.171875 0 \nL 9.8125 0 \nz\n\" id=\"DejaVuSans-76\"/>\n     </defs>\n     <g transform=\"translate(14.798438 142.005312)rotate(-90)scale(0.1 -0.1)\">\n      <use xlink:href=\"#DejaVuSans-76\"/>\n      <use x=\"53.962891\" xlink:href=\"#DejaVuSans-111\"/>\n      <use x=\"115.144531\" xlink:href=\"#DejaVuSans-115\"/>\n      <use x=\"167.244141\" xlink:href=\"#DejaVuSans-115\"/>\n     </g>\n    </g>\n   </g>\n   <g id=\"line2d_31\">\n    <path clip-path=\"url(#p7982f902ef)\" d=\"M 68.546307 45.865462 \nL 74.75781 53.861864 \nL 80.969312 64.323141 \nL 87.180815 76.007909 \nL 93.392318 87.181122 \nL 99.603821 101.10002 \nL 105.815324 115.049204 \nL 112.026826 126.408759 \nL 118.238329 141.990425 \nL 124.449832 156.625148 \nL 130.661335 168.41074 \nL 136.872837 181.372208 \nL 143.08434 194.66591 \nL 149.295843 205.541116 \nL 155.507346 213.632971 \nL 161.718849 220.490372 \nL 167.930351 225.587687 \nL 174.141854 228.371839 \nL 180.353357 229.647287 \nL 186.56486 229.793601 \nL 192.776362 229.412812 \nL 198.987865 228.915798 \nL 205.199368 228.454615 \nL 211.410871 228.79238 \nL 217.622374 228.911518 \nL 223.833876 229.306512 \nL 230.045379 229.471222 \nL 236.256882 229.721976 \nL 242.468385 229.748563 \nL 248.679888 229.799248 \nL 254.89139 229.817185 \nL 261.102893 229.690485 \nL 267.314396 229.700779 \nL 273.525899 229.845219 \nL 279.737401 229.836548 \nL 285.948904 229.836581 \nL 292.160407 229.753738 \nL 298.37191 229.874489 \nL 304.583413 229.817371 \nL 310.794915 229.761128 \nL 317.006418 229.77042 \nL 323.217921 229.820289 \nL 329.429424 229.786891 \nL 335.640926 229.762317 \nL 341.852429 229.785026 \nL 348.063932 229.797216 \nL 354.275435 229.827161 \nL 360.486938 229.822875 \nL 366.69844 229.827007 \nL 372.909943 229.826478 \n\" style=\"fill:none;stroke:#1f77b4;stroke-linecap:square;stroke-width:1.5;\"/>\n    <defs>\n     <path d=\"M 0 2 \nC 0.530406 2 1.03916 1.789267 1.414214 1.414214 \nC 1.789267 1.03916 2 0.530406 2 0 \nC 2 -0.530406 1.789267 -1.03916 1.414214 -1.414214 \nC 1.03916 -1.789267 0.530406 -2 0 -2 \nC -0.530406 -2 -1.03916 -1.789267 -1.414214 -1.414214 \nC -1.789267 -1.03916 -2 -0.530406 -2 0 \nC -2 0.530406 -1.789267 1.03916 -1.414214 1.414214 \nC -1.03916 1.789267 -0.530406 2 0 2 \nz\n\" id=\"mccacce92be\" style=\"stroke:#1f77b4;\"/>\n    </defs>\n    <g clip-path=\"url(#p7982f902ef)\">\n     <use style=\"fill:#1f77b4;stroke:#1f77b4;\" x=\"68.546307\" xlink:href=\"#mccacce92be\" y=\"45.865462\"/>\n     <use style=\"fill:#1f77b4;stroke:#1f77b4;\" x=\"74.75781\" xlink:href=\"#mccacce92be\" y=\"53.861864\"/>\n     <use style=\"fill:#1f77b4;stroke:#1f77b4;\" x=\"80.969312\" xlink:href=\"#mccacce92be\" y=\"64.323141\"/>\n     <use style=\"fill:#1f77b4;stroke:#1f77b4;\" x=\"87.180815\" xlink:href=\"#mccacce92be\" y=\"76.007909\"/>\n     <use style=\"fill:#1f77b4;stroke:#1f77b4;\" x=\"93.392318\" xlink:href=\"#mccacce92be\" y=\"87.181122\"/>\n     <use style=\"fill:#1f77b4;stroke:#1f77b4;\" x=\"99.603821\" xlink:href=\"#mccacce92be\" y=\"101.10002\"/>\n     <use style=\"fill:#1f77b4;stroke:#1f77b4;\" x=\"105.815324\" xlink:href=\"#mccacce92be\" y=\"115.049204\"/>\n     <use style=\"fill:#1f77b4;stroke:#1f77b4;\" x=\"112.026826\" xlink:href=\"#mccacce92be\" y=\"126.408759\"/>\n     <use style=\"fill:#1f77b4;stroke:#1f77b4;\" x=\"118.238329\" xlink:href=\"#mccacce92be\" y=\"141.990425\"/>\n     <use style=\"fill:#1f77b4;stroke:#1f77b4;\" x=\"124.449832\" xlink:href=\"#mccacce92be\" y=\"156.625148\"/>\n     <use style=\"fill:#1f77b4;stroke:#1f77b4;\" x=\"130.661335\" xlink:href=\"#mccacce92be\" y=\"168.41074\"/>\n     <use style=\"fill:#1f77b4;stroke:#1f77b4;\" x=\"136.872837\" xlink:href=\"#mccacce92be\" y=\"181.372208\"/>\n     <use style=\"fill:#1f77b4;stroke:#1f77b4;\" x=\"143.08434\" xlink:href=\"#mccacce92be\" y=\"194.66591\"/>\n     <use style=\"fill:#1f77b4;stroke:#1f77b4;\" x=\"149.295843\" xlink:href=\"#mccacce92be\" y=\"205.541116\"/>\n     <use style=\"fill:#1f77b4;stroke:#1f77b4;\" x=\"155.507346\" xlink:href=\"#mccacce92be\" y=\"213.632971\"/>\n     <use style=\"fill:#1f77b4;stroke:#1f77b4;\" x=\"161.718849\" xlink:href=\"#mccacce92be\" y=\"220.490372\"/>\n     <use style=\"fill:#1f77b4;stroke:#1f77b4;\" x=\"167.930351\" xlink:href=\"#mccacce92be\" y=\"225.587687\"/>\n     <use style=\"fill:#1f77b4;stroke:#1f77b4;\" x=\"174.141854\" xlink:href=\"#mccacce92be\" y=\"228.371839\"/>\n     <use style=\"fill:#1f77b4;stroke:#1f77b4;\" x=\"180.353357\" xlink:href=\"#mccacce92be\" y=\"229.647287\"/>\n     <use style=\"fill:#1f77b4;stroke:#1f77b4;\" x=\"186.56486\" xlink:href=\"#mccacce92be\" y=\"229.793601\"/>\n     <use style=\"fill:#1f77b4;stroke:#1f77b4;\" x=\"192.776362\" xlink:href=\"#mccacce92be\" y=\"229.412812\"/>\n     <use style=\"fill:#1f77b4;stroke:#1f77b4;\" x=\"198.987865\" xlink:href=\"#mccacce92be\" y=\"228.915798\"/>\n     <use style=\"fill:#1f77b4;stroke:#1f77b4;\" x=\"205.199368\" xlink:href=\"#mccacce92be\" y=\"228.454615\"/>\n     <use style=\"fill:#1f77b4;stroke:#1f77b4;\" x=\"211.410871\" xlink:href=\"#mccacce92be\" y=\"228.79238\"/>\n     <use style=\"fill:#1f77b4;stroke:#1f77b4;\" x=\"217.622374\" xlink:href=\"#mccacce92be\" y=\"228.911518\"/>\n     <use style=\"fill:#1f77b4;stroke:#1f77b4;\" x=\"223.833876\" xlink:href=\"#mccacce92be\" y=\"229.306512\"/>\n     <use style=\"fill:#1f77b4;stroke:#1f77b4;\" x=\"230.045379\" xlink:href=\"#mccacce92be\" y=\"229.471222\"/>\n     <use style=\"fill:#1f77b4;stroke:#1f77b4;\" x=\"236.256882\" xlink:href=\"#mccacce92be\" y=\"229.721976\"/>\n     <use style=\"fill:#1f77b4;stroke:#1f77b4;\" x=\"242.468385\" xlink:href=\"#mccacce92be\" y=\"229.748563\"/>\n     <use style=\"fill:#1f77b4;stroke:#1f77b4;\" x=\"248.679888\" xlink:href=\"#mccacce92be\" y=\"229.799248\"/>\n     <use style=\"fill:#1f77b4;stroke:#1f77b4;\" x=\"254.89139\" xlink:href=\"#mccacce92be\" y=\"229.817185\"/>\n     <use style=\"fill:#1f77b4;stroke:#1f77b4;\" x=\"261.102893\" xlink:href=\"#mccacce92be\" y=\"229.690485\"/>\n     <use style=\"fill:#1f77b4;stroke:#1f77b4;\" x=\"267.314396\" xlink:href=\"#mccacce92be\" y=\"229.700779\"/>\n     <use style=\"fill:#1f77b4;stroke:#1f77b4;\" x=\"273.525899\" xlink:href=\"#mccacce92be\" y=\"229.845219\"/>\n     <use style=\"fill:#1f77b4;stroke:#1f77b4;\" x=\"279.737401\" xlink:href=\"#mccacce92be\" y=\"229.836548\"/>\n     <use style=\"fill:#1f77b4;stroke:#1f77b4;\" x=\"285.948904\" xlink:href=\"#mccacce92be\" y=\"229.836581\"/>\n     <use style=\"fill:#1f77b4;stroke:#1f77b4;\" x=\"292.160407\" xlink:href=\"#mccacce92be\" y=\"229.753738\"/>\n     <use style=\"fill:#1f77b4;stroke:#1f77b4;\" x=\"298.37191\" xlink:href=\"#mccacce92be\" y=\"229.874489\"/>\n     <use style=\"fill:#1f77b4;stroke:#1f77b4;\" x=\"304.583413\" xlink:href=\"#mccacce92be\" y=\"229.817371\"/>\n     <use style=\"fill:#1f77b4;stroke:#1f77b4;\" x=\"310.794915\" xlink:href=\"#mccacce92be\" y=\"229.761128\"/>\n     <use style=\"fill:#1f77b4;stroke:#1f77b4;\" x=\"317.006418\" xlink:href=\"#mccacce92be\" y=\"229.77042\"/>\n     <use style=\"fill:#1f77b4;stroke:#1f77b4;\" x=\"323.217921\" xlink:href=\"#mccacce92be\" y=\"229.820289\"/>\n     <use style=\"fill:#1f77b4;stroke:#1f77b4;\" x=\"329.429424\" xlink:href=\"#mccacce92be\" y=\"229.786891\"/>\n     <use style=\"fill:#1f77b4;stroke:#1f77b4;\" x=\"335.640926\" xlink:href=\"#mccacce92be\" y=\"229.762317\"/>\n     <use style=\"fill:#1f77b4;stroke:#1f77b4;\" x=\"341.852429\" xlink:href=\"#mccacce92be\" y=\"229.785026\"/>\n     <use style=\"fill:#1f77b4;stroke:#1f77b4;\" x=\"348.063932\" xlink:href=\"#mccacce92be\" y=\"229.797216\"/>\n     <use style=\"fill:#1f77b4;stroke:#1f77b4;\" x=\"354.275435\" xlink:href=\"#mccacce92be\" y=\"229.827161\"/>\n     <use style=\"fill:#1f77b4;stroke:#1f77b4;\" x=\"360.486938\" xlink:href=\"#mccacce92be\" y=\"229.822875\"/>\n     <use style=\"fill:#1f77b4;stroke:#1f77b4;\" x=\"366.69844\" xlink:href=\"#mccacce92be\" y=\"229.827007\"/>\n     <use style=\"fill:#1f77b4;stroke:#1f77b4;\" x=\"372.909943\" xlink:href=\"#mccacce92be\" y=\"229.826478\"/>\n    </g>\n   </g>\n   <g id=\"line2d_32\">\n    <path clip-path=\"url(#p7982f902ef)\" d=\"M 68.546307 32.201761 \nL 74.75781 43.283235 \nL 80.969312 54.957076 \nL 87.180815 67.269543 \nL 93.392318 80.16056 \nL 99.603821 93.553688 \nL 105.815324 107.570976 \nL 112.026826 122.01463 \nL 118.238329 136.714909 \nL 124.449832 151.417059 \nL 130.661335 165.724591 \nL 136.872837 179.360155 \nL 143.08434 191.942502 \nL 149.295843 203.112751 \nL 155.507346 212.387655 \nL 161.718849 219.543586 \nL 167.930351 224.529936 \nL 174.141854 227.459479 \nL 180.353357 228.671496 \nL 186.56486 228.731098 \nL 192.776362 228.239513 \nL 198.987865 227.707866 \nL 205.199368 227.424236 \nL 211.410871 227.480387 \nL 217.622374 227.750862 \nL 223.833876 228.124103 \nL 230.045379 228.439036 \nL 236.256882 228.655178 \nL 242.468385 228.77378 \nL 248.679888 228.80638 \nL 254.89139 228.796737 \nL 261.102893 228.775555 \nL 267.314396 228.764405 \nL 273.525899 228.763033 \nL 279.737401 228.77267 \nL 285.948904 228.787483 \nL 292.160407 228.800015 \nL 298.37191 228.80622 \nL 304.583413 228.804109 \nL 310.794915 228.79962 \nL 317.006418 228.794603 \nL 323.217921 228.790996 \nL 329.429424 228.790127 \nL 335.640926 228.792256 \nL 341.852429 228.794899 \nL 348.063932 228.794632 \nL 354.275435 228.796829 \nL 360.486938 228.798129 \nL 366.69844 228.799848 \nL 372.909943 228.800729 \n\" style=\"fill:none;stroke:#ff7f0e;stroke-linecap:square;stroke-width:1.5;\"/>\n    <defs>\n     <path d=\"M 0 2 \nC 0.530406 2 1.03916 1.789267 1.414214 1.414214 \nC 1.789267 1.03916 2 0.530406 2 0 \nC 2 -0.530406 1.789267 -1.03916 1.414214 -1.414214 \nC 1.03916 -1.789267 0.530406 -2 0 -2 \nC -0.530406 -2 -1.03916 -1.789267 -1.414214 -1.414214 \nC -1.789267 -1.03916 -2 -0.530406 -2 0 \nC -2 0.530406 -1.789267 1.03916 -1.414214 1.414214 \nC -1.03916 1.789267 -0.530406 2 0 2 \nz\n\" id=\"m20480d4138\" style=\"stroke:#ff7f0e;\"/>\n    </defs>\n    <g clip-path=\"url(#p7982f902ef)\">\n     <use style=\"fill:#ff7f0e;stroke:#ff7f0e;\" x=\"68.546307\" xlink:href=\"#m20480d4138\" y=\"32.201761\"/>\n     <use style=\"fill:#ff7f0e;stroke:#ff7f0e;\" x=\"74.75781\" xlink:href=\"#m20480d4138\" y=\"43.283235\"/>\n     <use style=\"fill:#ff7f0e;stroke:#ff7f0e;\" x=\"80.969312\" xlink:href=\"#m20480d4138\" y=\"54.957076\"/>\n     <use style=\"fill:#ff7f0e;stroke:#ff7f0e;\" x=\"87.180815\" xlink:href=\"#m20480d4138\" y=\"67.269543\"/>\n     <use style=\"fill:#ff7f0e;stroke:#ff7f0e;\" x=\"93.392318\" xlink:href=\"#m20480d4138\" y=\"80.16056\"/>\n     <use style=\"fill:#ff7f0e;stroke:#ff7f0e;\" x=\"99.603821\" xlink:href=\"#m20480d4138\" y=\"93.553688\"/>\n     <use style=\"fill:#ff7f0e;stroke:#ff7f0e;\" x=\"105.815324\" xlink:href=\"#m20480d4138\" y=\"107.570976\"/>\n     <use style=\"fill:#ff7f0e;stroke:#ff7f0e;\" x=\"112.026826\" xlink:href=\"#m20480d4138\" y=\"122.01463\"/>\n     <use style=\"fill:#ff7f0e;stroke:#ff7f0e;\" x=\"118.238329\" xlink:href=\"#m20480d4138\" y=\"136.714909\"/>\n     <use style=\"fill:#ff7f0e;stroke:#ff7f0e;\" x=\"124.449832\" xlink:href=\"#m20480d4138\" y=\"151.417059\"/>\n     <use style=\"fill:#ff7f0e;stroke:#ff7f0e;\" x=\"130.661335\" xlink:href=\"#m20480d4138\" y=\"165.724591\"/>\n     <use style=\"fill:#ff7f0e;stroke:#ff7f0e;\" x=\"136.872837\" xlink:href=\"#m20480d4138\" y=\"179.360155\"/>\n     <use style=\"fill:#ff7f0e;stroke:#ff7f0e;\" x=\"143.08434\" xlink:href=\"#m20480d4138\" y=\"191.942502\"/>\n     <use style=\"fill:#ff7f0e;stroke:#ff7f0e;\" x=\"149.295843\" xlink:href=\"#m20480d4138\" y=\"203.112751\"/>\n     <use style=\"fill:#ff7f0e;stroke:#ff7f0e;\" x=\"155.507346\" xlink:href=\"#m20480d4138\" y=\"212.387655\"/>\n     <use style=\"fill:#ff7f0e;stroke:#ff7f0e;\" x=\"161.718849\" xlink:href=\"#m20480d4138\" y=\"219.543586\"/>\n     <use style=\"fill:#ff7f0e;stroke:#ff7f0e;\" x=\"167.930351\" xlink:href=\"#m20480d4138\" y=\"224.529936\"/>\n     <use style=\"fill:#ff7f0e;stroke:#ff7f0e;\" x=\"174.141854\" xlink:href=\"#m20480d4138\" y=\"227.459479\"/>\n     <use style=\"fill:#ff7f0e;stroke:#ff7f0e;\" x=\"180.353357\" xlink:href=\"#m20480d4138\" y=\"228.671496\"/>\n     <use style=\"fill:#ff7f0e;stroke:#ff7f0e;\" x=\"186.56486\" xlink:href=\"#m20480d4138\" y=\"228.731098\"/>\n     <use style=\"fill:#ff7f0e;stroke:#ff7f0e;\" x=\"192.776362\" xlink:href=\"#m20480d4138\" y=\"228.239513\"/>\n     <use style=\"fill:#ff7f0e;stroke:#ff7f0e;\" x=\"198.987865\" xlink:href=\"#m20480d4138\" y=\"227.707866\"/>\n     <use style=\"fill:#ff7f0e;stroke:#ff7f0e;\" x=\"205.199368\" xlink:href=\"#m20480d4138\" y=\"227.424236\"/>\n     <use style=\"fill:#ff7f0e;stroke:#ff7f0e;\" x=\"211.410871\" xlink:href=\"#m20480d4138\" y=\"227.480387\"/>\n     <use style=\"fill:#ff7f0e;stroke:#ff7f0e;\" x=\"217.622374\" xlink:href=\"#m20480d4138\" y=\"227.750862\"/>\n     <use style=\"fill:#ff7f0e;stroke:#ff7f0e;\" x=\"223.833876\" xlink:href=\"#m20480d4138\" y=\"228.124103\"/>\n     <use style=\"fill:#ff7f0e;stroke:#ff7f0e;\" x=\"230.045379\" xlink:href=\"#m20480d4138\" y=\"228.439036\"/>\n     <use style=\"fill:#ff7f0e;stroke:#ff7f0e;\" x=\"236.256882\" xlink:href=\"#m20480d4138\" y=\"228.655178\"/>\n     <use style=\"fill:#ff7f0e;stroke:#ff7f0e;\" x=\"242.468385\" xlink:href=\"#m20480d4138\" y=\"228.77378\"/>\n     <use style=\"fill:#ff7f0e;stroke:#ff7f0e;\" x=\"248.679888\" xlink:href=\"#m20480d4138\" y=\"228.80638\"/>\n     <use style=\"fill:#ff7f0e;stroke:#ff7f0e;\" x=\"254.89139\" xlink:href=\"#m20480d4138\" y=\"228.796737\"/>\n     <use style=\"fill:#ff7f0e;stroke:#ff7f0e;\" x=\"261.102893\" xlink:href=\"#m20480d4138\" y=\"228.775555\"/>\n     <use style=\"fill:#ff7f0e;stroke:#ff7f0e;\" x=\"267.314396\" xlink:href=\"#m20480d4138\" y=\"228.764405\"/>\n     <use style=\"fill:#ff7f0e;stroke:#ff7f0e;\" x=\"273.525899\" xlink:href=\"#m20480d4138\" y=\"228.763033\"/>\n     <use style=\"fill:#ff7f0e;stroke:#ff7f0e;\" x=\"279.737401\" xlink:href=\"#m20480d4138\" y=\"228.77267\"/>\n     <use style=\"fill:#ff7f0e;stroke:#ff7f0e;\" x=\"285.948904\" xlink:href=\"#m20480d4138\" y=\"228.787483\"/>\n     <use style=\"fill:#ff7f0e;stroke:#ff7f0e;\" x=\"292.160407\" xlink:href=\"#m20480d4138\" y=\"228.800015\"/>\n     <use style=\"fill:#ff7f0e;stroke:#ff7f0e;\" x=\"298.37191\" xlink:href=\"#m20480d4138\" y=\"228.80622\"/>\n     <use style=\"fill:#ff7f0e;stroke:#ff7f0e;\" x=\"304.583413\" xlink:href=\"#m20480d4138\" y=\"228.804109\"/>\n     <use style=\"fill:#ff7f0e;stroke:#ff7f0e;\" x=\"310.794915\" xlink:href=\"#m20480d4138\" y=\"228.79962\"/>\n     <use style=\"fill:#ff7f0e;stroke:#ff7f0e;\" x=\"317.006418\" xlink:href=\"#m20480d4138\" y=\"228.794603\"/>\n     <use style=\"fill:#ff7f0e;stroke:#ff7f0e;\" x=\"323.217921\" xlink:href=\"#m20480d4138\" y=\"228.790996\"/>\n     <use style=\"fill:#ff7f0e;stroke:#ff7f0e;\" x=\"329.429424\" xlink:href=\"#m20480d4138\" y=\"228.790127\"/>\n     <use style=\"fill:#ff7f0e;stroke:#ff7f0e;\" x=\"335.640926\" xlink:href=\"#m20480d4138\" y=\"228.792256\"/>\n     <use style=\"fill:#ff7f0e;stroke:#ff7f0e;\" x=\"341.852429\" xlink:href=\"#m20480d4138\" y=\"228.794899\"/>\n     <use style=\"fill:#ff7f0e;stroke:#ff7f0e;\" x=\"348.063932\" xlink:href=\"#m20480d4138\" y=\"228.794632\"/>\n     <use style=\"fill:#ff7f0e;stroke:#ff7f0e;\" x=\"354.275435\" xlink:href=\"#m20480d4138\" y=\"228.796829\"/>\n     <use style=\"fill:#ff7f0e;stroke:#ff7f0e;\" x=\"360.486938\" xlink:href=\"#m20480d4138\" y=\"228.798129\"/>\n     <use style=\"fill:#ff7f0e;stroke:#ff7f0e;\" x=\"366.69844\" xlink:href=\"#m20480d4138\" y=\"228.799848\"/>\n     <use style=\"fill:#ff7f0e;stroke:#ff7f0e;\" x=\"372.909943\" xlink:href=\"#m20480d4138\" y=\"228.800729\"/>\n    </g>\n   </g>\n   <g id=\"patch_3\">\n    <path d=\"M 53.328125 239.758125 \nL 53.328125 22.318125 \n\" style=\"fill:none;stroke:#000000;stroke-linecap:square;stroke-linejoin:miter;stroke-width:0.8;\"/>\n   </g>\n   <g id=\"patch_4\">\n    <path d=\"M 388.128125 239.758125 \nL 388.128125 22.318125 \n\" style=\"fill:none;stroke:#000000;stroke-linecap:square;stroke-linejoin:miter;stroke-width:0.8;\"/>\n   </g>\n   <g id=\"patch_5\">\n    <path d=\"M 53.328125 239.758125 \nL 388.128125 239.758125 \n\" style=\"fill:none;stroke:#000000;stroke-linecap:square;stroke-linejoin:miter;stroke-width:0.8;\"/>\n   </g>\n   <g id=\"patch_6\">\n    <path d=\"M 53.328125 22.318125 \nL 388.128125 22.318125 \n\" style=\"fill:none;stroke:#000000;stroke-linecap:square;stroke-linejoin:miter;stroke-width:0.8;\"/>\n   </g>\n   <g id=\"text_18\">\n    <!-- Loss with batch_size = 16 and n_units=5 -->\n    <defs>\n     <path id=\"DejaVuSans-32\"/>\n     <path d=\"M 4.203125 54.6875 \nL 13.1875 54.6875 \nL 24.421875 12.015625 \nL 35.59375 54.6875 \nL 46.1875 54.6875 \nL 57.421875 12.015625 \nL 68.609375 54.6875 \nL 77.59375 54.6875 \nL 63.28125 0 \nL 52.6875 0 \nL 40.921875 44.828125 \nL 29.109375 0 \nL 18.5 0 \nz\n\" id=\"DejaVuSans-119\"/>\n     <path d=\"M 9.421875 54.6875 \nL 18.40625 54.6875 \nL 18.40625 0 \nL 9.421875 0 \nz\nM 9.421875 75.984375 \nL 18.40625 75.984375 \nL 18.40625 64.59375 \nL 9.421875 64.59375 \nz\n\" id=\"DejaVuSans-105\"/>\n     <path d=\"M 18.3125 70.21875 \nL 18.3125 54.6875 \nL 36.8125 54.6875 \nL 36.8125 47.703125 \nL 18.3125 47.703125 \nL 18.3125 18.015625 \nQ 18.3125 11.328125 20.140625 9.421875 \nQ 21.96875 7.515625 27.59375 7.515625 \nL 36.8125 7.515625 \nL 36.8125 0 \nL 27.59375 0 \nQ 17.1875 0 13.234375 3.875 \nQ 9.28125 7.765625 9.28125 18.015625 \nL 9.28125 47.703125 \nL 2.6875 47.703125 \nL 2.6875 54.6875 \nL 9.28125 54.6875 \nL 9.28125 70.21875 \nz\n\" id=\"DejaVuSans-116\"/>\n     <path d=\"M 48.6875 27.296875 \nQ 48.6875 37.203125 44.609375 42.84375 \nQ 40.53125 48.484375 33.40625 48.484375 \nQ 26.265625 48.484375 22.1875 42.84375 \nQ 18.109375 37.203125 18.109375 27.296875 \nQ 18.109375 17.390625 22.1875 11.75 \nQ 26.265625 6.109375 33.40625 6.109375 \nQ 40.53125 6.109375 44.609375 11.75 \nQ 48.6875 17.390625 48.6875 27.296875 \nz\nM 18.109375 46.390625 \nQ 20.953125 51.265625 25.265625 53.625 \nQ 29.59375 56 35.59375 56 \nQ 45.5625 56 51.78125 48.09375 \nQ 58.015625 40.1875 58.015625 27.296875 \nQ 58.015625 14.40625 51.78125 6.484375 \nQ 45.5625 -1.421875 35.59375 -1.421875 \nQ 29.59375 -1.421875 25.265625 0.953125 \nQ 20.953125 3.328125 18.109375 8.203125 \nL 18.109375 0 \nL 9.078125 0 \nL 9.078125 75.984375 \nL 18.109375 75.984375 \nz\n\" id=\"DejaVuSans-98\"/>\n     <path d=\"M 34.28125 27.484375 \nQ 23.390625 27.484375 19.1875 25 \nQ 14.984375 22.515625 14.984375 16.5 \nQ 14.984375 11.71875 18.140625 8.90625 \nQ 21.296875 6.109375 26.703125 6.109375 \nQ 34.1875 6.109375 38.703125 11.40625 \nQ 43.21875 16.703125 43.21875 25.484375 \nL 43.21875 27.484375 \nz\nM 52.203125 31.203125 \nL 52.203125 0 \nL 43.21875 0 \nL 43.21875 8.296875 \nQ 40.140625 3.328125 35.546875 0.953125 \nQ 30.953125 -1.421875 24.3125 -1.421875 \nQ 15.921875 -1.421875 10.953125 3.296875 \nQ 6 8.015625 6 15.921875 \nQ 6 25.140625 12.171875 29.828125 \nQ 18.359375 34.515625 30.609375 34.515625 \nL 43.21875 34.515625 \nL 43.21875 35.40625 \nQ 43.21875 41.609375 39.140625 45 \nQ 35.0625 48.390625 27.6875 48.390625 \nQ 23 48.390625 18.546875 47.265625 \nQ 14.109375 46.140625 10.015625 43.890625 \nL 10.015625 52.203125 \nQ 14.9375 54.109375 19.578125 55.046875 \nQ 24.21875 56 28.609375 56 \nQ 40.484375 56 46.34375 49.84375 \nQ 52.203125 43.703125 52.203125 31.203125 \nz\n\" id=\"DejaVuSans-97\"/>\n     <path d=\"M 50.984375 -16.609375 \nL 50.984375 -23.578125 \nL -0.984375 -23.578125 \nL -0.984375 -16.609375 \nz\n\" id=\"DejaVuSans-95\"/>\n     <path d=\"M 5.515625 54.6875 \nL 48.1875 54.6875 \nL 48.1875 46.484375 \nL 14.40625 7.171875 \nL 48.1875 7.171875 \nL 48.1875 0 \nL 4.296875 0 \nL 4.296875 8.203125 \nL 38.09375 47.515625 \nL 5.515625 47.515625 \nz\n\" id=\"DejaVuSans-122\"/>\n     <path d=\"M 56.203125 29.59375 \nL 56.203125 25.203125 \nL 14.890625 25.203125 \nQ 15.484375 15.921875 20.484375 11.0625 \nQ 25.484375 6.203125 34.421875 6.203125 \nQ 39.59375 6.203125 44.453125 7.46875 \nQ 49.3125 8.734375 54.109375 11.28125 \nL 54.109375 2.78125 \nQ 49.265625 0.734375 44.1875 -0.34375 \nQ 39.109375 -1.421875 33.890625 -1.421875 \nQ 20.796875 -1.421875 13.15625 6.1875 \nQ 5.515625 13.8125 5.515625 26.8125 \nQ 5.515625 40.234375 12.765625 48.109375 \nQ 20.015625 56 32.328125 56 \nQ 43.359375 56 49.78125 48.890625 \nQ 56.203125 41.796875 56.203125 29.59375 \nz\nM 47.21875 32.234375 \nQ 47.125 39.59375 43.09375 43.984375 \nQ 39.0625 48.390625 32.421875 48.390625 \nQ 24.90625 48.390625 20.390625 44.140625 \nQ 15.875 39.890625 15.1875 32.171875 \nz\n\" id=\"DejaVuSans-101\"/>\n     <path d=\"M 10.59375 45.40625 \nL 73.1875 45.40625 \nL 73.1875 37.203125 \nL 10.59375 37.203125 \nz\nM 10.59375 25.484375 \nL 73.1875 25.484375 \nL 73.1875 17.1875 \nL 10.59375 17.1875 \nz\n\" id=\"DejaVuSans-61\"/>\n     <path d=\"M 33.015625 40.375 \nQ 26.375 40.375 22.484375 35.828125 \nQ 18.609375 31.296875 18.609375 23.390625 \nQ 18.609375 15.53125 22.484375 10.953125 \nQ 26.375 6.390625 33.015625 6.390625 \nQ 39.65625 6.390625 43.53125 10.953125 \nQ 47.40625 15.53125 47.40625 23.390625 \nQ 47.40625 31.296875 43.53125 35.828125 \nQ 39.65625 40.375 33.015625 40.375 \nz\nM 52.59375 71.296875 \nL 52.59375 62.3125 \nQ 48.875 64.0625 45.09375 64.984375 \nQ 41.3125 65.921875 37.59375 65.921875 \nQ 27.828125 65.921875 22.671875 59.328125 \nQ 17.53125 52.734375 16.796875 39.40625 \nQ 19.671875 43.65625 24.015625 45.921875 \nQ 28.375 48.1875 33.59375 48.1875 \nQ 44.578125 48.1875 50.953125 41.515625 \nQ 57.328125 34.859375 57.328125 23.390625 \nQ 57.328125 12.15625 50.6875 5.359375 \nQ 44.046875 -1.421875 33.015625 -1.421875 \nQ 20.359375 -1.421875 13.671875 8.265625 \nQ 6.984375 17.96875 6.984375 36.375 \nQ 6.984375 53.65625 15.1875 63.9375 \nQ 23.390625 74.21875 37.203125 74.21875 \nQ 40.921875 74.21875 44.703125 73.484375 \nQ 48.484375 72.75 52.59375 71.296875 \nz\n\" id=\"DejaVuSans-54\"/>\n     <path d=\"M 54.890625 33.015625 \nL 54.890625 0 \nL 45.90625 0 \nL 45.90625 32.71875 \nQ 45.90625 40.484375 42.875 44.328125 \nQ 39.84375 48.1875 33.796875 48.1875 \nQ 26.515625 48.1875 22.3125 43.546875 \nQ 18.109375 38.921875 18.109375 30.90625 \nL 18.109375 0 \nL 9.078125 0 \nL 9.078125 54.6875 \nL 18.109375 54.6875 \nL 18.109375 46.1875 \nQ 21.34375 51.125 25.703125 53.5625 \nQ 30.078125 56 35.796875 56 \nQ 45.21875 56 50.046875 50.171875 \nQ 54.890625 44.34375 54.890625 33.015625 \nz\n\" id=\"DejaVuSans-110\"/>\n     <path d=\"M 45.40625 46.390625 \nL 45.40625 75.984375 \nL 54.390625 75.984375 \nL 54.390625 0 \nL 45.40625 0 \nL 45.40625 8.203125 \nQ 42.578125 3.328125 38.25 0.953125 \nQ 33.9375 -1.421875 27.875 -1.421875 \nQ 17.96875 -1.421875 11.734375 6.484375 \nQ 5.515625 14.40625 5.515625 27.296875 \nQ 5.515625 40.1875 11.734375 48.09375 \nQ 17.96875 56 27.875 56 \nQ 33.9375 56 38.25 53.625 \nQ 42.578125 51.265625 45.40625 46.390625 \nz\nM 14.796875 27.296875 \nQ 14.796875 17.390625 18.875 11.75 \nQ 22.953125 6.109375 30.078125 6.109375 \nQ 37.203125 6.109375 41.296875 11.75 \nQ 45.40625 17.390625 45.40625 27.296875 \nQ 45.40625 37.203125 41.296875 42.84375 \nQ 37.203125 48.484375 30.078125 48.484375 \nQ 22.953125 48.484375 18.875 42.84375 \nQ 14.796875 37.203125 14.796875 27.296875 \nz\n\" id=\"DejaVuSans-100\"/>\n     <path d=\"M 8.5 21.578125 \nL 8.5 54.6875 \nL 17.484375 54.6875 \nL 17.484375 21.921875 \nQ 17.484375 14.15625 20.5 10.265625 \nQ 23.53125 6.390625 29.59375 6.390625 \nQ 36.859375 6.390625 41.078125 11.03125 \nQ 45.3125 15.671875 45.3125 23.6875 \nL 45.3125 54.6875 \nL 54.296875 54.6875 \nL 54.296875 0 \nL 45.3125 0 \nL 45.3125 8.40625 \nQ 42.046875 3.421875 37.71875 1 \nQ 33.40625 -1.421875 27.6875 -1.421875 \nQ 18.265625 -1.421875 13.375 4.4375 \nQ 8.5 10.296875 8.5 21.578125 \nz\nM 31.109375 56 \nz\n\" id=\"DejaVuSans-117\"/>\n    </defs>\n    <g transform=\"translate(97.475938 16.318125)scale(0.12 -0.12)\">\n     <use xlink:href=\"#DejaVuSans-76\"/>\n     <use x=\"53.962891\" xlink:href=\"#DejaVuSans-111\"/>\n     <use x=\"115.144531\" xlink:href=\"#DejaVuSans-115\"/>\n     <use x=\"167.244141\" xlink:href=\"#DejaVuSans-115\"/>\n     <use x=\"219.34375\" xlink:href=\"#DejaVuSans-32\"/>\n     <use x=\"251.130859\" xlink:href=\"#DejaVuSans-119\"/>\n     <use x=\"332.917969\" xlink:href=\"#DejaVuSans-105\"/>\n     <use x=\"360.701172\" xlink:href=\"#DejaVuSans-116\"/>\n     <use x=\"399.910156\" xlink:href=\"#DejaVuSans-104\"/>\n     <use x=\"463.289062\" xlink:href=\"#DejaVuSans-32\"/>\n     <use x=\"495.076172\" xlink:href=\"#DejaVuSans-98\"/>\n     <use x=\"558.552734\" xlink:href=\"#DejaVuSans-97\"/>\n     <use x=\"619.832031\" xlink:href=\"#DejaVuSans-116\"/>\n     <use x=\"659.041016\" xlink:href=\"#DejaVuSans-99\"/>\n     <use x=\"714.021484\" xlink:href=\"#DejaVuSans-104\"/>\n     <use x=\"777.400391\" xlink:href=\"#DejaVuSans-95\"/>\n     <use x=\"827.400391\" xlink:href=\"#DejaVuSans-115\"/>\n     <use x=\"879.5\" xlink:href=\"#DejaVuSans-105\"/>\n     <use x=\"907.283203\" xlink:href=\"#DejaVuSans-122\"/>\n     <use x=\"959.773438\" xlink:href=\"#DejaVuSans-101\"/>\n     <use x=\"1021.296875\" xlink:href=\"#DejaVuSans-32\"/>\n     <use x=\"1053.083984\" xlink:href=\"#DejaVuSans-61\"/>\n     <use x=\"1136.873047\" xlink:href=\"#DejaVuSans-32\"/>\n     <use x=\"1168.660156\" xlink:href=\"#DejaVuSans-49\"/>\n     <use x=\"1232.283203\" xlink:href=\"#DejaVuSans-54\"/>\n     <use x=\"1295.90625\" xlink:href=\"#DejaVuSans-32\"/>\n     <use x=\"1327.693359\" xlink:href=\"#DejaVuSans-97\"/>\n     <use x=\"1388.972656\" xlink:href=\"#DejaVuSans-110\"/>\n     <use x=\"1452.351562\" xlink:href=\"#DejaVuSans-100\"/>\n     <use x=\"1515.828125\" xlink:href=\"#DejaVuSans-32\"/>\n     <use x=\"1547.615234\" xlink:href=\"#DejaVuSans-110\"/>\n     <use x=\"1610.994141\" xlink:href=\"#DejaVuSans-95\"/>\n     <use x=\"1660.994141\" xlink:href=\"#DejaVuSans-117\"/>\n     <use x=\"1724.373047\" xlink:href=\"#DejaVuSans-110\"/>\n     <use x=\"1787.751953\" xlink:href=\"#DejaVuSans-105\"/>\n     <use x=\"1815.535156\" xlink:href=\"#DejaVuSans-116\"/>\n     <use x=\"1854.744141\" xlink:href=\"#DejaVuSans-115\"/>\n     <use x=\"1906.84375\" xlink:href=\"#DejaVuSans-61\"/>\n     <use x=\"1990.632812\" xlink:href=\"#DejaVuSans-53\"/>\n    </g>\n   </g>\n   <g id=\"legend_1\">\n    <g id=\"patch_7\">\n     <path d=\"M 325.140625 59.674375 \nL 381.128125 59.674375 \nQ 383.128125 59.674375 383.128125 57.674375 \nL 383.128125 29.318125 \nQ 383.128125 27.318125 381.128125 27.318125 \nL 325.140625 27.318125 \nQ 323.140625 27.318125 323.140625 29.318125 \nL 323.140625 57.674375 \nQ 323.140625 59.674375 325.140625 59.674375 \nz\n\" style=\"fill:#ffffff;opacity:0.8;stroke:#cccccc;stroke-linejoin:miter;\"/>\n    </g>\n    <g id=\"line2d_33\">\n     <path d=\"M 327.140625 35.416562 \nL 347.140625 35.416562 \n\" style=\"fill:none;stroke:#1f77b4;stroke-linecap:square;stroke-width:1.5;\"/>\n    </g>\n    <g id=\"line2d_34\">\n     <g>\n      <use style=\"fill:#1f77b4;stroke:#1f77b4;\" x=\"337.140625\" xlink:href=\"#mccacce92be\" y=\"35.416562\"/>\n     </g>\n    </g>\n    <g id=\"text_19\">\n     <!-- Train -->\n     <defs>\n      <path d=\"M -0.296875 72.90625 \nL 61.375 72.90625 \nL 61.375 64.59375 \nL 35.5 64.59375 \nL 35.5 0 \nL 25.59375 0 \nL 25.59375 64.59375 \nL -0.296875 64.59375 \nz\n\" id=\"DejaVuSans-84\"/>\n      <path d=\"M 41.109375 46.296875 \nQ 39.59375 47.171875 37.8125 47.578125 \nQ 36.03125 48 33.890625 48 \nQ 26.265625 48 22.1875 43.046875 \nQ 18.109375 38.09375 18.109375 28.8125 \nL 18.109375 0 \nL 9.078125 0 \nL 9.078125 54.6875 \nL 18.109375 54.6875 \nL 18.109375 46.1875 \nQ 20.953125 51.171875 25.484375 53.578125 \nQ 30.03125 56 36.53125 56 \nQ 37.453125 56 38.578125 55.875 \nQ 39.703125 55.765625 41.0625 55.515625 \nz\n\" id=\"DejaVuSans-114\"/>\n     </defs>\n     <g transform=\"translate(355.140625 38.916562)scale(0.1 -0.1)\">\n      <use xlink:href=\"#DejaVuSans-84\"/>\n      <use x=\"46.333984\" xlink:href=\"#DejaVuSans-114\"/>\n      <use x=\"87.447266\" xlink:href=\"#DejaVuSans-97\"/>\n      <use x=\"148.726562\" xlink:href=\"#DejaVuSans-105\"/>\n      <use x=\"176.509766\" xlink:href=\"#DejaVuSans-110\"/>\n     </g>\n    </g>\n    <g id=\"line2d_35\">\n     <path d=\"M 327.140625 50.094687 \nL 347.140625 50.094687 \n\" style=\"fill:none;stroke:#ff7f0e;stroke-linecap:square;stroke-width:1.5;\"/>\n    </g>\n    <g id=\"line2d_36\">\n     <g>\n      <use style=\"fill:#ff7f0e;stroke:#ff7f0e;\" x=\"337.140625\" xlink:href=\"#m20480d4138\" y=\"50.094687\"/>\n     </g>\n    </g>\n    <g id=\"text_20\">\n     <!-- Test -->\n     <g transform=\"translate(355.140625 53.594687)scale(0.1 -0.1)\">\n      <use xlink:href=\"#DejaVuSans-84\"/>\n      <use x=\"44.083984\" xlink:href=\"#DejaVuSans-101\"/>\n      <use x=\"105.607422\" xlink:href=\"#DejaVuSans-115\"/>\n      <use x=\"157.707031\" xlink:href=\"#DejaVuSans-116\"/>\n     </g>\n    </g>\n   </g>\n  </g>\n </g>\n <defs>\n  <clipPath id=\"p7982f902ef\">\n   <rect height=\"217.44\" width=\"334.8\" x=\"53.328125\" y=\"22.318125\"/>\n  </clipPath>\n </defs>\n</svg>\n"
          },
          "metadata": {
            "needs_background": "light"
          }
        },
        {
          "output_type": "display_data",
          "data": {
            "text/plain": [
              "<Figure size 432x288 with 1 Axes>"
            ],
            "image/svg+xml": "<?xml version=\"1.0\" encoding=\"utf-8\" standalone=\"no\"?>\n<!DOCTYPE svg PUBLIC \"-//W3C//DTD SVG 1.1//EN\"\n  \"http://www.w3.org/Graphics/SVG/1.1/DTD/svg11.dtd\">\n<!-- Created with matplotlib (https://matplotlib.org/) -->\n<svg height=\"277.314375pt\" version=\"1.1\" viewBox=\"0 0 395.328125 277.314375\" width=\"395.328125pt\" xmlns=\"http://www.w3.org/2000/svg\" xmlns:xlink=\"http://www.w3.org/1999/xlink\">\n <defs>\n  <style type=\"text/css\">\n*{stroke-linecap:butt;stroke-linejoin:round;}\n  </style>\n </defs>\n <g id=\"figure_1\">\n  <g id=\"patch_1\">\n   <path d=\"M -0 277.314375 \nL 395.328125 277.314375 \nL 395.328125 0 \nL -0 0 \nz\n\" style=\"fill:none;\"/>\n  </g>\n  <g id=\"axes_1\">\n   <g id=\"patch_2\">\n    <path d=\"M 46.965625 239.758125 \nL 381.765625 239.758125 \nL 381.765625 22.318125 \nL 46.965625 22.318125 \nz\n\" style=\"fill:#ffffff;\"/>\n   </g>\n   <g id=\"matplotlib.axis_1\">\n    <g id=\"xtick_1\">\n     <g id=\"line2d_1\">\n      <path clip-path=\"url(#p48c76d32ec)\" d=\"M 46.965625 239.758125 \nL 46.965625 22.318125 \n\" style=\"fill:none;stroke:#b0b0b0;stroke-linecap:square;stroke-width:0.8;\"/>\n     </g>\n     <g id=\"line2d_2\">\n      <defs>\n       <path d=\"M 0 0 \nL 0 3.5 \n\" id=\"m09360ecda1\" style=\"stroke:#000000;stroke-width:0.8;\"/>\n      </defs>\n      <g>\n       <use style=\"stroke:#000000;stroke-width:0.8;\" x=\"46.965625\" xlink:href=\"#m09360ecda1\" y=\"239.758125\"/>\n      </g>\n     </g>\n     <g id=\"text_1\">\n      <!-- 0 -->\n      <defs>\n       <path d=\"M 31.78125 66.40625 \nQ 24.171875 66.40625 20.328125 58.90625 \nQ 16.5 51.421875 16.5 36.375 \nQ 16.5 21.390625 20.328125 13.890625 \nQ 24.171875 6.390625 31.78125 6.390625 \nQ 39.453125 6.390625 43.28125 13.890625 \nQ 47.125 21.390625 47.125 36.375 \nQ 47.125 51.421875 43.28125 58.90625 \nQ 39.453125 66.40625 31.78125 66.40625 \nz\nM 31.78125 74.21875 \nQ 44.046875 74.21875 50.515625 64.515625 \nQ 56.984375 54.828125 56.984375 36.375 \nQ 56.984375 17.96875 50.515625 8.265625 \nQ 44.046875 -1.421875 31.78125 -1.421875 \nQ 19.53125 -1.421875 13.0625 8.265625 \nQ 6.59375 17.96875 6.59375 36.375 \nQ 6.59375 54.828125 13.0625 64.515625 \nQ 19.53125 74.21875 31.78125 74.21875 \nz\n\" id=\"DejaVuSans-48\"/>\n      </defs>\n      <g transform=\"translate(43.784375 254.356562)scale(0.1 -0.1)\">\n       <use xlink:href=\"#DejaVuSans-48\"/>\n      </g>\n     </g>\n    </g>\n    <g id=\"xtick_2\">\n     <g id=\"line2d_3\">\n      <path clip-path=\"url(#p48c76d32ec)\" d=\"M 113.925625 239.758125 \nL 113.925625 22.318125 \n\" style=\"fill:none;stroke:#b0b0b0;stroke-linecap:square;stroke-width:0.8;\"/>\n     </g>\n     <g id=\"line2d_4\">\n      <g>\n       <use style=\"stroke:#000000;stroke-width:0.8;\" x=\"113.925625\" xlink:href=\"#m09360ecda1\" y=\"239.758125\"/>\n      </g>\n     </g>\n     <g id=\"text_2\">\n      <!-- 10 -->\n      <defs>\n       <path d=\"M 12.40625 8.296875 \nL 28.515625 8.296875 \nL 28.515625 63.921875 \nL 10.984375 60.40625 \nL 10.984375 69.390625 \nL 28.421875 72.90625 \nL 38.28125 72.90625 \nL 38.28125 8.296875 \nL 54.390625 8.296875 \nL 54.390625 0 \nL 12.40625 0 \nz\n\" id=\"DejaVuSans-49\"/>\n      </defs>\n      <g transform=\"translate(107.563125 254.356562)scale(0.1 -0.1)\">\n       <use xlink:href=\"#DejaVuSans-49\"/>\n       <use x=\"63.623047\" xlink:href=\"#DejaVuSans-48\"/>\n      </g>\n     </g>\n    </g>\n    <g id=\"xtick_3\">\n     <g id=\"line2d_5\">\n      <path clip-path=\"url(#p48c76d32ec)\" d=\"M 180.885625 239.758125 \nL 180.885625 22.318125 \n\" style=\"fill:none;stroke:#b0b0b0;stroke-linecap:square;stroke-width:0.8;\"/>\n     </g>\n     <g id=\"line2d_6\">\n      <g>\n       <use style=\"stroke:#000000;stroke-width:0.8;\" x=\"180.885625\" xlink:href=\"#m09360ecda1\" y=\"239.758125\"/>\n      </g>\n     </g>\n     <g id=\"text_3\">\n      <!-- 20 -->\n      <defs>\n       <path d=\"M 19.1875 8.296875 \nL 53.609375 8.296875 \nL 53.609375 0 \nL 7.328125 0 \nL 7.328125 8.296875 \nQ 12.9375 14.109375 22.625 23.890625 \nQ 32.328125 33.6875 34.8125 36.53125 \nQ 39.546875 41.84375 41.421875 45.53125 \nQ 43.3125 49.21875 43.3125 52.78125 \nQ 43.3125 58.59375 39.234375 62.25 \nQ 35.15625 65.921875 28.609375 65.921875 \nQ 23.96875 65.921875 18.8125 64.3125 \nQ 13.671875 62.703125 7.8125 59.421875 \nL 7.8125 69.390625 \nQ 13.765625 71.78125 18.9375 73 \nQ 24.125 74.21875 28.421875 74.21875 \nQ 39.75 74.21875 46.484375 68.546875 \nQ 53.21875 62.890625 53.21875 53.421875 \nQ 53.21875 48.921875 51.53125 44.890625 \nQ 49.859375 40.875 45.40625 35.40625 \nQ 44.1875 33.984375 37.640625 27.21875 \nQ 31.109375 20.453125 19.1875 8.296875 \nz\n\" id=\"DejaVuSans-50\"/>\n      </defs>\n      <g transform=\"translate(174.523125 254.356562)scale(0.1 -0.1)\">\n       <use xlink:href=\"#DejaVuSans-50\"/>\n       <use x=\"63.623047\" xlink:href=\"#DejaVuSans-48\"/>\n      </g>\n     </g>\n    </g>\n    <g id=\"xtick_4\">\n     <g id=\"line2d_7\">\n      <path clip-path=\"url(#p48c76d32ec)\" d=\"M 247.845625 239.758125 \nL 247.845625 22.318125 \n\" style=\"fill:none;stroke:#b0b0b0;stroke-linecap:square;stroke-width:0.8;\"/>\n     </g>\n     <g id=\"line2d_8\">\n      <g>\n       <use style=\"stroke:#000000;stroke-width:0.8;\" x=\"247.845625\" xlink:href=\"#m09360ecda1\" y=\"239.758125\"/>\n      </g>\n     </g>\n     <g id=\"text_4\">\n      <!-- 30 -->\n      <defs>\n       <path d=\"M 40.578125 39.3125 \nQ 47.65625 37.796875 51.625 33 \nQ 55.609375 28.21875 55.609375 21.1875 \nQ 55.609375 10.40625 48.1875 4.484375 \nQ 40.765625 -1.421875 27.09375 -1.421875 \nQ 22.515625 -1.421875 17.65625 -0.515625 \nQ 12.796875 0.390625 7.625 2.203125 \nL 7.625 11.71875 \nQ 11.71875 9.328125 16.59375 8.109375 \nQ 21.484375 6.890625 26.8125 6.890625 \nQ 36.078125 6.890625 40.9375 10.546875 \nQ 45.796875 14.203125 45.796875 21.1875 \nQ 45.796875 27.640625 41.28125 31.265625 \nQ 36.765625 34.90625 28.71875 34.90625 \nL 20.21875 34.90625 \nL 20.21875 43.015625 \nL 29.109375 43.015625 \nQ 36.375 43.015625 40.234375 45.921875 \nQ 44.09375 48.828125 44.09375 54.296875 \nQ 44.09375 59.90625 40.109375 62.90625 \nQ 36.140625 65.921875 28.71875 65.921875 \nQ 24.65625 65.921875 20.015625 65.03125 \nQ 15.375 64.15625 9.8125 62.3125 \nL 9.8125 71.09375 \nQ 15.4375 72.65625 20.34375 73.4375 \nQ 25.25 74.21875 29.59375 74.21875 \nQ 40.828125 74.21875 47.359375 69.109375 \nQ 53.90625 64.015625 53.90625 55.328125 \nQ 53.90625 49.265625 50.4375 45.09375 \nQ 46.96875 40.921875 40.578125 39.3125 \nz\n\" id=\"DejaVuSans-51\"/>\n      </defs>\n      <g transform=\"translate(241.483125 254.356562)scale(0.1 -0.1)\">\n       <use xlink:href=\"#DejaVuSans-51\"/>\n       <use x=\"63.623047\" xlink:href=\"#DejaVuSans-48\"/>\n      </g>\n     </g>\n    </g>\n    <g id=\"xtick_5\">\n     <g id=\"line2d_9\">\n      <path clip-path=\"url(#p48c76d32ec)\" d=\"M 314.805625 239.758125 \nL 314.805625 22.318125 \n\" style=\"fill:none;stroke:#b0b0b0;stroke-linecap:square;stroke-width:0.8;\"/>\n     </g>\n     <g id=\"line2d_10\">\n      <g>\n       <use style=\"stroke:#000000;stroke-width:0.8;\" x=\"314.805625\" xlink:href=\"#m09360ecda1\" y=\"239.758125\"/>\n      </g>\n     </g>\n     <g id=\"text_5\">\n      <!-- 40 -->\n      <defs>\n       <path d=\"M 37.796875 64.3125 \nL 12.890625 25.390625 \nL 37.796875 25.390625 \nz\nM 35.203125 72.90625 \nL 47.609375 72.90625 \nL 47.609375 25.390625 \nL 58.015625 25.390625 \nL 58.015625 17.1875 \nL 47.609375 17.1875 \nL 47.609375 0 \nL 37.796875 0 \nL 37.796875 17.1875 \nL 4.890625 17.1875 \nL 4.890625 26.703125 \nz\n\" id=\"DejaVuSans-52\"/>\n      </defs>\n      <g transform=\"translate(308.443125 254.356562)scale(0.1 -0.1)\">\n       <use xlink:href=\"#DejaVuSans-52\"/>\n       <use x=\"63.623047\" xlink:href=\"#DejaVuSans-48\"/>\n      </g>\n     </g>\n    </g>\n    <g id=\"xtick_6\">\n     <g id=\"line2d_11\">\n      <path clip-path=\"url(#p48c76d32ec)\" d=\"M 381.765625 239.758125 \nL 381.765625 22.318125 \n\" style=\"fill:none;stroke:#b0b0b0;stroke-linecap:square;stroke-width:0.8;\"/>\n     </g>\n     <g id=\"line2d_12\">\n      <g>\n       <use style=\"stroke:#000000;stroke-width:0.8;\" x=\"381.765625\" xlink:href=\"#m09360ecda1\" y=\"239.758125\"/>\n      </g>\n     </g>\n     <g id=\"text_6\">\n      <!-- 50 -->\n      <defs>\n       <path d=\"M 10.796875 72.90625 \nL 49.515625 72.90625 \nL 49.515625 64.59375 \nL 19.828125 64.59375 \nL 19.828125 46.734375 \nQ 21.96875 47.46875 24.109375 47.828125 \nQ 26.265625 48.1875 28.421875 48.1875 \nQ 40.625 48.1875 47.75 41.5 \nQ 54.890625 34.8125 54.890625 23.390625 \nQ 54.890625 11.625 47.5625 5.09375 \nQ 40.234375 -1.421875 26.90625 -1.421875 \nQ 22.3125 -1.421875 17.546875 -0.640625 \nQ 12.796875 0.140625 7.71875 1.703125 \nL 7.71875 11.625 \nQ 12.109375 9.234375 16.796875 8.0625 \nQ 21.484375 6.890625 26.703125 6.890625 \nQ 35.15625 6.890625 40.078125 11.328125 \nQ 45.015625 15.765625 45.015625 23.390625 \nQ 45.015625 31 40.078125 35.4375 \nQ 35.15625 39.890625 26.703125 39.890625 \nQ 22.75 39.890625 18.8125 39.015625 \nQ 14.890625 38.140625 10.796875 36.28125 \nz\n\" id=\"DejaVuSans-53\"/>\n      </defs>\n      <g transform=\"translate(375.403125 254.356562)scale(0.1 -0.1)\">\n       <use xlink:href=\"#DejaVuSans-53\"/>\n       <use x=\"63.623047\" xlink:href=\"#DejaVuSans-48\"/>\n      </g>\n     </g>\n    </g>\n    <g id=\"text_7\">\n     <!-- Epochs -->\n     <defs>\n      <path d=\"M 9.8125 72.90625 \nL 55.90625 72.90625 \nL 55.90625 64.59375 \nL 19.671875 64.59375 \nL 19.671875 43.015625 \nL 54.390625 43.015625 \nL 54.390625 34.71875 \nL 19.671875 34.71875 \nL 19.671875 8.296875 \nL 56.78125 8.296875 \nL 56.78125 0 \nL 9.8125 0 \nz\n\" id=\"DejaVuSans-69\"/>\n      <path d=\"M 18.109375 8.203125 \nL 18.109375 -20.796875 \nL 9.078125 -20.796875 \nL 9.078125 54.6875 \nL 18.109375 54.6875 \nL 18.109375 46.390625 \nQ 20.953125 51.265625 25.265625 53.625 \nQ 29.59375 56 35.59375 56 \nQ 45.5625 56 51.78125 48.09375 \nQ 58.015625 40.1875 58.015625 27.296875 \nQ 58.015625 14.40625 51.78125 6.484375 \nQ 45.5625 -1.421875 35.59375 -1.421875 \nQ 29.59375 -1.421875 25.265625 0.953125 \nQ 20.953125 3.328125 18.109375 8.203125 \nz\nM 48.6875 27.296875 \nQ 48.6875 37.203125 44.609375 42.84375 \nQ 40.53125 48.484375 33.40625 48.484375 \nQ 26.265625 48.484375 22.1875 42.84375 \nQ 18.109375 37.203125 18.109375 27.296875 \nQ 18.109375 17.390625 22.1875 11.75 \nQ 26.265625 6.109375 33.40625 6.109375 \nQ 40.53125 6.109375 44.609375 11.75 \nQ 48.6875 17.390625 48.6875 27.296875 \nz\n\" id=\"DejaVuSans-112\"/>\n      <path d=\"M 30.609375 48.390625 \nQ 23.390625 48.390625 19.1875 42.75 \nQ 14.984375 37.109375 14.984375 27.296875 \nQ 14.984375 17.484375 19.15625 11.84375 \nQ 23.34375 6.203125 30.609375 6.203125 \nQ 37.796875 6.203125 41.984375 11.859375 \nQ 46.1875 17.53125 46.1875 27.296875 \nQ 46.1875 37.015625 41.984375 42.703125 \nQ 37.796875 48.390625 30.609375 48.390625 \nz\nM 30.609375 56 \nQ 42.328125 56 49.015625 48.375 \nQ 55.71875 40.765625 55.71875 27.296875 \nQ 55.71875 13.875 49.015625 6.21875 \nQ 42.328125 -1.421875 30.609375 -1.421875 \nQ 18.84375 -1.421875 12.171875 6.21875 \nQ 5.515625 13.875 5.515625 27.296875 \nQ 5.515625 40.765625 12.171875 48.375 \nQ 18.84375 56 30.609375 56 \nz\n\" id=\"DejaVuSans-111\"/>\n      <path d=\"M 48.78125 52.59375 \nL 48.78125 44.1875 \nQ 44.96875 46.296875 41.140625 47.34375 \nQ 37.3125 48.390625 33.40625 48.390625 \nQ 24.65625 48.390625 19.8125 42.84375 \nQ 14.984375 37.3125 14.984375 27.296875 \nQ 14.984375 17.28125 19.8125 11.734375 \nQ 24.65625 6.203125 33.40625 6.203125 \nQ 37.3125 6.203125 41.140625 7.25 \nQ 44.96875 8.296875 48.78125 10.40625 \nL 48.78125 2.09375 \nQ 45.015625 0.34375 40.984375 -0.53125 \nQ 36.96875 -1.421875 32.421875 -1.421875 \nQ 20.0625 -1.421875 12.78125 6.34375 \nQ 5.515625 14.109375 5.515625 27.296875 \nQ 5.515625 40.671875 12.859375 48.328125 \nQ 20.21875 56 33.015625 56 \nQ 37.15625 56 41.109375 55.140625 \nQ 45.0625 54.296875 48.78125 52.59375 \nz\n\" id=\"DejaVuSans-99\"/>\n      <path d=\"M 54.890625 33.015625 \nL 54.890625 0 \nL 45.90625 0 \nL 45.90625 32.71875 \nQ 45.90625 40.484375 42.875 44.328125 \nQ 39.84375 48.1875 33.796875 48.1875 \nQ 26.515625 48.1875 22.3125 43.546875 \nQ 18.109375 38.921875 18.109375 30.90625 \nL 18.109375 0 \nL 9.078125 0 \nL 9.078125 75.984375 \nL 18.109375 75.984375 \nL 18.109375 46.1875 \nQ 21.34375 51.125 25.703125 53.5625 \nQ 30.078125 56 35.796875 56 \nQ 45.21875 56 50.046875 50.171875 \nQ 54.890625 44.34375 54.890625 33.015625 \nz\n\" id=\"DejaVuSans-104\"/>\n      <path d=\"M 44.28125 53.078125 \nL 44.28125 44.578125 \nQ 40.484375 46.53125 36.375 47.5 \nQ 32.28125 48.484375 27.875 48.484375 \nQ 21.1875 48.484375 17.84375 46.4375 \nQ 14.5 44.390625 14.5 40.28125 \nQ 14.5 37.15625 16.890625 35.375 \nQ 19.28125 33.59375 26.515625 31.984375 \nL 29.59375 31.296875 \nQ 39.15625 29.25 43.1875 25.515625 \nQ 47.21875 21.78125 47.21875 15.09375 \nQ 47.21875 7.46875 41.1875 3.015625 \nQ 35.15625 -1.421875 24.609375 -1.421875 \nQ 20.21875 -1.421875 15.453125 -0.5625 \nQ 10.6875 0.296875 5.421875 2 \nL 5.421875 11.28125 \nQ 10.40625 8.6875 15.234375 7.390625 \nQ 20.0625 6.109375 24.8125 6.109375 \nQ 31.15625 6.109375 34.5625 8.28125 \nQ 37.984375 10.453125 37.984375 14.40625 \nQ 37.984375 18.0625 35.515625 20.015625 \nQ 33.0625 21.96875 24.703125 23.78125 \nL 21.578125 24.515625 \nQ 13.234375 26.265625 9.515625 29.90625 \nQ 5.8125 33.546875 5.8125 39.890625 \nQ 5.8125 47.609375 11.28125 51.796875 \nQ 16.75 56 26.8125 56 \nQ 31.78125 56 36.171875 55.265625 \nQ 40.578125 54.546875 44.28125 53.078125 \nz\n\" id=\"DejaVuSans-115\"/>\n     </defs>\n     <g transform=\"translate(196.45 268.034687)scale(0.1 -0.1)\">\n      <use xlink:href=\"#DejaVuSans-69\"/>\n      <use x=\"63.183594\" xlink:href=\"#DejaVuSans-112\"/>\n      <use x=\"126.660156\" xlink:href=\"#DejaVuSans-111\"/>\n      <use x=\"187.841797\" xlink:href=\"#DejaVuSans-99\"/>\n      <use x=\"242.822266\" xlink:href=\"#DejaVuSans-104\"/>\n      <use x=\"306.201172\" xlink:href=\"#DejaVuSans-115\"/>\n     </g>\n    </g>\n   </g>\n   <g id=\"matplotlib.axis_2\">\n    <g id=\"ytick_1\">\n     <g id=\"line2d_13\">\n      <path clip-path=\"url(#p48c76d32ec)\" d=\"M 46.965625 239.758125 \nL 381.765625 239.758125 \n\" style=\"fill:none;stroke:#b0b0b0;stroke-linecap:square;stroke-width:0.8;\"/>\n     </g>\n     <g id=\"line2d_14\">\n      <defs>\n       <path d=\"M 0 0 \nL -3.5 0 \n\" id=\"m3c71e8b957\" style=\"stroke:#000000;stroke-width:0.8;\"/>\n      </defs>\n      <g>\n       <use style=\"stroke:#000000;stroke-width:0.8;\" x=\"46.965625\" xlink:href=\"#m3c71e8b957\" y=\"239.758125\"/>\n      </g>\n     </g>\n     <g id=\"text_8\">\n      <!-- 0 -->\n      <g transform=\"translate(33.603125 243.557344)scale(0.1 -0.1)\">\n       <use xlink:href=\"#DejaVuSans-48\"/>\n      </g>\n     </g>\n    </g>\n    <g id=\"ytick_2\">\n     <g id=\"line2d_15\">\n      <path clip-path=\"url(#p48c76d32ec)\" d=\"M 46.965625 196.270125 \nL 381.765625 196.270125 \n\" style=\"fill:none;stroke:#b0b0b0;stroke-linecap:square;stroke-width:0.8;\"/>\n     </g>\n     <g id=\"line2d_16\">\n      <g>\n       <use style=\"stroke:#000000;stroke-width:0.8;\" x=\"46.965625\" xlink:href=\"#m3c71e8b957\" y=\"196.270125\"/>\n      </g>\n     </g>\n     <g id=\"text_9\">\n      <!-- 20 -->\n      <g transform=\"translate(27.240625 200.069344)scale(0.1 -0.1)\">\n       <use xlink:href=\"#DejaVuSans-50\"/>\n       <use x=\"63.623047\" xlink:href=\"#DejaVuSans-48\"/>\n      </g>\n     </g>\n    </g>\n    <g id=\"ytick_3\">\n     <g id=\"line2d_17\">\n      <path clip-path=\"url(#p48c76d32ec)\" d=\"M 46.965625 152.782125 \nL 381.765625 152.782125 \n\" style=\"fill:none;stroke:#b0b0b0;stroke-linecap:square;stroke-width:0.8;\"/>\n     </g>\n     <g id=\"line2d_18\">\n      <g>\n       <use style=\"stroke:#000000;stroke-width:0.8;\" x=\"46.965625\" xlink:href=\"#m3c71e8b957\" y=\"152.782125\"/>\n      </g>\n     </g>\n     <g id=\"text_10\">\n      <!-- 40 -->\n      <g transform=\"translate(27.240625 156.581344)scale(0.1 -0.1)\">\n       <use xlink:href=\"#DejaVuSans-52\"/>\n       <use x=\"63.623047\" xlink:href=\"#DejaVuSans-48\"/>\n      </g>\n     </g>\n    </g>\n    <g id=\"ytick_4\">\n     <g id=\"line2d_19\">\n      <path clip-path=\"url(#p48c76d32ec)\" d=\"M 46.965625 109.294125 \nL 381.765625 109.294125 \n\" style=\"fill:none;stroke:#b0b0b0;stroke-linecap:square;stroke-width:0.8;\"/>\n     </g>\n     <g id=\"line2d_20\">\n      <g>\n       <use style=\"stroke:#000000;stroke-width:0.8;\" x=\"46.965625\" xlink:href=\"#m3c71e8b957\" y=\"109.294125\"/>\n      </g>\n     </g>\n     <g id=\"text_11\">\n      <!-- 60 -->\n      <defs>\n       <path d=\"M 33.015625 40.375 \nQ 26.375 40.375 22.484375 35.828125 \nQ 18.609375 31.296875 18.609375 23.390625 \nQ 18.609375 15.53125 22.484375 10.953125 \nQ 26.375 6.390625 33.015625 6.390625 \nQ 39.65625 6.390625 43.53125 10.953125 \nQ 47.40625 15.53125 47.40625 23.390625 \nQ 47.40625 31.296875 43.53125 35.828125 \nQ 39.65625 40.375 33.015625 40.375 \nz\nM 52.59375 71.296875 \nL 52.59375 62.3125 \nQ 48.875 64.0625 45.09375 64.984375 \nQ 41.3125 65.921875 37.59375 65.921875 \nQ 27.828125 65.921875 22.671875 59.328125 \nQ 17.53125 52.734375 16.796875 39.40625 \nQ 19.671875 43.65625 24.015625 45.921875 \nQ 28.375 48.1875 33.59375 48.1875 \nQ 44.578125 48.1875 50.953125 41.515625 \nQ 57.328125 34.859375 57.328125 23.390625 \nQ 57.328125 12.15625 50.6875 5.359375 \nQ 44.046875 -1.421875 33.015625 -1.421875 \nQ 20.359375 -1.421875 13.671875 8.265625 \nQ 6.984375 17.96875 6.984375 36.375 \nQ 6.984375 53.65625 15.1875 63.9375 \nQ 23.390625 74.21875 37.203125 74.21875 \nQ 40.921875 74.21875 44.703125 73.484375 \nQ 48.484375 72.75 52.59375 71.296875 \nz\n\" id=\"DejaVuSans-54\"/>\n      </defs>\n      <g transform=\"translate(27.240625 113.093344)scale(0.1 -0.1)\">\n       <use xlink:href=\"#DejaVuSans-54\"/>\n       <use x=\"63.623047\" xlink:href=\"#DejaVuSans-48\"/>\n      </g>\n     </g>\n    </g>\n    <g id=\"ytick_5\">\n     <g id=\"line2d_21\">\n      <path clip-path=\"url(#p48c76d32ec)\" d=\"M 46.965625 65.806125 \nL 381.765625 65.806125 \n\" style=\"fill:none;stroke:#b0b0b0;stroke-linecap:square;stroke-width:0.8;\"/>\n     </g>\n     <g id=\"line2d_22\">\n      <g>\n       <use style=\"stroke:#000000;stroke-width:0.8;\" x=\"46.965625\" xlink:href=\"#m3c71e8b957\" y=\"65.806125\"/>\n      </g>\n     </g>\n     <g id=\"text_12\">\n      <!-- 80 -->\n      <defs>\n       <path d=\"M 31.78125 34.625 \nQ 24.75 34.625 20.71875 30.859375 \nQ 16.703125 27.09375 16.703125 20.515625 \nQ 16.703125 13.921875 20.71875 10.15625 \nQ 24.75 6.390625 31.78125 6.390625 \nQ 38.8125 6.390625 42.859375 10.171875 \nQ 46.921875 13.96875 46.921875 20.515625 \nQ 46.921875 27.09375 42.890625 30.859375 \nQ 38.875 34.625 31.78125 34.625 \nz\nM 21.921875 38.8125 \nQ 15.578125 40.375 12.03125 44.71875 \nQ 8.5 49.078125 8.5 55.328125 \nQ 8.5 64.0625 14.71875 69.140625 \nQ 20.953125 74.21875 31.78125 74.21875 \nQ 42.671875 74.21875 48.875 69.140625 \nQ 55.078125 64.0625 55.078125 55.328125 \nQ 55.078125 49.078125 51.53125 44.71875 \nQ 48 40.375 41.703125 38.8125 \nQ 48.828125 37.15625 52.796875 32.3125 \nQ 56.78125 27.484375 56.78125 20.515625 \nQ 56.78125 9.90625 50.3125 4.234375 \nQ 43.84375 -1.421875 31.78125 -1.421875 \nQ 19.734375 -1.421875 13.25 4.234375 \nQ 6.78125 9.90625 6.78125 20.515625 \nQ 6.78125 27.484375 10.78125 32.3125 \nQ 14.796875 37.15625 21.921875 38.8125 \nz\nM 18.3125 54.390625 \nQ 18.3125 48.734375 21.84375 45.5625 \nQ 25.390625 42.390625 31.78125 42.390625 \nQ 38.140625 42.390625 41.71875 45.5625 \nQ 45.3125 48.734375 45.3125 54.390625 \nQ 45.3125 60.0625 41.71875 63.234375 \nQ 38.140625 66.40625 31.78125 66.40625 \nQ 25.390625 66.40625 21.84375 63.234375 \nQ 18.3125 60.0625 18.3125 54.390625 \nz\n\" id=\"DejaVuSans-56\"/>\n      </defs>\n      <g transform=\"translate(27.240625 69.605344)scale(0.1 -0.1)\">\n       <use xlink:href=\"#DejaVuSans-56\"/>\n       <use x=\"63.623047\" xlink:href=\"#DejaVuSans-48\"/>\n      </g>\n     </g>\n    </g>\n    <g id=\"ytick_6\">\n     <g id=\"line2d_23\">\n      <path clip-path=\"url(#p48c76d32ec)\" d=\"M 46.965625 22.318125 \nL 381.765625 22.318125 \n\" style=\"fill:none;stroke:#b0b0b0;stroke-linecap:square;stroke-width:0.8;\"/>\n     </g>\n     <g id=\"line2d_24\">\n      <g>\n       <use style=\"stroke:#000000;stroke-width:0.8;\" x=\"46.965625\" xlink:href=\"#m3c71e8b957\" y=\"22.318125\"/>\n      </g>\n     </g>\n     <g id=\"text_13\">\n      <!-- 100 -->\n      <g transform=\"translate(20.878125 26.117344)scale(0.1 -0.1)\">\n       <use xlink:href=\"#DejaVuSans-49\"/>\n       <use x=\"63.623047\" xlink:href=\"#DejaVuSans-48\"/>\n       <use x=\"127.246094\" xlink:href=\"#DejaVuSans-48\"/>\n      </g>\n     </g>\n    </g>\n    <g id=\"text_14\">\n     <!-- Loss -->\n     <defs>\n      <path d=\"M 9.8125 72.90625 \nL 19.671875 72.90625 \nL 19.671875 8.296875 \nL 55.171875 8.296875 \nL 55.171875 0 \nL 9.8125 0 \nz\n\" id=\"DejaVuSans-76\"/>\n     </defs>\n     <g transform=\"translate(14.798438 142.005312)rotate(-90)scale(0.1 -0.1)\">\n      <use xlink:href=\"#DejaVuSans-76\"/>\n      <use x=\"53.962891\" xlink:href=\"#DejaVuSans-111\"/>\n      <use x=\"115.144531\" xlink:href=\"#DejaVuSans-115\"/>\n      <use x=\"167.244141\" xlink:href=\"#DejaVuSans-115\"/>\n     </g>\n    </g>\n   </g>\n   <g id=\"line2d_25\">\n    <path clip-path=\"url(#p48c76d32ec)\" d=\"M 153.458805 -1 \nL 154.101625 20.577245 \nL 160.797625 143.341955 \nL 167.493625 199.581746 \nL 174.189625 206.033306 \nL 180.885625 189.242747 \nL 187.581625 167.327375 \nL 194.277625 146.991928 \nL 200.973625 161.885348 \nL 207.669625 167.138638 \nL 214.365625 184.555547 \nL 221.061625 191.818315 \nL 227.757625 202.875063 \nL 234.453625 204.047428 \nL 241.149625 206.282332 \nL 247.845625 207.073231 \nL 254.541625 201.486494 \nL 261.237625 201.940429 \nL 267.933625 208.309356 \nL 274.629625 207.927044 \nL 281.325625 207.928497 \nL 288.021625 204.275588 \nL 294.717625 209.599991 \nL 301.413625 207.081424 \nL 308.109625 204.601471 \nL 314.805625 205.011193 \nL 321.501625 207.210127 \nL 328.197625 205.737437 \nL 334.893625 204.65388 \nL 341.589625 205.655209 \nL 348.285625 206.192744 \nL 354.981625 207.513102 \nL 361.677625 207.324112 \nL 368.373625 207.506337 \nL 375.069625 207.482997 \n\" style=\"fill:none;stroke:#1f77b4;stroke-linecap:square;stroke-width:1.5;\"/>\n    <defs>\n     <path d=\"M 0 2 \nC 0.530406 2 1.03916 1.789267 1.414214 1.414214 \nC 1.789267 1.03916 2 0.530406 2 0 \nC 2 -0.530406 1.789267 -1.03916 1.414214 -1.414214 \nC 1.03916 -1.789267 0.530406 -2 0 -2 \nC -0.530406 -2 -1.03916 -1.789267 -1.414214 -1.414214 \nC -1.789267 -1.03916 -2 -0.530406 -2 0 \nC -2 0.530406 -1.789267 1.03916 -1.414214 1.414214 \nC -1.03916 1.789267 -0.530406 2 0 2 \nz\n\" id=\"me25204af68\" style=\"stroke:#1f77b4;\"/>\n    </defs>\n    <g clip-path=\"url(#p48c76d32ec)\">\n     <use style=\"fill:#1f77b4;stroke:#1f77b4;\" x=\"153.458805\" xlink:href=\"#me25204af68\" y=\"-1\"/>\n     <use style=\"fill:#1f77b4;stroke:#1f77b4;\" x=\"154.101625\" xlink:href=\"#me25204af68\" y=\"20.577245\"/>\n     <use style=\"fill:#1f77b4;stroke:#1f77b4;\" x=\"160.797625\" xlink:href=\"#me25204af68\" y=\"143.341955\"/>\n     <use style=\"fill:#1f77b4;stroke:#1f77b4;\" x=\"167.493625\" xlink:href=\"#me25204af68\" y=\"199.581746\"/>\n     <use style=\"fill:#1f77b4;stroke:#1f77b4;\" x=\"174.189625\" xlink:href=\"#me25204af68\" y=\"206.033306\"/>\n     <use style=\"fill:#1f77b4;stroke:#1f77b4;\" x=\"180.885625\" xlink:href=\"#me25204af68\" y=\"189.242747\"/>\n     <use style=\"fill:#1f77b4;stroke:#1f77b4;\" x=\"187.581625\" xlink:href=\"#me25204af68\" y=\"167.327375\"/>\n     <use style=\"fill:#1f77b4;stroke:#1f77b4;\" x=\"194.277625\" xlink:href=\"#me25204af68\" y=\"146.991928\"/>\n     <use style=\"fill:#1f77b4;stroke:#1f77b4;\" x=\"200.973625\" xlink:href=\"#me25204af68\" y=\"161.885348\"/>\n     <use style=\"fill:#1f77b4;stroke:#1f77b4;\" x=\"207.669625\" xlink:href=\"#me25204af68\" y=\"167.138638\"/>\n     <use style=\"fill:#1f77b4;stroke:#1f77b4;\" x=\"214.365625\" xlink:href=\"#me25204af68\" y=\"184.555547\"/>\n     <use style=\"fill:#1f77b4;stroke:#1f77b4;\" x=\"221.061625\" xlink:href=\"#me25204af68\" y=\"191.818315\"/>\n     <use style=\"fill:#1f77b4;stroke:#1f77b4;\" x=\"227.757625\" xlink:href=\"#me25204af68\" y=\"202.875063\"/>\n     <use style=\"fill:#1f77b4;stroke:#1f77b4;\" x=\"234.453625\" xlink:href=\"#me25204af68\" y=\"204.047428\"/>\n     <use style=\"fill:#1f77b4;stroke:#1f77b4;\" x=\"241.149625\" xlink:href=\"#me25204af68\" y=\"206.282332\"/>\n     <use style=\"fill:#1f77b4;stroke:#1f77b4;\" x=\"247.845625\" xlink:href=\"#me25204af68\" y=\"207.073231\"/>\n     <use style=\"fill:#1f77b4;stroke:#1f77b4;\" x=\"254.541625\" xlink:href=\"#me25204af68\" y=\"201.486494\"/>\n     <use style=\"fill:#1f77b4;stroke:#1f77b4;\" x=\"261.237625\" xlink:href=\"#me25204af68\" y=\"201.940429\"/>\n     <use style=\"fill:#1f77b4;stroke:#1f77b4;\" x=\"267.933625\" xlink:href=\"#me25204af68\" y=\"208.309356\"/>\n     <use style=\"fill:#1f77b4;stroke:#1f77b4;\" x=\"274.629625\" xlink:href=\"#me25204af68\" y=\"207.927044\"/>\n     <use style=\"fill:#1f77b4;stroke:#1f77b4;\" x=\"281.325625\" xlink:href=\"#me25204af68\" y=\"207.928497\"/>\n     <use style=\"fill:#1f77b4;stroke:#1f77b4;\" x=\"288.021625\" xlink:href=\"#me25204af68\" y=\"204.275588\"/>\n     <use style=\"fill:#1f77b4;stroke:#1f77b4;\" x=\"294.717625\" xlink:href=\"#me25204af68\" y=\"209.599991\"/>\n     <use style=\"fill:#1f77b4;stroke:#1f77b4;\" x=\"301.413625\" xlink:href=\"#me25204af68\" y=\"207.081424\"/>\n     <use style=\"fill:#1f77b4;stroke:#1f77b4;\" x=\"308.109625\" xlink:href=\"#me25204af68\" y=\"204.601471\"/>\n     <use style=\"fill:#1f77b4;stroke:#1f77b4;\" x=\"314.805625\" xlink:href=\"#me25204af68\" y=\"205.011193\"/>\n     <use style=\"fill:#1f77b4;stroke:#1f77b4;\" x=\"321.501625\" xlink:href=\"#me25204af68\" y=\"207.210127\"/>\n     <use style=\"fill:#1f77b4;stroke:#1f77b4;\" x=\"328.197625\" xlink:href=\"#me25204af68\" y=\"205.737437\"/>\n     <use style=\"fill:#1f77b4;stroke:#1f77b4;\" x=\"334.893625\" xlink:href=\"#me25204af68\" y=\"204.65388\"/>\n     <use style=\"fill:#1f77b4;stroke:#1f77b4;\" x=\"341.589625\" xlink:href=\"#me25204af68\" y=\"205.655209\"/>\n     <use style=\"fill:#1f77b4;stroke:#1f77b4;\" x=\"348.285625\" xlink:href=\"#me25204af68\" y=\"206.192744\"/>\n     <use style=\"fill:#1f77b4;stroke:#1f77b4;\" x=\"354.981625\" xlink:href=\"#me25204af68\" y=\"207.513102\"/>\n     <use style=\"fill:#1f77b4;stroke:#1f77b4;\" x=\"361.677625\" xlink:href=\"#me25204af68\" y=\"207.324112\"/>\n     <use style=\"fill:#1f77b4;stroke:#1f77b4;\" x=\"368.373625\" xlink:href=\"#me25204af68\" y=\"207.506337\"/>\n     <use style=\"fill:#1f77b4;stroke:#1f77b4;\" x=\"375.069625\" xlink:href=\"#me25204af68\" y=\"207.482997\"/>\n    </g>\n   </g>\n   <g id=\"line2d_26\">\n    <path clip-path=\"url(#p48c76d32ec)\" d=\"M 155.400819 -1 \nL 160.797625 103.112252 \nL 167.493625 156.555094 \nL 174.189625 159.183172 \nL 180.885625 137.507183 \nL 187.581625 114.064687 \nL 194.277625 101.558231 \nL 200.973625 104.034167 \nL 207.669625 115.960552 \nL 214.365625 132.418295 \nL 221.061625 146.304985 \nL 227.757625 155.835563 \nL 234.453625 161.065221 \nL 241.149625 162.502657 \nL 247.845625 162.077496 \nL 254.541625 161.143463 \nL 261.237625 160.651829 \nL 267.933625 160.59133 \nL 274.629625 161.016244 \nL 281.325625 161.669417 \nL 288.021625 162.222024 \nL 294.717625 162.495626 \nL 301.413625 162.402544 \nL 308.109625 162.204612 \nL 314.805625 161.983403 \nL 321.501625 161.824353 \nL 328.197625 161.786029 \nL 334.893625 161.879875 \nL 341.589625 161.996416 \nL 348.285625 161.984647 \nL 354.981625 162.08154 \nL 361.677625 162.138851 \nL 368.373625 162.214676 \nL 375.069625 162.253518 \n\" style=\"fill:none;stroke:#ff7f0e;stroke-linecap:square;stroke-width:1.5;\"/>\n    <defs>\n     <path d=\"M 0 2 \nC 0.530406 2 1.03916 1.789267 1.414214 1.414214 \nC 1.789267 1.03916 2 0.530406 2 0 \nC 2 -0.530406 1.789267 -1.03916 1.414214 -1.414214 \nC 1.03916 -1.789267 0.530406 -2 0 -2 \nC -0.530406 -2 -1.03916 -1.789267 -1.414214 -1.414214 \nC -1.789267 -1.03916 -2 -0.530406 -2 0 \nC -2 0.530406 -1.789267 1.03916 -1.414214 1.414214 \nC -1.03916 1.789267 -0.530406 2 0 2 \nz\n\" id=\"m250e7fad1e\" style=\"stroke:#ff7f0e;\"/>\n    </defs>\n    <g clip-path=\"url(#p48c76d32ec)\">\n     <use style=\"fill:#ff7f0e;stroke:#ff7f0e;\" x=\"155.400819\" xlink:href=\"#m250e7fad1e\" y=\"-1\"/>\n     <use style=\"fill:#ff7f0e;stroke:#ff7f0e;\" x=\"160.797625\" xlink:href=\"#m250e7fad1e\" y=\"103.112252\"/>\n     <use style=\"fill:#ff7f0e;stroke:#ff7f0e;\" x=\"167.493625\" xlink:href=\"#m250e7fad1e\" y=\"156.555094\"/>\n     <use style=\"fill:#ff7f0e;stroke:#ff7f0e;\" x=\"174.189625\" xlink:href=\"#m250e7fad1e\" y=\"159.183172\"/>\n     <use style=\"fill:#ff7f0e;stroke:#ff7f0e;\" x=\"180.885625\" xlink:href=\"#m250e7fad1e\" y=\"137.507183\"/>\n     <use style=\"fill:#ff7f0e;stroke:#ff7f0e;\" x=\"187.581625\" xlink:href=\"#m250e7fad1e\" y=\"114.064687\"/>\n     <use style=\"fill:#ff7f0e;stroke:#ff7f0e;\" x=\"194.277625\" xlink:href=\"#m250e7fad1e\" y=\"101.558231\"/>\n     <use style=\"fill:#ff7f0e;stroke:#ff7f0e;\" x=\"200.973625\" xlink:href=\"#m250e7fad1e\" y=\"104.034167\"/>\n     <use style=\"fill:#ff7f0e;stroke:#ff7f0e;\" x=\"207.669625\" xlink:href=\"#m250e7fad1e\" y=\"115.960552\"/>\n     <use style=\"fill:#ff7f0e;stroke:#ff7f0e;\" x=\"214.365625\" xlink:href=\"#m250e7fad1e\" y=\"132.418295\"/>\n     <use style=\"fill:#ff7f0e;stroke:#ff7f0e;\" x=\"221.061625\" xlink:href=\"#m250e7fad1e\" y=\"146.304985\"/>\n     <use style=\"fill:#ff7f0e;stroke:#ff7f0e;\" x=\"227.757625\" xlink:href=\"#m250e7fad1e\" y=\"155.835563\"/>\n     <use style=\"fill:#ff7f0e;stroke:#ff7f0e;\" x=\"234.453625\" xlink:href=\"#m250e7fad1e\" y=\"161.065221\"/>\n     <use style=\"fill:#ff7f0e;stroke:#ff7f0e;\" x=\"241.149625\" xlink:href=\"#m250e7fad1e\" y=\"162.502657\"/>\n     <use style=\"fill:#ff7f0e;stroke:#ff7f0e;\" x=\"247.845625\" xlink:href=\"#m250e7fad1e\" y=\"162.077496\"/>\n     <use style=\"fill:#ff7f0e;stroke:#ff7f0e;\" x=\"254.541625\" xlink:href=\"#m250e7fad1e\" y=\"161.143463\"/>\n     <use style=\"fill:#ff7f0e;stroke:#ff7f0e;\" x=\"261.237625\" xlink:href=\"#m250e7fad1e\" y=\"160.651829\"/>\n     <use style=\"fill:#ff7f0e;stroke:#ff7f0e;\" x=\"267.933625\" xlink:href=\"#m250e7fad1e\" y=\"160.59133\"/>\n     <use style=\"fill:#ff7f0e;stroke:#ff7f0e;\" x=\"274.629625\" xlink:href=\"#m250e7fad1e\" y=\"161.016244\"/>\n     <use style=\"fill:#ff7f0e;stroke:#ff7f0e;\" x=\"281.325625\" xlink:href=\"#m250e7fad1e\" y=\"161.669417\"/>\n     <use style=\"fill:#ff7f0e;stroke:#ff7f0e;\" x=\"288.021625\" xlink:href=\"#m250e7fad1e\" y=\"162.222024\"/>\n     <use style=\"fill:#ff7f0e;stroke:#ff7f0e;\" x=\"294.717625\" xlink:href=\"#m250e7fad1e\" y=\"162.495626\"/>\n     <use style=\"fill:#ff7f0e;stroke:#ff7f0e;\" x=\"301.413625\" xlink:href=\"#m250e7fad1e\" y=\"162.402544\"/>\n     <use style=\"fill:#ff7f0e;stroke:#ff7f0e;\" x=\"308.109625\" xlink:href=\"#m250e7fad1e\" y=\"162.204612\"/>\n     <use style=\"fill:#ff7f0e;stroke:#ff7f0e;\" x=\"314.805625\" xlink:href=\"#m250e7fad1e\" y=\"161.983403\"/>\n     <use style=\"fill:#ff7f0e;stroke:#ff7f0e;\" x=\"321.501625\" xlink:href=\"#m250e7fad1e\" y=\"161.824353\"/>\n     <use style=\"fill:#ff7f0e;stroke:#ff7f0e;\" x=\"328.197625\" xlink:href=\"#m250e7fad1e\" y=\"161.786029\"/>\n     <use style=\"fill:#ff7f0e;stroke:#ff7f0e;\" x=\"334.893625\" xlink:href=\"#m250e7fad1e\" y=\"161.879875\"/>\n     <use style=\"fill:#ff7f0e;stroke:#ff7f0e;\" x=\"341.589625\" xlink:href=\"#m250e7fad1e\" y=\"161.996416\"/>\n     <use style=\"fill:#ff7f0e;stroke:#ff7f0e;\" x=\"348.285625\" xlink:href=\"#m250e7fad1e\" y=\"161.984647\"/>\n     <use style=\"fill:#ff7f0e;stroke:#ff7f0e;\" x=\"354.981625\" xlink:href=\"#m250e7fad1e\" y=\"162.08154\"/>\n     <use style=\"fill:#ff7f0e;stroke:#ff7f0e;\" x=\"361.677625\" xlink:href=\"#m250e7fad1e\" y=\"162.138851\"/>\n     <use style=\"fill:#ff7f0e;stroke:#ff7f0e;\" x=\"368.373625\" xlink:href=\"#m250e7fad1e\" y=\"162.214676\"/>\n     <use style=\"fill:#ff7f0e;stroke:#ff7f0e;\" x=\"375.069625\" xlink:href=\"#m250e7fad1e\" y=\"162.253518\"/>\n    </g>\n   </g>\n   <g id=\"patch_3\">\n    <path d=\"M 46.965625 239.758125 \nL 46.965625 22.318125 \n\" style=\"fill:none;stroke:#000000;stroke-linecap:square;stroke-linejoin:miter;stroke-width:0.8;\"/>\n   </g>\n   <g id=\"patch_4\">\n    <path d=\"M 381.765625 239.758125 \nL 381.765625 22.318125 \n\" style=\"fill:none;stroke:#000000;stroke-linecap:square;stroke-linejoin:miter;stroke-width:0.8;\"/>\n   </g>\n   <g id=\"patch_5\">\n    <path d=\"M 46.965625 239.758125 \nL 381.765625 239.758125 \n\" style=\"fill:none;stroke:#000000;stroke-linecap:square;stroke-linejoin:miter;stroke-width:0.8;\"/>\n   </g>\n   <g id=\"patch_6\">\n    <path d=\"M 46.965625 22.318125 \nL 381.765625 22.318125 \n\" style=\"fill:none;stroke:#000000;stroke-linecap:square;stroke-linejoin:miter;stroke-width:0.8;\"/>\n   </g>\n   <g id=\"text_15\">\n    <!-- Loss with batch_size = 16 and n_units=5 -->\n    <defs>\n     <path id=\"DejaVuSans-32\"/>\n     <path d=\"M 4.203125 54.6875 \nL 13.1875 54.6875 \nL 24.421875 12.015625 \nL 35.59375 54.6875 \nL 46.1875 54.6875 \nL 57.421875 12.015625 \nL 68.609375 54.6875 \nL 77.59375 54.6875 \nL 63.28125 0 \nL 52.6875 0 \nL 40.921875 44.828125 \nL 29.109375 0 \nL 18.5 0 \nz\n\" id=\"DejaVuSans-119\"/>\n     <path d=\"M 9.421875 54.6875 \nL 18.40625 54.6875 \nL 18.40625 0 \nL 9.421875 0 \nz\nM 9.421875 75.984375 \nL 18.40625 75.984375 \nL 18.40625 64.59375 \nL 9.421875 64.59375 \nz\n\" id=\"DejaVuSans-105\"/>\n     <path d=\"M 18.3125 70.21875 \nL 18.3125 54.6875 \nL 36.8125 54.6875 \nL 36.8125 47.703125 \nL 18.3125 47.703125 \nL 18.3125 18.015625 \nQ 18.3125 11.328125 20.140625 9.421875 \nQ 21.96875 7.515625 27.59375 7.515625 \nL 36.8125 7.515625 \nL 36.8125 0 \nL 27.59375 0 \nQ 17.1875 0 13.234375 3.875 \nQ 9.28125 7.765625 9.28125 18.015625 \nL 9.28125 47.703125 \nL 2.6875 47.703125 \nL 2.6875 54.6875 \nL 9.28125 54.6875 \nL 9.28125 70.21875 \nz\n\" id=\"DejaVuSans-116\"/>\n     <path d=\"M 48.6875 27.296875 \nQ 48.6875 37.203125 44.609375 42.84375 \nQ 40.53125 48.484375 33.40625 48.484375 \nQ 26.265625 48.484375 22.1875 42.84375 \nQ 18.109375 37.203125 18.109375 27.296875 \nQ 18.109375 17.390625 22.1875 11.75 \nQ 26.265625 6.109375 33.40625 6.109375 \nQ 40.53125 6.109375 44.609375 11.75 \nQ 48.6875 17.390625 48.6875 27.296875 \nz\nM 18.109375 46.390625 \nQ 20.953125 51.265625 25.265625 53.625 \nQ 29.59375 56 35.59375 56 \nQ 45.5625 56 51.78125 48.09375 \nQ 58.015625 40.1875 58.015625 27.296875 \nQ 58.015625 14.40625 51.78125 6.484375 \nQ 45.5625 -1.421875 35.59375 -1.421875 \nQ 29.59375 -1.421875 25.265625 0.953125 \nQ 20.953125 3.328125 18.109375 8.203125 \nL 18.109375 0 \nL 9.078125 0 \nL 9.078125 75.984375 \nL 18.109375 75.984375 \nz\n\" id=\"DejaVuSans-98\"/>\n     <path d=\"M 34.28125 27.484375 \nQ 23.390625 27.484375 19.1875 25 \nQ 14.984375 22.515625 14.984375 16.5 \nQ 14.984375 11.71875 18.140625 8.90625 \nQ 21.296875 6.109375 26.703125 6.109375 \nQ 34.1875 6.109375 38.703125 11.40625 \nQ 43.21875 16.703125 43.21875 25.484375 \nL 43.21875 27.484375 \nz\nM 52.203125 31.203125 \nL 52.203125 0 \nL 43.21875 0 \nL 43.21875 8.296875 \nQ 40.140625 3.328125 35.546875 0.953125 \nQ 30.953125 -1.421875 24.3125 -1.421875 \nQ 15.921875 -1.421875 10.953125 3.296875 \nQ 6 8.015625 6 15.921875 \nQ 6 25.140625 12.171875 29.828125 \nQ 18.359375 34.515625 30.609375 34.515625 \nL 43.21875 34.515625 \nL 43.21875 35.40625 \nQ 43.21875 41.609375 39.140625 45 \nQ 35.0625 48.390625 27.6875 48.390625 \nQ 23 48.390625 18.546875 47.265625 \nQ 14.109375 46.140625 10.015625 43.890625 \nL 10.015625 52.203125 \nQ 14.9375 54.109375 19.578125 55.046875 \nQ 24.21875 56 28.609375 56 \nQ 40.484375 56 46.34375 49.84375 \nQ 52.203125 43.703125 52.203125 31.203125 \nz\n\" id=\"DejaVuSans-97\"/>\n     <path d=\"M 50.984375 -16.609375 \nL 50.984375 -23.578125 \nL -0.984375 -23.578125 \nL -0.984375 -16.609375 \nz\n\" id=\"DejaVuSans-95\"/>\n     <path d=\"M 5.515625 54.6875 \nL 48.1875 54.6875 \nL 48.1875 46.484375 \nL 14.40625 7.171875 \nL 48.1875 7.171875 \nL 48.1875 0 \nL 4.296875 0 \nL 4.296875 8.203125 \nL 38.09375 47.515625 \nL 5.515625 47.515625 \nz\n\" id=\"DejaVuSans-122\"/>\n     <path d=\"M 56.203125 29.59375 \nL 56.203125 25.203125 \nL 14.890625 25.203125 \nQ 15.484375 15.921875 20.484375 11.0625 \nQ 25.484375 6.203125 34.421875 6.203125 \nQ 39.59375 6.203125 44.453125 7.46875 \nQ 49.3125 8.734375 54.109375 11.28125 \nL 54.109375 2.78125 \nQ 49.265625 0.734375 44.1875 -0.34375 \nQ 39.109375 -1.421875 33.890625 -1.421875 \nQ 20.796875 -1.421875 13.15625 6.1875 \nQ 5.515625 13.8125 5.515625 26.8125 \nQ 5.515625 40.234375 12.765625 48.109375 \nQ 20.015625 56 32.328125 56 \nQ 43.359375 56 49.78125 48.890625 \nQ 56.203125 41.796875 56.203125 29.59375 \nz\nM 47.21875 32.234375 \nQ 47.125 39.59375 43.09375 43.984375 \nQ 39.0625 48.390625 32.421875 48.390625 \nQ 24.90625 48.390625 20.390625 44.140625 \nQ 15.875 39.890625 15.1875 32.171875 \nz\n\" id=\"DejaVuSans-101\"/>\n     <path d=\"M 10.59375 45.40625 \nL 73.1875 45.40625 \nL 73.1875 37.203125 \nL 10.59375 37.203125 \nz\nM 10.59375 25.484375 \nL 73.1875 25.484375 \nL 73.1875 17.1875 \nL 10.59375 17.1875 \nz\n\" id=\"DejaVuSans-61\"/>\n     <path d=\"M 54.890625 33.015625 \nL 54.890625 0 \nL 45.90625 0 \nL 45.90625 32.71875 \nQ 45.90625 40.484375 42.875 44.328125 \nQ 39.84375 48.1875 33.796875 48.1875 \nQ 26.515625 48.1875 22.3125 43.546875 \nQ 18.109375 38.921875 18.109375 30.90625 \nL 18.109375 0 \nL 9.078125 0 \nL 9.078125 54.6875 \nL 18.109375 54.6875 \nL 18.109375 46.1875 \nQ 21.34375 51.125 25.703125 53.5625 \nQ 30.078125 56 35.796875 56 \nQ 45.21875 56 50.046875 50.171875 \nQ 54.890625 44.34375 54.890625 33.015625 \nz\n\" id=\"DejaVuSans-110\"/>\n     <path d=\"M 45.40625 46.390625 \nL 45.40625 75.984375 \nL 54.390625 75.984375 \nL 54.390625 0 \nL 45.40625 0 \nL 45.40625 8.203125 \nQ 42.578125 3.328125 38.25 0.953125 \nQ 33.9375 -1.421875 27.875 -1.421875 \nQ 17.96875 -1.421875 11.734375 6.484375 \nQ 5.515625 14.40625 5.515625 27.296875 \nQ 5.515625 40.1875 11.734375 48.09375 \nQ 17.96875 56 27.875 56 \nQ 33.9375 56 38.25 53.625 \nQ 42.578125 51.265625 45.40625 46.390625 \nz\nM 14.796875 27.296875 \nQ 14.796875 17.390625 18.875 11.75 \nQ 22.953125 6.109375 30.078125 6.109375 \nQ 37.203125 6.109375 41.296875 11.75 \nQ 45.40625 17.390625 45.40625 27.296875 \nQ 45.40625 37.203125 41.296875 42.84375 \nQ 37.203125 48.484375 30.078125 48.484375 \nQ 22.953125 48.484375 18.875 42.84375 \nQ 14.796875 37.203125 14.796875 27.296875 \nz\n\" id=\"DejaVuSans-100\"/>\n     <path d=\"M 8.5 21.578125 \nL 8.5 54.6875 \nL 17.484375 54.6875 \nL 17.484375 21.921875 \nQ 17.484375 14.15625 20.5 10.265625 \nQ 23.53125 6.390625 29.59375 6.390625 \nQ 36.859375 6.390625 41.078125 11.03125 \nQ 45.3125 15.671875 45.3125 23.6875 \nL 45.3125 54.6875 \nL 54.296875 54.6875 \nL 54.296875 0 \nL 45.3125 0 \nL 45.3125 8.40625 \nQ 42.046875 3.421875 37.71875 1 \nQ 33.40625 -1.421875 27.6875 -1.421875 \nQ 18.265625 -1.421875 13.375 4.4375 \nQ 8.5 10.296875 8.5 21.578125 \nz\nM 31.109375 56 \nz\n\" id=\"DejaVuSans-117\"/>\n    </defs>\n    <g transform=\"translate(91.113438 16.318125)scale(0.12 -0.12)\">\n     <use xlink:href=\"#DejaVuSans-76\"/>\n     <use x=\"53.962891\" xlink:href=\"#DejaVuSans-111\"/>\n     <use x=\"115.144531\" xlink:href=\"#DejaVuSans-115\"/>\n     <use x=\"167.244141\" xlink:href=\"#DejaVuSans-115\"/>\n     <use x=\"219.34375\" xlink:href=\"#DejaVuSans-32\"/>\n     <use x=\"251.130859\" xlink:href=\"#DejaVuSans-119\"/>\n     <use x=\"332.917969\" xlink:href=\"#DejaVuSans-105\"/>\n     <use x=\"360.701172\" xlink:href=\"#DejaVuSans-116\"/>\n     <use x=\"399.910156\" xlink:href=\"#DejaVuSans-104\"/>\n     <use x=\"463.289062\" xlink:href=\"#DejaVuSans-32\"/>\n     <use x=\"495.076172\" xlink:href=\"#DejaVuSans-98\"/>\n     <use x=\"558.552734\" xlink:href=\"#DejaVuSans-97\"/>\n     <use x=\"619.832031\" xlink:href=\"#DejaVuSans-116\"/>\n     <use x=\"659.041016\" xlink:href=\"#DejaVuSans-99\"/>\n     <use x=\"714.021484\" xlink:href=\"#DejaVuSans-104\"/>\n     <use x=\"777.400391\" xlink:href=\"#DejaVuSans-95\"/>\n     <use x=\"827.400391\" xlink:href=\"#DejaVuSans-115\"/>\n     <use x=\"879.5\" xlink:href=\"#DejaVuSans-105\"/>\n     <use x=\"907.283203\" xlink:href=\"#DejaVuSans-122\"/>\n     <use x=\"959.773438\" xlink:href=\"#DejaVuSans-101\"/>\n     <use x=\"1021.296875\" xlink:href=\"#DejaVuSans-32\"/>\n     <use x=\"1053.083984\" xlink:href=\"#DejaVuSans-61\"/>\n     <use x=\"1136.873047\" xlink:href=\"#DejaVuSans-32\"/>\n     <use x=\"1168.660156\" xlink:href=\"#DejaVuSans-49\"/>\n     <use x=\"1232.283203\" xlink:href=\"#DejaVuSans-54\"/>\n     <use x=\"1295.90625\" xlink:href=\"#DejaVuSans-32\"/>\n     <use x=\"1327.693359\" xlink:href=\"#DejaVuSans-97\"/>\n     <use x=\"1388.972656\" xlink:href=\"#DejaVuSans-110\"/>\n     <use x=\"1452.351562\" xlink:href=\"#DejaVuSans-100\"/>\n     <use x=\"1515.828125\" xlink:href=\"#DejaVuSans-32\"/>\n     <use x=\"1547.615234\" xlink:href=\"#DejaVuSans-110\"/>\n     <use x=\"1610.994141\" xlink:href=\"#DejaVuSans-95\"/>\n     <use x=\"1660.994141\" xlink:href=\"#DejaVuSans-117\"/>\n     <use x=\"1724.373047\" xlink:href=\"#DejaVuSans-110\"/>\n     <use x=\"1787.751953\" xlink:href=\"#DejaVuSans-105\"/>\n     <use x=\"1815.535156\" xlink:href=\"#DejaVuSans-116\"/>\n     <use x=\"1854.744141\" xlink:href=\"#DejaVuSans-115\"/>\n     <use x=\"1906.84375\" xlink:href=\"#DejaVuSans-61\"/>\n     <use x=\"1990.632812\" xlink:href=\"#DejaVuSans-53\"/>\n    </g>\n   </g>\n   <g id=\"legend_1\">\n    <g id=\"patch_7\">\n     <path d=\"M 318.778125 59.674375 \nL 374.765625 59.674375 \nQ 376.765625 59.674375 376.765625 57.674375 \nL 376.765625 29.318125 \nQ 376.765625 27.318125 374.765625 27.318125 \nL 318.778125 27.318125 \nQ 316.778125 27.318125 316.778125 29.318125 \nL 316.778125 57.674375 \nQ 316.778125 59.674375 318.778125 59.674375 \nz\n\" style=\"fill:#ffffff;opacity:0.8;stroke:#cccccc;stroke-linejoin:miter;\"/>\n    </g>\n    <g id=\"line2d_27\">\n     <path d=\"M 320.778125 35.416562 \nL 340.778125 35.416562 \n\" style=\"fill:none;stroke:#1f77b4;stroke-linecap:square;stroke-width:1.5;\"/>\n    </g>\n    <g id=\"line2d_28\">\n     <g>\n      <use style=\"fill:#1f77b4;stroke:#1f77b4;\" x=\"330.778125\" xlink:href=\"#me25204af68\" y=\"35.416562\"/>\n     </g>\n    </g>\n    <g id=\"text_16\">\n     <!-- Train -->\n     <defs>\n      <path d=\"M -0.296875 72.90625 \nL 61.375 72.90625 \nL 61.375 64.59375 \nL 35.5 64.59375 \nL 35.5 0 \nL 25.59375 0 \nL 25.59375 64.59375 \nL -0.296875 64.59375 \nz\n\" id=\"DejaVuSans-84\"/>\n      <path d=\"M 41.109375 46.296875 \nQ 39.59375 47.171875 37.8125 47.578125 \nQ 36.03125 48 33.890625 48 \nQ 26.265625 48 22.1875 43.046875 \nQ 18.109375 38.09375 18.109375 28.8125 \nL 18.109375 0 \nL 9.078125 0 \nL 9.078125 54.6875 \nL 18.109375 54.6875 \nL 18.109375 46.1875 \nQ 20.953125 51.171875 25.484375 53.578125 \nQ 30.03125 56 36.53125 56 \nQ 37.453125 56 38.578125 55.875 \nQ 39.703125 55.765625 41.0625 55.515625 \nz\n\" id=\"DejaVuSans-114\"/>\n     </defs>\n     <g transform=\"translate(348.778125 38.916562)scale(0.1 -0.1)\">\n      <use xlink:href=\"#DejaVuSans-84\"/>\n      <use x=\"46.333984\" xlink:href=\"#DejaVuSans-114\"/>\n      <use x=\"87.447266\" xlink:href=\"#DejaVuSans-97\"/>\n      <use x=\"148.726562\" xlink:href=\"#DejaVuSans-105\"/>\n      <use x=\"176.509766\" xlink:href=\"#DejaVuSans-110\"/>\n     </g>\n    </g>\n    <g id=\"line2d_29\">\n     <path d=\"M 320.778125 50.094687 \nL 340.778125 50.094687 \n\" style=\"fill:none;stroke:#ff7f0e;stroke-linecap:square;stroke-width:1.5;\"/>\n    </g>\n    <g id=\"line2d_30\">\n     <g>\n      <use style=\"fill:#ff7f0e;stroke:#ff7f0e;\" x=\"330.778125\" xlink:href=\"#m250e7fad1e\" y=\"50.094687\"/>\n     </g>\n    </g>\n    <g id=\"text_17\">\n     <!-- Test -->\n     <g transform=\"translate(348.778125 53.594687)scale(0.1 -0.1)\">\n      <use xlink:href=\"#DejaVuSans-84\"/>\n      <use x=\"44.083984\" xlink:href=\"#DejaVuSans-101\"/>\n      <use x=\"105.607422\" xlink:href=\"#DejaVuSans-115\"/>\n      <use x=\"157.707031\" xlink:href=\"#DejaVuSans-116\"/>\n     </g>\n    </g>\n   </g>\n  </g>\n </g>\n <defs>\n  <clipPath id=\"p48c76d32ec\">\n   <rect height=\"217.44\" width=\"334.8\" x=\"46.965625\" y=\"22.318125\"/>\n  </clipPath>\n </defs>\n</svg>\n"
          },
          "metadata": {
            "needs_background": "light"
          }
        }
      ]
    },
    {
      "cell_type": "markdown",
      "source": [
        "**Se concluye utilizar un tamaño de lote `batch_size=8` y un número de neuronas en la caca oculta `n_neurons=5` para el resto de los experimentos, dado que se tiene una pérdida menor en el conjunto de prueba.**"
      ],
      "metadata": {
        "id": "iTwMgxT8qS-m"
      }
    },
    {
      "cell_type": "markdown",
      "source": [
        "## 5.4 Variación de L2"
      ],
      "metadata": {
        "id": "ZOTMD5ddeyzE"
      }
    },
    {
      "cell_type": "markdown",
      "source": [
        "A continuación se realiza un experimento la constante $\\lambda$ para la regularización L2 `l2lambdas = [0,0.02,0.04,0.06,0.08,0.1]` del modelo base. Para cada experimento se guardan las exactitudes y pérdidas de los conjuntos de entrenamiento y prueba en función de las épocas."
      ],
      "metadata": {
        "id": "dBTHetqTrHHS"
      }
    },
    {
      "cell_type": "code",
      "source": [
        "# generar una lista con los tamaños de lote y neuronas en la capa oculta a iterar\n",
        "l2lambdas = np.linspace(0,0.1,6)\n",
        "\n",
        "# inicializar listas para guardar los resultados de perdida, accuracy y tiempo de ejecucion\n",
        "losses_by_l2 = []\n",
        "time_per_l2 = []\n",
        "\n",
        "# iterar sobre el tamaño de lote\n",
        "for i in trange(len(l2lambdas)):\n",
        "  # obtener optimizador y lr\n",
        "  l2lambda = l2lambdas[i]\n",
        "\n",
        "  # inicializar tiempo\n",
        "  start = time.time()\n",
        "  # entrenar modelo\n",
        "  loss_hist_l2, _ = train_model(LinRegMed, train_data, test_data, \n",
        "                                    lr=0.005, epochs=50,\n",
        "                                    batch_size=8,\n",
        "                                    n_neurons=5,\n",
        "                                    opt='Adam',\n",
        "                                    L2lambda=l2lambda,\n",
        "                                    progress=False)\n",
        "  \n",
        "  # calcular tiempo de ejecucion y actualizar lista\n",
        "  execution_time = time.time() - start # en segundos\n",
        "  time_per_l2.append(execution_time)\n",
        "\n",
        "  # obtener las perdidas por funcion de activacion\n",
        "  train_loss_l2, test_loss_l2 = zip(*loss_hist_l2)\n",
        "  losses_by_l2.append([train_loss_l2,test_loss_l2])"
      ],
      "metadata": {
        "colab": {
          "base_uri": "https://localhost:8080/",
          "height": 0,
          "referenced_widgets": [
            "424e8df749db47779525ac86f2fbc918",
            "0bbdebc1bf104411bf28db0d09a8ed9b",
            "02a19497a6d94eaa9a54e8875b69dcf7",
            "c6ef38d9dde248b195650afbf96fbd81",
            "cfaefc07df1348f8b8c93eca7ab35558",
            "228ec1cfb34f47b394b3341c946f3e42",
            "c246ac4268cf46299d6e5166b17c0470",
            "b514e89ab3504409b0c5c7e24acec204",
            "91cbc0b8c2ea42b7997fcc1b33fce7e4",
            "fe72c50fedc44ffabaf678ea45b41094",
            "9a980fe2ca244c1c812b9dc3c645223d"
          ]
        },
        "id": "ZD5OsJ0Feyw-",
        "outputId": "e2a68063-1f41-43ea-e749-b99adce71708"
      },
      "execution_count": 23,
      "outputs": [
        {
          "output_type": "display_data",
          "data": {
            "text/plain": [
              "  0%|          | 0/6 [00:00<?, ?it/s]"
            ],
            "application/vnd.jupyter.widget-view+json": {
              "version_major": 2,
              "version_minor": 0,
              "model_id": "424e8df749db47779525ac86f2fbc918"
            }
          },
          "metadata": {}
        }
      ]
    },
    {
      "cell_type": "markdown",
      "source": [
        "A continuación se imprimen las pérdidas promedio en las últimas 5 épocas para ambos conjuntos en función de $\\lambda$:\n",
        "\n",
        "* Para $\\lambda\\geq0.04$ se observa una disminución en la pérdida en el conjunto de entrenamiento, pero un aumento de la misma en el conjunto de prueba.\n",
        "* No se observa una mejora significativa al modificar el parámetro $\\lambda$ para la regularización L2."
      ],
      "metadata": {
        "id": "ua_3BWMysVTa"
      }
    },
    {
      "cell_type": "code",
      "source": [
        "for i in range(len(losses_by_l2)):\n",
        "  avg_loss_train = np.mean(losses_by_l2[i][0][-5:])\n",
        "  print(f'Pérdida promedio del conjunto de entrenamiento para L2lamda = {l2lambdas[i]} es de{avg_loss_train:6.2f}')"
      ],
      "metadata": {
        "colab": {
          "base_uri": "https://localhost:8080/"
        },
        "id": "GvlUsSp-4H3l",
        "outputId": "a6d2bb69-f610-4e7e-d0b5-d5b337de35f6"
      },
      "execution_count": 24,
      "outputs": [
        {
          "output_type": "stream",
          "name": "stdout",
          "text": [
            "Pérdida promedio del conjunto de entrenamiento para L2lamda = 0.0 es de 14.92\n",
            "Pérdida promedio del conjunto de entrenamiento para L2lamda = 0.02 es de 14.91\n",
            "Pérdida promedio del conjunto de entrenamiento para L2lamda = 0.04 es de 14.81\n",
            "Pérdida promedio del conjunto de entrenamiento para L2lamda = 0.06 es de 14.82\n",
            "Pérdida promedio del conjunto de entrenamiento para L2lamda = 0.08 es de 14.86\n",
            "Pérdida promedio del conjunto de entrenamiento para L2lamda = 0.1 es de 14.87\n"
          ]
        }
      ]
    },
    {
      "cell_type": "code",
      "source": [
        "for i in range(len(losses_by_l2)):\n",
        "  avg_loss_test = np.mean(losses_by_l2[i][1][-5:])\n",
        "  print(f'Pérdida promedio del conjunto de prueba para L2lamda = {l2lambdas[i]} es de{avg_loss_test:6.2f}')"
      ],
      "metadata": {
        "colab": {
          "base_uri": "https://localhost:8080/"
        },
        "id": "wAulLM6M49rr",
        "outputId": "959a3294-be5b-45c5-b1d4-4cb6caa99197"
      },
      "execution_count": 25,
      "outputs": [
        {
          "output_type": "stream",
          "name": "stdout",
          "text": [
            "Pérdida promedio del conjunto de prueba para L2lamda = 0.0 es de 30.94\n",
            "Pérdida promedio del conjunto de prueba para L2lamda = 0.02 es de 30.93\n",
            "Pérdida promedio del conjunto de prueba para L2lamda = 0.04 es de 32.18\n",
            "Pérdida promedio del conjunto de prueba para L2lamda = 0.06 es de 31.71\n",
            "Pérdida promedio del conjunto de prueba para L2lamda = 0.08 es de 31.41\n",
            "Pérdida promedio del conjunto de prueba para L2lamda = 0.1 es de 31.28\n"
          ]
        }
      ]
    },
    {
      "cell_type": "markdown",
      "source": [
        "**Se concluye usar $\\lambda=0$ dado que no se observa una diferencia significativa en las pérdidas, y así no se incrementa complejidad al modelo**"
      ],
      "metadata": {
        "id": "z8R08tinu9YU"
      }
    },
    {
      "cell_type": "markdown",
      "source": [
        "# 6 Arquitectura final"
      ],
      "metadata": {
        "id": "L1vsTzHPvL2g"
      }
    },
    {
      "cell_type": "markdown",
      "source": [
        "La conclusión de todos los experimentos realizados es utilizar una arquitectura:\n",
        "1. Una capa de entrada con 2 neuronas \n",
        "2. Una capa oculta con 5 neuronas\n",
        "3. Una capa de salida\n",
        "4. Utilizar ReLU como función de activación\n",
        "5. Utilizar Adam como optimizador\n",
        "6. Utilizar una tasa de aprendizaje de 0.005\n",
        "7. Utilizar un tamaño de lote de 8\n",
        "8. Entrenar por 50 épocas"
      ],
      "metadata": {
        "id": "ZILhVOCIvay6"
      }
    },
    {
      "cell_type": "markdown",
      "source": [
        "## 6.1 Entrenamiento"
      ],
      "metadata": {
        "id": "LQNRTPyBvn_U"
      }
    },
    {
      "cell_type": "code",
      "source": [
        "loss_hist, model_f = train_model(LinRegMed, train_data, test_data, \n",
        "                                 lr=0.005, epochs=50,batch_size=8,\n",
        "                                 n_neurons=5,L2lambda=0.0,opt='Adam',\n",
        "                                 progress=True,verbose_summary=True)"
      ],
      "metadata": {
        "colab": {
          "base_uri": "https://localhost:8080/",
          "height": 0,
          "referenced_widgets": [
            "a46da3d8709e4154af2d37c681046cf4",
            "7ca9e87c91ad43f6ab45846a75305c89",
            "e27a8489cc434f3daa10df58bab2dea0",
            "be5a7e7804464fa691a4f9a54f68bd27",
            "3b91ac5e6d384904b33264d8251f54f7",
            "0ce3cd57d4f44deab27cb266c4441cb7",
            "c9c3fe2eb1504f9788e5b71f2404b478",
            "9e37c84deeab441abe883022d90f697c",
            "fb1a69d7e1d24d4293d5e27b2e7b3773",
            "e5b4c75590214815a92c064baad1346d",
            "8aab138dd2b84affbc978ad659a5423c"
          ]
        },
        "id": "lpGdmIHEr7H0",
        "outputId": "97aa6595-8156-4c9f-ec81-23c4945f7375"
      },
      "execution_count": 26,
      "outputs": [
        {
          "output_type": "stream",
          "name": "stdout",
          "text": [
            "FCN(\n",
            "  (layers): ModuleDict(\n",
            "    (input): Linear(in_features=2, out_features=5, bias=True)\n",
            "    (hidden0): Linear(in_features=5, out_features=5, bias=True)\n",
            "    (output): Linear(in_features=5, out_features=1, bias=True)\n",
            "  )\n",
            ")\n"
          ]
        },
        {
          "output_type": "display_data",
          "data": {
            "text/plain": [
              "  0%|          | 0/50 [00:00<?, ?it/s]"
            ],
            "application/vnd.jupyter.widget-view+json": {
              "version_major": 2,
              "version_minor": 0,
              "model_id": "a46da3d8709e4154af2d37c681046cf4"
            }
          },
          "metadata": {}
        },
        {
          "output_type": "stream",
          "name": "stdout",
          "text": [
            "E00 loss=[3685.88,4369.76]\n",
            "E01 loss=[3311.47,3266.54]\n",
            "E02 loss=[2905.48,3342.47]\n",
            "E03 loss=[2466.76,2724.15]\n",
            "E04 loss=[2001.17,2348.41]\n",
            "E05 loss=[1531.23,1683.51]\n",
            "E06 loss=[1074.64,1113.88]\n",
            "E07 loss=[666.12,570.34]\n",
            "E08 loss=[342.39,366.96]\n",
            "E09 loss=[129.39,205.50]\n",
            "E10 loss=[ 31.29, 65.04]\n",
            "E11 loss=[ 15.99, 59.03]\n",
            "E12 loss=[ 31.45, 56.88]\n",
            "E13 loss=[ 39.28, 41.38]\n",
            "E14 loss=[ 33.33, 61.44]\n",
            "E15 loss=[ 22.46, 43.08]\n",
            "E16 loss=[ 16.10, 31.71]\n",
            "E17 loss=[ 14.92, 25.34]\n",
            "E18 loss=[ 15.67, 34.82]\n",
            "E19 loss=[ 16.09, 32.22]\n",
            "E20 loss=[ 15.77, 27.62]\n",
            "E21 loss=[ 15.24, 36.43]\n",
            "E22 loss=[ 14.94, 37.76]\n",
            "E23 loss=[ 14.91, 23.37]\n",
            "E24 loss=[ 14.97, 45.99]\n",
            "E25 loss=[ 14.97, 30.68]\n",
            "E26 loss=[ 14.94, 34.33]\n",
            "E27 loss=[ 14.93, 35.32]\n",
            "E28 loss=[ 14.91, 34.26]\n",
            "E29 loss=[ 14.91, 28.20]\n",
            "E30 loss=[ 14.91, 32.12]\n",
            "E31 loss=[ 14.91, 42.64]\n",
            "E32 loss=[ 14.91, 34.12]\n",
            "E33 loss=[ 14.91, 25.08]\n",
            "E34 loss=[ 14.90, 37.79]\n",
            "E35 loss=[ 14.90, 27.98]\n",
            "E36 loss=[ 14.91, 25.28]\n",
            "E37 loss=[ 14.90, 31.33]\n",
            "E38 loss=[ 14.91, 36.42]\n",
            "E39 loss=[ 14.90, 32.96]\n",
            "E40 loss=[ 14.91, 30.13]\n",
            "E41 loss=[ 14.90, 37.78]\n",
            "E42 loss=[ 14.90, 40.95]\n",
            "E43 loss=[ 14.91, 34.85]\n",
            "E44 loss=[ 14.92, 39.38]\n",
            "E45 loss=[ 14.92, 36.13]\n",
            "E46 loss=[ 14.94, 34.17]\n",
            "E47 loss=[ 14.91, 35.47]\n",
            "E48 loss=[ 14.90, 25.33]\n",
            "E49 loss=[ 14.91, 23.61]\n"
          ]
        }
      ]
    },
    {
      "cell_type": "markdown",
      "source": [
        "## 6.2 Visualización de resultados"
      ],
      "metadata": {
        "id": "oRrWkgdvwmBy"
      }
    },
    {
      "cell_type": "code",
      "source": [
        "train_loss, test_loss = zip(*loss_hist)\n",
        "\n",
        "plt.plot(train_loss,label='Train',marker=MARKER,markersize=MARKER_SIZE)\n",
        "plt.plot(test_loss,label='Test',marker=MARKER,markersize=MARKER_SIZE)\n",
        "plt.ylim([0,100])\n",
        "plt.xlabel('Epochs')\n",
        "plt.ylabel('Loss')\n",
        "plt.title('Model loss')\n",
        "plt.grid()\n",
        "plt.show()"
      ],
      "metadata": {
        "colab": {
          "base_uri": "https://localhost:8080/",
          "height": 391
        },
        "id": "anftTLsRxI-_",
        "outputId": "54b08fd4-66e0-4d38-c92d-59ff9fb60e7e"
      },
      "execution_count": 27,
      "outputs": [
        {
          "output_type": "display_data",
          "data": {
            "text/plain": [
              "<Figure size 432x288 with 1 Axes>"
            ],
            "image/svg+xml": "<?xml version=\"1.0\" encoding=\"utf-8\" standalone=\"no\"?>\n<!DOCTYPE svg PUBLIC \"-//W3C//DTD SVG 1.1//EN\"\n  \"http://www.w3.org/Graphics/SVG/1.1/DTD/svg11.dtd\">\n<!-- Created with matplotlib (https://matplotlib.org/) -->\n<svg height=\"277.314375pt\" version=\"1.1\" viewBox=\"0 0 388.965625 277.314375\" width=\"388.965625pt\" xmlns=\"http://www.w3.org/2000/svg\" xmlns:xlink=\"http://www.w3.org/1999/xlink\">\n <defs>\n  <style type=\"text/css\">\n*{stroke-linecap:butt;stroke-linejoin:round;}\n  </style>\n </defs>\n <g id=\"figure_1\">\n  <g id=\"patch_1\">\n   <path d=\"M -0 277.314375 \nL 388.965625 277.314375 \nL 388.965625 0 \nL -0 0 \nz\n\" style=\"fill:none;\"/>\n  </g>\n  <g id=\"axes_1\">\n   <g id=\"patch_2\">\n    <path d=\"M 46.965625 239.758125 \nL 381.765625 239.758125 \nL 381.765625 22.318125 \nL 46.965625 22.318125 \nz\n\" style=\"fill:#ffffff;\"/>\n   </g>\n   <g id=\"matplotlib.axis_1\">\n    <g id=\"xtick_1\">\n     <g id=\"line2d_1\">\n      <path clip-path=\"url(#p28497cf534)\" d=\"M 62.183807 239.758125 \nL 62.183807 22.318125 \n\" style=\"fill:none;stroke:#b0b0b0;stroke-linecap:square;stroke-width:0.8;\"/>\n     </g>\n     <g id=\"line2d_2\">\n      <defs>\n       <path d=\"M 0 0 \nL 0 3.5 \n\" id=\"m1da7ad83a2\" style=\"stroke:#000000;stroke-width:0.8;\"/>\n      </defs>\n      <g>\n       <use style=\"stroke:#000000;stroke-width:0.8;\" x=\"62.183807\" xlink:href=\"#m1da7ad83a2\" y=\"239.758125\"/>\n      </g>\n     </g>\n     <g id=\"text_1\">\n      <!-- 0 -->\n      <defs>\n       <path d=\"M 31.78125 66.40625 \nQ 24.171875 66.40625 20.328125 58.90625 \nQ 16.5 51.421875 16.5 36.375 \nQ 16.5 21.390625 20.328125 13.890625 \nQ 24.171875 6.390625 31.78125 6.390625 \nQ 39.453125 6.390625 43.28125 13.890625 \nQ 47.125 21.390625 47.125 36.375 \nQ 47.125 51.421875 43.28125 58.90625 \nQ 39.453125 66.40625 31.78125 66.40625 \nz\nM 31.78125 74.21875 \nQ 44.046875 74.21875 50.515625 64.515625 \nQ 56.984375 54.828125 56.984375 36.375 \nQ 56.984375 17.96875 50.515625 8.265625 \nQ 44.046875 -1.421875 31.78125 -1.421875 \nQ 19.53125 -1.421875 13.0625 8.265625 \nQ 6.59375 17.96875 6.59375 36.375 \nQ 6.59375 54.828125 13.0625 64.515625 \nQ 19.53125 74.21875 31.78125 74.21875 \nz\n\" id=\"DejaVuSans-48\"/>\n      </defs>\n      <g transform=\"translate(59.002557 254.356562)scale(0.1 -0.1)\">\n       <use xlink:href=\"#DejaVuSans-48\"/>\n      </g>\n     </g>\n    </g>\n    <g id=\"xtick_2\">\n     <g id=\"line2d_3\">\n      <path clip-path=\"url(#p28497cf534)\" d=\"M 124.298835 239.758125 \nL 124.298835 22.318125 \n\" style=\"fill:none;stroke:#b0b0b0;stroke-linecap:square;stroke-width:0.8;\"/>\n     </g>\n     <g id=\"line2d_4\">\n      <g>\n       <use style=\"stroke:#000000;stroke-width:0.8;\" x=\"124.298835\" xlink:href=\"#m1da7ad83a2\" y=\"239.758125\"/>\n      </g>\n     </g>\n     <g id=\"text_2\">\n      <!-- 10 -->\n      <defs>\n       <path d=\"M 12.40625 8.296875 \nL 28.515625 8.296875 \nL 28.515625 63.921875 \nL 10.984375 60.40625 \nL 10.984375 69.390625 \nL 28.421875 72.90625 \nL 38.28125 72.90625 \nL 38.28125 8.296875 \nL 54.390625 8.296875 \nL 54.390625 0 \nL 12.40625 0 \nz\n\" id=\"DejaVuSans-49\"/>\n      </defs>\n      <g transform=\"translate(117.936335 254.356562)scale(0.1 -0.1)\">\n       <use xlink:href=\"#DejaVuSans-49\"/>\n       <use x=\"63.623047\" xlink:href=\"#DejaVuSans-48\"/>\n      </g>\n     </g>\n    </g>\n    <g id=\"xtick_3\">\n     <g id=\"line2d_5\">\n      <path clip-path=\"url(#p28497cf534)\" d=\"M 186.413862 239.758125 \nL 186.413862 22.318125 \n\" style=\"fill:none;stroke:#b0b0b0;stroke-linecap:square;stroke-width:0.8;\"/>\n     </g>\n     <g id=\"line2d_6\">\n      <g>\n       <use style=\"stroke:#000000;stroke-width:0.8;\" x=\"186.413862\" xlink:href=\"#m1da7ad83a2\" y=\"239.758125\"/>\n      </g>\n     </g>\n     <g id=\"text_3\">\n      <!-- 20 -->\n      <defs>\n       <path d=\"M 19.1875 8.296875 \nL 53.609375 8.296875 \nL 53.609375 0 \nL 7.328125 0 \nL 7.328125 8.296875 \nQ 12.9375 14.109375 22.625 23.890625 \nQ 32.328125 33.6875 34.8125 36.53125 \nQ 39.546875 41.84375 41.421875 45.53125 \nQ 43.3125 49.21875 43.3125 52.78125 \nQ 43.3125 58.59375 39.234375 62.25 \nQ 35.15625 65.921875 28.609375 65.921875 \nQ 23.96875 65.921875 18.8125 64.3125 \nQ 13.671875 62.703125 7.8125 59.421875 \nL 7.8125 69.390625 \nQ 13.765625 71.78125 18.9375 73 \nQ 24.125 74.21875 28.421875 74.21875 \nQ 39.75 74.21875 46.484375 68.546875 \nQ 53.21875 62.890625 53.21875 53.421875 \nQ 53.21875 48.921875 51.53125 44.890625 \nQ 49.859375 40.875 45.40625 35.40625 \nQ 44.1875 33.984375 37.640625 27.21875 \nQ 31.109375 20.453125 19.1875 8.296875 \nz\n\" id=\"DejaVuSans-50\"/>\n      </defs>\n      <g transform=\"translate(180.051362 254.356562)scale(0.1 -0.1)\">\n       <use xlink:href=\"#DejaVuSans-50\"/>\n       <use x=\"63.623047\" xlink:href=\"#DejaVuSans-48\"/>\n      </g>\n     </g>\n    </g>\n    <g id=\"xtick_4\">\n     <g id=\"line2d_7\">\n      <path clip-path=\"url(#p28497cf534)\" d=\"M 248.52889 239.758125 \nL 248.52889 22.318125 \n\" style=\"fill:none;stroke:#b0b0b0;stroke-linecap:square;stroke-width:0.8;\"/>\n     </g>\n     <g id=\"line2d_8\">\n      <g>\n       <use style=\"stroke:#000000;stroke-width:0.8;\" x=\"248.52889\" xlink:href=\"#m1da7ad83a2\" y=\"239.758125\"/>\n      </g>\n     </g>\n     <g id=\"text_4\">\n      <!-- 30 -->\n      <defs>\n       <path d=\"M 40.578125 39.3125 \nQ 47.65625 37.796875 51.625 33 \nQ 55.609375 28.21875 55.609375 21.1875 \nQ 55.609375 10.40625 48.1875 4.484375 \nQ 40.765625 -1.421875 27.09375 -1.421875 \nQ 22.515625 -1.421875 17.65625 -0.515625 \nQ 12.796875 0.390625 7.625 2.203125 \nL 7.625 11.71875 \nQ 11.71875 9.328125 16.59375 8.109375 \nQ 21.484375 6.890625 26.8125 6.890625 \nQ 36.078125 6.890625 40.9375 10.546875 \nQ 45.796875 14.203125 45.796875 21.1875 \nQ 45.796875 27.640625 41.28125 31.265625 \nQ 36.765625 34.90625 28.71875 34.90625 \nL 20.21875 34.90625 \nL 20.21875 43.015625 \nL 29.109375 43.015625 \nQ 36.375 43.015625 40.234375 45.921875 \nQ 44.09375 48.828125 44.09375 54.296875 \nQ 44.09375 59.90625 40.109375 62.90625 \nQ 36.140625 65.921875 28.71875 65.921875 \nQ 24.65625 65.921875 20.015625 65.03125 \nQ 15.375 64.15625 9.8125 62.3125 \nL 9.8125 71.09375 \nQ 15.4375 72.65625 20.34375 73.4375 \nQ 25.25 74.21875 29.59375 74.21875 \nQ 40.828125 74.21875 47.359375 69.109375 \nQ 53.90625 64.015625 53.90625 55.328125 \nQ 53.90625 49.265625 50.4375 45.09375 \nQ 46.96875 40.921875 40.578125 39.3125 \nz\n\" id=\"DejaVuSans-51\"/>\n      </defs>\n      <g transform=\"translate(242.16639 254.356562)scale(0.1 -0.1)\">\n       <use xlink:href=\"#DejaVuSans-51\"/>\n       <use x=\"63.623047\" xlink:href=\"#DejaVuSans-48\"/>\n      </g>\n     </g>\n    </g>\n    <g id=\"xtick_5\">\n     <g id=\"line2d_9\">\n      <path clip-path=\"url(#p28497cf534)\" d=\"M 310.643918 239.758125 \nL 310.643918 22.318125 \n\" style=\"fill:none;stroke:#b0b0b0;stroke-linecap:square;stroke-width:0.8;\"/>\n     </g>\n     <g id=\"line2d_10\">\n      <g>\n       <use style=\"stroke:#000000;stroke-width:0.8;\" x=\"310.643918\" xlink:href=\"#m1da7ad83a2\" y=\"239.758125\"/>\n      </g>\n     </g>\n     <g id=\"text_5\">\n      <!-- 40 -->\n      <defs>\n       <path d=\"M 37.796875 64.3125 \nL 12.890625 25.390625 \nL 37.796875 25.390625 \nz\nM 35.203125 72.90625 \nL 47.609375 72.90625 \nL 47.609375 25.390625 \nL 58.015625 25.390625 \nL 58.015625 17.1875 \nL 47.609375 17.1875 \nL 47.609375 0 \nL 37.796875 0 \nL 37.796875 17.1875 \nL 4.890625 17.1875 \nL 4.890625 26.703125 \nz\n\" id=\"DejaVuSans-52\"/>\n      </defs>\n      <g transform=\"translate(304.281418 254.356562)scale(0.1 -0.1)\">\n       <use xlink:href=\"#DejaVuSans-52\"/>\n       <use x=\"63.623047\" xlink:href=\"#DejaVuSans-48\"/>\n      </g>\n     </g>\n    </g>\n    <g id=\"xtick_6\">\n     <g id=\"line2d_11\">\n      <path clip-path=\"url(#p28497cf534)\" d=\"M 372.758946 239.758125 \nL 372.758946 22.318125 \n\" style=\"fill:none;stroke:#b0b0b0;stroke-linecap:square;stroke-width:0.8;\"/>\n     </g>\n     <g id=\"line2d_12\">\n      <g>\n       <use style=\"stroke:#000000;stroke-width:0.8;\" x=\"372.758946\" xlink:href=\"#m1da7ad83a2\" y=\"239.758125\"/>\n      </g>\n     </g>\n     <g id=\"text_6\">\n      <!-- 50 -->\n      <defs>\n       <path d=\"M 10.796875 72.90625 \nL 49.515625 72.90625 \nL 49.515625 64.59375 \nL 19.828125 64.59375 \nL 19.828125 46.734375 \nQ 21.96875 47.46875 24.109375 47.828125 \nQ 26.265625 48.1875 28.421875 48.1875 \nQ 40.625 48.1875 47.75 41.5 \nQ 54.890625 34.8125 54.890625 23.390625 \nQ 54.890625 11.625 47.5625 5.09375 \nQ 40.234375 -1.421875 26.90625 -1.421875 \nQ 22.3125 -1.421875 17.546875 -0.640625 \nQ 12.796875 0.140625 7.71875 1.703125 \nL 7.71875 11.625 \nQ 12.109375 9.234375 16.796875 8.0625 \nQ 21.484375 6.890625 26.703125 6.890625 \nQ 35.15625 6.890625 40.078125 11.328125 \nQ 45.015625 15.765625 45.015625 23.390625 \nQ 45.015625 31 40.078125 35.4375 \nQ 35.15625 39.890625 26.703125 39.890625 \nQ 22.75 39.890625 18.8125 39.015625 \nQ 14.890625 38.140625 10.796875 36.28125 \nz\n\" id=\"DejaVuSans-53\"/>\n      </defs>\n      <g transform=\"translate(366.396446 254.356562)scale(0.1 -0.1)\">\n       <use xlink:href=\"#DejaVuSans-53\"/>\n       <use x=\"63.623047\" xlink:href=\"#DejaVuSans-48\"/>\n      </g>\n     </g>\n    </g>\n    <g id=\"text_7\">\n     <!-- Epochs -->\n     <defs>\n      <path d=\"M 9.8125 72.90625 \nL 55.90625 72.90625 \nL 55.90625 64.59375 \nL 19.671875 64.59375 \nL 19.671875 43.015625 \nL 54.390625 43.015625 \nL 54.390625 34.71875 \nL 19.671875 34.71875 \nL 19.671875 8.296875 \nL 56.78125 8.296875 \nL 56.78125 0 \nL 9.8125 0 \nz\n\" id=\"DejaVuSans-69\"/>\n      <path d=\"M 18.109375 8.203125 \nL 18.109375 -20.796875 \nL 9.078125 -20.796875 \nL 9.078125 54.6875 \nL 18.109375 54.6875 \nL 18.109375 46.390625 \nQ 20.953125 51.265625 25.265625 53.625 \nQ 29.59375 56 35.59375 56 \nQ 45.5625 56 51.78125 48.09375 \nQ 58.015625 40.1875 58.015625 27.296875 \nQ 58.015625 14.40625 51.78125 6.484375 \nQ 45.5625 -1.421875 35.59375 -1.421875 \nQ 29.59375 -1.421875 25.265625 0.953125 \nQ 20.953125 3.328125 18.109375 8.203125 \nz\nM 48.6875 27.296875 \nQ 48.6875 37.203125 44.609375 42.84375 \nQ 40.53125 48.484375 33.40625 48.484375 \nQ 26.265625 48.484375 22.1875 42.84375 \nQ 18.109375 37.203125 18.109375 27.296875 \nQ 18.109375 17.390625 22.1875 11.75 \nQ 26.265625 6.109375 33.40625 6.109375 \nQ 40.53125 6.109375 44.609375 11.75 \nQ 48.6875 17.390625 48.6875 27.296875 \nz\n\" id=\"DejaVuSans-112\"/>\n      <path d=\"M 30.609375 48.390625 \nQ 23.390625 48.390625 19.1875 42.75 \nQ 14.984375 37.109375 14.984375 27.296875 \nQ 14.984375 17.484375 19.15625 11.84375 \nQ 23.34375 6.203125 30.609375 6.203125 \nQ 37.796875 6.203125 41.984375 11.859375 \nQ 46.1875 17.53125 46.1875 27.296875 \nQ 46.1875 37.015625 41.984375 42.703125 \nQ 37.796875 48.390625 30.609375 48.390625 \nz\nM 30.609375 56 \nQ 42.328125 56 49.015625 48.375 \nQ 55.71875 40.765625 55.71875 27.296875 \nQ 55.71875 13.875 49.015625 6.21875 \nQ 42.328125 -1.421875 30.609375 -1.421875 \nQ 18.84375 -1.421875 12.171875 6.21875 \nQ 5.515625 13.875 5.515625 27.296875 \nQ 5.515625 40.765625 12.171875 48.375 \nQ 18.84375 56 30.609375 56 \nz\n\" id=\"DejaVuSans-111\"/>\n      <path d=\"M 48.78125 52.59375 \nL 48.78125 44.1875 \nQ 44.96875 46.296875 41.140625 47.34375 \nQ 37.3125 48.390625 33.40625 48.390625 \nQ 24.65625 48.390625 19.8125 42.84375 \nQ 14.984375 37.3125 14.984375 27.296875 \nQ 14.984375 17.28125 19.8125 11.734375 \nQ 24.65625 6.203125 33.40625 6.203125 \nQ 37.3125 6.203125 41.140625 7.25 \nQ 44.96875 8.296875 48.78125 10.40625 \nL 48.78125 2.09375 \nQ 45.015625 0.34375 40.984375 -0.53125 \nQ 36.96875 -1.421875 32.421875 -1.421875 \nQ 20.0625 -1.421875 12.78125 6.34375 \nQ 5.515625 14.109375 5.515625 27.296875 \nQ 5.515625 40.671875 12.859375 48.328125 \nQ 20.21875 56 33.015625 56 \nQ 37.15625 56 41.109375 55.140625 \nQ 45.0625 54.296875 48.78125 52.59375 \nz\n\" id=\"DejaVuSans-99\"/>\n      <path d=\"M 54.890625 33.015625 \nL 54.890625 0 \nL 45.90625 0 \nL 45.90625 32.71875 \nQ 45.90625 40.484375 42.875 44.328125 \nQ 39.84375 48.1875 33.796875 48.1875 \nQ 26.515625 48.1875 22.3125 43.546875 \nQ 18.109375 38.921875 18.109375 30.90625 \nL 18.109375 0 \nL 9.078125 0 \nL 9.078125 75.984375 \nL 18.109375 75.984375 \nL 18.109375 46.1875 \nQ 21.34375 51.125 25.703125 53.5625 \nQ 30.078125 56 35.796875 56 \nQ 45.21875 56 50.046875 50.171875 \nQ 54.890625 44.34375 54.890625 33.015625 \nz\n\" id=\"DejaVuSans-104\"/>\n      <path d=\"M 44.28125 53.078125 \nL 44.28125 44.578125 \nQ 40.484375 46.53125 36.375 47.5 \nQ 32.28125 48.484375 27.875 48.484375 \nQ 21.1875 48.484375 17.84375 46.4375 \nQ 14.5 44.390625 14.5 40.28125 \nQ 14.5 37.15625 16.890625 35.375 \nQ 19.28125 33.59375 26.515625 31.984375 \nL 29.59375 31.296875 \nQ 39.15625 29.25 43.1875 25.515625 \nQ 47.21875 21.78125 47.21875 15.09375 \nQ 47.21875 7.46875 41.1875 3.015625 \nQ 35.15625 -1.421875 24.609375 -1.421875 \nQ 20.21875 -1.421875 15.453125 -0.5625 \nQ 10.6875 0.296875 5.421875 2 \nL 5.421875 11.28125 \nQ 10.40625 8.6875 15.234375 7.390625 \nQ 20.0625 6.109375 24.8125 6.109375 \nQ 31.15625 6.109375 34.5625 8.28125 \nQ 37.984375 10.453125 37.984375 14.40625 \nQ 37.984375 18.0625 35.515625 20.015625 \nQ 33.0625 21.96875 24.703125 23.78125 \nL 21.578125 24.515625 \nQ 13.234375 26.265625 9.515625 29.90625 \nQ 5.8125 33.546875 5.8125 39.890625 \nQ 5.8125 47.609375 11.28125 51.796875 \nQ 16.75 56 26.8125 56 \nQ 31.78125 56 36.171875 55.265625 \nQ 40.578125 54.546875 44.28125 53.078125 \nz\n\" id=\"DejaVuSans-115\"/>\n     </defs>\n     <g transform=\"translate(196.45 268.034687)scale(0.1 -0.1)\">\n      <use xlink:href=\"#DejaVuSans-69\"/>\n      <use x=\"63.183594\" xlink:href=\"#DejaVuSans-112\"/>\n      <use x=\"126.660156\" xlink:href=\"#DejaVuSans-111\"/>\n      <use x=\"187.841797\" xlink:href=\"#DejaVuSans-99\"/>\n      <use x=\"242.822266\" xlink:href=\"#DejaVuSans-104\"/>\n      <use x=\"306.201172\" xlink:href=\"#DejaVuSans-115\"/>\n     </g>\n    </g>\n   </g>\n   <g id=\"matplotlib.axis_2\">\n    <g id=\"ytick_1\">\n     <g id=\"line2d_13\">\n      <path clip-path=\"url(#p28497cf534)\" d=\"M 46.965625 239.758125 \nL 381.765625 239.758125 \n\" style=\"fill:none;stroke:#b0b0b0;stroke-linecap:square;stroke-width:0.8;\"/>\n     </g>\n     <g id=\"line2d_14\">\n      <defs>\n       <path d=\"M 0 0 \nL -3.5 0 \n\" id=\"mf746b6d776\" style=\"stroke:#000000;stroke-width:0.8;\"/>\n      </defs>\n      <g>\n       <use style=\"stroke:#000000;stroke-width:0.8;\" x=\"46.965625\" xlink:href=\"#mf746b6d776\" y=\"239.758125\"/>\n      </g>\n     </g>\n     <g id=\"text_8\">\n      <!-- 0 -->\n      <g transform=\"translate(33.603125 243.557344)scale(0.1 -0.1)\">\n       <use xlink:href=\"#DejaVuSans-48\"/>\n      </g>\n     </g>\n    </g>\n    <g id=\"ytick_2\">\n     <g id=\"line2d_15\">\n      <path clip-path=\"url(#p28497cf534)\" d=\"M 46.965625 196.270125 \nL 381.765625 196.270125 \n\" style=\"fill:none;stroke:#b0b0b0;stroke-linecap:square;stroke-width:0.8;\"/>\n     </g>\n     <g id=\"line2d_16\">\n      <g>\n       <use style=\"stroke:#000000;stroke-width:0.8;\" x=\"46.965625\" xlink:href=\"#mf746b6d776\" y=\"196.270125\"/>\n      </g>\n     </g>\n     <g id=\"text_9\">\n      <!-- 20 -->\n      <g transform=\"translate(27.240625 200.069344)scale(0.1 -0.1)\">\n       <use xlink:href=\"#DejaVuSans-50\"/>\n       <use x=\"63.623047\" xlink:href=\"#DejaVuSans-48\"/>\n      </g>\n     </g>\n    </g>\n    <g id=\"ytick_3\">\n     <g id=\"line2d_17\">\n      <path clip-path=\"url(#p28497cf534)\" d=\"M 46.965625 152.782125 \nL 381.765625 152.782125 \n\" style=\"fill:none;stroke:#b0b0b0;stroke-linecap:square;stroke-width:0.8;\"/>\n     </g>\n     <g id=\"line2d_18\">\n      <g>\n       <use style=\"stroke:#000000;stroke-width:0.8;\" x=\"46.965625\" xlink:href=\"#mf746b6d776\" y=\"152.782125\"/>\n      </g>\n     </g>\n     <g id=\"text_10\">\n      <!-- 40 -->\n      <g transform=\"translate(27.240625 156.581344)scale(0.1 -0.1)\">\n       <use xlink:href=\"#DejaVuSans-52\"/>\n       <use x=\"63.623047\" xlink:href=\"#DejaVuSans-48\"/>\n      </g>\n     </g>\n    </g>\n    <g id=\"ytick_4\">\n     <g id=\"line2d_19\">\n      <path clip-path=\"url(#p28497cf534)\" d=\"M 46.965625 109.294125 \nL 381.765625 109.294125 \n\" style=\"fill:none;stroke:#b0b0b0;stroke-linecap:square;stroke-width:0.8;\"/>\n     </g>\n     <g id=\"line2d_20\">\n      <g>\n       <use style=\"stroke:#000000;stroke-width:0.8;\" x=\"46.965625\" xlink:href=\"#mf746b6d776\" y=\"109.294125\"/>\n      </g>\n     </g>\n     <g id=\"text_11\">\n      <!-- 60 -->\n      <defs>\n       <path d=\"M 33.015625 40.375 \nQ 26.375 40.375 22.484375 35.828125 \nQ 18.609375 31.296875 18.609375 23.390625 \nQ 18.609375 15.53125 22.484375 10.953125 \nQ 26.375 6.390625 33.015625 6.390625 \nQ 39.65625 6.390625 43.53125 10.953125 \nQ 47.40625 15.53125 47.40625 23.390625 \nQ 47.40625 31.296875 43.53125 35.828125 \nQ 39.65625 40.375 33.015625 40.375 \nz\nM 52.59375 71.296875 \nL 52.59375 62.3125 \nQ 48.875 64.0625 45.09375 64.984375 \nQ 41.3125 65.921875 37.59375 65.921875 \nQ 27.828125 65.921875 22.671875 59.328125 \nQ 17.53125 52.734375 16.796875 39.40625 \nQ 19.671875 43.65625 24.015625 45.921875 \nQ 28.375 48.1875 33.59375 48.1875 \nQ 44.578125 48.1875 50.953125 41.515625 \nQ 57.328125 34.859375 57.328125 23.390625 \nQ 57.328125 12.15625 50.6875 5.359375 \nQ 44.046875 -1.421875 33.015625 -1.421875 \nQ 20.359375 -1.421875 13.671875 8.265625 \nQ 6.984375 17.96875 6.984375 36.375 \nQ 6.984375 53.65625 15.1875 63.9375 \nQ 23.390625 74.21875 37.203125 74.21875 \nQ 40.921875 74.21875 44.703125 73.484375 \nQ 48.484375 72.75 52.59375 71.296875 \nz\n\" id=\"DejaVuSans-54\"/>\n      </defs>\n      <g transform=\"translate(27.240625 113.093344)scale(0.1 -0.1)\">\n       <use xlink:href=\"#DejaVuSans-54\"/>\n       <use x=\"63.623047\" xlink:href=\"#DejaVuSans-48\"/>\n      </g>\n     </g>\n    </g>\n    <g id=\"ytick_5\">\n     <g id=\"line2d_21\">\n      <path clip-path=\"url(#p28497cf534)\" d=\"M 46.965625 65.806125 \nL 381.765625 65.806125 \n\" style=\"fill:none;stroke:#b0b0b0;stroke-linecap:square;stroke-width:0.8;\"/>\n     </g>\n     <g id=\"line2d_22\">\n      <g>\n       <use style=\"stroke:#000000;stroke-width:0.8;\" x=\"46.965625\" xlink:href=\"#mf746b6d776\" y=\"65.806125\"/>\n      </g>\n     </g>\n     <g id=\"text_12\">\n      <!-- 80 -->\n      <defs>\n       <path d=\"M 31.78125 34.625 \nQ 24.75 34.625 20.71875 30.859375 \nQ 16.703125 27.09375 16.703125 20.515625 \nQ 16.703125 13.921875 20.71875 10.15625 \nQ 24.75 6.390625 31.78125 6.390625 \nQ 38.8125 6.390625 42.859375 10.171875 \nQ 46.921875 13.96875 46.921875 20.515625 \nQ 46.921875 27.09375 42.890625 30.859375 \nQ 38.875 34.625 31.78125 34.625 \nz\nM 21.921875 38.8125 \nQ 15.578125 40.375 12.03125 44.71875 \nQ 8.5 49.078125 8.5 55.328125 \nQ 8.5 64.0625 14.71875 69.140625 \nQ 20.953125 74.21875 31.78125 74.21875 \nQ 42.671875 74.21875 48.875 69.140625 \nQ 55.078125 64.0625 55.078125 55.328125 \nQ 55.078125 49.078125 51.53125 44.71875 \nQ 48 40.375 41.703125 38.8125 \nQ 48.828125 37.15625 52.796875 32.3125 \nQ 56.78125 27.484375 56.78125 20.515625 \nQ 56.78125 9.90625 50.3125 4.234375 \nQ 43.84375 -1.421875 31.78125 -1.421875 \nQ 19.734375 -1.421875 13.25 4.234375 \nQ 6.78125 9.90625 6.78125 20.515625 \nQ 6.78125 27.484375 10.78125 32.3125 \nQ 14.796875 37.15625 21.921875 38.8125 \nz\nM 18.3125 54.390625 \nQ 18.3125 48.734375 21.84375 45.5625 \nQ 25.390625 42.390625 31.78125 42.390625 \nQ 38.140625 42.390625 41.71875 45.5625 \nQ 45.3125 48.734375 45.3125 54.390625 \nQ 45.3125 60.0625 41.71875 63.234375 \nQ 38.140625 66.40625 31.78125 66.40625 \nQ 25.390625 66.40625 21.84375 63.234375 \nQ 18.3125 60.0625 18.3125 54.390625 \nz\n\" id=\"DejaVuSans-56\"/>\n      </defs>\n      <g transform=\"translate(27.240625 69.605344)scale(0.1 -0.1)\">\n       <use xlink:href=\"#DejaVuSans-56\"/>\n       <use x=\"63.623047\" xlink:href=\"#DejaVuSans-48\"/>\n      </g>\n     </g>\n    </g>\n    <g id=\"ytick_6\">\n     <g id=\"line2d_23\">\n      <path clip-path=\"url(#p28497cf534)\" d=\"M 46.965625 22.318125 \nL 381.765625 22.318125 \n\" style=\"fill:none;stroke:#b0b0b0;stroke-linecap:square;stroke-width:0.8;\"/>\n     </g>\n     <g id=\"line2d_24\">\n      <g>\n       <use style=\"stroke:#000000;stroke-width:0.8;\" x=\"46.965625\" xlink:href=\"#mf746b6d776\" y=\"22.318125\"/>\n      </g>\n     </g>\n     <g id=\"text_13\">\n      <!-- 100 -->\n      <g transform=\"translate(20.878125 26.117344)scale(0.1 -0.1)\">\n       <use xlink:href=\"#DejaVuSans-49\"/>\n       <use x=\"63.623047\" xlink:href=\"#DejaVuSans-48\"/>\n       <use x=\"127.246094\" xlink:href=\"#DejaVuSans-48\"/>\n      </g>\n     </g>\n    </g>\n    <g id=\"text_14\">\n     <!-- Loss -->\n     <defs>\n      <path d=\"M 9.8125 72.90625 \nL 19.671875 72.90625 \nL 19.671875 8.296875 \nL 55.171875 8.296875 \nL 55.171875 0 \nL 9.8125 0 \nz\n\" id=\"DejaVuSans-76\"/>\n     </defs>\n     <g transform=\"translate(14.798438 142.005312)rotate(-90)scale(0.1 -0.1)\">\n      <use xlink:href=\"#DejaVuSans-76\"/>\n      <use x=\"53.962891\" xlink:href=\"#DejaVuSans-111\"/>\n      <use x=\"115.144531\" xlink:href=\"#DejaVuSans-115\"/>\n      <use x=\"167.244141\" xlink:href=\"#DejaVuSans-115\"/>\n     </g>\n    </g>\n   </g>\n   <g id=\"line2d_25\">\n    <path clip-path=\"url(#p28497cf534)\" d=\"M 119.268943 -1 \nL 124.298835 171.730121 \nL 130.510337 204.992472 \nL 136.72184 171.370705 \nL 142.933343 154.353145 \nL 149.144846 167.275748 \nL 155.356349 190.924914 \nL 161.567851 204.747399 \nL 167.779354 207.318812 \nL 173.990857 205.686178 \nL 180.20236 204.764414 \nL 186.413862 205.4683 \nL 192.625365 206.628165 \nL 198.836868 207.276698 \nL 205.048371 207.335429 \nL 211.259874 207.214732 \nL 217.471376 207.212746 \nL 223.682879 207.276112 \nL 229.894382 207.297174 \nL 236.105885 207.339489 \nL 242.317388 207.330889 \nL 248.52889 207.333893 \nL 254.740393 207.342976 \nL 260.951896 207.341991 \nL 267.163399 207.344004 \nL 273.374901 207.35187 \nL 279.586404 207.352695 \nL 285.797907 207.347085 \nL 292.00941 207.35299 \nL 298.220913 207.334096 \nL 304.432415 207.356817 \nL 310.643918 207.338066 \nL 316.855421 207.354317 \nL 323.066924 207.351218 \nL 329.278426 207.332808 \nL 335.489929 207.32566 \nL 341.701432 207.314967 \nL 347.912935 207.280771 \nL 354.124438 207.333003 \nL 360.33594 207.351714 \nL 366.547443 207.340669 \n\" style=\"fill:none;stroke:#1f77b4;stroke-linecap:square;stroke-width:1.5;\"/>\n    <defs>\n     <path d=\"M 0 2 \nC 0.530406 2 1.03916 1.789267 1.414214 1.414214 \nC 1.789267 1.03916 2 0.530406 2 0 \nC 2 -0.530406 1.789267 -1.03916 1.414214 -1.414214 \nC 1.03916 -1.789267 0.530406 -2 0 -2 \nC -0.530406 -2 -1.03916 -1.789267 -1.414214 -1.414214 \nC -1.789267 -1.03916 -2 -0.530406 -2 0 \nC -2 0.530406 -1.789267 1.03916 -1.414214 1.414214 \nC -1.03916 1.789267 -0.530406 2 0 2 \nz\n\" id=\"m3d37d26a2b\" style=\"stroke:#1f77b4;\"/>\n    </defs>\n    <g clip-path=\"url(#p28497cf534)\">\n     <use style=\"fill:#1f77b4;stroke:#1f77b4;\" x=\"119.268943\" xlink:href=\"#m3d37d26a2b\" y=\"-1\"/>\n     <use style=\"fill:#1f77b4;stroke:#1f77b4;\" x=\"124.298835\" xlink:href=\"#m3d37d26a2b\" y=\"171.730121\"/>\n     <use style=\"fill:#1f77b4;stroke:#1f77b4;\" x=\"130.510337\" xlink:href=\"#m3d37d26a2b\" y=\"204.992472\"/>\n     <use style=\"fill:#1f77b4;stroke:#1f77b4;\" x=\"136.72184\" xlink:href=\"#m3d37d26a2b\" y=\"171.370705\"/>\n     <use style=\"fill:#1f77b4;stroke:#1f77b4;\" x=\"142.933343\" xlink:href=\"#m3d37d26a2b\" y=\"154.353145\"/>\n     <use style=\"fill:#1f77b4;stroke:#1f77b4;\" x=\"149.144846\" xlink:href=\"#m3d37d26a2b\" y=\"167.275748\"/>\n     <use style=\"fill:#1f77b4;stroke:#1f77b4;\" x=\"155.356349\" xlink:href=\"#m3d37d26a2b\" y=\"190.924914\"/>\n     <use style=\"fill:#1f77b4;stroke:#1f77b4;\" x=\"161.567851\" xlink:href=\"#m3d37d26a2b\" y=\"204.747399\"/>\n     <use style=\"fill:#1f77b4;stroke:#1f77b4;\" x=\"167.779354\" xlink:href=\"#m3d37d26a2b\" y=\"207.318812\"/>\n     <use style=\"fill:#1f77b4;stroke:#1f77b4;\" x=\"173.990857\" xlink:href=\"#m3d37d26a2b\" y=\"205.686178\"/>\n     <use style=\"fill:#1f77b4;stroke:#1f77b4;\" x=\"180.20236\" xlink:href=\"#m3d37d26a2b\" y=\"204.764414\"/>\n     <use style=\"fill:#1f77b4;stroke:#1f77b4;\" x=\"186.413862\" xlink:href=\"#m3d37d26a2b\" y=\"205.4683\"/>\n     <use style=\"fill:#1f77b4;stroke:#1f77b4;\" x=\"192.625365\" xlink:href=\"#m3d37d26a2b\" y=\"206.628165\"/>\n     <use style=\"fill:#1f77b4;stroke:#1f77b4;\" x=\"198.836868\" xlink:href=\"#m3d37d26a2b\" y=\"207.276698\"/>\n     <use style=\"fill:#1f77b4;stroke:#1f77b4;\" x=\"205.048371\" xlink:href=\"#m3d37d26a2b\" y=\"207.335429\"/>\n     <use style=\"fill:#1f77b4;stroke:#1f77b4;\" x=\"211.259874\" xlink:href=\"#m3d37d26a2b\" y=\"207.214732\"/>\n     <use style=\"fill:#1f77b4;stroke:#1f77b4;\" x=\"217.471376\" xlink:href=\"#m3d37d26a2b\" y=\"207.212746\"/>\n     <use style=\"fill:#1f77b4;stroke:#1f77b4;\" x=\"223.682879\" xlink:href=\"#m3d37d26a2b\" y=\"207.276112\"/>\n     <use style=\"fill:#1f77b4;stroke:#1f77b4;\" x=\"229.894382\" xlink:href=\"#m3d37d26a2b\" y=\"207.297174\"/>\n     <use style=\"fill:#1f77b4;stroke:#1f77b4;\" x=\"236.105885\" xlink:href=\"#m3d37d26a2b\" y=\"207.339489\"/>\n     <use style=\"fill:#1f77b4;stroke:#1f77b4;\" x=\"242.317388\" xlink:href=\"#m3d37d26a2b\" y=\"207.330889\"/>\n     <use style=\"fill:#1f77b4;stroke:#1f77b4;\" x=\"248.52889\" xlink:href=\"#m3d37d26a2b\" y=\"207.333893\"/>\n     <use style=\"fill:#1f77b4;stroke:#1f77b4;\" x=\"254.740393\" xlink:href=\"#m3d37d26a2b\" y=\"207.342976\"/>\n     <use style=\"fill:#1f77b4;stroke:#1f77b4;\" x=\"260.951896\" xlink:href=\"#m3d37d26a2b\" y=\"207.341991\"/>\n     <use style=\"fill:#1f77b4;stroke:#1f77b4;\" x=\"267.163399\" xlink:href=\"#m3d37d26a2b\" y=\"207.344004\"/>\n     <use style=\"fill:#1f77b4;stroke:#1f77b4;\" x=\"273.374901\" xlink:href=\"#m3d37d26a2b\" y=\"207.35187\"/>\n     <use style=\"fill:#1f77b4;stroke:#1f77b4;\" x=\"279.586404\" xlink:href=\"#m3d37d26a2b\" y=\"207.352695\"/>\n     <use style=\"fill:#1f77b4;stroke:#1f77b4;\" x=\"285.797907\" xlink:href=\"#m3d37d26a2b\" y=\"207.347085\"/>\n     <use style=\"fill:#1f77b4;stroke:#1f77b4;\" x=\"292.00941\" xlink:href=\"#m3d37d26a2b\" y=\"207.35299\"/>\n     <use style=\"fill:#1f77b4;stroke:#1f77b4;\" x=\"298.220913\" xlink:href=\"#m3d37d26a2b\" y=\"207.334096\"/>\n     <use style=\"fill:#1f77b4;stroke:#1f77b4;\" x=\"304.432415\" xlink:href=\"#m3d37d26a2b\" y=\"207.356817\"/>\n     <use style=\"fill:#1f77b4;stroke:#1f77b4;\" x=\"310.643918\" xlink:href=\"#m3d37d26a2b\" y=\"207.338066\"/>\n     <use style=\"fill:#1f77b4;stroke:#1f77b4;\" x=\"316.855421\" xlink:href=\"#m3d37d26a2b\" y=\"207.354317\"/>\n     <use style=\"fill:#1f77b4;stroke:#1f77b4;\" x=\"323.066924\" xlink:href=\"#m3d37d26a2b\" y=\"207.351218\"/>\n     <use style=\"fill:#1f77b4;stroke:#1f77b4;\" x=\"329.278426\" xlink:href=\"#m3d37d26a2b\" y=\"207.332808\"/>\n     <use style=\"fill:#1f77b4;stroke:#1f77b4;\" x=\"335.489929\" xlink:href=\"#m3d37d26a2b\" y=\"207.32566\"/>\n     <use style=\"fill:#1f77b4;stroke:#1f77b4;\" x=\"341.701432\" xlink:href=\"#m3d37d26a2b\" y=\"207.314967\"/>\n     <use style=\"fill:#1f77b4;stroke:#1f77b4;\" x=\"347.912935\" xlink:href=\"#m3d37d26a2b\" y=\"207.280771\"/>\n     <use style=\"fill:#1f77b4;stroke:#1f77b4;\" x=\"354.124438\" xlink:href=\"#m3d37d26a2b\" y=\"207.333003\"/>\n     <use style=\"fill:#1f77b4;stroke:#1f77b4;\" x=\"360.33594\" xlink:href=\"#m3d37d26a2b\" y=\"207.351714\"/>\n     <use style=\"fill:#1f77b4;stroke:#1f77b4;\" x=\"366.547443\" xlink:href=\"#m3d37d26a2b\" y=\"207.340669\"/>\n    </g>\n   </g>\n   <g id=\"line2d_26\">\n    <path clip-path=\"url(#p28497cf534)\" d=\"M 122.278592 -1 \nL 124.298835 98.332402 \nL 130.510337 111.396712 \nL 136.72184 116.080462 \nL 142.933343 149.781812 \nL 149.144846 106.173733 \nL 155.356349 146.090311 \nL 161.567851 170.812323 \nL 167.779354 184.650283 \nL 173.990857 164.043396 \nL 180.20236 169.70929 \nL 186.413862 179.692383 \nL 192.625365 160.546642 \nL 198.836868 157.647856 \nL 205.048371 188.949011 \nL 211.259874 139.749306 \nL 217.471376 173.053012 \nL 223.682879 165.117806 \nL 229.894382 162.956126 \nL 236.105885 165.253136 \nL 242.317388 178.441635 \nL 248.52889 169.910685 \nL 254.740393 147.045077 \nL 260.951896 165.567397 \nL 267.163399 185.222453 \nL 273.374901 157.583802 \nL 279.586404 178.913932 \nL 285.797907 184.787834 \nL 292.00941 171.627129 \nL 298.220913 160.569012 \nL 304.432415 168.088442 \nL 310.643918 174.233126 \nL 316.855421 157.600382 \nL 323.066924 150.70778 \nL 329.278426 163.984293 \nL 335.489929 154.137536 \nL 341.701432 161.198626 \nL 347.912935 165.448398 \nL 354.124438 162.634117 \nL 360.33594 184.680509 \nL 366.547443 188.415849 \n\" style=\"fill:none;stroke:#ff7f0e;stroke-linecap:square;stroke-width:1.5;\"/>\n    <defs>\n     <path d=\"M 0 2 \nC 0.530406 2 1.03916 1.789267 1.414214 1.414214 \nC 1.789267 1.03916 2 0.530406 2 0 \nC 2 -0.530406 1.789267 -1.03916 1.414214 -1.414214 \nC 1.03916 -1.789267 0.530406 -2 0 -2 \nC -0.530406 -2 -1.03916 -1.789267 -1.414214 -1.414214 \nC -1.789267 -1.03916 -2 -0.530406 -2 0 \nC -2 0.530406 -1.789267 1.03916 -1.414214 1.414214 \nC -1.03916 1.789267 -0.530406 2 0 2 \nz\n\" id=\"m72d54ae840\" style=\"stroke:#ff7f0e;\"/>\n    </defs>\n    <g clip-path=\"url(#p28497cf534)\">\n     <use style=\"fill:#ff7f0e;stroke:#ff7f0e;\" x=\"122.278592\" xlink:href=\"#m72d54ae840\" y=\"-1\"/>\n     <use style=\"fill:#ff7f0e;stroke:#ff7f0e;\" x=\"124.298835\" xlink:href=\"#m72d54ae840\" y=\"98.332402\"/>\n     <use style=\"fill:#ff7f0e;stroke:#ff7f0e;\" x=\"130.510337\" xlink:href=\"#m72d54ae840\" y=\"111.396712\"/>\n     <use style=\"fill:#ff7f0e;stroke:#ff7f0e;\" x=\"136.72184\" xlink:href=\"#m72d54ae840\" y=\"116.080462\"/>\n     <use style=\"fill:#ff7f0e;stroke:#ff7f0e;\" x=\"142.933343\" xlink:href=\"#m72d54ae840\" y=\"149.781812\"/>\n     <use style=\"fill:#ff7f0e;stroke:#ff7f0e;\" x=\"149.144846\" xlink:href=\"#m72d54ae840\" y=\"106.173733\"/>\n     <use style=\"fill:#ff7f0e;stroke:#ff7f0e;\" x=\"155.356349\" xlink:href=\"#m72d54ae840\" y=\"146.090311\"/>\n     <use style=\"fill:#ff7f0e;stroke:#ff7f0e;\" x=\"161.567851\" xlink:href=\"#m72d54ae840\" y=\"170.812323\"/>\n     <use style=\"fill:#ff7f0e;stroke:#ff7f0e;\" x=\"167.779354\" xlink:href=\"#m72d54ae840\" y=\"184.650283\"/>\n     <use style=\"fill:#ff7f0e;stroke:#ff7f0e;\" x=\"173.990857\" xlink:href=\"#m72d54ae840\" y=\"164.043396\"/>\n     <use style=\"fill:#ff7f0e;stroke:#ff7f0e;\" x=\"180.20236\" xlink:href=\"#m72d54ae840\" y=\"169.70929\"/>\n     <use style=\"fill:#ff7f0e;stroke:#ff7f0e;\" x=\"186.413862\" xlink:href=\"#m72d54ae840\" y=\"179.692383\"/>\n     <use style=\"fill:#ff7f0e;stroke:#ff7f0e;\" x=\"192.625365\" xlink:href=\"#m72d54ae840\" y=\"160.546642\"/>\n     <use style=\"fill:#ff7f0e;stroke:#ff7f0e;\" x=\"198.836868\" xlink:href=\"#m72d54ae840\" y=\"157.647856\"/>\n     <use style=\"fill:#ff7f0e;stroke:#ff7f0e;\" x=\"205.048371\" xlink:href=\"#m72d54ae840\" y=\"188.949011\"/>\n     <use style=\"fill:#ff7f0e;stroke:#ff7f0e;\" x=\"211.259874\" xlink:href=\"#m72d54ae840\" y=\"139.749306\"/>\n     <use style=\"fill:#ff7f0e;stroke:#ff7f0e;\" x=\"217.471376\" xlink:href=\"#m72d54ae840\" y=\"173.053012\"/>\n     <use style=\"fill:#ff7f0e;stroke:#ff7f0e;\" x=\"223.682879\" xlink:href=\"#m72d54ae840\" y=\"165.117806\"/>\n     <use style=\"fill:#ff7f0e;stroke:#ff7f0e;\" x=\"229.894382\" xlink:href=\"#m72d54ae840\" y=\"162.956126\"/>\n     <use style=\"fill:#ff7f0e;stroke:#ff7f0e;\" x=\"236.105885\" xlink:href=\"#m72d54ae840\" y=\"165.253136\"/>\n     <use style=\"fill:#ff7f0e;stroke:#ff7f0e;\" x=\"242.317388\" xlink:href=\"#m72d54ae840\" y=\"178.441635\"/>\n     <use style=\"fill:#ff7f0e;stroke:#ff7f0e;\" x=\"248.52889\" xlink:href=\"#m72d54ae840\" y=\"169.910685\"/>\n     <use style=\"fill:#ff7f0e;stroke:#ff7f0e;\" x=\"254.740393\" xlink:href=\"#m72d54ae840\" y=\"147.045077\"/>\n     <use style=\"fill:#ff7f0e;stroke:#ff7f0e;\" x=\"260.951896\" xlink:href=\"#m72d54ae840\" y=\"165.567397\"/>\n     <use style=\"fill:#ff7f0e;stroke:#ff7f0e;\" x=\"267.163399\" xlink:href=\"#m72d54ae840\" y=\"185.222453\"/>\n     <use style=\"fill:#ff7f0e;stroke:#ff7f0e;\" x=\"273.374901\" xlink:href=\"#m72d54ae840\" y=\"157.583802\"/>\n     <use style=\"fill:#ff7f0e;stroke:#ff7f0e;\" x=\"279.586404\" xlink:href=\"#m72d54ae840\" y=\"178.913932\"/>\n     <use style=\"fill:#ff7f0e;stroke:#ff7f0e;\" x=\"285.797907\" xlink:href=\"#m72d54ae840\" y=\"184.787834\"/>\n     <use style=\"fill:#ff7f0e;stroke:#ff7f0e;\" x=\"292.00941\" xlink:href=\"#m72d54ae840\" y=\"171.627129\"/>\n     <use style=\"fill:#ff7f0e;stroke:#ff7f0e;\" x=\"298.220913\" xlink:href=\"#m72d54ae840\" y=\"160.569012\"/>\n     <use style=\"fill:#ff7f0e;stroke:#ff7f0e;\" x=\"304.432415\" xlink:href=\"#m72d54ae840\" y=\"168.088442\"/>\n     <use style=\"fill:#ff7f0e;stroke:#ff7f0e;\" x=\"310.643918\" xlink:href=\"#m72d54ae840\" y=\"174.233126\"/>\n     <use style=\"fill:#ff7f0e;stroke:#ff7f0e;\" x=\"316.855421\" xlink:href=\"#m72d54ae840\" y=\"157.600382\"/>\n     <use style=\"fill:#ff7f0e;stroke:#ff7f0e;\" x=\"323.066924\" xlink:href=\"#m72d54ae840\" y=\"150.70778\"/>\n     <use style=\"fill:#ff7f0e;stroke:#ff7f0e;\" x=\"329.278426\" xlink:href=\"#m72d54ae840\" y=\"163.984293\"/>\n     <use style=\"fill:#ff7f0e;stroke:#ff7f0e;\" x=\"335.489929\" xlink:href=\"#m72d54ae840\" y=\"154.137536\"/>\n     <use style=\"fill:#ff7f0e;stroke:#ff7f0e;\" x=\"341.701432\" xlink:href=\"#m72d54ae840\" y=\"161.198626\"/>\n     <use style=\"fill:#ff7f0e;stroke:#ff7f0e;\" x=\"347.912935\" xlink:href=\"#m72d54ae840\" y=\"165.448398\"/>\n     <use style=\"fill:#ff7f0e;stroke:#ff7f0e;\" x=\"354.124438\" xlink:href=\"#m72d54ae840\" y=\"162.634117\"/>\n     <use style=\"fill:#ff7f0e;stroke:#ff7f0e;\" x=\"360.33594\" xlink:href=\"#m72d54ae840\" y=\"184.680509\"/>\n     <use style=\"fill:#ff7f0e;stroke:#ff7f0e;\" x=\"366.547443\" xlink:href=\"#m72d54ae840\" y=\"188.415849\"/>\n    </g>\n   </g>\n   <g id=\"patch_3\">\n    <path d=\"M 46.965625 239.758125 \nL 46.965625 22.318125 \n\" style=\"fill:none;stroke:#000000;stroke-linecap:square;stroke-linejoin:miter;stroke-width:0.8;\"/>\n   </g>\n   <g id=\"patch_4\">\n    <path d=\"M 381.765625 239.758125 \nL 381.765625 22.318125 \n\" style=\"fill:none;stroke:#000000;stroke-linecap:square;stroke-linejoin:miter;stroke-width:0.8;\"/>\n   </g>\n   <g id=\"patch_5\">\n    <path d=\"M 46.965625 239.758125 \nL 381.765625 239.758125 \n\" style=\"fill:none;stroke:#000000;stroke-linecap:square;stroke-linejoin:miter;stroke-width:0.8;\"/>\n   </g>\n   <g id=\"patch_6\">\n    <path d=\"M 46.965625 22.318125 \nL 381.765625 22.318125 \n\" style=\"fill:none;stroke:#000000;stroke-linecap:square;stroke-linejoin:miter;stroke-width:0.8;\"/>\n   </g>\n   <g id=\"text_15\">\n    <!-- Model loss -->\n    <defs>\n     <path d=\"M 9.8125 72.90625 \nL 24.515625 72.90625 \nL 43.109375 23.296875 \nL 61.8125 72.90625 \nL 76.515625 72.90625 \nL 76.515625 0 \nL 66.890625 0 \nL 66.890625 64.015625 \nL 48.09375 14.015625 \nL 38.1875 14.015625 \nL 19.390625 64.015625 \nL 19.390625 0 \nL 9.8125 0 \nz\n\" id=\"DejaVuSans-77\"/>\n     <path d=\"M 45.40625 46.390625 \nL 45.40625 75.984375 \nL 54.390625 75.984375 \nL 54.390625 0 \nL 45.40625 0 \nL 45.40625 8.203125 \nQ 42.578125 3.328125 38.25 0.953125 \nQ 33.9375 -1.421875 27.875 -1.421875 \nQ 17.96875 -1.421875 11.734375 6.484375 \nQ 5.515625 14.40625 5.515625 27.296875 \nQ 5.515625 40.1875 11.734375 48.09375 \nQ 17.96875 56 27.875 56 \nQ 33.9375 56 38.25 53.625 \nQ 42.578125 51.265625 45.40625 46.390625 \nz\nM 14.796875 27.296875 \nQ 14.796875 17.390625 18.875 11.75 \nQ 22.953125 6.109375 30.078125 6.109375 \nQ 37.203125 6.109375 41.296875 11.75 \nQ 45.40625 17.390625 45.40625 27.296875 \nQ 45.40625 37.203125 41.296875 42.84375 \nQ 37.203125 48.484375 30.078125 48.484375 \nQ 22.953125 48.484375 18.875 42.84375 \nQ 14.796875 37.203125 14.796875 27.296875 \nz\n\" id=\"DejaVuSans-100\"/>\n     <path d=\"M 56.203125 29.59375 \nL 56.203125 25.203125 \nL 14.890625 25.203125 \nQ 15.484375 15.921875 20.484375 11.0625 \nQ 25.484375 6.203125 34.421875 6.203125 \nQ 39.59375 6.203125 44.453125 7.46875 \nQ 49.3125 8.734375 54.109375 11.28125 \nL 54.109375 2.78125 \nQ 49.265625 0.734375 44.1875 -0.34375 \nQ 39.109375 -1.421875 33.890625 -1.421875 \nQ 20.796875 -1.421875 13.15625 6.1875 \nQ 5.515625 13.8125 5.515625 26.8125 \nQ 5.515625 40.234375 12.765625 48.109375 \nQ 20.015625 56 32.328125 56 \nQ 43.359375 56 49.78125 48.890625 \nQ 56.203125 41.796875 56.203125 29.59375 \nz\nM 47.21875 32.234375 \nQ 47.125 39.59375 43.09375 43.984375 \nQ 39.0625 48.390625 32.421875 48.390625 \nQ 24.90625 48.390625 20.390625 44.140625 \nQ 15.875 39.890625 15.1875 32.171875 \nz\n\" id=\"DejaVuSans-101\"/>\n     <path d=\"M 9.421875 75.984375 \nL 18.40625 75.984375 \nL 18.40625 0 \nL 9.421875 0 \nz\n\" id=\"DejaVuSans-108\"/>\n     <path id=\"DejaVuSans-32\"/>\n    </defs>\n    <g transform=\"translate(182.853438 16.318125)scale(0.12 -0.12)\">\n     <use xlink:href=\"#DejaVuSans-77\"/>\n     <use x=\"86.279297\" xlink:href=\"#DejaVuSans-111\"/>\n     <use x=\"147.460938\" xlink:href=\"#DejaVuSans-100\"/>\n     <use x=\"210.9375\" xlink:href=\"#DejaVuSans-101\"/>\n     <use x=\"272.460938\" xlink:href=\"#DejaVuSans-108\"/>\n     <use x=\"300.244141\" xlink:href=\"#DejaVuSans-32\"/>\n     <use x=\"332.03125\" xlink:href=\"#DejaVuSans-108\"/>\n     <use x=\"359.814453\" xlink:href=\"#DejaVuSans-111\"/>\n     <use x=\"420.996094\" xlink:href=\"#DejaVuSans-115\"/>\n     <use x=\"473.095703\" xlink:href=\"#DejaVuSans-115\"/>\n    </g>\n   </g>\n  </g>\n </g>\n <defs>\n  <clipPath id=\"p28497cf534\">\n   <rect height=\"217.44\" width=\"334.8\" x=\"46.965625\" y=\"22.318125\"/>\n  </clipPath>\n </defs>\n</svg>\n"
          },
          "metadata": {
            "needs_background": "light"
          }
        }
      ]
    },
    {
      "cell_type": "code",
      "source": [
        "with torch.no_grad():\n",
        "  losses_tst = []\n",
        "  print('x,y_true,y_hat,loss:')\n",
        "  for x,y_true in test_data:\n",
        "    y_hat = model_f(x)\n",
        "    loss = F.mse_loss(y_hat, y_true)\n",
        "    losses_tst.append(loss.item())\n",
        "    print(f'{x},{y_true}, {y_hat},{loss.item()}')\n",
        "\n",
        "  print(f'Test loss: {np.mean(losses_tst)}')"
      ],
      "metadata": {
        "colab": {
          "base_uri": "https://localhost:8080/"
        },
        "id": "etIQT0VDyJc9",
        "outputId": "cc3b08c8-71d4-438a-c5ec-7e649a7a0d53"
      },
      "execution_count": 28,
      "outputs": [
        {
          "output_type": "stream",
          "name": "stdout",
          "text": [
            "x,y_true,y_hat,loss:\n",
            "tensor([ 7.1000, 11.5000]),tensor([7.9000]), tensor([7.1137]),0.618257462978363\n",
            "tensor([ 7.3000, 13.1000]),tensor([8.1000]), tensor([7.9026]),0.03896171227097511\n",
            "tensor([ 5.5000, 12.5000]),tensor([6.7000]), tensor([7.3178]),0.3816470801830292\n",
            "tensor([ 6.6000, 13.7000]),tensor([8.5000]), tensor([8.0686]),0.18609388172626495\n",
            "tensor([ 7.0000, 11.5000]),tensor([6.4000]), tensor([7.0970]),0.4857432246208191\n",
            "tensor([ 8.7000, 13.9000]),tensor([9.1000]), tensor([8.5149]),0.34238797426223755\n",
            "tensor([ 7.5000, 12.0000]),tensor([7.6000]), tensor([7.4168]),0.03356848657131195\n",
            "tensor([ 5.5000, 11.9000]),tensor([7.4000]), tensor([7.0345]),0.13358987867832184\n",
            "tensor([ 6.0000, 12.8000]),tensor([7.]), tensor([7.5432]),0.29504501819610596\n",
            "tensor([ 4.2000, 11.7000]),tensor([5.7000]), tensor([6.7223]),1.0450598001480103\n",
            "Test loss: 0.3560354519635439\n"
          ]
        }
      ]
    },
    {
      "cell_type": "markdown",
      "source": [
        "De los resultados obtenidos en el conjunto de prueba se observa que el modelo no generaliza bien para el caso de calificaciones previas abajo de 5 y con horas de estudio previas grandes."
      ],
      "metadata": {
        "id": "CHAanvK-ykMr"
      }
    },
    {
      "cell_type": "markdown",
      "source": [
        "## 6.3 Inferencia"
      ],
      "metadata": {
        "id": "fpSfv2NexI8X"
      }
    },
    {
      "cell_type": "markdown",
      "source": [
        "Predicción de la calificación que tendrá un alumno si estudió durante 12 horas para el examen y obtuvo 3 de califación en un examen previo."
      ],
      "metadata": {
        "id": "hpdh5dIGxzQZ"
      }
    },
    {
      "cell_type": "code",
      "source": [
        "# inferencia\n",
        "x_inf = torch.tensor([3.,12.])\n",
        "\n",
        "with torch.no_grad():\n",
        "  y_hat = model_f(x_inf)\n",
        "\n",
        "  print(f'Un alumno con {int(x_inf[0])} de califación previa y {int(x_inf[1])} horas de estudio, se predice que obtendrá{y_hat.item():6.2f} de calificación en el examen.')"
      ],
      "metadata": {
        "colab": {
          "base_uri": "https://localhost:8080/"
        },
        "id": "rgh86NtjyGjh",
        "outputId": "2b27c0c2-954f-4116-aab8-70e794a91214"
      },
      "execution_count": 29,
      "outputs": [
        {
          "output_type": "stream",
          "name": "stdout",
          "text": [
            "Un alumno con 3 de califación previa y 12 horas de estudio, se predice que obtendrá  6.66 de calificación en el examen.\n"
          ]
        }
      ]
    },
    {
      "cell_type": "markdown",
      "source": [
        "# 7 Arquitectura final con interfaz de alto nivel"
      ],
      "metadata": {
        "id": "6tjdJ_6ryGhJ"
      }
    },
    {
      "cell_type": "code",
      "source": [
        "def build_high():\n",
        "    model = nn.Sequential(\n",
        "        nn.Linear(2, 5),\n",
        "        nn.ReLU(),\n",
        "        nn.Linear(5,5),\n",
        "        nn.ReLU(),\n",
        "        nn.Linear(5, 1),\n",
        "    )\n",
        "    return model\n",
        "\n",
        "build_high()"
      ],
      "metadata": {
        "colab": {
          "base_uri": "https://localhost:8080/"
        },
        "id": "_QfkBXmRyGe3",
        "outputId": "9d80e4cc-543e-469c-a741-0f516448a9c3"
      },
      "execution_count": 30,
      "outputs": [
        {
          "output_type": "execute_result",
          "data": {
            "text/plain": [
              "Sequential(\n",
              "  (0): Linear(in_features=2, out_features=5, bias=True)\n",
              "  (1): ReLU()\n",
              "  (2): Linear(in_features=5, out_features=5, bias=True)\n",
              "  (3): ReLU()\n",
              "  (4): Linear(in_features=5, out_features=1, bias=True)\n",
              ")"
            ]
          },
          "metadata": {},
          "execution_count": 30
        }
      ]
    },
    {
      "cell_type": "markdown",
      "source": [
        "## 7.1 Entrenamiento"
      ],
      "metadata": {
        "id": "kS2t02pP2CPe"
      }
    },
    {
      "cell_type": "code",
      "source": [
        "loss_hist_high, model_high = train_model(build_high, train_data, test_data, \n",
        "                                 lr=0.005, epochs=50,batch_size=8,\n",
        "                                 L2lambda=0.0,opt='Adam',\n",
        "                                 progress=True,high_level=True)"
      ],
      "metadata": {
        "colab": {
          "base_uri": "https://localhost:8080/",
          "height": 0,
          "referenced_widgets": [
            "b2c3aab9095b4affac57a0a30dd078fc",
            "9fca59546264483d80ca4fb10f990e38",
            "d5d068b8c9444bc5843174fb0858e5f1",
            "1d858b0318964aa19213eaca69777bda",
            "e5dfea382b074ebca0d5d93872a2219c",
            "4ac5170e09b34e42a72f451ffa0a8ebe",
            "1c5e3cd893f34f898007b6d77b1196ae",
            "48cdec39991346f8967e93755fdf354f",
            "a72b5c6279844d37846af8e5f1d22708",
            "e2e199221b8c4c4f8c47ac476e764d6f",
            "691b0d91a0f14f4f87bc29eb44f4bcae"
          ]
        },
        "id": "L0BgTSJeyGcv",
        "outputId": "c7c56d3d-fcd9-43f9-8c33-8e03e4790e85"
      },
      "execution_count": 31,
      "outputs": [
        {
          "output_type": "display_data",
          "data": {
            "text/plain": [
              "  0%|          | 0/50 [00:00<?, ?it/s]"
            ],
            "application/vnd.jupyter.widget-view+json": {
              "version_major": 2,
              "version_minor": 0,
              "model_id": "b2c3aab9095b4affac57a0a30dd078fc"
            }
          },
          "metadata": {}
        },
        {
          "output_type": "stream",
          "name": "stdout",
          "text": [
            "E00 loss=[3685.88,4369.76]\n",
            "E01 loss=[3311.47,3266.54]\n",
            "E02 loss=[2905.48,3342.47]\n",
            "E03 loss=[2466.76,2724.15]\n",
            "E04 loss=[2001.17,2348.41]\n",
            "E05 loss=[1531.23,1683.51]\n",
            "E06 loss=[1074.64,1113.88]\n",
            "E07 loss=[666.12,570.34]\n",
            "E08 loss=[342.39,366.96]\n",
            "E09 loss=[129.39,205.50]\n",
            "E10 loss=[ 31.29, 65.04]\n",
            "E11 loss=[ 15.99, 59.03]\n",
            "E12 loss=[ 31.45, 56.88]\n",
            "E13 loss=[ 39.28, 41.38]\n",
            "E14 loss=[ 33.33, 61.44]\n",
            "E15 loss=[ 22.46, 43.08]\n",
            "E16 loss=[ 16.10, 31.71]\n",
            "E17 loss=[ 14.92, 25.34]\n",
            "E18 loss=[ 15.67, 34.82]\n",
            "E19 loss=[ 16.09, 32.22]\n",
            "E20 loss=[ 15.77, 27.62]\n",
            "E21 loss=[ 15.24, 36.43]\n",
            "E22 loss=[ 14.94, 37.76]\n",
            "E23 loss=[ 14.91, 23.37]\n",
            "E24 loss=[ 14.97, 45.99]\n",
            "E25 loss=[ 14.97, 30.68]\n",
            "E26 loss=[ 14.94, 34.33]\n",
            "E27 loss=[ 14.93, 35.32]\n",
            "E28 loss=[ 14.91, 34.26]\n",
            "E29 loss=[ 14.91, 28.20]\n",
            "E30 loss=[ 14.91, 32.12]\n",
            "E31 loss=[ 14.91, 42.64]\n",
            "E32 loss=[ 14.91, 34.12]\n",
            "E33 loss=[ 14.91, 25.08]\n",
            "E34 loss=[ 14.90, 37.79]\n",
            "E35 loss=[ 14.90, 27.98]\n",
            "E36 loss=[ 14.91, 25.28]\n",
            "E37 loss=[ 14.90, 31.33]\n",
            "E38 loss=[ 14.91, 36.42]\n",
            "E39 loss=[ 14.90, 32.96]\n",
            "E40 loss=[ 14.91, 30.13]\n",
            "E41 loss=[ 14.90, 37.78]\n",
            "E42 loss=[ 14.90, 40.95]\n",
            "E43 loss=[ 14.91, 34.85]\n",
            "E44 loss=[ 14.92, 39.38]\n",
            "E45 loss=[ 14.92, 36.13]\n",
            "E46 loss=[ 14.94, 34.17]\n",
            "E47 loss=[ 14.91, 35.47]\n",
            "E48 loss=[ 14.90, 25.33]\n",
            "E49 loss=[ 14.91, 23.61]\n"
          ]
        }
      ]
    },
    {
      "cell_type": "markdown",
      "source": [
        "## 7.2 Visualización de resultados"
      ],
      "metadata": {
        "id": "EmDQ0qgu2JZy"
      }
    },
    {
      "cell_type": "code",
      "source": [
        "train_loss_h, test_loss_h = zip(*loss_hist_high)\n",
        "\n",
        "plt.plot(train_loss_h,label='Train',marker=MARKER,markersize=MARKER_SIZE)\n",
        "plt.plot(test_loss_h,label='Test',marker=MARKER,markersize=MARKER_SIZE)\n",
        "plt.ylim([0,100])\n",
        "plt.xlabel('Epochs')\n",
        "plt.ylabel('Loss')\n",
        "plt.title('Model loss')\n",
        "plt.grid()\n",
        "plt.show()"
      ],
      "metadata": {
        "colab": {
          "base_uri": "https://localhost:8080/",
          "height": 391
        },
        "id": "L-7Abb7A2JXN",
        "outputId": "0c720051-7b2e-420b-d849-9e389330e476"
      },
      "execution_count": 32,
      "outputs": [
        {
          "output_type": "display_data",
          "data": {
            "text/plain": [
              "<Figure size 432x288 with 1 Axes>"
            ],
            "image/svg+xml": "<?xml version=\"1.0\" encoding=\"utf-8\" standalone=\"no\"?>\n<!DOCTYPE svg PUBLIC \"-//W3C//DTD SVG 1.1//EN\"\n  \"http://www.w3.org/Graphics/SVG/1.1/DTD/svg11.dtd\">\n<!-- Created with matplotlib (https://matplotlib.org/) -->\n<svg height=\"277.314375pt\" version=\"1.1\" viewBox=\"0 0 388.965625 277.314375\" width=\"388.965625pt\" xmlns=\"http://www.w3.org/2000/svg\" xmlns:xlink=\"http://www.w3.org/1999/xlink\">\n <defs>\n  <style type=\"text/css\">\n*{stroke-linecap:butt;stroke-linejoin:round;}\n  </style>\n </defs>\n <g id=\"figure_1\">\n  <g id=\"patch_1\">\n   <path d=\"M -0 277.314375 \nL 388.965625 277.314375 \nL 388.965625 0 \nL -0 0 \nz\n\" style=\"fill:none;\"/>\n  </g>\n  <g id=\"axes_1\">\n   <g id=\"patch_2\">\n    <path d=\"M 46.965625 239.758125 \nL 381.765625 239.758125 \nL 381.765625 22.318125 \nL 46.965625 22.318125 \nz\n\" style=\"fill:#ffffff;\"/>\n   </g>\n   <g id=\"matplotlib.axis_1\">\n    <g id=\"xtick_1\">\n     <g id=\"line2d_1\">\n      <path clip-path=\"url(#p3c64cde047)\" d=\"M 62.183807 239.758125 \nL 62.183807 22.318125 \n\" style=\"fill:none;stroke:#b0b0b0;stroke-linecap:square;stroke-width:0.8;\"/>\n     </g>\n     <g id=\"line2d_2\">\n      <defs>\n       <path d=\"M 0 0 \nL 0 3.5 \n\" id=\"med67cd2dbf\" style=\"stroke:#000000;stroke-width:0.8;\"/>\n      </defs>\n      <g>\n       <use style=\"stroke:#000000;stroke-width:0.8;\" x=\"62.183807\" xlink:href=\"#med67cd2dbf\" y=\"239.758125\"/>\n      </g>\n     </g>\n     <g id=\"text_1\">\n      <!-- 0 -->\n      <defs>\n       <path d=\"M 31.78125 66.40625 \nQ 24.171875 66.40625 20.328125 58.90625 \nQ 16.5 51.421875 16.5 36.375 \nQ 16.5 21.390625 20.328125 13.890625 \nQ 24.171875 6.390625 31.78125 6.390625 \nQ 39.453125 6.390625 43.28125 13.890625 \nQ 47.125 21.390625 47.125 36.375 \nQ 47.125 51.421875 43.28125 58.90625 \nQ 39.453125 66.40625 31.78125 66.40625 \nz\nM 31.78125 74.21875 \nQ 44.046875 74.21875 50.515625 64.515625 \nQ 56.984375 54.828125 56.984375 36.375 \nQ 56.984375 17.96875 50.515625 8.265625 \nQ 44.046875 -1.421875 31.78125 -1.421875 \nQ 19.53125 -1.421875 13.0625 8.265625 \nQ 6.59375 17.96875 6.59375 36.375 \nQ 6.59375 54.828125 13.0625 64.515625 \nQ 19.53125 74.21875 31.78125 74.21875 \nz\n\" id=\"DejaVuSans-48\"/>\n      </defs>\n      <g transform=\"translate(59.002557 254.356562)scale(0.1 -0.1)\">\n       <use xlink:href=\"#DejaVuSans-48\"/>\n      </g>\n     </g>\n    </g>\n    <g id=\"xtick_2\">\n     <g id=\"line2d_3\">\n      <path clip-path=\"url(#p3c64cde047)\" d=\"M 124.298835 239.758125 \nL 124.298835 22.318125 \n\" style=\"fill:none;stroke:#b0b0b0;stroke-linecap:square;stroke-width:0.8;\"/>\n     </g>\n     <g id=\"line2d_4\">\n      <g>\n       <use style=\"stroke:#000000;stroke-width:0.8;\" x=\"124.298835\" xlink:href=\"#med67cd2dbf\" y=\"239.758125\"/>\n      </g>\n     </g>\n     <g id=\"text_2\">\n      <!-- 10 -->\n      <defs>\n       <path d=\"M 12.40625 8.296875 \nL 28.515625 8.296875 \nL 28.515625 63.921875 \nL 10.984375 60.40625 \nL 10.984375 69.390625 \nL 28.421875 72.90625 \nL 38.28125 72.90625 \nL 38.28125 8.296875 \nL 54.390625 8.296875 \nL 54.390625 0 \nL 12.40625 0 \nz\n\" id=\"DejaVuSans-49\"/>\n      </defs>\n      <g transform=\"translate(117.936335 254.356562)scale(0.1 -0.1)\">\n       <use xlink:href=\"#DejaVuSans-49\"/>\n       <use x=\"63.623047\" xlink:href=\"#DejaVuSans-48\"/>\n      </g>\n     </g>\n    </g>\n    <g id=\"xtick_3\">\n     <g id=\"line2d_5\">\n      <path clip-path=\"url(#p3c64cde047)\" d=\"M 186.413862 239.758125 \nL 186.413862 22.318125 \n\" style=\"fill:none;stroke:#b0b0b0;stroke-linecap:square;stroke-width:0.8;\"/>\n     </g>\n     <g id=\"line2d_6\">\n      <g>\n       <use style=\"stroke:#000000;stroke-width:0.8;\" x=\"186.413862\" xlink:href=\"#med67cd2dbf\" y=\"239.758125\"/>\n      </g>\n     </g>\n     <g id=\"text_3\">\n      <!-- 20 -->\n      <defs>\n       <path d=\"M 19.1875 8.296875 \nL 53.609375 8.296875 \nL 53.609375 0 \nL 7.328125 0 \nL 7.328125 8.296875 \nQ 12.9375 14.109375 22.625 23.890625 \nQ 32.328125 33.6875 34.8125 36.53125 \nQ 39.546875 41.84375 41.421875 45.53125 \nQ 43.3125 49.21875 43.3125 52.78125 \nQ 43.3125 58.59375 39.234375 62.25 \nQ 35.15625 65.921875 28.609375 65.921875 \nQ 23.96875 65.921875 18.8125 64.3125 \nQ 13.671875 62.703125 7.8125 59.421875 \nL 7.8125 69.390625 \nQ 13.765625 71.78125 18.9375 73 \nQ 24.125 74.21875 28.421875 74.21875 \nQ 39.75 74.21875 46.484375 68.546875 \nQ 53.21875 62.890625 53.21875 53.421875 \nQ 53.21875 48.921875 51.53125 44.890625 \nQ 49.859375 40.875 45.40625 35.40625 \nQ 44.1875 33.984375 37.640625 27.21875 \nQ 31.109375 20.453125 19.1875 8.296875 \nz\n\" id=\"DejaVuSans-50\"/>\n      </defs>\n      <g transform=\"translate(180.051362 254.356562)scale(0.1 -0.1)\">\n       <use xlink:href=\"#DejaVuSans-50\"/>\n       <use x=\"63.623047\" xlink:href=\"#DejaVuSans-48\"/>\n      </g>\n     </g>\n    </g>\n    <g id=\"xtick_4\">\n     <g id=\"line2d_7\">\n      <path clip-path=\"url(#p3c64cde047)\" d=\"M 248.52889 239.758125 \nL 248.52889 22.318125 \n\" style=\"fill:none;stroke:#b0b0b0;stroke-linecap:square;stroke-width:0.8;\"/>\n     </g>\n     <g id=\"line2d_8\">\n      <g>\n       <use style=\"stroke:#000000;stroke-width:0.8;\" x=\"248.52889\" xlink:href=\"#med67cd2dbf\" y=\"239.758125\"/>\n      </g>\n     </g>\n     <g id=\"text_4\">\n      <!-- 30 -->\n      <defs>\n       <path d=\"M 40.578125 39.3125 \nQ 47.65625 37.796875 51.625 33 \nQ 55.609375 28.21875 55.609375 21.1875 \nQ 55.609375 10.40625 48.1875 4.484375 \nQ 40.765625 -1.421875 27.09375 -1.421875 \nQ 22.515625 -1.421875 17.65625 -0.515625 \nQ 12.796875 0.390625 7.625 2.203125 \nL 7.625 11.71875 \nQ 11.71875 9.328125 16.59375 8.109375 \nQ 21.484375 6.890625 26.8125 6.890625 \nQ 36.078125 6.890625 40.9375 10.546875 \nQ 45.796875 14.203125 45.796875 21.1875 \nQ 45.796875 27.640625 41.28125 31.265625 \nQ 36.765625 34.90625 28.71875 34.90625 \nL 20.21875 34.90625 \nL 20.21875 43.015625 \nL 29.109375 43.015625 \nQ 36.375 43.015625 40.234375 45.921875 \nQ 44.09375 48.828125 44.09375 54.296875 \nQ 44.09375 59.90625 40.109375 62.90625 \nQ 36.140625 65.921875 28.71875 65.921875 \nQ 24.65625 65.921875 20.015625 65.03125 \nQ 15.375 64.15625 9.8125 62.3125 \nL 9.8125 71.09375 \nQ 15.4375 72.65625 20.34375 73.4375 \nQ 25.25 74.21875 29.59375 74.21875 \nQ 40.828125 74.21875 47.359375 69.109375 \nQ 53.90625 64.015625 53.90625 55.328125 \nQ 53.90625 49.265625 50.4375 45.09375 \nQ 46.96875 40.921875 40.578125 39.3125 \nz\n\" id=\"DejaVuSans-51\"/>\n      </defs>\n      <g transform=\"translate(242.16639 254.356562)scale(0.1 -0.1)\">\n       <use xlink:href=\"#DejaVuSans-51\"/>\n       <use x=\"63.623047\" xlink:href=\"#DejaVuSans-48\"/>\n      </g>\n     </g>\n    </g>\n    <g id=\"xtick_5\">\n     <g id=\"line2d_9\">\n      <path clip-path=\"url(#p3c64cde047)\" d=\"M 310.643918 239.758125 \nL 310.643918 22.318125 \n\" style=\"fill:none;stroke:#b0b0b0;stroke-linecap:square;stroke-width:0.8;\"/>\n     </g>\n     <g id=\"line2d_10\">\n      <g>\n       <use style=\"stroke:#000000;stroke-width:0.8;\" x=\"310.643918\" xlink:href=\"#med67cd2dbf\" y=\"239.758125\"/>\n      </g>\n     </g>\n     <g id=\"text_5\">\n      <!-- 40 -->\n      <defs>\n       <path d=\"M 37.796875 64.3125 \nL 12.890625 25.390625 \nL 37.796875 25.390625 \nz\nM 35.203125 72.90625 \nL 47.609375 72.90625 \nL 47.609375 25.390625 \nL 58.015625 25.390625 \nL 58.015625 17.1875 \nL 47.609375 17.1875 \nL 47.609375 0 \nL 37.796875 0 \nL 37.796875 17.1875 \nL 4.890625 17.1875 \nL 4.890625 26.703125 \nz\n\" id=\"DejaVuSans-52\"/>\n      </defs>\n      <g transform=\"translate(304.281418 254.356562)scale(0.1 -0.1)\">\n       <use xlink:href=\"#DejaVuSans-52\"/>\n       <use x=\"63.623047\" xlink:href=\"#DejaVuSans-48\"/>\n      </g>\n     </g>\n    </g>\n    <g id=\"xtick_6\">\n     <g id=\"line2d_11\">\n      <path clip-path=\"url(#p3c64cde047)\" d=\"M 372.758946 239.758125 \nL 372.758946 22.318125 \n\" style=\"fill:none;stroke:#b0b0b0;stroke-linecap:square;stroke-width:0.8;\"/>\n     </g>\n     <g id=\"line2d_12\">\n      <g>\n       <use style=\"stroke:#000000;stroke-width:0.8;\" x=\"372.758946\" xlink:href=\"#med67cd2dbf\" y=\"239.758125\"/>\n      </g>\n     </g>\n     <g id=\"text_6\">\n      <!-- 50 -->\n      <defs>\n       <path d=\"M 10.796875 72.90625 \nL 49.515625 72.90625 \nL 49.515625 64.59375 \nL 19.828125 64.59375 \nL 19.828125 46.734375 \nQ 21.96875 47.46875 24.109375 47.828125 \nQ 26.265625 48.1875 28.421875 48.1875 \nQ 40.625 48.1875 47.75 41.5 \nQ 54.890625 34.8125 54.890625 23.390625 \nQ 54.890625 11.625 47.5625 5.09375 \nQ 40.234375 -1.421875 26.90625 -1.421875 \nQ 22.3125 -1.421875 17.546875 -0.640625 \nQ 12.796875 0.140625 7.71875 1.703125 \nL 7.71875 11.625 \nQ 12.109375 9.234375 16.796875 8.0625 \nQ 21.484375 6.890625 26.703125 6.890625 \nQ 35.15625 6.890625 40.078125 11.328125 \nQ 45.015625 15.765625 45.015625 23.390625 \nQ 45.015625 31 40.078125 35.4375 \nQ 35.15625 39.890625 26.703125 39.890625 \nQ 22.75 39.890625 18.8125 39.015625 \nQ 14.890625 38.140625 10.796875 36.28125 \nz\n\" id=\"DejaVuSans-53\"/>\n      </defs>\n      <g transform=\"translate(366.396446 254.356562)scale(0.1 -0.1)\">\n       <use xlink:href=\"#DejaVuSans-53\"/>\n       <use x=\"63.623047\" xlink:href=\"#DejaVuSans-48\"/>\n      </g>\n     </g>\n    </g>\n    <g id=\"text_7\">\n     <!-- Epochs -->\n     <defs>\n      <path d=\"M 9.8125 72.90625 \nL 55.90625 72.90625 \nL 55.90625 64.59375 \nL 19.671875 64.59375 \nL 19.671875 43.015625 \nL 54.390625 43.015625 \nL 54.390625 34.71875 \nL 19.671875 34.71875 \nL 19.671875 8.296875 \nL 56.78125 8.296875 \nL 56.78125 0 \nL 9.8125 0 \nz\n\" id=\"DejaVuSans-69\"/>\n      <path d=\"M 18.109375 8.203125 \nL 18.109375 -20.796875 \nL 9.078125 -20.796875 \nL 9.078125 54.6875 \nL 18.109375 54.6875 \nL 18.109375 46.390625 \nQ 20.953125 51.265625 25.265625 53.625 \nQ 29.59375 56 35.59375 56 \nQ 45.5625 56 51.78125 48.09375 \nQ 58.015625 40.1875 58.015625 27.296875 \nQ 58.015625 14.40625 51.78125 6.484375 \nQ 45.5625 -1.421875 35.59375 -1.421875 \nQ 29.59375 -1.421875 25.265625 0.953125 \nQ 20.953125 3.328125 18.109375 8.203125 \nz\nM 48.6875 27.296875 \nQ 48.6875 37.203125 44.609375 42.84375 \nQ 40.53125 48.484375 33.40625 48.484375 \nQ 26.265625 48.484375 22.1875 42.84375 \nQ 18.109375 37.203125 18.109375 27.296875 \nQ 18.109375 17.390625 22.1875 11.75 \nQ 26.265625 6.109375 33.40625 6.109375 \nQ 40.53125 6.109375 44.609375 11.75 \nQ 48.6875 17.390625 48.6875 27.296875 \nz\n\" id=\"DejaVuSans-112\"/>\n      <path d=\"M 30.609375 48.390625 \nQ 23.390625 48.390625 19.1875 42.75 \nQ 14.984375 37.109375 14.984375 27.296875 \nQ 14.984375 17.484375 19.15625 11.84375 \nQ 23.34375 6.203125 30.609375 6.203125 \nQ 37.796875 6.203125 41.984375 11.859375 \nQ 46.1875 17.53125 46.1875 27.296875 \nQ 46.1875 37.015625 41.984375 42.703125 \nQ 37.796875 48.390625 30.609375 48.390625 \nz\nM 30.609375 56 \nQ 42.328125 56 49.015625 48.375 \nQ 55.71875 40.765625 55.71875 27.296875 \nQ 55.71875 13.875 49.015625 6.21875 \nQ 42.328125 -1.421875 30.609375 -1.421875 \nQ 18.84375 -1.421875 12.171875 6.21875 \nQ 5.515625 13.875 5.515625 27.296875 \nQ 5.515625 40.765625 12.171875 48.375 \nQ 18.84375 56 30.609375 56 \nz\n\" id=\"DejaVuSans-111\"/>\n      <path d=\"M 48.78125 52.59375 \nL 48.78125 44.1875 \nQ 44.96875 46.296875 41.140625 47.34375 \nQ 37.3125 48.390625 33.40625 48.390625 \nQ 24.65625 48.390625 19.8125 42.84375 \nQ 14.984375 37.3125 14.984375 27.296875 \nQ 14.984375 17.28125 19.8125 11.734375 \nQ 24.65625 6.203125 33.40625 6.203125 \nQ 37.3125 6.203125 41.140625 7.25 \nQ 44.96875 8.296875 48.78125 10.40625 \nL 48.78125 2.09375 \nQ 45.015625 0.34375 40.984375 -0.53125 \nQ 36.96875 -1.421875 32.421875 -1.421875 \nQ 20.0625 -1.421875 12.78125 6.34375 \nQ 5.515625 14.109375 5.515625 27.296875 \nQ 5.515625 40.671875 12.859375 48.328125 \nQ 20.21875 56 33.015625 56 \nQ 37.15625 56 41.109375 55.140625 \nQ 45.0625 54.296875 48.78125 52.59375 \nz\n\" id=\"DejaVuSans-99\"/>\n      <path d=\"M 54.890625 33.015625 \nL 54.890625 0 \nL 45.90625 0 \nL 45.90625 32.71875 \nQ 45.90625 40.484375 42.875 44.328125 \nQ 39.84375 48.1875 33.796875 48.1875 \nQ 26.515625 48.1875 22.3125 43.546875 \nQ 18.109375 38.921875 18.109375 30.90625 \nL 18.109375 0 \nL 9.078125 0 \nL 9.078125 75.984375 \nL 18.109375 75.984375 \nL 18.109375 46.1875 \nQ 21.34375 51.125 25.703125 53.5625 \nQ 30.078125 56 35.796875 56 \nQ 45.21875 56 50.046875 50.171875 \nQ 54.890625 44.34375 54.890625 33.015625 \nz\n\" id=\"DejaVuSans-104\"/>\n      <path d=\"M 44.28125 53.078125 \nL 44.28125 44.578125 \nQ 40.484375 46.53125 36.375 47.5 \nQ 32.28125 48.484375 27.875 48.484375 \nQ 21.1875 48.484375 17.84375 46.4375 \nQ 14.5 44.390625 14.5 40.28125 \nQ 14.5 37.15625 16.890625 35.375 \nQ 19.28125 33.59375 26.515625 31.984375 \nL 29.59375 31.296875 \nQ 39.15625 29.25 43.1875 25.515625 \nQ 47.21875 21.78125 47.21875 15.09375 \nQ 47.21875 7.46875 41.1875 3.015625 \nQ 35.15625 -1.421875 24.609375 -1.421875 \nQ 20.21875 -1.421875 15.453125 -0.5625 \nQ 10.6875 0.296875 5.421875 2 \nL 5.421875 11.28125 \nQ 10.40625 8.6875 15.234375 7.390625 \nQ 20.0625 6.109375 24.8125 6.109375 \nQ 31.15625 6.109375 34.5625 8.28125 \nQ 37.984375 10.453125 37.984375 14.40625 \nQ 37.984375 18.0625 35.515625 20.015625 \nQ 33.0625 21.96875 24.703125 23.78125 \nL 21.578125 24.515625 \nQ 13.234375 26.265625 9.515625 29.90625 \nQ 5.8125 33.546875 5.8125 39.890625 \nQ 5.8125 47.609375 11.28125 51.796875 \nQ 16.75 56 26.8125 56 \nQ 31.78125 56 36.171875 55.265625 \nQ 40.578125 54.546875 44.28125 53.078125 \nz\n\" id=\"DejaVuSans-115\"/>\n     </defs>\n     <g transform=\"translate(196.45 268.034687)scale(0.1 -0.1)\">\n      <use xlink:href=\"#DejaVuSans-69\"/>\n      <use x=\"63.183594\" xlink:href=\"#DejaVuSans-112\"/>\n      <use x=\"126.660156\" xlink:href=\"#DejaVuSans-111\"/>\n      <use x=\"187.841797\" xlink:href=\"#DejaVuSans-99\"/>\n      <use x=\"242.822266\" xlink:href=\"#DejaVuSans-104\"/>\n      <use x=\"306.201172\" xlink:href=\"#DejaVuSans-115\"/>\n     </g>\n    </g>\n   </g>\n   <g id=\"matplotlib.axis_2\">\n    <g id=\"ytick_1\">\n     <g id=\"line2d_13\">\n      <path clip-path=\"url(#p3c64cde047)\" d=\"M 46.965625 239.758125 \nL 381.765625 239.758125 \n\" style=\"fill:none;stroke:#b0b0b0;stroke-linecap:square;stroke-width:0.8;\"/>\n     </g>\n     <g id=\"line2d_14\">\n      <defs>\n       <path d=\"M 0 0 \nL -3.5 0 \n\" id=\"mfbe182a59a\" style=\"stroke:#000000;stroke-width:0.8;\"/>\n      </defs>\n      <g>\n       <use style=\"stroke:#000000;stroke-width:0.8;\" x=\"46.965625\" xlink:href=\"#mfbe182a59a\" y=\"239.758125\"/>\n      </g>\n     </g>\n     <g id=\"text_8\">\n      <!-- 0 -->\n      <g transform=\"translate(33.603125 243.557344)scale(0.1 -0.1)\">\n       <use xlink:href=\"#DejaVuSans-48\"/>\n      </g>\n     </g>\n    </g>\n    <g id=\"ytick_2\">\n     <g id=\"line2d_15\">\n      <path clip-path=\"url(#p3c64cde047)\" d=\"M 46.965625 196.270125 \nL 381.765625 196.270125 \n\" style=\"fill:none;stroke:#b0b0b0;stroke-linecap:square;stroke-width:0.8;\"/>\n     </g>\n     <g id=\"line2d_16\">\n      <g>\n       <use style=\"stroke:#000000;stroke-width:0.8;\" x=\"46.965625\" xlink:href=\"#mfbe182a59a\" y=\"196.270125\"/>\n      </g>\n     </g>\n     <g id=\"text_9\">\n      <!-- 20 -->\n      <g transform=\"translate(27.240625 200.069344)scale(0.1 -0.1)\">\n       <use xlink:href=\"#DejaVuSans-50\"/>\n       <use x=\"63.623047\" xlink:href=\"#DejaVuSans-48\"/>\n      </g>\n     </g>\n    </g>\n    <g id=\"ytick_3\">\n     <g id=\"line2d_17\">\n      <path clip-path=\"url(#p3c64cde047)\" d=\"M 46.965625 152.782125 \nL 381.765625 152.782125 \n\" style=\"fill:none;stroke:#b0b0b0;stroke-linecap:square;stroke-width:0.8;\"/>\n     </g>\n     <g id=\"line2d_18\">\n      <g>\n       <use style=\"stroke:#000000;stroke-width:0.8;\" x=\"46.965625\" xlink:href=\"#mfbe182a59a\" y=\"152.782125\"/>\n      </g>\n     </g>\n     <g id=\"text_10\">\n      <!-- 40 -->\n      <g transform=\"translate(27.240625 156.581344)scale(0.1 -0.1)\">\n       <use xlink:href=\"#DejaVuSans-52\"/>\n       <use x=\"63.623047\" xlink:href=\"#DejaVuSans-48\"/>\n      </g>\n     </g>\n    </g>\n    <g id=\"ytick_4\">\n     <g id=\"line2d_19\">\n      <path clip-path=\"url(#p3c64cde047)\" d=\"M 46.965625 109.294125 \nL 381.765625 109.294125 \n\" style=\"fill:none;stroke:#b0b0b0;stroke-linecap:square;stroke-width:0.8;\"/>\n     </g>\n     <g id=\"line2d_20\">\n      <g>\n       <use style=\"stroke:#000000;stroke-width:0.8;\" x=\"46.965625\" xlink:href=\"#mfbe182a59a\" y=\"109.294125\"/>\n      </g>\n     </g>\n     <g id=\"text_11\">\n      <!-- 60 -->\n      <defs>\n       <path d=\"M 33.015625 40.375 \nQ 26.375 40.375 22.484375 35.828125 \nQ 18.609375 31.296875 18.609375 23.390625 \nQ 18.609375 15.53125 22.484375 10.953125 \nQ 26.375 6.390625 33.015625 6.390625 \nQ 39.65625 6.390625 43.53125 10.953125 \nQ 47.40625 15.53125 47.40625 23.390625 \nQ 47.40625 31.296875 43.53125 35.828125 \nQ 39.65625 40.375 33.015625 40.375 \nz\nM 52.59375 71.296875 \nL 52.59375 62.3125 \nQ 48.875 64.0625 45.09375 64.984375 \nQ 41.3125 65.921875 37.59375 65.921875 \nQ 27.828125 65.921875 22.671875 59.328125 \nQ 17.53125 52.734375 16.796875 39.40625 \nQ 19.671875 43.65625 24.015625 45.921875 \nQ 28.375 48.1875 33.59375 48.1875 \nQ 44.578125 48.1875 50.953125 41.515625 \nQ 57.328125 34.859375 57.328125 23.390625 \nQ 57.328125 12.15625 50.6875 5.359375 \nQ 44.046875 -1.421875 33.015625 -1.421875 \nQ 20.359375 -1.421875 13.671875 8.265625 \nQ 6.984375 17.96875 6.984375 36.375 \nQ 6.984375 53.65625 15.1875 63.9375 \nQ 23.390625 74.21875 37.203125 74.21875 \nQ 40.921875 74.21875 44.703125 73.484375 \nQ 48.484375 72.75 52.59375 71.296875 \nz\n\" id=\"DejaVuSans-54\"/>\n      </defs>\n      <g transform=\"translate(27.240625 113.093344)scale(0.1 -0.1)\">\n       <use xlink:href=\"#DejaVuSans-54\"/>\n       <use x=\"63.623047\" xlink:href=\"#DejaVuSans-48\"/>\n      </g>\n     </g>\n    </g>\n    <g id=\"ytick_5\">\n     <g id=\"line2d_21\">\n      <path clip-path=\"url(#p3c64cde047)\" d=\"M 46.965625 65.806125 \nL 381.765625 65.806125 \n\" style=\"fill:none;stroke:#b0b0b0;stroke-linecap:square;stroke-width:0.8;\"/>\n     </g>\n     <g id=\"line2d_22\">\n      <g>\n       <use style=\"stroke:#000000;stroke-width:0.8;\" x=\"46.965625\" xlink:href=\"#mfbe182a59a\" y=\"65.806125\"/>\n      </g>\n     </g>\n     <g id=\"text_12\">\n      <!-- 80 -->\n      <defs>\n       <path d=\"M 31.78125 34.625 \nQ 24.75 34.625 20.71875 30.859375 \nQ 16.703125 27.09375 16.703125 20.515625 \nQ 16.703125 13.921875 20.71875 10.15625 \nQ 24.75 6.390625 31.78125 6.390625 \nQ 38.8125 6.390625 42.859375 10.171875 \nQ 46.921875 13.96875 46.921875 20.515625 \nQ 46.921875 27.09375 42.890625 30.859375 \nQ 38.875 34.625 31.78125 34.625 \nz\nM 21.921875 38.8125 \nQ 15.578125 40.375 12.03125 44.71875 \nQ 8.5 49.078125 8.5 55.328125 \nQ 8.5 64.0625 14.71875 69.140625 \nQ 20.953125 74.21875 31.78125 74.21875 \nQ 42.671875 74.21875 48.875 69.140625 \nQ 55.078125 64.0625 55.078125 55.328125 \nQ 55.078125 49.078125 51.53125 44.71875 \nQ 48 40.375 41.703125 38.8125 \nQ 48.828125 37.15625 52.796875 32.3125 \nQ 56.78125 27.484375 56.78125 20.515625 \nQ 56.78125 9.90625 50.3125 4.234375 \nQ 43.84375 -1.421875 31.78125 -1.421875 \nQ 19.734375 -1.421875 13.25 4.234375 \nQ 6.78125 9.90625 6.78125 20.515625 \nQ 6.78125 27.484375 10.78125 32.3125 \nQ 14.796875 37.15625 21.921875 38.8125 \nz\nM 18.3125 54.390625 \nQ 18.3125 48.734375 21.84375 45.5625 \nQ 25.390625 42.390625 31.78125 42.390625 \nQ 38.140625 42.390625 41.71875 45.5625 \nQ 45.3125 48.734375 45.3125 54.390625 \nQ 45.3125 60.0625 41.71875 63.234375 \nQ 38.140625 66.40625 31.78125 66.40625 \nQ 25.390625 66.40625 21.84375 63.234375 \nQ 18.3125 60.0625 18.3125 54.390625 \nz\n\" id=\"DejaVuSans-56\"/>\n      </defs>\n      <g transform=\"translate(27.240625 69.605344)scale(0.1 -0.1)\">\n       <use xlink:href=\"#DejaVuSans-56\"/>\n       <use x=\"63.623047\" xlink:href=\"#DejaVuSans-48\"/>\n      </g>\n     </g>\n    </g>\n    <g id=\"ytick_6\">\n     <g id=\"line2d_23\">\n      <path clip-path=\"url(#p3c64cde047)\" d=\"M 46.965625 22.318125 \nL 381.765625 22.318125 \n\" style=\"fill:none;stroke:#b0b0b0;stroke-linecap:square;stroke-width:0.8;\"/>\n     </g>\n     <g id=\"line2d_24\">\n      <g>\n       <use style=\"stroke:#000000;stroke-width:0.8;\" x=\"46.965625\" xlink:href=\"#mfbe182a59a\" y=\"22.318125\"/>\n      </g>\n     </g>\n     <g id=\"text_13\">\n      <!-- 100 -->\n      <g transform=\"translate(20.878125 26.117344)scale(0.1 -0.1)\">\n       <use xlink:href=\"#DejaVuSans-49\"/>\n       <use x=\"63.623047\" xlink:href=\"#DejaVuSans-48\"/>\n       <use x=\"127.246094\" xlink:href=\"#DejaVuSans-48\"/>\n      </g>\n     </g>\n    </g>\n    <g id=\"text_14\">\n     <!-- Loss -->\n     <defs>\n      <path d=\"M 9.8125 72.90625 \nL 19.671875 72.90625 \nL 19.671875 8.296875 \nL 55.171875 8.296875 \nL 55.171875 0 \nL 9.8125 0 \nz\n\" id=\"DejaVuSans-76\"/>\n     </defs>\n     <g transform=\"translate(14.798438 142.005312)rotate(-90)scale(0.1 -0.1)\">\n      <use xlink:href=\"#DejaVuSans-76\"/>\n      <use x=\"53.962891\" xlink:href=\"#DejaVuSans-111\"/>\n      <use x=\"115.144531\" xlink:href=\"#DejaVuSans-115\"/>\n      <use x=\"167.244141\" xlink:href=\"#DejaVuSans-115\"/>\n     </g>\n    </g>\n   </g>\n   <g id=\"line2d_25\">\n    <path clip-path=\"url(#p3c64cde047)\" d=\"M 119.268943 -1 \nL 124.298835 171.730121 \nL 130.510337 204.992472 \nL 136.72184 171.370705 \nL 142.933343 154.353145 \nL 149.144846 167.275748 \nL 155.356349 190.924914 \nL 161.567851 204.747399 \nL 167.779354 207.318812 \nL 173.990857 205.686178 \nL 180.20236 204.764414 \nL 186.413862 205.4683 \nL 192.625365 206.628165 \nL 198.836868 207.276698 \nL 205.048371 207.335429 \nL 211.259874 207.214732 \nL 217.471376 207.212746 \nL 223.682879 207.276112 \nL 229.894382 207.297174 \nL 236.105885 207.339489 \nL 242.317388 207.330889 \nL 248.52889 207.333893 \nL 254.740393 207.342976 \nL 260.951896 207.341991 \nL 267.163399 207.344004 \nL 273.374901 207.35187 \nL 279.586404 207.352695 \nL 285.797907 207.347085 \nL 292.00941 207.35299 \nL 298.220913 207.334096 \nL 304.432415 207.356817 \nL 310.643918 207.338066 \nL 316.855421 207.354317 \nL 323.066924 207.351218 \nL 329.278426 207.332808 \nL 335.489929 207.32566 \nL 341.701432 207.314967 \nL 347.912935 207.280771 \nL 354.124438 207.333003 \nL 360.33594 207.351714 \nL 366.547443 207.340669 \n\" style=\"fill:none;stroke:#1f77b4;stroke-linecap:square;stroke-width:1.5;\"/>\n    <defs>\n     <path d=\"M 0 2 \nC 0.530406 2 1.03916 1.789267 1.414214 1.414214 \nC 1.789267 1.03916 2 0.530406 2 0 \nC 2 -0.530406 1.789267 -1.03916 1.414214 -1.414214 \nC 1.03916 -1.789267 0.530406 -2 0 -2 \nC -0.530406 -2 -1.03916 -1.789267 -1.414214 -1.414214 \nC -1.789267 -1.03916 -2 -0.530406 -2 0 \nC -2 0.530406 -1.789267 1.03916 -1.414214 1.414214 \nC -1.03916 1.789267 -0.530406 2 0 2 \nz\n\" id=\"me8676588fc\" style=\"stroke:#1f77b4;\"/>\n    </defs>\n    <g clip-path=\"url(#p3c64cde047)\">\n     <use style=\"fill:#1f77b4;stroke:#1f77b4;\" x=\"119.268943\" xlink:href=\"#me8676588fc\" y=\"-1\"/>\n     <use style=\"fill:#1f77b4;stroke:#1f77b4;\" x=\"124.298835\" xlink:href=\"#me8676588fc\" y=\"171.730121\"/>\n     <use style=\"fill:#1f77b4;stroke:#1f77b4;\" x=\"130.510337\" xlink:href=\"#me8676588fc\" y=\"204.992472\"/>\n     <use style=\"fill:#1f77b4;stroke:#1f77b4;\" x=\"136.72184\" xlink:href=\"#me8676588fc\" y=\"171.370705\"/>\n     <use style=\"fill:#1f77b4;stroke:#1f77b4;\" x=\"142.933343\" xlink:href=\"#me8676588fc\" y=\"154.353145\"/>\n     <use style=\"fill:#1f77b4;stroke:#1f77b4;\" x=\"149.144846\" xlink:href=\"#me8676588fc\" y=\"167.275748\"/>\n     <use style=\"fill:#1f77b4;stroke:#1f77b4;\" x=\"155.356349\" xlink:href=\"#me8676588fc\" y=\"190.924914\"/>\n     <use style=\"fill:#1f77b4;stroke:#1f77b4;\" x=\"161.567851\" xlink:href=\"#me8676588fc\" y=\"204.747399\"/>\n     <use style=\"fill:#1f77b4;stroke:#1f77b4;\" x=\"167.779354\" xlink:href=\"#me8676588fc\" y=\"207.318812\"/>\n     <use style=\"fill:#1f77b4;stroke:#1f77b4;\" x=\"173.990857\" xlink:href=\"#me8676588fc\" y=\"205.686178\"/>\n     <use style=\"fill:#1f77b4;stroke:#1f77b4;\" x=\"180.20236\" xlink:href=\"#me8676588fc\" y=\"204.764414\"/>\n     <use style=\"fill:#1f77b4;stroke:#1f77b4;\" x=\"186.413862\" xlink:href=\"#me8676588fc\" y=\"205.4683\"/>\n     <use style=\"fill:#1f77b4;stroke:#1f77b4;\" x=\"192.625365\" xlink:href=\"#me8676588fc\" y=\"206.628165\"/>\n     <use style=\"fill:#1f77b4;stroke:#1f77b4;\" x=\"198.836868\" xlink:href=\"#me8676588fc\" y=\"207.276698\"/>\n     <use style=\"fill:#1f77b4;stroke:#1f77b4;\" x=\"205.048371\" xlink:href=\"#me8676588fc\" y=\"207.335429\"/>\n     <use style=\"fill:#1f77b4;stroke:#1f77b4;\" x=\"211.259874\" xlink:href=\"#me8676588fc\" y=\"207.214732\"/>\n     <use style=\"fill:#1f77b4;stroke:#1f77b4;\" x=\"217.471376\" xlink:href=\"#me8676588fc\" y=\"207.212746\"/>\n     <use style=\"fill:#1f77b4;stroke:#1f77b4;\" x=\"223.682879\" xlink:href=\"#me8676588fc\" y=\"207.276112\"/>\n     <use style=\"fill:#1f77b4;stroke:#1f77b4;\" x=\"229.894382\" xlink:href=\"#me8676588fc\" y=\"207.297174\"/>\n     <use style=\"fill:#1f77b4;stroke:#1f77b4;\" x=\"236.105885\" xlink:href=\"#me8676588fc\" y=\"207.339489\"/>\n     <use style=\"fill:#1f77b4;stroke:#1f77b4;\" x=\"242.317388\" xlink:href=\"#me8676588fc\" y=\"207.330889\"/>\n     <use style=\"fill:#1f77b4;stroke:#1f77b4;\" x=\"248.52889\" xlink:href=\"#me8676588fc\" y=\"207.333893\"/>\n     <use style=\"fill:#1f77b4;stroke:#1f77b4;\" x=\"254.740393\" xlink:href=\"#me8676588fc\" y=\"207.342976\"/>\n     <use style=\"fill:#1f77b4;stroke:#1f77b4;\" x=\"260.951896\" xlink:href=\"#me8676588fc\" y=\"207.341991\"/>\n     <use style=\"fill:#1f77b4;stroke:#1f77b4;\" x=\"267.163399\" xlink:href=\"#me8676588fc\" y=\"207.344004\"/>\n     <use style=\"fill:#1f77b4;stroke:#1f77b4;\" x=\"273.374901\" xlink:href=\"#me8676588fc\" y=\"207.35187\"/>\n     <use style=\"fill:#1f77b4;stroke:#1f77b4;\" x=\"279.586404\" xlink:href=\"#me8676588fc\" y=\"207.352695\"/>\n     <use style=\"fill:#1f77b4;stroke:#1f77b4;\" x=\"285.797907\" xlink:href=\"#me8676588fc\" y=\"207.347085\"/>\n     <use style=\"fill:#1f77b4;stroke:#1f77b4;\" x=\"292.00941\" xlink:href=\"#me8676588fc\" y=\"207.35299\"/>\n     <use style=\"fill:#1f77b4;stroke:#1f77b4;\" x=\"298.220913\" xlink:href=\"#me8676588fc\" y=\"207.334096\"/>\n     <use style=\"fill:#1f77b4;stroke:#1f77b4;\" x=\"304.432415\" xlink:href=\"#me8676588fc\" y=\"207.356817\"/>\n     <use style=\"fill:#1f77b4;stroke:#1f77b4;\" x=\"310.643918\" xlink:href=\"#me8676588fc\" y=\"207.338066\"/>\n     <use style=\"fill:#1f77b4;stroke:#1f77b4;\" x=\"316.855421\" xlink:href=\"#me8676588fc\" y=\"207.354317\"/>\n     <use style=\"fill:#1f77b4;stroke:#1f77b4;\" x=\"323.066924\" xlink:href=\"#me8676588fc\" y=\"207.351218\"/>\n     <use style=\"fill:#1f77b4;stroke:#1f77b4;\" x=\"329.278426\" xlink:href=\"#me8676588fc\" y=\"207.332808\"/>\n     <use style=\"fill:#1f77b4;stroke:#1f77b4;\" x=\"335.489929\" xlink:href=\"#me8676588fc\" y=\"207.32566\"/>\n     <use style=\"fill:#1f77b4;stroke:#1f77b4;\" x=\"341.701432\" xlink:href=\"#me8676588fc\" y=\"207.314967\"/>\n     <use style=\"fill:#1f77b4;stroke:#1f77b4;\" x=\"347.912935\" xlink:href=\"#me8676588fc\" y=\"207.280771\"/>\n     <use style=\"fill:#1f77b4;stroke:#1f77b4;\" x=\"354.124438\" xlink:href=\"#me8676588fc\" y=\"207.333003\"/>\n     <use style=\"fill:#1f77b4;stroke:#1f77b4;\" x=\"360.33594\" xlink:href=\"#me8676588fc\" y=\"207.351714\"/>\n     <use style=\"fill:#1f77b4;stroke:#1f77b4;\" x=\"366.547443\" xlink:href=\"#me8676588fc\" y=\"207.340669\"/>\n    </g>\n   </g>\n   <g id=\"line2d_26\">\n    <path clip-path=\"url(#p3c64cde047)\" d=\"M 122.278592 -1 \nL 124.298835 98.332402 \nL 130.510337 111.396712 \nL 136.72184 116.080462 \nL 142.933343 149.781812 \nL 149.144846 106.173733 \nL 155.356349 146.090311 \nL 161.567851 170.812323 \nL 167.779354 184.650283 \nL 173.990857 164.043396 \nL 180.20236 169.70929 \nL 186.413862 179.692383 \nL 192.625365 160.546642 \nL 198.836868 157.647856 \nL 205.048371 188.949011 \nL 211.259874 139.749306 \nL 217.471376 173.053012 \nL 223.682879 165.117806 \nL 229.894382 162.956126 \nL 236.105885 165.253136 \nL 242.317388 178.441635 \nL 248.52889 169.910685 \nL 254.740393 147.045077 \nL 260.951896 165.567397 \nL 267.163399 185.222453 \nL 273.374901 157.583802 \nL 279.586404 178.913932 \nL 285.797907 184.787834 \nL 292.00941 171.627129 \nL 298.220913 160.569012 \nL 304.432415 168.088442 \nL 310.643918 174.233126 \nL 316.855421 157.600382 \nL 323.066924 150.70778 \nL 329.278426 163.984293 \nL 335.489929 154.137536 \nL 341.701432 161.198626 \nL 347.912935 165.448398 \nL 354.124438 162.634117 \nL 360.33594 184.680509 \nL 366.547443 188.415849 \n\" style=\"fill:none;stroke:#ff7f0e;stroke-linecap:square;stroke-width:1.5;\"/>\n    <defs>\n     <path d=\"M 0 2 \nC 0.530406 2 1.03916 1.789267 1.414214 1.414214 \nC 1.789267 1.03916 2 0.530406 2 0 \nC 2 -0.530406 1.789267 -1.03916 1.414214 -1.414214 \nC 1.03916 -1.789267 0.530406 -2 0 -2 \nC -0.530406 -2 -1.03916 -1.789267 -1.414214 -1.414214 \nC -1.789267 -1.03916 -2 -0.530406 -2 0 \nC -2 0.530406 -1.789267 1.03916 -1.414214 1.414214 \nC -1.03916 1.789267 -0.530406 2 0 2 \nz\n\" id=\"m038c51de0a\" style=\"stroke:#ff7f0e;\"/>\n    </defs>\n    <g clip-path=\"url(#p3c64cde047)\">\n     <use style=\"fill:#ff7f0e;stroke:#ff7f0e;\" x=\"122.278592\" xlink:href=\"#m038c51de0a\" y=\"-1\"/>\n     <use style=\"fill:#ff7f0e;stroke:#ff7f0e;\" x=\"124.298835\" xlink:href=\"#m038c51de0a\" y=\"98.332402\"/>\n     <use style=\"fill:#ff7f0e;stroke:#ff7f0e;\" x=\"130.510337\" xlink:href=\"#m038c51de0a\" y=\"111.396712\"/>\n     <use style=\"fill:#ff7f0e;stroke:#ff7f0e;\" x=\"136.72184\" xlink:href=\"#m038c51de0a\" y=\"116.080462\"/>\n     <use style=\"fill:#ff7f0e;stroke:#ff7f0e;\" x=\"142.933343\" xlink:href=\"#m038c51de0a\" y=\"149.781812\"/>\n     <use style=\"fill:#ff7f0e;stroke:#ff7f0e;\" x=\"149.144846\" xlink:href=\"#m038c51de0a\" y=\"106.173733\"/>\n     <use style=\"fill:#ff7f0e;stroke:#ff7f0e;\" x=\"155.356349\" xlink:href=\"#m038c51de0a\" y=\"146.090311\"/>\n     <use style=\"fill:#ff7f0e;stroke:#ff7f0e;\" x=\"161.567851\" xlink:href=\"#m038c51de0a\" y=\"170.812323\"/>\n     <use style=\"fill:#ff7f0e;stroke:#ff7f0e;\" x=\"167.779354\" xlink:href=\"#m038c51de0a\" y=\"184.650283\"/>\n     <use style=\"fill:#ff7f0e;stroke:#ff7f0e;\" x=\"173.990857\" xlink:href=\"#m038c51de0a\" y=\"164.043396\"/>\n     <use style=\"fill:#ff7f0e;stroke:#ff7f0e;\" x=\"180.20236\" xlink:href=\"#m038c51de0a\" y=\"169.70929\"/>\n     <use style=\"fill:#ff7f0e;stroke:#ff7f0e;\" x=\"186.413862\" xlink:href=\"#m038c51de0a\" y=\"179.692383\"/>\n     <use style=\"fill:#ff7f0e;stroke:#ff7f0e;\" x=\"192.625365\" xlink:href=\"#m038c51de0a\" y=\"160.546642\"/>\n     <use style=\"fill:#ff7f0e;stroke:#ff7f0e;\" x=\"198.836868\" xlink:href=\"#m038c51de0a\" y=\"157.647856\"/>\n     <use style=\"fill:#ff7f0e;stroke:#ff7f0e;\" x=\"205.048371\" xlink:href=\"#m038c51de0a\" y=\"188.949011\"/>\n     <use style=\"fill:#ff7f0e;stroke:#ff7f0e;\" x=\"211.259874\" xlink:href=\"#m038c51de0a\" y=\"139.749306\"/>\n     <use style=\"fill:#ff7f0e;stroke:#ff7f0e;\" x=\"217.471376\" xlink:href=\"#m038c51de0a\" y=\"173.053012\"/>\n     <use style=\"fill:#ff7f0e;stroke:#ff7f0e;\" x=\"223.682879\" xlink:href=\"#m038c51de0a\" y=\"165.117806\"/>\n     <use style=\"fill:#ff7f0e;stroke:#ff7f0e;\" x=\"229.894382\" xlink:href=\"#m038c51de0a\" y=\"162.956126\"/>\n     <use style=\"fill:#ff7f0e;stroke:#ff7f0e;\" x=\"236.105885\" xlink:href=\"#m038c51de0a\" y=\"165.253136\"/>\n     <use style=\"fill:#ff7f0e;stroke:#ff7f0e;\" x=\"242.317388\" xlink:href=\"#m038c51de0a\" y=\"178.441635\"/>\n     <use style=\"fill:#ff7f0e;stroke:#ff7f0e;\" x=\"248.52889\" xlink:href=\"#m038c51de0a\" y=\"169.910685\"/>\n     <use style=\"fill:#ff7f0e;stroke:#ff7f0e;\" x=\"254.740393\" xlink:href=\"#m038c51de0a\" y=\"147.045077\"/>\n     <use style=\"fill:#ff7f0e;stroke:#ff7f0e;\" x=\"260.951896\" xlink:href=\"#m038c51de0a\" y=\"165.567397\"/>\n     <use style=\"fill:#ff7f0e;stroke:#ff7f0e;\" x=\"267.163399\" xlink:href=\"#m038c51de0a\" y=\"185.222453\"/>\n     <use style=\"fill:#ff7f0e;stroke:#ff7f0e;\" x=\"273.374901\" xlink:href=\"#m038c51de0a\" y=\"157.583802\"/>\n     <use style=\"fill:#ff7f0e;stroke:#ff7f0e;\" x=\"279.586404\" xlink:href=\"#m038c51de0a\" y=\"178.913932\"/>\n     <use style=\"fill:#ff7f0e;stroke:#ff7f0e;\" x=\"285.797907\" xlink:href=\"#m038c51de0a\" y=\"184.787834\"/>\n     <use style=\"fill:#ff7f0e;stroke:#ff7f0e;\" x=\"292.00941\" xlink:href=\"#m038c51de0a\" y=\"171.627129\"/>\n     <use style=\"fill:#ff7f0e;stroke:#ff7f0e;\" x=\"298.220913\" xlink:href=\"#m038c51de0a\" y=\"160.569012\"/>\n     <use style=\"fill:#ff7f0e;stroke:#ff7f0e;\" x=\"304.432415\" xlink:href=\"#m038c51de0a\" y=\"168.088442\"/>\n     <use style=\"fill:#ff7f0e;stroke:#ff7f0e;\" x=\"310.643918\" xlink:href=\"#m038c51de0a\" y=\"174.233126\"/>\n     <use style=\"fill:#ff7f0e;stroke:#ff7f0e;\" x=\"316.855421\" xlink:href=\"#m038c51de0a\" y=\"157.600382\"/>\n     <use style=\"fill:#ff7f0e;stroke:#ff7f0e;\" x=\"323.066924\" xlink:href=\"#m038c51de0a\" y=\"150.70778\"/>\n     <use style=\"fill:#ff7f0e;stroke:#ff7f0e;\" x=\"329.278426\" xlink:href=\"#m038c51de0a\" y=\"163.984293\"/>\n     <use style=\"fill:#ff7f0e;stroke:#ff7f0e;\" x=\"335.489929\" xlink:href=\"#m038c51de0a\" y=\"154.137536\"/>\n     <use style=\"fill:#ff7f0e;stroke:#ff7f0e;\" x=\"341.701432\" xlink:href=\"#m038c51de0a\" y=\"161.198626\"/>\n     <use style=\"fill:#ff7f0e;stroke:#ff7f0e;\" x=\"347.912935\" xlink:href=\"#m038c51de0a\" y=\"165.448398\"/>\n     <use style=\"fill:#ff7f0e;stroke:#ff7f0e;\" x=\"354.124438\" xlink:href=\"#m038c51de0a\" y=\"162.634117\"/>\n     <use style=\"fill:#ff7f0e;stroke:#ff7f0e;\" x=\"360.33594\" xlink:href=\"#m038c51de0a\" y=\"184.680509\"/>\n     <use style=\"fill:#ff7f0e;stroke:#ff7f0e;\" x=\"366.547443\" xlink:href=\"#m038c51de0a\" y=\"188.415849\"/>\n    </g>\n   </g>\n   <g id=\"patch_3\">\n    <path d=\"M 46.965625 239.758125 \nL 46.965625 22.318125 \n\" style=\"fill:none;stroke:#000000;stroke-linecap:square;stroke-linejoin:miter;stroke-width:0.8;\"/>\n   </g>\n   <g id=\"patch_4\">\n    <path d=\"M 381.765625 239.758125 \nL 381.765625 22.318125 \n\" style=\"fill:none;stroke:#000000;stroke-linecap:square;stroke-linejoin:miter;stroke-width:0.8;\"/>\n   </g>\n   <g id=\"patch_5\">\n    <path d=\"M 46.965625 239.758125 \nL 381.765625 239.758125 \n\" style=\"fill:none;stroke:#000000;stroke-linecap:square;stroke-linejoin:miter;stroke-width:0.8;\"/>\n   </g>\n   <g id=\"patch_6\">\n    <path d=\"M 46.965625 22.318125 \nL 381.765625 22.318125 \n\" style=\"fill:none;stroke:#000000;stroke-linecap:square;stroke-linejoin:miter;stroke-width:0.8;\"/>\n   </g>\n   <g id=\"text_15\">\n    <!-- Model loss -->\n    <defs>\n     <path d=\"M 9.8125 72.90625 \nL 24.515625 72.90625 \nL 43.109375 23.296875 \nL 61.8125 72.90625 \nL 76.515625 72.90625 \nL 76.515625 0 \nL 66.890625 0 \nL 66.890625 64.015625 \nL 48.09375 14.015625 \nL 38.1875 14.015625 \nL 19.390625 64.015625 \nL 19.390625 0 \nL 9.8125 0 \nz\n\" id=\"DejaVuSans-77\"/>\n     <path d=\"M 45.40625 46.390625 \nL 45.40625 75.984375 \nL 54.390625 75.984375 \nL 54.390625 0 \nL 45.40625 0 \nL 45.40625 8.203125 \nQ 42.578125 3.328125 38.25 0.953125 \nQ 33.9375 -1.421875 27.875 -1.421875 \nQ 17.96875 -1.421875 11.734375 6.484375 \nQ 5.515625 14.40625 5.515625 27.296875 \nQ 5.515625 40.1875 11.734375 48.09375 \nQ 17.96875 56 27.875 56 \nQ 33.9375 56 38.25 53.625 \nQ 42.578125 51.265625 45.40625 46.390625 \nz\nM 14.796875 27.296875 \nQ 14.796875 17.390625 18.875 11.75 \nQ 22.953125 6.109375 30.078125 6.109375 \nQ 37.203125 6.109375 41.296875 11.75 \nQ 45.40625 17.390625 45.40625 27.296875 \nQ 45.40625 37.203125 41.296875 42.84375 \nQ 37.203125 48.484375 30.078125 48.484375 \nQ 22.953125 48.484375 18.875 42.84375 \nQ 14.796875 37.203125 14.796875 27.296875 \nz\n\" id=\"DejaVuSans-100\"/>\n     <path d=\"M 56.203125 29.59375 \nL 56.203125 25.203125 \nL 14.890625 25.203125 \nQ 15.484375 15.921875 20.484375 11.0625 \nQ 25.484375 6.203125 34.421875 6.203125 \nQ 39.59375 6.203125 44.453125 7.46875 \nQ 49.3125 8.734375 54.109375 11.28125 \nL 54.109375 2.78125 \nQ 49.265625 0.734375 44.1875 -0.34375 \nQ 39.109375 -1.421875 33.890625 -1.421875 \nQ 20.796875 -1.421875 13.15625 6.1875 \nQ 5.515625 13.8125 5.515625 26.8125 \nQ 5.515625 40.234375 12.765625 48.109375 \nQ 20.015625 56 32.328125 56 \nQ 43.359375 56 49.78125 48.890625 \nQ 56.203125 41.796875 56.203125 29.59375 \nz\nM 47.21875 32.234375 \nQ 47.125 39.59375 43.09375 43.984375 \nQ 39.0625 48.390625 32.421875 48.390625 \nQ 24.90625 48.390625 20.390625 44.140625 \nQ 15.875 39.890625 15.1875 32.171875 \nz\n\" id=\"DejaVuSans-101\"/>\n     <path d=\"M 9.421875 75.984375 \nL 18.40625 75.984375 \nL 18.40625 0 \nL 9.421875 0 \nz\n\" id=\"DejaVuSans-108\"/>\n     <path id=\"DejaVuSans-32\"/>\n    </defs>\n    <g transform=\"translate(182.853438 16.318125)scale(0.12 -0.12)\">\n     <use xlink:href=\"#DejaVuSans-77\"/>\n     <use x=\"86.279297\" xlink:href=\"#DejaVuSans-111\"/>\n     <use x=\"147.460938\" xlink:href=\"#DejaVuSans-100\"/>\n     <use x=\"210.9375\" xlink:href=\"#DejaVuSans-101\"/>\n     <use x=\"272.460938\" xlink:href=\"#DejaVuSans-108\"/>\n     <use x=\"300.244141\" xlink:href=\"#DejaVuSans-32\"/>\n     <use x=\"332.03125\" xlink:href=\"#DejaVuSans-108\"/>\n     <use x=\"359.814453\" xlink:href=\"#DejaVuSans-111\"/>\n     <use x=\"420.996094\" xlink:href=\"#DejaVuSans-115\"/>\n     <use x=\"473.095703\" xlink:href=\"#DejaVuSans-115\"/>\n    </g>\n   </g>\n  </g>\n </g>\n <defs>\n  <clipPath id=\"p3c64cde047\">\n   <rect height=\"217.44\" width=\"334.8\" x=\"46.965625\" y=\"22.318125\"/>\n  </clipPath>\n </defs>\n</svg>\n"
          },
          "metadata": {
            "needs_background": "light"
          }
        }
      ]
    },
    {
      "cell_type": "markdown",
      "source": [
        "## 7.3 Inferencia"
      ],
      "metadata": {
        "id": "JzQ0MBwK2Yu0"
      }
    },
    {
      "cell_type": "code",
      "source": [
        "# inferencia\n",
        "x_inf = torch.tensor([3.,12.])\n",
        "\n",
        "with torch.no_grad():\n",
        "  y_hat = model_high(x_inf)\n",
        "\n",
        "  print(f'Un alumno con {int(x_inf[0])} de califación previa y {int(x_inf[1])} horas de estudio, se predice que obtendrá{y_hat.item():6.2f} de calificación en el examen.')"
      ],
      "metadata": {
        "colab": {
          "base_uri": "https://localhost:8080/"
        },
        "id": "BNTy5lAz2JVH",
        "outputId": "849e1691-256b-4ab1-8217-50da8b7f5785"
      },
      "execution_count": 33,
      "outputs": [
        {
          "output_type": "stream",
          "name": "stdout",
          "text": [
            "Un alumno con 3 de califación previa y 12 horas de estudio, se predice que obtendrá  6.66 de calificación en el examen.\n"
          ]
        }
      ]
    },
    {
      "cell_type": "markdown",
      "source": [
        "Las arquitecturas desarrolladas tanto en la interfaz de alto como medio nivel son equivalentes y generan los mismos resultados."
      ],
      "metadata": {
        "id": "wX1BraAr2c-a"
      }
    }
  ]
}