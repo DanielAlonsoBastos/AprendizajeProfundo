{
  "nbformat": 4,
  "nbformat_minor": 0,
  "metadata": {
    "colab": {
      "provenance": [],
      "collapsed_sections": [],
      "toc_visible": true
    },
    "kernelspec": {
      "name": "python3",
      "display_name": "Python 3"
    },
    "language_info": {
      "name": "python"
    },
    "accelerator": "GPU",
    "gpuClass": "standard",
    "widgets": {
      "application/vnd.jupyter.widget-state+json": {
        "515eeb17e1084edba711d2ee8a728389": {
          "model_module": "@jupyter-widgets/controls",
          "model_name": "HBoxModel",
          "model_module_version": "1.5.0",
          "state": {
            "_dom_classes": [],
            "_model_module": "@jupyter-widgets/controls",
            "_model_module_version": "1.5.0",
            "_model_name": "HBoxModel",
            "_view_count": null,
            "_view_module": "@jupyter-widgets/controls",
            "_view_module_version": "1.5.0",
            "_view_name": "HBoxView",
            "box_style": "",
            "children": [
              "IPY_MODEL_40b26669df8d4f52a0ae99e1943f6db8",
              "IPY_MODEL_338bb210313c4568b38f9c507fd82dd9",
              "IPY_MODEL_c9826eebbbd94884bf90c171d011ccf9"
            ],
            "layout": "IPY_MODEL_148124d92c034d319d2bc244c0023fc9"
          }
        },
        "40b26669df8d4f52a0ae99e1943f6db8": {
          "model_module": "@jupyter-widgets/controls",
          "model_name": "HTMLModel",
          "model_module_version": "1.5.0",
          "state": {
            "_dom_classes": [],
            "_model_module": "@jupyter-widgets/controls",
            "_model_module_version": "1.5.0",
            "_model_name": "HTMLModel",
            "_view_count": null,
            "_view_module": "@jupyter-widgets/controls",
            "_view_module_version": "1.5.0",
            "_view_name": "HTMLView",
            "description": "",
            "description_tooltip": null,
            "layout": "IPY_MODEL_739f186edd7d4de09f0df037801e6b8b",
            "placeholder": "​",
            "style": "IPY_MODEL_b620d14f020848f5bfb5d4b9476bd072",
            "value": "100%"
          }
        },
        "338bb210313c4568b38f9c507fd82dd9": {
          "model_module": "@jupyter-widgets/controls",
          "model_name": "FloatProgressModel",
          "model_module_version": "1.5.0",
          "state": {
            "_dom_classes": [],
            "_model_module": "@jupyter-widgets/controls",
            "_model_module_version": "1.5.0",
            "_model_name": "FloatProgressModel",
            "_view_count": null,
            "_view_module": "@jupyter-widgets/controls",
            "_view_module_version": "1.5.0",
            "_view_name": "ProgressView",
            "bar_style": "success",
            "description": "",
            "description_tooltip": null,
            "layout": "IPY_MODEL_71f6a5e6db39430fbee5b40da4601a07",
            "max": 10,
            "min": 0,
            "orientation": "horizontal",
            "style": "IPY_MODEL_655a7c3856cd4051a833e79f016bbfad",
            "value": 10
          }
        },
        "c9826eebbbd94884bf90c171d011ccf9": {
          "model_module": "@jupyter-widgets/controls",
          "model_name": "HTMLModel",
          "model_module_version": "1.5.0",
          "state": {
            "_dom_classes": [],
            "_model_module": "@jupyter-widgets/controls",
            "_model_module_version": "1.5.0",
            "_model_name": "HTMLModel",
            "_view_count": null,
            "_view_module": "@jupyter-widgets/controls",
            "_view_module_version": "1.5.0",
            "_view_name": "HTMLView",
            "description": "",
            "description_tooltip": null,
            "layout": "IPY_MODEL_fb3859b2a108415d9f270d305cd64931",
            "placeholder": "​",
            "style": "IPY_MODEL_ae8a0e502b63407e8ce4855821dd6d1a",
            "value": " 10/10 [00:25&lt;00:00,  2.32s/it]"
          }
        },
        "148124d92c034d319d2bc244c0023fc9": {
          "model_module": "@jupyter-widgets/base",
          "model_name": "LayoutModel",
          "model_module_version": "1.2.0",
          "state": {
            "_model_module": "@jupyter-widgets/base",
            "_model_module_version": "1.2.0",
            "_model_name": "LayoutModel",
            "_view_count": null,
            "_view_module": "@jupyter-widgets/base",
            "_view_module_version": "1.2.0",
            "_view_name": "LayoutView",
            "align_content": null,
            "align_items": null,
            "align_self": null,
            "border": null,
            "bottom": null,
            "display": null,
            "flex": null,
            "flex_flow": null,
            "grid_area": null,
            "grid_auto_columns": null,
            "grid_auto_flow": null,
            "grid_auto_rows": null,
            "grid_column": null,
            "grid_gap": null,
            "grid_row": null,
            "grid_template_areas": null,
            "grid_template_columns": null,
            "grid_template_rows": null,
            "height": null,
            "justify_content": null,
            "justify_items": null,
            "left": null,
            "margin": null,
            "max_height": null,
            "max_width": null,
            "min_height": null,
            "min_width": null,
            "object_fit": null,
            "object_position": null,
            "order": null,
            "overflow": null,
            "overflow_x": null,
            "overflow_y": null,
            "padding": null,
            "right": null,
            "top": null,
            "visibility": null,
            "width": null
          }
        },
        "739f186edd7d4de09f0df037801e6b8b": {
          "model_module": "@jupyter-widgets/base",
          "model_name": "LayoutModel",
          "model_module_version": "1.2.0",
          "state": {
            "_model_module": "@jupyter-widgets/base",
            "_model_module_version": "1.2.0",
            "_model_name": "LayoutModel",
            "_view_count": null,
            "_view_module": "@jupyter-widgets/base",
            "_view_module_version": "1.2.0",
            "_view_name": "LayoutView",
            "align_content": null,
            "align_items": null,
            "align_self": null,
            "border": null,
            "bottom": null,
            "display": null,
            "flex": null,
            "flex_flow": null,
            "grid_area": null,
            "grid_auto_columns": null,
            "grid_auto_flow": null,
            "grid_auto_rows": null,
            "grid_column": null,
            "grid_gap": null,
            "grid_row": null,
            "grid_template_areas": null,
            "grid_template_columns": null,
            "grid_template_rows": null,
            "height": null,
            "justify_content": null,
            "justify_items": null,
            "left": null,
            "margin": null,
            "max_height": null,
            "max_width": null,
            "min_height": null,
            "min_width": null,
            "object_fit": null,
            "object_position": null,
            "order": null,
            "overflow": null,
            "overflow_x": null,
            "overflow_y": null,
            "padding": null,
            "right": null,
            "top": null,
            "visibility": null,
            "width": null
          }
        },
        "b620d14f020848f5bfb5d4b9476bd072": {
          "model_module": "@jupyter-widgets/controls",
          "model_name": "DescriptionStyleModel",
          "model_module_version": "1.5.0",
          "state": {
            "_model_module": "@jupyter-widgets/controls",
            "_model_module_version": "1.5.0",
            "_model_name": "DescriptionStyleModel",
            "_view_count": null,
            "_view_module": "@jupyter-widgets/base",
            "_view_module_version": "1.2.0",
            "_view_name": "StyleView",
            "description_width": ""
          }
        },
        "71f6a5e6db39430fbee5b40da4601a07": {
          "model_module": "@jupyter-widgets/base",
          "model_name": "LayoutModel",
          "model_module_version": "1.2.0",
          "state": {
            "_model_module": "@jupyter-widgets/base",
            "_model_module_version": "1.2.0",
            "_model_name": "LayoutModel",
            "_view_count": null,
            "_view_module": "@jupyter-widgets/base",
            "_view_module_version": "1.2.0",
            "_view_name": "LayoutView",
            "align_content": null,
            "align_items": null,
            "align_self": null,
            "border": null,
            "bottom": null,
            "display": null,
            "flex": null,
            "flex_flow": null,
            "grid_area": null,
            "grid_auto_columns": null,
            "grid_auto_flow": null,
            "grid_auto_rows": null,
            "grid_column": null,
            "grid_gap": null,
            "grid_row": null,
            "grid_template_areas": null,
            "grid_template_columns": null,
            "grid_template_rows": null,
            "height": null,
            "justify_content": null,
            "justify_items": null,
            "left": null,
            "margin": null,
            "max_height": null,
            "max_width": null,
            "min_height": null,
            "min_width": null,
            "object_fit": null,
            "object_position": null,
            "order": null,
            "overflow": null,
            "overflow_x": null,
            "overflow_y": null,
            "padding": null,
            "right": null,
            "top": null,
            "visibility": null,
            "width": null
          }
        },
        "655a7c3856cd4051a833e79f016bbfad": {
          "model_module": "@jupyter-widgets/controls",
          "model_name": "ProgressStyleModel",
          "model_module_version": "1.5.0",
          "state": {
            "_model_module": "@jupyter-widgets/controls",
            "_model_module_version": "1.5.0",
            "_model_name": "ProgressStyleModel",
            "_view_count": null,
            "_view_module": "@jupyter-widgets/base",
            "_view_module_version": "1.2.0",
            "_view_name": "StyleView",
            "bar_color": null,
            "description_width": ""
          }
        },
        "fb3859b2a108415d9f270d305cd64931": {
          "model_module": "@jupyter-widgets/base",
          "model_name": "LayoutModel",
          "model_module_version": "1.2.0",
          "state": {
            "_model_module": "@jupyter-widgets/base",
            "_model_module_version": "1.2.0",
            "_model_name": "LayoutModel",
            "_view_count": null,
            "_view_module": "@jupyter-widgets/base",
            "_view_module_version": "1.2.0",
            "_view_name": "LayoutView",
            "align_content": null,
            "align_items": null,
            "align_self": null,
            "border": null,
            "bottom": null,
            "display": null,
            "flex": null,
            "flex_flow": null,
            "grid_area": null,
            "grid_auto_columns": null,
            "grid_auto_flow": null,
            "grid_auto_rows": null,
            "grid_column": null,
            "grid_gap": null,
            "grid_row": null,
            "grid_template_areas": null,
            "grid_template_columns": null,
            "grid_template_rows": null,
            "height": null,
            "justify_content": null,
            "justify_items": null,
            "left": null,
            "margin": null,
            "max_height": null,
            "max_width": null,
            "min_height": null,
            "min_width": null,
            "object_fit": null,
            "object_position": null,
            "order": null,
            "overflow": null,
            "overflow_x": null,
            "overflow_y": null,
            "padding": null,
            "right": null,
            "top": null,
            "visibility": null,
            "width": null
          }
        },
        "ae8a0e502b63407e8ce4855821dd6d1a": {
          "model_module": "@jupyter-widgets/controls",
          "model_name": "DescriptionStyleModel",
          "model_module_version": "1.5.0",
          "state": {
            "_model_module": "@jupyter-widgets/controls",
            "_model_module_version": "1.5.0",
            "_model_name": "DescriptionStyleModel",
            "_view_count": null,
            "_view_module": "@jupyter-widgets/base",
            "_view_module_version": "1.2.0",
            "_view_name": "StyleView",
            "description_width": ""
          }
        },
        "64dd70085ef446979c23fc0c547f3b7e": {
          "model_module": "@jupyter-widgets/controls",
          "model_name": "HBoxModel",
          "model_module_version": "1.5.0",
          "state": {
            "_dom_classes": [],
            "_model_module": "@jupyter-widgets/controls",
            "_model_module_version": "1.5.0",
            "_model_name": "HBoxModel",
            "_view_count": null,
            "_view_module": "@jupyter-widgets/controls",
            "_view_module_version": "1.5.0",
            "_view_name": "HBoxView",
            "box_style": "",
            "children": [
              "IPY_MODEL_98eb1db5c2dd4c6eb80257249b32739b",
              "IPY_MODEL_e049315613904836a3b6c76540b31909",
              "IPY_MODEL_90ac14081f3a4852ae388262a8660594"
            ],
            "layout": "IPY_MODEL_f7d367ad2a4e424289c272f874b611f3"
          }
        },
        "98eb1db5c2dd4c6eb80257249b32739b": {
          "model_module": "@jupyter-widgets/controls",
          "model_name": "HTMLModel",
          "model_module_version": "1.5.0",
          "state": {
            "_dom_classes": [],
            "_model_module": "@jupyter-widgets/controls",
            "_model_module_version": "1.5.0",
            "_model_name": "HTMLModel",
            "_view_count": null,
            "_view_module": "@jupyter-widgets/controls",
            "_view_module_version": "1.5.0",
            "_view_name": "HTMLView",
            "description": "",
            "description_tooltip": null,
            "layout": "IPY_MODEL_cdcf688ae7394222817b42b09871efca",
            "placeholder": "​",
            "style": "IPY_MODEL_6442b420485a400aa08b194444dfd961",
            "value": "100%"
          }
        },
        "e049315613904836a3b6c76540b31909": {
          "model_module": "@jupyter-widgets/controls",
          "model_name": "FloatProgressModel",
          "model_module_version": "1.5.0",
          "state": {
            "_dom_classes": [],
            "_model_module": "@jupyter-widgets/controls",
            "_model_module_version": "1.5.0",
            "_model_name": "FloatProgressModel",
            "_view_count": null,
            "_view_module": "@jupyter-widgets/controls",
            "_view_module_version": "1.5.0",
            "_view_name": "ProgressView",
            "bar_style": "success",
            "description": "",
            "description_tooltip": null,
            "layout": "IPY_MODEL_e8c5b57239fd40cb8a6cd3f8b36d5ca0",
            "max": 10,
            "min": 0,
            "orientation": "horizontal",
            "style": "IPY_MODEL_d382dc6e4fe84dc6b4217eda7c8e817f",
            "value": 10
          }
        },
        "90ac14081f3a4852ae388262a8660594": {
          "model_module": "@jupyter-widgets/controls",
          "model_name": "HTMLModel",
          "model_module_version": "1.5.0",
          "state": {
            "_dom_classes": [],
            "_model_module": "@jupyter-widgets/controls",
            "_model_module_version": "1.5.0",
            "_model_name": "HTMLModel",
            "_view_count": null,
            "_view_module": "@jupyter-widgets/controls",
            "_view_module_version": "1.5.0",
            "_view_name": "HTMLView",
            "description": "",
            "description_tooltip": null,
            "layout": "IPY_MODEL_825c4cea8e67437395fe66983d96b8c1",
            "placeholder": "​",
            "style": "IPY_MODEL_c26672bd02854437ab0e6df7956b6e0d",
            "value": " 10/10 [00:25&lt;00:00,  2.73s/it]"
          }
        },
        "f7d367ad2a4e424289c272f874b611f3": {
          "model_module": "@jupyter-widgets/base",
          "model_name": "LayoutModel",
          "model_module_version": "1.2.0",
          "state": {
            "_model_module": "@jupyter-widgets/base",
            "_model_module_version": "1.2.0",
            "_model_name": "LayoutModel",
            "_view_count": null,
            "_view_module": "@jupyter-widgets/base",
            "_view_module_version": "1.2.0",
            "_view_name": "LayoutView",
            "align_content": null,
            "align_items": null,
            "align_self": null,
            "border": null,
            "bottom": null,
            "display": null,
            "flex": null,
            "flex_flow": null,
            "grid_area": null,
            "grid_auto_columns": null,
            "grid_auto_flow": null,
            "grid_auto_rows": null,
            "grid_column": null,
            "grid_gap": null,
            "grid_row": null,
            "grid_template_areas": null,
            "grid_template_columns": null,
            "grid_template_rows": null,
            "height": null,
            "justify_content": null,
            "justify_items": null,
            "left": null,
            "margin": null,
            "max_height": null,
            "max_width": null,
            "min_height": null,
            "min_width": null,
            "object_fit": null,
            "object_position": null,
            "order": null,
            "overflow": null,
            "overflow_x": null,
            "overflow_y": null,
            "padding": null,
            "right": null,
            "top": null,
            "visibility": null,
            "width": null
          }
        },
        "cdcf688ae7394222817b42b09871efca": {
          "model_module": "@jupyter-widgets/base",
          "model_name": "LayoutModel",
          "model_module_version": "1.2.0",
          "state": {
            "_model_module": "@jupyter-widgets/base",
            "_model_module_version": "1.2.0",
            "_model_name": "LayoutModel",
            "_view_count": null,
            "_view_module": "@jupyter-widgets/base",
            "_view_module_version": "1.2.0",
            "_view_name": "LayoutView",
            "align_content": null,
            "align_items": null,
            "align_self": null,
            "border": null,
            "bottom": null,
            "display": null,
            "flex": null,
            "flex_flow": null,
            "grid_area": null,
            "grid_auto_columns": null,
            "grid_auto_flow": null,
            "grid_auto_rows": null,
            "grid_column": null,
            "grid_gap": null,
            "grid_row": null,
            "grid_template_areas": null,
            "grid_template_columns": null,
            "grid_template_rows": null,
            "height": null,
            "justify_content": null,
            "justify_items": null,
            "left": null,
            "margin": null,
            "max_height": null,
            "max_width": null,
            "min_height": null,
            "min_width": null,
            "object_fit": null,
            "object_position": null,
            "order": null,
            "overflow": null,
            "overflow_x": null,
            "overflow_y": null,
            "padding": null,
            "right": null,
            "top": null,
            "visibility": null,
            "width": null
          }
        },
        "6442b420485a400aa08b194444dfd961": {
          "model_module": "@jupyter-widgets/controls",
          "model_name": "DescriptionStyleModel",
          "model_module_version": "1.5.0",
          "state": {
            "_model_module": "@jupyter-widgets/controls",
            "_model_module_version": "1.5.0",
            "_model_name": "DescriptionStyleModel",
            "_view_count": null,
            "_view_module": "@jupyter-widgets/base",
            "_view_module_version": "1.2.0",
            "_view_name": "StyleView",
            "description_width": ""
          }
        },
        "e8c5b57239fd40cb8a6cd3f8b36d5ca0": {
          "model_module": "@jupyter-widgets/base",
          "model_name": "LayoutModel",
          "model_module_version": "1.2.0",
          "state": {
            "_model_module": "@jupyter-widgets/base",
            "_model_module_version": "1.2.0",
            "_model_name": "LayoutModel",
            "_view_count": null,
            "_view_module": "@jupyter-widgets/base",
            "_view_module_version": "1.2.0",
            "_view_name": "LayoutView",
            "align_content": null,
            "align_items": null,
            "align_self": null,
            "border": null,
            "bottom": null,
            "display": null,
            "flex": null,
            "flex_flow": null,
            "grid_area": null,
            "grid_auto_columns": null,
            "grid_auto_flow": null,
            "grid_auto_rows": null,
            "grid_column": null,
            "grid_gap": null,
            "grid_row": null,
            "grid_template_areas": null,
            "grid_template_columns": null,
            "grid_template_rows": null,
            "height": null,
            "justify_content": null,
            "justify_items": null,
            "left": null,
            "margin": null,
            "max_height": null,
            "max_width": null,
            "min_height": null,
            "min_width": null,
            "object_fit": null,
            "object_position": null,
            "order": null,
            "overflow": null,
            "overflow_x": null,
            "overflow_y": null,
            "padding": null,
            "right": null,
            "top": null,
            "visibility": null,
            "width": null
          }
        },
        "d382dc6e4fe84dc6b4217eda7c8e817f": {
          "model_module": "@jupyter-widgets/controls",
          "model_name": "ProgressStyleModel",
          "model_module_version": "1.5.0",
          "state": {
            "_model_module": "@jupyter-widgets/controls",
            "_model_module_version": "1.5.0",
            "_model_name": "ProgressStyleModel",
            "_view_count": null,
            "_view_module": "@jupyter-widgets/base",
            "_view_module_version": "1.2.0",
            "_view_name": "StyleView",
            "bar_color": null,
            "description_width": ""
          }
        },
        "825c4cea8e67437395fe66983d96b8c1": {
          "model_module": "@jupyter-widgets/base",
          "model_name": "LayoutModel",
          "model_module_version": "1.2.0",
          "state": {
            "_model_module": "@jupyter-widgets/base",
            "_model_module_version": "1.2.0",
            "_model_name": "LayoutModel",
            "_view_count": null,
            "_view_module": "@jupyter-widgets/base",
            "_view_module_version": "1.2.0",
            "_view_name": "LayoutView",
            "align_content": null,
            "align_items": null,
            "align_self": null,
            "border": null,
            "bottom": null,
            "display": null,
            "flex": null,
            "flex_flow": null,
            "grid_area": null,
            "grid_auto_columns": null,
            "grid_auto_flow": null,
            "grid_auto_rows": null,
            "grid_column": null,
            "grid_gap": null,
            "grid_row": null,
            "grid_template_areas": null,
            "grid_template_columns": null,
            "grid_template_rows": null,
            "height": null,
            "justify_content": null,
            "justify_items": null,
            "left": null,
            "margin": null,
            "max_height": null,
            "max_width": null,
            "min_height": null,
            "min_width": null,
            "object_fit": null,
            "object_position": null,
            "order": null,
            "overflow": null,
            "overflow_x": null,
            "overflow_y": null,
            "padding": null,
            "right": null,
            "top": null,
            "visibility": null,
            "width": null
          }
        },
        "c26672bd02854437ab0e6df7956b6e0d": {
          "model_module": "@jupyter-widgets/controls",
          "model_name": "DescriptionStyleModel",
          "model_module_version": "1.5.0",
          "state": {
            "_model_module": "@jupyter-widgets/controls",
            "_model_module_version": "1.5.0",
            "_model_name": "DescriptionStyleModel",
            "_view_count": null,
            "_view_module": "@jupyter-widgets/base",
            "_view_module_version": "1.2.0",
            "_view_name": "StyleView",
            "description_width": ""
          }
        },
        "6328f49369d84c1b995597628803a693": {
          "model_module": "@jupyter-widgets/controls",
          "model_name": "HBoxModel",
          "model_module_version": "1.5.0",
          "state": {
            "_dom_classes": [],
            "_model_module": "@jupyter-widgets/controls",
            "_model_module_version": "1.5.0",
            "_model_name": "HBoxModel",
            "_view_count": null,
            "_view_module": "@jupyter-widgets/controls",
            "_view_module_version": "1.5.0",
            "_view_name": "HBoxView",
            "box_style": "",
            "children": [
              "IPY_MODEL_0445435baea44ae1b6fa70a9635478be",
              "IPY_MODEL_51284456e8cf4f2b93fd438275c5c8a3",
              "IPY_MODEL_2790c2f2e1c241ebbbb90b4e22791b37"
            ],
            "layout": "IPY_MODEL_d05698b0157048f78498b0369af92ab3"
          }
        },
        "0445435baea44ae1b6fa70a9635478be": {
          "model_module": "@jupyter-widgets/controls",
          "model_name": "HTMLModel",
          "model_module_version": "1.5.0",
          "state": {
            "_dom_classes": [],
            "_model_module": "@jupyter-widgets/controls",
            "_model_module_version": "1.5.0",
            "_model_name": "HTMLModel",
            "_view_count": null,
            "_view_module": "@jupyter-widgets/controls",
            "_view_module_version": "1.5.0",
            "_view_name": "HTMLView",
            "description": "",
            "description_tooltip": null,
            "layout": "IPY_MODEL_f47fac05937b457a83c2f2c907443d02",
            "placeholder": "​",
            "style": "IPY_MODEL_ab764bf5b66a40dc929e7cd87f2243b4",
            "value": "100%"
          }
        },
        "51284456e8cf4f2b93fd438275c5c8a3": {
          "model_module": "@jupyter-widgets/controls",
          "model_name": "FloatProgressModel",
          "model_module_version": "1.5.0",
          "state": {
            "_dom_classes": [],
            "_model_module": "@jupyter-widgets/controls",
            "_model_module_version": "1.5.0",
            "_model_name": "FloatProgressModel",
            "_view_count": null,
            "_view_module": "@jupyter-widgets/controls",
            "_view_module_version": "1.5.0",
            "_view_name": "ProgressView",
            "bar_style": "success",
            "description": "",
            "description_tooltip": null,
            "layout": "IPY_MODEL_fd0e421aeece46f98a6ca20e4e342d5e",
            "max": 20,
            "min": 0,
            "orientation": "horizontal",
            "style": "IPY_MODEL_7babef9051db487889ba9973cdc624c8",
            "value": 20
          }
        },
        "2790c2f2e1c241ebbbb90b4e22791b37": {
          "model_module": "@jupyter-widgets/controls",
          "model_name": "HTMLModel",
          "model_module_version": "1.5.0",
          "state": {
            "_dom_classes": [],
            "_model_module": "@jupyter-widgets/controls",
            "_model_module_version": "1.5.0",
            "_model_name": "HTMLModel",
            "_view_count": null,
            "_view_module": "@jupyter-widgets/controls",
            "_view_module_version": "1.5.0",
            "_view_name": "HTMLView",
            "description": "",
            "description_tooltip": null,
            "layout": "IPY_MODEL_4f5e2a4b1fef4016971beebfbdfccddb",
            "placeholder": "​",
            "style": "IPY_MODEL_6e15c8e2d0e149f88219a8a0721ba295",
            "value": " 20/20 [00:48&lt;00:00,  2.48s/it]"
          }
        },
        "d05698b0157048f78498b0369af92ab3": {
          "model_module": "@jupyter-widgets/base",
          "model_name": "LayoutModel",
          "model_module_version": "1.2.0",
          "state": {
            "_model_module": "@jupyter-widgets/base",
            "_model_module_version": "1.2.0",
            "_model_name": "LayoutModel",
            "_view_count": null,
            "_view_module": "@jupyter-widgets/base",
            "_view_module_version": "1.2.0",
            "_view_name": "LayoutView",
            "align_content": null,
            "align_items": null,
            "align_self": null,
            "border": null,
            "bottom": null,
            "display": null,
            "flex": null,
            "flex_flow": null,
            "grid_area": null,
            "grid_auto_columns": null,
            "grid_auto_flow": null,
            "grid_auto_rows": null,
            "grid_column": null,
            "grid_gap": null,
            "grid_row": null,
            "grid_template_areas": null,
            "grid_template_columns": null,
            "grid_template_rows": null,
            "height": null,
            "justify_content": null,
            "justify_items": null,
            "left": null,
            "margin": null,
            "max_height": null,
            "max_width": null,
            "min_height": null,
            "min_width": null,
            "object_fit": null,
            "object_position": null,
            "order": null,
            "overflow": null,
            "overflow_x": null,
            "overflow_y": null,
            "padding": null,
            "right": null,
            "top": null,
            "visibility": null,
            "width": null
          }
        },
        "f47fac05937b457a83c2f2c907443d02": {
          "model_module": "@jupyter-widgets/base",
          "model_name": "LayoutModel",
          "model_module_version": "1.2.0",
          "state": {
            "_model_module": "@jupyter-widgets/base",
            "_model_module_version": "1.2.0",
            "_model_name": "LayoutModel",
            "_view_count": null,
            "_view_module": "@jupyter-widgets/base",
            "_view_module_version": "1.2.0",
            "_view_name": "LayoutView",
            "align_content": null,
            "align_items": null,
            "align_self": null,
            "border": null,
            "bottom": null,
            "display": null,
            "flex": null,
            "flex_flow": null,
            "grid_area": null,
            "grid_auto_columns": null,
            "grid_auto_flow": null,
            "grid_auto_rows": null,
            "grid_column": null,
            "grid_gap": null,
            "grid_row": null,
            "grid_template_areas": null,
            "grid_template_columns": null,
            "grid_template_rows": null,
            "height": null,
            "justify_content": null,
            "justify_items": null,
            "left": null,
            "margin": null,
            "max_height": null,
            "max_width": null,
            "min_height": null,
            "min_width": null,
            "object_fit": null,
            "object_position": null,
            "order": null,
            "overflow": null,
            "overflow_x": null,
            "overflow_y": null,
            "padding": null,
            "right": null,
            "top": null,
            "visibility": null,
            "width": null
          }
        },
        "ab764bf5b66a40dc929e7cd87f2243b4": {
          "model_module": "@jupyter-widgets/controls",
          "model_name": "DescriptionStyleModel",
          "model_module_version": "1.5.0",
          "state": {
            "_model_module": "@jupyter-widgets/controls",
            "_model_module_version": "1.5.0",
            "_model_name": "DescriptionStyleModel",
            "_view_count": null,
            "_view_module": "@jupyter-widgets/base",
            "_view_module_version": "1.2.0",
            "_view_name": "StyleView",
            "description_width": ""
          }
        },
        "fd0e421aeece46f98a6ca20e4e342d5e": {
          "model_module": "@jupyter-widgets/base",
          "model_name": "LayoutModel",
          "model_module_version": "1.2.0",
          "state": {
            "_model_module": "@jupyter-widgets/base",
            "_model_module_version": "1.2.0",
            "_model_name": "LayoutModel",
            "_view_count": null,
            "_view_module": "@jupyter-widgets/base",
            "_view_module_version": "1.2.0",
            "_view_name": "LayoutView",
            "align_content": null,
            "align_items": null,
            "align_self": null,
            "border": null,
            "bottom": null,
            "display": null,
            "flex": null,
            "flex_flow": null,
            "grid_area": null,
            "grid_auto_columns": null,
            "grid_auto_flow": null,
            "grid_auto_rows": null,
            "grid_column": null,
            "grid_gap": null,
            "grid_row": null,
            "grid_template_areas": null,
            "grid_template_columns": null,
            "grid_template_rows": null,
            "height": null,
            "justify_content": null,
            "justify_items": null,
            "left": null,
            "margin": null,
            "max_height": null,
            "max_width": null,
            "min_height": null,
            "min_width": null,
            "object_fit": null,
            "object_position": null,
            "order": null,
            "overflow": null,
            "overflow_x": null,
            "overflow_y": null,
            "padding": null,
            "right": null,
            "top": null,
            "visibility": null,
            "width": null
          }
        },
        "7babef9051db487889ba9973cdc624c8": {
          "model_module": "@jupyter-widgets/controls",
          "model_name": "ProgressStyleModel",
          "model_module_version": "1.5.0",
          "state": {
            "_model_module": "@jupyter-widgets/controls",
            "_model_module_version": "1.5.0",
            "_model_name": "ProgressStyleModel",
            "_view_count": null,
            "_view_module": "@jupyter-widgets/base",
            "_view_module_version": "1.2.0",
            "_view_name": "StyleView",
            "bar_color": null,
            "description_width": ""
          }
        },
        "4f5e2a4b1fef4016971beebfbdfccddb": {
          "model_module": "@jupyter-widgets/base",
          "model_name": "LayoutModel",
          "model_module_version": "1.2.0",
          "state": {
            "_model_module": "@jupyter-widgets/base",
            "_model_module_version": "1.2.0",
            "_model_name": "LayoutModel",
            "_view_count": null,
            "_view_module": "@jupyter-widgets/base",
            "_view_module_version": "1.2.0",
            "_view_name": "LayoutView",
            "align_content": null,
            "align_items": null,
            "align_self": null,
            "border": null,
            "bottom": null,
            "display": null,
            "flex": null,
            "flex_flow": null,
            "grid_area": null,
            "grid_auto_columns": null,
            "grid_auto_flow": null,
            "grid_auto_rows": null,
            "grid_column": null,
            "grid_gap": null,
            "grid_row": null,
            "grid_template_areas": null,
            "grid_template_columns": null,
            "grid_template_rows": null,
            "height": null,
            "justify_content": null,
            "justify_items": null,
            "left": null,
            "margin": null,
            "max_height": null,
            "max_width": null,
            "min_height": null,
            "min_width": null,
            "object_fit": null,
            "object_position": null,
            "order": null,
            "overflow": null,
            "overflow_x": null,
            "overflow_y": null,
            "padding": null,
            "right": null,
            "top": null,
            "visibility": null,
            "width": null
          }
        },
        "6e15c8e2d0e149f88219a8a0721ba295": {
          "model_module": "@jupyter-widgets/controls",
          "model_name": "DescriptionStyleModel",
          "model_module_version": "1.5.0",
          "state": {
            "_model_module": "@jupyter-widgets/controls",
            "_model_module_version": "1.5.0",
            "_model_name": "DescriptionStyleModel",
            "_view_count": null,
            "_view_module": "@jupyter-widgets/base",
            "_view_module_version": "1.2.0",
            "_view_name": "StyleView",
            "description_width": ""
          }
        },
        "580896ee7abb4a93a0bd0455c9baa182": {
          "model_module": "@jupyter-widgets/controls",
          "model_name": "HBoxModel",
          "model_module_version": "1.5.0",
          "state": {
            "_dom_classes": [],
            "_model_module": "@jupyter-widgets/controls",
            "_model_module_version": "1.5.0",
            "_model_name": "HBoxModel",
            "_view_count": null,
            "_view_module": "@jupyter-widgets/controls",
            "_view_module_version": "1.5.0",
            "_view_name": "HBoxView",
            "box_style": "",
            "children": [
              "IPY_MODEL_c0d38f1e305c4db6b1eeff1158c0c615",
              "IPY_MODEL_ec3a598a8a15443bb3217df9f35629ca",
              "IPY_MODEL_998f6d6688494bfa984217233d2688b1"
            ],
            "layout": "IPY_MODEL_5d2d70838e2846b0a233cf3b9b9f0334"
          }
        },
        "c0d38f1e305c4db6b1eeff1158c0c615": {
          "model_module": "@jupyter-widgets/controls",
          "model_name": "HTMLModel",
          "model_module_version": "1.5.0",
          "state": {
            "_dom_classes": [],
            "_model_module": "@jupyter-widgets/controls",
            "_model_module_version": "1.5.0",
            "_model_name": "HTMLModel",
            "_view_count": null,
            "_view_module": "@jupyter-widgets/controls",
            "_view_module_version": "1.5.0",
            "_view_name": "HTMLView",
            "description": "",
            "description_tooltip": null,
            "layout": "IPY_MODEL_e688d353c2ab4432af4a688df669886a",
            "placeholder": "​",
            "style": "IPY_MODEL_3f08e77b304242819aae73e49b8b7c75",
            "value": "100%"
          }
        },
        "ec3a598a8a15443bb3217df9f35629ca": {
          "model_module": "@jupyter-widgets/controls",
          "model_name": "FloatProgressModel",
          "model_module_version": "1.5.0",
          "state": {
            "_dom_classes": [],
            "_model_module": "@jupyter-widgets/controls",
            "_model_module_version": "1.5.0",
            "_model_name": "FloatProgressModel",
            "_view_count": null,
            "_view_module": "@jupyter-widgets/controls",
            "_view_module_version": "1.5.0",
            "_view_name": "ProgressView",
            "bar_style": "success",
            "description": "",
            "description_tooltip": null,
            "layout": "IPY_MODEL_72fd816f610940419764616d160ae154",
            "max": 20,
            "min": 0,
            "orientation": "horizontal",
            "style": "IPY_MODEL_07e3e3611a124d0fa10899424c83f465",
            "value": 20
          }
        },
        "998f6d6688494bfa984217233d2688b1": {
          "model_module": "@jupyter-widgets/controls",
          "model_name": "HTMLModel",
          "model_module_version": "1.5.0",
          "state": {
            "_dom_classes": [],
            "_model_module": "@jupyter-widgets/controls",
            "_model_module_version": "1.5.0",
            "_model_name": "HTMLModel",
            "_view_count": null,
            "_view_module": "@jupyter-widgets/controls",
            "_view_module_version": "1.5.0",
            "_view_name": "HTMLView",
            "description": "",
            "description_tooltip": null,
            "layout": "IPY_MODEL_ee37336a863946b89498fd0b95d4a543",
            "placeholder": "​",
            "style": "IPY_MODEL_178b5b6b0da7464eb32b0667b8458170",
            "value": " 20/20 [00:50&lt;00:00,  2.47s/it]"
          }
        },
        "5d2d70838e2846b0a233cf3b9b9f0334": {
          "model_module": "@jupyter-widgets/base",
          "model_name": "LayoutModel",
          "model_module_version": "1.2.0",
          "state": {
            "_model_module": "@jupyter-widgets/base",
            "_model_module_version": "1.2.0",
            "_model_name": "LayoutModel",
            "_view_count": null,
            "_view_module": "@jupyter-widgets/base",
            "_view_module_version": "1.2.0",
            "_view_name": "LayoutView",
            "align_content": null,
            "align_items": null,
            "align_self": null,
            "border": null,
            "bottom": null,
            "display": null,
            "flex": null,
            "flex_flow": null,
            "grid_area": null,
            "grid_auto_columns": null,
            "grid_auto_flow": null,
            "grid_auto_rows": null,
            "grid_column": null,
            "grid_gap": null,
            "grid_row": null,
            "grid_template_areas": null,
            "grid_template_columns": null,
            "grid_template_rows": null,
            "height": null,
            "justify_content": null,
            "justify_items": null,
            "left": null,
            "margin": null,
            "max_height": null,
            "max_width": null,
            "min_height": null,
            "min_width": null,
            "object_fit": null,
            "object_position": null,
            "order": null,
            "overflow": null,
            "overflow_x": null,
            "overflow_y": null,
            "padding": null,
            "right": null,
            "top": null,
            "visibility": null,
            "width": null
          }
        },
        "e688d353c2ab4432af4a688df669886a": {
          "model_module": "@jupyter-widgets/base",
          "model_name": "LayoutModel",
          "model_module_version": "1.2.0",
          "state": {
            "_model_module": "@jupyter-widgets/base",
            "_model_module_version": "1.2.0",
            "_model_name": "LayoutModel",
            "_view_count": null,
            "_view_module": "@jupyter-widgets/base",
            "_view_module_version": "1.2.0",
            "_view_name": "LayoutView",
            "align_content": null,
            "align_items": null,
            "align_self": null,
            "border": null,
            "bottom": null,
            "display": null,
            "flex": null,
            "flex_flow": null,
            "grid_area": null,
            "grid_auto_columns": null,
            "grid_auto_flow": null,
            "grid_auto_rows": null,
            "grid_column": null,
            "grid_gap": null,
            "grid_row": null,
            "grid_template_areas": null,
            "grid_template_columns": null,
            "grid_template_rows": null,
            "height": null,
            "justify_content": null,
            "justify_items": null,
            "left": null,
            "margin": null,
            "max_height": null,
            "max_width": null,
            "min_height": null,
            "min_width": null,
            "object_fit": null,
            "object_position": null,
            "order": null,
            "overflow": null,
            "overflow_x": null,
            "overflow_y": null,
            "padding": null,
            "right": null,
            "top": null,
            "visibility": null,
            "width": null
          }
        },
        "3f08e77b304242819aae73e49b8b7c75": {
          "model_module": "@jupyter-widgets/controls",
          "model_name": "DescriptionStyleModel",
          "model_module_version": "1.5.0",
          "state": {
            "_model_module": "@jupyter-widgets/controls",
            "_model_module_version": "1.5.0",
            "_model_name": "DescriptionStyleModel",
            "_view_count": null,
            "_view_module": "@jupyter-widgets/base",
            "_view_module_version": "1.2.0",
            "_view_name": "StyleView",
            "description_width": ""
          }
        },
        "72fd816f610940419764616d160ae154": {
          "model_module": "@jupyter-widgets/base",
          "model_name": "LayoutModel",
          "model_module_version": "1.2.0",
          "state": {
            "_model_module": "@jupyter-widgets/base",
            "_model_module_version": "1.2.0",
            "_model_name": "LayoutModel",
            "_view_count": null,
            "_view_module": "@jupyter-widgets/base",
            "_view_module_version": "1.2.0",
            "_view_name": "LayoutView",
            "align_content": null,
            "align_items": null,
            "align_self": null,
            "border": null,
            "bottom": null,
            "display": null,
            "flex": null,
            "flex_flow": null,
            "grid_area": null,
            "grid_auto_columns": null,
            "grid_auto_flow": null,
            "grid_auto_rows": null,
            "grid_column": null,
            "grid_gap": null,
            "grid_row": null,
            "grid_template_areas": null,
            "grid_template_columns": null,
            "grid_template_rows": null,
            "height": null,
            "justify_content": null,
            "justify_items": null,
            "left": null,
            "margin": null,
            "max_height": null,
            "max_width": null,
            "min_height": null,
            "min_width": null,
            "object_fit": null,
            "object_position": null,
            "order": null,
            "overflow": null,
            "overflow_x": null,
            "overflow_y": null,
            "padding": null,
            "right": null,
            "top": null,
            "visibility": null,
            "width": null
          }
        },
        "07e3e3611a124d0fa10899424c83f465": {
          "model_module": "@jupyter-widgets/controls",
          "model_name": "ProgressStyleModel",
          "model_module_version": "1.5.0",
          "state": {
            "_model_module": "@jupyter-widgets/controls",
            "_model_module_version": "1.5.0",
            "_model_name": "ProgressStyleModel",
            "_view_count": null,
            "_view_module": "@jupyter-widgets/base",
            "_view_module_version": "1.2.0",
            "_view_name": "StyleView",
            "bar_color": null,
            "description_width": ""
          }
        },
        "ee37336a863946b89498fd0b95d4a543": {
          "model_module": "@jupyter-widgets/base",
          "model_name": "LayoutModel",
          "model_module_version": "1.2.0",
          "state": {
            "_model_module": "@jupyter-widgets/base",
            "_model_module_version": "1.2.0",
            "_model_name": "LayoutModel",
            "_view_count": null,
            "_view_module": "@jupyter-widgets/base",
            "_view_module_version": "1.2.0",
            "_view_name": "LayoutView",
            "align_content": null,
            "align_items": null,
            "align_self": null,
            "border": null,
            "bottom": null,
            "display": null,
            "flex": null,
            "flex_flow": null,
            "grid_area": null,
            "grid_auto_columns": null,
            "grid_auto_flow": null,
            "grid_auto_rows": null,
            "grid_column": null,
            "grid_gap": null,
            "grid_row": null,
            "grid_template_areas": null,
            "grid_template_columns": null,
            "grid_template_rows": null,
            "height": null,
            "justify_content": null,
            "justify_items": null,
            "left": null,
            "margin": null,
            "max_height": null,
            "max_width": null,
            "min_height": null,
            "min_width": null,
            "object_fit": null,
            "object_position": null,
            "order": null,
            "overflow": null,
            "overflow_x": null,
            "overflow_y": null,
            "padding": null,
            "right": null,
            "top": null,
            "visibility": null,
            "width": null
          }
        },
        "178b5b6b0da7464eb32b0667b8458170": {
          "model_module": "@jupyter-widgets/controls",
          "model_name": "DescriptionStyleModel",
          "model_module_version": "1.5.0",
          "state": {
            "_model_module": "@jupyter-widgets/controls",
            "_model_module_version": "1.5.0",
            "_model_name": "DescriptionStyleModel",
            "_view_count": null,
            "_view_module": "@jupyter-widgets/base",
            "_view_module_version": "1.2.0",
            "_view_name": "StyleView",
            "description_width": ""
          }
        },
        "0e4781a10aff49019caa97dfa3309f9b": {
          "model_module": "@jupyter-widgets/controls",
          "model_name": "HBoxModel",
          "model_module_version": "1.5.0",
          "state": {
            "_dom_classes": [],
            "_model_module": "@jupyter-widgets/controls",
            "_model_module_version": "1.5.0",
            "_model_name": "HBoxModel",
            "_view_count": null,
            "_view_module": "@jupyter-widgets/controls",
            "_view_module_version": "1.5.0",
            "_view_name": "HBoxView",
            "box_style": "",
            "children": [
              "IPY_MODEL_25b41333332f44ac9b188eb89a80032a",
              "IPY_MODEL_809d75ae93864f488ade1a4992648c94",
              "IPY_MODEL_da82befb5f9042e9a94c10ba282b5b61"
            ],
            "layout": "IPY_MODEL_60c0619015c64369bb0d2d739e3f2e4c"
          }
        },
        "25b41333332f44ac9b188eb89a80032a": {
          "model_module": "@jupyter-widgets/controls",
          "model_name": "HTMLModel",
          "model_module_version": "1.5.0",
          "state": {
            "_dom_classes": [],
            "_model_module": "@jupyter-widgets/controls",
            "_model_module_version": "1.5.0",
            "_model_name": "HTMLModel",
            "_view_count": null,
            "_view_module": "@jupyter-widgets/controls",
            "_view_module_version": "1.5.0",
            "_view_name": "HTMLView",
            "description": "",
            "description_tooltip": null,
            "layout": "IPY_MODEL_284e8df09cb14272862411901865f634",
            "placeholder": "​",
            "style": "IPY_MODEL_67d40d92eb2648b8ab78950e55ca153d",
            "value": "100%"
          }
        },
        "809d75ae93864f488ade1a4992648c94": {
          "model_module": "@jupyter-widgets/controls",
          "model_name": "FloatProgressModel",
          "model_module_version": "1.5.0",
          "state": {
            "_dom_classes": [],
            "_model_module": "@jupyter-widgets/controls",
            "_model_module_version": "1.5.0",
            "_model_name": "FloatProgressModel",
            "_view_count": null,
            "_view_module": "@jupyter-widgets/controls",
            "_view_module_version": "1.5.0",
            "_view_name": "ProgressView",
            "bar_style": "success",
            "description": "",
            "description_tooltip": null,
            "layout": "IPY_MODEL_4a360c90e14e4386931dd128444127e2",
            "max": 10,
            "min": 0,
            "orientation": "horizontal",
            "style": "IPY_MODEL_c5152f242e6b42d49a48915b53634861",
            "value": 10
          }
        },
        "da82befb5f9042e9a94c10ba282b5b61": {
          "model_module": "@jupyter-widgets/controls",
          "model_name": "HTMLModel",
          "model_module_version": "1.5.0",
          "state": {
            "_dom_classes": [],
            "_model_module": "@jupyter-widgets/controls",
            "_model_module_version": "1.5.0",
            "_model_name": "HTMLModel",
            "_view_count": null,
            "_view_module": "@jupyter-widgets/controls",
            "_view_module_version": "1.5.0",
            "_view_name": "HTMLView",
            "description": "",
            "description_tooltip": null,
            "layout": "IPY_MODEL_3bf65eb564b54d7aa48d162d9d67dd86",
            "placeholder": "​",
            "style": "IPY_MODEL_61a583c3464a45c4b37fce6b50fba0b1",
            "value": " 10/10 [00:24&lt;00:00,  2.44s/it]"
          }
        },
        "60c0619015c64369bb0d2d739e3f2e4c": {
          "model_module": "@jupyter-widgets/base",
          "model_name": "LayoutModel",
          "model_module_version": "1.2.0",
          "state": {
            "_model_module": "@jupyter-widgets/base",
            "_model_module_version": "1.2.0",
            "_model_name": "LayoutModel",
            "_view_count": null,
            "_view_module": "@jupyter-widgets/base",
            "_view_module_version": "1.2.0",
            "_view_name": "LayoutView",
            "align_content": null,
            "align_items": null,
            "align_self": null,
            "border": null,
            "bottom": null,
            "display": null,
            "flex": null,
            "flex_flow": null,
            "grid_area": null,
            "grid_auto_columns": null,
            "grid_auto_flow": null,
            "grid_auto_rows": null,
            "grid_column": null,
            "grid_gap": null,
            "grid_row": null,
            "grid_template_areas": null,
            "grid_template_columns": null,
            "grid_template_rows": null,
            "height": null,
            "justify_content": null,
            "justify_items": null,
            "left": null,
            "margin": null,
            "max_height": null,
            "max_width": null,
            "min_height": null,
            "min_width": null,
            "object_fit": null,
            "object_position": null,
            "order": null,
            "overflow": null,
            "overflow_x": null,
            "overflow_y": null,
            "padding": null,
            "right": null,
            "top": null,
            "visibility": null,
            "width": null
          }
        },
        "284e8df09cb14272862411901865f634": {
          "model_module": "@jupyter-widgets/base",
          "model_name": "LayoutModel",
          "model_module_version": "1.2.0",
          "state": {
            "_model_module": "@jupyter-widgets/base",
            "_model_module_version": "1.2.0",
            "_model_name": "LayoutModel",
            "_view_count": null,
            "_view_module": "@jupyter-widgets/base",
            "_view_module_version": "1.2.0",
            "_view_name": "LayoutView",
            "align_content": null,
            "align_items": null,
            "align_self": null,
            "border": null,
            "bottom": null,
            "display": null,
            "flex": null,
            "flex_flow": null,
            "grid_area": null,
            "grid_auto_columns": null,
            "grid_auto_flow": null,
            "grid_auto_rows": null,
            "grid_column": null,
            "grid_gap": null,
            "grid_row": null,
            "grid_template_areas": null,
            "grid_template_columns": null,
            "grid_template_rows": null,
            "height": null,
            "justify_content": null,
            "justify_items": null,
            "left": null,
            "margin": null,
            "max_height": null,
            "max_width": null,
            "min_height": null,
            "min_width": null,
            "object_fit": null,
            "object_position": null,
            "order": null,
            "overflow": null,
            "overflow_x": null,
            "overflow_y": null,
            "padding": null,
            "right": null,
            "top": null,
            "visibility": null,
            "width": null
          }
        },
        "67d40d92eb2648b8ab78950e55ca153d": {
          "model_module": "@jupyter-widgets/controls",
          "model_name": "DescriptionStyleModel",
          "model_module_version": "1.5.0",
          "state": {
            "_model_module": "@jupyter-widgets/controls",
            "_model_module_version": "1.5.0",
            "_model_name": "DescriptionStyleModel",
            "_view_count": null,
            "_view_module": "@jupyter-widgets/base",
            "_view_module_version": "1.2.0",
            "_view_name": "StyleView",
            "description_width": ""
          }
        },
        "4a360c90e14e4386931dd128444127e2": {
          "model_module": "@jupyter-widgets/base",
          "model_name": "LayoutModel",
          "model_module_version": "1.2.0",
          "state": {
            "_model_module": "@jupyter-widgets/base",
            "_model_module_version": "1.2.0",
            "_model_name": "LayoutModel",
            "_view_count": null,
            "_view_module": "@jupyter-widgets/base",
            "_view_module_version": "1.2.0",
            "_view_name": "LayoutView",
            "align_content": null,
            "align_items": null,
            "align_self": null,
            "border": null,
            "bottom": null,
            "display": null,
            "flex": null,
            "flex_flow": null,
            "grid_area": null,
            "grid_auto_columns": null,
            "grid_auto_flow": null,
            "grid_auto_rows": null,
            "grid_column": null,
            "grid_gap": null,
            "grid_row": null,
            "grid_template_areas": null,
            "grid_template_columns": null,
            "grid_template_rows": null,
            "height": null,
            "justify_content": null,
            "justify_items": null,
            "left": null,
            "margin": null,
            "max_height": null,
            "max_width": null,
            "min_height": null,
            "min_width": null,
            "object_fit": null,
            "object_position": null,
            "order": null,
            "overflow": null,
            "overflow_x": null,
            "overflow_y": null,
            "padding": null,
            "right": null,
            "top": null,
            "visibility": null,
            "width": null
          }
        },
        "c5152f242e6b42d49a48915b53634861": {
          "model_module": "@jupyter-widgets/controls",
          "model_name": "ProgressStyleModel",
          "model_module_version": "1.5.0",
          "state": {
            "_model_module": "@jupyter-widgets/controls",
            "_model_module_version": "1.5.0",
            "_model_name": "ProgressStyleModel",
            "_view_count": null,
            "_view_module": "@jupyter-widgets/base",
            "_view_module_version": "1.2.0",
            "_view_name": "StyleView",
            "bar_color": null,
            "description_width": ""
          }
        },
        "3bf65eb564b54d7aa48d162d9d67dd86": {
          "model_module": "@jupyter-widgets/base",
          "model_name": "LayoutModel",
          "model_module_version": "1.2.0",
          "state": {
            "_model_module": "@jupyter-widgets/base",
            "_model_module_version": "1.2.0",
            "_model_name": "LayoutModel",
            "_view_count": null,
            "_view_module": "@jupyter-widgets/base",
            "_view_module_version": "1.2.0",
            "_view_name": "LayoutView",
            "align_content": null,
            "align_items": null,
            "align_self": null,
            "border": null,
            "bottom": null,
            "display": null,
            "flex": null,
            "flex_flow": null,
            "grid_area": null,
            "grid_auto_columns": null,
            "grid_auto_flow": null,
            "grid_auto_rows": null,
            "grid_column": null,
            "grid_gap": null,
            "grid_row": null,
            "grid_template_areas": null,
            "grid_template_columns": null,
            "grid_template_rows": null,
            "height": null,
            "justify_content": null,
            "justify_items": null,
            "left": null,
            "margin": null,
            "max_height": null,
            "max_width": null,
            "min_height": null,
            "min_width": null,
            "object_fit": null,
            "object_position": null,
            "order": null,
            "overflow": null,
            "overflow_x": null,
            "overflow_y": null,
            "padding": null,
            "right": null,
            "top": null,
            "visibility": null,
            "width": null
          }
        },
        "61a583c3464a45c4b37fce6b50fba0b1": {
          "model_module": "@jupyter-widgets/controls",
          "model_name": "DescriptionStyleModel",
          "model_module_version": "1.5.0",
          "state": {
            "_model_module": "@jupyter-widgets/controls",
            "_model_module_version": "1.5.0",
            "_model_name": "DescriptionStyleModel",
            "_view_count": null,
            "_view_module": "@jupyter-widgets/base",
            "_view_module_version": "1.2.0",
            "_view_name": "StyleView",
            "description_width": ""
          }
        },
        "42dd5eaf1abe42ce95e213d03523d9c8": {
          "model_module": "@jupyter-widgets/controls",
          "model_name": "HBoxModel",
          "model_module_version": "1.5.0",
          "state": {
            "_dom_classes": [],
            "_model_module": "@jupyter-widgets/controls",
            "_model_module_version": "1.5.0",
            "_model_name": "HBoxModel",
            "_view_count": null,
            "_view_module": "@jupyter-widgets/controls",
            "_view_module_version": "1.5.0",
            "_view_name": "HBoxView",
            "box_style": "",
            "children": [
              "IPY_MODEL_870aad313c124c7abd0f29abb324eb46",
              "IPY_MODEL_ce3a2abed43b40d8aeec551796fe482b",
              "IPY_MODEL_6c6ce74f7a5e40abadb9db9c17dedbd3"
            ],
            "layout": "IPY_MODEL_5addfa4883b947d28b4942e585b10202"
          }
        },
        "870aad313c124c7abd0f29abb324eb46": {
          "model_module": "@jupyter-widgets/controls",
          "model_name": "HTMLModel",
          "model_module_version": "1.5.0",
          "state": {
            "_dom_classes": [],
            "_model_module": "@jupyter-widgets/controls",
            "_model_module_version": "1.5.0",
            "_model_name": "HTMLModel",
            "_view_count": null,
            "_view_module": "@jupyter-widgets/controls",
            "_view_module_version": "1.5.0",
            "_view_name": "HTMLView",
            "description": "",
            "description_tooltip": null,
            "layout": "IPY_MODEL_155c73efe7274b21ba0e9840be2622ed",
            "placeholder": "​",
            "style": "IPY_MODEL_d7c4fb1d907d4226be59cec4bb12b1c7",
            "value": "100%"
          }
        },
        "ce3a2abed43b40d8aeec551796fe482b": {
          "model_module": "@jupyter-widgets/controls",
          "model_name": "FloatProgressModel",
          "model_module_version": "1.5.0",
          "state": {
            "_dom_classes": [],
            "_model_module": "@jupyter-widgets/controls",
            "_model_module_version": "1.5.0",
            "_model_name": "FloatProgressModel",
            "_view_count": null,
            "_view_module": "@jupyter-widgets/controls",
            "_view_module_version": "1.5.0",
            "_view_name": "ProgressView",
            "bar_style": "success",
            "description": "",
            "description_tooltip": null,
            "layout": "IPY_MODEL_cf200daca38142d3b8ef6eadcbca2608",
            "max": 20,
            "min": 0,
            "orientation": "horizontal",
            "style": "IPY_MODEL_b885549f7e3e46dd807f488e916d9e88",
            "value": 20
          }
        },
        "6c6ce74f7a5e40abadb9db9c17dedbd3": {
          "model_module": "@jupyter-widgets/controls",
          "model_name": "HTMLModel",
          "model_module_version": "1.5.0",
          "state": {
            "_dom_classes": [],
            "_model_module": "@jupyter-widgets/controls",
            "_model_module_version": "1.5.0",
            "_model_name": "HTMLModel",
            "_view_count": null,
            "_view_module": "@jupyter-widgets/controls",
            "_view_module_version": "1.5.0",
            "_view_name": "HTMLView",
            "description": "",
            "description_tooltip": null,
            "layout": "IPY_MODEL_d7893504c6dc40f7b780d7e67e4793cf",
            "placeholder": "​",
            "style": "IPY_MODEL_602b5951efaa4d87a7ffa45fecbf0051",
            "value": " 20/20 [00:54&lt;00:00,  2.51s/it]"
          }
        },
        "5addfa4883b947d28b4942e585b10202": {
          "model_module": "@jupyter-widgets/base",
          "model_name": "LayoutModel",
          "model_module_version": "1.2.0",
          "state": {
            "_model_module": "@jupyter-widgets/base",
            "_model_module_version": "1.2.0",
            "_model_name": "LayoutModel",
            "_view_count": null,
            "_view_module": "@jupyter-widgets/base",
            "_view_module_version": "1.2.0",
            "_view_name": "LayoutView",
            "align_content": null,
            "align_items": null,
            "align_self": null,
            "border": null,
            "bottom": null,
            "display": null,
            "flex": null,
            "flex_flow": null,
            "grid_area": null,
            "grid_auto_columns": null,
            "grid_auto_flow": null,
            "grid_auto_rows": null,
            "grid_column": null,
            "grid_gap": null,
            "grid_row": null,
            "grid_template_areas": null,
            "grid_template_columns": null,
            "grid_template_rows": null,
            "height": null,
            "justify_content": null,
            "justify_items": null,
            "left": null,
            "margin": null,
            "max_height": null,
            "max_width": null,
            "min_height": null,
            "min_width": null,
            "object_fit": null,
            "object_position": null,
            "order": null,
            "overflow": null,
            "overflow_x": null,
            "overflow_y": null,
            "padding": null,
            "right": null,
            "top": null,
            "visibility": null,
            "width": null
          }
        },
        "155c73efe7274b21ba0e9840be2622ed": {
          "model_module": "@jupyter-widgets/base",
          "model_name": "LayoutModel",
          "model_module_version": "1.2.0",
          "state": {
            "_model_module": "@jupyter-widgets/base",
            "_model_module_version": "1.2.0",
            "_model_name": "LayoutModel",
            "_view_count": null,
            "_view_module": "@jupyter-widgets/base",
            "_view_module_version": "1.2.0",
            "_view_name": "LayoutView",
            "align_content": null,
            "align_items": null,
            "align_self": null,
            "border": null,
            "bottom": null,
            "display": null,
            "flex": null,
            "flex_flow": null,
            "grid_area": null,
            "grid_auto_columns": null,
            "grid_auto_flow": null,
            "grid_auto_rows": null,
            "grid_column": null,
            "grid_gap": null,
            "grid_row": null,
            "grid_template_areas": null,
            "grid_template_columns": null,
            "grid_template_rows": null,
            "height": null,
            "justify_content": null,
            "justify_items": null,
            "left": null,
            "margin": null,
            "max_height": null,
            "max_width": null,
            "min_height": null,
            "min_width": null,
            "object_fit": null,
            "object_position": null,
            "order": null,
            "overflow": null,
            "overflow_x": null,
            "overflow_y": null,
            "padding": null,
            "right": null,
            "top": null,
            "visibility": null,
            "width": null
          }
        },
        "d7c4fb1d907d4226be59cec4bb12b1c7": {
          "model_module": "@jupyter-widgets/controls",
          "model_name": "DescriptionStyleModel",
          "model_module_version": "1.5.0",
          "state": {
            "_model_module": "@jupyter-widgets/controls",
            "_model_module_version": "1.5.0",
            "_model_name": "DescriptionStyleModel",
            "_view_count": null,
            "_view_module": "@jupyter-widgets/base",
            "_view_module_version": "1.2.0",
            "_view_name": "StyleView",
            "description_width": ""
          }
        },
        "cf200daca38142d3b8ef6eadcbca2608": {
          "model_module": "@jupyter-widgets/base",
          "model_name": "LayoutModel",
          "model_module_version": "1.2.0",
          "state": {
            "_model_module": "@jupyter-widgets/base",
            "_model_module_version": "1.2.0",
            "_model_name": "LayoutModel",
            "_view_count": null,
            "_view_module": "@jupyter-widgets/base",
            "_view_module_version": "1.2.0",
            "_view_name": "LayoutView",
            "align_content": null,
            "align_items": null,
            "align_self": null,
            "border": null,
            "bottom": null,
            "display": null,
            "flex": null,
            "flex_flow": null,
            "grid_area": null,
            "grid_auto_columns": null,
            "grid_auto_flow": null,
            "grid_auto_rows": null,
            "grid_column": null,
            "grid_gap": null,
            "grid_row": null,
            "grid_template_areas": null,
            "grid_template_columns": null,
            "grid_template_rows": null,
            "height": null,
            "justify_content": null,
            "justify_items": null,
            "left": null,
            "margin": null,
            "max_height": null,
            "max_width": null,
            "min_height": null,
            "min_width": null,
            "object_fit": null,
            "object_position": null,
            "order": null,
            "overflow": null,
            "overflow_x": null,
            "overflow_y": null,
            "padding": null,
            "right": null,
            "top": null,
            "visibility": null,
            "width": null
          }
        },
        "b885549f7e3e46dd807f488e916d9e88": {
          "model_module": "@jupyter-widgets/controls",
          "model_name": "ProgressStyleModel",
          "model_module_version": "1.5.0",
          "state": {
            "_model_module": "@jupyter-widgets/controls",
            "_model_module_version": "1.5.0",
            "_model_name": "ProgressStyleModel",
            "_view_count": null,
            "_view_module": "@jupyter-widgets/base",
            "_view_module_version": "1.2.0",
            "_view_name": "StyleView",
            "bar_color": null,
            "description_width": ""
          }
        },
        "d7893504c6dc40f7b780d7e67e4793cf": {
          "model_module": "@jupyter-widgets/base",
          "model_name": "LayoutModel",
          "model_module_version": "1.2.0",
          "state": {
            "_model_module": "@jupyter-widgets/base",
            "_model_module_version": "1.2.0",
            "_model_name": "LayoutModel",
            "_view_count": null,
            "_view_module": "@jupyter-widgets/base",
            "_view_module_version": "1.2.0",
            "_view_name": "LayoutView",
            "align_content": null,
            "align_items": null,
            "align_self": null,
            "border": null,
            "bottom": null,
            "display": null,
            "flex": null,
            "flex_flow": null,
            "grid_area": null,
            "grid_auto_columns": null,
            "grid_auto_flow": null,
            "grid_auto_rows": null,
            "grid_column": null,
            "grid_gap": null,
            "grid_row": null,
            "grid_template_areas": null,
            "grid_template_columns": null,
            "grid_template_rows": null,
            "height": null,
            "justify_content": null,
            "justify_items": null,
            "left": null,
            "margin": null,
            "max_height": null,
            "max_width": null,
            "min_height": null,
            "min_width": null,
            "object_fit": null,
            "object_position": null,
            "order": null,
            "overflow": null,
            "overflow_x": null,
            "overflow_y": null,
            "padding": null,
            "right": null,
            "top": null,
            "visibility": null,
            "width": null
          }
        },
        "602b5951efaa4d87a7ffa45fecbf0051": {
          "model_module": "@jupyter-widgets/controls",
          "model_name": "DescriptionStyleModel",
          "model_module_version": "1.5.0",
          "state": {
            "_model_module": "@jupyter-widgets/controls",
            "_model_module_version": "1.5.0",
            "_model_name": "DescriptionStyleModel",
            "_view_count": null,
            "_view_module": "@jupyter-widgets/base",
            "_view_module_version": "1.2.0",
            "_view_name": "StyleView",
            "description_width": ""
          }
        },
        "286dcf51aae448feb0cd10119ea47d5a": {
          "model_module": "@jupyter-widgets/controls",
          "model_name": "HBoxModel",
          "model_module_version": "1.5.0",
          "state": {
            "_dom_classes": [],
            "_model_module": "@jupyter-widgets/controls",
            "_model_module_version": "1.5.0",
            "_model_name": "HBoxModel",
            "_view_count": null,
            "_view_module": "@jupyter-widgets/controls",
            "_view_module_version": "1.5.0",
            "_view_name": "HBoxView",
            "box_style": "",
            "children": [
              "IPY_MODEL_7fc5b93aa3904862b271ff1df3dc7fe8",
              "IPY_MODEL_6a626de1cf764813b1d1445659d3b2fc",
              "IPY_MODEL_483324f4a56f42599074ae464774e244"
            ],
            "layout": "IPY_MODEL_876258aa115f42499dc2a3d3c1fd311c"
          }
        },
        "7fc5b93aa3904862b271ff1df3dc7fe8": {
          "model_module": "@jupyter-widgets/controls",
          "model_name": "HTMLModel",
          "model_module_version": "1.5.0",
          "state": {
            "_dom_classes": [],
            "_model_module": "@jupyter-widgets/controls",
            "_model_module_version": "1.5.0",
            "_model_name": "HTMLModel",
            "_view_count": null,
            "_view_module": "@jupyter-widgets/controls",
            "_view_module_version": "1.5.0",
            "_view_name": "HTMLView",
            "description": "",
            "description_tooltip": null,
            "layout": "IPY_MODEL_0a00b788966747e4b72715fc1e6f88f6",
            "placeholder": "​",
            "style": "IPY_MODEL_9f3a75ef72f64db3a3946c084e960fb9",
            "value": "100%"
          }
        },
        "6a626de1cf764813b1d1445659d3b2fc": {
          "model_module": "@jupyter-widgets/controls",
          "model_name": "FloatProgressModel",
          "model_module_version": "1.5.0",
          "state": {
            "_dom_classes": [],
            "_model_module": "@jupyter-widgets/controls",
            "_model_module_version": "1.5.0",
            "_model_name": "FloatProgressModel",
            "_view_count": null,
            "_view_module": "@jupyter-widgets/controls",
            "_view_module_version": "1.5.0",
            "_view_name": "ProgressView",
            "bar_style": "success",
            "description": "",
            "description_tooltip": null,
            "layout": "IPY_MODEL_5776f32bcfea428e8502d9c57c6d2529",
            "max": 10,
            "min": 0,
            "orientation": "horizontal",
            "style": "IPY_MODEL_3cb5e39676ab4caa84df589697814dc1",
            "value": 10
          }
        },
        "483324f4a56f42599074ae464774e244": {
          "model_module": "@jupyter-widgets/controls",
          "model_name": "HTMLModel",
          "model_module_version": "1.5.0",
          "state": {
            "_dom_classes": [],
            "_model_module": "@jupyter-widgets/controls",
            "_model_module_version": "1.5.0",
            "_model_name": "HTMLModel",
            "_view_count": null,
            "_view_module": "@jupyter-widgets/controls",
            "_view_module_version": "1.5.0",
            "_view_name": "HTMLView",
            "description": "",
            "description_tooltip": null,
            "layout": "IPY_MODEL_322425f9278d4774be6d8521081e45df",
            "placeholder": "​",
            "style": "IPY_MODEL_e1634e4927544d90a9497a8cee9daa4e",
            "value": " 10/10 [00:29&lt;00:00,  3.14s/it]"
          }
        },
        "876258aa115f42499dc2a3d3c1fd311c": {
          "model_module": "@jupyter-widgets/base",
          "model_name": "LayoutModel",
          "model_module_version": "1.2.0",
          "state": {
            "_model_module": "@jupyter-widgets/base",
            "_model_module_version": "1.2.0",
            "_model_name": "LayoutModel",
            "_view_count": null,
            "_view_module": "@jupyter-widgets/base",
            "_view_module_version": "1.2.0",
            "_view_name": "LayoutView",
            "align_content": null,
            "align_items": null,
            "align_self": null,
            "border": null,
            "bottom": null,
            "display": null,
            "flex": null,
            "flex_flow": null,
            "grid_area": null,
            "grid_auto_columns": null,
            "grid_auto_flow": null,
            "grid_auto_rows": null,
            "grid_column": null,
            "grid_gap": null,
            "grid_row": null,
            "grid_template_areas": null,
            "grid_template_columns": null,
            "grid_template_rows": null,
            "height": null,
            "justify_content": null,
            "justify_items": null,
            "left": null,
            "margin": null,
            "max_height": null,
            "max_width": null,
            "min_height": null,
            "min_width": null,
            "object_fit": null,
            "object_position": null,
            "order": null,
            "overflow": null,
            "overflow_x": null,
            "overflow_y": null,
            "padding": null,
            "right": null,
            "top": null,
            "visibility": null,
            "width": null
          }
        },
        "0a00b788966747e4b72715fc1e6f88f6": {
          "model_module": "@jupyter-widgets/base",
          "model_name": "LayoutModel",
          "model_module_version": "1.2.0",
          "state": {
            "_model_module": "@jupyter-widgets/base",
            "_model_module_version": "1.2.0",
            "_model_name": "LayoutModel",
            "_view_count": null,
            "_view_module": "@jupyter-widgets/base",
            "_view_module_version": "1.2.0",
            "_view_name": "LayoutView",
            "align_content": null,
            "align_items": null,
            "align_self": null,
            "border": null,
            "bottom": null,
            "display": null,
            "flex": null,
            "flex_flow": null,
            "grid_area": null,
            "grid_auto_columns": null,
            "grid_auto_flow": null,
            "grid_auto_rows": null,
            "grid_column": null,
            "grid_gap": null,
            "grid_row": null,
            "grid_template_areas": null,
            "grid_template_columns": null,
            "grid_template_rows": null,
            "height": null,
            "justify_content": null,
            "justify_items": null,
            "left": null,
            "margin": null,
            "max_height": null,
            "max_width": null,
            "min_height": null,
            "min_width": null,
            "object_fit": null,
            "object_position": null,
            "order": null,
            "overflow": null,
            "overflow_x": null,
            "overflow_y": null,
            "padding": null,
            "right": null,
            "top": null,
            "visibility": null,
            "width": null
          }
        },
        "9f3a75ef72f64db3a3946c084e960fb9": {
          "model_module": "@jupyter-widgets/controls",
          "model_name": "DescriptionStyleModel",
          "model_module_version": "1.5.0",
          "state": {
            "_model_module": "@jupyter-widgets/controls",
            "_model_module_version": "1.5.0",
            "_model_name": "DescriptionStyleModel",
            "_view_count": null,
            "_view_module": "@jupyter-widgets/base",
            "_view_module_version": "1.2.0",
            "_view_name": "StyleView",
            "description_width": ""
          }
        },
        "5776f32bcfea428e8502d9c57c6d2529": {
          "model_module": "@jupyter-widgets/base",
          "model_name": "LayoutModel",
          "model_module_version": "1.2.0",
          "state": {
            "_model_module": "@jupyter-widgets/base",
            "_model_module_version": "1.2.0",
            "_model_name": "LayoutModel",
            "_view_count": null,
            "_view_module": "@jupyter-widgets/base",
            "_view_module_version": "1.2.0",
            "_view_name": "LayoutView",
            "align_content": null,
            "align_items": null,
            "align_self": null,
            "border": null,
            "bottom": null,
            "display": null,
            "flex": null,
            "flex_flow": null,
            "grid_area": null,
            "grid_auto_columns": null,
            "grid_auto_flow": null,
            "grid_auto_rows": null,
            "grid_column": null,
            "grid_gap": null,
            "grid_row": null,
            "grid_template_areas": null,
            "grid_template_columns": null,
            "grid_template_rows": null,
            "height": null,
            "justify_content": null,
            "justify_items": null,
            "left": null,
            "margin": null,
            "max_height": null,
            "max_width": null,
            "min_height": null,
            "min_width": null,
            "object_fit": null,
            "object_position": null,
            "order": null,
            "overflow": null,
            "overflow_x": null,
            "overflow_y": null,
            "padding": null,
            "right": null,
            "top": null,
            "visibility": null,
            "width": null
          }
        },
        "3cb5e39676ab4caa84df589697814dc1": {
          "model_module": "@jupyter-widgets/controls",
          "model_name": "ProgressStyleModel",
          "model_module_version": "1.5.0",
          "state": {
            "_model_module": "@jupyter-widgets/controls",
            "_model_module_version": "1.5.0",
            "_model_name": "ProgressStyleModel",
            "_view_count": null,
            "_view_module": "@jupyter-widgets/base",
            "_view_module_version": "1.2.0",
            "_view_name": "StyleView",
            "bar_color": null,
            "description_width": ""
          }
        },
        "322425f9278d4774be6d8521081e45df": {
          "model_module": "@jupyter-widgets/base",
          "model_name": "LayoutModel",
          "model_module_version": "1.2.0",
          "state": {
            "_model_module": "@jupyter-widgets/base",
            "_model_module_version": "1.2.0",
            "_model_name": "LayoutModel",
            "_view_count": null,
            "_view_module": "@jupyter-widgets/base",
            "_view_module_version": "1.2.0",
            "_view_name": "LayoutView",
            "align_content": null,
            "align_items": null,
            "align_self": null,
            "border": null,
            "bottom": null,
            "display": null,
            "flex": null,
            "flex_flow": null,
            "grid_area": null,
            "grid_auto_columns": null,
            "grid_auto_flow": null,
            "grid_auto_rows": null,
            "grid_column": null,
            "grid_gap": null,
            "grid_row": null,
            "grid_template_areas": null,
            "grid_template_columns": null,
            "grid_template_rows": null,
            "height": null,
            "justify_content": null,
            "justify_items": null,
            "left": null,
            "margin": null,
            "max_height": null,
            "max_width": null,
            "min_height": null,
            "min_width": null,
            "object_fit": null,
            "object_position": null,
            "order": null,
            "overflow": null,
            "overflow_x": null,
            "overflow_y": null,
            "padding": null,
            "right": null,
            "top": null,
            "visibility": null,
            "width": null
          }
        },
        "e1634e4927544d90a9497a8cee9daa4e": {
          "model_module": "@jupyter-widgets/controls",
          "model_name": "DescriptionStyleModel",
          "model_module_version": "1.5.0",
          "state": {
            "_model_module": "@jupyter-widgets/controls",
            "_model_module_version": "1.5.0",
            "_model_name": "DescriptionStyleModel",
            "_view_count": null,
            "_view_module": "@jupyter-widgets/base",
            "_view_module_version": "1.2.0",
            "_view_name": "StyleView",
            "description_width": ""
          }
        },
        "de2348a90ba9445ea91c965c84ce01bf": {
          "model_module": "@jupyter-widgets/controls",
          "model_name": "HBoxModel",
          "model_module_version": "1.5.0",
          "state": {
            "_dom_classes": [],
            "_model_module": "@jupyter-widgets/controls",
            "_model_module_version": "1.5.0",
            "_model_name": "HBoxModel",
            "_view_count": null,
            "_view_module": "@jupyter-widgets/controls",
            "_view_module_version": "1.5.0",
            "_view_name": "HBoxView",
            "box_style": "",
            "children": [
              "IPY_MODEL_1f9ef8ae5d5e43afaacdcb7863155106",
              "IPY_MODEL_d351a02ca4484dedaae6cf7af1e37c35",
              "IPY_MODEL_41c6d508c9a443f39b0e23e8ebc878c6"
            ],
            "layout": "IPY_MODEL_2941f1240ab540e5bd4547f3b919be33"
          }
        },
        "1f9ef8ae5d5e43afaacdcb7863155106": {
          "model_module": "@jupyter-widgets/controls",
          "model_name": "HTMLModel",
          "model_module_version": "1.5.0",
          "state": {
            "_dom_classes": [],
            "_model_module": "@jupyter-widgets/controls",
            "_model_module_version": "1.5.0",
            "_model_name": "HTMLModel",
            "_view_count": null,
            "_view_module": "@jupyter-widgets/controls",
            "_view_module_version": "1.5.0",
            "_view_name": "HTMLView",
            "description": "",
            "description_tooltip": null,
            "layout": "IPY_MODEL_e97826651afd4e19b869949d14823f8e",
            "placeholder": "​",
            "style": "IPY_MODEL_d0d441f0ac2d49589ef47eab854e4030",
            "value": "100%"
          }
        },
        "d351a02ca4484dedaae6cf7af1e37c35": {
          "model_module": "@jupyter-widgets/controls",
          "model_name": "FloatProgressModel",
          "model_module_version": "1.5.0",
          "state": {
            "_dom_classes": [],
            "_model_module": "@jupyter-widgets/controls",
            "_model_module_version": "1.5.0",
            "_model_name": "FloatProgressModel",
            "_view_count": null,
            "_view_module": "@jupyter-widgets/controls",
            "_view_module_version": "1.5.0",
            "_view_name": "ProgressView",
            "bar_style": "success",
            "description": "",
            "description_tooltip": null,
            "layout": "IPY_MODEL_b49a94c817494da4922eb575ae5b51b9",
            "max": 20,
            "min": 0,
            "orientation": "horizontal",
            "style": "IPY_MODEL_60d17b7f42d84ef3bdf8c9aed827efb1",
            "value": 20
          }
        },
        "41c6d508c9a443f39b0e23e8ebc878c6": {
          "model_module": "@jupyter-widgets/controls",
          "model_name": "HTMLModel",
          "model_module_version": "1.5.0",
          "state": {
            "_dom_classes": [],
            "_model_module": "@jupyter-widgets/controls",
            "_model_module_version": "1.5.0",
            "_model_name": "HTMLModel",
            "_view_count": null,
            "_view_module": "@jupyter-widgets/controls",
            "_view_module_version": "1.5.0",
            "_view_name": "HTMLView",
            "description": "",
            "description_tooltip": null,
            "layout": "IPY_MODEL_eb7b285038b9449d96737bb0ce651d25",
            "placeholder": "​",
            "style": "IPY_MODEL_7ed03709ca7b4b1892cc39be19e2d386",
            "value": " 20/20 [00:55&lt;00:00,  2.50s/it]"
          }
        },
        "2941f1240ab540e5bd4547f3b919be33": {
          "model_module": "@jupyter-widgets/base",
          "model_name": "LayoutModel",
          "model_module_version": "1.2.0",
          "state": {
            "_model_module": "@jupyter-widgets/base",
            "_model_module_version": "1.2.0",
            "_model_name": "LayoutModel",
            "_view_count": null,
            "_view_module": "@jupyter-widgets/base",
            "_view_module_version": "1.2.0",
            "_view_name": "LayoutView",
            "align_content": null,
            "align_items": null,
            "align_self": null,
            "border": null,
            "bottom": null,
            "display": null,
            "flex": null,
            "flex_flow": null,
            "grid_area": null,
            "grid_auto_columns": null,
            "grid_auto_flow": null,
            "grid_auto_rows": null,
            "grid_column": null,
            "grid_gap": null,
            "grid_row": null,
            "grid_template_areas": null,
            "grid_template_columns": null,
            "grid_template_rows": null,
            "height": null,
            "justify_content": null,
            "justify_items": null,
            "left": null,
            "margin": null,
            "max_height": null,
            "max_width": null,
            "min_height": null,
            "min_width": null,
            "object_fit": null,
            "object_position": null,
            "order": null,
            "overflow": null,
            "overflow_x": null,
            "overflow_y": null,
            "padding": null,
            "right": null,
            "top": null,
            "visibility": null,
            "width": null
          }
        },
        "e97826651afd4e19b869949d14823f8e": {
          "model_module": "@jupyter-widgets/base",
          "model_name": "LayoutModel",
          "model_module_version": "1.2.0",
          "state": {
            "_model_module": "@jupyter-widgets/base",
            "_model_module_version": "1.2.0",
            "_model_name": "LayoutModel",
            "_view_count": null,
            "_view_module": "@jupyter-widgets/base",
            "_view_module_version": "1.2.0",
            "_view_name": "LayoutView",
            "align_content": null,
            "align_items": null,
            "align_self": null,
            "border": null,
            "bottom": null,
            "display": null,
            "flex": null,
            "flex_flow": null,
            "grid_area": null,
            "grid_auto_columns": null,
            "grid_auto_flow": null,
            "grid_auto_rows": null,
            "grid_column": null,
            "grid_gap": null,
            "grid_row": null,
            "grid_template_areas": null,
            "grid_template_columns": null,
            "grid_template_rows": null,
            "height": null,
            "justify_content": null,
            "justify_items": null,
            "left": null,
            "margin": null,
            "max_height": null,
            "max_width": null,
            "min_height": null,
            "min_width": null,
            "object_fit": null,
            "object_position": null,
            "order": null,
            "overflow": null,
            "overflow_x": null,
            "overflow_y": null,
            "padding": null,
            "right": null,
            "top": null,
            "visibility": null,
            "width": null
          }
        },
        "d0d441f0ac2d49589ef47eab854e4030": {
          "model_module": "@jupyter-widgets/controls",
          "model_name": "DescriptionStyleModel",
          "model_module_version": "1.5.0",
          "state": {
            "_model_module": "@jupyter-widgets/controls",
            "_model_module_version": "1.5.0",
            "_model_name": "DescriptionStyleModel",
            "_view_count": null,
            "_view_module": "@jupyter-widgets/base",
            "_view_module_version": "1.2.0",
            "_view_name": "StyleView",
            "description_width": ""
          }
        },
        "b49a94c817494da4922eb575ae5b51b9": {
          "model_module": "@jupyter-widgets/base",
          "model_name": "LayoutModel",
          "model_module_version": "1.2.0",
          "state": {
            "_model_module": "@jupyter-widgets/base",
            "_model_module_version": "1.2.0",
            "_model_name": "LayoutModel",
            "_view_count": null,
            "_view_module": "@jupyter-widgets/base",
            "_view_module_version": "1.2.0",
            "_view_name": "LayoutView",
            "align_content": null,
            "align_items": null,
            "align_self": null,
            "border": null,
            "bottom": null,
            "display": null,
            "flex": null,
            "flex_flow": null,
            "grid_area": null,
            "grid_auto_columns": null,
            "grid_auto_flow": null,
            "grid_auto_rows": null,
            "grid_column": null,
            "grid_gap": null,
            "grid_row": null,
            "grid_template_areas": null,
            "grid_template_columns": null,
            "grid_template_rows": null,
            "height": null,
            "justify_content": null,
            "justify_items": null,
            "left": null,
            "margin": null,
            "max_height": null,
            "max_width": null,
            "min_height": null,
            "min_width": null,
            "object_fit": null,
            "object_position": null,
            "order": null,
            "overflow": null,
            "overflow_x": null,
            "overflow_y": null,
            "padding": null,
            "right": null,
            "top": null,
            "visibility": null,
            "width": null
          }
        },
        "60d17b7f42d84ef3bdf8c9aed827efb1": {
          "model_module": "@jupyter-widgets/controls",
          "model_name": "ProgressStyleModel",
          "model_module_version": "1.5.0",
          "state": {
            "_model_module": "@jupyter-widgets/controls",
            "_model_module_version": "1.5.0",
            "_model_name": "ProgressStyleModel",
            "_view_count": null,
            "_view_module": "@jupyter-widgets/base",
            "_view_module_version": "1.2.0",
            "_view_name": "StyleView",
            "bar_color": null,
            "description_width": ""
          }
        },
        "eb7b285038b9449d96737bb0ce651d25": {
          "model_module": "@jupyter-widgets/base",
          "model_name": "LayoutModel",
          "model_module_version": "1.2.0",
          "state": {
            "_model_module": "@jupyter-widgets/base",
            "_model_module_version": "1.2.0",
            "_model_name": "LayoutModel",
            "_view_count": null,
            "_view_module": "@jupyter-widgets/base",
            "_view_module_version": "1.2.0",
            "_view_name": "LayoutView",
            "align_content": null,
            "align_items": null,
            "align_self": null,
            "border": null,
            "bottom": null,
            "display": null,
            "flex": null,
            "flex_flow": null,
            "grid_area": null,
            "grid_auto_columns": null,
            "grid_auto_flow": null,
            "grid_auto_rows": null,
            "grid_column": null,
            "grid_gap": null,
            "grid_row": null,
            "grid_template_areas": null,
            "grid_template_columns": null,
            "grid_template_rows": null,
            "height": null,
            "justify_content": null,
            "justify_items": null,
            "left": null,
            "margin": null,
            "max_height": null,
            "max_width": null,
            "min_height": null,
            "min_width": null,
            "object_fit": null,
            "object_position": null,
            "order": null,
            "overflow": null,
            "overflow_x": null,
            "overflow_y": null,
            "padding": null,
            "right": null,
            "top": null,
            "visibility": null,
            "width": null
          }
        },
        "7ed03709ca7b4b1892cc39be19e2d386": {
          "model_module": "@jupyter-widgets/controls",
          "model_name": "DescriptionStyleModel",
          "model_module_version": "1.5.0",
          "state": {
            "_model_module": "@jupyter-widgets/controls",
            "_model_module_version": "1.5.0",
            "_model_name": "DescriptionStyleModel",
            "_view_count": null,
            "_view_module": "@jupyter-widgets/base",
            "_view_module_version": "1.2.0",
            "_view_name": "StyleView",
            "description_width": ""
          }
        },
        "820c3aa54536480db83859e575d9240e": {
          "model_module": "@jupyter-widgets/controls",
          "model_name": "HBoxModel",
          "model_module_version": "1.5.0",
          "state": {
            "_dom_classes": [],
            "_model_module": "@jupyter-widgets/controls",
            "_model_module_version": "1.5.0",
            "_model_name": "HBoxModel",
            "_view_count": null,
            "_view_module": "@jupyter-widgets/controls",
            "_view_module_version": "1.5.0",
            "_view_name": "HBoxView",
            "box_style": "",
            "children": [
              "IPY_MODEL_041b7b811bea4aa5a63a37a7ec6c5ece",
              "IPY_MODEL_190c6d19a2414430a5975202d6ab2d09",
              "IPY_MODEL_a6105e6854af4730a5d362e25f067b78"
            ],
            "layout": "IPY_MODEL_9b33b6dd16014b5486a2e36ef51574fd"
          }
        },
        "041b7b811bea4aa5a63a37a7ec6c5ece": {
          "model_module": "@jupyter-widgets/controls",
          "model_name": "HTMLModel",
          "model_module_version": "1.5.0",
          "state": {
            "_dom_classes": [],
            "_model_module": "@jupyter-widgets/controls",
            "_model_module_version": "1.5.0",
            "_model_name": "HTMLModel",
            "_view_count": null,
            "_view_module": "@jupyter-widgets/controls",
            "_view_module_version": "1.5.0",
            "_view_name": "HTMLView",
            "description": "",
            "description_tooltip": null,
            "layout": "IPY_MODEL_09ccd397e2534e979595365971c323fe",
            "placeholder": "​",
            "style": "IPY_MODEL_786e7758695d4813b23ac0f873a713eb",
            "value": "100%"
          }
        },
        "190c6d19a2414430a5975202d6ab2d09": {
          "model_module": "@jupyter-widgets/controls",
          "model_name": "FloatProgressModel",
          "model_module_version": "1.5.0",
          "state": {
            "_dom_classes": [],
            "_model_module": "@jupyter-widgets/controls",
            "_model_module_version": "1.5.0",
            "_model_name": "FloatProgressModel",
            "_view_count": null,
            "_view_module": "@jupyter-widgets/controls",
            "_view_module_version": "1.5.0",
            "_view_name": "ProgressView",
            "bar_style": "success",
            "description": "",
            "description_tooltip": null,
            "layout": "IPY_MODEL_0509373d88024f22bd74e3cc36198e9e",
            "max": 10,
            "min": 0,
            "orientation": "horizontal",
            "style": "IPY_MODEL_232fab8039b6477a932d9187c43d1f89",
            "value": 10
          }
        },
        "a6105e6854af4730a5d362e25f067b78": {
          "model_module": "@jupyter-widgets/controls",
          "model_name": "HTMLModel",
          "model_module_version": "1.5.0",
          "state": {
            "_dom_classes": [],
            "_model_module": "@jupyter-widgets/controls",
            "_model_module_version": "1.5.0",
            "_model_name": "HTMLModel",
            "_view_count": null,
            "_view_module": "@jupyter-widgets/controls",
            "_view_module_version": "1.5.0",
            "_view_name": "HTMLView",
            "description": "",
            "description_tooltip": null,
            "layout": "IPY_MODEL_eb31129c6e8f441fb27e96335d8cfa00",
            "placeholder": "​",
            "style": "IPY_MODEL_f65dcdd5a90a424196d814b03ccf9c7b",
            "value": " 10/10 [00:25&lt;00:00,  2.59s/it]"
          }
        },
        "9b33b6dd16014b5486a2e36ef51574fd": {
          "model_module": "@jupyter-widgets/base",
          "model_name": "LayoutModel",
          "model_module_version": "1.2.0",
          "state": {
            "_model_module": "@jupyter-widgets/base",
            "_model_module_version": "1.2.0",
            "_model_name": "LayoutModel",
            "_view_count": null,
            "_view_module": "@jupyter-widgets/base",
            "_view_module_version": "1.2.0",
            "_view_name": "LayoutView",
            "align_content": null,
            "align_items": null,
            "align_self": null,
            "border": null,
            "bottom": null,
            "display": null,
            "flex": null,
            "flex_flow": null,
            "grid_area": null,
            "grid_auto_columns": null,
            "grid_auto_flow": null,
            "grid_auto_rows": null,
            "grid_column": null,
            "grid_gap": null,
            "grid_row": null,
            "grid_template_areas": null,
            "grid_template_columns": null,
            "grid_template_rows": null,
            "height": null,
            "justify_content": null,
            "justify_items": null,
            "left": null,
            "margin": null,
            "max_height": null,
            "max_width": null,
            "min_height": null,
            "min_width": null,
            "object_fit": null,
            "object_position": null,
            "order": null,
            "overflow": null,
            "overflow_x": null,
            "overflow_y": null,
            "padding": null,
            "right": null,
            "top": null,
            "visibility": null,
            "width": null
          }
        },
        "09ccd397e2534e979595365971c323fe": {
          "model_module": "@jupyter-widgets/base",
          "model_name": "LayoutModel",
          "model_module_version": "1.2.0",
          "state": {
            "_model_module": "@jupyter-widgets/base",
            "_model_module_version": "1.2.0",
            "_model_name": "LayoutModel",
            "_view_count": null,
            "_view_module": "@jupyter-widgets/base",
            "_view_module_version": "1.2.0",
            "_view_name": "LayoutView",
            "align_content": null,
            "align_items": null,
            "align_self": null,
            "border": null,
            "bottom": null,
            "display": null,
            "flex": null,
            "flex_flow": null,
            "grid_area": null,
            "grid_auto_columns": null,
            "grid_auto_flow": null,
            "grid_auto_rows": null,
            "grid_column": null,
            "grid_gap": null,
            "grid_row": null,
            "grid_template_areas": null,
            "grid_template_columns": null,
            "grid_template_rows": null,
            "height": null,
            "justify_content": null,
            "justify_items": null,
            "left": null,
            "margin": null,
            "max_height": null,
            "max_width": null,
            "min_height": null,
            "min_width": null,
            "object_fit": null,
            "object_position": null,
            "order": null,
            "overflow": null,
            "overflow_x": null,
            "overflow_y": null,
            "padding": null,
            "right": null,
            "top": null,
            "visibility": null,
            "width": null
          }
        },
        "786e7758695d4813b23ac0f873a713eb": {
          "model_module": "@jupyter-widgets/controls",
          "model_name": "DescriptionStyleModel",
          "model_module_version": "1.5.0",
          "state": {
            "_model_module": "@jupyter-widgets/controls",
            "_model_module_version": "1.5.0",
            "_model_name": "DescriptionStyleModel",
            "_view_count": null,
            "_view_module": "@jupyter-widgets/base",
            "_view_module_version": "1.2.0",
            "_view_name": "StyleView",
            "description_width": ""
          }
        },
        "0509373d88024f22bd74e3cc36198e9e": {
          "model_module": "@jupyter-widgets/base",
          "model_name": "LayoutModel",
          "model_module_version": "1.2.0",
          "state": {
            "_model_module": "@jupyter-widgets/base",
            "_model_module_version": "1.2.0",
            "_model_name": "LayoutModel",
            "_view_count": null,
            "_view_module": "@jupyter-widgets/base",
            "_view_module_version": "1.2.0",
            "_view_name": "LayoutView",
            "align_content": null,
            "align_items": null,
            "align_self": null,
            "border": null,
            "bottom": null,
            "display": null,
            "flex": null,
            "flex_flow": null,
            "grid_area": null,
            "grid_auto_columns": null,
            "grid_auto_flow": null,
            "grid_auto_rows": null,
            "grid_column": null,
            "grid_gap": null,
            "grid_row": null,
            "grid_template_areas": null,
            "grid_template_columns": null,
            "grid_template_rows": null,
            "height": null,
            "justify_content": null,
            "justify_items": null,
            "left": null,
            "margin": null,
            "max_height": null,
            "max_width": null,
            "min_height": null,
            "min_width": null,
            "object_fit": null,
            "object_position": null,
            "order": null,
            "overflow": null,
            "overflow_x": null,
            "overflow_y": null,
            "padding": null,
            "right": null,
            "top": null,
            "visibility": null,
            "width": null
          }
        },
        "232fab8039b6477a932d9187c43d1f89": {
          "model_module": "@jupyter-widgets/controls",
          "model_name": "ProgressStyleModel",
          "model_module_version": "1.5.0",
          "state": {
            "_model_module": "@jupyter-widgets/controls",
            "_model_module_version": "1.5.0",
            "_model_name": "ProgressStyleModel",
            "_view_count": null,
            "_view_module": "@jupyter-widgets/base",
            "_view_module_version": "1.2.0",
            "_view_name": "StyleView",
            "bar_color": null,
            "description_width": ""
          }
        },
        "eb31129c6e8f441fb27e96335d8cfa00": {
          "model_module": "@jupyter-widgets/base",
          "model_name": "LayoutModel",
          "model_module_version": "1.2.0",
          "state": {
            "_model_module": "@jupyter-widgets/base",
            "_model_module_version": "1.2.0",
            "_model_name": "LayoutModel",
            "_view_count": null,
            "_view_module": "@jupyter-widgets/base",
            "_view_module_version": "1.2.0",
            "_view_name": "LayoutView",
            "align_content": null,
            "align_items": null,
            "align_self": null,
            "border": null,
            "bottom": null,
            "display": null,
            "flex": null,
            "flex_flow": null,
            "grid_area": null,
            "grid_auto_columns": null,
            "grid_auto_flow": null,
            "grid_auto_rows": null,
            "grid_column": null,
            "grid_gap": null,
            "grid_row": null,
            "grid_template_areas": null,
            "grid_template_columns": null,
            "grid_template_rows": null,
            "height": null,
            "justify_content": null,
            "justify_items": null,
            "left": null,
            "margin": null,
            "max_height": null,
            "max_width": null,
            "min_height": null,
            "min_width": null,
            "object_fit": null,
            "object_position": null,
            "order": null,
            "overflow": null,
            "overflow_x": null,
            "overflow_y": null,
            "padding": null,
            "right": null,
            "top": null,
            "visibility": null,
            "width": null
          }
        },
        "f65dcdd5a90a424196d814b03ccf9c7b": {
          "model_module": "@jupyter-widgets/controls",
          "model_name": "DescriptionStyleModel",
          "model_module_version": "1.5.0",
          "state": {
            "_model_module": "@jupyter-widgets/controls",
            "_model_module_version": "1.5.0",
            "_model_name": "DescriptionStyleModel",
            "_view_count": null,
            "_view_module": "@jupyter-widgets/base",
            "_view_module_version": "1.2.0",
            "_view_name": "StyleView",
            "description_width": ""
          }
        }
      }
    }
  },
  "cells": [
    {
      "cell_type": "markdown",
      "source": [
        "[![Colab](https://colab.research.google.com/assets/colab-badge.svg)](https://colab.research.google.com/github/DanielAlonsoBastos/AprendizajeProfundo/blob/main/tarea2-cnn-recurrentes-transferencia/3_ucf11.ipynb)"
      ],
      "metadata": {
        "id": "CDEKsIklU1Ai"
      }
    },
    {
      "cell_type": "markdown",
      "source": [
        "# Reconocimiento de acciones humanas\n",
        "Daniel Alejandro Alonso Bastos"
      ],
      "metadata": {
        "id": "UP4zl_Xut5ht"
      }
    },
    {
      "cell_type": "markdown",
      "source": [
        "Comparación de arquitecturas RNN y CNN para reconocimiento de acciones humanas en el conjunto [UCF11](https://cloud.xibalba.com.mx/s/apYrNA4iM4K65o7). La solución debe de cumplir con los siguientes puntos:\n",
        "\n",
        "* Usar las características convolucionales vistas en clase.\n",
        "* Implementar una arquitectura RNN bidireccional con una capa GRU.\n",
        "* Implementar una arquitectura CNN con una capa Conv1d.\n",
        "* Modificar el tamaño de las capas para que ambos modelos tengan un número similar de parámetros.\n",
        "* Discutir el comportamiento durante el entrenamiento y resultados finales en ambos conjuntos."
      ],
      "metadata": {
        "id": "ywJfpIMUuBuE"
      }
    },
    {
      "cell_type": "markdown",
      "source": [
        "## 1 Preparación"
      ],
      "metadata": {
        "id": "z28AxCiSu7-0"
      }
    },
    {
      "cell_type": "markdown",
      "source": [
        "1.1 Bibliotecas"
      ],
      "metadata": {
        "id": "QKYkm2jnvW-L"
      }
    },
    {
      "cell_type": "code",
      "source": [
        "# inspeccionar arquitecturas\n",
        "!pip install torchinfo\n",
        "!pip install zarr"
      ],
      "metadata": {
        "colab": {
          "base_uri": "https://localhost:8080/"
        },
        "id": "qVd567WMvaDD",
        "outputId": "c77bfd3a-6f98-405b-e1b2-60b66a918104"
      },
      "execution_count": 1,
      "outputs": [
        {
          "output_type": "stream",
          "name": "stdout",
          "text": [
            "Looking in indexes: https://pypi.org/simple, https://us-python.pkg.dev/colab-wheels/public/simple/\n",
            "Requirement already satisfied: torchinfo in /usr/local/lib/python3.7/dist-packages (1.7.1)\n",
            "Looking in indexes: https://pypi.org/simple, https://us-python.pkg.dev/colab-wheels/public/simple/\n",
            "Requirement already satisfied: zarr in /usr/local/lib/python3.7/dist-packages (2.12.0)\n",
            "Requirement already satisfied: numpy>=1.7 in /usr/local/lib/python3.7/dist-packages (from zarr) (1.21.6)\n",
            "Requirement already satisfied: asciitree in /usr/local/lib/python3.7/dist-packages (from zarr) (0.3.3)\n",
            "Requirement already satisfied: numcodecs>=0.6.4 in /usr/local/lib/python3.7/dist-packages (from zarr) (0.10.2)\n",
            "Requirement already satisfied: fasteners in /usr/local/lib/python3.7/dist-packages (from zarr) (0.18)\n",
            "Requirement already satisfied: typing-extensions>=3.7.4 in /usr/local/lib/python3.7/dist-packages (from numcodecs>=0.6.4->zarr) (4.1.1)\n",
            "Requirement already satisfied: entrypoints in /usr/local/lib/python3.7/dist-packages (from numcodecs>=0.6.4->zarr) (0.4)\n"
          ]
        }
      ]
    },
    {
      "cell_type": "code",
      "source": [
        "# sistema de archivos\n",
        "import os\n",
        "# funciones aleatorias\n",
        "import random\n",
        "# descomprimir\n",
        "import tarfile\n",
        "# sistema de archivos\n",
        "from os.path import join\n",
        "\n",
        "# arreglos multidimensionales\n",
        "import numpy as np\n",
        "import matplotlib.pyplot as plt\n",
        "\n",
        "# redes neuronales\n",
        "import torch\n",
        "import torch.nn as nn\n",
        "import torch.nn.functional as F\n",
        "import torch.optim as optim\n",
        "import torchvision.datasets.utils as tvu\n",
        "# almacenamiento de arreglos multidimensionales\n",
        "import zarr\n",
        "#redes\n",
        "from torch.utils.data import DataLoader, random_split\n",
        "# barras de progreso\n",
        "from tqdm.auto import tqdm\n",
        "from tqdm.auto import trange\n",
        "# inspección de arquitectura\n",
        "from torchinfo import summary\n",
        "\n",
        "# directorio de datos\n",
        "DATA_DIR = '../data'\n",
        "# tamaño del lote\n",
        "BATCH_SIZE = 32\n",
        "# tamaño del vector de características\n",
        "FEAT_SIZE = 1024\n",
        "# tamaño del conjunto de entrnamiento\n",
        "TRN_SIZE = 0.8\n",
        "\n",
        "# parametros para graficas\n",
        "MARKER = 'o'\n",
        "MARKER_SIZE = 4"
      ],
      "metadata": {
        "id": "cwghpmfP9wTs"
      },
      "execution_count": 2,
      "outputs": []
    },
    {
      "cell_type": "markdown",
      "source": [
        "### 1.2 Auxiliares"
      ],
      "metadata": {
        "id": "dJJCWWAJviiD"
      }
    },
    {
      "cell_type": "code",
      "source": [
        "# reproducibilidad\n",
        "def set_seed(seed=0):\n",
        "  \"\"\"Initializes pseudo-random number generators.\"\"\"\n",
        "  random.seed(seed)\n",
        "  np.random.seed(seed)\n",
        "  torch.manual_seed(seed)\n",
        "# settear semilla\n",
        "set_seed()\n",
        "\n",
        "# grafica de perdida y accuracy del modelo\n",
        "def plot_loss_accuracy(loss_hist, accuracy_hist):\n",
        "  train_loss, test_loss = zip(*loss_hist)\n",
        "  train_acc, test_acc = zip(*accuracy_hist)\n",
        "\n",
        "  fig,ax = plt.subplots(1,2,figsize=(16,5))\n",
        "\n",
        "  ax[0].plot(train_loss,label='Train',marker=MARKER,markersize=MARKER_SIZE)\n",
        "  ax[0].plot(test_loss,label='Test',marker=MARKER,markersize=MARKER_SIZE)\n",
        "  ax[0].set_xlabel('Epochs')\n",
        "  ax[0].set_ylabel('Loss')\n",
        "  ax[0].set_title('Model loss')\n",
        "  ax[0].grid()\n",
        "  ax[0].legend()\n",
        "\n",
        "  ax[1].plot(train_acc,label='Train',marker=MARKER,markersize=MARKER_SIZE)\n",
        "  ax[1].plot(test_acc,label='Test',marker=MARKER,markersize=MARKER_SIZE)\n",
        "  ax[1].set_xlabel('Epochs')\n",
        "  ax[1].set_ylabel('Accuracy (%)')\n",
        "  ax[1].set_title('Model accuracy')\n",
        "  ax[1].set_ylim([0,100])\n",
        "  ax[1].grid()\n",
        "  ax[1].legend()\n",
        "\n",
        "  plt.show()"
      ],
      "metadata": {
        "id": "PR2It2fKvxmz"
      },
      "execution_count": 3,
      "outputs": []
    },
    {
      "cell_type": "markdown",
      "source": [
        "## 2 Datos"
      ],
      "metadata": {
        "id": "GCmYfFZLhErU"
      }
    },
    {
      "cell_type": "markdown",
      "source": [
        "### 2.1 Conjunto de datos"
      ],
      "metadata": {
        "id": "iwTipYuOhQEB"
      }
    },
    {
      "cell_type": "markdown",
      "source": [
        "En la clase `UCF11` se realiza la tubería de datos, en la cual se descargan y descomprimen las características convolucionales obtenidas en notebook [3b_ucf11_feats](https://github.com/gibranfp/CursoAprendizajeProfundo/blob/2023-1/notebooks/3b_ucf11_feats.ipynb), el cual contiene 10 cuadros por video, y en cada cuadro se tiene un vector de 1,024 características, dichas características fueron extraídas empleando una DenseNet121."
      ],
      "metadata": {
        "id": "AXXdc1_UXON_"
      }
    },
    {
      "cell_type": "code",
      "source": [
        "class UCF11:\n",
        "\n",
        "    def __init__(self, root, download=False):\n",
        "        self.root = root\n",
        "        self.zarr_dir = join(root, 'ucf11.zarr')\n",
        "        if download:\n",
        "            self.download()\n",
        "        self.z = zarr.open(self.zarr_dir, 'r')\n",
        "        self.paths = list(self.z.array_keys())\n",
        "        \n",
        "    def __getitem__(self, i):\n",
        "        arr = self.z[self.paths[i]]\n",
        "        x = np.array(arr)\n",
        "        y = np.array(arr.attrs['y'], dtype=np.int64)\n",
        "        return x, y\n",
        "\n",
        "    def __len__(self):\n",
        "        return len(self.paths)\n",
        "    \n",
        "    def _check_integrity(self):\n",
        "        return os.path.isdir(self.zarr_dir)\n",
        "    \n",
        "    def _extract(self, root, filename):\n",
        "        tar = tarfile.open(join(root, filename), \"r:gz\")\n",
        "        tar.extractall(root)\n",
        "        tar.close()\n",
        "\n",
        "    def download(self):\n",
        "        if self._check_integrity():\n",
        "            print('Files already downloaded and verified')\n",
        "            return\n",
        "\n",
        "        tvu.download_url(\n",
        "            url='https://cloud.xibalba.com.mx/s/apYrNA4iM4K65o7/download',\n",
        "            root=self.root,\n",
        "            filename='ucf11.zarr.tar.gz',\n",
        "            md5='c8a82454f9ec092d00bcd99c849e03fd'\n",
        "        )\n",
        "        self._extract(self.root, 'ucf11.zarr.tar.gz')"
      ],
      "metadata": {
        "id": "ATk1AGCxZmOo"
      },
      "execution_count": 4,
      "outputs": []
    },
    {
      "cell_type": "markdown",
      "source": [
        "A continuación se genera una instancia de UCF11 y se descarga el conjunto de datos que tiene las características convolucionales obtenidas del notebook [3b_ucf11_feats.ipynb](https://github.com/gibranfp/CursoAprendizajeProfundo/blob/2023-1/notebooks/3b_ucf11_feats.ipynb)."
      ],
      "metadata": {
        "id": "QbhUzbC6hX13"
      }
    },
    {
      "cell_type": "code",
      "source": [
        "ds = UCF11(join(DATA_DIR, 'ucf11'), True)\n",
        "x, y = ds[0]\n",
        "print(f'x shape={x.shape} dtype={x.dtype}')\n",
        "print(f'x [0][:5]={x[0][:5]}')\n",
        "print(f'y shape={y.shape} dtype={y.dtype} {y}')\n",
        "print(f'y {y}')"
      ],
      "metadata": {
        "colab": {
          "base_uri": "https://localhost:8080/"
        },
        "id": "MTTx_tLzZmME",
        "outputId": "a52ae0cd-a68b-4569-effe-15ddc98a444d"
      },
      "execution_count": 5,
      "outputs": [
        {
          "output_type": "stream",
          "name": "stdout",
          "text": [
            "Files already downloaded and verified\n",
            "x shape=(10, 1024) dtype=float32\n",
            "x [0][:5]=[0.00022111 0.00368518 0.00314753 0.00201778 0.09296297]\n",
            "y shape=() dtype=int64 0\n",
            "y 0\n"
          ]
        }
      ]
    },
    {
      "cell_type": "markdown",
      "source": [
        "Se realiza la partición del conjunto de entrenamiento (80%) y prueba (20%)"
      ],
      "metadata": {
        "id": "sKNeL4_ah3Q9"
      }
    },
    {
      "cell_type": "code",
      "source": [
        "trn_size = int(TRN_SIZE * len(ds))\n",
        "tst_size = len(ds) - trn_size\n",
        "trn_ds, tst_ds = random_split(ds, [trn_size, tst_size])\n",
        "len(trn_ds), len(tst_ds)"
      ],
      "metadata": {
        "colab": {
          "base_uri": "https://localhost:8080/"
        },
        "id": "kid-DWDTZmJy",
        "outputId": "6ca3db5a-4f1a-4d22-9a87-22ea5162816f"
      },
      "execution_count": 6,
      "outputs": [
        {
          "output_type": "execute_result",
          "data": {
            "text/plain": [
              "(1279, 320)"
            ]
          },
          "metadata": {},
          "execution_count": 6
        }
      ]
    },
    {
      "cell_type": "markdown",
      "source": [
        "### 2.2 Cargadores de datos"
      ],
      "metadata": {
        "id": "gSiMg0lmiEfB"
      }
    },
    {
      "cell_type": "code",
      "source": [
        "trn_dl = DataLoader(\n",
        "    # conjunto\n",
        "    trn_ds,\n",
        "    # tamaño del lote\n",
        "    batch_size=BATCH_SIZE,\n",
        "    # desordenar\n",
        "    shuffle=True,\n",
        "    # procesos paralelos\n",
        "    num_workers=2\n",
        ")\n",
        "tst_dl = DataLoader(\n",
        "    # conjunto\n",
        "    tst_ds,\n",
        "    # tamaño del lote\n",
        "    batch_size=BATCH_SIZE,\n",
        "    # desordenar\n",
        "    shuffle=True,\n",
        "    # procesos paralelos\n",
        "    num_workers=2\n",
        ")"
      ],
      "metadata": {
        "id": "aDg4ihgCZmIU"
      },
      "execution_count": 7,
      "outputs": []
    },
    {
      "cell_type": "markdown",
      "source": [
        "El tensor $x$ consiste en: [lote, secuancia, vector de características]"
      ],
      "metadata": {
        "id": "wa6rLcGuiLLn"
      }
    },
    {
      "cell_type": "code",
      "source": [
        "x, y = next(iter(trn_dl))\n",
        "print(f'x shape={x.shape} dtype={x.dtype}')\n",
        "print(f'y shape={y.shape} dtype={y.dtype}')"
      ],
      "metadata": {
        "colab": {
          "base_uri": "https://localhost:8080/"
        },
        "id": "uTPWK2C0ZmGm",
        "outputId": "27292b8e-cc28-49d1-829b-bf9831f04185"
      },
      "execution_count": 8,
      "outputs": [
        {
          "output_type": "stream",
          "name": "stdout",
          "text": [
            "x shape=torch.Size([32, 10, 1024]) dtype=torch.float32\n",
            "y shape=torch.Size([32]) dtype=torch.int64\n"
          ]
        }
      ]
    },
    {
      "cell_type": "markdown",
      "source": [
        "## 3 Modelos"
      ],
      "metadata": {
        "id": "EjPZexKui-8o"
      }
    },
    {
      "cell_type": "markdown",
      "source": [
        "### 3.1 Arquitectura RNN bidireccional con una capa GRU"
      ],
      "metadata": {
        "id": "t9SruqU83sZQ"
      }
    },
    {
      "cell_type": "markdown",
      "source": [
        "En la clase `RNN` se define una arquitectura RNN parametrizada, en la cual se puede seleccionar si es o no bidireccional. En caso de emplear un GRU bidireccional el tamaño a la salida se duplica, por lo que la entrada a la capa completamente conectada tiene que considerar el doble de entrada."
      ],
      "metadata": {
        "id": "Q36PYh1IYyix"
      }
    },
    {
      "cell_type": "code",
      "source": [
        "class RNN(nn.Module):\n",
        "  def __init__(self,bidirectional=False, input_size = 1024, \n",
        "               hidden_size=128, num_classes=11, p_drop=0.0):\n",
        "    super().__init__()\n",
        "    self.p_drop = p_drop # probabilidad de que un elemento sea 0\n",
        "    \n",
        "    # si RNN es bidireccional, entonces se tiene el doble de estados a la salida\n",
        "    num_directions = 2 if bidirectional else 1\n",
        "\n",
        "    self.bn = nn.BatchNorm1d(input_size)\n",
        "    self.rnn = nn.GRU(input_size=input_size, hidden_size=hidden_size, \n",
        "                      num_layers=1, batch_first=True, \n",
        "                      bidirectional=bidirectional)\n",
        "    self.cls = nn.Linear(num_directions*hidden_size, num_classes)\n",
        "\n",
        "    # dropout\n",
        "    self.dropout = nn.Dropout(self.p_drop)\n",
        "\n",
        "  def forward(self, x):\n",
        "    # el vector de caracteristicas convolucionales es [B,S,F]\n",
        "    # B -> batch, S -> seq, F -> features\n",
        "    # [B,S,F] => [B,F,S]\n",
        "    x = x.movedim(1, 2)\n",
        "    x = self.bn(x) # [B,F,S]\n",
        "    # [B,F,S] => [B,S,F]\n",
        "    x = x.movedim(1, 2)\n",
        "    # [B,S,F] => [B,S,H]\n",
        "    # si es bidireccional -> [B,S,F] => [B,S,2*H]\n",
        "    x = self.dropout(x)\n",
        "    x, _ = self.rnn(x)\n",
        "    # [B, S, H] => [B, H]\n",
        "    #x = x[:, -1, :]\n",
        "    x = torch.mean(x,1)\n",
        "    # [B, H] = [B, 11]\n",
        "    x = self.dropout(x)\n",
        "    x = self.cls(x)\n",
        "    return x"
      ],
      "metadata": {
        "id": "331bEU2H30x5"
      },
      "execution_count": 9,
      "outputs": []
    },
    {
      "cell_type": "markdown",
      "source": [
        "Instancia y prueba de la arquitectura"
      ],
      "metadata": {
        "id": "BlbrS3rd33ba"
      }
    },
    {
      "cell_type": "code",
      "source": [
        "# RNN bidireccional\n",
        "model_RNNBid = RNN(bidirectional=True)\n",
        "model_RNNBid(torch.zeros(1, 10, 1024)).shape"
      ],
      "metadata": {
        "colab": {
          "base_uri": "https://localhost:8080/"
        },
        "id": "KIRW-JHM33BJ",
        "outputId": "4e20b1bc-be99-45a4-8de1-3bdf1ea45b3a"
      },
      "execution_count": 10,
      "outputs": [
        {
          "output_type": "execute_result",
          "data": {
            "text/plain": [
              "torch.Size([1, 11])"
            ]
          },
          "metadata": {},
          "execution_count": 10
        }
      ]
    },
    {
      "cell_type": "code",
      "source": [
        "# RNN\n",
        "model_RNN = RNN()"
      ],
      "metadata": {
        "id": "MthqLcLMEEwx"
      },
      "execution_count": 11,
      "outputs": []
    },
    {
      "cell_type": "markdown",
      "source": [
        "### 3.2 Arquitectura CNN con una capa Conv1d"
      ],
      "metadata": {
        "id": "xFVCeg_q4Iy0"
      }
    },
    {
      "cell_type": "markdown",
      "source": [
        "En la clase `CNN` se define una arquitectura CNN que tiene una capa de convolución 1D adentro, en función de los parámetros de la convolución el vector de características tendrá un tamaño distinto a la salida. El tamaño de salida de la convolución 1D se calcula con la siguiente [ecuación](https://stackoverflow.com/questions/62162576/calculating-shape-of-conv1d-layer-in-pytorch):\n",
        "\n",
        "\n",
        "\\begin{equation}\n",
        "L_{out} = \\left \\lfloor \\frac{L_{in}+2\\times padding - dilation \\times \\left ( kernel_{size}-1 \\right )-1}{stride}+1 \\right \\rfloor\n",
        "\\end{equation}\n",
        "\n",
        "\n",
        "El cálculo de la salida se agrega como un método de la clase para calcular el tamaño del número de unidades en la entrada de la capa completamente conectada.\n"
      ],
      "metadata": {
        "id": "4qINduRVGF-f"
      }
    },
    {
      "cell_type": "code",
      "source": [
        "class CNN(nn.Module):\n",
        "  def __init__(self, input_size = 1024, in_channels = 10, out_channels = 10, \n",
        "               kernel_size = 3, num_classes=11):\n",
        "    super().__init__()\n",
        "\n",
        "    # calculo de la salida del vector de caract despues de la conv1d\n",
        "    input_size_cls_cnn = self._calculate_output_conv1d(input_size, kernel_size)\n",
        "    \n",
        "    self.bn = nn.BatchNorm1d(input_size)\n",
        "    self.cnn = nn.Conv1d(in_channels,out_channels,kernel_size)\n",
        "    self.cls = nn.Linear(input_size_cls_cnn, num_classes)\n",
        "\n",
        "  def _calculate_output_conv1d(self, in_size, kernel_size, stride=1, padding=0, dilation=1):\n",
        "    return (in_size + 2 * padding - dilation * (kernel_size - 1) - 1) // stride + 1\n",
        "\n",
        "  def forward(self, x):\n",
        "    # el vector de caracteristicas convolucionales es [B,S,F]\n",
        "    # B -> batch, S -> seq, F -> features\n",
        "    # [B,S,F] => [B,F,S]\n",
        "    x = x.movedim(1, 2)\n",
        "    x = self.bn(x) # [B,F,S]\n",
        "    # [B,F,S] => [B,S,F]\n",
        "    x = x.movedim(1, 2)\n",
        "    # [B,S,F] => [B,S,H]\n",
        "    # si es bidireccional -> [B,S,F] => [B,S,2*H]\n",
        "    x = self.cnn(x)\n",
        "    # [B, S, H] => [B, H]\n",
        "    #x = x[:, -1, :]\n",
        "    x = torch.mean(x,1)\n",
        "    # [B, H] = [B, 11]\n",
        "    x = self.cls(x)\n",
        "    return x"
      ],
      "metadata": {
        "id": "gXr-GKU71T1Z"
      },
      "execution_count": 12,
      "outputs": []
    },
    {
      "cell_type": "markdown",
      "source": [
        "Instancia y prueba de la arquitectura"
      ],
      "metadata": {
        "id": "ccBOcf3k4PO5"
      }
    },
    {
      "cell_type": "code",
      "source": [
        "model_CNN = CNN()\n",
        "model_CNN(torch.zeros(1, 10, 1024)).shape"
      ],
      "metadata": {
        "colab": {
          "base_uri": "https://localhost:8080/"
        },
        "id": "xQd6ajVf6Nfh",
        "outputId": "0300d80b-9872-4369-9591-4b159128455a"
      },
      "execution_count": 13,
      "outputs": [
        {
          "output_type": "execute_result",
          "data": {
            "text/plain": [
              "torch.Size([1, 11])"
            ]
          },
          "metadata": {},
          "execution_count": 13
        }
      ]
    },
    {
      "cell_type": "markdown",
      "source": [
        "### 3.3 Modificar el tamaño de las capas para que ambos modelos tengan un número similar de parámetros"
      ],
      "metadata": {
        "id": "51RSt8Nv4a2K"
      }
    },
    {
      "cell_type": "markdown",
      "source": [
        "Para modificar el tamaño de las capas, se entendió cuáles son los hiperparámetros que mayor impacto tenían en el número de parámetros entrenables del modelo.\n",
        "* En el caso de la CNN es el número de canales que se tendrá a la salida de la convolución 1d.\n",
        "* En el caso de la RNN es si es bidireccional o no, porque duplica el número de parámetros de la capa completamente conectada, y también el tamaño a la salida de la GRU.\n",
        "\n",
        "Se variaron tanto el número de canales a la salida de la convolución y el tamaño de salida para tener un número cercano de parámetros en ambos modelos."
      ],
      "metadata": {
        "id": "CFksnYNpZ_aP"
      }
    },
    {
      "cell_type": "code",
      "source": [
        "model_CNN_M = CNN(out_channels=650)\n",
        "summary(model_CNN_M, (1,10,1024), device='cpu')"
      ],
      "metadata": {
        "colab": {
          "base_uri": "https://localhost:8080/"
        },
        "id": "lPO4-2Mt5S6E",
        "outputId": "e679999e-f5f3-4ce7-cc51-faf790cf7592"
      },
      "execution_count": 14,
      "outputs": [
        {
          "output_type": "execute_result",
          "data": {
            "text/plain": [
              "==========================================================================================\n",
              "Layer (type:depth-idx)                   Output Shape              Param #\n",
              "==========================================================================================\n",
              "CNN                                      [1, 11]                   --\n",
              "├─BatchNorm1d: 1-1                       [1, 1024, 10]             2,048\n",
              "├─Conv1d: 1-2                            [1, 650, 1022]            20,150\n",
              "├─Linear: 1-3                            [1, 11]                   11,253\n",
              "==========================================================================================\n",
              "Total params: 33,451\n",
              "Trainable params: 33,451\n",
              "Non-trainable params: 0\n",
              "Total mult-adds (M): 20.61\n",
              "==========================================================================================\n",
              "Input size (MB): 0.04\n",
              "Forward/backward pass size (MB): 5.40\n",
              "Params size (MB): 0.13\n",
              "Estimated Total Size (MB): 5.57\n",
              "=========================================================================================="
            ]
          },
          "metadata": {},
          "execution_count": 14
        }
      ]
    },
    {
      "cell_type": "code",
      "source": [
        "model_RNNBid_M = RNN(bidirectional=True, hidden_size=5)\n",
        "summary(model_RNNBid_M, (1,10,1024), device='cpu')"
      ],
      "metadata": {
        "colab": {
          "base_uri": "https://localhost:8080/"
        },
        "id": "TZoCfE7F4aPf",
        "outputId": "60b14c35-1289-472c-d9a0-b4209c1223c7"
      },
      "execution_count": 15,
      "outputs": [
        {
          "output_type": "execute_result",
          "data": {
            "text/plain": [
              "==========================================================================================\n",
              "Layer (type:depth-idx)                   Output Shape              Param #\n",
              "==========================================================================================\n",
              "RNN                                      [1, 11]                   --\n",
              "├─BatchNorm1d: 1-1                       [1, 1024, 10]             2,048\n",
              "├─Dropout: 1-2                           [1, 10, 1024]             --\n",
              "├─GRU: 1-3                               [1, 10, 10]               30,930\n",
              "├─Dropout: 1-4                           [1, 10]                   --\n",
              "├─Linear: 1-5                            [1, 11]                   121\n",
              "==========================================================================================\n",
              "Total params: 33,099\n",
              "Trainable params: 33,099\n",
              "Non-trainable params: 0\n",
              "Total mult-adds (M): 0.31\n",
              "==========================================================================================\n",
              "Input size (MB): 0.04\n",
              "Forward/backward pass size (MB): 0.08\n",
              "Params size (MB): 0.13\n",
              "Estimated Total Size (MB): 0.26\n",
              "=========================================================================================="
            ]
          },
          "metadata": {},
          "execution_count": 15
        }
      ]
    },
    {
      "cell_type": "markdown",
      "source": [
        "## 4 Entrenamiento"
      ],
      "metadata": {
        "id": "puG-yIR5p6MF"
      }
    },
    {
      "cell_type": "code",
      "source": [
        "! nvidia-smi"
      ],
      "metadata": {
        "colab": {
          "base_uri": "https://localhost:8080/"
        },
        "id": "jF_6f53rp6Jk",
        "outputId": "4a3efcf7-0989-4cea-f708-27c649ab75ec"
      },
      "execution_count": 16,
      "outputs": [
        {
          "output_type": "stream",
          "name": "stdout",
          "text": [
            "Sat Nov 12 01:46:23 2022       \n",
            "+-----------------------------------------------------------------------------+\n",
            "| NVIDIA-SMI 460.32.03    Driver Version: 460.32.03    CUDA Version: 11.2     |\n",
            "|-------------------------------+----------------------+----------------------+\n",
            "| GPU  Name        Persistence-M| Bus-Id        Disp.A | Volatile Uncorr. ECC |\n",
            "| Fan  Temp  Perf  Pwr:Usage/Cap|         Memory-Usage | GPU-Util  Compute M. |\n",
            "|                               |                      |               MIG M. |\n",
            "|===============================+======================+======================|\n",
            "|   0  Tesla T4            Off  | 00000000:00:04.0 Off |                    0 |\n",
            "| N/A   51C    P8     9W /  70W |      0MiB / 15109MiB |      0%      Default |\n",
            "|                               |                      |                  N/A |\n",
            "+-------------------------------+----------------------+----------------------+\n",
            "                                                                               \n",
            "+-----------------------------------------------------------------------------+\n",
            "| Processes:                                                                  |\n",
            "|  GPU   GI   CI        PID   Type   Process name                  GPU Memory |\n",
            "|        ID   ID                                                   Usage      |\n",
            "|=============================================================================|\n",
            "|  No running processes found                                                 |\n",
            "+-----------------------------------------------------------------------------+\n"
          ]
        }
      ]
    },
    {
      "cell_type": "code",
      "source": [
        "# obtenemos dispositivo en gpu, si no en cpu\n",
        "device = torch.device('cuda' if torch.cuda.is_available() else 'cpu')\n",
        "device"
      ],
      "metadata": {
        "colab": {
          "base_uri": "https://localhost:8080/"
        },
        "id": "lxF_Gz1qp6HS",
        "outputId": "29fd2b6b-1673-4c29-acbf-5c0f7261e8cb"
      },
      "execution_count": 17,
      "outputs": [
        {
          "output_type": "execute_result",
          "data": {
            "text/plain": [
              "device(type='cuda')"
            ]
          },
          "metadata": {},
          "execution_count": 17
        }
      ]
    },
    {
      "cell_type": "markdown",
      "source": [
        "### 4.1 Ciclo de entrenamiento"
      ],
      "metadata": {
        "id": "3P2QbWwQp6Ff"
      }
    },
    {
      "cell_type": "code",
      "source": [
        "def train_epoch(data_loader,model,opt,epoch):\n",
        "  # loop sobre cada lote en el conjunto de entrenamiento\n",
        "  for x, y_true in data_loader:\n",
        "  #for x, y_true in tqdm(data_loader, desc=f'E{epoch:2d} Train'):\n",
        "    # mover a dispositivo\n",
        "    x = x.to(device)\n",
        "    y_true = y_true.to(device)\n",
        "    # se realiza inferencia\n",
        "    y_lgts = model(x)\n",
        "    # se calcula la perdida\n",
        "    loss = F.cross_entropy(y_lgts, y_true)\n",
        "    # backprop\n",
        "    opt.zero_grad() # vaciar los gradientes\n",
        "    loss.backward() # retropropagamos\n",
        "    opt.step() # actualizamos parametros\n",
        "\n",
        "def eval_epoch(data_loader, model, epoch):\n",
        "  # evitar que se regsitren las operaciones en la grafica de computo\n",
        "  with torch.no_grad():\n",
        "    # listas para guardar historiales de perdidas y accuracy\n",
        "    losses, accs = [], []\n",
        "    # validación de la época con num_batches\n",
        "    # si num_batches==None, se usan todos los lotes\n",
        "    for x, y_true in data_loader:\n",
        "    #for x, y_true in tqdm(data_loader, desc=f'E{epoch:2d} Test'):\n",
        "      # mover a dispositivo\n",
        "      x = x.to(device)\n",
        "      y_true = y_true.to(device)\n",
        "      y_lgts = model(x) # calculamos logits\n",
        "      # calculo de las probabilidades\n",
        "      y_prob = F.softmax(y_lgts, 1)\n",
        "      # obtencion de la clase predicha\n",
        "      y_pred = torch.argmax(y_prob, 1)\n",
        "      # calculo de metricas\n",
        "      loss_b = F.cross_entropy(y_lgts, y_true) # calculo de la perdida\n",
        "      acc_b = (y_true == y_pred).type(torch.float32).mean() # calculo de la exactitud\n",
        "      # guardar historial de las metricas\n",
        "      losses.append(loss_b.item()*100)\n",
        "      accs.append(acc_b.item()*100)\n",
        "    \n",
        "    # se obtiene el promedio de las metricas\n",
        "    loss = np.mean(losses)\n",
        "    acc = np.mean(accs)\n",
        "    return loss, acc\n",
        "\n",
        "def train(model, train_dl, test_dl,epochs=10,lr=1e-3,opt='Adam',\n",
        "          L2lambda=0, seed=True, progress=True):\n",
        "  #if seed: set_seed() # fijar semilla para reproducibilidad\n",
        "  set_seed()\n",
        "  # mover modelo a cpu/gpu\n",
        "  model = model.to(device)\n",
        "  # historiales\n",
        "  loss_hist, acc_hist = [], []\n",
        "\n",
        "  # optimizadores\n",
        "  # optimizador seleccionado\n",
        "  if opt == 'SGD':\n",
        "    optimizer = optim.SGD(model.parameters(), lr=lr, weight_decay=L2lambda)\n",
        "  if opt == 'RMSprop':\n",
        "    optimizer = optim.RMSprop(model.parameters(),lr=lr, weight_decay=L2lambda)\n",
        "  if opt == 'Adam':\n",
        "    optimizer = optim.Adam(model.parameters(),lr=lr, weight_decay=L2lambda)\n",
        "\n",
        "  # definir si se quiere o no imprimir el progreso\n",
        "  range_progress = trange(epochs)  if progress else range(epochs)\n",
        "\n",
        "  # colocar el modelo en modo de evaluacion\n",
        "  model.eval()\n",
        "\n",
        "  # ciclo de entrenamiento\n",
        "  for epoch in range_progress:\n",
        "    # colocar al modelo en modo de entrenamiento\n",
        "    model.train()\n",
        "    # entrenamiento de la epoca\n",
        "    train_epoch(train_dl,model,optimizer,epoch)\n",
        "    # modelo en modo evaluacion\n",
        "    model.eval()\n",
        "    # evaluacion de la epoca en el conjunto de entrenamiento y prueba\n",
        "    train_loss, train_acc = eval_epoch(train_dl, model, epoch)\n",
        "    test_loss, test_acc = eval_epoch(test_dl, model, epoch)\n",
        "    # actualizar historial\n",
        "    loss_hist.append([train_loss,test_loss])\n",
        "    acc_hist.append([train_acc, test_acc])\n",
        "\n",
        "    # impresion del progreso\n",
        "    if progress:\n",
        "      print(f'E{epoch:02} '\n",
        "            f'loss=[{train_loss:6.2f},{test_loss:6.2f}] '\n",
        "            f'acc=[{train_acc:6.2f},{test_acc:6.2f}] ')\n",
        "      \n",
        "  return loss_hist, acc_hist"
      ],
      "metadata": {
        "id": "2I2cdTgEp6DC"
      },
      "execution_count": 18,
      "outputs": []
    },
    {
      "cell_type": "markdown",
      "source": [
        "### 4.2 Entrenamiento de la arquitectura RNN bidireccional"
      ],
      "metadata": {
        "id": "Nd-oLGPJp6Ah"
      }
    },
    {
      "cell_type": "markdown",
      "source": [
        "En esta sección se realiza el entrenamiento de una arquitectura RNN bidireccional. Se realizaron un par de ejercicios al variar la tasa de aprendizaje `lr=1e-3` y `lr=1e-4`.\n",
        "\n",
        "De ambos ejercicios se observa un claro overfitting, pero con una tasa de aprendizaje mayor se alcanzó una mejor exactitud en la primera época, después de dicha época el modelo comienza a sobreajustar."
      ],
      "metadata": {
        "id": "gZbryjh6bE-l"
      }
    },
    {
      "cell_type": "code",
      "source": [
        "loss_rnnbid, acc_rnnbid = train(model_RNNBid, trn_dl, tst_dl,epochs=10,lr=1e-4,\n",
        "                        opt='Adam',progress=True)"
      ],
      "metadata": {
        "colab": {
          "base_uri": "https://localhost:8080/",
          "height": 223,
          "referenced_widgets": [
            "515eeb17e1084edba711d2ee8a728389",
            "40b26669df8d4f52a0ae99e1943f6db8",
            "338bb210313c4568b38f9c507fd82dd9",
            "c9826eebbbd94884bf90c171d011ccf9",
            "148124d92c034d319d2bc244c0023fc9",
            "739f186edd7d4de09f0df037801e6b8b",
            "b620d14f020848f5bfb5d4b9476bd072",
            "71f6a5e6db39430fbee5b40da4601a07",
            "655a7c3856cd4051a833e79f016bbfad",
            "fb3859b2a108415d9f270d305cd64931",
            "ae8a0e502b63407e8ce4855821dd6d1a"
          ]
        },
        "id": "X_jyYVs78Yeo",
        "outputId": "05700ddf-e802-4ace-dcd2-71b066933e52"
      },
      "execution_count": 24,
      "outputs": [
        {
          "output_type": "display_data",
          "data": {
            "text/plain": [
              "  0%|          | 0/10 [00:00<?, ?it/s]"
            ],
            "application/vnd.jupyter.widget-view+json": {
              "version_major": 2,
              "version_minor": 0,
              "model_id": "515eeb17e1084edba711d2ee8a728389"
            }
          },
          "metadata": {}
        },
        {
          "output_type": "stream",
          "name": "stdout",
          "text": [
            "E00 loss=[148.83,167.61] acc=[ 58.17, 47.19] \n",
            "E01 loss=[144.47,164.78] acc=[ 60.12, 47.81] \n",
            "E02 loss=[139.77,161.92] acc=[ 61.60, 49.06] \n",
            "E03 loss=[135.36,159.31] acc=[ 63.88, 50.00] \n",
            "E04 loss=[131.12,156.65] acc=[ 64.58, 49.38] \n",
            "E05 loss=[127.02,155.70] acc=[ 66.13, 50.94] \n",
            "E06 loss=[123.48,153.04] acc=[ 68.02, 51.56] \n",
            "E07 loss=[119.72,151.11] acc=[ 68.09, 51.25] \n",
            "E08 loss=[115.39,148.62] acc=[ 70.76, 51.88] \n",
            "E09 loss=[111.77,147.79] acc=[ 71.54, 52.50] \n"
          ]
        }
      ]
    },
    {
      "cell_type": "code",
      "source": [
        "plot_loss_accuracy(loss_rnnbid, acc_rnnbid)"
      ],
      "metadata": {
        "colab": {
          "base_uri": "https://localhost:8080/",
          "height": 350
        },
        "id": "xPxYUnO28YYT",
        "outputId": "5fd643b8-6383-418f-c4c0-47da31e87cd3"
      },
      "execution_count": 25,
      "outputs": [
        {
          "output_type": "display_data",
          "data": {
            "text/plain": [
              "<Figure size 1152x360 with 2 Axes>"
            ],
            "image/png": "[encoded data removed]"
          },
          "metadata": {
            "needs_background": "light"
          }
        }
      ]
    },
    {
      "cell_type": "code",
      "source": [
        "loss_rnnbid, acc_rnnbid = train(model_RNNBid, trn_dl, tst_dl,epochs=10,lr=1e-3,\n",
        "                        opt='Adam',progress=True)"
      ],
      "metadata": {
        "colab": {
          "base_uri": "https://localhost:8080/",
          "height": 223,
          "referenced_widgets": [
            "64dd70085ef446979c23fc0c547f3b7e",
            "98eb1db5c2dd4c6eb80257249b32739b",
            "e049315613904836a3b6c76540b31909",
            "90ac14081f3a4852ae388262a8660594",
            "f7d367ad2a4e424289c272f874b611f3",
            "cdcf688ae7394222817b42b09871efca",
            "6442b420485a400aa08b194444dfd961",
            "e8c5b57239fd40cb8a6cd3f8b36d5ca0",
            "d382dc6e4fe84dc6b4217eda7c8e817f",
            "825c4cea8e67437395fe66983d96b8c1",
            "c26672bd02854437ab0e6df7956b6e0d"
          ]
        },
        "id": "Y78SnfNjcJa1",
        "outputId": "58e13c90-fdd9-4d49-ead6-2cb74e65546c"
      },
      "execution_count": 26,
      "outputs": [
        {
          "output_type": "display_data",
          "data": {
            "text/plain": [
              "  0%|          | 0/10 [00:00<?, ?it/s]"
            ],
            "application/vnd.jupyter.widget-view+json": {
              "version_major": 2,
              "version_minor": 0,
              "model_id": "64dd70085ef446979c23fc0c547f3b7e"
            }
          },
          "metadata": {}
        },
        {
          "output_type": "stream",
          "name": "stdout",
          "text": [
            "E00 loss=[ 95.47,140.66] acc=[ 73.73, 55.62] \n",
            "E01 loss=[ 69.69,132.82] acc=[ 83.18, 57.81] \n",
            "E02 loss=[ 52.28,129.45] acc=[ 88.57, 60.31] \n",
            "E03 loss=[ 39.02,130.85] acc=[ 91.01, 58.44] \n",
            "E04 loss=[ 31.67,140.66] acc=[ 92.57, 59.06] \n",
            "E05 loss=[ 25.96,137.25] acc=[ 93.66, 60.31] \n",
            "E06 loss=[ 23.01,138.87] acc=[ 93.74, 60.00] \n",
            "E07 loss=[ 20.43,142.88] acc=[ 94.06, 57.81] \n",
            "E08 loss=[ 19.95,140.52] acc=[ 94.06, 59.69] \n",
            "E09 loss=[ 18.15,146.36] acc=[ 93.74, 56.56] \n"
          ]
        }
      ]
    },
    {
      "cell_type": "code",
      "source": [
        "plot_loss_accuracy(loss_rnnbid, acc_rnnbid)"
      ],
      "metadata": {
        "colab": {
          "base_uri": "https://localhost:8080/",
          "height": 350
        },
        "id": "jvXjPO4JcQwz",
        "outputId": "1b676888-e35f-47fc-ca9c-47c65dccd190"
      },
      "execution_count": 27,
      "outputs": [
        {
          "output_type": "display_data",
          "data": {
            "text/plain": [
              "<Figure size 1152x360 with 2 Axes>"
            ],
            "image/png": "[encoded data removed]"
          },
          "metadata": {
            "needs_background": "light"
          }
        }
      ]
    },
    {
      "cell_type": "markdown",
      "source": [
        "Por el tema del sobreajuste se implementó un ejercicio añadiendo un dropout, los pasos en la pérdida son más pequeños, por lo que también se decidió aumentar el número de épocas. El resultado básicamente es el mismo de los ejercicios anteriores, se sobreajusta muy rápido el modelo."
      ],
      "metadata": {
        "id": "kRgMG3iAfhQG"
      }
    },
    {
      "cell_type": "code",
      "source": [
        "model_RNNBid_drop = RNN(bidirectional=True, p_drop=0.2)\n",
        "loss_rnnbid, acc_rnnbid = train(model_RNNBid_drop, trn_dl, tst_dl,epochs=20,lr=1e-3,\n",
        "                        opt='Adam',progress=True)"
      ],
      "metadata": {
        "colab": {
          "base_uri": "https://localhost:8080/",
          "height": 396,
          "referenced_widgets": [
            "6328f49369d84c1b995597628803a693",
            "0445435baea44ae1b6fa70a9635478be",
            "51284456e8cf4f2b93fd438275c5c8a3",
            "2790c2f2e1c241ebbbb90b4e22791b37",
            "d05698b0157048f78498b0369af92ab3",
            "f47fac05937b457a83c2f2c907443d02",
            "ab764bf5b66a40dc929e7cd87f2243b4",
            "fd0e421aeece46f98a6ca20e4e342d5e",
            "7babef9051db487889ba9973cdc624c8",
            "4f5e2a4b1fef4016971beebfbdfccddb",
            "6e15c8e2d0e149f88219a8a0721ba295"
          ]
        },
        "id": "VHyyovN_cZJW",
        "outputId": "81bc78fa-e525-4656-8c9c-7ed072b270d6"
      },
      "execution_count": 39,
      "outputs": [
        {
          "output_type": "display_data",
          "data": {
            "text/plain": [
              "  0%|          | 0/20 [00:00<?, ?it/s]"
            ],
            "application/vnd.jupyter.widget-view+json": {
              "version_major": 2,
              "version_minor": 0,
              "model_id": "6328f49369d84c1b995597628803a693"
            }
          },
          "metadata": {}
        },
        {
          "output_type": "stream",
          "name": "stdout",
          "text": [
            "E00 loss=[187.07,191.75] acc=[ 40.90, 38.12] \n",
            "E01 loss=[148.74,167.89] acc=[ 54.49, 46.56] \n",
            "E02 loss=[120.08,151.22] acc=[ 65.12, 48.75] \n",
            "E03 loss=[102.01,143.56] acc=[ 69.36, 50.62] \n",
            "E04 loss=[ 83.38,137.89] acc=[ 75.61, 55.62] \n",
            "E05 loss=[ 69.59,135.36] acc=[ 81.61, 55.94] \n",
            "E06 loss=[ 54.35,128.61] acc=[ 87.02, 60.00] \n",
            "E07 loss=[ 44.97,134.20] acc=[ 90.07, 56.88] \n",
            "E08 loss=[ 38.19,130.55] acc=[ 90.39, 57.81] \n",
            "E09 loss=[ 30.10,128.87] acc=[ 92.10, 59.06] \n",
            "E10 loss=[ 26.66,126.55] acc=[ 92.57, 60.62] \n",
            "E11 loss=[ 23.32,135.84] acc=[ 93.36, 58.75] \n",
            "E12 loss=[ 22.28,135.19] acc=[ 92.57, 57.81] \n",
            "E13 loss=[ 20.66,140.29] acc=[ 93.51, 59.69] \n",
            "E14 loss=[ 19.28,141.51] acc=[ 94.13, 57.81] \n",
            "E15 loss=[ 19.21,150.48] acc=[ 94.21, 58.75] \n",
            "E16 loss=[ 17.89,147.59] acc=[ 94.53, 58.75] \n",
            "E17 loss=[ 17.10,150.77] acc=[ 94.45, 58.75] \n",
            "E18 loss=[ 16.24,147.40] acc=[ 94.69, 60.94] \n",
            "E19 loss=[ 16.66,152.65] acc=[ 95.07, 60.00] \n"
          ]
        }
      ]
    },
    {
      "cell_type": "code",
      "source": [
        "plot_loss_accuracy(loss_rnnbid, acc_rnnbid)"
      ],
      "metadata": {
        "colab": {
          "base_uri": "https://localhost:8080/",
          "height": 350
        },
        "id": "zWf0Xif9czd5",
        "outputId": "689737a5-80b0-4dc7-c10b-4c1f617581db"
      },
      "execution_count": 40,
      "outputs": [
        {
          "output_type": "display_data",
          "data": {
            "text/plain": [
              "<Figure size 1152x360 with 2 Axes>"
            ],
            "image/png": "[encoded data removed]"
          },
          "metadata": {
            "needs_background": "light"
          }
        }
      ]
    },
    {
      "cell_type": "markdown",
      "source": [
        "### 4.3 Entrenamiento de la arquitectura CNN"
      ],
      "metadata": {
        "id": "FrLVaYrn8YWH"
      }
    },
    {
      "cell_type": "markdown",
      "source": [
        "A continuación se realiza el entrenamiento con la arquitectura CNN. Al igual que el ejercicio anterior se experimentó con dos tasas de aprendizaje `lr=1e-3` y `lr=1e-4`.\n",
        "\n",
        "El número de parámetros es menor que la arquitectura RNN, pero aún así el modelo sigue sobreajustando cerca de los mismos niveles que la arquitectura anterior. Con `lr=1e-4` se observa de mejor manera dicho problema ya que la función de pérdida del conjunto de entrenamiento sigue bajando pero a las pocas épocas la pérdida del conjunto de prueba se comienza a separar, aunque también sigue bajando"
      ],
      "metadata": {
        "id": "A8jT74VRf7PY"
      }
    },
    {
      "cell_type": "code",
      "source": [
        "loss_cnn, acc_cnn = train(model_CNN, trn_dl, tst_dl,epochs=20,lr=1e-4,\n",
        "                        opt='Adam',progress=True)"
      ],
      "metadata": {
        "colab": {
          "base_uri": "https://localhost:8080/",
          "height": 396,
          "referenced_widgets": [
            "580896ee7abb4a93a0bd0455c9baa182",
            "c0d38f1e305c4db6b1eeff1158c0c615",
            "ec3a598a8a15443bb3217df9f35629ca",
            "998f6d6688494bfa984217233d2688b1",
            "5d2d70838e2846b0a233cf3b9b9f0334",
            "e688d353c2ab4432af4a688df669886a",
            "3f08e77b304242819aae73e49b8b7c75",
            "72fd816f610940419764616d160ae154",
            "07e3e3611a124d0fa10899424c83f465",
            "ee37336a863946b89498fd0b95d4a543",
            "178b5b6b0da7464eb32b0667b8458170"
          ]
        },
        "id": "BdO9rBUJ8YTy",
        "outputId": "b2ac5908-a54f-4b21-d9bb-fb672268cfbe"
      },
      "execution_count": 20,
      "outputs": [
        {
          "output_type": "display_data",
          "data": {
            "text/plain": [
              "  0%|          | 0/20 [00:00<?, ?it/s]"
            ],
            "application/vnd.jupyter.widget-view+json": {
              "version_major": 2,
              "version_minor": 0,
              "model_id": "580896ee7abb4a93a0bd0455c9baa182"
            }
          },
          "metadata": {}
        },
        {
          "output_type": "stream",
          "name": "stdout",
          "text": [
            "E00 loss=[225.72,226.92] acc=[ 27.05, 24.06] \n",
            "E01 loss=[220.31,221.76] acc=[ 29.32, 25.31] \n",
            "E02 loss=[214.65,216.62] acc=[ 29.39, 26.56] \n",
            "E03 loss=[209.30,211.93] acc=[ 30.17, 27.50] \n",
            "E04 loss=[204.02,207.58] acc=[ 31.50, 29.38] \n",
            "E05 loss=[199.25,204.19] acc=[ 32.59, 30.62] \n",
            "E06 loss=[195.09,200.70] acc=[ 34.25, 32.50] \n",
            "E07 loss=[190.39,197.03] acc=[ 36.82, 35.31] \n",
            "E08 loss=[185.73,193.05] acc=[ 39.17, 38.12] \n",
            "E09 loss=[181.76,190.55] acc=[ 41.75, 40.00] \n",
            "E10 loss=[177.76,187.45] acc=[ 43.08, 40.31] \n",
            "E11 loss=[174.43,184.70] acc=[ 44.81, 41.88] \n",
            "E12 loss=[170.59,181.95] acc=[ 45.90, 44.38] \n",
            "E13 loss=[167.21,179.43] acc=[ 46.90, 44.38] \n",
            "E14 loss=[164.02,178.03] acc=[ 47.14, 44.06] \n",
            "E15 loss=[160.89,175.34] acc=[ 48.15, 45.31] \n",
            "E16 loss=[157.77,173.93] acc=[ 49.50, 45.00] \n",
            "E17 loss=[154.78,172.08] acc=[ 50.19, 45.00] \n",
            "E18 loss=[151.91,170.79] acc=[ 51.13, 45.62] \n",
            "E19 loss=[149.05,168.55] acc=[ 52.31, 45.62] \n"
          ]
        }
      ]
    },
    {
      "cell_type": "code",
      "source": [
        "plot_loss_accuracy(loss_cnn, acc_cnn)"
      ],
      "metadata": {
        "colab": {
          "base_uri": "https://localhost:8080/",
          "height": 350
        },
        "id": "VUM86BBdgCeJ",
        "outputId": "fa2a3c5c-47a7-4a9f-b519-847780dd2fc8"
      },
      "execution_count": 21,
      "outputs": [
        {
          "output_type": "display_data",
          "data": {
            "text/plain": [
              "<Figure size 1152x360 with 2 Axes>"
            ],
            "image/png": "[encoded data removed]"
          },
          "metadata": {
            "needs_background": "light"
          }
        }
      ]
    },
    {
      "cell_type": "code",
      "source": [
        "loss_cnn, acc_cnn = train(model_CNN, trn_dl, tst_dl,epochs=10,lr=1e-3,\n",
        "                        opt='Adam',progress=True)"
      ],
      "metadata": {
        "colab": {
          "base_uri": "https://localhost:8080/",
          "height": 223,
          "referenced_widgets": [
            "0e4781a10aff49019caa97dfa3309f9b",
            "25b41333332f44ac9b188eb89a80032a",
            "809d75ae93864f488ade1a4992648c94",
            "da82befb5f9042e9a94c10ba282b5b61",
            "60c0619015c64369bb0d2d739e3f2e4c",
            "284e8df09cb14272862411901865f634",
            "67d40d92eb2648b8ab78950e55ca153d",
            "4a360c90e14e4386931dd128444127e2",
            "c5152f242e6b42d49a48915b53634861",
            "3bf65eb564b54d7aa48d162d9d67dd86",
            "61a583c3464a45c4b37fce6b50fba0b1"
          ]
        },
        "id": "ijgt8jQc8YRd",
        "outputId": "e295eedc-4f13-44af-e4a4-16a99b5a783f"
      },
      "execution_count": 22,
      "outputs": [
        {
          "output_type": "display_data",
          "data": {
            "text/plain": [
              "  0%|          | 0/10 [00:00<?, ?it/s]"
            ],
            "application/vnd.jupyter.widget-view+json": {
              "version_major": 2,
              "version_minor": 0,
              "model_id": "0e4781a10aff49019caa97dfa3309f9b"
            }
          },
          "metadata": {}
        },
        {
          "output_type": "stream",
          "name": "stdout",
          "text": [
            "E00 loss=[136.77,162.02] acc=[ 55.58, 47.50] \n",
            "E01 loss=[124.01,160.87] acc=[ 59.42, 46.56] \n",
            "E02 loss=[111.90,154.25] acc=[ 64.33, 52.19] \n",
            "E03 loss=[102.12,151.40] acc=[ 67.56, 51.25] \n",
            "E04 loss=[ 94.28,153.48] acc=[ 70.91, 52.19] \n",
            "E05 loss=[ 86.90,149.90] acc=[ 74.11, 56.88] \n",
            "E06 loss=[ 88.25,156.20] acc=[ 74.90, 52.50] \n",
            "E07 loss=[ 81.98,159.51] acc=[ 76.86, 52.81] \n",
            "E08 loss=[ 79.18,162.29] acc=[ 75.38, 54.06] \n",
            "E09 loss=[ 69.13,158.09] acc=[ 78.73, 53.44] \n"
          ]
        }
      ]
    },
    {
      "cell_type": "code",
      "source": [
        "plot_loss_accuracy(loss_cnn, acc_cnn)"
      ],
      "metadata": {
        "colab": {
          "base_uri": "https://localhost:8080/",
          "height": 350
        },
        "id": "WzR-B57X8YPA",
        "outputId": "350df0ac-a8a2-4d40-9f60-9b0ccf384166"
      },
      "execution_count": 23,
      "outputs": [
        {
          "output_type": "display_data",
          "data": {
            "text/plain": [
              "<Figure size 1152x360 with 2 Axes>"
            ],
            "image/png": "[encoded data removed]"
          },
          "metadata": {
            "needs_background": "light"
          }
        }
      ]
    },
    {
      "cell_type": "markdown",
      "source": [
        "### 4.3 Entrenamiento con las arquitecturas modificadas"
      ],
      "metadata": {
        "id": "cYDs7fN5Cx3L"
      }
    },
    {
      "cell_type": "markdown",
      "source": [
        "A continuación se realiza el mismo ejercicio pero ahora con las dos arquitecturas modificadas de tal manera que tengan un número similar de parámetros.\n",
        "\n",
        "El problema del sobreajuste persiste en ambas arquitecturas modificadas, en el caso de la RNN, como hipótesis, tal vez al disminuir la expresividad en la capa completamente conectada al disminuir las neuronas de entrada, dado que el accuracy aumenta muy poco en función de las épocas.\n",
        "\n",
        "En el caso de la CNN, sigue un comportamiento similar del ejercicio anterior, las funciones de pérdida van disminuyendo, solo que la pérdida del entrenamiento disminuye a una razón mayor que la pérdidad de la prueba."
      ],
      "metadata": {
        "id": "IAlvXNxEiLHR"
      }
    },
    {
      "cell_type": "markdown",
      "source": [
        "#### 4.3.1 Arquitectura RNN modificada"
      ],
      "metadata": {
        "id": "bvhVcF0TiewG"
      }
    },
    {
      "cell_type": "code",
      "source": [
        "loss_rnnbid_M, acc_rnnbid_M = train(model_RNNBid_M, trn_dl, tst_dl,epochs=20,lr=1e-4,\n",
        "                        opt='Adam',progress=True)"
      ],
      "metadata": {
        "colab": {
          "base_uri": "https://localhost:8080/",
          "height": 396,
          "referenced_widgets": [
            "42dd5eaf1abe42ce95e213d03523d9c8",
            "870aad313c124c7abd0f29abb324eb46",
            "ce3a2abed43b40d8aeec551796fe482b",
            "6c6ce74f7a5e40abadb9db9c17dedbd3",
            "5addfa4883b947d28b4942e585b10202",
            "155c73efe7274b21ba0e9840be2622ed",
            "d7c4fb1d907d4226be59cec4bb12b1c7",
            "cf200daca38142d3b8ef6eadcbca2608",
            "b885549f7e3e46dd807f488e916d9e88",
            "d7893504c6dc40f7b780d7e67e4793cf",
            "602b5951efaa4d87a7ffa45fecbf0051"
          ]
        },
        "id": "Ew04YuvhCxpd",
        "outputId": "a9e10637-8524-4170-85bf-05939337aff0"
      },
      "execution_count": 26,
      "outputs": [
        {
          "output_type": "display_data",
          "data": {
            "text/plain": [
              "  0%|          | 0/20 [00:00<?, ?it/s]"
            ],
            "application/vnd.jupyter.widget-view+json": {
              "version_major": 2,
              "version_minor": 0,
              "model_id": "42dd5eaf1abe42ce95e213d03523d9c8"
            }
          },
          "metadata": {}
        },
        {
          "output_type": "stream",
          "name": "stdout",
          "text": [
            "E00 loss=[232.85,234.99] acc=[ 17.19, 16.56] \n",
            "E01 loss=[232.17,234.33] acc=[ 17.67, 17.19] \n",
            "E02 loss=[231.54,233.73] acc=[ 18.13, 17.81] \n",
            "E03 loss=[231.11,233.45] acc=[ 17.91, 17.81] \n",
            "E04 loss=[230.52,232.83] acc=[ 18.77, 18.44] \n",
            "E05 loss=[229.87,232.40] acc=[ 19.15, 18.75] \n",
            "E06 loss=[229.30,232.11] acc=[ 19.24, 17.81] \n",
            "E07 loss=[228.81,231.81] acc=[ 19.63, 18.44] \n",
            "E08 loss=[228.22,231.15] acc=[ 19.31, 18.44] \n",
            "E09 loss=[227.73,231.01] acc=[ 20.96, 19.38] \n",
            "E10 loss=[227.27,230.63] acc=[ 21.50, 19.69] \n",
            "E11 loss=[226.71,230.02] acc=[ 21.03, 19.06] \n",
            "E12 loss=[226.29,230.10] acc=[ 21.19, 17.81] \n",
            "E13 loss=[225.74,229.36] acc=[ 22.60, 20.31] \n",
            "E14 loss=[225.20,229.24] acc=[ 21.66, 18.44] \n",
            "E15 loss=[224.67,228.79] acc=[ 22.04, 16.88] \n",
            "E16 loss=[224.12,228.41] acc=[ 22.92, 17.50] \n",
            "E17 loss=[223.59,228.05] acc=[ 22.99, 18.44] \n",
            "E18 loss=[223.09,227.91] acc=[ 23.37, 18.12] \n",
            "E19 loss=[222.62,227.40] acc=[ 24.24, 19.38] \n"
          ]
        }
      ]
    },
    {
      "cell_type": "code",
      "source": [
        "plot_loss_accuracy(loss_rnnbid_M, acc_rnnbid_M)"
      ],
      "metadata": {
        "colab": {
          "base_uri": "https://localhost:8080/",
          "height": 350
        },
        "id": "9rcngEM-iVMU",
        "outputId": "c5f654c8-4ec6-4350-b245-6045728fa595"
      },
      "execution_count": 27,
      "outputs": [
        {
          "output_type": "display_data",
          "data": {
            "text/plain": [
              "<Figure size 1152x360 with 2 Axes>"
            ],
            "image/png": "[encoded data removed]"
          },
          "metadata": {
            "needs_background": "light"
          }
        }
      ]
    },
    {
      "cell_type": "code",
      "source": [
        "loss_rnnbid_M, acc_rnnbid_M = train(model_RNNBid_M, trn_dl, tst_dl,epochs=10,lr=1e-3,\n",
        "                        opt='Adam',progress=True)"
      ],
      "metadata": {
        "colab": {
          "base_uri": "https://localhost:8080/",
          "height": 223,
          "referenced_widgets": [
            "286dcf51aae448feb0cd10119ea47d5a",
            "7fc5b93aa3904862b271ff1df3dc7fe8",
            "6a626de1cf764813b1d1445659d3b2fc",
            "483324f4a56f42599074ae464774e244",
            "876258aa115f42499dc2a3d3c1fd311c",
            "0a00b788966747e4b72715fc1e6f88f6",
            "9f3a75ef72f64db3a3946c084e960fb9",
            "5776f32bcfea428e8502d9c57c6d2529",
            "3cb5e39676ab4caa84df589697814dc1",
            "322425f9278d4774be6d8521081e45df",
            "e1634e4927544d90a9497a8cee9daa4e"
          ]
        },
        "id": "RkeiEncTC794",
        "outputId": "c6b7a0f4-a56a-4f96-9ca0-6e27a020a47b"
      },
      "execution_count": 28,
      "outputs": [
        {
          "output_type": "display_data",
          "data": {
            "text/plain": [
              "  0%|          | 0/10 [00:00<?, ?it/s]"
            ],
            "application/vnd.jupyter.widget-view+json": {
              "version_major": 2,
              "version_minor": 0,
              "model_id": "286dcf51aae448feb0cd10119ea47d5a"
            }
          },
          "metadata": {}
        },
        {
          "output_type": "stream",
          "name": "stdout",
          "text": [
            "E00 loss=[218.28,224.60] acc=[ 27.44, 20.62] \n",
            "E01 loss=[214.04,221.72] acc=[ 29.71, 24.06] \n",
            "E02 loss=[209.78,218.87] acc=[ 34.02, 26.88] \n",
            "E03 loss=[206.12,216.27] acc=[ 34.55, 27.19] \n",
            "E04 loss=[202.64,214.21] acc=[ 35.88, 27.81] \n",
            "E05 loss=[199.02,211.87] acc=[ 38.93, 29.06] \n",
            "E06 loss=[195.11,209.68] acc=[ 40.58, 29.06] \n",
            "E07 loss=[191.59,207.68] acc=[ 42.14, 30.62] \n",
            "E08 loss=[187.75,205.30] acc=[ 43.39, 30.31] \n",
            "E09 loss=[184.12,203.18] acc=[ 44.33, 31.56] \n"
          ]
        }
      ]
    },
    {
      "cell_type": "code",
      "source": [
        "plot_loss_accuracy(loss_rnnbid_M, acc_rnnbid_M)"
      ],
      "metadata": {
        "colab": {
          "base_uri": "https://localhost:8080/",
          "height": 350
        },
        "id": "svDJmRwFivDg",
        "outputId": "443a7579-9862-487f-d9a9-9ca93083d2fb"
      },
      "execution_count": 29,
      "outputs": [
        {
          "output_type": "display_data",
          "data": {
            "text/plain": [
              "<Figure size 1152x360 with 2 Axes>"
            ],
            "image/png": "[encoded data removed]"
          },
          "metadata": {
            "needs_background": "light"
          }
        }
      ]
    },
    {
      "cell_type": "markdown",
      "source": [
        "#### 4.3.2 Arquitectura CNN modificada"
      ],
      "metadata": {
        "id": "GwgFoTIViwQm"
      }
    },
    {
      "cell_type": "code",
      "source": [
        "loss_cnn_M, acc_cnn_M = train(model_CNN_M, trn_dl, tst_dl,epochs=20,lr=1e-4,\n",
        "                        opt='Adam',progress=True)"
      ],
      "metadata": {
        "colab": {
          "base_uri": "https://localhost:8080/",
          "height": 396,
          "referenced_widgets": [
            "de2348a90ba9445ea91c965c84ce01bf",
            "1f9ef8ae5d5e43afaacdcb7863155106",
            "d351a02ca4484dedaae6cf7af1e37c35",
            "41c6d508c9a443f39b0e23e8ebc878c6",
            "2941f1240ab540e5bd4547f3b919be33",
            "e97826651afd4e19b869949d14823f8e",
            "d0d441f0ac2d49589ef47eab854e4030",
            "b49a94c817494da4922eb575ae5b51b9",
            "60d17b7f42d84ef3bdf8c9aed827efb1",
            "eb7b285038b9449d96737bb0ce651d25",
            "7ed03709ca7b4b1892cc39be19e2d386"
          ]
        },
        "id": "xJZmKgt8p5-c",
        "outputId": "b58fbfcd-1159-4e71-a1e8-f911e1d200ad"
      },
      "execution_count": 30,
      "outputs": [
        {
          "output_type": "display_data",
          "data": {
            "text/plain": [
              "  0%|          | 0/20 [00:00<?, ?it/s]"
            ],
            "application/vnd.jupyter.widget-view+json": {
              "version_major": 2,
              "version_minor": 0,
              "model_id": "de2348a90ba9445ea91c965c84ce01bf"
            }
          },
          "metadata": {}
        },
        {
          "output_type": "stream",
          "name": "stdout",
          "text": [
            "E00 loss=[239.42,239.50] acc=[ 11.35,  8.12] \n",
            "E01 loss=[236.41,236.48] acc=[ 22.67, 17.50] \n",
            "E02 loss=[229.40,229.58] acc=[ 25.56, 22.19] \n",
            "E03 loss=[222.36,222.84] acc=[ 26.50, 23.44] \n",
            "E04 loss=[215.94,216.98] acc=[ 26.66, 24.06] \n",
            "E05 loss=[210.17,212.38] acc=[ 29.62, 25.62] \n",
            "E06 loss=[205.13,208.20] acc=[ 30.97, 27.50] \n",
            "E07 loss=[200.03,204.13] acc=[ 33.22, 29.06] \n",
            "E08 loss=[195.09,199.99] acc=[ 34.57, 30.94] \n",
            "E09 loss=[190.81,197.07] acc=[ 36.59, 31.88] \n",
            "E10 loss=[186.61,193.81] acc=[ 38.71, 34.38] \n",
            "E11 loss=[183.11,190.93] acc=[ 40.67, 34.69] \n",
            "E12 loss=[179.09,187.89] acc=[ 42.77, 37.19] \n",
            "E13 loss=[175.50,184.76] acc=[ 43.77, 40.00] \n",
            "E14 loss=[172.08,182.76] acc=[ 45.20, 41.88] \n",
            "E15 loss=[168.90,180.34] acc=[ 46.36, 43.12] \n",
            "E16 loss=[165.62,178.45] acc=[ 47.15, 42.19] \n",
            "E17 loss=[162.62,176.30] acc=[ 48.48, 43.44] \n",
            "E18 loss=[159.68,174.93] acc=[ 49.18, 43.12] \n",
            "E19 loss=[156.73,172.49] acc=[ 49.73, 43.12] \n"
          ]
        }
      ]
    },
    {
      "cell_type": "code",
      "source": [
        "plot_loss_accuracy(loss_cnn_M, acc_cnn_M)"
      ],
      "metadata": {
        "colab": {
          "base_uri": "https://localhost:8080/",
          "height": 350
        },
        "id": "tedKV_ySDgie",
        "outputId": "0d79606a-44d2-4557-d70a-1f8cec51bf86"
      },
      "execution_count": 31,
      "outputs": [
        {
          "output_type": "display_data",
          "data": {
            "text/plain": [
              "<Figure size 1152x360 with 2 Axes>"
            ],
            "image/png": "[encoded data removed]"
          },
          "metadata": {
            "needs_background": "light"
          }
        }
      ]
    },
    {
      "cell_type": "code",
      "source": [
        "loss_cnn_M, acc_cnn_M = train(model_CNN_M, trn_dl, tst_dl,epochs=10,lr=1e-3,\n",
        "                        opt='Adam',progress=True)"
      ],
      "metadata": {
        "id": "sMyAmIVDFnRW",
        "colab": {
          "base_uri": "https://localhost:8080/",
          "height": 223,
          "referenced_widgets": [
            "820c3aa54536480db83859e575d9240e",
            "041b7b811bea4aa5a63a37a7ec6c5ece",
            "190c6d19a2414430a5975202d6ab2d09",
            "a6105e6854af4730a5d362e25f067b78",
            "9b33b6dd16014b5486a2e36ef51574fd",
            "09ccd397e2534e979595365971c323fe",
            "786e7758695d4813b23ac0f873a713eb",
            "0509373d88024f22bd74e3cc36198e9e",
            "232fab8039b6477a932d9187c43d1f89",
            "eb31129c6e8f441fb27e96335d8cfa00",
            "f65dcdd5a90a424196d814b03ccf9c7b"
          ]
        },
        "outputId": "d9692fd9-3538-4132-bf20-c0ac4e94278d"
      },
      "execution_count": 32,
      "outputs": [
        {
          "output_type": "display_data",
          "data": {
            "text/plain": [
              "  0%|          | 0/10 [00:00<?, ?it/s]"
            ],
            "application/vnd.jupyter.widget-view+json": {
              "version_major": 2,
              "version_minor": 0,
              "model_id": "820c3aa54536480db83859e575d9240e"
            }
          },
          "metadata": {}
        },
        {
          "output_type": "stream",
          "name": "stdout",
          "text": [
            "E00 loss=[143.85,165.33] acc=[ 53.87, 49.06] \n",
            "E01 loss=[130.82,162.28] acc=[ 57.86, 49.06] \n",
            "E02 loss=[119.67,155.76] acc=[ 61.68, 50.31] \n",
            "E03 loss=[109.57,152.91] acc=[ 64.12, 50.94] \n",
            "E04 loss=[103.14,153.24] acc=[ 68.02, 53.12] \n",
            "E05 loss=[ 95.95,150.48] acc=[ 68.56, 52.81] \n",
            "E06 loss=[ 96.90,154.78] acc=[ 72.87, 54.69] \n",
            "E07 loss=[ 92.49,159.30] acc=[ 73.10, 54.38] \n",
            "E08 loss=[ 89.93,162.10] acc=[ 72.95, 53.44] \n",
            "E09 loss=[ 80.68,160.45] acc=[ 75.77, 53.75] \n"
          ]
        }
      ]
    },
    {
      "cell_type": "code",
      "source": [
        "plot_loss_accuracy(loss_cnn_M, acc_cnn_M)"
      ],
      "metadata": {
        "colab": {
          "base_uri": "https://localhost:8080/",
          "height": 350
        },
        "id": "5gfdn_GJjCNN",
        "outputId": "62401c8c-8eaf-4f3c-d4a7-771a77659002"
      },
      "execution_count": 33,
      "outputs": [
        {
          "output_type": "display_data",
          "data": {
            "text/plain": [
              "<Figure size 1152x360 with 2 Axes>"
            ],
            "image/png": "[encoded data removed]"
          },
          "metadata": {
            "needs_background": "light"
          }
        }
      ]
    }
  ]
}